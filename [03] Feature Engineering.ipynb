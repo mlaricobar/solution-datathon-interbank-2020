{
  "nbformat": 4,
  "nbformat_minor": 0,
  "metadata": {
    "colab": {
      "name": "Welcome To Colaboratory",
      "provenance": [],
      "collapsed_sections": [],
      "include_colab_link": true
    },
    "kernelspec": {
      "display_name": "Python 3",
      "name": "python3"
    }
  },
  "cells": [
    {
      "cell_type": "markdown",
      "metadata": {
        "id": "view-in-github",
        "colab_type": "text"
      },
      "source": [
        "<a href=\"https://colab.research.google.com/github/mlaricobar/solution-datathon-interbank-2020/blob/desarrollo/%5B03%5D%20Feature%20Engineering.ipynb\" target=\"_parent\"><img src=\"https://colab.research.google.com/assets/colab-badge.svg\" alt=\"Open In Colab\"/></a>"
      ]
    },
    {
      "cell_type": "markdown",
      "metadata": {
        "id": "YxxJTgsCqdQn"
      },
      "source": [
        "# Feature Engineering"
      ]
    },
    {
      "cell_type": "code",
      "metadata": {
        "id": "VLUmnZDrqe0e"
      },
      "source": [
        "from google.colab import drive, files\n",
        "\n",
        "import pandas as pd\n",
        "\n",
        "from datetime import datetime\n",
        "from dateutil import relativedelta"
      ],
      "execution_count": 1,
      "outputs": []
    },
    {
      "cell_type": "code",
      "metadata": {
        "id": "If5QUE85qfhC",
        "colab": {
          "base_uri": "https://localhost:8080/"
        },
        "outputId": "ed810c6c-3c5d-4870-c8d5-90fc5bbaf57d"
      },
      "source": [
        "drive.mount('/gdrive')"
      ],
      "execution_count": 2,
      "outputs": [
        {
          "output_type": "stream",
          "text": [
            "Mounted at /gdrive\n"
          ],
          "name": "stdout"
        }
      ]
    },
    {
      "cell_type": "code",
      "metadata": {
        "id": "oTaBGhKUqgoW",
        "colab": {
          "base_uri": "https://localhost:8080/"
        },
        "outputId": "eb3a2e91-6dd9-4448-a28c-28006be69cf2"
      },
      "source": [
        "%cd /gdrive/'My Drive'/Competencias/'[02] Interbank-2020'\n",
        "!ls -lh '[00] Data'"
      ],
      "execution_count": 3,
      "outputs": [
        {
          "output_type": "stream",
          "text": [
            "/gdrive/My Drive/Competencias/[02] Interbank-2020\n",
            "total 5.1G\n",
            "-rw------- 1 root root 979M Dec 12 01:33 censo_test.csv\n",
            "-rw------- 1 root root 748M Dec 12 01:34 censo_train.csv\n",
            "-rw------- 1 root root  998 Dec 12 01:34 productos.csv\n",
            "-rw------- 1 root root 1.7G Dec 12 01:34 rcc_test.csv\n",
            "-rw------- 1 root root 1.4G Dec 12 01:35 rcc_train.csv\n",
            "-rw------- 1 root root 3.3M Dec 12 01:35 sample_submission.csv\n",
            "-rw------- 1 root root  30M Dec 12 01:35 se_test.csv\n",
            "-rw------- 1 root root  28M Dec 12 01:35 se_train.csv\n",
            "-rw------- 1 root root 122M Dec 12 01:35 sunat_test.csv\n",
            "-rw------- 1 root root 106M Dec 12 01:35 sunat_train.csv\n",
            "-rw------- 1 root root 3.0M Dec 12 01:35 y_train.csv\n"
          ],
          "name": "stdout"
        }
      ]
    },
    {
      "cell_type": "code",
      "metadata": {
        "id": "XOPmAEl6q9MD"
      },
      "source": [
        "def optimizar_df(df):\n",
        "  for col_ in df.select_dtypes(include=[int]).columns:\n",
        "    df[col_] = pd.to_numeric(df[col_], downcast=\"unsigned\")\n",
        "\n",
        "  for col_ in df.select_dtypes(include=[float]).columns:\n",
        "    df[col_] = pd.to_numeric(df[col_], downcast=\"float\")\n",
        "  \n",
        "  return df"
      ],
      "execution_count": 4,
      "outputs": []
    },
    {
      "cell_type": "markdown",
      "metadata": {
        "id": "NgUPLWDk4QZS"
      },
      "source": [
        "## Dataset Base"
      ]
    },
    {
      "cell_type": "code",
      "metadata": {
        "id": "sndstOVCyo8U"
      },
      "source": [
        "df_base_train = optimizar_df(pd.read_csv(\"[00] Data/y_train.csv\"))\n",
        "df_base_test = optimizar_df(pd.read_csv(\"[00] Data/sample_submission.csv\"))"
      ],
      "execution_count": 5,
      "outputs": []
    },
    {
      "cell_type": "markdown",
      "metadata": {
        "id": "xiSwJhvzxwDP"
      },
      "source": [
        "## Dataset Socio-Demográfico"
      ]
    },
    {
      "cell_type": "code",
      "metadata": {
        "id": "LvFWUizWurhZ"
      },
      "source": [
        "df_se_train = optimizar_df(pd.read_csv(\"[00] Data/se_train.csv\"))\n",
        "df_se_test = optimizar_df(pd.read_csv(\"[00] Data/se_test.csv\"))"
      ],
      "execution_count": 6,
      "outputs": []
    },
    {
      "cell_type": "code",
      "metadata": {
        "colab": {
          "base_uri": "https://localhost:8080/",
          "height": 198
        },
        "id": "l9AgU2nFzfJY",
        "outputId": "914158e9-58e2-4eac-a315-0164875f2877"
      },
      "source": [
        "df_se_train.head()"
      ],
      "execution_count": 7,
      "outputs": [
        {
          "output_type": "execute_result",
          "data": {
            "text/html": [
              "<div>\n",
              "<style scoped>\n",
              "    .dataframe tbody tr th:only-of-type {\n",
              "        vertical-align: middle;\n",
              "    }\n",
              "\n",
              "    .dataframe tbody tr th {\n",
              "        vertical-align: top;\n",
              "    }\n",
              "\n",
              "    .dataframe thead th {\n",
              "        text-align: right;\n",
              "    }\n",
              "</style>\n",
              "<table border=\"1\" class=\"dataframe\">\n",
              "  <thead>\n",
              "    <tr style=\"text-align: right;\">\n",
              "      <th></th>\n",
              "      <th>key_value</th>\n",
              "      <th>edad</th>\n",
              "      <th>sexo</th>\n",
              "      <th>est_cvl</th>\n",
              "      <th>sit_lab</th>\n",
              "      <th>cod_ocu</th>\n",
              "      <th>ctd_hijos</th>\n",
              "      <th>flg_sin_email</th>\n",
              "      <th>ctd_veh</th>\n",
              "      <th>cod_ubi</th>\n",
              "      <th>lgr_vot</th>\n",
              "      <th>prv</th>\n",
              "      <th>dto</th>\n",
              "      <th>rgn</th>\n",
              "      <th>tip_lvledu</th>\n",
              "    </tr>\n",
              "  </thead>\n",
              "  <tbody>\n",
              "    <tr>\n",
              "      <th>0</th>\n",
              "      <td>0</td>\n",
              "      <td>-0.983651</td>\n",
              "      <td>1</td>\n",
              "      <td>4</td>\n",
              "      <td>2</td>\n",
              "      <td>22</td>\n",
              "      <td>0.0</td>\n",
              "      <td>1</td>\n",
              "      <td>0.0</td>\n",
              "      <td>-0.070167</td>\n",
              "      <td>17</td>\n",
              "      <td>47</td>\n",
              "      <td>687</td>\n",
              "      <td>4</td>\n",
              "      <td>0</td>\n",
              "    </tr>\n",
              "    <tr>\n",
              "      <th>1</th>\n",
              "      <td>1</td>\n",
              "      <td>0.000953</td>\n",
              "      <td>1</td>\n",
              "      <td>4</td>\n",
              "      <td>1</td>\n",
              "      <td>22</td>\n",
              "      <td>0.0</td>\n",
              "      <td>1</td>\n",
              "      <td>1.0</td>\n",
              "      <td>-0.738566</td>\n",
              "      <td>10</td>\n",
              "      <td>186</td>\n",
              "      <td>849</td>\n",
              "      <td>6</td>\n",
              "      <td>0</td>\n",
              "    </tr>\n",
              "    <tr>\n",
              "      <th>2</th>\n",
              "      <td>2</td>\n",
              "      <td>0.531124</td>\n",
              "      <td>0</td>\n",
              "      <td>4</td>\n",
              "      <td>1</td>\n",
              "      <td>22</td>\n",
              "      <td>0.0</td>\n",
              "      <td>1</td>\n",
              "      <td>0.0</td>\n",
              "      <td>-0.297248</td>\n",
              "      <td>15</td>\n",
              "      <td>84</td>\n",
              "      <td>1405</td>\n",
              "      <td>1</td>\n",
              "      <td>7</td>\n",
              "    </tr>\n",
              "    <tr>\n",
              "      <th>3</th>\n",
              "      <td>3</td>\n",
              "      <td>-1.135129</td>\n",
              "      <td>0</td>\n",
              "      <td>4</td>\n",
              "      <td>1</td>\n",
              "      <td>22</td>\n",
              "      <td>0.0</td>\n",
              "      <td>1</td>\n",
              "      <td>0.0</td>\n",
              "      <td>-1.203435</td>\n",
              "      <td>4</td>\n",
              "      <td>9</td>\n",
              "      <td>977</td>\n",
              "      <td>6</td>\n",
              "      <td>7</td>\n",
              "    </tr>\n",
              "    <tr>\n",
              "      <th>4</th>\n",
              "      <td>4</td>\n",
              "      <td>-1.438084</td>\n",
              "      <td>0</td>\n",
              "      <td>4</td>\n",
              "      <td>1</td>\n",
              "      <td>22</td>\n",
              "      <td>0.0</td>\n",
              "      <td>1</td>\n",
              "      <td>0.0</td>\n",
              "      <td>0.043424</td>\n",
              "      <td>18</td>\n",
              "      <td>111</td>\n",
              "      <td>391</td>\n",
              "      <td>3</td>\n",
              "      <td>0</td>\n",
              "    </tr>\n",
              "  </tbody>\n",
              "</table>\n",
              "</div>"
            ],
            "text/plain": [
              "   key_value      edad  sexo  est_cvl  ...  prv   dto  rgn  tip_lvledu\n",
              "0          0 -0.983651     1        4  ...   47   687    4           0\n",
              "1          1  0.000953     1        4  ...  186   849    6           0\n",
              "2          2  0.531124     0        4  ...   84  1405    1           7\n",
              "3          3 -1.135129     0        4  ...    9   977    6           7\n",
              "4          4 -1.438084     0        4  ...  111   391    3           0\n",
              "\n",
              "[5 rows x 15 columns]"
            ]
          },
          "metadata": {
            "tags": []
          },
          "execution_count": 7
        }
      ]
    },
    {
      "cell_type": "code",
      "metadata": {
        "id": "BsfGSVq259rp",
        "outputId": "a987cc95-5379-4dd2-da21-bc6e77677f3e",
        "colab": {
          "base_uri": "https://localhost:8080/"
        }
      },
      "source": [
        "print(df_se_train[\"edad\"].min(), df_se_train[\"edad\"].max())\n",
        "print(df_se_train[\"cod_ubi\"].min(), df_se_train[\"cod_ubi\"].max())\n",
        "print(df_se_test[\"edad\"].min(), df_se_test[\"edad\"].max())\n",
        "print(df_se_test[\"cod_ubi\"].min(), df_se_test[\"cod_ubi\"].max())"
      ],
      "execution_count": 8,
      "outputs": [
        {
          "output_type": "stream",
          "text": [
            "-2.4226877689361572 5.302666187286377\n",
            "-1.549017310142517 9.250945091247559\n",
            "-2.1197328567504883 4.242323398590088\n",
            "-1.549017310142517 9.250945091247559\n"
          ],
          "name": "stdout"
        }
      ]
    },
    {
      "cell_type": "code",
      "metadata": {
        "id": "5sI6XxSgz7jd"
      },
      "source": [
        "df_se_train.to_csv(\"[01] Intermediate/ds_se.csv\", index=False)\n",
        "df_se_test.to_csv(\"[01] Intermediate/ds_se_test.csv\", index=False)"
      ],
      "execution_count": 14,
      "outputs": []
    },
    {
      "cell_type": "markdown",
      "metadata": {
        "id": "Q0ApGQ8SqwWW"
      },
      "source": [
        "## Dataset RCC"
      ]
    },
    {
      "cell_type": "code",
      "metadata": {
        "id": "hcaI9FoaqtHB"
      },
      "source": [
        "df_rcc_train = optimizar_df(pd.read_csv(\"[00] Data/rcc_train.csv\"))\n",
        "df_rcc_test = optimizar_df(pd.read_csv(\"[00] Data/rcc_test.csv\"))"
      ],
      "execution_count": 9,
      "outputs": []
    },
    {
      "cell_type": "code",
      "metadata": {
        "id": "P0fXCtZOnTe4"
      },
      "source": [
        "df_rcc_train[\"saldo\"] = df_rcc_train[\"saldo\"] + 1\n",
        "df_rcc_test[\"saldo\"] = df_rcc_test[\"saldo\"] + 1"
      ],
      "execution_count": 16,
      "outputs": []
    },
    {
      "cell_type": "code",
      "metadata": {
        "id": "564fcwNpqZav"
      },
      "source": [
        "#round(df_rcc_train[[\"saldo\"]].describe(percentiles=[.25, .5, .75, .9, .95, .99]), 2)\n",
        "#round(df_rcc_test[[\"saldo\"]].describe(percentiles=[.25, .5, .75, .9, .95, .99]), 2)"
      ],
      "execution_count": null,
      "outputs": []
    },
    {
      "cell_type": "code",
      "metadata": {
        "id": "nfk7rw10b58E"
      },
      "source": [
        "def diff_months(codmes_ini, codmes_fin):\n",
        "  r = relativedelta.relativedelta(datetime.strptime(str(int(codmes_fin)), '%Y%m'), datetime.strptime(str(int(codmes_ini)), '%Y%m'))\n",
        "  return r.years*12 + r.months"
      ],
      "execution_count": 17,
      "outputs": []
    },
    {
      "cell_type": "code",
      "metadata": {
        "id": "y8gu6WnV0yX_"
      },
      "source": [
        "def hist_feat_generator(cat_col, numeric_value, agg_func, df_base, df_base_test):\n",
        "\n",
        "  df_rcc_crosstab = (pd.crosstab(index=[df_rcc_train.key_value, df_rcc_train.codmes], \n",
        "                                columns=df_rcc_train[cat_col], \n",
        "                                values=df_rcc_train[numeric_value],\n",
        "                                aggfunc=agg_func)\n",
        "                      .reset_index(drop=False)\n",
        "                      .reset_index(drop=True))\n",
        "  df_rcc_crosstab.columns = [\"{0}_{1}_FOR_{2}_{3}\".format(numeric_value.upper(), agg_func.upper(), cat_col, c) if c not in [\"key_value\", \"codmes\"] else c for c in df_rcc_crosstab.columns]\n",
        "\n",
        "  feat_cols = [c for c in df_rcc_crosstab.columns if \"{0}_\".format(cat_col) in c]\n",
        "  df_rcc_crosstab[\"MEAN_OF_{0}_{1}_FOR_ALL_{2}\".format(numeric_value.upper(), agg_func.upper(), cat_col)] = df_rcc_crosstab[feat_cols].mean(axis=1)\n",
        "  df_rcc_crosstab[\"SUM_OF_{0}_{1}_FOR_ALL_{2}\".format(numeric_value.upper(), agg_func.upper(), cat_col)] = df_rcc_crosstab[feat_cols].sum(axis=1)\n",
        "  df_rcc_crosstab[\"COUNT_OF_{0}_{1}_FOR_ALL_{2}\".format(numeric_value.upper(), agg_func.upper(), cat_col)] = df_rcc_crosstab[feat_cols].count(axis=1)\n",
        "\n",
        "  df_rcc_test_crosstab = (pd.crosstab(index=[df_rcc_test.key_value, df_rcc_test.codmes], \n",
        "                                columns=df_rcc_test[cat_col], \n",
        "                                values=df_rcc_test[numeric_value],\n",
        "                                aggfunc=agg_func)\n",
        "                      .reset_index(drop=False)\n",
        "                      .reset_index(drop=True))\n",
        "  df_rcc_test_crosstab.columns = [\"{0}_{1}_FOR_{2}_{3}\".format(numeric_value.upper(), agg_func.upper(), cat_col, c) if c not in [\"key_value\", \"codmes\"] else c for c in df_rcc_test_crosstab.columns]\n",
        "\n",
        "  feat_cols = [c for c in df_rcc_test_crosstab.columns if \"{0}_\".format(cat_col) in c]\n",
        "  df_rcc_test_crosstab[\"MEAN_OF_{0}_{1}_FOR_ALL_{2}\".format(numeric_value.upper(), agg_func.upper(), cat_col)] = df_rcc_test_crosstab[feat_cols].mean(axis=1)\n",
        "  df_rcc_test_crosstab[\"SUM_OF_{0}_{1}_FOR_ALL_{2}\".format(numeric_value.upper(), agg_func.upper(), cat_col)] = df_rcc_test_crosstab[feat_cols].sum(axis=1)\n",
        "  df_rcc_test_crosstab[\"COUNT_OF_{0}_{1}_FOR_ALL_{2}\".format(numeric_value.upper(), agg_func.upper(), cat_col)] = df_rcc_test_crosstab[feat_cols].count(axis=1)\n",
        "\n",
        "  agg_col_dict = {\"codmes\": [\"last\", \"first\"]}\n",
        "  agg_col_dict.update({c: [\"mean\", \"sum\", \"count\"] for c in df_rcc_crosstab.columns if c not in [\"key_value\", \"codmes\"]})\n",
        "\n",
        "  for month_level in [\"U03M\", \"U06M\", \"U12M\"]:\n",
        "    print(\"\\t\\t\\tFeatures at month level: {0}\".format(month_level))\n",
        "    df_rcc_agg = (df_rcc_crosstab.loc[df_rcc_crosstab[\"codmes\"].isin(month_dict[month_level])]\n",
        "                                .groupby([\"key_value\"], as_index=False)\n",
        "                                .agg(agg_col_dict)\n",
        "                    )\n",
        "    df_rcc_agg.columns = [month_level + \"_\" + \"_\".join(c).upper() if c[-1] != \"\" else c[0] for c in df_rcc_agg.columns]\n",
        "\n",
        "    df_rcc_agg[\"{0}_RECENCY_FOR_{1}\".format(month_level, cat_col)] = df_rcc_agg.apply(lambda row: diff_months(row[\"{0}_CODMES_LAST\".format(month_level)], 201803), axis=1)\n",
        "    df_rcc_agg[\"{0}_LONG_RECENCY_FOR_{1}\".format(month_level, cat_col)] = df_rcc_agg.apply(lambda row: diff_months(row[\"{0}_CODMES_FIRST\".format(month_level)], 201803), axis=1)\n",
        "    df_rcc_agg[\"{0}_DIFF_MONTHS_FIRST_LAST_FOR_{1}\".format(month_level, cat_col)] = df_rcc_agg.apply(lambda row: diff_months(row[\"{0}_CODMES_FIRST\".format(month_level)], row[\"{0}_CODMES_LAST\".format(month_level)]), axis=1)\n",
        "    del df_rcc_agg[\"{0}_CODMES_FIRST\".format(month_level, cat_col)]\n",
        "    del df_rcc_agg[\"{0}_CODMES_LAST\".format(month_level, cat_col)]\n",
        "\n",
        "    df_rcc_test_agg = (df_rcc_test_crosstab.loc[df_rcc_test_crosstab[\"codmes\"].isin(month_dict_test[month_level])]\n",
        "                                .groupby([\"key_value\"], as_index=False)\n",
        "                                .agg(agg_col_dict)\n",
        "                       )\n",
        "    df_rcc_test_agg.columns = [month_level + \"_\" + \"_\".join(c).upper() if c[-1] != \"\" else c[0] for c in df_rcc_test_agg.columns]\n",
        "    \n",
        "    df_rcc_test_agg[\"{0}_RECENCY_FOR_{1}\".format(month_level, cat_col)] = df_rcc_test_agg.apply(lambda row: diff_months(row[\"{0}_CODMES_LAST\".format(month_level)], 201903), axis=1)\n",
        "    df_rcc_test_agg[\"{0}_LONG_RECENCY_FOR_{1}\".format(month_level, cat_col)] = df_rcc_test_agg.apply(lambda row: diff_months(row[\"{0}_CODMES_FIRST\".format(month_level)], 201903), axis=1)\n",
        "    df_rcc_test_agg[\"{0}_DIFF_MONTHS_FIRST_LAST_FOR_{1}\".format(month_level, cat_col)] = df_rcc_test_agg.apply(lambda row: diff_months(row[\"{0}_CODMES_FIRST\".format(month_level)], row[\"{0}_CODMES_LAST\".format(month_level)]), axis=1)\n",
        "    del df_rcc_test_agg[\"{0}_CODMES_FIRST\".format(month_level, cat_col)]\n",
        "    del df_rcc_test_agg[\"{0}_CODMES_LAST\".format(month_level, cat_col)]\n",
        "\n",
        "    df_base = df_base.merge(df_rcc_agg, how=\"left\", on=\"key_value\")\n",
        "    df_base_test = df_base_test.merge(df_rcc_test_agg, how=\"left\", on=\"key_value\")\n",
        "\n",
        "  return df_base, df_base_test"
      ],
      "execution_count": 18,
      "outputs": []
    },
    {
      "cell_type": "code",
      "metadata": {
        "id": "lFWxkdUSMGaU"
      },
      "source": [
        "month_dict = {\"U12M\": [201802, 201801, 201712, 201711, 201710, 201709, 201708, 201707, 201706, 201705, 201704, 201703],\n",
        "              \"U06M\": [201802, 201801, 201712, 201711, 201710, 201709],\n",
        "              \"U03M\": [201802, 201801, 201712],\n",
        "              \"U01M\": [201802]\n",
        "              }\n",
        "\n",
        "month_dict_test = {\"U12M\": [201902, 201901, 201812, 201811, 201810, 201809, 201808, 201807, 201806, 201805, 201804, 201803],\n",
        "              \"U06M\": [201902, 201901, 201812, 201811, 201810, 201809],\n",
        "              \"U03M\": [201902, 201901, 201812],\n",
        "              \"U01M\": [201902]\n",
        "              }"
      ],
      "execution_count": 19,
      "outputs": []
    },
    {
      "cell_type": "markdown",
      "metadata": {
        "id": "MQo9IWMH2ZGJ"
      },
      "source": [
        "#### **Variable Producto**"
      ]
    },
    {
      "cell_type": "code",
      "metadata": {
        "id": "R7KT1r4qYEpO",
        "colab": {
          "base_uri": "https://localhost:8080/"
        },
        "outputId": "16538732-36f5-40f6-88d7-6c5f2caf04c3"
      },
      "source": [
        "top_freq_products = [1, 2, 3, 8, 255, 4, 0, 6]\n",
        "top_propensity_products = [12, 17, 18, 25, 20]\n",
        "low_propensity_products = [32, 33, 35, 36, 37, 38, 40, 41]\n",
        "list_product = top_freq_products + top_propensity_products + low_propensity_products\n",
        "print(list_product)"
      ],
      "execution_count": 20,
      "outputs": [
        {
          "output_type": "stream",
          "text": [
            "[1, 2, 3, 8, 255, 4, 0, 6, 12, 17, 18, 25, 20, 32, 33, 35, 36, 37, 38, 40, 41]\n"
          ],
          "name": "stdout"
        }
      ]
    },
    {
      "cell_type": "code",
      "metadata": {
        "id": "iAJthkm6F7ay"
      },
      "source": [
        "df_rcc_test[\"PRODUCTO\"] = df_rcc_test[\"PRODUCTO\"].fillna(255)\n",
        "df_rcc_test[\"PRODUCTO\"] = df_rcc_test[\"PRODUCTO\"].astype(int)"
      ],
      "execution_count": 21,
      "outputs": []
    },
    {
      "cell_type": "code",
      "metadata": {
        "id": "gZuKiLToYHcQ"
      },
      "source": [
        "cat_col = \"PRODUCTO\"\n",
        "df_rcc_train.loc[~df_rcc_train[cat_col].isin(list_product), cat_col] = \"OTROS\"\n",
        "df_rcc_train.loc[df_rcc_train[cat_col].isin(top_propensity_products), cat_col] = \"TOP_PROPENSITY\"\n",
        "df_rcc_train.loc[df_rcc_train[cat_col].isin(low_propensity_products), cat_col] = \"LOW_PROPENSITY\"\n",
        "\n",
        "df_rcc_test.loc[~df_rcc_test[cat_col].isin(list_product), cat_col] = \"OTROS\"\n",
        "df_rcc_test.loc[df_rcc_test[cat_col].isin(top_propensity_products), cat_col] = \"TOP_PROPENSITY\"\n",
        "df_rcc_test.loc[df_rcc_test[cat_col].isin(low_propensity_products), cat_col] = \"LOW_PROPENSITY\""
      ],
      "execution_count": 22,
      "outputs": []
    },
    {
      "cell_type": "markdown",
      "metadata": {
        "id": "19N5Ao5MRR6W"
      },
      "source": [
        "#### **Variable Institucion Financiera**"
      ]
    },
    {
      "cell_type": "code",
      "metadata": {
        "colab": {
          "base_uri": "https://localhost:8080/"
        },
        "id": "CILvcGmOlXQa",
        "outputId": "52e7c239-e337-43ae-dd5c-1fa37ba126db"
      },
      "source": [
        "top_freq_instits = [34, 1, 10, 28, 11, 37, 0, 2]\n",
        "top_propensity_instits = [9, 26, 89, 105, 99, 39, 97, 90, 108, 106, 107, 95, 49, 94, 100, 77, 91, 96, 6, 69, 104, 85, 70, 88, 93, 101, 75, 80, 73, 76, 52, 46, 68, 71, 92, 63, 60, 55, 65] # [74, 5]\n",
        "low_propensity_instits = [12, 86, 47, 14, 78, 84] #[67, 66, 87, 98, 72, 31, 81]\n",
        "list_instit = top_freq_instits + top_propensity_instits + low_propensity_instits\n",
        "print(list_instit)"
      ],
      "execution_count": 23,
      "outputs": [
        {
          "output_type": "stream",
          "text": [
            "[34, 1, 10, 28, 11, 37, 0, 2, 9, 26, 89, 105, 99, 39, 97, 90, 108, 106, 107, 95, 49, 94, 100, 77, 91, 96, 6, 69, 104, 85, 70, 88, 93, 101, 75, 80, 73, 76, 52, 46, 68, 71, 92, 63, 60, 55, 65, 12, 86, 47, 14, 78, 84]\n"
          ],
          "name": "stdout"
        }
      ]
    },
    {
      "cell_type": "code",
      "metadata": {
        "id": "MQVXzMADp6ML"
      },
      "source": [
        "df_rcc_test[\"cod_instit_financiera\"] = df_rcc_test[\"cod_instit_financiera\"].fillna(255)\n",
        "df_rcc_test[\"cod_instit_financiera\"] = df_rcc_test[\"cod_instit_financiera\"].astype(int)"
      ],
      "execution_count": 24,
      "outputs": []
    },
    {
      "cell_type": "code",
      "metadata": {
        "id": "S7O87AB-lXKK"
      },
      "source": [
        "df_rcc_train[\"cod_instit_financiera\"] = df_rcc_train[\"cod_instit_financiera\"]\n",
        "df_rcc_train.loc[df_rcc_train[\"cod_instit_financiera\"].isin(top_propensity_instits), \"cod_instit_financiera\"] = \"TOP_PROPENSITY\"\n",
        "df_rcc_train.loc[df_rcc_train[\"cod_instit_financiera\"].isin(low_propensity_instits), \"cod_instit_financiera\"] = \"LOW_PROPENSITY\"\n",
        "df_rcc_train.loc[~df_rcc_train[\"cod_instit_financiera\"].isin(list_instit), \"cod_instit_financiera\"] = \"OTROS\""
      ],
      "execution_count": 25,
      "outputs": []
    },
    {
      "cell_type": "code",
      "metadata": {
        "id": "A5zwznMQldN1"
      },
      "source": [
        "df_rcc_test[\"cod_instit_financiera\"] = df_rcc_test[\"cod_instit_financiera\"]\n",
        "df_rcc_test.loc[df_rcc_test[\"cod_instit_financiera\"].isin(top_propensity_instits), \"cod_instit_financiera\"] = \"TOP_PROPENSITY\"\n",
        "df_rcc_test.loc[df_rcc_test[\"cod_instit_financiera\"].isin(low_propensity_instits), \"cod_instit_financiera\"] = \"LOW_PROPENSITY\"\n",
        "df_rcc_test.loc[~df_rcc_test[\"cod_instit_financiera\"].isin(list_instit), \"cod_instit_financiera\"] = \"OTROS\""
      ],
      "execution_count": 26,
      "outputs": []
    },
    {
      "cell_type": "markdown",
      "metadata": {
        "id": "JuTgpSnO-mxe"
      },
      "source": [
        "#### **Variable Condición como categórica**"
      ]
    },
    {
      "cell_type": "code",
      "metadata": {
        "id": "WR-Z2593-m-Q"
      },
      "source": [
        "df_rcc_train[\"condicion_cat\"] = df_rcc_train[\"condicion\"].apply(lambda c: 0 if c == 0 else \"00_03\" if c < 90 else  \"03_06\" if c < 180 else \"06_12\" if c < 365 else \"12-32\" if c < 960 else \">32\")\n",
        "df_rcc_test[\"condicion_cat\"] = df_rcc_test[\"condicion\"].apply(lambda c: 0 if c == 0 else \"00_03\" if c < 90 else  \"03_06\" if c < 180 else \"06_12\" if c < 365 else \"12-32\" if c < 960 else \">32\")"
      ],
      "execution_count": 27,
      "outputs": []
    },
    {
      "cell_type": "code",
      "metadata": {
        "colab": {
          "base_uri": "https://localhost:8080/"
        },
        "id": "6cI0LQSWC0oA",
        "outputId": "c3fc327c-57c4-4d06-c07c-22fc2f146c3a"
      },
      "source": [
        "df_rcc_train[\"condicion_cat\"].value_counts(normalize=True, dropna=False)"
      ],
      "execution_count": 28,
      "outputs": [
        {
          "output_type": "execute_result",
          "data": {
            "text/plain": [
              "0        0.966859\n",
              "00_03    0.022446\n",
              ">32      0.005332\n",
              "12-32    0.002580\n",
              "03_06    0.001442\n",
              "06_12    0.001340\n",
              "Name: condicion_cat, dtype: float64"
            ]
          },
          "metadata": {
            "tags": []
          },
          "execution_count": 28
        }
      ]
    },
    {
      "cell_type": "code",
      "metadata": {
        "colab": {
          "base_uri": "https://localhost:8080/"
        },
        "id": "4vwU_P1TC4ox",
        "outputId": "a3de5c4d-e49c-46c4-ad98-70204799b14d"
      },
      "source": [
        "df_rcc_test[\"condicion_cat\"].value_counts(normalize=True, dropna=False)"
      ],
      "execution_count": 29,
      "outputs": [
        {
          "output_type": "execute_result",
          "data": {
            "text/plain": [
              "0        0.967486\n",
              "00_03    0.019706\n",
              ">32      0.006578\n",
              "12-32    0.002869\n",
              "06_12    0.001725\n",
              "03_06    0.001636\n",
              "Name: condicion_cat, dtype: float64"
            ]
          },
          "metadata": {
            "tags": []
          },
          "execution_count": 29
        }
      ]
    },
    {
      "cell_type": "markdown",
      "metadata": {
        "id": "HpHJOQc2-yXT"
      },
      "source": [
        "#### **Generando los features**"
      ]
    },
    {
      "cell_type": "code",
      "metadata": {
        "id": "ydDuDQ7lvcja"
      },
      "source": [
        "df_base = df_base_train[[\"key_value\"]].copy()\n",
        "df_base_test = df_base_test[[\"key_value\"]].copy()"
      ],
      "execution_count": 31,
      "outputs": []
    },
    {
      "cell_type": "code",
      "metadata": {
        "colab": {
          "base_uri": "https://localhost:8080/"
        },
        "id": "X8Y3BV3-A20d",
        "outputId": "410db727-343b-4c4a-91e2-9249186bea27"
      },
      "source": [
        "for cat_col in [\"PRODUCTO\", \"cod_instit_financiera\", \"condicion_cat\"]:\n",
        "  print(\"Cat Feature: {0}\".format(cat_col))\n",
        "  for numeric_value in [\"saldo\"]:\n",
        "    print(\"\\tNumeric Feature: {0}\".format(numeric_value))\n",
        "    for agg_func in [\"mean\"]:\n",
        "      print(\"\\t\\tAgg func: {0}\".format(agg_func))\n",
        "      df_base, df_base_test = hist_feat_generator(cat_col, numeric_value, agg_func, df_base, df_base_test)"
      ],
      "execution_count": 32,
      "outputs": [
        {
          "output_type": "stream",
          "text": [
            "Cat Feature: PRODUCTO\n",
            "\tNumeric Feature: saldo\n",
            "\t\tAgg func: mean\n",
            "\t\t\tFeatures at month level: U03M\n",
            "\t\t\tFeatures at month level: U06M\n",
            "\t\t\tFeatures at month level: U12M\n",
            "Cat Feature: cod_instit_financiera\n",
            "\tNumeric Feature: saldo\n",
            "\t\tAgg func: mean\n",
            "\t\t\tFeatures at month level: U03M\n",
            "\t\t\tFeatures at month level: U06M\n",
            "\t\t\tFeatures at month level: U12M\n",
            "Cat Feature: condicion_cat\n",
            "\tNumeric Feature: saldo\n",
            "\t\tAgg func: mean\n",
            "\t\t\tFeatures at month level: U03M\n",
            "\t\t\tFeatures at month level: U06M\n",
            "\t\t\tFeatures at month level: U12M\n"
          ],
          "name": "stdout"
        }
      ]
    },
    {
      "cell_type": "code",
      "metadata": {
        "colab": {
          "base_uri": "https://localhost:8080/"
        },
        "id": "5WBrS9CewrVJ",
        "outputId": "6e84c511-bd61-4d89-f682-f4321b623ac5"
      },
      "source": [
        "df_base.shape, df_base_test.shape"
      ],
      "execution_count": 33,
      "outputs": [
        {
          "output_type": "execute_result",
          "data": {
            "text/plain": [
              "((358487, 343), (396609, 343))"
            ]
          },
          "metadata": {
            "tags": []
          },
          "execution_count": 33
        }
      ]
    },
    {
      "cell_type": "code",
      "metadata": {
        "id": "NKY12w8ACwFg",
        "outputId": "804276ea-253f-4b16-fa22-0ae1d3a37a30",
        "colab": {
          "base_uri": "https://localhost:8080/"
        }
      },
      "source": [
        "df_base.shape, df_base_test.shape"
      ],
      "execution_count": 34,
      "outputs": [
        {
          "output_type": "execute_result",
          "data": {
            "text/plain": [
              "((358487, 343), (396609, 343))"
            ]
          },
          "metadata": {
            "tags": []
          },
          "execution_count": 34
        }
      ]
    },
    {
      "cell_type": "markdown",
      "metadata": {
        "id": "DBomSulksqI1"
      },
      "source": [
        "#### **Exportando el dataset de RCC**"
      ]
    },
    {
      "cell_type": "code",
      "metadata": {
        "id": "siMV3Grndn0f"
      },
      "source": [
        "df_base.to_csv(\"[01] Intermediate/ds_rcc.csv\", index=False)\n",
        "df_base_test.to_csv(\"[01] Intermediate/ds_rcc_test.csv\", index=False)"
      ],
      "execution_count": 35,
      "outputs": []
    },
    {
      "cell_type": "markdown",
      "metadata": {
        "id": "2d-RwyYmJM6v"
      },
      "source": [
        "## SUNAT"
      ]
    },
    {
      "cell_type": "code",
      "metadata": {
        "id": "VAHOO-gLJP9i"
      },
      "source": [
        "df_sunat_train = optimizar_df(pd.read_csv(\"[00] Data/sunat_train.csv\")).drop_duplicates()\n",
        "df_sunat_test = optimizar_df(pd.read_csv(\"[00] Data/sunat_test.csv\")).drop_duplicates()"
      ],
      "execution_count": 6,
      "outputs": []
    },
    {
      "cell_type": "code",
      "metadata": {
        "id": "M6An2wQ8KrOP",
        "outputId": "f261ba7f-3345-4309-fa60-9cf183835aea",
        "colab": {
          "base_uri": "https://localhost:8080/"
        }
      },
      "source": [
        "df_sunat_train.info()"
      ],
      "execution_count": 10,
      "outputs": [
        {
          "output_type": "stream",
          "text": [
            "<class 'pandas.core.frame.DataFrame'>\n",
            "Int64Index: 292479 entries, 0 to 1462035\n",
            "Data columns (total 18 columns):\n",
            " #   Column               Non-Null Count   Dtype  \n",
            "---  ------               --------------   -----  \n",
            " 0   key_value            292479 non-null  uint32 \n",
            " 1   tipcontribuyente     292479 non-null  uint8  \n",
            " 2   tippersona           292479 non-null  uint8  \n",
            " 3   ciiu                 292479 non-null  uint16 \n",
            " 4   ubigeo               292479 non-null  uint16 \n",
            " 5   condiciondomicilio   292479 non-null  uint8  \n",
            " 6   estadocontribuyente  292479 non-null  uint8  \n",
            " 7   fecalta              272027 non-null  float32\n",
            " 8   fecbaja              46802 non-null   float32\n",
            " 9   codvia               292479 non-null  uint8  \n",
            " 10  codzona              292479 non-null  uint8  \n",
            " 11  contabilidad         292479 non-null  uint8  \n",
            " 12  facturacion          292479 non-null  uint8  \n",
            " 13  domiciliado          292479 non-null  uint8  \n",
            " 14  comercioexterior     292479 non-null  uint8  \n",
            " 15  cargorele            292479 non-null  uint16 \n",
            " 16  codentidadtributo    292479 non-null  uint8  \n",
            " 17  estadotributo        292479 non-null  uint8  \n",
            "dtypes: float32(2), uint16(3), uint32(1), uint8(12)\n",
            "memory usage: 10.6 MB\n"
          ],
          "name": "stdout"
        }
      ]
    },
    {
      "cell_type": "code",
      "metadata": {
        "id": "dDoxv8PjJalW",
        "outputId": "624e6b1e-ae4f-4705-fb42-cfb75dda8b1d",
        "colab": {
          "base_uri": "https://localhost:8080/",
          "height": 218
        }
      },
      "source": [
        "df_sunat_train.head()"
      ],
      "execution_count": 7,
      "outputs": [
        {
          "output_type": "execute_result",
          "data": {
            "text/html": [
              "<div>\n",
              "<style scoped>\n",
              "    .dataframe tbody tr th:only-of-type {\n",
              "        vertical-align: middle;\n",
              "    }\n",
              "\n",
              "    .dataframe tbody tr th {\n",
              "        vertical-align: top;\n",
              "    }\n",
              "\n",
              "    .dataframe thead th {\n",
              "        text-align: right;\n",
              "    }\n",
              "</style>\n",
              "<table border=\"1\" class=\"dataframe\">\n",
              "  <thead>\n",
              "    <tr style=\"text-align: right;\">\n",
              "      <th></th>\n",
              "      <th>key_value</th>\n",
              "      <th>tipcontribuyente</th>\n",
              "      <th>tippersona</th>\n",
              "      <th>ciiu</th>\n",
              "      <th>ubigeo</th>\n",
              "      <th>condiciondomicilio</th>\n",
              "      <th>estadocontribuyente</th>\n",
              "      <th>fecalta</th>\n",
              "      <th>fecbaja</th>\n",
              "      <th>codvia</th>\n",
              "      <th>codzona</th>\n",
              "      <th>contabilidad</th>\n",
              "      <th>facturacion</th>\n",
              "      <th>domiciliado</th>\n",
              "      <th>comercioexterior</th>\n",
              "      <th>cargorele</th>\n",
              "      <th>codentidadtributo</th>\n",
              "      <th>estadotributo</th>\n",
              "    </tr>\n",
              "  </thead>\n",
              "  <tbody>\n",
              "    <tr>\n",
              "      <th>0</th>\n",
              "      <td>190597</td>\n",
              "      <td>9</td>\n",
              "      <td>0</td>\n",
              "      <td>178</td>\n",
              "      <td>442</td>\n",
              "      <td>0</td>\n",
              "      <td>0</td>\n",
              "      <td>-0.785832</td>\n",
              "      <td>NaN</td>\n",
              "      <td>0</td>\n",
              "      <td>0</td>\n",
              "      <td>6</td>\n",
              "      <td>11</td>\n",
              "      <td>0</td>\n",
              "      <td>1</td>\n",
              "      <td>635</td>\n",
              "      <td>8</td>\n",
              "      <td>2</td>\n",
              "    </tr>\n",
              "    <tr>\n",
              "      <th>1</th>\n",
              "      <td>162813</td>\n",
              "      <td>0</td>\n",
              "      <td>0</td>\n",
              "      <td>253</td>\n",
              "      <td>449</td>\n",
              "      <td>0</td>\n",
              "      <td>0</td>\n",
              "      <td>0.971584</td>\n",
              "      <td>NaN</td>\n",
              "      <td>20</td>\n",
              "      <td>0</td>\n",
              "      <td>6</td>\n",
              "      <td>11</td>\n",
              "      <td>0</td>\n",
              "      <td>1</td>\n",
              "      <td>635</td>\n",
              "      <td>8</td>\n",
              "      <td>2</td>\n",
              "    </tr>\n",
              "    <tr>\n",
              "      <th>2</th>\n",
              "      <td>190620</td>\n",
              "      <td>9</td>\n",
              "      <td>0</td>\n",
              "      <td>173</td>\n",
              "      <td>473</td>\n",
              "      <td>0</td>\n",
              "      <td>2</td>\n",
              "      <td>0.025283</td>\n",
              "      <td>-1.561407</td>\n",
              "      <td>11</td>\n",
              "      <td>0</td>\n",
              "      <td>6</td>\n",
              "      <td>11</td>\n",
              "      <td>0</td>\n",
              "      <td>1</td>\n",
              "      <td>635</td>\n",
              "      <td>8</td>\n",
              "      <td>2</td>\n",
              "    </tr>\n",
              "    <tr>\n",
              "      <th>3</th>\n",
              "      <td>43886</td>\n",
              "      <td>0</td>\n",
              "      <td>0</td>\n",
              "      <td>285</td>\n",
              "      <td>154</td>\n",
              "      <td>0</td>\n",
              "      <td>0</td>\n",
              "      <td>0.566027</td>\n",
              "      <td>NaN</td>\n",
              "      <td>11</td>\n",
              "      <td>3</td>\n",
              "      <td>6</td>\n",
              "      <td>11</td>\n",
              "      <td>0</td>\n",
              "      <td>1</td>\n",
              "      <td>635</td>\n",
              "      <td>8</td>\n",
              "      <td>2</td>\n",
              "    </tr>\n",
              "    <tr>\n",
              "      <th>4</th>\n",
              "      <td>255211</td>\n",
              "      <td>0</td>\n",
              "      <td>0</td>\n",
              "      <td>285</td>\n",
              "      <td>456</td>\n",
              "      <td>0</td>\n",
              "      <td>0</td>\n",
              "      <td>0.836399</td>\n",
              "      <td>NaN</td>\n",
              "      <td>11</td>\n",
              "      <td>3</td>\n",
              "      <td>6</td>\n",
              "      <td>11</td>\n",
              "      <td>0</td>\n",
              "      <td>1</td>\n",
              "      <td>635</td>\n",
              "      <td>8</td>\n",
              "      <td>2</td>\n",
              "    </tr>\n",
              "  </tbody>\n",
              "</table>\n",
              "</div>"
            ],
            "text/plain": [
              "   key_value  tipcontribuyente  ...  codentidadtributo  estadotributo\n",
              "0     190597                 9  ...                  8              2\n",
              "1     162813                 0  ...                  8              2\n",
              "2     190620                 9  ...                  8              2\n",
              "3      43886                 0  ...                  8              2\n",
              "4     255211                 0  ...                  8              2\n",
              "\n",
              "[5 rows x 18 columns]"
            ]
          },
          "metadata": {
            "tags": []
          },
          "execution_count": 7
        }
      ]
    },
    {
      "cell_type": "code",
      "metadata": {
        "id": "ZRrLBpegLR3W"
      },
      "source": [
        ""
      ],
      "execution_count": 19,
      "outputs": []
    },
    {
      "cell_type": "code",
      "metadata": {
        "id": "4WuvSLn0MM6f"
      },
      "source": [
        "from scipy import stats"
      ],
      "execution_count": null,
      "outputs": []
    },
    {
      "cell_type": "code",
      "metadata": {
        "id": "1ZVES25zKke0"
      },
      "source": [
        "df_sunat_train_agg = df_sunat_train.groupby(\"key_value\", as_index=False).agg({c: stats.mode for c in df_sunat_train.columns if c not in [\"key_value\", \"fecalta\", \"fecbaja\"]})"
      ],
      "execution_count": 20,
      "outputs": []
    },
    {
      "cell_type": "code",
      "metadata": {
        "id": "jjKMndoMM2H9"
      },
      "source": [
        "df_sunat_test_agg = df_sunat_test.groupby(\"key_value\", as_index=False).agg({c: stats.mode for c in df_sunat_test.columns if c not in [\"key_value\", \"fecalta\", \"fecbaja\"]})"
      ],
      "execution_count": 21,
      "outputs": []
    },
    {
      "cell_type": "code",
      "metadata": {
        "id": "yECG686cMl2H"
      },
      "source": [
        "for col in [c for c in df_sunat_train.columns if c not in [\"key_value\", \"fecalta\", \"fecbaja\"]]:\n",
        "  df_sunat_train_agg[col] = df_sunat_train_agg[col].apply(lambda t: t[0][0])\n",
        "  df_sunat_test_agg[col] = df_sunat_test_agg[col].apply(lambda t: t[0][0])"
      ],
      "execution_count": 36,
      "outputs": []
    },
    {
      "cell_type": "code",
      "metadata": {
        "id": "a4JXmwfpRXku"
      },
      "source": [
        "df_sunat_train_fecha = df_sunat_train.groupby(\"key_value\", as_index=False).agg({\"fecalta\": [\"min\", \"max\", \"mean\"], \"fecbaja\": [\"min\", \"max\", \"mean\"]})\n",
        "df_sunat_test_fecha = df_sunat_test.groupby(\"key_value\", as_index=False).agg({\"fecalta\": [\"min\", \"max\", \"mean\"], \"fecbaja\": [\"min\", \"max\", \"mean\"]})"
      ],
      "execution_count": 37,
      "outputs": []
    },
    {
      "cell_type": "code",
      "metadata": {
        "id": "7qCiCDHoSFyp"
      },
      "source": [
        "df_sunat_train_fecha.columns = [\"SUNAT\" + \"_\".join(c).upper() if c[-1] != \"\" else c[0] for c in df_sunat_train_fecha.columns]\n",
        "df_sunat_test_fecha.columns = [\"SUNAT\" + \"_\".join(c).upper() if c[-1] != \"\" else c[0] for c in df_sunat_test_fecha.columns]"
      ],
      "execution_count": 38,
      "outputs": []
    },
    {
      "cell_type": "code",
      "metadata": {
        "id": "Oxm8NmNBSfIS"
      },
      "source": [
        "df_sunat_train_agg = df_sunat_train_agg.merge(df_sunat_train_fecha, how=\"left\", on=\"key_value\")\n",
        "df_sunat_test_agg = df_sunat_test_agg.merge(df_sunat_test_fecha, how=\"left\", on=\"key_value\")"
      ],
      "execution_count": 40,
      "outputs": []
    },
    {
      "cell_type": "code",
      "metadata": {
        "id": "vSL6es9kSz5q"
      },
      "source": [
        "df_sunat_train_agg.to_csv(\"[01] Intermediate/ds_sunat.csv\", index=False)\n",
        "df_sunat_test_agg.to_csv(\"[01] Intermediate/ds_sunat_test.csv\", index=False)"
      ],
      "execution_count": 43,
      "outputs": []
    },
    {
      "cell_type": "code",
      "metadata": {
        "id": "Zyo5jeQjRE_h",
        "outputId": "72e4960a-4581-45b9-efa9-f88f04468a68",
        "colab": {
          "base_uri": "https://localhost:8080/",
          "height": 218
        }
      },
      "source": [
        "df_sunat_test_agg.head()"
      ],
      "execution_count": 42,
      "outputs": [
        {
          "output_type": "execute_result",
          "data": {
            "text/html": [
              "<div>\n",
              "<style scoped>\n",
              "    .dataframe tbody tr th:only-of-type {\n",
              "        vertical-align: middle;\n",
              "    }\n",
              "\n",
              "    .dataframe tbody tr th {\n",
              "        vertical-align: top;\n",
              "    }\n",
              "\n",
              "    .dataframe thead th {\n",
              "        text-align: right;\n",
              "    }\n",
              "</style>\n",
              "<table border=\"1\" class=\"dataframe\">\n",
              "  <thead>\n",
              "    <tr style=\"text-align: right;\">\n",
              "      <th></th>\n",
              "      <th>key_value</th>\n",
              "      <th>tipcontribuyente</th>\n",
              "      <th>tippersona</th>\n",
              "      <th>ciiu</th>\n",
              "      <th>ubigeo</th>\n",
              "      <th>condiciondomicilio</th>\n",
              "      <th>estadocontribuyente</th>\n",
              "      <th>codvia</th>\n",
              "      <th>codzona</th>\n",
              "      <th>contabilidad</th>\n",
              "      <th>facturacion</th>\n",
              "      <th>domiciliado</th>\n",
              "      <th>comercioexterior</th>\n",
              "      <th>cargorele</th>\n",
              "      <th>codentidadtributo</th>\n",
              "      <th>estadotributo</th>\n",
              "      <th>SUNATFECALTA_MIN</th>\n",
              "      <th>SUNATFECALTA_MAX</th>\n",
              "      <th>SUNATFECALTA_MEAN</th>\n",
              "      <th>SUNATFECBAJA_MIN</th>\n",
              "      <th>SUNATFECBAJA_MAX</th>\n",
              "      <th>SUNATFECBAJA_MEAN</th>\n",
              "    </tr>\n",
              "  </thead>\n",
              "  <tbody>\n",
              "    <tr>\n",
              "      <th>0</th>\n",
              "      <td>0</td>\n",
              "      <td>0</td>\n",
              "      <td>0</td>\n",
              "      <td>255</td>\n",
              "      <td>473</td>\n",
              "      <td>0</td>\n",
              "      <td>0</td>\n",
              "      <td>3</td>\n",
              "      <td>3</td>\n",
              "      <td>6</td>\n",
              "      <td>11</td>\n",
              "      <td>0</td>\n",
              "      <td>2</td>\n",
              "      <td>635</td>\n",
              "      <td>8</td>\n",
              "      <td>2</td>\n",
              "      <td>0.566027</td>\n",
              "      <td>0.566027</td>\n",
              "      <td>0.566027</td>\n",
              "      <td>NaN</td>\n",
              "      <td>NaN</td>\n",
              "      <td>NaN</td>\n",
              "    </tr>\n",
              "    <tr>\n",
              "      <th>1</th>\n",
              "      <td>2</td>\n",
              "      <td>0</td>\n",
              "      <td>0</td>\n",
              "      <td>244</td>\n",
              "      <td>473</td>\n",
              "      <td>0</td>\n",
              "      <td>0</td>\n",
              "      <td>0</td>\n",
              "      <td>3</td>\n",
              "      <td>6</td>\n",
              "      <td>11</td>\n",
              "      <td>0</td>\n",
              "      <td>1</td>\n",
              "      <td>635</td>\n",
              "      <td>8</td>\n",
              "      <td>2</td>\n",
              "      <td>1.377142</td>\n",
              "      <td>1.377142</td>\n",
              "      <td>1.377142</td>\n",
              "      <td>NaN</td>\n",
              "      <td>NaN</td>\n",
              "      <td>NaN</td>\n",
              "    </tr>\n",
              "    <tr>\n",
              "      <th>2</th>\n",
              "      <td>4</td>\n",
              "      <td>0</td>\n",
              "      <td>0</td>\n",
              "      <td>285</td>\n",
              "      <td>1109</td>\n",
              "      <td>0</td>\n",
              "      <td>0</td>\n",
              "      <td>3</td>\n",
              "      <td>3</td>\n",
              "      <td>6</td>\n",
              "      <td>11</td>\n",
              "      <td>0</td>\n",
              "      <td>2</td>\n",
              "      <td>635</td>\n",
              "      <td>8</td>\n",
              "      <td>2</td>\n",
              "      <td>1.377142</td>\n",
              "      <td>1.377142</td>\n",
              "      <td>1.377142</td>\n",
              "      <td>NaN</td>\n",
              "      <td>NaN</td>\n",
              "      <td>NaN</td>\n",
              "    </tr>\n",
              "    <tr>\n",
              "      <th>3</th>\n",
              "      <td>5</td>\n",
              "      <td>9</td>\n",
              "      <td>0</td>\n",
              "      <td>177</td>\n",
              "      <td>674</td>\n",
              "      <td>0</td>\n",
              "      <td>3</td>\n",
              "      <td>3</td>\n",
              "      <td>3</td>\n",
              "      <td>2</td>\n",
              "      <td>11</td>\n",
              "      <td>0</td>\n",
              "      <td>2</td>\n",
              "      <td>635</td>\n",
              "      <td>8</td>\n",
              "      <td>2</td>\n",
              "      <td>1.106770</td>\n",
              "      <td>1.106770</td>\n",
              "      <td>1.106770</td>\n",
              "      <td>1.422525</td>\n",
              "      <td>1.422525</td>\n",
              "      <td>1.422525</td>\n",
              "    </tr>\n",
              "    <tr>\n",
              "      <th>4</th>\n",
              "      <td>7</td>\n",
              "      <td>0</td>\n",
              "      <td>0</td>\n",
              "      <td>285</td>\n",
              "      <td>500</td>\n",
              "      <td>0</td>\n",
              "      <td>0</td>\n",
              "      <td>3</td>\n",
              "      <td>10</td>\n",
              "      <td>6</td>\n",
              "      <td>11</td>\n",
              "      <td>0</td>\n",
              "      <td>2</td>\n",
              "      <td>635</td>\n",
              "      <td>8</td>\n",
              "      <td>2</td>\n",
              "      <td>1.782700</td>\n",
              "      <td>1.782700</td>\n",
              "      <td>1.782700</td>\n",
              "      <td>NaN</td>\n",
              "      <td>NaN</td>\n",
              "      <td>NaN</td>\n",
              "    </tr>\n",
              "  </tbody>\n",
              "</table>\n",
              "</div>"
            ],
            "text/plain": [
              "   key_value  tipcontribuyente  ...  SUNATFECBAJA_MAX  SUNATFECBAJA_MEAN\n",
              "0          0                 0  ...               NaN                NaN\n",
              "1          2                 0  ...               NaN                NaN\n",
              "2          4                 0  ...               NaN                NaN\n",
              "3          5                 9  ...          1.422525           1.422525\n",
              "4          7                 0  ...               NaN                NaN\n",
              "\n",
              "[5 rows x 22 columns]"
            ]
          },
          "metadata": {
            "tags": []
          },
          "execution_count": 42
        }
      ]
    },
    {
      "cell_type": "code",
      "metadata": {
        "id": "Ja_yyMqiJaiW",
        "outputId": "b6461bf2-232b-4c5b-b063-27584b4d078a",
        "colab": {
          "base_uri": "https://localhost:8080/",
          "height": 407
        }
      },
      "source": [
        "df_sunat_train.groupby(\"key_value\", as_index=False).agg({\"tipcontribuyente\": \"count\"}).sort_values(by=\"tipcontribuyente\", ascending=False)"
      ],
      "execution_count": 8,
      "outputs": [
        {
          "output_type": "execute_result",
          "data": {
            "text/html": [
              "<div>\n",
              "<style scoped>\n",
              "    .dataframe tbody tr th:only-of-type {\n",
              "        vertical-align: middle;\n",
              "    }\n",
              "\n",
              "    .dataframe tbody tr th {\n",
              "        vertical-align: top;\n",
              "    }\n",
              "\n",
              "    .dataframe thead th {\n",
              "        text-align: right;\n",
              "    }\n",
              "</style>\n",
              "<table border=\"1\" class=\"dataframe\">\n",
              "  <thead>\n",
              "    <tr style=\"text-align: right;\">\n",
              "      <th></th>\n",
              "      <th>key_value</th>\n",
              "      <th>tipcontribuyente</th>\n",
              "    </tr>\n",
              "  </thead>\n",
              "  <tbody>\n",
              "    <tr>\n",
              "      <th>172663</th>\n",
              "      <td>262090</td>\n",
              "      <td>96</td>\n",
              "    </tr>\n",
              "    <tr>\n",
              "      <th>80409</th>\n",
              "      <td>121911</td>\n",
              "      <td>63</td>\n",
              "    </tr>\n",
              "    <tr>\n",
              "      <th>57921</th>\n",
              "      <td>87603</td>\n",
              "      <td>51</td>\n",
              "    </tr>\n",
              "    <tr>\n",
              "      <th>149929</th>\n",
              "      <td>227523</td>\n",
              "      <td>47</td>\n",
              "    </tr>\n",
              "    <tr>\n",
              "      <th>157189</th>\n",
              "      <td>238557</td>\n",
              "      <td>45</td>\n",
              "    </tr>\n",
              "    <tr>\n",
              "      <th>...</th>\n",
              "      <td>...</td>\n",
              "      <td>...</td>\n",
              "    </tr>\n",
              "    <tr>\n",
              "      <th>83372</th>\n",
              "      <td>126457</td>\n",
              "      <td>1</td>\n",
              "    </tr>\n",
              "    <tr>\n",
              "      <th>83373</th>\n",
              "      <td>126458</td>\n",
              "      <td>1</td>\n",
              "    </tr>\n",
              "    <tr>\n",
              "      <th>83376</th>\n",
              "      <td>126461</td>\n",
              "      <td>1</td>\n",
              "    </tr>\n",
              "    <tr>\n",
              "      <th>83377</th>\n",
              "      <td>126463</td>\n",
              "      <td>1</td>\n",
              "    </tr>\n",
              "    <tr>\n",
              "      <th>233865</th>\n",
              "      <td>358486</td>\n",
              "      <td>1</td>\n",
              "    </tr>\n",
              "  </tbody>\n",
              "</table>\n",
              "<p>233866 rows × 2 columns</p>\n",
              "</div>"
            ],
            "text/plain": [
              "        key_value  tipcontribuyente\n",
              "172663     262090                96\n",
              "80409      121911                63\n",
              "57921       87603                51\n",
              "149929     227523                47\n",
              "157189     238557                45\n",
              "...           ...               ...\n",
              "83372      126457                 1\n",
              "83373      126458                 1\n",
              "83376      126461                 1\n",
              "83377      126463                 1\n",
              "233865     358486                 1\n",
              "\n",
              "[233866 rows x 2 columns]"
            ]
          },
          "metadata": {
            "tags": []
          },
          "execution_count": 8
        }
      ]
    },
    {
      "cell_type": "code",
      "metadata": {
        "id": "vTBFrdusJaaZ",
        "outputId": "a9d71d43-c8a1-4e3e-8325-52fa6dd1a339",
        "colab": {
          "base_uri": "https://localhost:8080/",
          "height": 407
        }
      },
      "source": [
        "df_sunat_test.groupby(\"key_value\", as_index=False).agg({\"tipcontribuyente\": \"count\"}).sort_values(by=\"tipcontribuyente\", ascending=False)\n"
      ],
      "execution_count": 9,
      "outputs": [
        {
          "output_type": "execute_result",
          "data": {
            "text/html": [
              "<div>\n",
              "<style scoped>\n",
              "    .dataframe tbody tr th:only-of-type {\n",
              "        vertical-align: middle;\n",
              "    }\n",
              "\n",
              "    .dataframe tbody tr th {\n",
              "        vertical-align: top;\n",
              "    }\n",
              "\n",
              "    .dataframe thead th {\n",
              "        text-align: right;\n",
              "    }\n",
              "</style>\n",
              "<table border=\"1\" class=\"dataframe\">\n",
              "  <thead>\n",
              "    <tr style=\"text-align: right;\">\n",
              "      <th></th>\n",
              "      <th>key_value</th>\n",
              "      <th>tipcontribuyente</th>\n",
              "    </tr>\n",
              "  </thead>\n",
              "  <tbody>\n",
              "    <tr>\n",
              "      <th>16321</th>\n",
              "      <td>24767</td>\n",
              "      <td>655</td>\n",
              "    </tr>\n",
              "    <tr>\n",
              "      <th>143253</th>\n",
              "      <td>220827</td>\n",
              "      <td>93</td>\n",
              "    </tr>\n",
              "    <tr>\n",
              "      <th>227474</th>\n",
              "      <td>352446</td>\n",
              "      <td>65</td>\n",
              "    </tr>\n",
              "    <tr>\n",
              "      <th>10113</th>\n",
              "      <td>15340</td>\n",
              "      <td>62</td>\n",
              "    </tr>\n",
              "    <tr>\n",
              "      <th>142130</th>\n",
              "      <td>219118</td>\n",
              "      <td>49</td>\n",
              "    </tr>\n",
              "    <tr>\n",
              "      <th>...</th>\n",
              "      <td>...</td>\n",
              "      <td>...</td>\n",
              "    </tr>\n",
              "    <tr>\n",
              "      <th>90676</th>\n",
              "      <td>139485</td>\n",
              "      <td>1</td>\n",
              "    </tr>\n",
              "    <tr>\n",
              "      <th>90677</th>\n",
              "      <td>139487</td>\n",
              "      <td>1</td>\n",
              "    </tr>\n",
              "    <tr>\n",
              "      <th>90678</th>\n",
              "      <td>139489</td>\n",
              "      <td>1</td>\n",
              "    </tr>\n",
              "    <tr>\n",
              "      <th>90679</th>\n",
              "      <td>139490</td>\n",
              "      <td>1</td>\n",
              "    </tr>\n",
              "    <tr>\n",
              "      <th>253802</th>\n",
              "      <td>396663</td>\n",
              "      <td>1</td>\n",
              "    </tr>\n",
              "  </tbody>\n",
              "</table>\n",
              "<p>253803 rows × 2 columns</p>\n",
              "</div>"
            ],
            "text/plain": [
              "        key_value  tipcontribuyente\n",
              "16321       24767               655\n",
              "143253     220827                93\n",
              "227474     352446                65\n",
              "10113       15340                62\n",
              "142130     219118                49\n",
              "...           ...               ...\n",
              "90676      139485                 1\n",
              "90677      139487                 1\n",
              "90678      139489                 1\n",
              "90679      139490                 1\n",
              "253802     396663                 1\n",
              "\n",
              "[253803 rows x 2 columns]"
            ]
          },
          "metadata": {
            "tags": []
          },
          "execution_count": 9
        }
      ]
    },
    {
      "cell_type": "markdown",
      "metadata": {
        "id": "uem83LD7aIpi"
      },
      "source": [
        "## Censo"
      ]
    },
    {
      "cell_type": "code",
      "metadata": {
        "id": "d_U45azGaJV0"
      },
      "source": [
        "df_censo_train = optimizar_df(pd.read_csv(\"[00] Data/censo_train.csv\")).drop_duplicates()\n",
        "df_censo_test = optimizar_df(pd.read_csv(\"[00] Data/censo_test.csv\")).drop_duplicates()"
      ],
      "execution_count": 45,
      "outputs": []
    },
    {
      "cell_type": "code",
      "metadata": {
        "id": "FbMV15aNaREX",
        "outputId": "b0642a17-8311-4bc8-f198-c6528f255499",
        "colab": {
          "base_uri": "https://localhost:8080/",
          "height": 247
        }
      },
      "source": [
        "df_censo_train.head()"
      ],
      "execution_count": 46,
      "outputs": [
        {
          "output_type": "execute_result",
          "data": {
            "text/html": [
              "<div>\n",
              "<style scoped>\n",
              "    .dataframe tbody tr th:only-of-type {\n",
              "        vertical-align: middle;\n",
              "    }\n",
              "\n",
              "    .dataframe tbody tr th {\n",
              "        vertical-align: top;\n",
              "    }\n",
              "\n",
              "    .dataframe thead th {\n",
              "        text-align: right;\n",
              "    }\n",
              "</style>\n",
              "<table border=\"1\" class=\"dataframe\">\n",
              "  <thead>\n",
              "    <tr style=\"text-align: right;\">\n",
              "      <th></th>\n",
              "      <th>key_value</th>\n",
              "      <th>lon_x</th>\n",
              "      <th>lat_y</th>\n",
              "      <th>zon_sis</th>\n",
              "      <th>zon_der</th>\n",
              "      <th>zon_inu</th>\n",
              "      <th>zon_com</th>\n",
              "      <th>score</th>\n",
              "      <th>pob</th>\n",
              "      <th>pob_a</th>\n",
              "      <th>pob_b</th>\n",
              "      <th>pob_c</th>\n",
              "      <th>pob_d</th>\n",
              "      <th>pob_e</th>\n",
              "      <th>hog</th>\n",
              "      <th>a</th>\n",
              "      <th>b</th>\n",
              "      <th>c</th>\n",
              "      <th>d</th>\n",
              "      <th>e</th>\n",
              "      <th>pred</th>\n",
              "      <th>ing_a_18</th>\n",
              "      <th>gas_ali_a_18</th>\n",
              "      <th>gas_ves_a_18</th>\n",
              "      <th>gas_alq_a_18</th>\n",
              "      <th>gas_mue_a_18</th>\n",
              "      <th>gas_sal_a_18</th>\n",
              "      <th>gas_trans_a_18</th>\n",
              "      <th>gas_esp_a_18</th>\n",
              "      <th>gas_otrs_a_18</th>\n",
              "      <th>ing_b_18</th>\n",
              "      <th>gas_ali_b_18</th>\n",
              "      <th>gas_ves_b_18</th>\n",
              "      <th>gas_alq_b_18</th>\n",
              "      <th>gas_mue_b_18</th>\n",
              "      <th>gas_sal_b_18</th>\n",
              "      <th>gas_trans_b_18</th>\n",
              "      <th>gas_esp_b_18</th>\n",
              "      <th>gas_otrs_b_18</th>\n",
              "      <th>ing_c_18</th>\n",
              "      <th>...</th>\n",
              "      <th>estud_9</th>\n",
              "      <th>estud_10</th>\n",
              "      <th>profe_1</th>\n",
              "      <th>profe_2</th>\n",
              "      <th>profe_3</th>\n",
              "      <th>profe_4</th>\n",
              "      <th>profe_5</th>\n",
              "      <th>profe_6</th>\n",
              "      <th>profe_7</th>\n",
              "      <th>profe_8</th>\n",
              "      <th>profe_9</th>\n",
              "      <th>profe_10</th>\n",
              "      <th>acteco1</th>\n",
              "      <th>acteco2</th>\n",
              "      <th>acteco3</th>\n",
              "      <th>acteco4</th>\n",
              "      <th>acteco5</th>\n",
              "      <th>acteco6</th>\n",
              "      <th>acteco7</th>\n",
              "      <th>acteco8</th>\n",
              "      <th>acteco9</th>\n",
              "      <th>acteco10</th>\n",
              "      <th>acteco11</th>\n",
              "      <th>acteco12</th>\n",
              "      <th>acteco13</th>\n",
              "      <th>acteco14</th>\n",
              "      <th>acteco15</th>\n",
              "      <th>acteco16</th>\n",
              "      <th>acteco17</th>\n",
              "      <th>acteco18</th>\n",
              "      <th>acteco19</th>\n",
              "      <th>acteco20</th>\n",
              "      <th>acteco21</th>\n",
              "      <th>ocup_1</th>\n",
              "      <th>ocup_2</th>\n",
              "      <th>ocup_3</th>\n",
              "      <th>ocup_4</th>\n",
              "      <th>ocup_5</th>\n",
              "      <th>ocup_6</th>\n",
              "      <th>flag_censo</th>\n",
              "    </tr>\n",
              "  </thead>\n",
              "  <tbody>\n",
              "    <tr>\n",
              "      <th>0</th>\n",
              "      <td>106695</td>\n",
              "      <td>1.827118</td>\n",
              "      <td>-0.711359</td>\n",
              "      <td>-0.931515</td>\n",
              "      <td>-0.242328</td>\n",
              "      <td>-0.32701</td>\n",
              "      <td>-0.280674</td>\n",
              "      <td>-0.714361</td>\n",
              "      <td>-0.544996</td>\n",
              "      <td>-0.312923</td>\n",
              "      <td>-0.425825</td>\n",
              "      <td>-0.565415</td>\n",
              "      <td>-0.089094</td>\n",
              "      <td>-0.165019</td>\n",
              "      <td>-0.537031</td>\n",
              "      <td>-0.302006</td>\n",
              "      <td>-0.418318</td>\n",
              "      <td>-0.547005</td>\n",
              "      <td>-0.110158</td>\n",
              "      <td>-0.187616</td>\n",
              "      <td>4</td>\n",
              "      <td>-0.298620</td>\n",
              "      <td>-0.298620</td>\n",
              "      <td>-0.298620</td>\n",
              "      <td>-0.298620</td>\n",
              "      <td>-0.298620</td>\n",
              "      <td>-0.298620</td>\n",
              "      <td>-0.298620</td>\n",
              "      <td>-0.298620</td>\n",
              "      <td>-0.298620</td>\n",
              "      <td>-0.452057</td>\n",
              "      <td>-0.452057</td>\n",
              "      <td>-0.452057</td>\n",
              "      <td>-0.452057</td>\n",
              "      <td>-0.452057</td>\n",
              "      <td>-0.452057</td>\n",
              "      <td>-0.452057</td>\n",
              "      <td>-0.452057</td>\n",
              "      <td>-0.452057</td>\n",
              "      <td>-0.535443</td>\n",
              "      <td>...</td>\n",
              "      <td>-0.199376</td>\n",
              "      <td>-0.308000</td>\n",
              "      <td>-0.340184</td>\n",
              "      <td>-0.217179</td>\n",
              "      <td>-0.355359</td>\n",
              "      <td>-0.206882</td>\n",
              "      <td>-0.225646</td>\n",
              "      <td>-0.151014</td>\n",
              "      <td>-0.339847</td>\n",
              "      <td>-0.419854</td>\n",
              "      <td>-0.733954</td>\n",
              "      <td>-0.205903</td>\n",
              "      <td>-0.237047</td>\n",
              "      <td>-0.368741</td>\n",
              "      <td>-0.555645</td>\n",
              "      <td>-0.273762</td>\n",
              "      <td>-0.338135</td>\n",
              "      <td>0.041469</td>\n",
              "      <td>-0.511477</td>\n",
              "      <td>-0.457707</td>\n",
              "      <td>0.639525</td>\n",
              "      <td>-0.202316</td>\n",
              "      <td>-0.173108</td>\n",
              "      <td>-0.331307</td>\n",
              "      <td>-0.224216</td>\n",
              "      <td>-0.155999</td>\n",
              "      <td>-0.232125</td>\n",
              "      <td>-0.378461</td>\n",
              "      <td>-0.270605</td>\n",
              "      <td>-0.543045</td>\n",
              "      <td>-0.583661</td>\n",
              "      <td>-0.644919</td>\n",
              "      <td>-0.11823</td>\n",
              "      <td>-0.639720</td>\n",
              "      <td>-0.329153</td>\n",
              "      <td>-0.248796</td>\n",
              "      <td>-0.623164</td>\n",
              "      <td>-0.605414</td>\n",
              "      <td>-0.644919</td>\n",
              "      <td>0</td>\n",
              "    </tr>\n",
              "    <tr>\n",
              "      <th>1</th>\n",
              "      <td>271120</td>\n",
              "      <td>-0.480514</td>\n",
              "      <td>0.198531</td>\n",
              "      <td>0.054361</td>\n",
              "      <td>-0.242328</td>\n",
              "      <td>-0.32701</td>\n",
              "      <td>-0.280674</td>\n",
              "      <td>-0.104283</td>\n",
              "      <td>-0.060420</td>\n",
              "      <td>-0.312923</td>\n",
              "      <td>-0.485131</td>\n",
              "      <td>0.448644</td>\n",
              "      <td>-0.059923</td>\n",
              "      <td>-0.308719</td>\n",
              "      <td>-0.078552</td>\n",
              "      <td>-0.302006</td>\n",
              "      <td>-0.457537</td>\n",
              "      <td>0.462810</td>\n",
              "      <td>-0.162021</td>\n",
              "      <td>-0.317260</td>\n",
              "      <td>3</td>\n",
              "      <td>-0.298620</td>\n",
              "      <td>-0.298620</td>\n",
              "      <td>-0.298620</td>\n",
              "      <td>-0.298620</td>\n",
              "      <td>-0.298620</td>\n",
              "      <td>-0.298620</td>\n",
              "      <td>-0.298620</td>\n",
              "      <td>-0.298620</td>\n",
              "      <td>-0.298620</td>\n",
              "      <td>-0.412100</td>\n",
              "      <td>-0.412100</td>\n",
              "      <td>-0.412100</td>\n",
              "      <td>-0.412100</td>\n",
              "      <td>-0.412100</td>\n",
              "      <td>-0.412100</td>\n",
              "      <td>-0.412100</td>\n",
              "      <td>-0.412100</td>\n",
              "      <td>-0.412100</td>\n",
              "      <td>0.334792</td>\n",
              "      <td>...</td>\n",
              "      <td>-0.008364</td>\n",
              "      <td>-0.308000</td>\n",
              "      <td>0.017784</td>\n",
              "      <td>-0.139198</td>\n",
              "      <td>-0.500427</td>\n",
              "      <td>0.000321</td>\n",
              "      <td>-0.076505</td>\n",
              "      <td>0.239948</td>\n",
              "      <td>0.184462</td>\n",
              "      <td>0.143793</td>\n",
              "      <td>-0.041876</td>\n",
              "      <td>-0.205903</td>\n",
              "      <td>0.215731</td>\n",
              "      <td>-0.368741</td>\n",
              "      <td>-0.130826</td>\n",
              "      <td>-0.273762</td>\n",
              "      <td>-0.338135</td>\n",
              "      <td>-0.127766</td>\n",
              "      <td>-0.076081</td>\n",
              "      <td>0.214074</td>\n",
              "      <td>0.059442</td>\n",
              "      <td>0.017362</td>\n",
              "      <td>-0.402767</td>\n",
              "      <td>-0.331307</td>\n",
              "      <td>-0.171162</td>\n",
              "      <td>-0.658023</td>\n",
              "      <td>-0.007670</td>\n",
              "      <td>0.049331</td>\n",
              "      <td>-0.270605</td>\n",
              "      <td>-0.162191</td>\n",
              "      <td>-0.215123</td>\n",
              "      <td>-0.199299</td>\n",
              "      <td>-0.11823</td>\n",
              "      <td>-0.234777</td>\n",
              "      <td>-0.113894</td>\n",
              "      <td>-0.135995</td>\n",
              "      <td>0.032167</td>\n",
              "      <td>0.062284</td>\n",
              "      <td>-0.199299</td>\n",
              "      <td>0</td>\n",
              "    </tr>\n",
              "    <tr>\n",
              "      <th>2</th>\n",
              "      <td>63080</td>\n",
              "      <td>-0.192205</td>\n",
              "      <td>-0.216570</td>\n",
              "      <td>1.040236</td>\n",
              "      <td>-0.242328</td>\n",
              "      <td>-0.32701</td>\n",
              "      <td>-0.280674</td>\n",
              "      <td>-0.124272</td>\n",
              "      <td>0.607510</td>\n",
              "      <td>-0.312923</td>\n",
              "      <td>1.092421</td>\n",
              "      <td>-0.230260</td>\n",
              "      <td>0.961048</td>\n",
              "      <td>0.733106</td>\n",
              "      <td>0.572192</td>\n",
              "      <td>-0.302006</td>\n",
              "      <td>0.993563</td>\n",
              "      <td>-0.220300</td>\n",
              "      <td>0.927114</td>\n",
              "      <td>0.849535</td>\n",
              "      <td>2</td>\n",
              "      <td>-0.298620</td>\n",
              "      <td>-0.298620</td>\n",
              "      <td>-0.298620</td>\n",
              "      <td>-0.298620</td>\n",
              "      <td>-0.298620</td>\n",
              "      <td>-0.298620</td>\n",
              "      <td>-0.298620</td>\n",
              "      <td>-0.298620</td>\n",
              "      <td>-0.298620</td>\n",
              "      <td>1.106274</td>\n",
              "      <td>1.106274</td>\n",
              "      <td>1.106274</td>\n",
              "      <td>1.106274</td>\n",
              "      <td>1.106274</td>\n",
              "      <td>1.106274</td>\n",
              "      <td>1.106274</td>\n",
              "      <td>1.106274</td>\n",
              "      <td>1.106274</td>\n",
              "      <td>0.004703</td>\n",
              "      <td>...</td>\n",
              "      <td>-0.180274</td>\n",
              "      <td>0.137688</td>\n",
              "      <td>-0.340184</td>\n",
              "      <td>-0.035223</td>\n",
              "      <td>0.176559</td>\n",
              "      <td>0.069388</td>\n",
              "      <td>0.445490</td>\n",
              "      <td>-0.151014</td>\n",
              "      <td>0.097077</td>\n",
              "      <td>0.566528</td>\n",
              "      <td>-0.041876</td>\n",
              "      <td>-0.011010</td>\n",
              "      <td>-0.237047</td>\n",
              "      <td>0.360282</td>\n",
              "      <td>0.378958</td>\n",
              "      <td>-0.273762</td>\n",
              "      <td>-0.338135</td>\n",
              "      <td>-0.466236</td>\n",
              "      <td>0.177900</td>\n",
              "      <td>0.438002</td>\n",
              "      <td>0.494504</td>\n",
              "      <td>0.237039</td>\n",
              "      <td>-0.173108</td>\n",
              "      <td>-0.331307</td>\n",
              "      <td>-0.224216</td>\n",
              "      <td>0.513367</td>\n",
              "      <td>-0.232125</td>\n",
              "      <td>0.370175</td>\n",
              "      <td>-0.270605</td>\n",
              "      <td>1.742079</td>\n",
              "      <td>0.521952</td>\n",
              "      <td>0.246320</td>\n",
              "      <td>-0.11823</td>\n",
              "      <td>0.035186</td>\n",
              "      <td>0.224369</td>\n",
              "      <td>0.117805</td>\n",
              "      <td>-0.131666</td>\n",
              "      <td>1.063831</td>\n",
              "      <td>0.246320</td>\n",
              "      <td>0</td>\n",
              "    </tr>\n",
              "    <tr>\n",
              "      <th>3</th>\n",
              "      <td>107681</td>\n",
              "      <td>-0.803171</td>\n",
              "      <td>0.748640</td>\n",
              "      <td>1.040236</td>\n",
              "      <td>-0.242328</td>\n",
              "      <td>-0.32701</td>\n",
              "      <td>-0.280674</td>\n",
              "      <td>-0.540244</td>\n",
              "      <td>-0.658501</td>\n",
              "      <td>-0.131975</td>\n",
              "      <td>-0.437686</td>\n",
              "      <td>-0.599790</td>\n",
              "      <td>-0.439141</td>\n",
              "      <td>-0.308719</td>\n",
              "      <td>-0.625768</td>\n",
              "      <td>-0.136362</td>\n",
              "      <td>-0.418318</td>\n",
              "      <td>-0.576705</td>\n",
              "      <td>-0.421339</td>\n",
              "      <td>-0.317260</td>\n",
              "      <td>4</td>\n",
              "      <td>-0.128909</td>\n",
              "      <td>-0.128909</td>\n",
              "      <td>-0.128909</td>\n",
              "      <td>-0.128909</td>\n",
              "      <td>-0.128909</td>\n",
              "      <td>-0.128909</td>\n",
              "      <td>-0.128909</td>\n",
              "      <td>-0.128909</td>\n",
              "      <td>-0.128909</td>\n",
              "      <td>-0.412100</td>\n",
              "      <td>-0.412100</td>\n",
              "      <td>-0.412100</td>\n",
              "      <td>-0.412100</td>\n",
              "      <td>-0.412100</td>\n",
              "      <td>-0.412100</td>\n",
              "      <td>-0.412100</td>\n",
              "      <td>-0.412100</td>\n",
              "      <td>-0.412100</td>\n",
              "      <td>-0.565451</td>\n",
              "      <td>...</td>\n",
              "      <td>-0.485894</td>\n",
              "      <td>-0.382281</td>\n",
              "      <td>0.017784</td>\n",
              "      <td>-0.451123</td>\n",
              "      <td>-0.500427</td>\n",
              "      <td>-0.621288</td>\n",
              "      <td>-0.598499</td>\n",
              "      <td>-0.151014</td>\n",
              "      <td>-0.514617</td>\n",
              "      <td>-0.842590</td>\n",
              "      <td>-0.657057</td>\n",
              "      <td>-0.205903</td>\n",
              "      <td>0.064805</td>\n",
              "      <td>-0.368741</td>\n",
              "      <td>-0.470681</td>\n",
              "      <td>-0.273762</td>\n",
              "      <td>-0.338135</td>\n",
              "      <td>-0.804707</td>\n",
              "      <td>-0.547760</td>\n",
              "      <td>-0.793597</td>\n",
              "      <td>-0.665663</td>\n",
              "      <td>-0.421994</td>\n",
              "      <td>-0.402767</td>\n",
              "      <td>-0.331307</td>\n",
              "      <td>-0.542542</td>\n",
              "      <td>-0.658023</td>\n",
              "      <td>-0.456580</td>\n",
              "      <td>-0.699305</td>\n",
              "      <td>-0.487390</td>\n",
              "      <td>-0.543045</td>\n",
              "      <td>-0.215123</td>\n",
              "      <td>-0.644919</td>\n",
              "      <td>-0.11823</td>\n",
              "      <td>-0.369758</td>\n",
              "      <td>-0.698168</td>\n",
              "      <td>-0.530797</td>\n",
              "      <td>-0.705080</td>\n",
              "      <td>-0.605414</td>\n",
              "      <td>-0.644919</td>\n",
              "      <td>0</td>\n",
              "    </tr>\n",
              "    <tr>\n",
              "      <th>4</th>\n",
              "      <td>107336</td>\n",
              "      <td>1.983624</td>\n",
              "      <td>-1.649749</td>\n",
              "      <td>-0.931515</td>\n",
              "      <td>-0.242328</td>\n",
              "      <td>-0.32701</td>\n",
              "      <td>-0.280674</td>\n",
              "      <td>-0.104283</td>\n",
              "      <td>-0.470782</td>\n",
              "      <td>0.669365</td>\n",
              "      <td>0.048627</td>\n",
              "      <td>-0.694321</td>\n",
              "      <td>-0.643335</td>\n",
              "      <td>-0.452419</td>\n",
              "      <td>-0.403924</td>\n",
              "      <td>0.609035</td>\n",
              "      <td>0.130747</td>\n",
              "      <td>-0.665807</td>\n",
              "      <td>-0.628794</td>\n",
              "      <td>-0.446903</td>\n",
              "      <td>2</td>\n",
              "      <td>0.804502</td>\n",
              "      <td>0.804502</td>\n",
              "      <td>0.804502</td>\n",
              "      <td>0.804502</td>\n",
              "      <td>0.804502</td>\n",
              "      <td>0.804502</td>\n",
              "      <td>0.804502</td>\n",
              "      <td>0.804502</td>\n",
              "      <td>0.804502</td>\n",
              "      <td>-0.012528</td>\n",
              "      <td>-0.012528</td>\n",
              "      <td>-0.012528</td>\n",
              "      <td>-0.012528</td>\n",
              "      <td>-0.012528</td>\n",
              "      <td>-0.012528</td>\n",
              "      <td>-0.012528</td>\n",
              "      <td>-0.012528</td>\n",
              "      <td>-0.012528</td>\n",
              "      <td>-0.655475</td>\n",
              "      <td>...</td>\n",
              "      <td>0.010738</td>\n",
              "      <td>0.509094</td>\n",
              "      <td>0.017784</td>\n",
              "      <td>0.042758</td>\n",
              "      <td>-0.258646</td>\n",
              "      <td>-0.345017</td>\n",
              "      <td>-0.710355</td>\n",
              "      <td>-0.151014</td>\n",
              "      <td>-0.776772</td>\n",
              "      <td>-0.842590</td>\n",
              "      <td>-0.733954</td>\n",
              "      <td>-0.205903</td>\n",
              "      <td>-0.086121</td>\n",
              "      <td>0.360282</td>\n",
              "      <td>-0.555645</td>\n",
              "      <td>-0.273762</td>\n",
              "      <td>-0.338135</td>\n",
              "      <td>-0.297001</td>\n",
              "      <td>-0.692892</td>\n",
              "      <td>-0.793597</td>\n",
              "      <td>-0.520642</td>\n",
              "      <td>-0.421994</td>\n",
              "      <td>0.056551</td>\n",
              "      <td>-0.331307</td>\n",
              "      <td>-0.011999</td>\n",
              "      <td>-0.658023</td>\n",
              "      <td>-0.232125</td>\n",
              "      <td>-0.271513</td>\n",
              "      <td>-0.053820</td>\n",
              "      <td>-0.162191</td>\n",
              "      <td>-0.583661</td>\n",
              "      <td>-0.199299</td>\n",
              "      <td>-0.11823</td>\n",
              "      <td>-0.099795</td>\n",
              "      <td>-0.667416</td>\n",
              "      <td>-0.276996</td>\n",
              "      <td>-0.786996</td>\n",
              "      <td>-0.605414</td>\n",
              "      <td>-0.199299</td>\n",
              "      <td>0</td>\n",
              "    </tr>\n",
              "  </tbody>\n",
              "</table>\n",
              "<p>5 rows × 256 columns</p>\n",
              "</div>"
            ],
            "text/plain": [
              "   key_value     lon_x     lat_y  ...    ocup_5    ocup_6  flag_censo\n",
              "0     106695  1.827118 -0.711359  ... -0.605414 -0.644919           0\n",
              "1     271120 -0.480514  0.198531  ...  0.062284 -0.199299           0\n",
              "2      63080 -0.192205 -0.216570  ...  1.063831  0.246320           0\n",
              "3     107681 -0.803171  0.748640  ... -0.605414 -0.644919           0\n",
              "4     107336  1.983624 -1.649749  ... -0.605414 -0.199299           0\n",
              "\n",
              "[5 rows x 256 columns]"
            ]
          },
          "metadata": {
            "tags": []
          },
          "execution_count": 46
        }
      ]
    },
    {
      "cell_type": "code",
      "metadata": {
        "id": "eC49fykQaRBS",
        "outputId": "8ea914ee-48b1-4e9d-8121-0f5b3b84a324",
        "colab": {
          "base_uri": "https://localhost:8080/"
        }
      },
      "source": [
        "df_censo_train.shape, df_censo_train[\"key_value\"].nunique()"
      ],
      "execution_count": 52,
      "outputs": [
        {
          "output_type": "execute_result",
          "data": {
            "text/plain": [
              "((153139, 256), 153139)"
            ]
          },
          "metadata": {
            "tags": []
          },
          "execution_count": 52
        }
      ]
    },
    {
      "cell_type": "code",
      "metadata": {
        "id": "okbjUie-bAMb",
        "outputId": "c500a818-6b1d-4891-93d1-db0a1e01134f",
        "colab": {
          "base_uri": "https://localhost:8080/"
        }
      },
      "source": [
        "df_censo_test.shape, df_censo_test[\"key_value\"].nunique()"
      ],
      "execution_count": 53,
      "outputs": [
        {
          "output_type": "execute_result",
          "data": {
            "text/plain": [
              "((200499, 256), 200499)"
            ]
          },
          "metadata": {
            "tags": []
          },
          "execution_count": 53
        }
      ]
    },
    {
      "cell_type": "markdown",
      "metadata": {
        "id": "9Ybce2rt0S1I"
      },
      "source": [
        "## Todos los Datasets"
      ]
    },
    {
      "cell_type": "code",
      "metadata": {
        "colab": {
          "base_uri": "https://localhost:8080/"
        },
        "id": "YjK7LUVRLiSS",
        "outputId": "c5dbb572-9bbb-42ac-b4dc-9e546b483d4c"
      },
      "source": [
        "!ls -lh '[01] Intermediate'"
      ],
      "execution_count": 44,
      "outputs": [
        {
          "output_type": "stream",
          "text": [
            "total 2.0G\n",
            "-rw------- 1 root root 521M Dec 20 17:16 ds_rcc.csv\n",
            "-rw------- 1 root root 185M Dec 18 16:51 ds_rcc_instit.csv\n",
            "-rw------- 1 root root 204M Dec 18 16:51 ds_rcc_instit_test.csv\n",
            "-rw------- 1 root root 576M Dec 20 17:18 ds_rcc_test.csv\n",
            "-rw------- 1 root root  22M Dec 20 13:20 ds_se.csv\n",
            "-rw------- 1 root root  24M Dec 20 13:20 ds_se_test.csv\n",
            "-rw------- 1 root root  18M Dec 31 19:34 ds_sunat.csv\n",
            "-rw------- 1 root root  20M Dec 31 19:34 ds_sunat_test.csv\n",
            "-rw------- 1 root root 192M Dec 31 13:48 rcc_product_level.csv\n",
            "-rw------- 1 root root 212M Dec 31 17:27 rcc_product_level_test.csv\n"
          ],
          "name": "stdout"
        }
      ]
    },
    {
      "cell_type": "markdown",
      "metadata": {
        "id": "1APWyEke0YGB"
      },
      "source": [
        "---"
      ]
    }
  ]
}