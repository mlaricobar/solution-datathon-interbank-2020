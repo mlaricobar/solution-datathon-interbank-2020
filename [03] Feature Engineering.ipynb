{
  "nbformat": 4,
  "nbformat_minor": 0,
  "metadata": {
    "colab": {
      "name": "Welcome To Colaboratory",
      "provenance": [],
      "collapsed_sections": [],
      "include_colab_link": true
    },
    "kernelspec": {
      "display_name": "Python 3",
      "name": "python3"
    }
  },
  "cells": [
    {
      "cell_type": "markdown",
      "metadata": {
        "id": "view-in-github",
        "colab_type": "text"
      },
      "source": [
        "<a href=\"https://colab.research.google.com/github/mlaricobar/solution-datathon-interbank-2020/blob/desarrollo/%5B03%5D%20Feature%20Engineering.ipynb\" target=\"_parent\"><img src=\"https://colab.research.google.com/assets/colab-badge.svg\" alt=\"Open In Colab\"/></a>"
      ]
    },
    {
      "cell_type": "markdown",
      "metadata": {
        "id": "YxxJTgsCqdQn"
      },
      "source": [
        "# Feature Engineering"
      ]
    },
    {
      "cell_type": "code",
      "metadata": {
        "id": "VLUmnZDrqe0e"
      },
      "source": [
        "from google.colab import drive, files\n",
        "\n",
        "import pandas as pd\n",
        "\n",
        "from datetime import datetime\n",
        "from dateutil import relativedelta"
      ],
      "execution_count": 1,
      "outputs": []
    },
    {
      "cell_type": "code",
      "metadata": {
        "id": "If5QUE85qfhC",
        "colab": {
          "base_uri": "https://localhost:8080/"
        },
        "outputId": "ca4475b7-bd74-4f94-f5f3-714496ba3370"
      },
      "source": [
        "drive.mount('/gdrive')"
      ],
      "execution_count": 2,
      "outputs": [
        {
          "output_type": "stream",
          "text": [
            "Mounted at /gdrive\n"
          ],
          "name": "stdout"
        }
      ]
    },
    {
      "cell_type": "code",
      "metadata": {
        "id": "oTaBGhKUqgoW",
        "colab": {
          "base_uri": "https://localhost:8080/"
        },
        "outputId": "2137a872-3c1e-4bd7-c0a3-cebc5d9624d9"
      },
      "source": [
        "%cd /gdrive/'My Drive'/Competencias/'[02] Interbank-2020'\n",
        "!ls -lh '[00] Data'"
      ],
      "execution_count": 3,
      "outputs": [
        {
          "output_type": "stream",
          "text": [
            "/gdrive/My Drive/Competencias/[02] Interbank-2020\n",
            "total 5.1G\n",
            "-rw------- 1 root root 979M Dec 12 01:33 censo_test.csv\n",
            "-rw------- 1 root root 748M Dec 12 01:34 censo_train.csv\n",
            "-rw------- 1 root root  998 Dec 12 01:34 productos.csv\n",
            "-rw------- 1 root root 1.7G Dec 12 01:34 rcc_test.csv\n",
            "-rw------- 1 root root 1.4G Dec 12 01:35 rcc_train.csv\n",
            "-rw------- 1 root root 3.3M Dec 12 01:35 sample_submission.csv\n",
            "-rw------- 1 root root  30M Dec 12 01:35 se_test.csv\n",
            "-rw------- 1 root root  28M Dec 12 01:35 se_train.csv\n",
            "-rw------- 1 root root 122M Dec 12 01:35 sunat_test.csv\n",
            "-rw------- 1 root root 106M Dec 12 01:35 sunat_train.csv\n",
            "-rw------- 1 root root 3.0M Dec 12 01:35 y_train.csv\n"
          ],
          "name": "stdout"
        }
      ]
    },
    {
      "cell_type": "code",
      "metadata": {
        "id": "XOPmAEl6q9MD"
      },
      "source": [
        "def optimizar_df(df):\n",
        "  for col_ in df.select_dtypes(include=[int]).columns:\n",
        "    df[col_] = pd.to_numeric(df[col_], downcast=\"unsigned\")\n",
        "\n",
        "  for col_ in df.select_dtypes(include=[float]).columns:\n",
        "    df[col_] = pd.to_numeric(df[col_], downcast=\"float\")\n",
        "  \n",
        "  return df"
      ],
      "execution_count": 4,
      "outputs": []
    },
    {
      "cell_type": "markdown",
      "metadata": {
        "id": "xiSwJhvzxwDP"
      },
      "source": [
        "## Dataset Socio-Demográfico"
      ]
    },
    {
      "cell_type": "code",
      "metadata": {
        "id": "LvFWUizWurhZ"
      },
      "source": [
        "df_se_train = optimizar_df(pd.read_csv(\"[00] Data/se_train.csv\"))\n",
        "df_se_test = optimizar_df(pd.read_csv(\"[00] Data/se_test.csv\"))\n",
        "df_y_train = optimizar_df(pd.read_csv(\"[00] Data/y_train.csv\"))"
      ],
      "execution_count": 5,
      "outputs": []
    },
    {
      "cell_type": "code",
      "metadata": {
        "id": "gTmKk6xwzfMK"
      },
      "source": [
        "df_se_train = df_se_train.merge(df_y_train, how=\"left\", on=\"key_value\")"
      ],
      "execution_count": 6,
      "outputs": []
    },
    {
      "cell_type": "code",
      "metadata": {
        "colab": {
          "base_uri": "https://localhost:8080/",
          "height": 419
        },
        "id": "l9AgU2nFzfJY",
        "outputId": "5717cc5e-c0e5-4008-b4bf-b571030f0e1d"
      },
      "source": [
        "df_se_train"
      ],
      "execution_count": 7,
      "outputs": [
        {
          "output_type": "execute_result",
          "data": {
            "text/html": [
              "<div>\n",
              "<style scoped>\n",
              "    .dataframe tbody tr th:only-of-type {\n",
              "        vertical-align: middle;\n",
              "    }\n",
              "\n",
              "    .dataframe tbody tr th {\n",
              "        vertical-align: top;\n",
              "    }\n",
              "\n",
              "    .dataframe thead th {\n",
              "        text-align: right;\n",
              "    }\n",
              "</style>\n",
              "<table border=\"1\" class=\"dataframe\">\n",
              "  <thead>\n",
              "    <tr style=\"text-align: right;\">\n",
              "      <th></th>\n",
              "      <th>key_value</th>\n",
              "      <th>edad</th>\n",
              "      <th>sexo</th>\n",
              "      <th>est_cvl</th>\n",
              "      <th>sit_lab</th>\n",
              "      <th>cod_ocu</th>\n",
              "      <th>ctd_hijos</th>\n",
              "      <th>flg_sin_email</th>\n",
              "      <th>ctd_veh</th>\n",
              "      <th>cod_ubi</th>\n",
              "      <th>lgr_vot</th>\n",
              "      <th>prv</th>\n",
              "      <th>dto</th>\n",
              "      <th>rgn</th>\n",
              "      <th>tip_lvledu</th>\n",
              "      <th>target</th>\n",
              "    </tr>\n",
              "  </thead>\n",
              "  <tbody>\n",
              "    <tr>\n",
              "      <th>0</th>\n",
              "      <td>0</td>\n",
              "      <td>-0.983651</td>\n",
              "      <td>1</td>\n",
              "      <td>4</td>\n",
              "      <td>2</td>\n",
              "      <td>22</td>\n",
              "      <td>0.0</td>\n",
              "      <td>1</td>\n",
              "      <td>0.0</td>\n",
              "      <td>-0.070167</td>\n",
              "      <td>17</td>\n",
              "      <td>47</td>\n",
              "      <td>687</td>\n",
              "      <td>4</td>\n",
              "      <td>0</td>\n",
              "      <td>0</td>\n",
              "    </tr>\n",
              "    <tr>\n",
              "      <th>1</th>\n",
              "      <td>1</td>\n",
              "      <td>0.000953</td>\n",
              "      <td>1</td>\n",
              "      <td>4</td>\n",
              "      <td>1</td>\n",
              "      <td>22</td>\n",
              "      <td>0.0</td>\n",
              "      <td>1</td>\n",
              "      <td>1.0</td>\n",
              "      <td>-0.738566</td>\n",
              "      <td>10</td>\n",
              "      <td>186</td>\n",
              "      <td>849</td>\n",
              "      <td>6</td>\n",
              "      <td>0</td>\n",
              "      <td>0</td>\n",
              "    </tr>\n",
              "    <tr>\n",
              "      <th>2</th>\n",
              "      <td>2</td>\n",
              "      <td>0.531124</td>\n",
              "      <td>0</td>\n",
              "      <td>4</td>\n",
              "      <td>1</td>\n",
              "      <td>22</td>\n",
              "      <td>0.0</td>\n",
              "      <td>1</td>\n",
              "      <td>0.0</td>\n",
              "      <td>-0.297248</td>\n",
              "      <td>15</td>\n",
              "      <td>84</td>\n",
              "      <td>1405</td>\n",
              "      <td>1</td>\n",
              "      <td>7</td>\n",
              "      <td>0</td>\n",
              "    </tr>\n",
              "    <tr>\n",
              "      <th>3</th>\n",
              "      <td>3</td>\n",
              "      <td>-1.135129</td>\n",
              "      <td>0</td>\n",
              "      <td>4</td>\n",
              "      <td>1</td>\n",
              "      <td>22</td>\n",
              "      <td>0.0</td>\n",
              "      <td>1</td>\n",
              "      <td>0.0</td>\n",
              "      <td>-1.203435</td>\n",
              "      <td>4</td>\n",
              "      <td>9</td>\n",
              "      <td>977</td>\n",
              "      <td>6</td>\n",
              "      <td>7</td>\n",
              "      <td>0</td>\n",
              "    </tr>\n",
              "    <tr>\n",
              "      <th>4</th>\n",
              "      <td>4</td>\n",
              "      <td>-1.438084</td>\n",
              "      <td>0</td>\n",
              "      <td>4</td>\n",
              "      <td>1</td>\n",
              "      <td>22</td>\n",
              "      <td>0.0</td>\n",
              "      <td>1</td>\n",
              "      <td>0.0</td>\n",
              "      <td>0.043424</td>\n",
              "      <td>18</td>\n",
              "      <td>111</td>\n",
              "      <td>391</td>\n",
              "      <td>3</td>\n",
              "      <td>0</td>\n",
              "      <td>1</td>\n",
              "    </tr>\n",
              "    <tr>\n",
              "      <th>...</th>\n",
              "      <td>...</td>\n",
              "      <td>...</td>\n",
              "      <td>...</td>\n",
              "      <td>...</td>\n",
              "      <td>...</td>\n",
              "      <td>...</td>\n",
              "      <td>...</td>\n",
              "      <td>...</td>\n",
              "      <td>...</td>\n",
              "      <td>...</td>\n",
              "      <td>...</td>\n",
              "      <td>...</td>\n",
              "      <td>...</td>\n",
              "      <td>...</td>\n",
              "      <td>...</td>\n",
              "      <td>...</td>\n",
              "    </tr>\n",
              "    <tr>\n",
              "      <th>358423</th>\n",
              "      <td>358482</td>\n",
              "      <td>1.742944</td>\n",
              "      <td>0</td>\n",
              "      <td>4</td>\n",
              "      <td>3</td>\n",
              "      <td>22</td>\n",
              "      <td>0.0</td>\n",
              "      <td>1</td>\n",
              "      <td>0.0</td>\n",
              "      <td>0.047914</td>\n",
              "      <td>18</td>\n",
              "      <td>92</td>\n",
              "      <td>521</td>\n",
              "      <td>3</td>\n",
              "      <td>7</td>\n",
              "      <td>0</td>\n",
              "    </tr>\n",
              "    <tr>\n",
              "      <th>358424</th>\n",
              "      <td>358483</td>\n",
              "      <td>-0.302002</td>\n",
              "      <td>0</td>\n",
              "      <td>0</td>\n",
              "      <td>3</td>\n",
              "      <td>22</td>\n",
              "      <td>3.0</td>\n",
              "      <td>1</td>\n",
              "      <td>0.0</td>\n",
              "      <td>0.043367</td>\n",
              "      <td>18</td>\n",
              "      <td>111</td>\n",
              "      <td>768</td>\n",
              "      <td>3</td>\n",
              "      <td>7</td>\n",
              "      <td>0</td>\n",
              "    </tr>\n",
              "    <tr>\n",
              "      <th>358425</th>\n",
              "      <td>358484</td>\n",
              "      <td>-1.513823</td>\n",
              "      <td>1</td>\n",
              "      <td>4</td>\n",
              "      <td>3</td>\n",
              "      <td>22</td>\n",
              "      <td>0.0</td>\n",
              "      <td>1</td>\n",
              "      <td>0.0</td>\n",
              "      <td>-0.523795</td>\n",
              "      <td>13</td>\n",
              "      <td>127</td>\n",
              "      <td>949</td>\n",
              "      <td>5</td>\n",
              "      <td>7</td>\n",
              "      <td>0</td>\n",
              "    </tr>\n",
              "    <tr>\n",
              "      <th>358426</th>\n",
              "      <td>358485</td>\n",
              "      <td>0.076691</td>\n",
              "      <td>1</td>\n",
              "      <td>4</td>\n",
              "      <td>2</td>\n",
              "      <td>22</td>\n",
              "      <td>0.0</td>\n",
              "      <td>1</td>\n",
              "      <td>0.0</td>\n",
              "      <td>0.725428</td>\n",
              "      <td>26</td>\n",
              "      <td>111</td>\n",
              "      <td>1313</td>\n",
              "      <td>3</td>\n",
              "      <td>0</td>\n",
              "      <td>0</td>\n",
              "    </tr>\n",
              "    <tr>\n",
              "      <th>358427</th>\n",
              "      <td>358486</td>\n",
              "      <td>-0.529219</td>\n",
              "      <td>1</td>\n",
              "      <td>4</td>\n",
              "      <td>1</td>\n",
              "      <td>22</td>\n",
              "      <td>0.0</td>\n",
              "      <td>1</td>\n",
              "      <td>0.0</td>\n",
              "      <td>0.734419</td>\n",
              "      <td>26</td>\n",
              "      <td>163</td>\n",
              "      <td>698</td>\n",
              "      <td>6</td>\n",
              "      <td>0</td>\n",
              "      <td>0</td>\n",
              "    </tr>\n",
              "  </tbody>\n",
              "</table>\n",
              "<p>358428 rows × 16 columns</p>\n",
              "</div>"
            ],
            "text/plain": [
              "        key_value      edad  sexo  est_cvl  ...   dto  rgn  tip_lvledu  target\n",
              "0               0 -0.983651     1        4  ...   687    4           0       0\n",
              "1               1  0.000953     1        4  ...   849    6           0       0\n",
              "2               2  0.531124     0        4  ...  1405    1           7       0\n",
              "3               3 -1.135129     0        4  ...   977    6           7       0\n",
              "4               4 -1.438084     0        4  ...   391    3           0       1\n",
              "...           ...       ...   ...      ...  ...   ...  ...         ...     ...\n",
              "358423     358482  1.742944     0        4  ...   521    3           7       0\n",
              "358424     358483 -0.302002     0        0  ...   768    3           7       0\n",
              "358425     358484 -1.513823     1        4  ...   949    5           7       0\n",
              "358426     358485  0.076691     1        4  ...  1313    3           0       0\n",
              "358427     358486 -0.529219     1        4  ...   698    6           0       0\n",
              "\n",
              "[358428 rows x 16 columns]"
            ]
          },
          "metadata": {
            "tags": []
          },
          "execution_count": 7
        }
      ]
    },
    {
      "cell_type": "code",
      "metadata": {
        "colab": {
          "base_uri": "https://localhost:8080/"
        },
        "id": "zg_rV_iDzvIa",
        "outputId": "15d74b8c-c7c0-455e-f545-5b0efecf7712"
      },
      "source": [
        "df_se_train.info()"
      ],
      "execution_count": 8,
      "outputs": [
        {
          "output_type": "stream",
          "text": [
            "<class 'pandas.core.frame.DataFrame'>\n",
            "Int64Index: 358428 entries, 0 to 358427\n",
            "Data columns (total 16 columns):\n",
            " #   Column         Non-Null Count   Dtype  \n",
            "---  ------         --------------   -----  \n",
            " 0   key_value      358428 non-null  uint32 \n",
            " 1   edad           354663 non-null  float32\n",
            " 2   sexo           358428 non-null  uint8  \n",
            " 3   est_cvl        358428 non-null  uint8  \n",
            " 4   sit_lab        358428 non-null  uint8  \n",
            " 5   cod_ocu        358428 non-null  uint8  \n",
            " 6   ctd_hijos      358428 non-null  float32\n",
            " 7   flg_sin_email  358428 non-null  uint8  \n",
            " 8   ctd_veh        358428 non-null  float32\n",
            " 9   cod_ubi        354255 non-null  float32\n",
            " 10  lgr_vot        358428 non-null  uint8  \n",
            " 11  prv            358428 non-null  uint8  \n",
            " 12  dto            358428 non-null  uint16 \n",
            " 13  rgn            358428 non-null  uint8  \n",
            " 14  tip_lvledu     358428 non-null  uint8  \n",
            " 15  target         358428 non-null  uint8  \n",
            "dtypes: float32(4), uint16(1), uint32(1), uint8(10)\n",
            "memory usage: 13.7 MB\n"
          ],
          "name": "stdout"
        }
      ]
    },
    {
      "cell_type": "code",
      "metadata": {
        "colab": {
          "base_uri": "https://localhost:8080/"
        },
        "id": "GCEm9Ro303Mb",
        "outputId": "63fda2de-6dcd-41f7-f506-9ce253968910"
      },
      "source": [
        "df_se_train.shape, df_se_train[\"key_value\"].nunique(), df_y_train.shape, df_y_train[\"key_value\"].nunique(), df_se_test.shape, df_se_test[\"key_value\"].nunique()"
      ],
      "execution_count": 9,
      "outputs": [
        {
          "output_type": "execute_result",
          "data": {
            "text/plain": [
              "((358428, 16), 358428, (358487, 2), 358487, (396609, 15), 396609)"
            ]
          },
          "metadata": {
            "tags": []
          },
          "execution_count": 9
        }
      ]
    },
    {
      "cell_type": "code",
      "metadata": {
        "id": "5sI6XxSgz7jd"
      },
      "source": [
        "df_se_train.to_csv(\"[01] Intermediate/ds_se.csv\", index=False)\n",
        "df_se_test.to_csv(\"[01] Intermediate/ds_se_test.csv\", index=False)"
      ],
      "execution_count": null,
      "outputs": []
    },
    {
      "cell_type": "markdown",
      "metadata": {
        "id": "Q0ApGQ8SqwWW"
      },
      "source": [
        "## Dataset RCC"
      ]
    },
    {
      "cell_type": "code",
      "metadata": {
        "id": "hcaI9FoaqtHB"
      },
      "source": [
        "df_rcc_train = optimizar_df(pd.read_csv(\"[00] Data/rcc_train.csv\"))\n",
        "df_rcc_test = optimizar_df(pd.read_csv(\"[00] Data/rcc_test.csv\"))"
      ],
      "execution_count": 10,
      "outputs": []
    },
    {
      "cell_type": "code",
      "metadata": {
        "id": "P0fXCtZOnTe4"
      },
      "source": [
        "df_rcc_train[\"saldo\"] = df_rcc_train[\"saldo\"] + 1\n",
        "df_rcc_test[\"saldo\"] = df_rcc_test[\"saldo\"] + 1"
      ],
      "execution_count": 11,
      "outputs": []
    },
    {
      "cell_type": "code",
      "metadata": {
        "id": "HSQPzruHnJeI",
        "outputId": "c2f95f5f-f3cc-4613-c1cd-da6a93beebf3",
        "colab": {
          "base_uri": "https://localhost:8080/",
          "height": 204
        }
      },
      "source": [
        "df_rcc_train.head()"
      ],
      "execution_count": 12,
      "outputs": [
        {
          "output_type": "execute_result",
          "data": {
            "text/html": [
              "<div>\n",
              "<style scoped>\n",
              "    .dataframe tbody tr th:only-of-type {\n",
              "        vertical-align: middle;\n",
              "    }\n",
              "\n",
              "    .dataframe tbody tr th {\n",
              "        vertical-align: top;\n",
              "    }\n",
              "\n",
              "    .dataframe thead th {\n",
              "        text-align: right;\n",
              "    }\n",
              "</style>\n",
              "<table border=\"1\" class=\"dataframe\">\n",
              "  <thead>\n",
              "    <tr style=\"text-align: right;\">\n",
              "      <th></th>\n",
              "      <th>codmes</th>\n",
              "      <th>key_value</th>\n",
              "      <th>condicion</th>\n",
              "      <th>tipo_credito</th>\n",
              "      <th>cod_instit_financiera</th>\n",
              "      <th>saldo</th>\n",
              "      <th>PRODUCTO</th>\n",
              "      <th>RIESGO_DIRECTO</th>\n",
              "      <th>COD_CLASIFICACION_DEUDOR</th>\n",
              "    </tr>\n",
              "  </thead>\n",
              "  <tbody>\n",
              "    <tr>\n",
              "      <th>0</th>\n",
              "      <td>201711</td>\n",
              "      <td>4</td>\n",
              "      <td>0</td>\n",
              "      <td>12</td>\n",
              "      <td>33</td>\n",
              "      <td>0.927399</td>\n",
              "      <td>6</td>\n",
              "      <td>-1</td>\n",
              "      <td>0</td>\n",
              "    </tr>\n",
              "    <tr>\n",
              "      <th>1</th>\n",
              "      <td>201711</td>\n",
              "      <td>4</td>\n",
              "      <td>0</td>\n",
              "      <td>12</td>\n",
              "      <td>33</td>\n",
              "      <td>0.929392</td>\n",
              "      <td>7</td>\n",
              "      <td>-1</td>\n",
              "      <td>0</td>\n",
              "    </tr>\n",
              "    <tr>\n",
              "      <th>2</th>\n",
              "      <td>201711</td>\n",
              "      <td>4</td>\n",
              "      <td>0</td>\n",
              "      <td>12</td>\n",
              "      <td>61</td>\n",
              "      <td>0.947946</td>\n",
              "      <td>5</td>\n",
              "      <td>-1</td>\n",
              "      <td>0</td>\n",
              "    </tr>\n",
              "    <tr>\n",
              "      <th>3</th>\n",
              "      <td>201711</td>\n",
              "      <td>4</td>\n",
              "      <td>0</td>\n",
              "      <td>11</td>\n",
              "      <td>32</td>\n",
              "      <td>0.927544</td>\n",
              "      <td>8</td>\n",
              "      <td>1</td>\n",
              "      <td>0</td>\n",
              "    </tr>\n",
              "    <tr>\n",
              "      <th>4</th>\n",
              "      <td>201711</td>\n",
              "      <td>4</td>\n",
              "      <td>0</td>\n",
              "      <td>12</td>\n",
              "      <td>61</td>\n",
              "      <td>0.942123</td>\n",
              "      <td>0</td>\n",
              "      <td>1</td>\n",
              "      <td>0</td>\n",
              "    </tr>\n",
              "  </tbody>\n",
              "</table>\n",
              "</div>"
            ],
            "text/plain": [
              "   codmes  key_value  ...  RIESGO_DIRECTO  COD_CLASIFICACION_DEUDOR\n",
              "0  201711          4  ...              -1                         0\n",
              "1  201711          4  ...              -1                         0\n",
              "2  201711          4  ...              -1                         0\n",
              "3  201711          4  ...               1                         0\n",
              "4  201711          4  ...               1                         0\n",
              "\n",
              "[5 rows x 9 columns]"
            ]
          },
          "metadata": {
            "tags": []
          },
          "execution_count": 12
        }
      ]
    },
    {
      "cell_type": "code",
      "metadata": {
        "id": "pvJtSMlyn06K"
      },
      "source": [
        "#round(df_rcc_train[[\"saldo\"]].describe(percentiles=[.25, .5, .75, .9, .95, .99]), 2)"
      ],
      "execution_count": 39,
      "outputs": []
    },
    {
      "cell_type": "code",
      "metadata": {
        "id": "564fcwNpqZav"
      },
      "source": [
        "#round(df_rcc_test[[\"saldo\"]].describe(percentiles=[.25, .5, .75, .9, .95, .99]), 2)"
      ],
      "execution_count": 40,
      "outputs": []
    },
    {
      "cell_type": "code",
      "metadata": {
        "id": "nfk7rw10b58E"
      },
      "source": [
        "def diff_months(codmes_ini, codmes_fin):\n",
        "  r = relativedelta.relativedelta(datetime.strptime(str(int(codmes_fin)), '%Y%m'), datetime.strptime(str(int(codmes_ini)), '%Y%m'))\n",
        "  return r.years*12 + r.months"
      ],
      "execution_count": 13,
      "outputs": []
    },
    {
      "cell_type": "code",
      "metadata": {
        "id": "y8gu6WnV0yX_"
      },
      "source": [
        "def hist_feat_generator(cat_col, numeric_value, agg_func, df_base, df_base_test):\n",
        "\n",
        "  df_rcc_crosstab = (pd.crosstab(index=[df_rcc_train.key_value, df_rcc_train.codmes], \n",
        "                                columns=df_rcc_train[cat_col], \n",
        "                                values=df_rcc_train[numeric_value],\n",
        "                                aggfunc=agg_func)\n",
        "                      .reset_index(drop=False)\n",
        "                      .reset_index(drop=True))\n",
        "  df_rcc_crosstab.columns = [\"{0}_{1}_FOR_{2}_{3}\".format(numeric_value.upper(), agg_func.upper(), cat_col, c) if c not in [\"key_value\", \"codmes\"] else c for c in df_rcc_crosstab.columns]\n",
        "\n",
        "  feat_cols = [c for c in df_rcc_crosstab.columns if \"{0}_\".format(cat_col) in c]\n",
        "  df_rcc_crosstab[\"MEAN_OF_{0}_{1}_FOR_ALL_{2}\".format(numeric_value.upper(), agg_func.upper(), cat_col)] = df_rcc_crosstab[feat_cols].mean(axis=1)\n",
        "  df_rcc_crosstab[\"SUM_OF_{0}_{1}_FOR_ALL_{2}\".format(numeric_value.upper(), agg_func.upper(), cat_col)] = df_rcc_crosstab[feat_cols].sum(axis=1)\n",
        "  df_rcc_crosstab[\"COUNT_OF_{0}_{1}_FOR_ALL_{2}\".format(numeric_value.upper(), agg_func.upper(), cat_col)] = df_rcc_crosstab[feat_cols].count(axis=1)\n",
        "\n",
        "  df_rcc_test_crosstab = (pd.crosstab(index=[df_rcc_test.key_value, df_rcc_test.codmes], \n",
        "                                columns=df_rcc_test[cat_col], \n",
        "                                values=df_rcc_test[numeric_value],\n",
        "                                aggfunc=agg_func)\n",
        "                      .reset_index(drop=False)\n",
        "                      .reset_index(drop=True))\n",
        "  df_rcc_test_crosstab.columns = [\"{0}_{1}_FOR_{2}_{3}\".format(numeric_value.upper(), agg_func.upper(), cat_col, c) if c not in [\"key_value\", \"codmes\"] else c for c in df_rcc_test_crosstab.columns]\n",
        "\n",
        "  feat_cols = [c for c in df_rcc_test_crosstab.columns if \"{0}_\".format(cat_col) in c]\n",
        "  df_rcc_test_crosstab[\"MEAN_OF_{0}_{1}_FOR_ALL_{2}\".format(numeric_value.upper(), agg_func.upper(), cat_col)] = df_rcc_test_crosstab[feat_cols].mean(axis=1)\n",
        "  df_rcc_test_crosstab[\"SUM_OF_{0}_{1}_FOR_ALL_{2}\".format(numeric_value.upper(), agg_func.upper(), cat_col)] = df_rcc_test_crosstab[feat_cols].sum(axis=1)\n",
        "  df_rcc_test_crosstab[\"COUNT_OF_{0}_{1}_FOR_ALL_{2}\".format(numeric_value.upper(), agg_func.upper(), cat_col)] = df_rcc_test_crosstab[feat_cols].count(axis=1)\n",
        "\n",
        "  agg_col_dict = {\"codmes\": [\"last\", \"first\"]}\n",
        "  agg_col_dict.update({c: [\"mean\", \"sum\", \"count\"] for c in df_rcc_crosstab.columns if c not in [\"key_value\", \"codmes\"]})\n",
        "\n",
        "  for month_level in [\"U03M\", \"U06M\", \"U12M\"]:\n",
        "    print(\"\\t\\t\\tFeatures at month level: {0}\".format(month_level))\n",
        "    df_rcc_agg = (df_rcc_crosstab.loc[df_rcc_crosstab[\"codmes\"].isin(month_dict[month_level])]\n",
        "                                .groupby([\"key_value\"], as_index=False)\n",
        "                                .agg(agg_col_dict)\n",
        "                    )\n",
        "    df_rcc_agg.columns = [month_level + \"_\" + \"_\".join(c).upper() if c[-1] != \"\" else c[0] for c in df_rcc_agg.columns]\n",
        "\n",
        "    df_rcc_agg[\"{0}_RECENCY_FOR_{1}\".format(month_level, cat_col)] = df_rcc_agg.apply(lambda row: diff_months(row[\"{0}_CODMES_LAST\".format(month_level)], 201803), axis=1)\n",
        "    df_rcc_agg[\"{0}_LONG_RECENCY_FOR_{1}\".format(month_level, cat_col)] = df_rcc_agg.apply(lambda row: diff_months(row[\"{0}_CODMES_FIRST\".format(month_level)], 201803), axis=1)\n",
        "    df_rcc_agg[\"{0}_DIFF_MONTHS_FIRST_LAST_FOR_{1}\".format(month_level, cat_col)] = df_rcc_agg.apply(lambda row: diff_months(row[\"{0}_CODMES_FIRST\".format(month_level)], row[\"{0}_CODMES_LAST\".format(month_level)]), axis=1)\n",
        "    del df_rcc_agg[\"{0}_CODMES_FIRST\".format(month_level, cat_col)]\n",
        "    del df_rcc_agg[\"{0}_CODMES_LAST\".format(month_level, cat_col)]\n",
        "\n",
        "    df_rcc_test_agg = (df_rcc_test_crosstab.loc[df_rcc_test_crosstab[\"codmes\"].isin(month_dict_test[month_level])]\n",
        "                                .groupby([\"key_value\"], as_index=False)\n",
        "                                .agg(agg_col_dict)\n",
        "                       )\n",
        "    df_rcc_test_agg.columns = [month_level + \"_\" + \"_\".join(c).upper() if c[-1] != \"\" else c[0] for c in df_rcc_test_agg.columns]\n",
        "    \n",
        "    df_rcc_test_agg[\"{0}_RECENCY_FOR_{1}\".format(month_level, cat_col)] = df_rcc_test_agg.apply(lambda row: diff_months(row[\"{0}_CODMES_LAST\".format(month_level)], 201903), axis=1)\n",
        "    df_rcc_test_agg[\"{0}_LONG_RECENCY_FOR_{1}\".format(month_level, cat_col)] = df_rcc_test_agg.apply(lambda row: diff_months(row[\"{0}_CODMES_FIRST\".format(month_level)], 201903), axis=1)\n",
        "    df_rcc_test_agg[\"{0}_DIFF_MONTHS_FIRST_LAST_FOR_{1}\".format(month_level, cat_col)] = df_rcc_test_agg.apply(lambda row: diff_months(row[\"{0}_CODMES_FIRST\".format(month_level)], row[\"{0}_CODMES_LAST\".format(month_level)]), axis=1)\n",
        "    del df_rcc_test_agg[\"{0}_CODMES_FIRST\".format(month_level, cat_col)]\n",
        "    del df_rcc_test_agg[\"{0}_CODMES_LAST\".format(month_level, cat_col)]\n",
        "\n",
        "    df_base = df_base.merge(df_rcc_agg, how=\"left\", on=\"key_value\")\n",
        "    df_base_test = df_base_test.merge(df_rcc_test_agg, how=\"left\", on=\"key_value\")\n",
        "\n",
        "  return df_base, df_base_test"
      ],
      "execution_count": 32,
      "outputs": []
    },
    {
      "cell_type": "code",
      "metadata": {
        "id": "lFWxkdUSMGaU"
      },
      "source": [
        "month_dict = {\"U12M\": [201802, 201801, 201712, 201711, 201710, 201709, 201708, 201707, 201706, 201705, 201704, 201703],\n",
        "              \"U06M\": [201802, 201801, 201712, 201711, 201710, 201709],\n",
        "              \"U03M\": [201802, 201801, 201712],\n",
        "              \"U01M\": [201802]\n",
        "              }\n",
        "\n",
        "month_dict_test = {\"U12M\": [201902, 201901, 201812, 201811, 201810, 201809, 201808, 201807, 201806, 201805, 201804, 201803],\n",
        "              \"U06M\": [201902, 201901, 201812, 201811, 201810, 201809],\n",
        "              \"U03M\": [201902, 201901, 201812],\n",
        "              \"U01M\": [201902]\n",
        "              }"
      ],
      "execution_count": 15,
      "outputs": []
    },
    {
      "cell_type": "markdown",
      "metadata": {
        "id": "MQo9IWMH2ZGJ"
      },
      "source": [
        "#### **Variable Producto**"
      ]
    },
    {
      "cell_type": "code",
      "metadata": {
        "id": "R7KT1r4qYEpO",
        "colab": {
          "base_uri": "https://localhost:8080/"
        },
        "outputId": "9d419584-7a45-403e-9b7d-a1c6e6b55657"
      },
      "source": [
        "top_freq_products = [1, 2, 3, 8, 255, 4, 0, 6]\n",
        "top_propensity_products = [12, 17, 18, 25, 20]\n",
        "low_propensity_products = [32, 33, 35, 36, 37, 38, 40, 41]\n",
        "list_product = top_freq_products + top_propensity_products + low_propensity_products\n",
        "print(list_product)"
      ],
      "execution_count": 16,
      "outputs": [
        {
          "output_type": "stream",
          "text": [
            "[1, 2, 3, 8, 255, 4, 0, 6, 12, 17, 18, 25, 20, 32, 33, 35, 36, 37, 38, 40, 41]\n"
          ],
          "name": "stdout"
        }
      ]
    },
    {
      "cell_type": "code",
      "metadata": {
        "id": "iAJthkm6F7ay"
      },
      "source": [
        "df_rcc_test[\"PRODUCTO\"] = df_rcc_test[\"PRODUCTO\"].fillna(255)\n",
        "df_rcc_test[\"PRODUCTO\"] = df_rcc_test[\"PRODUCTO\"].astype(int)"
      ],
      "execution_count": 17,
      "outputs": []
    },
    {
      "cell_type": "code",
      "metadata": {
        "id": "gZuKiLToYHcQ"
      },
      "source": [
        "cat_col = \"PRODUCTO\"\n",
        "df_rcc_train.loc[~df_rcc_train[cat_col].isin(list_product), cat_col] = \"OTROS\"\n",
        "df_rcc_train.loc[df_rcc_train[cat_col].isin(top_propensity_products), cat_col] = \"TOP_PROPENSITY\"\n",
        "df_rcc_train.loc[df_rcc_train[cat_col].isin(low_propensity_products), cat_col] = \"LOW_PROPENSITY\"\n",
        "\n",
        "df_rcc_test.loc[~df_rcc_test[cat_col].isin(list_product), cat_col] = \"OTROS\"\n",
        "df_rcc_test.loc[df_rcc_test[cat_col].isin(top_propensity_products), cat_col] = \"TOP_PROPENSITY\"\n",
        "df_rcc_test.loc[df_rcc_test[cat_col].isin(low_propensity_products), cat_col] = \"LOW_PROPENSITY\""
      ],
      "execution_count": 18,
      "outputs": []
    },
    {
      "cell_type": "markdown",
      "metadata": {
        "id": "19N5Ao5MRR6W"
      },
      "source": [
        "#### **Variable Institucion Financiera**"
      ]
    },
    {
      "cell_type": "code",
      "metadata": {
        "colab": {
          "base_uri": "https://localhost:8080/"
        },
        "id": "CILvcGmOlXQa",
        "outputId": "b13d89bd-336c-4eca-ed23-17c8df80abd7"
      },
      "source": [
        "top_freq_instits = [34, 1, 10, 28, 11, 37, 0, 2]\n",
        "top_propensity_instits = [9, 26, 89, 105, 99, 39, 97, 90, 108, 106, 107, 95, 49, 94, 100, 77, 91, 96, 6, 69, 104, 85, 70, 88, 93, 101, 75, 80, 73, 76, 52, 46, 68, 71, 92, 63, 60, 55, 65] # [74, 5]\n",
        "low_propensity_instits = [12, 86, 47, 14, 78, 84] #[67, 66, 87, 98, 72, 31, 81]\n",
        "list_instit = top_freq_instits + top_propensity_instits + low_propensity_instits\n",
        "print(list_instit)"
      ],
      "execution_count": 20,
      "outputs": [
        {
          "output_type": "stream",
          "text": [
            "[34, 1, 10, 28, 11, 37, 0, 2, 9, 26, 89, 105, 99, 39, 97, 90, 108, 106, 107, 95, 49, 94, 100, 77, 91, 96, 6, 69, 104, 85, 70, 88, 93, 101, 75, 80, 73, 76, 52, 46, 68, 71, 92, 63, 60, 55, 65, 12, 86, 47, 14, 78, 84]\n"
          ],
          "name": "stdout"
        }
      ]
    },
    {
      "cell_type": "code",
      "metadata": {
        "id": "MQVXzMADp6ML"
      },
      "source": [
        "df_rcc_test[\"cod_instit_financiera\"] = df_rcc_test[\"cod_instit_financiera\"].fillna(255)\n",
        "df_rcc_test[\"cod_instit_financiera\"] = df_rcc_test[\"cod_instit_financiera\"].astype(int)"
      ],
      "execution_count": 21,
      "outputs": []
    },
    {
      "cell_type": "code",
      "metadata": {
        "id": "S7O87AB-lXKK"
      },
      "source": [
        "df_rcc_train[\"cod_instit_financiera\"] = df_rcc_train[\"cod_instit_financiera\"]\n",
        "df_rcc_train.loc[df_rcc_train[\"cod_instit_financiera\"].isin(top_propensity_instits), \"cod_instit_financiera\"] = \"TOP_PROPENSITY\"\n",
        "df_rcc_train.loc[df_rcc_train[\"cod_instit_financiera\"].isin(low_propensity_instits), \"cod_instit_financiera\"] = \"LOW_PROPENSITY\"\n",
        "df_rcc_train.loc[~df_rcc_train[\"cod_instit_financiera\"].isin(list_instit), \"cod_instit_financiera\"] = \"OTROS\""
      ],
      "execution_count": 22,
      "outputs": []
    },
    {
      "cell_type": "code",
      "metadata": {
        "id": "A5zwznMQldN1"
      },
      "source": [
        "df_rcc_test[\"cod_instit_financiera\"] = df_rcc_test[\"cod_instit_financiera\"]\n",
        "df_rcc_test.loc[df_rcc_test[\"cod_instit_financiera\"].isin(top_propensity_instits), \"cod_instit_financiera\"] = \"TOP_PROPENSITY\"\n",
        "df_rcc_test.loc[df_rcc_test[\"cod_instit_financiera\"].isin(low_propensity_instits), \"cod_instit_financiera\"] = \"LOW_PROPENSITY\"\n",
        "df_rcc_test.loc[~df_rcc_test[\"cod_instit_financiera\"].isin(list_instit), \"cod_instit_financiera\"] = \"OTROS\""
      ],
      "execution_count": 23,
      "outputs": []
    },
    {
      "cell_type": "markdown",
      "metadata": {
        "id": "JuTgpSnO-mxe"
      },
      "source": [
        "#### **Variable Condición como categórica**"
      ]
    },
    {
      "cell_type": "code",
      "metadata": {
        "id": "WR-Z2593-m-Q"
      },
      "source": [
        "df_rcc_train[\"condicion_cat\"] = df_rcc_train[\"condicion\"].apply(lambda c: 0 if c == 0 else \"00_03\" if c < 90 else  \"03_06\" if c < 180 else \"06_12\" if c < 365 else \"12-32\" if c < 960 else \">32\")\n",
        "df_rcc_test[\"condicion_cat\"] = df_rcc_test[\"condicion\"].apply(lambda c: 0 if c == 0 else \"00_03\" if c < 90 else  \"03_06\" if c < 180 else \"06_12\" if c < 365 else \"12-32\" if c < 960 else \">32\")"
      ],
      "execution_count": 24,
      "outputs": []
    },
    {
      "cell_type": "code",
      "metadata": {
        "id": "6cI0LQSWC0oA",
        "outputId": "55fb390c-9bf0-47b8-a7bf-a8d18b7d7558",
        "colab": {
          "base_uri": "https://localhost:8080/"
        }
      },
      "source": [
        "df_rcc_train[\"condicion_cat\"].value_counts(normalize=True, dropna=False)"
      ],
      "execution_count": 25,
      "outputs": [
        {
          "output_type": "execute_result",
          "data": {
            "text/plain": [
              "0        0.966859\n",
              "00_03    0.022446\n",
              ">32      0.005332\n",
              "12-32    0.002580\n",
              "03_06    0.001442\n",
              "06_12    0.001340\n",
              "Name: condicion_cat, dtype: float64"
            ]
          },
          "metadata": {
            "tags": []
          },
          "execution_count": 25
        }
      ]
    },
    {
      "cell_type": "code",
      "metadata": {
        "id": "4vwU_P1TC4ox",
        "outputId": "2378b684-31c5-4946-913b-c45858a2d8cc",
        "colab": {
          "base_uri": "https://localhost:8080/"
        }
      },
      "source": [
        "df_rcc_test[\"condicion_cat\"].value_counts(normalize=True, dropna=False)"
      ],
      "execution_count": 26,
      "outputs": [
        {
          "output_type": "execute_result",
          "data": {
            "text/plain": [
              "0        0.967486\n",
              "00_03    0.019706\n",
              ">32      0.006578\n",
              "12-32    0.002869\n",
              "06_12    0.001725\n",
              "03_06    0.001636\n",
              "Name: condicion_cat, dtype: float64"
            ]
          },
          "metadata": {
            "tags": []
          },
          "execution_count": 26
        }
      ]
    },
    {
      "cell_type": "markdown",
      "metadata": {
        "id": "HpHJOQc2-yXT"
      },
      "source": [
        "#### **Generando los features**"
      ]
    },
    {
      "cell_type": "code",
      "metadata": {
        "id": "ydDuDQ7lvcja"
      },
      "source": [
        "df_base = df_se_train[[\"key_value\"]].copy()\n",
        "df_base_test = df_se_test[[\"key_value\"]].copy()"
      ],
      "execution_count": 33,
      "outputs": []
    },
    {
      "cell_type": "code",
      "metadata": {
        "id": "X8Y3BV3-A20d",
        "outputId": "f4621ac5-cd70-4704-916a-3798e6719b18",
        "colab": {
          "base_uri": "https://localhost:8080/"
        }
      },
      "source": [
        "for cat_col in [\"PRODUCTO\", \"cod_instit_financiera\", \"condicion_cat\"]:\n",
        "  print(\"Cat Feature: {0}\".format(cat_col))\n",
        "  for numeric_value in [\"saldo\"]:\n",
        "    print(\"\\tNumeric Feature: {0}\".format(numeric_value))\n",
        "    for agg_func in [\"mean\"]:\n",
        "      print(\"\\t\\tAgg func: {0}\".format(agg_func))\n",
        "      df_base, df_base_test = hist_feat_generator(cat_col, numeric_value, agg_func, df_base, df_base_test)"
      ],
      "execution_count": 34,
      "outputs": [
        {
          "output_type": "stream",
          "text": [
            "Cat Feature: PRODUCTO\n",
            "\tNumeric Feature: saldo\n",
            "\t\tAgg func: mean\n",
            "\t\t\tFeatures at month level: U03M\n",
            "\t\t\tFeatures at month level: U06M\n",
            "\t\t\tFeatures at month level: U12M\n",
            "Cat Feature: cod_instit_financiera\n",
            "\tNumeric Feature: saldo\n",
            "\t\tAgg func: mean\n",
            "\t\t\tFeatures at month level: U03M\n",
            "\t\t\tFeatures at month level: U06M\n",
            "\t\t\tFeatures at month level: U12M\n",
            "Cat Feature: condicion_cat\n",
            "\tNumeric Feature: saldo\n",
            "\t\tAgg func: mean\n",
            "\t\t\tFeatures at month level: U03M\n",
            "\t\t\tFeatures at month level: U06M\n",
            "\t\t\tFeatures at month level: U12M\n"
          ],
          "name": "stdout"
        }
      ]
    },
    {
      "cell_type": "code",
      "metadata": {
        "colab": {
          "base_uri": "https://localhost:8080/"
        },
        "id": "5WBrS9CewrVJ",
        "outputId": "afcb1ad3-41a1-4d46-bd5a-253714806eaa"
      },
      "source": [
        "df_base.shape, df_base_test.shape"
      ],
      "execution_count": 35,
      "outputs": [
        {
          "output_type": "execute_result",
          "data": {
            "text/plain": [
              "((358428, 343), (396609, 343))"
            ]
          },
          "metadata": {
            "tags": []
          },
          "execution_count": 35
        }
      ]
    },
    {
      "cell_type": "code",
      "metadata": {
        "id": "NKY12w8ACwFg"
      },
      "source": [
        "df_base.shape, df_base_test.shape"
      ],
      "execution_count": null,
      "outputs": []
    },
    {
      "cell_type": "markdown",
      "metadata": {
        "id": "DBomSulksqI1"
      },
      "source": [
        "#### **Exportando el dataset de RCC**"
      ]
    },
    {
      "cell_type": "code",
      "metadata": {
        "id": "siMV3Grndn0f"
      },
      "source": [
        "df_base.to_csv(\"[01] Intermediate/ds_rcc.csv\", index=False)\n",
        "df_base_test.to_csv(\"[01] Intermediate/ds_rcc_test.csv\", index=False)"
      ],
      "execution_count": 36,
      "outputs": []
    },
    {
      "cell_type": "markdown",
      "metadata": {
        "id": "9Ybce2rt0S1I"
      },
      "source": [
        "## Todos los Datasets"
      ]
    },
    {
      "cell_type": "code",
      "metadata": {
        "colab": {
          "base_uri": "https://localhost:8080/"
        },
        "id": "YjK7LUVRLiSS",
        "outputId": "091612e7-d981-4780-85f1-6a47600b86ee"
      },
      "source": [
        "!ls -lh '[01] Intermediate'"
      ],
      "execution_count": null,
      "outputs": [
        {
          "output_type": "stream",
          "text": [
            "total 976M\n",
            "-rw------- 1 root root 258M Dec 18 12:56 ds_rcc.csv\n",
            "-rw------- 1 root root 185M Dec 18 16:51 ds_rcc_instit.csv\n",
            "-rw------- 1 root root 204M Dec 18 16:52 ds_rcc_instit_test.csv\n",
            "-rw------- 1 root root 285M Dec 18 12:57 ds_rcc_test.csv\n",
            "-rw------- 1 root root  23M Dec 17 15:01 ds_se.csv\n",
            "-rw------- 1 root root  24M Dec 17 15:01 ds_se_test.csv\n"
          ],
          "name": "stdout"
        }
      ]
    },
    {
      "cell_type": "markdown",
      "metadata": {
        "id": "1APWyEke0YGB"
      },
      "source": [
        "---"
      ]
    }
  ]
}