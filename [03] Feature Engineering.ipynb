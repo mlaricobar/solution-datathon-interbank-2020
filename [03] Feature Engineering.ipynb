{
  "nbformat": 4,
  "nbformat_minor": 0,
  "metadata": {
    "colab": {
      "name": "Welcome To Colaboratory",
      "provenance": [],
      "collapsed_sections": [],
      "include_colab_link": true
    },
    "kernelspec": {
      "display_name": "Python 3",
      "name": "python3"
    }
  },
  "cells": [
    {
      "cell_type": "markdown",
      "metadata": {
        "id": "view-in-github",
        "colab_type": "text"
      },
      "source": [
        "<a href=\"https://colab.research.google.com/github/mlaricobar/solution-datathon-interbank-2020/blob/desarrollo/%5B03%5D%20Feature%20Engineering.ipynb\" target=\"_parent\"><img src=\"https://colab.research.google.com/assets/colab-badge.svg\" alt=\"Open In Colab\"/></a>"
      ]
    },
    {
      "cell_type": "markdown",
      "metadata": {
        "id": "YxxJTgsCqdQn"
      },
      "source": [
        "# Feature Engineering"
      ]
    },
    {
      "cell_type": "code",
      "metadata": {
        "id": "VLUmnZDrqe0e"
      },
      "source": [
        "from google.colab import drive, files\n",
        "\n",
        "import pandas as pd\n",
        "\n",
        "from datetime import datetime\n",
        "from dateutil import relativedelta"
      ],
      "execution_count": 1,
      "outputs": []
    },
    {
      "cell_type": "code",
      "metadata": {
        "id": "If5QUE85qfhC",
        "colab": {
          "base_uri": "https://localhost:8080/"
        },
        "outputId": "e88cd09c-d581-4feb-be71-a4951c5bf337"
      },
      "source": [
        "drive.mount('/gdrive')"
      ],
      "execution_count": 2,
      "outputs": [
        {
          "output_type": "stream",
          "text": [
            "Mounted at /gdrive\n"
          ],
          "name": "stdout"
        }
      ]
    },
    {
      "cell_type": "code",
      "metadata": {
        "id": "oTaBGhKUqgoW",
        "colab": {
          "base_uri": "https://localhost:8080/"
        },
        "outputId": "a05c6512-58a1-4da0-c4e5-a515b42ece24"
      },
      "source": [
        "%cd /gdrive/'My Drive'/Competencias/'[02] Interbank-2020'\n",
        "!ls -lh '[00] Data'"
      ],
      "execution_count": 3,
      "outputs": [
        {
          "output_type": "stream",
          "text": [
            "/gdrive/My Drive/Competencias/[02] Interbank-2020\n",
            "total 5.1G\n",
            "-rw------- 1 root root 979M Dec 12 01:33 censo_test.csv\n",
            "-rw------- 1 root root 748M Dec 12 01:34 censo_train.csv\n",
            "-rw------- 1 root root  998 Dec 12 01:34 productos.csv\n",
            "-rw------- 1 root root 1.7G Dec 12 01:34 rcc_test.csv\n",
            "-rw------- 1 root root 1.4G Dec 12 01:35 rcc_train.csv\n",
            "-rw------- 1 root root 3.3M Dec 12 01:35 sample_submission.csv\n",
            "-rw------- 1 root root  30M Dec 12 01:35 se_test.csv\n",
            "-rw------- 1 root root  28M Dec 12 01:35 se_train.csv\n",
            "-rw------- 1 root root 122M Dec 12 01:35 sunat_test.csv\n",
            "-rw------- 1 root root 106M Dec 12 01:35 sunat_train.csv\n",
            "-rw------- 1 root root 3.0M Dec 12 01:35 y_train.csv\n"
          ],
          "name": "stdout"
        }
      ]
    },
    {
      "cell_type": "markdown",
      "metadata": {
        "id": "Q0ApGQ8SqwWW"
      },
      "source": [
        "## Dataset RCC"
      ]
    },
    {
      "cell_type": "code",
      "metadata": {
        "id": "XOPmAEl6q9MD"
      },
      "source": [
        "def optimizar_df(df):\n",
        "  \n",
        "  for col_ in df.select_dtypes(include=[int]).columns:\n",
        "    df[col_] = pd.to_numeric(df[col_], downcast=\"unsigned\")\n",
        "\n",
        "  for col_ in df.select_dtypes(include=[float]).columns:\n",
        "    df[col_] = pd.to_numeric(df[col_], downcast=\"float\")\n",
        "  \n",
        "  return df"
      ],
      "execution_count": 4,
      "outputs": []
    },
    {
      "cell_type": "code",
      "metadata": {
        "id": "hcaI9FoaqtHB"
      },
      "source": [
        "df_rcc_train = optimizar_df(pd.read_csv(\"[00] Data/rcc_train.csv\"))\n",
        "df_rcc_test = optimizar_df(pd.read_csv(\"[00] Data/rcc_test.csv\"))"
      ],
      "execution_count": 20,
      "outputs": []
    },
    {
      "cell_type": "code",
      "metadata": {
        "id": "XBcfsBr1rVbJ",
        "colab": {
          "base_uri": "https://localhost:8080/"
        },
        "outputId": "516f6786-21c5-41d2-f551-a99823cdb06c"
      },
      "source": [
        "df_rcc_train.info(null_counts=True)"
      ],
      "execution_count": 6,
      "outputs": [
        {
          "output_type": "stream",
          "text": [
            "<class 'pandas.core.frame.DataFrame'>\n",
            "RangeIndex: 30391626 entries, 0 to 30391625\n",
            "Data columns (total 9 columns):\n",
            " #   Column                    Non-Null Count     Dtype  \n",
            "---  ------                    --------------     -----  \n",
            " 0   codmes                    30391626 non-null  uint32 \n",
            " 1   key_value                 30391626 non-null  uint32 \n",
            " 2   condicion                 30391626 non-null  uint16 \n",
            " 3   tipo_credito              30391626 non-null  uint8  \n",
            " 4   cod_instit_financiera     30391626 non-null  uint8  \n",
            " 5   saldo                     30391626 non-null  float32\n",
            " 6   PRODUCTO                  30391626 non-null  uint8  \n",
            " 7   RIESGO_DIRECTO            30391626 non-null  int64  \n",
            " 8   COD_CLASIFICACION_DEUDOR  30391626 non-null  uint8  \n",
            "dtypes: float32(1), int64(1), uint16(1), uint32(2), uint8(4)\n",
            "memory usage: 753.6 MB\n"
          ],
          "name": "stdout"
        }
      ]
    },
    {
      "cell_type": "code",
      "metadata": {
        "id": "PKyG4eIsqzHH",
        "colab": {
          "base_uri": "https://localhost:8080/",
          "height": 204
        },
        "outputId": "033920e7-0db2-4a28-9410-df6174ed2f6c"
      },
      "source": [
        "df_rcc_train.head()"
      ],
      "execution_count": 7,
      "outputs": [
        {
          "output_type": "execute_result",
          "data": {
            "text/html": [
              "<div>\n",
              "<style scoped>\n",
              "    .dataframe tbody tr th:only-of-type {\n",
              "        vertical-align: middle;\n",
              "    }\n",
              "\n",
              "    .dataframe tbody tr th {\n",
              "        vertical-align: top;\n",
              "    }\n",
              "\n",
              "    .dataframe thead th {\n",
              "        text-align: right;\n",
              "    }\n",
              "</style>\n",
              "<table border=\"1\" class=\"dataframe\">\n",
              "  <thead>\n",
              "    <tr style=\"text-align: right;\">\n",
              "      <th></th>\n",
              "      <th>codmes</th>\n",
              "      <th>key_value</th>\n",
              "      <th>condicion</th>\n",
              "      <th>tipo_credito</th>\n",
              "      <th>cod_instit_financiera</th>\n",
              "      <th>saldo</th>\n",
              "      <th>PRODUCTO</th>\n",
              "      <th>RIESGO_DIRECTO</th>\n",
              "      <th>COD_CLASIFICACION_DEUDOR</th>\n",
              "    </tr>\n",
              "  </thead>\n",
              "  <tbody>\n",
              "    <tr>\n",
              "      <th>0</th>\n",
              "      <td>201711</td>\n",
              "      <td>4</td>\n",
              "      <td>0</td>\n",
              "      <td>12</td>\n",
              "      <td>33</td>\n",
              "      <td>-0.072601</td>\n",
              "      <td>6</td>\n",
              "      <td>-1</td>\n",
              "      <td>0</td>\n",
              "    </tr>\n",
              "    <tr>\n",
              "      <th>1</th>\n",
              "      <td>201711</td>\n",
              "      <td>4</td>\n",
              "      <td>0</td>\n",
              "      <td>12</td>\n",
              "      <td>33</td>\n",
              "      <td>-0.070608</td>\n",
              "      <td>7</td>\n",
              "      <td>-1</td>\n",
              "      <td>0</td>\n",
              "    </tr>\n",
              "    <tr>\n",
              "      <th>2</th>\n",
              "      <td>201711</td>\n",
              "      <td>4</td>\n",
              "      <td>0</td>\n",
              "      <td>12</td>\n",
              "      <td>61</td>\n",
              "      <td>-0.052054</td>\n",
              "      <td>5</td>\n",
              "      <td>-1</td>\n",
              "      <td>0</td>\n",
              "    </tr>\n",
              "    <tr>\n",
              "      <th>3</th>\n",
              "      <td>201711</td>\n",
              "      <td>4</td>\n",
              "      <td>0</td>\n",
              "      <td>11</td>\n",
              "      <td>32</td>\n",
              "      <td>-0.072456</td>\n",
              "      <td>8</td>\n",
              "      <td>1</td>\n",
              "      <td>0</td>\n",
              "    </tr>\n",
              "    <tr>\n",
              "      <th>4</th>\n",
              "      <td>201711</td>\n",
              "      <td>4</td>\n",
              "      <td>0</td>\n",
              "      <td>12</td>\n",
              "      <td>61</td>\n",
              "      <td>-0.057877</td>\n",
              "      <td>0</td>\n",
              "      <td>1</td>\n",
              "      <td>0</td>\n",
              "    </tr>\n",
              "  </tbody>\n",
              "</table>\n",
              "</div>"
            ],
            "text/plain": [
              "   codmes  key_value  ...  RIESGO_DIRECTO  COD_CLASIFICACION_DEUDOR\n",
              "0  201711          4  ...              -1                         0\n",
              "1  201711          4  ...              -1                         0\n",
              "2  201711          4  ...              -1                         0\n",
              "3  201711          4  ...               1                         0\n",
              "4  201711          4  ...               1                         0\n",
              "\n",
              "[5 rows x 9 columns]"
            ]
          },
          "metadata": {
            "tags": []
          },
          "execution_count": 7
        }
      ]
    },
    {
      "cell_type": "code",
      "metadata": {
        "id": "R7KT1r4qYEpO",
        "colab": {
          "base_uri": "https://localhost:8080/"
        },
        "outputId": "4af4a4bb-07ed-488f-a37d-4d863fe87a7f"
      },
      "source": [
        "top_freq_products = [1, 2, 3, 8, 4, 0, 6]\n",
        "top_propensity_products = [12, 17, 18, 25, 20]\n",
        "low_propensity_products = [32, 33, 35, 36, 37, 38, 40, 41]\n",
        "list_product = top_freq_products + top_propensity_products + low_propensity_products\n",
        "print(list_product)"
      ],
      "execution_count": 21,
      "outputs": [
        {
          "output_type": "stream",
          "text": [
            "[1, 2, 3, 8, 4, 0, 6, 12, 17, 18, 25, 20, 32, 33, 35, 36, 37, 38, 40, 41]\n"
          ],
          "name": "stdout"
        }
      ]
    },
    {
      "cell_type": "code",
      "metadata": {
        "id": "gZuKiLToYHcQ"
      },
      "source": [
        "cat_col = \"PRODUCTO\"\n",
        "df_rcc_train.loc[~df_rcc_train[cat_col].isin(list_product), cat_col] = \"OTROS\"\n",
        "df_rcc_train.loc[df_rcc_train[cat_col].isin(top_propensity_products), cat_col] = \"TOP_PROPENSITY\"\n",
        "df_rcc_train.loc[df_rcc_train[cat_col].isin(low_propensity_products), cat_col] = \"LOW_PROPENSITY\""
      ],
      "execution_count": 22,
      "outputs": []
    },
    {
      "cell_type": "code",
      "metadata": {
        "id": "y8gu6WnV0yX_"
      },
      "source": [
        "agg_func = \"mean\"\n",
        "numeric_value = \"saldo\"\n",
        "df_rcc_crosstab = (pd.crosstab(index=[df_rcc_train.key_value, df_rcc_train.codmes], \n",
        "                               columns=df_rcc_train[cat_col], \n",
        "                               values=df_rcc_train[numeric_value],\n",
        "                               aggfunc=agg_func)\n",
        "                    .reset_index(drop=False)\n",
        "                    .reset_index(drop=True))\n",
        "df_rcc_crosstab.columns = [\"{0}_{1}_FOR_{2}_{3}\".format(numeric_value.upper(), agg_func.upper(), cat_col, c) if c not in [\"key_value\", \"codmes\"] else c for c in df_rcc_crosstab.columns]\n",
        "\n",
        "feat_cols = [c for c in df_rcc_crosstab.columns if \"{0}_\".format(cat_col) in c]\n",
        "df_rcc_crosstab[\"MEAN_OF_{0}_{1}_FOR_ALL_{2}\".format(numeric_value.upper(), agg_func.upper(), cat_col)] = df_rcc_crosstab[feat_cols].mean(axis=1)\n",
        "df_rcc_crosstab[\"SUM_OF_{0}_{1}_FOR_ALL_{2}\".format(numeric_value.upper(), agg_func.upper(), cat_col)] = df_rcc_crosstab[feat_cols].sum(axis=1)\n",
        "df_rcc_crosstab[\"COUNT_OF_{0}_{1}_FOR_ALL_{2}\".format(numeric_value.upper(), agg_func.upper(), cat_col)] = df_rcc_crosstab[feat_cols].count(axis=1)"
      ],
      "execution_count": 24,
      "outputs": []
    },
    {
      "cell_type": "code",
      "metadata": {
        "id": "lTmljXtBeVSA",
        "colab": {
          "base_uri": "https://localhost:8080/",
          "height": 379
        },
        "outputId": "1fd462a8-f58e-4c85-c094-ff5d8b496e28"
      },
      "source": [
        "df_rcc_crosstab.head(10)"
      ],
      "execution_count": 25,
      "outputs": [
        {
          "output_type": "execute_result",
          "data": {
            "text/html": [
              "<div>\n",
              "<style scoped>\n",
              "    .dataframe tbody tr th:only-of-type {\n",
              "        vertical-align: middle;\n",
              "    }\n",
              "\n",
              "    .dataframe tbody tr th {\n",
              "        vertical-align: top;\n",
              "    }\n",
              "\n",
              "    .dataframe thead th {\n",
              "        text-align: right;\n",
              "    }\n",
              "</style>\n",
              "<table border=\"1\" class=\"dataframe\">\n",
              "  <thead>\n",
              "    <tr style=\"text-align: right;\">\n",
              "      <th></th>\n",
              "      <th>key_value</th>\n",
              "      <th>codmes</th>\n",
              "      <th>SALDO_MEAN_FOR_PRODUCTO_0</th>\n",
              "      <th>SALDO_MEAN_FOR_PRODUCTO_1</th>\n",
              "      <th>SALDO_MEAN_FOR_PRODUCTO_2</th>\n",
              "      <th>SALDO_MEAN_FOR_PRODUCTO_3</th>\n",
              "      <th>SALDO_MEAN_FOR_PRODUCTO_4</th>\n",
              "      <th>SALDO_MEAN_FOR_PRODUCTO_6</th>\n",
              "      <th>SALDO_MEAN_FOR_PRODUCTO_8</th>\n",
              "      <th>SALDO_MEAN_FOR_PRODUCTO_LOW_PROPENSITY</th>\n",
              "      <th>SALDO_MEAN_FOR_PRODUCTO_OTROS</th>\n",
              "      <th>SALDO_MEAN_FOR_PRODUCTO_TOP_PROPENSITY</th>\n",
              "      <th>MEAN_OF_SALDO_MEAN_FOR_ALL_PRODUCTO</th>\n",
              "      <th>SUM_OF_SALDO_MEAN_FOR_ALL_PRODUCTO</th>\n",
              "      <th>COUNT_OF_SALDO_MEAN_FOR_ALL_PRODUCTO</th>\n",
              "    </tr>\n",
              "  </thead>\n",
              "  <tbody>\n",
              "    <tr>\n",
              "      <th>0</th>\n",
              "      <td>0</td>\n",
              "      <td>201703</td>\n",
              "      <td>NaN</td>\n",
              "      <td>-0.072814</td>\n",
              "      <td>-0.038181</td>\n",
              "      <td>-0.041831</td>\n",
              "      <td>NaN</td>\n",
              "      <td>NaN</td>\n",
              "      <td>-0.069253</td>\n",
              "      <td>NaN</td>\n",
              "      <td>NaN</td>\n",
              "      <td>NaN</td>\n",
              "      <td>-0.055520</td>\n",
              "      <td>-0.222079</td>\n",
              "      <td>4</td>\n",
              "    </tr>\n",
              "    <tr>\n",
              "      <th>1</th>\n",
              "      <td>0</td>\n",
              "      <td>201704</td>\n",
              "      <td>NaN</td>\n",
              "      <td>-0.072556</td>\n",
              "      <td>-0.038181</td>\n",
              "      <td>-0.044653</td>\n",
              "      <td>NaN</td>\n",
              "      <td>NaN</td>\n",
              "      <td>-0.066431</td>\n",
              "      <td>NaN</td>\n",
              "      <td>-0.072814</td>\n",
              "      <td>NaN</td>\n",
              "      <td>-0.058927</td>\n",
              "      <td>-0.294635</td>\n",
              "      <td>5</td>\n",
              "    </tr>\n",
              "    <tr>\n",
              "      <th>2</th>\n",
              "      <td>0</td>\n",
              "      <td>201705</td>\n",
              "      <td>NaN</td>\n",
              "      <td>-0.072713</td>\n",
              "      <td>-0.038181</td>\n",
              "      <td>-0.043309</td>\n",
              "      <td>NaN</td>\n",
              "      <td>NaN</td>\n",
              "      <td>-0.067775</td>\n",
              "      <td>NaN</td>\n",
              "      <td>-0.072814</td>\n",
              "      <td>NaN</td>\n",
              "      <td>-0.058958</td>\n",
              "      <td>-0.294792</td>\n",
              "      <td>5</td>\n",
              "    </tr>\n",
              "    <tr>\n",
              "      <th>3</th>\n",
              "      <td>0</td>\n",
              "      <td>201706</td>\n",
              "      <td>NaN</td>\n",
              "      <td>-0.072691</td>\n",
              "      <td>-0.038181</td>\n",
              "      <td>-0.044518</td>\n",
              "      <td>NaN</td>\n",
              "      <td>NaN</td>\n",
              "      <td>-0.066566</td>\n",
              "      <td>NaN</td>\n",
              "      <td>-0.072814</td>\n",
              "      <td>NaN</td>\n",
              "      <td>-0.058954</td>\n",
              "      <td>-0.294769</td>\n",
              "      <td>5</td>\n",
              "    </tr>\n",
              "    <tr>\n",
              "      <th>4</th>\n",
              "      <td>0</td>\n",
              "      <td>201707</td>\n",
              "      <td>NaN</td>\n",
              "      <td>-0.072388</td>\n",
              "      <td>-0.038181</td>\n",
              "      <td>-0.049154</td>\n",
              "      <td>NaN</td>\n",
              "      <td>NaN</td>\n",
              "      <td>-0.061930</td>\n",
              "      <td>NaN</td>\n",
              "      <td>-0.072814</td>\n",
              "      <td>NaN</td>\n",
              "      <td>-0.058893</td>\n",
              "      <td>-0.294467</td>\n",
              "      <td>5</td>\n",
              "    </tr>\n",
              "    <tr>\n",
              "      <th>5</th>\n",
              "      <td>0</td>\n",
              "      <td>201708</td>\n",
              "      <td>NaN</td>\n",
              "      <td>-0.072265</td>\n",
              "      <td>-0.038181</td>\n",
              "      <td>-0.047889</td>\n",
              "      <td>NaN</td>\n",
              "      <td>NaN</td>\n",
              "      <td>-0.063195</td>\n",
              "      <td>NaN</td>\n",
              "      <td>-0.072814</td>\n",
              "      <td>NaN</td>\n",
              "      <td>-0.058869</td>\n",
              "      <td>-0.294344</td>\n",
              "      <td>5</td>\n",
              "    </tr>\n",
              "    <tr>\n",
              "      <th>6</th>\n",
              "      <td>0</td>\n",
              "      <td>201709</td>\n",
              "      <td>0.072673</td>\n",
              "      <td>-0.072052</td>\n",
              "      <td>-0.038181</td>\n",
              "      <td>-0.038181</td>\n",
              "      <td>NaN</td>\n",
              "      <td>NaN</td>\n",
              "      <td>NaN</td>\n",
              "      <td>NaN</td>\n",
              "      <td>NaN</td>\n",
              "      <td>NaN</td>\n",
              "      <td>-0.018935</td>\n",
              "      <td>-0.075741</td>\n",
              "      <td>4</td>\n",
              "    </tr>\n",
              "    <tr>\n",
              "      <th>7</th>\n",
              "      <td>0</td>\n",
              "      <td>201710</td>\n",
              "      <td>0.070836</td>\n",
              "      <td>NaN</td>\n",
              "      <td>-0.038181</td>\n",
              "      <td>-0.038181</td>\n",
              "      <td>NaN</td>\n",
              "      <td>NaN</td>\n",
              "      <td>NaN</td>\n",
              "      <td>NaN</td>\n",
              "      <td>NaN</td>\n",
              "      <td>NaN</td>\n",
              "      <td>-0.001842</td>\n",
              "      <td>-0.005525</td>\n",
              "      <td>3</td>\n",
              "    </tr>\n",
              "    <tr>\n",
              "      <th>8</th>\n",
              "      <td>0</td>\n",
              "      <td>201711</td>\n",
              "      <td>0.070836</td>\n",
              "      <td>-0.071649</td>\n",
              "      <td>-0.038181</td>\n",
              "      <td>-0.038181</td>\n",
              "      <td>NaN</td>\n",
              "      <td>NaN</td>\n",
              "      <td>NaN</td>\n",
              "      <td>NaN</td>\n",
              "      <td>NaN</td>\n",
              "      <td>NaN</td>\n",
              "      <td>-0.019294</td>\n",
              "      <td>-0.077174</td>\n",
              "      <td>4</td>\n",
              "    </tr>\n",
              "    <tr>\n",
              "      <th>9</th>\n",
              "      <td>0</td>\n",
              "      <td>201712</td>\n",
              "      <td>0.064219</td>\n",
              "      <td>NaN</td>\n",
              "      <td>-0.038181</td>\n",
              "      <td>-0.038181</td>\n",
              "      <td>NaN</td>\n",
              "      <td>NaN</td>\n",
              "      <td>NaN</td>\n",
              "      <td>NaN</td>\n",
              "      <td>NaN</td>\n",
              "      <td>NaN</td>\n",
              "      <td>-0.004048</td>\n",
              "      <td>-0.012143</td>\n",
              "      <td>3</td>\n",
              "    </tr>\n",
              "  </tbody>\n",
              "</table>\n",
              "</div>"
            ],
            "text/plain": [
              "   key_value  ...  COUNT_OF_SALDO_MEAN_FOR_ALL_PRODUCTO\n",
              "0          0  ...                                     4\n",
              "1          0  ...                                     5\n",
              "2          0  ...                                     5\n",
              "3          0  ...                                     5\n",
              "4          0  ...                                     5\n",
              "5          0  ...                                     5\n",
              "6          0  ...                                     4\n",
              "7          0  ...                                     3\n",
              "8          0  ...                                     4\n",
              "9          0  ...                                     3\n",
              "\n",
              "[10 rows x 15 columns]"
            ]
          },
          "metadata": {
            "tags": []
          },
          "execution_count": 25
        }
      ]
    },
    {
      "cell_type": "code",
      "metadata": {
        "id": "lFWxkdUSMGaU"
      },
      "source": [
        "month_dict = {\"U12M\": [201802, 201801, 201712, 201711, 201710, 201709, 201708, 201707, 201706, 201705, 201704, 201703],\n",
        "              \"U06M\": [201802, 201801, 201712, 201711, 201710, 201709],\n",
        "              \"U03M\": [201802, 201801, 201712],\n",
        "              \"U01M\": [201802]\n",
        "              }"
      ],
      "execution_count": 26,
      "outputs": []
    },
    {
      "cell_type": "code",
      "metadata": {
        "id": "nfk7rw10b58E"
      },
      "source": [
        "def diff_months(codmes_ini, codmes_fin):\n",
        "  r = relativedelta.relativedelta(datetime.strptime(str(int(codmes_fin)), '%Y%m'), datetime.strptime(str(int(codmes_ini)), '%Y%m'))\n",
        "  return r.years*12 + r.months"
      ],
      "execution_count": 28,
      "outputs": []
    },
    {
      "cell_type": "code",
      "metadata": {
        "id": "KiwSM2huVKnc",
        "outputId": "a68abd9c-23db-4c7b-b316-b8c040dfdb2d",
        "colab": {
          "base_uri": "https://localhost:8080/"
        }
      },
      "source": [
        "agg_col_dict = {\"codmes\": [\"last\", \"first\"]}\n",
        "agg_col_dict.update({c: [\"mean\", \"sum\", \"count\"] for c in df_rcc_crosstab.columns if c not in [\"key_value\", \"codmes\"]})"
      ],
      "execution_count": 27,
      "outputs": [
        {
          "output_type": "execute_result",
          "data": {
            "text/plain": [
              "{'COUNT_OF_SALDO_MEAN_FOR_ALL_PRODUCTO': ['mean', 'sum', 'count'],\n",
              " 'MEAN_OF_SALDO_MEAN_FOR_ALL_PRODUCTO': ['mean', 'sum', 'count'],\n",
              " 'SALDO_MEAN_FOR_PRODUCTO_0': ['mean', 'sum', 'count'],\n",
              " 'SALDO_MEAN_FOR_PRODUCTO_1': ['mean', 'sum', 'count'],\n",
              " 'SALDO_MEAN_FOR_PRODUCTO_2': ['mean', 'sum', 'count'],\n",
              " 'SALDO_MEAN_FOR_PRODUCTO_3': ['mean', 'sum', 'count'],\n",
              " 'SALDO_MEAN_FOR_PRODUCTO_4': ['mean', 'sum', 'count'],\n",
              " 'SALDO_MEAN_FOR_PRODUCTO_6': ['mean', 'sum', 'count'],\n",
              " 'SALDO_MEAN_FOR_PRODUCTO_8': ['mean', 'sum', 'count'],\n",
              " 'SALDO_MEAN_FOR_PRODUCTO_LOW_PROPENSITY': ['mean', 'sum', 'count'],\n",
              " 'SALDO_MEAN_FOR_PRODUCTO_OTROS': ['mean', 'sum', 'count'],\n",
              " 'SALDO_MEAN_FOR_PRODUCTO_TOP_PROPENSITY': ['mean', 'sum', 'count'],\n",
              " 'SUM_OF_SALDO_MEAN_FOR_ALL_PRODUCTO': ['mean', 'sum', 'count'],\n",
              " 'codmes': ['last', 'first']}"
            ]
          },
          "metadata": {
            "tags": []
          },
          "execution_count": 27
        }
      ]
    },
    {
      "cell_type": "code",
      "metadata": {
        "id": "6Z9ahwT9L8M7"
      },
      "source": [
        "month_level = \"U03M\"\n",
        "df_rcc_agg = (df_rcc_crosstab.loc[df_rcc_crosstab[\"codmes\"].isin(month_dict[month_level])]\n",
        "                             .groupby([\"key_value\"], as_index=False)\n",
        "                             .agg(agg_col_dict)\n",
        "                )\n",
        "df_rcc_agg.columns = [month_level + \"_\" + \"_\".join(c).upper() if c[-1] != \"\" else c[0] for c in df_rcc_agg.columns]"
      ],
      "execution_count": 29,
      "outputs": []
    },
    {
      "cell_type": "code",
      "metadata": {
        "id": "RKm-UkxHXIOD"
      },
      "source": [
        "df_rcc_agg[\"{0}_RECENCY\".format(month_level)] = df_rcc_agg.apply(lambda row: diff_months(row[\"{0}_CODMES_LAST\".format(month_level)], 201803), axis=1)\n",
        "df_rcc_agg[\"{0}_LONG_RECENCY\".format(month_level)] = df_rcc_agg.apply(lambda row: diff_months(row[\"{0}_CODMES_FIRST\".format(month_level)], 201803), axis=1)\n",
        "df_rcc_agg[\"{0}_DIFF_MONTHS_FIRST_LAST\".format(month_level)] = df_rcc_agg.apply(lambda row: diff_months(row[\"{0}_CODMES_FIRST\".format(month_level)], row[\"{0}_CODMES_LAST\".format(month_level)]), axis=1)\n",
        "del df_rcc_agg[\"{0}_CODMES_FIRST\".format(month_level)]\n",
        "del df_rcc_agg[\"{0}_CODMES_LAST\".format(month_level)]"
      ],
      "execution_count": 30,
      "outputs": []
    },
    {
      "cell_type": "code",
      "metadata": {
        "id": "qil8N2o3W27i",
        "outputId": "c765ffea-5724-4f18-8a62-562bf2427db9",
        "colab": {
          "base_uri": "https://localhost:8080/",
          "height": 224
        }
      },
      "source": [
        "df_rcc_agg.head()"
      ],
      "execution_count": 35,
      "outputs": [
        {
          "output_type": "execute_result",
          "data": {
            "text/html": [
              "<div>\n",
              "<style scoped>\n",
              "    .dataframe tbody tr th:only-of-type {\n",
              "        vertical-align: middle;\n",
              "    }\n",
              "\n",
              "    .dataframe tbody tr th {\n",
              "        vertical-align: top;\n",
              "    }\n",
              "\n",
              "    .dataframe thead th {\n",
              "        text-align: right;\n",
              "    }\n",
              "</style>\n",
              "<table border=\"1\" class=\"dataframe\">\n",
              "  <thead>\n",
              "    <tr style=\"text-align: right;\">\n",
              "      <th></th>\n",
              "      <th>key_value</th>\n",
              "      <th>U03M_SALDO_MEAN_FOR_PRODUCTO_0_MEAN</th>\n",
              "      <th>U03M_SALDO_MEAN_FOR_PRODUCTO_0_SUM</th>\n",
              "      <th>U03M_SALDO_MEAN_FOR_PRODUCTO_0_COUNT</th>\n",
              "      <th>U03M_SALDO_MEAN_FOR_PRODUCTO_1_MEAN</th>\n",
              "      <th>U03M_SALDO_MEAN_FOR_PRODUCTO_1_SUM</th>\n",
              "      <th>U03M_SALDO_MEAN_FOR_PRODUCTO_1_COUNT</th>\n",
              "      <th>U03M_SALDO_MEAN_FOR_PRODUCTO_2_MEAN</th>\n",
              "      <th>U03M_SALDO_MEAN_FOR_PRODUCTO_2_SUM</th>\n",
              "      <th>U03M_SALDO_MEAN_FOR_PRODUCTO_2_COUNT</th>\n",
              "      <th>U03M_SALDO_MEAN_FOR_PRODUCTO_3_MEAN</th>\n",
              "      <th>U03M_SALDO_MEAN_FOR_PRODUCTO_3_SUM</th>\n",
              "      <th>U03M_SALDO_MEAN_FOR_PRODUCTO_3_COUNT</th>\n",
              "      <th>U03M_SALDO_MEAN_FOR_PRODUCTO_4_MEAN</th>\n",
              "      <th>U03M_SALDO_MEAN_FOR_PRODUCTO_4_SUM</th>\n",
              "      <th>U03M_SALDO_MEAN_FOR_PRODUCTO_4_COUNT</th>\n",
              "      <th>U03M_SALDO_MEAN_FOR_PRODUCTO_6_MEAN</th>\n",
              "      <th>U03M_SALDO_MEAN_FOR_PRODUCTO_6_SUM</th>\n",
              "      <th>U03M_SALDO_MEAN_FOR_PRODUCTO_6_COUNT</th>\n",
              "      <th>U03M_SALDO_MEAN_FOR_PRODUCTO_8_MEAN</th>\n",
              "      <th>U03M_SALDO_MEAN_FOR_PRODUCTO_8_SUM</th>\n",
              "      <th>U03M_SALDO_MEAN_FOR_PRODUCTO_8_COUNT</th>\n",
              "      <th>U03M_SALDO_MEAN_FOR_PRODUCTO_LOW_PROPENSITY_MEAN</th>\n",
              "      <th>U03M_SALDO_MEAN_FOR_PRODUCTO_LOW_PROPENSITY_SUM</th>\n",
              "      <th>U03M_SALDO_MEAN_FOR_PRODUCTO_LOW_PROPENSITY_COUNT</th>\n",
              "      <th>U03M_SALDO_MEAN_FOR_PRODUCTO_OTROS_MEAN</th>\n",
              "      <th>U03M_SALDO_MEAN_FOR_PRODUCTO_OTROS_SUM</th>\n",
              "      <th>U03M_SALDO_MEAN_FOR_PRODUCTO_OTROS_COUNT</th>\n",
              "      <th>U03M_SALDO_MEAN_FOR_PRODUCTO_TOP_PROPENSITY_MEAN</th>\n",
              "      <th>U03M_SALDO_MEAN_FOR_PRODUCTO_TOP_PROPENSITY_SUM</th>\n",
              "      <th>U03M_SALDO_MEAN_FOR_PRODUCTO_TOP_PROPENSITY_COUNT</th>\n",
              "      <th>U03M_MEAN_OF_SALDO_MEAN_FOR_ALL_PRODUCTO_MEAN</th>\n",
              "      <th>U03M_MEAN_OF_SALDO_MEAN_FOR_ALL_PRODUCTO_SUM</th>\n",
              "      <th>U03M_MEAN_OF_SALDO_MEAN_FOR_ALL_PRODUCTO_COUNT</th>\n",
              "      <th>U03M_SUM_OF_SALDO_MEAN_FOR_ALL_PRODUCTO_MEAN</th>\n",
              "      <th>U03M_SUM_OF_SALDO_MEAN_FOR_ALL_PRODUCTO_SUM</th>\n",
              "      <th>U03M_SUM_OF_SALDO_MEAN_FOR_ALL_PRODUCTO_COUNT</th>\n",
              "      <th>U03M_COUNT_OF_SALDO_MEAN_FOR_ALL_PRODUCTO_MEAN</th>\n",
              "      <th>U03M_COUNT_OF_SALDO_MEAN_FOR_ALL_PRODUCTO_SUM</th>\n",
              "      <th>U03M_COUNT_OF_SALDO_MEAN_FOR_ALL_PRODUCTO_COUNT</th>\n",
              "      <th>U03M_RECENCY</th>\n",
              "      <th>U03M_LONG_RECENCY</th>\n",
              "      <th>U03M_DIFF_MONTHS_FIRST_LAST</th>\n",
              "    </tr>\n",
              "  </thead>\n",
              "  <tbody>\n",
              "    <tr>\n",
              "      <th>0</th>\n",
              "      <td>0</td>\n",
              "      <td>0.062248</td>\n",
              "      <td>0.186743</td>\n",
              "      <td>3</td>\n",
              "      <td>-0.072355</td>\n",
              "      <td>-0.072355</td>\n",
              "      <td>1</td>\n",
              "      <td>-0.038181</td>\n",
              "      <td>-0.114542</td>\n",
              "      <td>3</td>\n",
              "      <td>-0.038442</td>\n",
              "      <td>-0.115326</td>\n",
              "      <td>3</td>\n",
              "      <td>NaN</td>\n",
              "      <td>0.000000</td>\n",
              "      <td>0</td>\n",
              "      <td>NaN</td>\n",
              "      <td>0.000000</td>\n",
              "      <td>0</td>\n",
              "      <td>-0.072120</td>\n",
              "      <td>-0.072120</td>\n",
              "      <td>1</td>\n",
              "      <td>NaN</td>\n",
              "      <td>0.0</td>\n",
              "      <td>0</td>\n",
              "      <td>NaN</td>\n",
              "      <td>0.000000</td>\n",
              "      <td>0</td>\n",
              "      <td>NaN</td>\n",
              "      <td>0.0</td>\n",
              "      <td>0</td>\n",
              "      <td>-0.013735</td>\n",
              "      <td>-0.041204</td>\n",
              "      <td>3</td>\n",
              "      <td>-0.062533</td>\n",
              "      <td>-0.187599</td>\n",
              "      <td>3</td>\n",
              "      <td>3.666667</td>\n",
              "      <td>11</td>\n",
              "      <td>3</td>\n",
              "      <td>1</td>\n",
              "      <td>3</td>\n",
              "      <td>2</td>\n",
              "    </tr>\n",
              "    <tr>\n",
              "      <th>1</th>\n",
              "      <td>1</td>\n",
              "      <td>NaN</td>\n",
              "      <td>0.000000</td>\n",
              "      <td>0</td>\n",
              "      <td>-0.072717</td>\n",
              "      <td>-0.218150</td>\n",
              "      <td>3</td>\n",
              "      <td>NaN</td>\n",
              "      <td>0.000000</td>\n",
              "      <td>0</td>\n",
              "      <td>NaN</td>\n",
              "      <td>0.000000</td>\n",
              "      <td>0</td>\n",
              "      <td>-0.062238</td>\n",
              "      <td>-0.186714</td>\n",
              "      <td>3</td>\n",
              "      <td>NaN</td>\n",
              "      <td>0.000000</td>\n",
              "      <td>0</td>\n",
              "      <td>NaN</td>\n",
              "      <td>0.000000</td>\n",
              "      <td>0</td>\n",
              "      <td>NaN</td>\n",
              "      <td>0.0</td>\n",
              "      <td>0</td>\n",
              "      <td>-0.072881</td>\n",
              "      <td>-0.072881</td>\n",
              "      <td>1</td>\n",
              "      <td>NaN</td>\n",
              "      <td>0.0</td>\n",
              "      <td>0</td>\n",
              "      <td>-0.068062</td>\n",
              "      <td>-0.204186</td>\n",
              "      <td>3</td>\n",
              "      <td>-0.159249</td>\n",
              "      <td>-0.477746</td>\n",
              "      <td>3</td>\n",
              "      <td>2.333333</td>\n",
              "      <td>7</td>\n",
              "      <td>3</td>\n",
              "      <td>1</td>\n",
              "      <td>3</td>\n",
              "      <td>2</td>\n",
              "    </tr>\n",
              "    <tr>\n",
              "      <th>2</th>\n",
              "      <td>2</td>\n",
              "      <td>NaN</td>\n",
              "      <td>0.000000</td>\n",
              "      <td>0</td>\n",
              "      <td>-0.072758</td>\n",
              "      <td>-0.072758</td>\n",
              "      <td>1</td>\n",
              "      <td>NaN</td>\n",
              "      <td>0.000000</td>\n",
              "      <td>0</td>\n",
              "      <td>NaN</td>\n",
              "      <td>0.000000</td>\n",
              "      <td>0</td>\n",
              "      <td>-0.004746</td>\n",
              "      <td>-0.004746</td>\n",
              "      <td>1</td>\n",
              "      <td>NaN</td>\n",
              "      <td>0.000000</td>\n",
              "      <td>0</td>\n",
              "      <td>NaN</td>\n",
              "      <td>0.000000</td>\n",
              "      <td>0</td>\n",
              "      <td>NaN</td>\n",
              "      <td>0.0</td>\n",
              "      <td>0</td>\n",
              "      <td>-0.072881</td>\n",
              "      <td>-0.072881</td>\n",
              "      <td>1</td>\n",
              "      <td>NaN</td>\n",
              "      <td>0.0</td>\n",
              "      <td>0</td>\n",
              "      <td>-0.050128</td>\n",
              "      <td>-0.050128</td>\n",
              "      <td>1</td>\n",
              "      <td>-0.150384</td>\n",
              "      <td>-0.150384</td>\n",
              "      <td>1</td>\n",
              "      <td>3.000000</td>\n",
              "      <td>3</td>\n",
              "      <td>1</td>\n",
              "      <td>1</td>\n",
              "      <td>1</td>\n",
              "      <td>0</td>\n",
              "    </tr>\n",
              "    <tr>\n",
              "      <th>3</th>\n",
              "      <td>3</td>\n",
              "      <td>NaN</td>\n",
              "      <td>0.000000</td>\n",
              "      <td>0</td>\n",
              "      <td>-0.072791</td>\n",
              "      <td>-0.072791</td>\n",
              "      <td>1</td>\n",
              "      <td>NaN</td>\n",
              "      <td>0.000000</td>\n",
              "      <td>0</td>\n",
              "      <td>NaN</td>\n",
              "      <td>0.000000</td>\n",
              "      <td>0</td>\n",
              "      <td>0.095067</td>\n",
              "      <td>0.095067</td>\n",
              "      <td>1</td>\n",
              "      <td>NaN</td>\n",
              "      <td>0.000000</td>\n",
              "      <td>0</td>\n",
              "      <td>NaN</td>\n",
              "      <td>0.000000</td>\n",
              "      <td>0</td>\n",
              "      <td>NaN</td>\n",
              "      <td>0.0</td>\n",
              "      <td>0</td>\n",
              "      <td>0.095067</td>\n",
              "      <td>0.095067</td>\n",
              "      <td>1</td>\n",
              "      <td>NaN</td>\n",
              "      <td>0.0</td>\n",
              "      <td>0</td>\n",
              "      <td>0.039114</td>\n",
              "      <td>0.039114</td>\n",
              "      <td>1</td>\n",
              "      <td>0.117343</td>\n",
              "      <td>0.117343</td>\n",
              "      <td>1</td>\n",
              "      <td>3.000000</td>\n",
              "      <td>3</td>\n",
              "      <td>1</td>\n",
              "      <td>1</td>\n",
              "      <td>1</td>\n",
              "      <td>0</td>\n",
              "    </tr>\n",
              "    <tr>\n",
              "      <th>4</th>\n",
              "      <td>4</td>\n",
              "      <td>-0.056247</td>\n",
              "      <td>-0.168741</td>\n",
              "      <td>3</td>\n",
              "      <td>-0.072403</td>\n",
              "      <td>-0.217210</td>\n",
              "      <td>3</td>\n",
              "      <td>-0.058336</td>\n",
              "      <td>-0.175007</td>\n",
              "      <td>3</td>\n",
              "      <td>-0.067921</td>\n",
              "      <td>-0.203762</td>\n",
              "      <td>3</td>\n",
              "      <td>NaN</td>\n",
              "      <td>0.000000</td>\n",
              "      <td>0</td>\n",
              "      <td>-0.070507</td>\n",
              "      <td>-0.211522</td>\n",
              "      <td>3</td>\n",
              "      <td>-0.063319</td>\n",
              "      <td>-0.189956</td>\n",
              "      <td>3</td>\n",
              "      <td>NaN</td>\n",
              "      <td>0.0</td>\n",
              "      <td>0</td>\n",
              "      <td>-0.061331</td>\n",
              "      <td>-0.183993</td>\n",
              "      <td>3</td>\n",
              "      <td>NaN</td>\n",
              "      <td>0.0</td>\n",
              "      <td>0</td>\n",
              "      <td>-0.064295</td>\n",
              "      <td>-0.192884</td>\n",
              "      <td>3</td>\n",
              "      <td>-0.450063</td>\n",
              "      <td>-1.350190</td>\n",
              "      <td>3</td>\n",
              "      <td>7.000000</td>\n",
              "      <td>21</td>\n",
              "      <td>3</td>\n",
              "      <td>1</td>\n",
              "      <td>3</td>\n",
              "      <td>2</td>\n",
              "    </tr>\n",
              "  </tbody>\n",
              "</table>\n",
              "</div>"
            ],
            "text/plain": [
              "   key_value  ...  U03M_DIFF_MONTHS_FIRST_LAST\n",
              "0          0  ...                            2\n",
              "1          1  ...                            2\n",
              "2          2  ...                            0\n",
              "3          3  ...                            0\n",
              "4          4  ...                            2\n",
              "\n",
              "[5 rows x 43 columns]"
            ]
          },
          "metadata": {
            "tags": []
          },
          "execution_count": 35
        }
      ]
    },
    {
      "cell_type": "code",
      "metadata": {
        "id": "siMV3Grndn0f"
      },
      "source": [
        "df_rcc_agg.to_csv(\"[01] Intermediate/ds_rcc.csv\", index=False)"
      ],
      "execution_count": 37,
      "outputs": []
    },
    {
      "cell_type": "code",
      "metadata": {
        "id": "YjK7LUVRLiSS",
        "outputId": "fa68f87f-64bd-4989-db87-e6d15a126d9d",
        "colab": {
          "base_uri": "https://localhost:8080/"
        }
      },
      "source": [
        "!ls -l"
      ],
      "execution_count": 38,
      "outputs": [
        {
          "output_type": "stream",
          "text": [
            "total 99144\n",
            "drwx------ 2 root root     4096 Dec 12 01:33 '[00] Data'\n",
            "drwx------ 2 root root     4096 Dec 17 12:43 '[01] Intermediate'\n",
            "-rw------- 1 root root 84685747 Dec 17 12:43  ds_rcc\n",
            "-rw------- 1 root root  8414286 Dec 12 02:54  pfe_se_test.html\n",
            "-rw------- 1 root root  8414287 Dec 12 02:26  pfe_se_train.html\n"
          ],
          "name": "stdout"
        }
      ]
    },
    {
      "cell_type": "code",
      "metadata": {
        "id": "LvFWUizWurhZ"
      },
      "source": [
        ""
      ],
      "execution_count": null,
      "outputs": []
    }
  ]
}