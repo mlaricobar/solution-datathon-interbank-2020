{
  "nbformat": 4,
  "nbformat_minor": 0,
  "metadata": {
    "colab": {
      "name": "Welcome To Colaboratory",
      "provenance": [],
      "collapsed_sections": [],
      "include_colab_link": true
    },
    "kernelspec": {
      "display_name": "Python 3",
      "name": "python3"
    },
    "widgets": {
      "application/vnd.jupyter.widget-state+json": {
        "61889b8e7c1d473a8631ee9d8560ab4e": {
          "model_module": "@jupyter-widgets/controls",
          "model_name": "HBoxModel",
          "state": {
            "_view_name": "HBoxView",
            "_dom_classes": [],
            "_model_name": "HBoxModel",
            "_view_module": "@jupyter-widgets/controls",
            "_model_module_version": "1.5.0",
            "_view_count": null,
            "_view_module_version": "1.5.0",
            "box_style": "",
            "layout": "IPY_MODEL_36967d1cd1dc4aaabd5fd83db45f4a7b",
            "_model_module": "@jupyter-widgets/controls",
            "children": [
              "IPY_MODEL_ad8291fa46054c06b0725ef281d69d2a",
              "IPY_MODEL_23aac4492df84dd89fc978eb36270858",
              "IPY_MODEL_f236bf7881fd4bfc8ab227cab43d25e1"
            ]
          }
        },
        "36967d1cd1dc4aaabd5fd83db45f4a7b": {
          "model_module": "@jupyter-widgets/base",
          "model_name": "LayoutModel",
          "state": {
            "_view_name": "LayoutView",
            "grid_template_rows": null,
            "right": null,
            "justify_content": null,
            "_view_module": "@jupyter-widgets/base",
            "overflow": null,
            "_model_module_version": "1.2.0",
            "_view_count": null,
            "flex_flow": null,
            "width": null,
            "min_width": null,
            "border": null,
            "align_items": null,
            "bottom": null,
            "_model_module": "@jupyter-widgets/base",
            "top": null,
            "grid_column": null,
            "overflow_y": null,
            "overflow_x": null,
            "grid_auto_flow": null,
            "grid_area": null,
            "grid_template_columns": null,
            "flex": null,
            "_model_name": "LayoutModel",
            "justify_items": null,
            "grid_row": null,
            "max_height": null,
            "align_content": null,
            "visibility": null,
            "align_self": null,
            "height": null,
            "min_height": null,
            "padding": null,
            "grid_auto_rows": null,
            "grid_gap": null,
            "max_width": null,
            "order": null,
            "_view_module_version": "1.2.0",
            "grid_template_areas": null,
            "object_position": null,
            "object_fit": null,
            "grid_auto_columns": null,
            "margin": null,
            "display": null,
            "left": null
          }
        },
        "ad8291fa46054c06b0725ef281d69d2a": {
          "model_module": "@jupyter-widgets/controls",
          "model_name": "HTMLModel",
          "state": {
            "_view_name": "HTMLView",
            "style": "IPY_MODEL_df38015f7ea54a6495f06a85efd1e2d9",
            "_dom_classes": [],
            "description": "",
            "_model_name": "HTMLModel",
            "placeholder": "​",
            "_view_module": "@jupyter-widgets/controls",
            "_model_module_version": "1.5.0",
            "value": "Summarize dataset: 100%",
            "_view_count": null,
            "_view_module_version": "1.5.0",
            "description_tooltip": null,
            "_model_module": "@jupyter-widgets/controls",
            "layout": "IPY_MODEL_657306ac77374b59a90d19e1b89014e6"
          }
        },
        "23aac4492df84dd89fc978eb36270858": {
          "model_module": "@jupyter-widgets/controls",
          "model_name": "FloatProgressModel",
          "state": {
            "_view_name": "ProgressView",
            "style": "IPY_MODEL_6c05f216f8f24eb7b7111bb6fad80a0d",
            "_dom_classes": [],
            "description": "",
            "_model_name": "FloatProgressModel",
            "bar_style": "success",
            "max": 32,
            "_view_module": "@jupyter-widgets/controls",
            "_model_module_version": "1.5.0",
            "value": 32,
            "_view_count": null,
            "_view_module_version": "1.5.0",
            "orientation": "horizontal",
            "min": 0,
            "description_tooltip": null,
            "_model_module": "@jupyter-widgets/controls",
            "layout": "IPY_MODEL_3c74f01c66074e12be6e07c696109ff7"
          }
        },
        "f236bf7881fd4bfc8ab227cab43d25e1": {
          "model_module": "@jupyter-widgets/controls",
          "model_name": "HTMLModel",
          "state": {
            "_view_name": "HTMLView",
            "style": "IPY_MODEL_ad7dd1a7f5e74982abf62c4bff0fb9bb",
            "_dom_classes": [],
            "description": "",
            "_model_name": "HTMLModel",
            "placeholder": "​",
            "_view_module": "@jupyter-widgets/controls",
            "_model_module_version": "1.5.0",
            "value": " 32/32 [02:44&lt;00:00,  5.13s/it, Completed]",
            "_view_count": null,
            "_view_module_version": "1.5.0",
            "description_tooltip": null,
            "_model_module": "@jupyter-widgets/controls",
            "layout": "IPY_MODEL_1bbfb3106e9f4daa8ee14b34dd525e76"
          }
        },
        "df38015f7ea54a6495f06a85efd1e2d9": {
          "model_module": "@jupyter-widgets/controls",
          "model_name": "DescriptionStyleModel",
          "state": {
            "_view_name": "StyleView",
            "_model_name": "DescriptionStyleModel",
            "description_width": "",
            "_view_module": "@jupyter-widgets/base",
            "_model_module_version": "1.5.0",
            "_view_count": null,
            "_view_module_version": "1.2.0",
            "_model_module": "@jupyter-widgets/controls"
          }
        },
        "657306ac77374b59a90d19e1b89014e6": {
          "model_module": "@jupyter-widgets/base",
          "model_name": "LayoutModel",
          "state": {
            "_view_name": "LayoutView",
            "grid_template_rows": null,
            "right": null,
            "justify_content": null,
            "_view_module": "@jupyter-widgets/base",
            "overflow": null,
            "_model_module_version": "1.2.0",
            "_view_count": null,
            "flex_flow": null,
            "width": null,
            "min_width": null,
            "border": null,
            "align_items": null,
            "bottom": null,
            "_model_module": "@jupyter-widgets/base",
            "top": null,
            "grid_column": null,
            "overflow_y": null,
            "overflow_x": null,
            "grid_auto_flow": null,
            "grid_area": null,
            "grid_template_columns": null,
            "flex": null,
            "_model_name": "LayoutModel",
            "justify_items": null,
            "grid_row": null,
            "max_height": null,
            "align_content": null,
            "visibility": null,
            "align_self": null,
            "height": null,
            "min_height": null,
            "padding": null,
            "grid_auto_rows": null,
            "grid_gap": null,
            "max_width": null,
            "order": null,
            "_view_module_version": "1.2.0",
            "grid_template_areas": null,
            "object_position": null,
            "object_fit": null,
            "grid_auto_columns": null,
            "margin": null,
            "display": null,
            "left": null
          }
        },
        "6c05f216f8f24eb7b7111bb6fad80a0d": {
          "model_module": "@jupyter-widgets/controls",
          "model_name": "ProgressStyleModel",
          "state": {
            "_view_name": "StyleView",
            "_model_name": "ProgressStyleModel",
            "description_width": "",
            "_view_module": "@jupyter-widgets/base",
            "_model_module_version": "1.5.0",
            "_view_count": null,
            "_view_module_version": "1.2.0",
            "bar_color": null,
            "_model_module": "@jupyter-widgets/controls"
          }
        },
        "3c74f01c66074e12be6e07c696109ff7": {
          "model_module": "@jupyter-widgets/base",
          "model_name": "LayoutModel",
          "state": {
            "_view_name": "LayoutView",
            "grid_template_rows": null,
            "right": null,
            "justify_content": null,
            "_view_module": "@jupyter-widgets/base",
            "overflow": null,
            "_model_module_version": "1.2.0",
            "_view_count": null,
            "flex_flow": null,
            "width": null,
            "min_width": null,
            "border": null,
            "align_items": null,
            "bottom": null,
            "_model_module": "@jupyter-widgets/base",
            "top": null,
            "grid_column": null,
            "overflow_y": null,
            "overflow_x": null,
            "grid_auto_flow": null,
            "grid_area": null,
            "grid_template_columns": null,
            "flex": null,
            "_model_name": "LayoutModel",
            "justify_items": null,
            "grid_row": null,
            "max_height": null,
            "align_content": null,
            "visibility": null,
            "align_self": null,
            "height": null,
            "min_height": null,
            "padding": null,
            "grid_auto_rows": null,
            "grid_gap": null,
            "max_width": null,
            "order": null,
            "_view_module_version": "1.2.0",
            "grid_template_areas": null,
            "object_position": null,
            "object_fit": null,
            "grid_auto_columns": null,
            "margin": null,
            "display": null,
            "left": null
          }
        },
        "ad7dd1a7f5e74982abf62c4bff0fb9bb": {
          "model_module": "@jupyter-widgets/controls",
          "model_name": "DescriptionStyleModel",
          "state": {
            "_view_name": "StyleView",
            "_model_name": "DescriptionStyleModel",
            "description_width": "",
            "_view_module": "@jupyter-widgets/base",
            "_model_module_version": "1.5.0",
            "_view_count": null,
            "_view_module_version": "1.2.0",
            "_model_module": "@jupyter-widgets/controls"
          }
        },
        "1bbfb3106e9f4daa8ee14b34dd525e76": {
          "model_module": "@jupyter-widgets/base",
          "model_name": "LayoutModel",
          "state": {
            "_view_name": "LayoutView",
            "grid_template_rows": null,
            "right": null,
            "justify_content": null,
            "_view_module": "@jupyter-widgets/base",
            "overflow": null,
            "_model_module_version": "1.2.0",
            "_view_count": null,
            "flex_flow": null,
            "width": null,
            "min_width": null,
            "border": null,
            "align_items": null,
            "bottom": null,
            "_model_module": "@jupyter-widgets/base",
            "top": null,
            "grid_column": null,
            "overflow_y": null,
            "overflow_x": null,
            "grid_auto_flow": null,
            "grid_area": null,
            "grid_template_columns": null,
            "flex": null,
            "_model_name": "LayoutModel",
            "justify_items": null,
            "grid_row": null,
            "max_height": null,
            "align_content": null,
            "visibility": null,
            "align_self": null,
            "height": null,
            "min_height": null,
            "padding": null,
            "grid_auto_rows": null,
            "grid_gap": null,
            "max_width": null,
            "order": null,
            "_view_module_version": "1.2.0",
            "grid_template_areas": null,
            "object_position": null,
            "object_fit": null,
            "grid_auto_columns": null,
            "margin": null,
            "display": null,
            "left": null
          }
        },
        "fa06d2a03af54ed0b6665cb5e5461185": {
          "model_module": "@jupyter-widgets/controls",
          "model_name": "HBoxModel",
          "state": {
            "_view_name": "HBoxView",
            "_dom_classes": [],
            "_model_name": "HBoxModel",
            "_view_module": "@jupyter-widgets/controls",
            "_model_module_version": "1.5.0",
            "_view_count": null,
            "_view_module_version": "1.5.0",
            "box_style": "",
            "layout": "IPY_MODEL_9cbe832bef4a4d658b46d3e44a56b2f2",
            "_model_module": "@jupyter-widgets/controls",
            "children": [
              "IPY_MODEL_883d6ee6821f4de896c3ac389364ee2d",
              "IPY_MODEL_fe03355cae4642bd8f74eff0de32d4ba",
              "IPY_MODEL_f95c69f01f7b44bd9b50121376103b96"
            ]
          }
        },
        "9cbe832bef4a4d658b46d3e44a56b2f2": {
          "model_module": "@jupyter-widgets/base",
          "model_name": "LayoutModel",
          "state": {
            "_view_name": "LayoutView",
            "grid_template_rows": null,
            "right": null,
            "justify_content": null,
            "_view_module": "@jupyter-widgets/base",
            "overflow": null,
            "_model_module_version": "1.2.0",
            "_view_count": null,
            "flex_flow": null,
            "width": null,
            "min_width": null,
            "border": null,
            "align_items": null,
            "bottom": null,
            "_model_module": "@jupyter-widgets/base",
            "top": null,
            "grid_column": null,
            "overflow_y": null,
            "overflow_x": null,
            "grid_auto_flow": null,
            "grid_area": null,
            "grid_template_columns": null,
            "flex": null,
            "_model_name": "LayoutModel",
            "justify_items": null,
            "grid_row": null,
            "max_height": null,
            "align_content": null,
            "visibility": null,
            "align_self": null,
            "height": null,
            "min_height": null,
            "padding": null,
            "grid_auto_rows": null,
            "grid_gap": null,
            "max_width": null,
            "order": null,
            "_view_module_version": "1.2.0",
            "grid_template_areas": null,
            "object_position": null,
            "object_fit": null,
            "grid_auto_columns": null,
            "margin": null,
            "display": null,
            "left": null
          }
        },
        "883d6ee6821f4de896c3ac389364ee2d": {
          "model_module": "@jupyter-widgets/controls",
          "model_name": "HTMLModel",
          "state": {
            "_view_name": "HTMLView",
            "style": "IPY_MODEL_0c27506abf5442bdb5b6178e99b8f8d0",
            "_dom_classes": [],
            "description": "",
            "_model_name": "HTMLModel",
            "placeholder": "​",
            "_view_module": "@jupyter-widgets/controls",
            "_model_module_version": "1.5.0",
            "value": "Generate report structure: 100%",
            "_view_count": null,
            "_view_module_version": "1.5.0",
            "description_tooltip": null,
            "_model_module": "@jupyter-widgets/controls",
            "layout": "IPY_MODEL_da2c09f2b9c144479eb20f32b378822e"
          }
        },
        "fe03355cae4642bd8f74eff0de32d4ba": {
          "model_module": "@jupyter-widgets/controls",
          "model_name": "FloatProgressModel",
          "state": {
            "_view_name": "ProgressView",
            "style": "IPY_MODEL_21a844b7a9b34a3887fa110b698b2209",
            "_dom_classes": [],
            "description": "",
            "_model_name": "FloatProgressModel",
            "bar_style": "success",
            "max": 1,
            "_view_module": "@jupyter-widgets/controls",
            "_model_module_version": "1.5.0",
            "value": 1,
            "_view_count": null,
            "_view_module_version": "1.5.0",
            "orientation": "horizontal",
            "min": 0,
            "description_tooltip": null,
            "_model_module": "@jupyter-widgets/controls",
            "layout": "IPY_MODEL_660ce277a4324494a8733fd3343e3ac2"
          }
        },
        "f95c69f01f7b44bd9b50121376103b96": {
          "model_module": "@jupyter-widgets/controls",
          "model_name": "HTMLModel",
          "state": {
            "_view_name": "HTMLView",
            "style": "IPY_MODEL_edf5f7a172bf432ca65ae70bacba2835",
            "_dom_classes": [],
            "description": "",
            "_model_name": "HTMLModel",
            "placeholder": "​",
            "_view_module": "@jupyter-widgets/controls",
            "_model_module_version": "1.5.0",
            "value": " 1/1 [02:05&lt;00:00, 125.07s/it]",
            "_view_count": null,
            "_view_module_version": "1.5.0",
            "description_tooltip": null,
            "_model_module": "@jupyter-widgets/controls",
            "layout": "IPY_MODEL_4b073ef5c5da4ae1845ee47cfdbf160b"
          }
        },
        "0c27506abf5442bdb5b6178e99b8f8d0": {
          "model_module": "@jupyter-widgets/controls",
          "model_name": "DescriptionStyleModel",
          "state": {
            "_view_name": "StyleView",
            "_model_name": "DescriptionStyleModel",
            "description_width": "",
            "_view_module": "@jupyter-widgets/base",
            "_model_module_version": "1.5.0",
            "_view_count": null,
            "_view_module_version": "1.2.0",
            "_model_module": "@jupyter-widgets/controls"
          }
        },
        "da2c09f2b9c144479eb20f32b378822e": {
          "model_module": "@jupyter-widgets/base",
          "model_name": "LayoutModel",
          "state": {
            "_view_name": "LayoutView",
            "grid_template_rows": null,
            "right": null,
            "justify_content": null,
            "_view_module": "@jupyter-widgets/base",
            "overflow": null,
            "_model_module_version": "1.2.0",
            "_view_count": null,
            "flex_flow": null,
            "width": null,
            "min_width": null,
            "border": null,
            "align_items": null,
            "bottom": null,
            "_model_module": "@jupyter-widgets/base",
            "top": null,
            "grid_column": null,
            "overflow_y": null,
            "overflow_x": null,
            "grid_auto_flow": null,
            "grid_area": null,
            "grid_template_columns": null,
            "flex": null,
            "_model_name": "LayoutModel",
            "justify_items": null,
            "grid_row": null,
            "max_height": null,
            "align_content": null,
            "visibility": null,
            "align_self": null,
            "height": null,
            "min_height": null,
            "padding": null,
            "grid_auto_rows": null,
            "grid_gap": null,
            "max_width": null,
            "order": null,
            "_view_module_version": "1.2.0",
            "grid_template_areas": null,
            "object_position": null,
            "object_fit": null,
            "grid_auto_columns": null,
            "margin": null,
            "display": null,
            "left": null
          }
        },
        "21a844b7a9b34a3887fa110b698b2209": {
          "model_module": "@jupyter-widgets/controls",
          "model_name": "ProgressStyleModel",
          "state": {
            "_view_name": "StyleView",
            "_model_name": "ProgressStyleModel",
            "description_width": "",
            "_view_module": "@jupyter-widgets/base",
            "_model_module_version": "1.5.0",
            "_view_count": null,
            "_view_module_version": "1.2.0",
            "bar_color": null,
            "_model_module": "@jupyter-widgets/controls"
          }
        },
        "660ce277a4324494a8733fd3343e3ac2": {
          "model_module": "@jupyter-widgets/base",
          "model_name": "LayoutModel",
          "state": {
            "_view_name": "LayoutView",
            "grid_template_rows": null,
            "right": null,
            "justify_content": null,
            "_view_module": "@jupyter-widgets/base",
            "overflow": null,
            "_model_module_version": "1.2.0",
            "_view_count": null,
            "flex_flow": null,
            "width": null,
            "min_width": null,
            "border": null,
            "align_items": null,
            "bottom": null,
            "_model_module": "@jupyter-widgets/base",
            "top": null,
            "grid_column": null,
            "overflow_y": null,
            "overflow_x": null,
            "grid_auto_flow": null,
            "grid_area": null,
            "grid_template_columns": null,
            "flex": null,
            "_model_name": "LayoutModel",
            "justify_items": null,
            "grid_row": null,
            "max_height": null,
            "align_content": null,
            "visibility": null,
            "align_self": null,
            "height": null,
            "min_height": null,
            "padding": null,
            "grid_auto_rows": null,
            "grid_gap": null,
            "max_width": null,
            "order": null,
            "_view_module_version": "1.2.0",
            "grid_template_areas": null,
            "object_position": null,
            "object_fit": null,
            "grid_auto_columns": null,
            "margin": null,
            "display": null,
            "left": null
          }
        },
        "edf5f7a172bf432ca65ae70bacba2835": {
          "model_module": "@jupyter-widgets/controls",
          "model_name": "DescriptionStyleModel",
          "state": {
            "_view_name": "StyleView",
            "_model_name": "DescriptionStyleModel",
            "description_width": "",
            "_view_module": "@jupyter-widgets/base",
            "_model_module_version": "1.5.0",
            "_view_count": null,
            "_view_module_version": "1.2.0",
            "_model_module": "@jupyter-widgets/controls"
          }
        },
        "4b073ef5c5da4ae1845ee47cfdbf160b": {
          "model_module": "@jupyter-widgets/base",
          "model_name": "LayoutModel",
          "state": {
            "_view_name": "LayoutView",
            "grid_template_rows": null,
            "right": null,
            "justify_content": null,
            "_view_module": "@jupyter-widgets/base",
            "overflow": null,
            "_model_module_version": "1.2.0",
            "_view_count": null,
            "flex_flow": null,
            "width": null,
            "min_width": null,
            "border": null,
            "align_items": null,
            "bottom": null,
            "_model_module": "@jupyter-widgets/base",
            "top": null,
            "grid_column": null,
            "overflow_y": null,
            "overflow_x": null,
            "grid_auto_flow": null,
            "grid_area": null,
            "grid_template_columns": null,
            "flex": null,
            "_model_name": "LayoutModel",
            "justify_items": null,
            "grid_row": null,
            "max_height": null,
            "align_content": null,
            "visibility": null,
            "align_self": null,
            "height": null,
            "min_height": null,
            "padding": null,
            "grid_auto_rows": null,
            "grid_gap": null,
            "max_width": null,
            "order": null,
            "_view_module_version": "1.2.0",
            "grid_template_areas": null,
            "object_position": null,
            "object_fit": null,
            "grid_auto_columns": null,
            "margin": null,
            "display": null,
            "left": null
          }
        },
        "cf941fc5d83c4dd78fa1cb491f0ef0b9": {
          "model_module": "@jupyter-widgets/controls",
          "model_name": "HBoxModel",
          "state": {
            "_view_name": "HBoxView",
            "_dom_classes": [],
            "_model_name": "HBoxModel",
            "_view_module": "@jupyter-widgets/controls",
            "_model_module_version": "1.5.0",
            "_view_count": null,
            "_view_module_version": "1.5.0",
            "box_style": "",
            "layout": "IPY_MODEL_4b3c0ad6f79341ca8c18499d7587ee09",
            "_model_module": "@jupyter-widgets/controls",
            "children": [
              "IPY_MODEL_2f6878043e2c4f16899cc7f28150c4c6",
              "IPY_MODEL_0da22092360e4d179c0ad27c7f6496e4",
              "IPY_MODEL_7fce66f10be5491280cd4ea691d90691"
            ]
          }
        },
        "4b3c0ad6f79341ca8c18499d7587ee09": {
          "model_module": "@jupyter-widgets/base",
          "model_name": "LayoutModel",
          "state": {
            "_view_name": "LayoutView",
            "grid_template_rows": null,
            "right": null,
            "justify_content": null,
            "_view_module": "@jupyter-widgets/base",
            "overflow": null,
            "_model_module_version": "1.2.0",
            "_view_count": null,
            "flex_flow": null,
            "width": null,
            "min_width": null,
            "border": null,
            "align_items": null,
            "bottom": null,
            "_model_module": "@jupyter-widgets/base",
            "top": null,
            "grid_column": null,
            "overflow_y": null,
            "overflow_x": null,
            "grid_auto_flow": null,
            "grid_area": null,
            "grid_template_columns": null,
            "flex": null,
            "_model_name": "LayoutModel",
            "justify_items": null,
            "grid_row": null,
            "max_height": null,
            "align_content": null,
            "visibility": null,
            "align_self": null,
            "height": null,
            "min_height": null,
            "padding": null,
            "grid_auto_rows": null,
            "grid_gap": null,
            "max_width": null,
            "order": null,
            "_view_module_version": "1.2.0",
            "grid_template_areas": null,
            "object_position": null,
            "object_fit": null,
            "grid_auto_columns": null,
            "margin": null,
            "display": null,
            "left": null
          }
        },
        "2f6878043e2c4f16899cc7f28150c4c6": {
          "model_module": "@jupyter-widgets/controls",
          "model_name": "HTMLModel",
          "state": {
            "_view_name": "HTMLView",
            "style": "IPY_MODEL_a208587b68604e0c969f27594a622bdf",
            "_dom_classes": [],
            "description": "",
            "_model_name": "HTMLModel",
            "placeholder": "​",
            "_view_module": "@jupyter-widgets/controls",
            "_model_module_version": "1.5.0",
            "value": "Render HTML: 100%",
            "_view_count": null,
            "_view_module_version": "1.5.0",
            "description_tooltip": null,
            "_model_module": "@jupyter-widgets/controls",
            "layout": "IPY_MODEL_e3915f0ecc234e788505369988b513ce"
          }
        },
        "0da22092360e4d179c0ad27c7f6496e4": {
          "model_module": "@jupyter-widgets/controls",
          "model_name": "FloatProgressModel",
          "state": {
            "_view_name": "ProgressView",
            "style": "IPY_MODEL_cab8af9097da4e69820c79b7393098d0",
            "_dom_classes": [],
            "description": "",
            "_model_name": "FloatProgressModel",
            "bar_style": "success",
            "max": 1,
            "_view_module": "@jupyter-widgets/controls",
            "_model_module_version": "1.5.0",
            "value": 1,
            "_view_count": null,
            "_view_module_version": "1.5.0",
            "orientation": "horizontal",
            "min": 0,
            "description_tooltip": null,
            "_model_module": "@jupyter-widgets/controls",
            "layout": "IPY_MODEL_1c73faca0fe042258c059faa36b6b3cb"
          }
        },
        "7fce66f10be5491280cd4ea691d90691": {
          "model_module": "@jupyter-widgets/controls",
          "model_name": "HTMLModel",
          "state": {
            "_view_name": "HTMLView",
            "style": "IPY_MODEL_54a0df927a7148b49d0197969bc9ef25",
            "_dom_classes": [],
            "description": "",
            "_model_name": "HTMLModel",
            "placeholder": "​",
            "_view_module": "@jupyter-widgets/controls",
            "_model_module_version": "1.5.0",
            "value": " 1/1 [01:44&lt;00:00, 104.87s/it]",
            "_view_count": null,
            "_view_module_version": "1.5.0",
            "description_tooltip": null,
            "_model_module": "@jupyter-widgets/controls",
            "layout": "IPY_MODEL_21b0e317efe647a7bba2365fcfcedc0d"
          }
        },
        "a208587b68604e0c969f27594a622bdf": {
          "model_module": "@jupyter-widgets/controls",
          "model_name": "DescriptionStyleModel",
          "state": {
            "_view_name": "StyleView",
            "_model_name": "DescriptionStyleModel",
            "description_width": "",
            "_view_module": "@jupyter-widgets/base",
            "_model_module_version": "1.5.0",
            "_view_count": null,
            "_view_module_version": "1.2.0",
            "_model_module": "@jupyter-widgets/controls"
          }
        },
        "e3915f0ecc234e788505369988b513ce": {
          "model_module": "@jupyter-widgets/base",
          "model_name": "LayoutModel",
          "state": {
            "_view_name": "LayoutView",
            "grid_template_rows": null,
            "right": null,
            "justify_content": null,
            "_view_module": "@jupyter-widgets/base",
            "overflow": null,
            "_model_module_version": "1.2.0",
            "_view_count": null,
            "flex_flow": null,
            "width": null,
            "min_width": null,
            "border": null,
            "align_items": null,
            "bottom": null,
            "_model_module": "@jupyter-widgets/base",
            "top": null,
            "grid_column": null,
            "overflow_y": null,
            "overflow_x": null,
            "grid_auto_flow": null,
            "grid_area": null,
            "grid_template_columns": null,
            "flex": null,
            "_model_name": "LayoutModel",
            "justify_items": null,
            "grid_row": null,
            "max_height": null,
            "align_content": null,
            "visibility": null,
            "align_self": null,
            "height": null,
            "min_height": null,
            "padding": null,
            "grid_auto_rows": null,
            "grid_gap": null,
            "max_width": null,
            "order": null,
            "_view_module_version": "1.2.0",
            "grid_template_areas": null,
            "object_position": null,
            "object_fit": null,
            "grid_auto_columns": null,
            "margin": null,
            "display": null,
            "left": null
          }
        },
        "cab8af9097da4e69820c79b7393098d0": {
          "model_module": "@jupyter-widgets/controls",
          "model_name": "ProgressStyleModel",
          "state": {
            "_view_name": "StyleView",
            "_model_name": "ProgressStyleModel",
            "description_width": "",
            "_view_module": "@jupyter-widgets/base",
            "_model_module_version": "1.5.0",
            "_view_count": null,
            "_view_module_version": "1.2.0",
            "bar_color": null,
            "_model_module": "@jupyter-widgets/controls"
          }
        },
        "1c73faca0fe042258c059faa36b6b3cb": {
          "model_module": "@jupyter-widgets/base",
          "model_name": "LayoutModel",
          "state": {
            "_view_name": "LayoutView",
            "grid_template_rows": null,
            "right": null,
            "justify_content": null,
            "_view_module": "@jupyter-widgets/base",
            "overflow": null,
            "_model_module_version": "1.2.0",
            "_view_count": null,
            "flex_flow": null,
            "width": null,
            "min_width": null,
            "border": null,
            "align_items": null,
            "bottom": null,
            "_model_module": "@jupyter-widgets/base",
            "top": null,
            "grid_column": null,
            "overflow_y": null,
            "overflow_x": null,
            "grid_auto_flow": null,
            "grid_area": null,
            "grid_template_columns": null,
            "flex": null,
            "_model_name": "LayoutModel",
            "justify_items": null,
            "grid_row": null,
            "max_height": null,
            "align_content": null,
            "visibility": null,
            "align_self": null,
            "height": null,
            "min_height": null,
            "padding": null,
            "grid_auto_rows": null,
            "grid_gap": null,
            "max_width": null,
            "order": null,
            "_view_module_version": "1.2.0",
            "grid_template_areas": null,
            "object_position": null,
            "object_fit": null,
            "grid_auto_columns": null,
            "margin": null,
            "display": null,
            "left": null
          }
        },
        "54a0df927a7148b49d0197969bc9ef25": {
          "model_module": "@jupyter-widgets/controls",
          "model_name": "DescriptionStyleModel",
          "state": {
            "_view_name": "StyleView",
            "_model_name": "DescriptionStyleModel",
            "description_width": "",
            "_view_module": "@jupyter-widgets/base",
            "_model_module_version": "1.5.0",
            "_view_count": null,
            "_view_module_version": "1.2.0",
            "_model_module": "@jupyter-widgets/controls"
          }
        },
        "21b0e317efe647a7bba2365fcfcedc0d": {
          "model_module": "@jupyter-widgets/base",
          "model_name": "LayoutModel",
          "state": {
            "_view_name": "LayoutView",
            "grid_template_rows": null,
            "right": null,
            "justify_content": null,
            "_view_module": "@jupyter-widgets/base",
            "overflow": null,
            "_model_module_version": "1.2.0",
            "_view_count": null,
            "flex_flow": null,
            "width": null,
            "min_width": null,
            "border": null,
            "align_items": null,
            "bottom": null,
            "_model_module": "@jupyter-widgets/base",
            "top": null,
            "grid_column": null,
            "overflow_y": null,
            "overflow_x": null,
            "grid_auto_flow": null,
            "grid_area": null,
            "grid_template_columns": null,
            "flex": null,
            "_model_name": "LayoutModel",
            "justify_items": null,
            "grid_row": null,
            "max_height": null,
            "align_content": null,
            "visibility": null,
            "align_self": null,
            "height": null,
            "min_height": null,
            "padding": null,
            "grid_auto_rows": null,
            "grid_gap": null,
            "max_width": null,
            "order": null,
            "_view_module_version": "1.2.0",
            "grid_template_areas": null,
            "object_position": null,
            "object_fit": null,
            "grid_auto_columns": null,
            "margin": null,
            "display": null,
            "left": null
          }
        },
        "150d79bd370e464ba43e80c1d681e195": {
          "model_module": "@jupyter-widgets/controls",
          "model_name": "HBoxModel",
          "state": {
            "_view_name": "HBoxView",
            "_dom_classes": [],
            "_model_name": "HBoxModel",
            "_view_module": "@jupyter-widgets/controls",
            "_model_module_version": "1.5.0",
            "_view_count": null,
            "_view_module_version": "1.5.0",
            "box_style": "",
            "layout": "IPY_MODEL_5a996592fb8648d6b69b4c79f23ce398",
            "_model_module": "@jupyter-widgets/controls",
            "children": [
              "IPY_MODEL_fb78db8c622a49c8b868670ef361bb8b",
              "IPY_MODEL_d82f43367253403793ac05cb3ba92cbc",
              "IPY_MODEL_84e40089205e4c669af317f628e2c0d3"
            ]
          }
        },
        "5a996592fb8648d6b69b4c79f23ce398": {
          "model_module": "@jupyter-widgets/base",
          "model_name": "LayoutModel",
          "state": {
            "_view_name": "LayoutView",
            "grid_template_rows": null,
            "right": null,
            "justify_content": null,
            "_view_module": "@jupyter-widgets/base",
            "overflow": null,
            "_model_module_version": "1.2.0",
            "_view_count": null,
            "flex_flow": null,
            "width": null,
            "min_width": null,
            "border": null,
            "align_items": null,
            "bottom": null,
            "_model_module": "@jupyter-widgets/base",
            "top": null,
            "grid_column": null,
            "overflow_y": null,
            "overflow_x": null,
            "grid_auto_flow": null,
            "grid_area": null,
            "grid_template_columns": null,
            "flex": null,
            "_model_name": "LayoutModel",
            "justify_items": null,
            "grid_row": null,
            "max_height": null,
            "align_content": null,
            "visibility": null,
            "align_self": null,
            "height": null,
            "min_height": null,
            "padding": null,
            "grid_auto_rows": null,
            "grid_gap": null,
            "max_width": null,
            "order": null,
            "_view_module_version": "1.2.0",
            "grid_template_areas": null,
            "object_position": null,
            "object_fit": null,
            "grid_auto_columns": null,
            "margin": null,
            "display": null,
            "left": null
          }
        },
        "fb78db8c622a49c8b868670ef361bb8b": {
          "model_module": "@jupyter-widgets/controls",
          "model_name": "HTMLModel",
          "state": {
            "_view_name": "HTMLView",
            "style": "IPY_MODEL_7c8d1bf596b44aa2a17ad39df95efd2e",
            "_dom_classes": [],
            "description": "",
            "_model_name": "HTMLModel",
            "placeholder": "​",
            "_view_module": "@jupyter-widgets/controls",
            "_model_module_version": "1.5.0",
            "value": "Export report to file: 100%",
            "_view_count": null,
            "_view_module_version": "1.5.0",
            "description_tooltip": null,
            "_model_module": "@jupyter-widgets/controls",
            "layout": "IPY_MODEL_a21585ec9aa3406e8882e3d42cc0cb57"
          }
        },
        "d82f43367253403793ac05cb3ba92cbc": {
          "model_module": "@jupyter-widgets/controls",
          "model_name": "FloatProgressModel",
          "state": {
            "_view_name": "ProgressView",
            "style": "IPY_MODEL_d6abb09f77084e60995520f7844999ba",
            "_dom_classes": [],
            "description": "",
            "_model_name": "FloatProgressModel",
            "bar_style": "success",
            "max": 1,
            "_view_module": "@jupyter-widgets/controls",
            "_model_module_version": "1.5.0",
            "value": 1,
            "_view_count": null,
            "_view_module_version": "1.5.0",
            "orientation": "horizontal",
            "min": 0,
            "description_tooltip": null,
            "_model_module": "@jupyter-widgets/controls",
            "layout": "IPY_MODEL_9fa2791b5b7145d3b88d4d78e3d2cd2d"
          }
        },
        "84e40089205e4c669af317f628e2c0d3": {
          "model_module": "@jupyter-widgets/controls",
          "model_name": "HTMLModel",
          "state": {
            "_view_name": "HTMLView",
            "style": "IPY_MODEL_380c0eca2e7e45d2889446f6633736a4",
            "_dom_classes": [],
            "description": "",
            "_model_name": "HTMLModel",
            "placeholder": "​",
            "_view_module": "@jupyter-widgets/controls",
            "_model_module_version": "1.5.0",
            "value": " 1/1 [01:37&lt;00:00, 97.80s/it]",
            "_view_count": null,
            "_view_module_version": "1.5.0",
            "description_tooltip": null,
            "_model_module": "@jupyter-widgets/controls",
            "layout": "IPY_MODEL_cb88777c361a4464a290fc45c3eb693f"
          }
        },
        "7c8d1bf596b44aa2a17ad39df95efd2e": {
          "model_module": "@jupyter-widgets/controls",
          "model_name": "DescriptionStyleModel",
          "state": {
            "_view_name": "StyleView",
            "_model_name": "DescriptionStyleModel",
            "description_width": "",
            "_view_module": "@jupyter-widgets/base",
            "_model_module_version": "1.5.0",
            "_view_count": null,
            "_view_module_version": "1.2.0",
            "_model_module": "@jupyter-widgets/controls"
          }
        },
        "a21585ec9aa3406e8882e3d42cc0cb57": {
          "model_module": "@jupyter-widgets/base",
          "model_name": "LayoutModel",
          "state": {
            "_view_name": "LayoutView",
            "grid_template_rows": null,
            "right": null,
            "justify_content": null,
            "_view_module": "@jupyter-widgets/base",
            "overflow": null,
            "_model_module_version": "1.2.0",
            "_view_count": null,
            "flex_flow": null,
            "width": null,
            "min_width": null,
            "border": null,
            "align_items": null,
            "bottom": null,
            "_model_module": "@jupyter-widgets/base",
            "top": null,
            "grid_column": null,
            "overflow_y": null,
            "overflow_x": null,
            "grid_auto_flow": null,
            "grid_area": null,
            "grid_template_columns": null,
            "flex": null,
            "_model_name": "LayoutModel",
            "justify_items": null,
            "grid_row": null,
            "max_height": null,
            "align_content": null,
            "visibility": null,
            "align_self": null,
            "height": null,
            "min_height": null,
            "padding": null,
            "grid_auto_rows": null,
            "grid_gap": null,
            "max_width": null,
            "order": null,
            "_view_module_version": "1.2.0",
            "grid_template_areas": null,
            "object_position": null,
            "object_fit": null,
            "grid_auto_columns": null,
            "margin": null,
            "display": null,
            "left": null
          }
        },
        "d6abb09f77084e60995520f7844999ba": {
          "model_module": "@jupyter-widgets/controls",
          "model_name": "ProgressStyleModel",
          "state": {
            "_view_name": "StyleView",
            "_model_name": "ProgressStyleModel",
            "description_width": "",
            "_view_module": "@jupyter-widgets/base",
            "_model_module_version": "1.5.0",
            "_view_count": null,
            "_view_module_version": "1.2.0",
            "bar_color": null,
            "_model_module": "@jupyter-widgets/controls"
          }
        },
        "9fa2791b5b7145d3b88d4d78e3d2cd2d": {
          "model_module": "@jupyter-widgets/base",
          "model_name": "LayoutModel",
          "state": {
            "_view_name": "LayoutView",
            "grid_template_rows": null,
            "right": null,
            "justify_content": null,
            "_view_module": "@jupyter-widgets/base",
            "overflow": null,
            "_model_module_version": "1.2.0",
            "_view_count": null,
            "flex_flow": null,
            "width": null,
            "min_width": null,
            "border": null,
            "align_items": null,
            "bottom": null,
            "_model_module": "@jupyter-widgets/base",
            "top": null,
            "grid_column": null,
            "overflow_y": null,
            "overflow_x": null,
            "grid_auto_flow": null,
            "grid_area": null,
            "grid_template_columns": null,
            "flex": null,
            "_model_name": "LayoutModel",
            "justify_items": null,
            "grid_row": null,
            "max_height": null,
            "align_content": null,
            "visibility": null,
            "align_self": null,
            "height": null,
            "min_height": null,
            "padding": null,
            "grid_auto_rows": null,
            "grid_gap": null,
            "max_width": null,
            "order": null,
            "_view_module_version": "1.2.0",
            "grid_template_areas": null,
            "object_position": null,
            "object_fit": null,
            "grid_auto_columns": null,
            "margin": null,
            "display": null,
            "left": null
          }
        },
        "380c0eca2e7e45d2889446f6633736a4": {
          "model_module": "@jupyter-widgets/controls",
          "model_name": "DescriptionStyleModel",
          "state": {
            "_view_name": "StyleView",
            "_model_name": "DescriptionStyleModel",
            "description_width": "",
            "_view_module": "@jupyter-widgets/base",
            "_model_module_version": "1.5.0",
            "_view_count": null,
            "_view_module_version": "1.2.0",
            "_model_module": "@jupyter-widgets/controls"
          }
        },
        "cb88777c361a4464a290fc45c3eb693f": {
          "model_module": "@jupyter-widgets/base",
          "model_name": "LayoutModel",
          "state": {
            "_view_name": "LayoutView",
            "grid_template_rows": null,
            "right": null,
            "justify_content": null,
            "_view_module": "@jupyter-widgets/base",
            "overflow": null,
            "_model_module_version": "1.2.0",
            "_view_count": null,
            "flex_flow": null,
            "width": null,
            "min_width": null,
            "border": null,
            "align_items": null,
            "bottom": null,
            "_model_module": "@jupyter-widgets/base",
            "top": null,
            "grid_column": null,
            "overflow_y": null,
            "overflow_x": null,
            "grid_auto_flow": null,
            "grid_area": null,
            "grid_template_columns": null,
            "flex": null,
            "_model_name": "LayoutModel",
            "justify_items": null,
            "grid_row": null,
            "max_height": null,
            "align_content": null,
            "visibility": null,
            "align_self": null,
            "height": null,
            "min_height": null,
            "padding": null,
            "grid_auto_rows": null,
            "grid_gap": null,
            "max_width": null,
            "order": null,
            "_view_module_version": "1.2.0",
            "grid_template_areas": null,
            "object_position": null,
            "object_fit": null,
            "grid_auto_columns": null,
            "margin": null,
            "display": null,
            "left": null
          }
        },
        "59e00c7ca34148d194f9009e44c69e64": {
          "model_module": "@jupyter-widgets/controls",
          "model_name": "HBoxModel",
          "state": {
            "_view_name": "HBoxView",
            "_dom_classes": [],
            "_model_name": "HBoxModel",
            "_view_module": "@jupyter-widgets/controls",
            "_model_module_version": "1.5.0",
            "_view_count": null,
            "_view_module_version": "1.5.0",
            "box_style": "",
            "layout": "IPY_MODEL_d1a4fa03ce6a4683bb809fe23bfe399a",
            "_model_module": "@jupyter-widgets/controls",
            "children": [
              "IPY_MODEL_38fda047aa2c419fabb530cfc8c5a65b",
              "IPY_MODEL_ff2d9a17eb6446f1b41c5b62dd8a9a3f",
              "IPY_MODEL_148732b4931c42b4a5291781923001a1"
            ]
          }
        },
        "d1a4fa03ce6a4683bb809fe23bfe399a": {
          "model_module": "@jupyter-widgets/base",
          "model_name": "LayoutModel",
          "state": {
            "_view_name": "LayoutView",
            "grid_template_rows": null,
            "right": null,
            "justify_content": null,
            "_view_module": "@jupyter-widgets/base",
            "overflow": null,
            "_model_module_version": "1.2.0",
            "_view_count": null,
            "flex_flow": null,
            "width": null,
            "min_width": null,
            "border": null,
            "align_items": null,
            "bottom": null,
            "_model_module": "@jupyter-widgets/base",
            "top": null,
            "grid_column": null,
            "overflow_y": null,
            "overflow_x": null,
            "grid_auto_flow": null,
            "grid_area": null,
            "grid_template_columns": null,
            "flex": null,
            "_model_name": "LayoutModel",
            "justify_items": null,
            "grid_row": null,
            "max_height": null,
            "align_content": null,
            "visibility": null,
            "align_self": null,
            "height": null,
            "min_height": null,
            "padding": null,
            "grid_auto_rows": null,
            "grid_gap": null,
            "max_width": null,
            "order": null,
            "_view_module_version": "1.2.0",
            "grid_template_areas": null,
            "object_position": null,
            "object_fit": null,
            "grid_auto_columns": null,
            "margin": null,
            "display": null,
            "left": null
          }
        },
        "38fda047aa2c419fabb530cfc8c5a65b": {
          "model_module": "@jupyter-widgets/controls",
          "model_name": "HTMLModel",
          "state": {
            "_view_name": "HTMLView",
            "style": "IPY_MODEL_cee47081b26c4845a6842a82486b3ce3",
            "_dom_classes": [],
            "description": "",
            "_model_name": "HTMLModel",
            "placeholder": "​",
            "_view_module": "@jupyter-widgets/controls",
            "_model_module_version": "1.5.0",
            "value": "Summarize dataset: 100%",
            "_view_count": null,
            "_view_module_version": "1.5.0",
            "description_tooltip": null,
            "_model_module": "@jupyter-widgets/controls",
            "layout": "IPY_MODEL_e8293ffa009845eab58f99a80a20b9d4"
          }
        },
        "ff2d9a17eb6446f1b41c5b62dd8a9a3f": {
          "model_module": "@jupyter-widgets/controls",
          "model_name": "FloatProgressModel",
          "state": {
            "_view_name": "ProgressView",
            "style": "IPY_MODEL_3525c5c4c5d94a0b8de787b9c485faec",
            "_dom_classes": [],
            "description": "",
            "_model_name": "FloatProgressModel",
            "bar_style": "success",
            "max": 32,
            "_view_module": "@jupyter-widgets/controls",
            "_model_module_version": "1.5.0",
            "value": 32,
            "_view_count": null,
            "_view_module_version": "1.5.0",
            "orientation": "horizontal",
            "min": 0,
            "description_tooltip": null,
            "_model_module": "@jupyter-widgets/controls",
            "layout": "IPY_MODEL_6d4b775c997149f290412829ab42b81e"
          }
        },
        "148732b4931c42b4a5291781923001a1": {
          "model_module": "@jupyter-widgets/controls",
          "model_name": "HTMLModel",
          "state": {
            "_view_name": "HTMLView",
            "style": "IPY_MODEL_b3c348cac9a542b484e015a3d91ea811",
            "_dom_classes": [],
            "description": "",
            "_model_name": "HTMLModel",
            "placeholder": "​",
            "_view_module": "@jupyter-widgets/controls",
            "_model_module_version": "1.5.0",
            "value": " 32/32 [02:57&lt;00:00,  5.53s/it, Completed]",
            "_view_count": null,
            "_view_module_version": "1.5.0",
            "description_tooltip": null,
            "_model_module": "@jupyter-widgets/controls",
            "layout": "IPY_MODEL_f7dc7a6b636f4f60b08f303821a0095c"
          }
        },
        "cee47081b26c4845a6842a82486b3ce3": {
          "model_module": "@jupyter-widgets/controls",
          "model_name": "DescriptionStyleModel",
          "state": {
            "_view_name": "StyleView",
            "_model_name": "DescriptionStyleModel",
            "description_width": "",
            "_view_module": "@jupyter-widgets/base",
            "_model_module_version": "1.5.0",
            "_view_count": null,
            "_view_module_version": "1.2.0",
            "_model_module": "@jupyter-widgets/controls"
          }
        },
        "e8293ffa009845eab58f99a80a20b9d4": {
          "model_module": "@jupyter-widgets/base",
          "model_name": "LayoutModel",
          "state": {
            "_view_name": "LayoutView",
            "grid_template_rows": null,
            "right": null,
            "justify_content": null,
            "_view_module": "@jupyter-widgets/base",
            "overflow": null,
            "_model_module_version": "1.2.0",
            "_view_count": null,
            "flex_flow": null,
            "width": null,
            "min_width": null,
            "border": null,
            "align_items": null,
            "bottom": null,
            "_model_module": "@jupyter-widgets/base",
            "top": null,
            "grid_column": null,
            "overflow_y": null,
            "overflow_x": null,
            "grid_auto_flow": null,
            "grid_area": null,
            "grid_template_columns": null,
            "flex": null,
            "_model_name": "LayoutModel",
            "justify_items": null,
            "grid_row": null,
            "max_height": null,
            "align_content": null,
            "visibility": null,
            "align_self": null,
            "height": null,
            "min_height": null,
            "padding": null,
            "grid_auto_rows": null,
            "grid_gap": null,
            "max_width": null,
            "order": null,
            "_view_module_version": "1.2.0",
            "grid_template_areas": null,
            "object_position": null,
            "object_fit": null,
            "grid_auto_columns": null,
            "margin": null,
            "display": null,
            "left": null
          }
        },
        "3525c5c4c5d94a0b8de787b9c485faec": {
          "model_module": "@jupyter-widgets/controls",
          "model_name": "ProgressStyleModel",
          "state": {
            "_view_name": "StyleView",
            "_model_name": "ProgressStyleModel",
            "description_width": "",
            "_view_module": "@jupyter-widgets/base",
            "_model_module_version": "1.5.0",
            "_view_count": null,
            "_view_module_version": "1.2.0",
            "bar_color": null,
            "_model_module": "@jupyter-widgets/controls"
          }
        },
        "6d4b775c997149f290412829ab42b81e": {
          "model_module": "@jupyter-widgets/base",
          "model_name": "LayoutModel",
          "state": {
            "_view_name": "LayoutView",
            "grid_template_rows": null,
            "right": null,
            "justify_content": null,
            "_view_module": "@jupyter-widgets/base",
            "overflow": null,
            "_model_module_version": "1.2.0",
            "_view_count": null,
            "flex_flow": null,
            "width": null,
            "min_width": null,
            "border": null,
            "align_items": null,
            "bottom": null,
            "_model_module": "@jupyter-widgets/base",
            "top": null,
            "grid_column": null,
            "overflow_y": null,
            "overflow_x": null,
            "grid_auto_flow": null,
            "grid_area": null,
            "grid_template_columns": null,
            "flex": null,
            "_model_name": "LayoutModel",
            "justify_items": null,
            "grid_row": null,
            "max_height": null,
            "align_content": null,
            "visibility": null,
            "align_self": null,
            "height": null,
            "min_height": null,
            "padding": null,
            "grid_auto_rows": null,
            "grid_gap": null,
            "max_width": null,
            "order": null,
            "_view_module_version": "1.2.0",
            "grid_template_areas": null,
            "object_position": null,
            "object_fit": null,
            "grid_auto_columns": null,
            "margin": null,
            "display": null,
            "left": null
          }
        },
        "b3c348cac9a542b484e015a3d91ea811": {
          "model_module": "@jupyter-widgets/controls",
          "model_name": "DescriptionStyleModel",
          "state": {
            "_view_name": "StyleView",
            "_model_name": "DescriptionStyleModel",
            "description_width": "",
            "_view_module": "@jupyter-widgets/base",
            "_model_module_version": "1.5.0",
            "_view_count": null,
            "_view_module_version": "1.2.0",
            "_model_module": "@jupyter-widgets/controls"
          }
        },
        "f7dc7a6b636f4f60b08f303821a0095c": {
          "model_module": "@jupyter-widgets/base",
          "model_name": "LayoutModel",
          "state": {
            "_view_name": "LayoutView",
            "grid_template_rows": null,
            "right": null,
            "justify_content": null,
            "_view_module": "@jupyter-widgets/base",
            "overflow": null,
            "_model_module_version": "1.2.0",
            "_view_count": null,
            "flex_flow": null,
            "width": null,
            "min_width": null,
            "border": null,
            "align_items": null,
            "bottom": null,
            "_model_module": "@jupyter-widgets/base",
            "top": null,
            "grid_column": null,
            "overflow_y": null,
            "overflow_x": null,
            "grid_auto_flow": null,
            "grid_area": null,
            "grid_template_columns": null,
            "flex": null,
            "_model_name": "LayoutModel",
            "justify_items": null,
            "grid_row": null,
            "max_height": null,
            "align_content": null,
            "visibility": null,
            "align_self": null,
            "height": null,
            "min_height": null,
            "padding": null,
            "grid_auto_rows": null,
            "grid_gap": null,
            "max_width": null,
            "order": null,
            "_view_module_version": "1.2.0",
            "grid_template_areas": null,
            "object_position": null,
            "object_fit": null,
            "grid_auto_columns": null,
            "margin": null,
            "display": null,
            "left": null
          }
        },
        "27e41513beaa40fd8d3eb28ff8f606d2": {
          "model_module": "@jupyter-widgets/controls",
          "model_name": "HBoxModel",
          "state": {
            "_view_name": "HBoxView",
            "_dom_classes": [],
            "_model_name": "HBoxModel",
            "_view_module": "@jupyter-widgets/controls",
            "_model_module_version": "1.5.0",
            "_view_count": null,
            "_view_module_version": "1.5.0",
            "box_style": "",
            "layout": "IPY_MODEL_1548f931a28b4da2b7b40933ca4b5a21",
            "_model_module": "@jupyter-widgets/controls",
            "children": [
              "IPY_MODEL_04f591d2c59b4926b6eb5746d51290e4",
              "IPY_MODEL_994274f4a3d54c2088bc1dff3ae08464",
              "IPY_MODEL_d2c03ff370f045b1a57ce7b3b30a1e39"
            ]
          }
        },
        "1548f931a28b4da2b7b40933ca4b5a21": {
          "model_module": "@jupyter-widgets/base",
          "model_name": "LayoutModel",
          "state": {
            "_view_name": "LayoutView",
            "grid_template_rows": null,
            "right": null,
            "justify_content": null,
            "_view_module": "@jupyter-widgets/base",
            "overflow": null,
            "_model_module_version": "1.2.0",
            "_view_count": null,
            "flex_flow": null,
            "width": null,
            "min_width": null,
            "border": null,
            "align_items": null,
            "bottom": null,
            "_model_module": "@jupyter-widgets/base",
            "top": null,
            "grid_column": null,
            "overflow_y": null,
            "overflow_x": null,
            "grid_auto_flow": null,
            "grid_area": null,
            "grid_template_columns": null,
            "flex": null,
            "_model_name": "LayoutModel",
            "justify_items": null,
            "grid_row": null,
            "max_height": null,
            "align_content": null,
            "visibility": null,
            "align_self": null,
            "height": null,
            "min_height": null,
            "padding": null,
            "grid_auto_rows": null,
            "grid_gap": null,
            "max_width": null,
            "order": null,
            "_view_module_version": "1.2.0",
            "grid_template_areas": null,
            "object_position": null,
            "object_fit": null,
            "grid_auto_columns": null,
            "margin": null,
            "display": null,
            "left": null
          }
        },
        "04f591d2c59b4926b6eb5746d51290e4": {
          "model_module": "@jupyter-widgets/controls",
          "model_name": "HTMLModel",
          "state": {
            "_view_name": "HTMLView",
            "style": "IPY_MODEL_355269ddd0764c2f8acd06e3040ecd4e",
            "_dom_classes": [],
            "description": "",
            "_model_name": "HTMLModel",
            "placeholder": "​",
            "_view_module": "@jupyter-widgets/controls",
            "_model_module_version": "1.5.0",
            "value": "Generate report structure: 100%",
            "_view_count": null,
            "_view_module_version": "1.5.0",
            "description_tooltip": null,
            "_model_module": "@jupyter-widgets/controls",
            "layout": "IPY_MODEL_a4c5e8d0643e4d79818d1a0d113bf817"
          }
        },
        "994274f4a3d54c2088bc1dff3ae08464": {
          "model_module": "@jupyter-widgets/controls",
          "model_name": "FloatProgressModel",
          "state": {
            "_view_name": "ProgressView",
            "style": "IPY_MODEL_c67e698a4aff4eb4a51f922278dc00fa",
            "_dom_classes": [],
            "description": "",
            "_model_name": "FloatProgressModel",
            "bar_style": "success",
            "max": 1,
            "_view_module": "@jupyter-widgets/controls",
            "_model_module_version": "1.5.0",
            "value": 1,
            "_view_count": null,
            "_view_module_version": "1.5.0",
            "orientation": "horizontal",
            "min": 0,
            "description_tooltip": null,
            "_model_module": "@jupyter-widgets/controls",
            "layout": "IPY_MODEL_faa05f2fe5754ecb9ec76df2886f7727"
          }
        },
        "d2c03ff370f045b1a57ce7b3b30a1e39": {
          "model_module": "@jupyter-widgets/controls",
          "model_name": "HTMLModel",
          "state": {
            "_view_name": "HTMLView",
            "style": "IPY_MODEL_c9ff9963459a40a190efae06e81a25d7",
            "_dom_classes": [],
            "description": "",
            "_model_name": "HTMLModel",
            "placeholder": "​",
            "_view_module": "@jupyter-widgets/controls",
            "_model_module_version": "1.5.0",
            "value": " 1/1 [00:09&lt;00:00,  9.84s/it]",
            "_view_count": null,
            "_view_module_version": "1.5.0",
            "description_tooltip": null,
            "_model_module": "@jupyter-widgets/controls",
            "layout": "IPY_MODEL_7766012331af4184a876a16714c3f31c"
          }
        },
        "355269ddd0764c2f8acd06e3040ecd4e": {
          "model_module": "@jupyter-widgets/controls",
          "model_name": "DescriptionStyleModel",
          "state": {
            "_view_name": "StyleView",
            "_model_name": "DescriptionStyleModel",
            "description_width": "",
            "_view_module": "@jupyter-widgets/base",
            "_model_module_version": "1.5.0",
            "_view_count": null,
            "_view_module_version": "1.2.0",
            "_model_module": "@jupyter-widgets/controls"
          }
        },
        "a4c5e8d0643e4d79818d1a0d113bf817": {
          "model_module": "@jupyter-widgets/base",
          "model_name": "LayoutModel",
          "state": {
            "_view_name": "LayoutView",
            "grid_template_rows": null,
            "right": null,
            "justify_content": null,
            "_view_module": "@jupyter-widgets/base",
            "overflow": null,
            "_model_module_version": "1.2.0",
            "_view_count": null,
            "flex_flow": null,
            "width": null,
            "min_width": null,
            "border": null,
            "align_items": null,
            "bottom": null,
            "_model_module": "@jupyter-widgets/base",
            "top": null,
            "grid_column": null,
            "overflow_y": null,
            "overflow_x": null,
            "grid_auto_flow": null,
            "grid_area": null,
            "grid_template_columns": null,
            "flex": null,
            "_model_name": "LayoutModel",
            "justify_items": null,
            "grid_row": null,
            "max_height": null,
            "align_content": null,
            "visibility": null,
            "align_self": null,
            "height": null,
            "min_height": null,
            "padding": null,
            "grid_auto_rows": null,
            "grid_gap": null,
            "max_width": null,
            "order": null,
            "_view_module_version": "1.2.0",
            "grid_template_areas": null,
            "object_position": null,
            "object_fit": null,
            "grid_auto_columns": null,
            "margin": null,
            "display": null,
            "left": null
          }
        },
        "c67e698a4aff4eb4a51f922278dc00fa": {
          "model_module": "@jupyter-widgets/controls",
          "model_name": "ProgressStyleModel",
          "state": {
            "_view_name": "StyleView",
            "_model_name": "ProgressStyleModel",
            "description_width": "",
            "_view_module": "@jupyter-widgets/base",
            "_model_module_version": "1.5.0",
            "_view_count": null,
            "_view_module_version": "1.2.0",
            "bar_color": null,
            "_model_module": "@jupyter-widgets/controls"
          }
        },
        "faa05f2fe5754ecb9ec76df2886f7727": {
          "model_module": "@jupyter-widgets/base",
          "model_name": "LayoutModel",
          "state": {
            "_view_name": "LayoutView",
            "grid_template_rows": null,
            "right": null,
            "justify_content": null,
            "_view_module": "@jupyter-widgets/base",
            "overflow": null,
            "_model_module_version": "1.2.0",
            "_view_count": null,
            "flex_flow": null,
            "width": null,
            "min_width": null,
            "border": null,
            "align_items": null,
            "bottom": null,
            "_model_module": "@jupyter-widgets/base",
            "top": null,
            "grid_column": null,
            "overflow_y": null,
            "overflow_x": null,
            "grid_auto_flow": null,
            "grid_area": null,
            "grid_template_columns": null,
            "flex": null,
            "_model_name": "LayoutModel",
            "justify_items": null,
            "grid_row": null,
            "max_height": null,
            "align_content": null,
            "visibility": null,
            "align_self": null,
            "height": null,
            "min_height": null,
            "padding": null,
            "grid_auto_rows": null,
            "grid_gap": null,
            "max_width": null,
            "order": null,
            "_view_module_version": "1.2.0",
            "grid_template_areas": null,
            "object_position": null,
            "object_fit": null,
            "grid_auto_columns": null,
            "margin": null,
            "display": null,
            "left": null
          }
        },
        "c9ff9963459a40a190efae06e81a25d7": {
          "model_module": "@jupyter-widgets/controls",
          "model_name": "DescriptionStyleModel",
          "state": {
            "_view_name": "StyleView",
            "_model_name": "DescriptionStyleModel",
            "description_width": "",
            "_view_module": "@jupyter-widgets/base",
            "_model_module_version": "1.5.0",
            "_view_count": null,
            "_view_module_version": "1.2.0",
            "_model_module": "@jupyter-widgets/controls"
          }
        },
        "7766012331af4184a876a16714c3f31c": {
          "model_module": "@jupyter-widgets/base",
          "model_name": "LayoutModel",
          "state": {
            "_view_name": "LayoutView",
            "grid_template_rows": null,
            "right": null,
            "justify_content": null,
            "_view_module": "@jupyter-widgets/base",
            "overflow": null,
            "_model_module_version": "1.2.0",
            "_view_count": null,
            "flex_flow": null,
            "width": null,
            "min_width": null,
            "border": null,
            "align_items": null,
            "bottom": null,
            "_model_module": "@jupyter-widgets/base",
            "top": null,
            "grid_column": null,
            "overflow_y": null,
            "overflow_x": null,
            "grid_auto_flow": null,
            "grid_area": null,
            "grid_template_columns": null,
            "flex": null,
            "_model_name": "LayoutModel",
            "justify_items": null,
            "grid_row": null,
            "max_height": null,
            "align_content": null,
            "visibility": null,
            "align_self": null,
            "height": null,
            "min_height": null,
            "padding": null,
            "grid_auto_rows": null,
            "grid_gap": null,
            "max_width": null,
            "order": null,
            "_view_module_version": "1.2.0",
            "grid_template_areas": null,
            "object_position": null,
            "object_fit": null,
            "grid_auto_columns": null,
            "margin": null,
            "display": null,
            "left": null
          }
        },
        "b592e62a96184599a7179c3f841f180b": {
          "model_module": "@jupyter-widgets/controls",
          "model_name": "HBoxModel",
          "state": {
            "_view_name": "HBoxView",
            "_dom_classes": [],
            "_model_name": "HBoxModel",
            "_view_module": "@jupyter-widgets/controls",
            "_model_module_version": "1.5.0",
            "_view_count": null,
            "_view_module_version": "1.5.0",
            "box_style": "",
            "layout": "IPY_MODEL_3c40dd051bdd443a8b2e867424ee38cf",
            "_model_module": "@jupyter-widgets/controls",
            "children": [
              "IPY_MODEL_61d692f14dd74de9a28eec5663ed6aba",
              "IPY_MODEL_f169ef2b767a4952b57ea2d7d218c77a",
              "IPY_MODEL_9537207c5bca41a0bbfed12dd8d9ce7a"
            ]
          }
        },
        "3c40dd051bdd443a8b2e867424ee38cf": {
          "model_module": "@jupyter-widgets/base",
          "model_name": "LayoutModel",
          "state": {
            "_view_name": "LayoutView",
            "grid_template_rows": null,
            "right": null,
            "justify_content": null,
            "_view_module": "@jupyter-widgets/base",
            "overflow": null,
            "_model_module_version": "1.2.0",
            "_view_count": null,
            "flex_flow": null,
            "width": null,
            "min_width": null,
            "border": null,
            "align_items": null,
            "bottom": null,
            "_model_module": "@jupyter-widgets/base",
            "top": null,
            "grid_column": null,
            "overflow_y": null,
            "overflow_x": null,
            "grid_auto_flow": null,
            "grid_area": null,
            "grid_template_columns": null,
            "flex": null,
            "_model_name": "LayoutModel",
            "justify_items": null,
            "grid_row": null,
            "max_height": null,
            "align_content": null,
            "visibility": null,
            "align_self": null,
            "height": null,
            "min_height": null,
            "padding": null,
            "grid_auto_rows": null,
            "grid_gap": null,
            "max_width": null,
            "order": null,
            "_view_module_version": "1.2.0",
            "grid_template_areas": null,
            "object_position": null,
            "object_fit": null,
            "grid_auto_columns": null,
            "margin": null,
            "display": null,
            "left": null
          }
        },
        "61d692f14dd74de9a28eec5663ed6aba": {
          "model_module": "@jupyter-widgets/controls",
          "model_name": "HTMLModel",
          "state": {
            "_view_name": "HTMLView",
            "style": "IPY_MODEL_5519ff0aa99f4a018279b77c12ab43ec",
            "_dom_classes": [],
            "description": "",
            "_model_name": "HTMLModel",
            "placeholder": "​",
            "_view_module": "@jupyter-widgets/controls",
            "_model_module_version": "1.5.0",
            "value": "Render HTML: 100%",
            "_view_count": null,
            "_view_module_version": "1.5.0",
            "description_tooltip": null,
            "_model_module": "@jupyter-widgets/controls",
            "layout": "IPY_MODEL_b99a7633dc8b4c56939e511edf9f1503"
          }
        },
        "f169ef2b767a4952b57ea2d7d218c77a": {
          "model_module": "@jupyter-widgets/controls",
          "model_name": "FloatProgressModel",
          "state": {
            "_view_name": "ProgressView",
            "style": "IPY_MODEL_9cac5b9370d34795b9378355613abd39",
            "_dom_classes": [],
            "description": "",
            "_model_name": "FloatProgressModel",
            "bar_style": "success",
            "max": 1,
            "_view_module": "@jupyter-widgets/controls",
            "_model_module_version": "1.5.0",
            "value": 1,
            "_view_count": null,
            "_view_module_version": "1.5.0",
            "orientation": "horizontal",
            "min": 0,
            "description_tooltip": null,
            "_model_module": "@jupyter-widgets/controls",
            "layout": "IPY_MODEL_7637986859b94713ba52f4b9f0335140"
          }
        },
        "9537207c5bca41a0bbfed12dd8d9ce7a": {
          "model_module": "@jupyter-widgets/controls",
          "model_name": "HTMLModel",
          "state": {
            "_view_name": "HTMLView",
            "style": "IPY_MODEL_6405c12489d64e5ba7aa2441261025cf",
            "_dom_classes": [],
            "description": "",
            "_model_name": "HTMLModel",
            "placeholder": "​",
            "_view_module": "@jupyter-widgets/controls",
            "_model_module_version": "1.5.0",
            "value": " 1/1 [00:07&lt;00:00,  7.11s/it]",
            "_view_count": null,
            "_view_module_version": "1.5.0",
            "description_tooltip": null,
            "_model_module": "@jupyter-widgets/controls",
            "layout": "IPY_MODEL_3a5f0ccc25ac496099dfa65ee8b3fb34"
          }
        },
        "5519ff0aa99f4a018279b77c12ab43ec": {
          "model_module": "@jupyter-widgets/controls",
          "model_name": "DescriptionStyleModel",
          "state": {
            "_view_name": "StyleView",
            "_model_name": "DescriptionStyleModel",
            "description_width": "",
            "_view_module": "@jupyter-widgets/base",
            "_model_module_version": "1.5.0",
            "_view_count": null,
            "_view_module_version": "1.2.0",
            "_model_module": "@jupyter-widgets/controls"
          }
        },
        "b99a7633dc8b4c56939e511edf9f1503": {
          "model_module": "@jupyter-widgets/base",
          "model_name": "LayoutModel",
          "state": {
            "_view_name": "LayoutView",
            "grid_template_rows": null,
            "right": null,
            "justify_content": null,
            "_view_module": "@jupyter-widgets/base",
            "overflow": null,
            "_model_module_version": "1.2.0",
            "_view_count": null,
            "flex_flow": null,
            "width": null,
            "min_width": null,
            "border": null,
            "align_items": null,
            "bottom": null,
            "_model_module": "@jupyter-widgets/base",
            "top": null,
            "grid_column": null,
            "overflow_y": null,
            "overflow_x": null,
            "grid_auto_flow": null,
            "grid_area": null,
            "grid_template_columns": null,
            "flex": null,
            "_model_name": "LayoutModel",
            "justify_items": null,
            "grid_row": null,
            "max_height": null,
            "align_content": null,
            "visibility": null,
            "align_self": null,
            "height": null,
            "min_height": null,
            "padding": null,
            "grid_auto_rows": null,
            "grid_gap": null,
            "max_width": null,
            "order": null,
            "_view_module_version": "1.2.0",
            "grid_template_areas": null,
            "object_position": null,
            "object_fit": null,
            "grid_auto_columns": null,
            "margin": null,
            "display": null,
            "left": null
          }
        },
        "9cac5b9370d34795b9378355613abd39": {
          "model_module": "@jupyter-widgets/controls",
          "model_name": "ProgressStyleModel",
          "state": {
            "_view_name": "StyleView",
            "_model_name": "ProgressStyleModel",
            "description_width": "",
            "_view_module": "@jupyter-widgets/base",
            "_model_module_version": "1.5.0",
            "_view_count": null,
            "_view_module_version": "1.2.0",
            "bar_color": null,
            "_model_module": "@jupyter-widgets/controls"
          }
        },
        "7637986859b94713ba52f4b9f0335140": {
          "model_module": "@jupyter-widgets/base",
          "model_name": "LayoutModel",
          "state": {
            "_view_name": "LayoutView",
            "grid_template_rows": null,
            "right": null,
            "justify_content": null,
            "_view_module": "@jupyter-widgets/base",
            "overflow": null,
            "_model_module_version": "1.2.0",
            "_view_count": null,
            "flex_flow": null,
            "width": null,
            "min_width": null,
            "border": null,
            "align_items": null,
            "bottom": null,
            "_model_module": "@jupyter-widgets/base",
            "top": null,
            "grid_column": null,
            "overflow_y": null,
            "overflow_x": null,
            "grid_auto_flow": null,
            "grid_area": null,
            "grid_template_columns": null,
            "flex": null,
            "_model_name": "LayoutModel",
            "justify_items": null,
            "grid_row": null,
            "max_height": null,
            "align_content": null,
            "visibility": null,
            "align_self": null,
            "height": null,
            "min_height": null,
            "padding": null,
            "grid_auto_rows": null,
            "grid_gap": null,
            "max_width": null,
            "order": null,
            "_view_module_version": "1.2.0",
            "grid_template_areas": null,
            "object_position": null,
            "object_fit": null,
            "grid_auto_columns": null,
            "margin": null,
            "display": null,
            "left": null
          }
        },
        "6405c12489d64e5ba7aa2441261025cf": {
          "model_module": "@jupyter-widgets/controls",
          "model_name": "DescriptionStyleModel",
          "state": {
            "_view_name": "StyleView",
            "_model_name": "DescriptionStyleModel",
            "description_width": "",
            "_view_module": "@jupyter-widgets/base",
            "_model_module_version": "1.5.0",
            "_view_count": null,
            "_view_module_version": "1.2.0",
            "_model_module": "@jupyter-widgets/controls"
          }
        },
        "3a5f0ccc25ac496099dfa65ee8b3fb34": {
          "model_module": "@jupyter-widgets/base",
          "model_name": "LayoutModel",
          "state": {
            "_view_name": "LayoutView",
            "grid_template_rows": null,
            "right": null,
            "justify_content": null,
            "_view_module": "@jupyter-widgets/base",
            "overflow": null,
            "_model_module_version": "1.2.0",
            "_view_count": null,
            "flex_flow": null,
            "width": null,
            "min_width": null,
            "border": null,
            "align_items": null,
            "bottom": null,
            "_model_module": "@jupyter-widgets/base",
            "top": null,
            "grid_column": null,
            "overflow_y": null,
            "overflow_x": null,
            "grid_auto_flow": null,
            "grid_area": null,
            "grid_template_columns": null,
            "flex": null,
            "_model_name": "LayoutModel",
            "justify_items": null,
            "grid_row": null,
            "max_height": null,
            "align_content": null,
            "visibility": null,
            "align_self": null,
            "height": null,
            "min_height": null,
            "padding": null,
            "grid_auto_rows": null,
            "grid_gap": null,
            "max_width": null,
            "order": null,
            "_view_module_version": "1.2.0",
            "grid_template_areas": null,
            "object_position": null,
            "object_fit": null,
            "grid_auto_columns": null,
            "margin": null,
            "display": null,
            "left": null
          }
        },
        "fbd191ef0b37432ca3b62dc546aff1cf": {
          "model_module": "@jupyter-widgets/controls",
          "model_name": "HBoxModel",
          "state": {
            "_view_name": "HBoxView",
            "_dom_classes": [],
            "_model_name": "HBoxModel",
            "_view_module": "@jupyter-widgets/controls",
            "_model_module_version": "1.5.0",
            "_view_count": null,
            "_view_module_version": "1.5.0",
            "box_style": "",
            "layout": "IPY_MODEL_7e7a6cb3d10c4dd4b4c4183cc5561379",
            "_model_module": "@jupyter-widgets/controls",
            "children": [
              "IPY_MODEL_a877029cee474e63ad6979046d66b025",
              "IPY_MODEL_7a2f92adb4c54d71990448de3d45bec0",
              "IPY_MODEL_b85aad4630314ecea20f1d5cef495b87"
            ]
          }
        },
        "7e7a6cb3d10c4dd4b4c4183cc5561379": {
          "model_module": "@jupyter-widgets/base",
          "model_name": "LayoutModel",
          "state": {
            "_view_name": "LayoutView",
            "grid_template_rows": null,
            "right": null,
            "justify_content": null,
            "_view_module": "@jupyter-widgets/base",
            "overflow": null,
            "_model_module_version": "1.2.0",
            "_view_count": null,
            "flex_flow": null,
            "width": null,
            "min_width": null,
            "border": null,
            "align_items": null,
            "bottom": null,
            "_model_module": "@jupyter-widgets/base",
            "top": null,
            "grid_column": null,
            "overflow_y": null,
            "overflow_x": null,
            "grid_auto_flow": null,
            "grid_area": null,
            "grid_template_columns": null,
            "flex": null,
            "_model_name": "LayoutModel",
            "justify_items": null,
            "grid_row": null,
            "max_height": null,
            "align_content": null,
            "visibility": null,
            "align_self": null,
            "height": null,
            "min_height": null,
            "padding": null,
            "grid_auto_rows": null,
            "grid_gap": null,
            "max_width": null,
            "order": null,
            "_view_module_version": "1.2.0",
            "grid_template_areas": null,
            "object_position": null,
            "object_fit": null,
            "grid_auto_columns": null,
            "margin": null,
            "display": null,
            "left": null
          }
        },
        "a877029cee474e63ad6979046d66b025": {
          "model_module": "@jupyter-widgets/controls",
          "model_name": "HTMLModel",
          "state": {
            "_view_name": "HTMLView",
            "style": "IPY_MODEL_8fd2456b5fa345c293fbf33aa3bcfcd6",
            "_dom_classes": [],
            "description": "",
            "_model_name": "HTMLModel",
            "placeholder": "​",
            "_view_module": "@jupyter-widgets/controls",
            "_model_module_version": "1.5.0",
            "value": "Export report to file: 100%",
            "_view_count": null,
            "_view_module_version": "1.5.0",
            "description_tooltip": null,
            "_model_module": "@jupyter-widgets/controls",
            "layout": "IPY_MODEL_367824a3065040b9a5908e8df4b147fb"
          }
        },
        "7a2f92adb4c54d71990448de3d45bec0": {
          "model_module": "@jupyter-widgets/controls",
          "model_name": "FloatProgressModel",
          "state": {
            "_view_name": "ProgressView",
            "style": "IPY_MODEL_f55f60227b6043e8bbdae1dddfae3b4b",
            "_dom_classes": [],
            "description": "",
            "_model_name": "FloatProgressModel",
            "bar_style": "success",
            "max": 1,
            "_view_module": "@jupyter-widgets/controls",
            "_model_module_version": "1.5.0",
            "value": 1,
            "_view_count": null,
            "_view_module_version": "1.5.0",
            "orientation": "horizontal",
            "min": 0,
            "description_tooltip": null,
            "_model_module": "@jupyter-widgets/controls",
            "layout": "IPY_MODEL_6cbeeb3bcf61433196d009274e57d61e"
          }
        },
        "b85aad4630314ecea20f1d5cef495b87": {
          "model_module": "@jupyter-widgets/controls",
          "model_name": "HTMLModel",
          "state": {
            "_view_name": "HTMLView",
            "style": "IPY_MODEL_d03dbed046a349bd9063d414a562f38f",
            "_dom_classes": [],
            "description": "",
            "_model_name": "HTMLModel",
            "placeholder": "​",
            "_view_module": "@jupyter-widgets/controls",
            "_model_module_version": "1.5.0",
            "value": " 1/1 [01:48&lt;00:00, 108.32s/it]",
            "_view_count": null,
            "_view_module_version": "1.5.0",
            "description_tooltip": null,
            "_model_module": "@jupyter-widgets/controls",
            "layout": "IPY_MODEL_ef5194e155864a30afbce99be5c31890"
          }
        },
        "8fd2456b5fa345c293fbf33aa3bcfcd6": {
          "model_module": "@jupyter-widgets/controls",
          "model_name": "DescriptionStyleModel",
          "state": {
            "_view_name": "StyleView",
            "_model_name": "DescriptionStyleModel",
            "description_width": "",
            "_view_module": "@jupyter-widgets/base",
            "_model_module_version": "1.5.0",
            "_view_count": null,
            "_view_module_version": "1.2.0",
            "_model_module": "@jupyter-widgets/controls"
          }
        },
        "367824a3065040b9a5908e8df4b147fb": {
          "model_module": "@jupyter-widgets/base",
          "model_name": "LayoutModel",
          "state": {
            "_view_name": "LayoutView",
            "grid_template_rows": null,
            "right": null,
            "justify_content": null,
            "_view_module": "@jupyter-widgets/base",
            "overflow": null,
            "_model_module_version": "1.2.0",
            "_view_count": null,
            "flex_flow": null,
            "width": null,
            "min_width": null,
            "border": null,
            "align_items": null,
            "bottom": null,
            "_model_module": "@jupyter-widgets/base",
            "top": null,
            "grid_column": null,
            "overflow_y": null,
            "overflow_x": null,
            "grid_auto_flow": null,
            "grid_area": null,
            "grid_template_columns": null,
            "flex": null,
            "_model_name": "LayoutModel",
            "justify_items": null,
            "grid_row": null,
            "max_height": null,
            "align_content": null,
            "visibility": null,
            "align_self": null,
            "height": null,
            "min_height": null,
            "padding": null,
            "grid_auto_rows": null,
            "grid_gap": null,
            "max_width": null,
            "order": null,
            "_view_module_version": "1.2.0",
            "grid_template_areas": null,
            "object_position": null,
            "object_fit": null,
            "grid_auto_columns": null,
            "margin": null,
            "display": null,
            "left": null
          }
        },
        "f55f60227b6043e8bbdae1dddfae3b4b": {
          "model_module": "@jupyter-widgets/controls",
          "model_name": "ProgressStyleModel",
          "state": {
            "_view_name": "StyleView",
            "_model_name": "ProgressStyleModel",
            "description_width": "",
            "_view_module": "@jupyter-widgets/base",
            "_model_module_version": "1.5.0",
            "_view_count": null,
            "_view_module_version": "1.2.0",
            "bar_color": null,
            "_model_module": "@jupyter-widgets/controls"
          }
        },
        "6cbeeb3bcf61433196d009274e57d61e": {
          "model_module": "@jupyter-widgets/base",
          "model_name": "LayoutModel",
          "state": {
            "_view_name": "LayoutView",
            "grid_template_rows": null,
            "right": null,
            "justify_content": null,
            "_view_module": "@jupyter-widgets/base",
            "overflow": null,
            "_model_module_version": "1.2.0",
            "_view_count": null,
            "flex_flow": null,
            "width": null,
            "min_width": null,
            "border": null,
            "align_items": null,
            "bottom": null,
            "_model_module": "@jupyter-widgets/base",
            "top": null,
            "grid_column": null,
            "overflow_y": null,
            "overflow_x": null,
            "grid_auto_flow": null,
            "grid_area": null,
            "grid_template_columns": null,
            "flex": null,
            "_model_name": "LayoutModel",
            "justify_items": null,
            "grid_row": null,
            "max_height": null,
            "align_content": null,
            "visibility": null,
            "align_self": null,
            "height": null,
            "min_height": null,
            "padding": null,
            "grid_auto_rows": null,
            "grid_gap": null,
            "max_width": null,
            "order": null,
            "_view_module_version": "1.2.0",
            "grid_template_areas": null,
            "object_position": null,
            "object_fit": null,
            "grid_auto_columns": null,
            "margin": null,
            "display": null,
            "left": null
          }
        },
        "d03dbed046a349bd9063d414a562f38f": {
          "model_module": "@jupyter-widgets/controls",
          "model_name": "DescriptionStyleModel",
          "state": {
            "_view_name": "StyleView",
            "_model_name": "DescriptionStyleModel",
            "description_width": "",
            "_view_module": "@jupyter-widgets/base",
            "_model_module_version": "1.5.0",
            "_view_count": null,
            "_view_module_version": "1.2.0",
            "_model_module": "@jupyter-widgets/controls"
          }
        },
        "ef5194e155864a30afbce99be5c31890": {
          "model_module": "@jupyter-widgets/base",
          "model_name": "LayoutModel",
          "state": {
            "_view_name": "LayoutView",
            "grid_template_rows": null,
            "right": null,
            "justify_content": null,
            "_view_module": "@jupyter-widgets/base",
            "overflow": null,
            "_model_module_version": "1.2.0",
            "_view_count": null,
            "flex_flow": null,
            "width": null,
            "min_width": null,
            "border": null,
            "align_items": null,
            "bottom": null,
            "_model_module": "@jupyter-widgets/base",
            "top": null,
            "grid_column": null,
            "overflow_y": null,
            "overflow_x": null,
            "grid_auto_flow": null,
            "grid_area": null,
            "grid_template_columns": null,
            "flex": null,
            "_model_name": "LayoutModel",
            "justify_items": null,
            "grid_row": null,
            "max_height": null,
            "align_content": null,
            "visibility": null,
            "align_self": null,
            "height": null,
            "min_height": null,
            "padding": null,
            "grid_auto_rows": null,
            "grid_gap": null,
            "max_width": null,
            "order": null,
            "_view_module_version": "1.2.0",
            "grid_template_areas": null,
            "object_position": null,
            "object_fit": null,
            "grid_auto_columns": null,
            "margin": null,
            "display": null,
            "left": null
          }
        }
      }
    }
  },
  "cells": [
    {
      "cell_type": "markdown",
      "metadata": {
        "id": "view-in-github",
        "colab_type": "text"
      },
      "source": [
        "<a href=\"https://colab.research.google.com/github/mlaricobar/solution-datathon-interbank-2020/blob/desarrollo/plus-one-solution/%5B02%5D%20EDA%20-%20Datasets%20-%20v2.ipynb\" target=\"_parent\"><img src=\"https://colab.research.google.com/assets/colab-badge.svg\" alt=\"Open In Colab\"/></a>"
      ]
    },
    {
      "cell_type": "markdown",
      "metadata": {
        "id": "UTLkMB65nevH"
      },
      "source": [
        "# Exploratory Data Analysis"
      ]
    },
    {
      "cell_type": "markdown",
      "metadata": {
        "id": "ysKbtWgut_7q"
      },
      "source": [
        "## Config"
      ]
    },
    {
      "cell_type": "markdown",
      "metadata": {
        "id": "YfR11wXKxl-A"
      },
      "source": [
        "### Installations "
      ]
    },
    {
      "cell_type": "code",
      "metadata": {
        "colab": {
          "base_uri": "https://localhost:8080/",
          "height": 1000
        },
        "id": "_HF5_XTdt4Rl",
        "outputId": "55d0f355-4a13-4fac-d545-a34f7d71e200"
      },
      "source": [
        "!pip install --upgrade confuse\n",
        "!pip install --upgrade htmlmin\n",
        "!pip install --upgrade phik\n",
        "!pip install --upgrade tangled-up-in-unicode\n",
        "!pip install --upgrade tqdm\n",
        "!pip install --upgrade --force-reinstall visions==0.5.0\n",
        "!pip install --upgrade imagehash\n",
        "!pip install --upgrade --force-reinstall --no-deps pandas-profiling"
      ],
      "execution_count": null,
      "outputs": [
        {
          "output_type": "stream",
          "text": [
            "Requirement already up-to-date: confuse in /usr/local/lib/python3.6/dist-packages (1.4.0)\n",
            "Requirement already satisfied, skipping upgrade: pyyaml in /usr/local/lib/python3.6/dist-packages (from confuse) (3.13)\n",
            "Requirement already up-to-date: htmlmin in /usr/local/lib/python3.6/dist-packages (0.1.12)\n",
            "Requirement already up-to-date: phik in /usr/local/lib/python3.6/dist-packages (0.10.0)\n",
            "Requirement already satisfied, skipping upgrade: matplotlib>=2.2.3 in /usr/local/lib/python3.6/dist-packages (from phik) (3.2.2)\n",
            "Requirement already satisfied, skipping upgrade: numba>=0.38.1 in /usr/local/lib/python3.6/dist-packages (from phik) (0.48.0)\n",
            "Requirement already satisfied, skipping upgrade: numpy>=1.15.4 in /usr/local/lib/python3.6/dist-packages (from phik) (1.19.4)\n",
            "Requirement already satisfied, skipping upgrade: scipy>=1.1.0 in /usr/local/lib/python3.6/dist-packages (from phik) (1.4.1)\n",
            "Requirement already satisfied, skipping upgrade: joblib>=0.14.1 in /usr/local/lib/python3.6/dist-packages (from phik) (1.0.0)\n",
            "Requirement already satisfied, skipping upgrade: pandas>=0.23.4 in /usr/local/lib/python3.6/dist-packages (from phik) (1.1.5)\n",
            "Requirement already satisfied, skipping upgrade: pyparsing!=2.0.4,!=2.1.2,!=2.1.6,>=2.0.1 in /usr/local/lib/python3.6/dist-packages (from matplotlib>=2.2.3->phik) (2.4.7)\n",
            "Requirement already satisfied, skipping upgrade: python-dateutil>=2.1 in /usr/local/lib/python3.6/dist-packages (from matplotlib>=2.2.3->phik) (2.8.1)\n",
            "Requirement already satisfied, skipping upgrade: kiwisolver>=1.0.1 in /usr/local/lib/python3.6/dist-packages (from matplotlib>=2.2.3->phik) (1.3.1)\n",
            "Requirement already satisfied, skipping upgrade: cycler>=0.10 in /usr/local/lib/python3.6/dist-packages (from matplotlib>=2.2.3->phik) (0.10.0)\n",
            "Requirement already satisfied, skipping upgrade: setuptools in /usr/local/lib/python3.6/dist-packages (from numba>=0.38.1->phik) (50.3.2)\n",
            "Requirement already satisfied, skipping upgrade: llvmlite<0.32.0,>=0.31.0dev0 in /usr/local/lib/python3.6/dist-packages (from numba>=0.38.1->phik) (0.31.0)\n",
            "Requirement already satisfied, skipping upgrade: pytz>=2017.2 in /usr/local/lib/python3.6/dist-packages (from pandas>=0.23.4->phik) (2020.4)\n",
            "Requirement already satisfied, skipping upgrade: six>=1.5 in /usr/local/lib/python3.6/dist-packages (from python-dateutil>=2.1->matplotlib>=2.2.3->phik) (1.15.0)\n",
            "Requirement already up-to-date: tangled-up-in-unicode in /usr/local/lib/python3.6/dist-packages (0.0.6)\n",
            "Requirement already up-to-date: tqdm in /usr/local/lib/python3.6/dist-packages (4.54.1)\n",
            "Collecting visions==0.5.0\n",
            "  Using cached https://files.pythonhosted.org/packages/26/e3/9416e94e767d59a86edcbcb8e1c8f42874d272c3b343676074879e9db0e0/visions-0.5.0-py3-none-any.whl\n",
            "Collecting attrs>=19.3.0\n",
            "  Using cached https://files.pythonhosted.org/packages/c3/aa/cb45262569fcc047bf070b5de61813724d6726db83259222cd7b4c79821a/attrs-20.3.0-py2.py3-none-any.whl\n",
            "Collecting tangled-up-in-unicode>=0.0.4\n",
            "  Using cached https://files.pythonhosted.org/packages/4a/e2/e588ab9298d4989ce7fdb2b97d18aac878d99dbdc379a4476a09d9271b68/tangled_up_in_unicode-0.0.6-py3-none-any.whl\n",
            "Collecting numpy\n",
            "  Using cached https://files.pythonhosted.org/packages/87/86/753182c9085ba4936c0076269a571613387cdb77ae2bf537448bfd63472c/numpy-1.19.4-cp36-cp36m-manylinux2010_x86_64.whl\n",
            "Collecting pandas>=0.25.3\n",
            "  Using cached https://files.pythonhosted.org/packages/c3/e2/00cacecafbab071c787019f00ad84ca3185952f6bb9bca9550ed83870d4d/pandas-1.1.5-cp36-cp36m-manylinux1_x86_64.whl\n",
            "Collecting networkx>=2.4\n",
            "  Using cached https://files.pythonhosted.org/packages/9b/cd/dc52755d30ba41c60243235460961fc28022e5b6731f16c268667625baea/networkx-2.5-py3-none-any.whl\n",
            "Collecting python-dateutil>=2.7.3\n",
            "  Using cached https://files.pythonhosted.org/packages/d4/70/d60450c3dd48ef87586924207ae8907090de0b306af2bce5d134d78615cb/python_dateutil-2.8.1-py2.py3-none-any.whl\n",
            "Collecting pytz>=2017.2\n",
            "  Using cached https://files.pythonhosted.org/packages/12/f8/ff09af6ff61a3efaad5f61ba5facdf17e7722c4393f7d8a66674d2dbd29f/pytz-2020.4-py2.py3-none-any.whl\n",
            "Collecting decorator>=4.3.0\n",
            "  Using cached https://files.pythonhosted.org/packages/ed/1b/72a1821152d07cf1d8b6fce298aeb06a7eb90f4d6d41acec9861e7cc6df0/decorator-4.4.2-py2.py3-none-any.whl\n",
            "Collecting six>=1.5\n",
            "  Using cached https://files.pythonhosted.org/packages/ee/ff/48bde5c0f013094d729fe4b0316ba2a24774b3ff1c52d924a8a4cb04078a/six-1.15.0-py2.py3-none-any.whl\n",
            "\u001b[31mERROR: nbclient 0.5.1 has requirement jupyter-client>=6.1.5, but you'll have jupyter-client 5.3.5 which is incompatible.\u001b[0m\n",
            "\u001b[31mERROR: datascience 0.10.6 has requirement folium==0.2.1, but you'll have folium 0.8.3 which is incompatible.\u001b[0m\n",
            "\u001b[31mERROR: convertdate 2.2.0 has requirement pytz<2020,>=2014.10, but you'll have pytz 2020.4 which is incompatible.\u001b[0m\n",
            "\u001b[31mERROR: albumentations 0.1.12 has requirement imgaug<0.2.7,>=0.2.5, but you'll have imgaug 0.2.9 which is incompatible.\u001b[0m\n",
            "Installing collected packages: attrs, tangled-up-in-unicode, numpy, six, python-dateutil, pytz, pandas, decorator, networkx, visions\n",
            "  Found existing installation: attrs 20.3.0\n",
            "    Uninstalling attrs-20.3.0:\n",
            "      Successfully uninstalled attrs-20.3.0\n",
            "  Found existing installation: tangled-up-in-unicode 0.0.6\n",
            "    Uninstalling tangled-up-in-unicode-0.0.6:\n",
            "      Successfully uninstalled tangled-up-in-unicode-0.0.6\n",
            "  Found existing installation: numpy 1.19.4\n",
            "    Uninstalling numpy-1.19.4:\n",
            "      Successfully uninstalled numpy-1.19.4\n",
            "  Found existing installation: six 1.15.0\n",
            "    Uninstalling six-1.15.0:\n",
            "      Successfully uninstalled six-1.15.0\n",
            "  Found existing installation: python-dateutil 2.8.1\n",
            "    Uninstalling python-dateutil-2.8.1:\n",
            "      Successfully uninstalled python-dateutil-2.8.1\n",
            "  Found existing installation: pytz 2020.4\n",
            "    Uninstalling pytz-2020.4:\n",
            "      Successfully uninstalled pytz-2020.4\n",
            "  Found existing installation: pandas 1.1.5\n",
            "    Uninstalling pandas-1.1.5:\n",
            "      Successfully uninstalled pandas-1.1.5\n",
            "  Found existing installation: decorator 4.4.2\n",
            "    Uninstalling decorator-4.4.2:\n",
            "      Successfully uninstalled decorator-4.4.2\n",
            "  Found existing installation: networkx 2.5\n",
            "    Uninstalling networkx-2.5:\n",
            "      Successfully uninstalled networkx-2.5\n",
            "  Found existing installation: visions 0.5.0\n",
            "    Uninstalling visions-0.5.0:\n",
            "      Successfully uninstalled visions-0.5.0\n",
            "Successfully installed attrs-20.3.0 decorator-4.4.2 networkx-2.5 numpy-1.19.4 pandas-1.1.5 python-dateutil-2.8.1 pytz-2020.4 six-1.15.0 tangled-up-in-unicode-0.0.6 visions-0.5.0\n"
          ],
          "name": "stdout"
        },
        {
          "output_type": "display_data",
          "data": {
            "application/vnd.colab-display-data+json": {
              "pip_warning": {
                "packages": [
                  "dateutil",
                  "decorator",
                  "numpy",
                  "pandas",
                  "pytz",
                  "six"
                ]
              }
            }
          },
          "metadata": {
            "tags": []
          }
        },
        {
          "output_type": "stream",
          "text": [
            "Requirement already up-to-date: imagehash in /usr/local/lib/python3.6/dist-packages (4.2.0)\n",
            "Requirement already satisfied, skipping upgrade: six in /usr/local/lib/python3.6/dist-packages (from imagehash) (1.15.0)\n",
            "Requirement already satisfied, skipping upgrade: numpy in /usr/local/lib/python3.6/dist-packages (from imagehash) (1.19.4)\n",
            "Requirement already satisfied, skipping upgrade: pillow in /usr/local/lib/python3.6/dist-packages (from imagehash) (7.0.0)\n",
            "Requirement already satisfied, skipping upgrade: scipy in /usr/local/lib/python3.6/dist-packages (from imagehash) (1.4.1)\n",
            "Requirement already satisfied, skipping upgrade: PyWavelets in /usr/local/lib/python3.6/dist-packages (from imagehash) (1.1.1)\n",
            "Collecting pandas-profiling\n",
            "  Using cached https://files.pythonhosted.org/packages/32/79/5d03ed1172e3e67a997a6a795bcdd2ab58f84851969d01a91455383795b6/pandas_profiling-2.9.0-py2.py3-none-any.whl\n",
            "Installing collected packages: pandas-profiling\n",
            "  Found existing installation: pandas-profiling 2.9.0\n",
            "    Uninstalling pandas-profiling-2.9.0:\n",
            "      Successfully uninstalled pandas-profiling-2.9.0\n",
            "Successfully installed pandas-profiling-2.9.0\n"
          ],
          "name": "stdout"
        }
      ]
    },
    {
      "cell_type": "markdown",
      "metadata": {
        "id": "RkIFXhmExp78"
      },
      "source": [
        "### Imports "
      ]
    },
    {
      "cell_type": "code",
      "metadata": {
        "colab": {
          "base_uri": "https://localhost:8080/"
        },
        "id": "P7vEw8fTcLYx",
        "outputId": "c5bd28d2-c3d3-44d4-9783-479bea51d77b"
      },
      "source": [
        "!pip install category_encoders"
      ],
      "execution_count": 1,
      "outputs": [
        {
          "output_type": "stream",
          "text": [
            "Collecting category_encoders\n",
            "\u001b[?25l  Downloading https://files.pythonhosted.org/packages/44/57/fcef41c248701ee62e8325026b90c432adea35555cbc870aff9cfba23727/category_encoders-2.2.2-py2.py3-none-any.whl (80kB)\n",
            "\r\u001b[K     |████                            | 10kB 16.8MB/s eta 0:00:01\r\u001b[K     |████████▏                       | 20kB 22.6MB/s eta 0:00:01\r\u001b[K     |████████████▏                   | 30kB 11.8MB/s eta 0:00:01\r\u001b[K     |████████████████▎               | 40kB 9.5MB/s eta 0:00:01\r\u001b[K     |████████████████████▎           | 51kB 7.8MB/s eta 0:00:01\r\u001b[K     |████████████████████████▍       | 61kB 8.3MB/s eta 0:00:01\r\u001b[K     |████████████████████████████▍   | 71kB 7.8MB/s eta 0:00:01\r\u001b[K     |████████████████████████████████| 81kB 5.1MB/s \n",
            "\u001b[?25hRequirement already satisfied: numpy>=1.14.0 in /usr/local/lib/python3.6/dist-packages (from category_encoders) (1.19.5)\n",
            "Requirement already satisfied: patsy>=0.5.1 in /usr/local/lib/python3.6/dist-packages (from category_encoders) (0.5.1)\n",
            "Requirement already satisfied: pandas>=0.21.1 in /usr/local/lib/python3.6/dist-packages (from category_encoders) (1.1.5)\n",
            "Requirement already satisfied: statsmodels>=0.9.0 in /usr/local/lib/python3.6/dist-packages (from category_encoders) (0.10.2)\n",
            "Requirement already satisfied: scipy>=1.0.0 in /usr/local/lib/python3.6/dist-packages (from category_encoders) (1.4.1)\n",
            "Requirement already satisfied: scikit-learn>=0.20.0 in /usr/local/lib/python3.6/dist-packages (from category_encoders) (0.22.2.post1)\n",
            "Requirement already satisfied: six in /usr/local/lib/python3.6/dist-packages (from patsy>=0.5.1->category_encoders) (1.15.0)\n",
            "Requirement already satisfied: pytz>=2017.2 in /usr/local/lib/python3.6/dist-packages (from pandas>=0.21.1->category_encoders) (2018.9)\n",
            "Requirement already satisfied: python-dateutil>=2.7.3 in /usr/local/lib/python3.6/dist-packages (from pandas>=0.21.1->category_encoders) (2.8.1)\n",
            "Requirement already satisfied: joblib>=0.11 in /usr/local/lib/python3.6/dist-packages (from scikit-learn>=0.20.0->category_encoders) (1.0.0)\n",
            "Installing collected packages: category-encoders\n",
            "Successfully installed category-encoders-2.2.2\n"
          ],
          "name": "stdout"
        }
      ]
    },
    {
      "cell_type": "code",
      "metadata": {
        "id": "WkP4Rgn_xe_d"
      },
      "source": [
        "from google.colab import drive, files\n",
        "\n",
        "import numpy as np\n",
        "import pandas as pd\n",
        "\n",
        "import seaborn as sns\n",
        "import matplotlib.pyplot as plt\n",
        "\n",
        "from datetime import datetime\n",
        "from dateutil import relativedelta"
      ],
      "execution_count": 2,
      "outputs": []
    },
    {
      "cell_type": "code",
      "metadata": {
        "colab": {
          "base_uri": "https://localhost:8080/"
        },
        "id": "y3TkLasUnecN",
        "outputId": "ecd9c5c5-d467-4c65-d6b5-645a4f08b744"
      },
      "source": [
        "drive.mount('/gdrive')"
      ],
      "execution_count": 3,
      "outputs": [
        {
          "output_type": "stream",
          "text": [
            "Mounted at /gdrive\n"
          ],
          "name": "stdout"
        }
      ]
    },
    {
      "cell_type": "code",
      "metadata": {
        "colab": {
          "base_uri": "https://localhost:8080/"
        },
        "id": "92DT4Z2PnkMj",
        "outputId": "f16f259b-d859-4c9a-e791-66ac7a232d56"
      },
      "source": [
        "%cd /gdrive/'My Drive'/Competencias/'[02] Interbank-2020'\n",
        "!ls -lh '[00] Data'"
      ],
      "execution_count": 4,
      "outputs": [
        {
          "output_type": "stream",
          "text": [
            "/gdrive/My Drive/Competencias/[02] Interbank-2020\n",
            "total 5.1G\n",
            "-rw------- 1 root root 979M Jan 22 03:05 censo_test.csv\n",
            "-rw------- 1 root root 748M Jan 22 03:05 censo_train.csv\n",
            "-rw------- 1 root root  998 Jan 22 03:05 productos.csv\n",
            "-rw------- 1 root root 1.7G Jan 22 03:05 rcc_test.csv\n",
            "-rw------- 1 root root 1.4G Jan 22 03:06 rcc_train.csv\n",
            "-rw------- 1 root root 3.3M Jan 22 03:06 sample_submission.csv\n",
            "-rw------- 1 root root  30M Jan 22 03:06 se_test.csv\n",
            "-rw------- 1 root root  28M Jan 22 03:06 se_train.csv\n",
            "-rw------- 1 root root 122M Jan 22 03:06 sunat_test.csv\n",
            "-rw------- 1 root root 106M Jan 22 03:06 sunat_train.csv\n",
            "-rw------- 1 root root 3.0M Jan 22 03:06 y_train.csv\n"
          ],
          "name": "stdout"
        }
      ]
    },
    {
      "cell_type": "code",
      "metadata": {
        "id": "-XwReHlO21xE"
      },
      "source": [
        "def optimizar_df(df):\n",
        "  \n",
        "  for col_ in df.select_dtypes(include=[int]).columns:\n",
        "    df[col_] = pd.to_numeric(df[col_], downcast=\"unsigned\")\n",
        "\n",
        "  for col_ in df.select_dtypes(include=[float]).columns:\n",
        "    df[col_] = pd.to_numeric(df[col_], downcast=\"float\")\n",
        "  \n",
        "  return df"
      ],
      "execution_count": 6,
      "outputs": []
    },
    {
      "cell_type": "markdown",
      "metadata": {
        "id": "R50pV5Llaxbh"
      },
      "source": [
        "## Target"
      ]
    },
    {
      "cell_type": "code",
      "metadata": {
        "id": "3Y--1lTpx2AK"
      },
      "source": [
        "df_y_train = optimizar_df(pd.read_csv(\"[00] Data/y_train.csv\"))\n",
        "df_y_test = optimizar_df(pd.read_csv(\"[00] Data/sample_submission.csv\"))"
      ],
      "execution_count": 7,
      "outputs": []
    },
    {
      "cell_type": "code",
      "metadata": {
        "colab": {
          "base_uri": "https://localhost:8080/",
          "height": 108
        },
        "id": "BCwtqXNcXv-S",
        "outputId": "2cd3d9f2-5036-4524-f5c8-15c6a0b7612e"
      },
      "source": [
        "df_y_train.head(2)"
      ],
      "execution_count": 8,
      "outputs": [
        {
          "output_type": "execute_result",
          "data": {
            "text/html": [
              "<div>\n",
              "<style scoped>\n",
              "    .dataframe tbody tr th:only-of-type {\n",
              "        vertical-align: middle;\n",
              "    }\n",
              "\n",
              "    .dataframe tbody tr th {\n",
              "        vertical-align: top;\n",
              "    }\n",
              "\n",
              "    .dataframe thead th {\n",
              "        text-align: right;\n",
              "    }\n",
              "</style>\n",
              "<table border=\"1\" class=\"dataframe\">\n",
              "  <thead>\n",
              "    <tr style=\"text-align: right;\">\n",
              "      <th></th>\n",
              "      <th>key_value</th>\n",
              "      <th>target</th>\n",
              "    </tr>\n",
              "  </thead>\n",
              "  <tbody>\n",
              "    <tr>\n",
              "      <th>0</th>\n",
              "      <td>0</td>\n",
              "      <td>0</td>\n",
              "    </tr>\n",
              "    <tr>\n",
              "      <th>1</th>\n",
              "      <td>1</td>\n",
              "      <td>0</td>\n",
              "    </tr>\n",
              "  </tbody>\n",
              "</table>\n",
              "</div>"
            ],
            "text/plain": [
              "   key_value  target\n",
              "0          0       0\n",
              "1          1       0"
            ]
          },
          "metadata": {
            "tags": []
          },
          "execution_count": 8
        }
      ]
    },
    {
      "cell_type": "code",
      "metadata": {
        "id": "gsyz50_-z5T5",
        "colab": {
          "base_uri": "https://localhost:8080/",
          "height": 108
        },
        "outputId": "eb5729c2-7721-4062-e142-8afcd0263c85"
      },
      "source": [
        "df_y_test.head(2)"
      ],
      "execution_count": 9,
      "outputs": [
        {
          "output_type": "execute_result",
          "data": {
            "text/html": [
              "<div>\n",
              "<style scoped>\n",
              "    .dataframe tbody tr th:only-of-type {\n",
              "        vertical-align: middle;\n",
              "    }\n",
              "\n",
              "    .dataframe tbody tr th {\n",
              "        vertical-align: top;\n",
              "    }\n",
              "\n",
              "    .dataframe thead th {\n",
              "        text-align: right;\n",
              "    }\n",
              "</style>\n",
              "<table border=\"1\" class=\"dataframe\">\n",
              "  <thead>\n",
              "    <tr style=\"text-align: right;\">\n",
              "      <th></th>\n",
              "      <th>key_value</th>\n",
              "      <th>target</th>\n",
              "    </tr>\n",
              "  </thead>\n",
              "  <tbody>\n",
              "    <tr>\n",
              "      <th>0</th>\n",
              "      <td>0</td>\n",
              "      <td>0</td>\n",
              "    </tr>\n",
              "    <tr>\n",
              "      <th>1</th>\n",
              "      <td>1</td>\n",
              "      <td>0</td>\n",
              "    </tr>\n",
              "  </tbody>\n",
              "</table>\n",
              "</div>"
            ],
            "text/plain": [
              "   key_value  target\n",
              "0          0       0\n",
              "1          1       0"
            ]
          },
          "metadata": {
            "tags": []
          },
          "execution_count": 9
        }
      ]
    },
    {
      "cell_type": "code",
      "metadata": {
        "colab": {
          "base_uri": "https://localhost:8080/"
        },
        "id": "6xeaUROAX05U",
        "outputId": "2bf45486-fc2d-4221-9574-e347c653999e"
      },
      "source": [
        "n_rows_train, n_rows_test = df_y_train.shape[0], df_y_test.shape[0], \n",
        "n_rows_total = n_rows_train + n_rows_test\n",
        "print(\"Ratio de efectividad: {:.2f}%\".format(100.0 * df_y_train[\"target\"].mean()))\n",
        "\n",
        "print(\"Cantidad de registros en la base de Entrenamiento: {0:,} ({1:.2f}%)\".format(n_rows_train, 100.0*(n_rows_train/n_rows_total)))\n",
        "print(\"Cantidad de registros en la base de Test: {0:,} ({1:.2f}%)\".format(n_rows_test, 100.0*(n_rows_test/n_rows_total)))"
      ],
      "execution_count": 10,
      "outputs": [
        {
          "output_type": "stream",
          "text": [
            "Ratio de efectividad: 15.82%\n",
            "Cantidad de registros en la base de Entrenamiento: 358,487 (47.47%)\n",
            "Cantidad de registros en la base de Test: 396,666 (52.53%)\n"
          ],
          "name": "stdout"
        }
      ]
    },
    {
      "cell_type": "markdown",
      "metadata": {
        "id": "Hdkzo9ZTt4hE"
      },
      "source": [
        "## Dataset Socio-económica"
      ]
    },
    {
      "cell_type": "code",
      "metadata": {
        "id": "KSucDtvTo4Xg"
      },
      "source": [
        "df_se_train = optimizar_df(pd.read_csv(\"[00] Data/se_train.csv\"))\n",
        "df_se_test = optimizar_df(pd.read_csv(\"[00] Data/se_test.csv\"))"
      ],
      "execution_count": 11,
      "outputs": []
    },
    {
      "cell_type": "code",
      "metadata": {
        "colab": {
          "base_uri": "https://localhost:8080/",
          "height": 128
        },
        "id": "syEDzDhEtYyY",
        "outputId": "fd3d81e4-401c-4509-d50f-facd13bc9ced"
      },
      "source": [
        "df_se_train.head(2)"
      ],
      "execution_count": 12,
      "outputs": [
        {
          "output_type": "execute_result",
          "data": {
            "text/html": [
              "<div>\n",
              "<style scoped>\n",
              "    .dataframe tbody tr th:only-of-type {\n",
              "        vertical-align: middle;\n",
              "    }\n",
              "\n",
              "    .dataframe tbody tr th {\n",
              "        vertical-align: top;\n",
              "    }\n",
              "\n",
              "    .dataframe thead th {\n",
              "        text-align: right;\n",
              "    }\n",
              "</style>\n",
              "<table border=\"1\" class=\"dataframe\">\n",
              "  <thead>\n",
              "    <tr style=\"text-align: right;\">\n",
              "      <th></th>\n",
              "      <th>key_value</th>\n",
              "      <th>edad</th>\n",
              "      <th>sexo</th>\n",
              "      <th>est_cvl</th>\n",
              "      <th>sit_lab</th>\n",
              "      <th>cod_ocu</th>\n",
              "      <th>ctd_hijos</th>\n",
              "      <th>flg_sin_email</th>\n",
              "      <th>ctd_veh</th>\n",
              "      <th>cod_ubi</th>\n",
              "      <th>lgr_vot</th>\n",
              "      <th>prv</th>\n",
              "      <th>dto</th>\n",
              "      <th>rgn</th>\n",
              "      <th>tip_lvledu</th>\n",
              "    </tr>\n",
              "  </thead>\n",
              "  <tbody>\n",
              "    <tr>\n",
              "      <th>0</th>\n",
              "      <td>0</td>\n",
              "      <td>-0.983651</td>\n",
              "      <td>1</td>\n",
              "      <td>4</td>\n",
              "      <td>2</td>\n",
              "      <td>22</td>\n",
              "      <td>0.0</td>\n",
              "      <td>1</td>\n",
              "      <td>0.0</td>\n",
              "      <td>-0.070167</td>\n",
              "      <td>17</td>\n",
              "      <td>47</td>\n",
              "      <td>687</td>\n",
              "      <td>4</td>\n",
              "      <td>0</td>\n",
              "    </tr>\n",
              "    <tr>\n",
              "      <th>1</th>\n",
              "      <td>1</td>\n",
              "      <td>0.000953</td>\n",
              "      <td>1</td>\n",
              "      <td>4</td>\n",
              "      <td>1</td>\n",
              "      <td>22</td>\n",
              "      <td>0.0</td>\n",
              "      <td>1</td>\n",
              "      <td>1.0</td>\n",
              "      <td>-0.738566</td>\n",
              "      <td>10</td>\n",
              "      <td>186</td>\n",
              "      <td>849</td>\n",
              "      <td>6</td>\n",
              "      <td>0</td>\n",
              "    </tr>\n",
              "  </tbody>\n",
              "</table>\n",
              "</div>"
            ],
            "text/plain": [
              "   key_value      edad  sexo  est_cvl  ...  prv  dto  rgn  tip_lvledu\n",
              "0          0 -0.983651     1        4  ...   47  687    4           0\n",
              "1          1  0.000953     1        4  ...  186  849    6           0\n",
              "\n",
              "[2 rows x 15 columns]"
            ]
          },
          "metadata": {
            "tags": []
          },
          "execution_count": 12
        }
      ]
    },
    {
      "cell_type": "code",
      "metadata": {
        "id": "kMv7IPep_m5_",
        "colab": {
          "base_uri": "https://localhost:8080/",
          "height": 128
        },
        "outputId": "4c7f75c3-37fd-4d3f-c844-ce0d02918eb2"
      },
      "source": [
        "df_se_test.head(2)"
      ],
      "execution_count": 13,
      "outputs": [
        {
          "output_type": "execute_result",
          "data": {
            "text/html": [
              "<div>\n",
              "<style scoped>\n",
              "    .dataframe tbody tr th:only-of-type {\n",
              "        vertical-align: middle;\n",
              "    }\n",
              "\n",
              "    .dataframe tbody tr th {\n",
              "        vertical-align: top;\n",
              "    }\n",
              "\n",
              "    .dataframe thead th {\n",
              "        text-align: right;\n",
              "    }\n",
              "</style>\n",
              "<table border=\"1\" class=\"dataframe\">\n",
              "  <thead>\n",
              "    <tr style=\"text-align: right;\">\n",
              "      <th></th>\n",
              "      <th>key_value</th>\n",
              "      <th>edad</th>\n",
              "      <th>sexo</th>\n",
              "      <th>est_cvl</th>\n",
              "      <th>sit_lab</th>\n",
              "      <th>cod_ocu</th>\n",
              "      <th>ctd_hijos</th>\n",
              "      <th>flg_sin_email</th>\n",
              "      <th>ctd_veh</th>\n",
              "      <th>cod_ubi</th>\n",
              "      <th>lgr_vot</th>\n",
              "      <th>prv</th>\n",
              "      <th>dto</th>\n",
              "      <th>rgn</th>\n",
              "      <th>tip_lvledu</th>\n",
              "    </tr>\n",
              "  </thead>\n",
              "  <tbody>\n",
              "    <tr>\n",
              "      <th>0</th>\n",
              "      <td>0</td>\n",
              "      <td>1.137034</td>\n",
              "      <td>0</td>\n",
              "      <td>4</td>\n",
              "      <td>2</td>\n",
              "      <td>29</td>\n",
              "      <td>0.0</td>\n",
              "      <td>0</td>\n",
              "      <td>0.0</td>\n",
              "      <td>0.043777</td>\n",
              "      <td>18</td>\n",
              "      <td>111</td>\n",
              "      <td>772</td>\n",
              "      <td>3</td>\n",
              "      <td>0</td>\n",
              "    </tr>\n",
              "    <tr>\n",
              "      <th>1</th>\n",
              "      <td>1</td>\n",
              "      <td>-1.513823</td>\n",
              "      <td>0</td>\n",
              "      <td>4</td>\n",
              "      <td>1</td>\n",
              "      <td>22</td>\n",
              "      <td>0.0</td>\n",
              "      <td>1</td>\n",
              "      <td>0.0</td>\n",
              "      <td>0.618486</td>\n",
              "      <td>25</td>\n",
              "      <td>127</td>\n",
              "      <td>949</td>\n",
              "      <td>5</td>\n",
              "      <td>7</td>\n",
              "    </tr>\n",
              "  </tbody>\n",
              "</table>\n",
              "</div>"
            ],
            "text/plain": [
              "   key_value      edad  sexo  est_cvl  ...  prv  dto  rgn  tip_lvledu\n",
              "0          0  1.137034     0        4  ...  111  772    3           0\n",
              "1          1 -1.513823     0        4  ...  127  949    5           7\n",
              "\n",
              "[2 rows x 15 columns]"
            ]
          },
          "metadata": {
            "tags": []
          },
          "execution_count": 13
        }
      ]
    },
    {
      "cell_type": "code",
      "metadata": {
        "id": "2CITEV8a_ujo"
      },
      "source": [
        "df_se_train_2 = df_y_train.merge(df_se_train, how=\"left\", on=[\"key_value\"])\n",
        "df_se_test_2 = df_y_test.merge(df_se_test, how=\"left\", on=[\"key_value\"])\n",
        "\n",
        "df_se_train_4_tree = df_se_train_2.copy()\n",
        "df_se_test_4_tree = df_se_test_2.copy()"
      ],
      "execution_count": 14,
      "outputs": []
    },
    {
      "cell_type": "markdown",
      "metadata": {
        "id": "-YLrAJMr0gqY"
      },
      "source": [
        "### Variables Numéricas"
      ]
    },
    {
      "cell_type": "code",
      "metadata": {
        "id": "wWR3C1k7D4MQ"
      },
      "source": [
        "num_feat = ['edad', 'cod_ubi']"
      ],
      "execution_count": 16,
      "outputs": []
    },
    {
      "cell_type": "code",
      "metadata": {
        "id": "Ck-uAYVGBzsS"
      },
      "source": [
        "for col in num_feat:\n",
        "  _, bins = pd.qcut(df_se_train_4_tree[col], q=10, retbins=True)\n",
        "  bins = np.concatenate(([-np.inf], bins[1:-1], [np.inf]))\n",
        "  \n",
        "  df_se_train_4_tree[\"rango_{0}\".format(col)] = pd.cut(df_se_train_4_tree[col], bins).astype(str)\n",
        "  df_se_test_4_tree[\"rango_{0}\".format(col)] = pd.cut(df_se_test_4_tree[col], bins).astype(str)"
      ],
      "execution_count": 17,
      "outputs": []
    },
    {
      "cell_type": "code",
      "metadata": {
        "id": "HV2kPnZfNWZc"
      },
      "source": [
        "df_se_train_4_tree[\"ctd_veh\"] = df_se_train_4_tree[\"ctd_veh\"].fillna(-1).astype(int).astype(str)\n",
        "df_se_train_4_tree.loc[df_se_train_4_tree[\"ctd_veh\"].astype(int) >= 3, \"ctd_veh\"] = \">=3\"\n",
        "\n",
        "df_se_test_4_tree[\"ctd_veh\"] = df_se_test_4_tree[\"ctd_veh\"].fillna(-1).astype(int).astype(str)\n",
        "df_se_test_4_tree.loc[df_se_test_4_tree[\"ctd_veh\"].astype(int) >= 3, \"ctd_veh\"] = \">=3\""
      ],
      "execution_count": 19,
      "outputs": []
    },
    {
      "cell_type": "code",
      "metadata": {
        "id": "pwiRd_c-QQye"
      },
      "source": [
        "df_se_train_4_tree[\"ctd_hijos\"] = df_se_train_4_tree[\"ctd_hijos\"].fillna(-1).astype(int).astype(str)\n",
        "df_se_train_4_tree.loc[df_se_train_4_tree[\"ctd_hijos\"].astype(int) >= 3, \"ctd_hijos\"] = \">=3\"\n",
        "\n",
        "df_se_test_4_tree[\"ctd_hijos\"] = df_se_test_4_tree[\"ctd_hijos\"].fillna(-1).astype(int).astype(str)\n",
        "df_se_test_4_tree.loc[df_se_test_4_tree[\"ctd_hijos\"].astype(int) >= 3, \"ctd_hijos\"] = \">=3\""
      ],
      "execution_count": 20,
      "outputs": []
    },
    {
      "cell_type": "markdown",
      "metadata": {
        "id": "GmCVfw0g9u1i"
      },
      "source": [
        "### Variables Categóricas"
      ]
    },
    {
      "cell_type": "code",
      "metadata": {
        "id": "EH-ej63H_3XP"
      },
      "source": [
        "cat_feat = [\"sexo\", \"est_cvl\", \"sit_lab\", \"cod_ocu\", \"flg_sin_email\", \"lgr_vot\", \"prv\", \"dto\", \"rgn\", \"tip_lvledu\", \"ctd_veh\", \"ctd_hijos\", \"rango_edad\", \"rango_cod_ubi\"]"
      ],
      "execution_count": 21,
      "outputs": []
    },
    {
      "cell_type": "code",
      "metadata": {
        "id": "euxrOCx3C_Zc",
        "colab": {
          "base_uri": "https://localhost:8080/"
        },
        "outputId": "4785375a-4a6a-494e-dc93-be8af5b4de4b"
      },
      "source": [
        "for col_cat in cat_feat:\n",
        "  print(\"{0}\".format(col_cat))\n",
        "  print(\"\\t\", [c for c in df_se_train_4_tree[col_cat].unique() if c not in df_se_test_4_tree[col_cat].unique()])\n",
        "  print(\"\\t\", [c for c in df_se_test_4_tree[col_cat].unique() if c not in df_se_train_4_tree[col_cat].unique()])\n",
        "  print(\"\\n\")"
      ],
      "execution_count": 22,
      "outputs": [
        {
          "output_type": "stream",
          "text": [
            "sexo\n",
            "\t [nan]\n",
            "\t [nan]\n",
            "\n",
            "\n",
            "est_cvl\n",
            "\t [nan]\n",
            "\t [nan]\n",
            "\n",
            "\n",
            "sit_lab\n",
            "\t [nan]\n",
            "\t [nan]\n",
            "\n",
            "\n",
            "cod_ocu\n",
            "\t [nan]\n",
            "\t [nan]\n",
            "\n",
            "\n",
            "flg_sin_email\n",
            "\t [nan]\n",
            "\t [nan]\n",
            "\n",
            "\n",
            "lgr_vot\n",
            "\t [nan]\n",
            "\t [nan]\n",
            "\n",
            "\n",
            "prv\n",
            "\t [nan]\n",
            "\t [nan]\n",
            "\n",
            "\n",
            "dto\n",
            "\t [822.0, 1386.0, 861.0, 1555.0, nan, 1321.0, 852.0, 201.0, 786.0, 991.0, 1094.0, 841.0, 983.0, 1335.0, 1417.0, 729.0]\n",
            "\t [414.0, nan, 1273.0, 1283.0, 5.0, 261.0, 1409.0, 1385.0, 1588.0, 1298.0, 157.0, 1055.0, 64.0, 547.0, 1523.0, 916.0, 150.0, 1276.0, 739.0, 1363.0, 1012.0]\n",
            "\n",
            "\n",
            "rgn\n",
            "\t [nan]\n",
            "\t [nan]\n",
            "\n",
            "\n",
            "tip_lvledu\n",
            "\t [nan]\n",
            "\t [nan]\n",
            "\n",
            "\n",
            "ctd_veh\n",
            "\t []\n",
            "\t []\n",
            "\n",
            "\n",
            "ctd_hijos\n",
            "\t []\n",
            "\t []\n",
            "\n",
            "\n",
            "rango_edad\n",
            "\t []\n",
            "\t []\n",
            "\n",
            "\n",
            "rango_cod_ubi\n",
            "\t []\n",
            "\t []\n",
            "\n",
            "\n"
          ],
          "name": "stdout"
        }
      ]
    },
    {
      "cell_type": "markdown",
      "metadata": {
        "id": "zMYaZj-k_HmV"
      },
      "source": [
        "#### sexo"
      ]
    },
    {
      "cell_type": "code",
      "metadata": {
        "colab": {
          "base_uri": "https://localhost:8080/"
        },
        "id": "QKWyntMm-q7p",
        "outputId": "049b56a3-08e2-40d3-91d2-9199b86286c4"
      },
      "source": [
        "100*(df_se_train_2[\"sexo\"].value_counts(normalize=True, dropna=False))"
      ],
      "execution_count": 23,
      "outputs": [
        {
          "output_type": "execute_result",
          "data": {
            "text/plain": [
              "0.0    54.201408\n",
              "1.0    44.731050\n",
              "2.0     1.046621\n",
              "NaN     0.016458\n",
              "3.0     0.004463\n",
              "Name: sexo, dtype: float64"
            ]
          },
          "metadata": {
            "tags": []
          },
          "execution_count": 23
        }
      ]
    },
    {
      "cell_type": "code",
      "metadata": {
        "colab": {
          "base_uri": "https://localhost:8080/"
        },
        "id": "atVlUbxIAT8g",
        "outputId": "87018819-c006-42d8-aadd-5d2d91116f3d"
      },
      "source": [
        "100*(df_se_test_2[\"sexo\"].value_counts(normalize=True, dropna=False))"
      ],
      "execution_count": 24,
      "outputs": [
        {
          "output_type": "execute_result",
          "data": {
            "text/plain": [
              "0.0    55.663707\n",
              "1.0    41.875533\n",
              "2.0     2.442357\n",
              "NaN     0.014370\n",
              "3.0     0.004034\n",
              "Name: sexo, dtype: float64"
            ]
          },
          "metadata": {
            "tags": []
          },
          "execution_count": 24
        }
      ]
    },
    {
      "cell_type": "code",
      "metadata": {
        "colab": {
          "base_uri": "https://localhost:8080/"
        },
        "id": "96zacZV5cJXR",
        "outputId": "17aea912-e9b8-4690-cef5-1a8872a72e1a"
      },
      "source": [
        "import category_encoders as ce"
      ],
      "execution_count": 25,
      "outputs": [
        {
          "output_type": "stream",
          "text": [
            "/usr/local/lib/python3.6/dist-packages/statsmodels/tools/_testing.py:19: FutureWarning: pandas.util.testing is deprecated. Use the functions in the public API at pandas.testing instead.\n",
            "  import pandas.util.testing as tm\n"
          ],
          "name": "stderr"
        }
      ]
    },
    {
      "cell_type": "code",
      "metadata": {
        "id": "gpjkBdo4OJSq",
        "outputId": "add916bd-4796-4788-c29e-d0b8dde1633d",
        "colab": {
          "base_uri": "https://localhost:8080/"
        }
      },
      "source": [
        "df_se_train_4_tree[\"rango_edad\"].astype(str).value_counts(normalize=True, dropna=False)"
      ],
      "execution_count": 26,
      "outputs": [
        {
          "output_type": "execute_result",
          "data": {
            "text/plain": [
              "(-inf, -1.211]      0.115806\n",
              "(-0.681, -0.378]    0.110431\n",
              "(0.152, 0.531]      0.109823\n",
              "(-1.211, -0.908]    0.109170\n",
              "(-0.151, 0.152]     0.100115\n",
              "(0.91, 1.44]        0.095992\n",
              "(0.531, 0.91]       0.093278\n",
              "(1.44, inf]         0.089702\n",
              "(-0.908, -0.681]    0.085716\n",
              "(-0.378, -0.151]    0.079300\n",
              "nan                 0.010667\n",
              "Name: rango_edad, dtype: float64"
            ]
          },
          "metadata": {
            "tags": []
          },
          "execution_count": 26
        }
      ]
    },
    {
      "cell_type": "code",
      "metadata": {
        "id": "C-BdS6EyCkpg"
      },
      "source": [
        "def get_new_cat_features(cat_name, df_se_train_4_tree, df_se_test_4_tree):\n",
        "  df_se_train_4_tree['{0}_filled'.format(cat_name)] = df_se_train_4_tree[cat_name].fillna(-99999)\n",
        "  df_se_test_4_tree['{0}_filled'.format(cat_name)] = df_se_test_4_tree[cat_name].fillna(-99999)\n",
        "\n",
        "  encoder_types = {\"woe\": ce.WOEEncoder(cols=['{0}_filled'.format(cat_name)]),\n",
        "                    \"looe\": ce.LeaveOneOutEncoder(cols=['{0}_filled'.format(cat_name)]),                  \n",
        "                    \"stein\": ce.JamesSteinEncoder(cols=['{0}_filled'.format(cat_name)]),\n",
        "                    \"te\": ce.TargetEncoder(cols=['{0}_filled'.format(cat_name)])\n",
        "                    }\n",
        "\n",
        "  for enc_name, enc_obj in encoder_types.items():\n",
        "    enc = enc_obj.fit(df_se_train_4_tree[['{0}_filled'.format(cat_name)]], df_se_train_4_tree[\"target\"])\n",
        "    df_se_train_4_tree[\"{0}_filled_{1}\".format(cat_name, enc_name)] = enc.transform(df_se_train_4_tree[\"{0}_filled\".format(cat_name)])\n",
        "    df_se_test_4_tree[\"{0}_filled_{1}\".format(cat_name, enc_name)] = enc.transform(df_se_test_4_tree[\"{0}_filled\".format(cat_name)])\n",
        "\n",
        "  df_agg_feat_tmp = df_se_train_4_tree.groupby(\"{0}_filled\".format(cat_name), as_index=False).agg({\"target\": [\"sum\", \"count\", \"std\"]})\n",
        "  df_agg_feat_tmp.columns = [\"_\".join(c) if c[-1] != \"\" else c[0] for c in df_agg_feat_tmp.columns]\n",
        "  df_agg_feat_tmp[\"target_count_0\"] = df_agg_feat_tmp.apply(lambda row: row[\"target_count\"] - row[\"target_sum\"], axis=1)\n",
        "  df_agg_feat_tmp[\"target_diff_standar\"] = df_agg_feat_tmp.apply(lambda row: (row[\"target_count_0\"] - row[\"target_sum\"]) / (row[\"target_count\"]), axis=1)\n",
        "  df_agg_feat_tmp = df_agg_feat_tmp[[\"{0}_filled\".format(cat_name), \"target_std\", \"target_diff_standar\"]]\n",
        "  std_dict = {d[\"{0}_filled\".format(cat_name)]: d[\"target_std\"] for d in df_agg_feat_tmp[[\"{0}_filled\".format(cat_name), \"target_std\"]].to_dict(orient=\"records\")}\n",
        "  diff_dict = {d[\"{0}_filled\".format(cat_name)]: d[\"target_diff_standar\"] for d in df_agg_feat_tmp[[\"{0}_filled\".format(cat_name), \"target_diff_standar\"]].to_dict(orient=\"records\")}\n",
        "\n",
        "  df_se_train_4_tree[\"{0}_filled_std\".format(cat_name)] = df_se_train_4_tree[\"{0}_filled\".format(cat_name)].map(std_dict)\n",
        "  df_se_test_4_tree[\"{0}_filled_std\".format(cat_name)] = df_se_test_4_tree[\"{0}_filled\".format(cat_name)].map(std_dict)\n",
        "  df_se_train_4_tree[\"{0}_filled_diff_standar\".format(cat_name)] = df_se_train_4_tree[\"{0}_filled\".format(cat_name)].map(diff_dict)\n",
        "  df_se_test_4_tree[\"{0}_filled_diff_standar\".format(cat_name)] = df_se_test_4_tree[\"{0}_filled\".format(cat_name)].map(diff_dict)\n",
        "\n",
        "  return df_se_train_4_tree, df_se_test_4_tree"
      ],
      "execution_count": 27,
      "outputs": []
    },
    {
      "cell_type": "code",
      "metadata": {
        "colab": {
          "base_uri": "https://localhost:8080/"
        },
        "id": "u1pezAb0xd_U",
        "outputId": "628ba0fe-3c1c-4e8b-f0f8-e88236c6e2b4"
      },
      "source": [
        "for cat_col in cat_feat:\n",
        "  print(cat_col)\n",
        "  df_se_train_4_tree, df_se_test_4_tree = get_new_cat_features(cat_col, df_se_train_4_tree, df_se_test_4_tree)"
      ],
      "execution_count": 28,
      "outputs": [
        {
          "output_type": "stream",
          "text": [
            "sexo\n"
          ],
          "name": "stdout"
        },
        {
          "output_type": "stream",
          "text": [
            "/usr/local/lib/python3.6/dist-packages/category_encoders/utils.py:21: FutureWarning: is_categorical is deprecated and will be removed in a future version.  Use is_categorical_dtype instead\n",
            "  elif pd.api.types.is_categorical(cols):\n",
            "/usr/local/lib/python3.6/dist-packages/category_encoders/utils.py:21: FutureWarning: is_categorical is deprecated and will be removed in a future version.  Use is_categorical_dtype instead\n",
            "  elif pd.api.types.is_categorical(cols):\n",
            "/usr/local/lib/python3.6/dist-packages/category_encoders/utils.py:21: FutureWarning: is_categorical is deprecated and will be removed in a future version.  Use is_categorical_dtype instead\n",
            "  elif pd.api.types.is_categorical(cols):\n"
          ],
          "name": "stderr"
        },
        {
          "output_type": "stream",
          "text": [
            "est_cvl\n"
          ],
          "name": "stdout"
        },
        {
          "output_type": "stream",
          "text": [
            "/usr/local/lib/python3.6/dist-packages/category_encoders/utils.py:21: FutureWarning: is_categorical is deprecated and will be removed in a future version.  Use is_categorical_dtype instead\n",
            "  elif pd.api.types.is_categorical(cols):\n",
            "/usr/local/lib/python3.6/dist-packages/category_encoders/utils.py:21: FutureWarning: is_categorical is deprecated and will be removed in a future version.  Use is_categorical_dtype instead\n",
            "  elif pd.api.types.is_categorical(cols):\n",
            "/usr/local/lib/python3.6/dist-packages/category_encoders/utils.py:21: FutureWarning: is_categorical is deprecated and will be removed in a future version.  Use is_categorical_dtype instead\n",
            "  elif pd.api.types.is_categorical(cols):\n"
          ],
          "name": "stderr"
        },
        {
          "output_type": "stream",
          "text": [
            "sit_lab\n"
          ],
          "name": "stdout"
        },
        {
          "output_type": "stream",
          "text": [
            "/usr/local/lib/python3.6/dist-packages/category_encoders/utils.py:21: FutureWarning: is_categorical is deprecated and will be removed in a future version.  Use is_categorical_dtype instead\n",
            "  elif pd.api.types.is_categorical(cols):\n",
            "/usr/local/lib/python3.6/dist-packages/category_encoders/utils.py:21: FutureWarning: is_categorical is deprecated and will be removed in a future version.  Use is_categorical_dtype instead\n",
            "  elif pd.api.types.is_categorical(cols):\n",
            "/usr/local/lib/python3.6/dist-packages/category_encoders/utils.py:21: FutureWarning: is_categorical is deprecated and will be removed in a future version.  Use is_categorical_dtype instead\n",
            "  elif pd.api.types.is_categorical(cols):\n"
          ],
          "name": "stderr"
        },
        {
          "output_type": "stream",
          "text": [
            "cod_ocu\n"
          ],
          "name": "stdout"
        },
        {
          "output_type": "stream",
          "text": [
            "/usr/local/lib/python3.6/dist-packages/category_encoders/utils.py:21: FutureWarning: is_categorical is deprecated and will be removed in a future version.  Use is_categorical_dtype instead\n",
            "  elif pd.api.types.is_categorical(cols):\n",
            "/usr/local/lib/python3.6/dist-packages/category_encoders/utils.py:21: FutureWarning: is_categorical is deprecated and will be removed in a future version.  Use is_categorical_dtype instead\n",
            "  elif pd.api.types.is_categorical(cols):\n",
            "/usr/local/lib/python3.6/dist-packages/category_encoders/utils.py:21: FutureWarning: is_categorical is deprecated and will be removed in a future version.  Use is_categorical_dtype instead\n",
            "  elif pd.api.types.is_categorical(cols):\n"
          ],
          "name": "stderr"
        },
        {
          "output_type": "stream",
          "text": [
            "flg_sin_email\n"
          ],
          "name": "stdout"
        },
        {
          "output_type": "stream",
          "text": [
            "/usr/local/lib/python3.6/dist-packages/category_encoders/utils.py:21: FutureWarning: is_categorical is deprecated and will be removed in a future version.  Use is_categorical_dtype instead\n",
            "  elif pd.api.types.is_categorical(cols):\n",
            "/usr/local/lib/python3.6/dist-packages/category_encoders/utils.py:21: FutureWarning: is_categorical is deprecated and will be removed in a future version.  Use is_categorical_dtype instead\n",
            "  elif pd.api.types.is_categorical(cols):\n",
            "/usr/local/lib/python3.6/dist-packages/category_encoders/utils.py:21: FutureWarning: is_categorical is deprecated and will be removed in a future version.  Use is_categorical_dtype instead\n",
            "  elif pd.api.types.is_categorical(cols):\n"
          ],
          "name": "stderr"
        },
        {
          "output_type": "stream",
          "text": [
            "lgr_vot\n"
          ],
          "name": "stdout"
        },
        {
          "output_type": "stream",
          "text": [
            "/usr/local/lib/python3.6/dist-packages/category_encoders/utils.py:21: FutureWarning: is_categorical is deprecated and will be removed in a future version.  Use is_categorical_dtype instead\n",
            "  elif pd.api.types.is_categorical(cols):\n",
            "/usr/local/lib/python3.6/dist-packages/category_encoders/utils.py:21: FutureWarning: is_categorical is deprecated and will be removed in a future version.  Use is_categorical_dtype instead\n",
            "  elif pd.api.types.is_categorical(cols):\n",
            "/usr/local/lib/python3.6/dist-packages/category_encoders/utils.py:21: FutureWarning: is_categorical is deprecated and will be removed in a future version.  Use is_categorical_dtype instead\n",
            "  elif pd.api.types.is_categorical(cols):\n"
          ],
          "name": "stderr"
        },
        {
          "output_type": "stream",
          "text": [
            "prv\n"
          ],
          "name": "stdout"
        },
        {
          "output_type": "stream",
          "text": [
            "/usr/local/lib/python3.6/dist-packages/category_encoders/utils.py:21: FutureWarning: is_categorical is deprecated and will be removed in a future version.  Use is_categorical_dtype instead\n",
            "  elif pd.api.types.is_categorical(cols):\n",
            "/usr/local/lib/python3.6/dist-packages/category_encoders/utils.py:21: FutureWarning: is_categorical is deprecated and will be removed in a future version.  Use is_categorical_dtype instead\n",
            "  elif pd.api.types.is_categorical(cols):\n",
            "/usr/local/lib/python3.6/dist-packages/category_encoders/utils.py:21: FutureWarning: is_categorical is deprecated and will be removed in a future version.  Use is_categorical_dtype instead\n",
            "  elif pd.api.types.is_categorical(cols):\n"
          ],
          "name": "stderr"
        },
        {
          "output_type": "stream",
          "text": [
            "dto\n"
          ],
          "name": "stdout"
        },
        {
          "output_type": "stream",
          "text": [
            "/usr/local/lib/python3.6/dist-packages/category_encoders/utils.py:21: FutureWarning: is_categorical is deprecated and will be removed in a future version.  Use is_categorical_dtype instead\n",
            "  elif pd.api.types.is_categorical(cols):\n",
            "/usr/local/lib/python3.6/dist-packages/category_encoders/utils.py:21: FutureWarning: is_categorical is deprecated and will be removed in a future version.  Use is_categorical_dtype instead\n",
            "  elif pd.api.types.is_categorical(cols):\n",
            "/usr/local/lib/python3.6/dist-packages/category_encoders/utils.py:21: FutureWarning: is_categorical is deprecated and will be removed in a future version.  Use is_categorical_dtype instead\n",
            "  elif pd.api.types.is_categorical(cols):\n"
          ],
          "name": "stderr"
        },
        {
          "output_type": "stream",
          "text": [
            "rgn\n"
          ],
          "name": "stdout"
        },
        {
          "output_type": "stream",
          "text": [
            "/usr/local/lib/python3.6/dist-packages/category_encoders/utils.py:21: FutureWarning: is_categorical is deprecated and will be removed in a future version.  Use is_categorical_dtype instead\n",
            "  elif pd.api.types.is_categorical(cols):\n",
            "/usr/local/lib/python3.6/dist-packages/category_encoders/utils.py:21: FutureWarning: is_categorical is deprecated and will be removed in a future version.  Use is_categorical_dtype instead\n",
            "  elif pd.api.types.is_categorical(cols):\n",
            "/usr/local/lib/python3.6/dist-packages/category_encoders/utils.py:21: FutureWarning: is_categorical is deprecated and will be removed in a future version.  Use is_categorical_dtype instead\n",
            "  elif pd.api.types.is_categorical(cols):\n"
          ],
          "name": "stderr"
        },
        {
          "output_type": "stream",
          "text": [
            "tip_lvledu\n"
          ],
          "name": "stdout"
        },
        {
          "output_type": "stream",
          "text": [
            "/usr/local/lib/python3.6/dist-packages/category_encoders/utils.py:21: FutureWarning: is_categorical is deprecated and will be removed in a future version.  Use is_categorical_dtype instead\n",
            "  elif pd.api.types.is_categorical(cols):\n",
            "/usr/local/lib/python3.6/dist-packages/category_encoders/utils.py:21: FutureWarning: is_categorical is deprecated and will be removed in a future version.  Use is_categorical_dtype instead\n",
            "  elif pd.api.types.is_categorical(cols):\n",
            "/usr/local/lib/python3.6/dist-packages/category_encoders/utils.py:21: FutureWarning: is_categorical is deprecated and will be removed in a future version.  Use is_categorical_dtype instead\n",
            "  elif pd.api.types.is_categorical(cols):\n"
          ],
          "name": "stderr"
        },
        {
          "output_type": "stream",
          "text": [
            "ctd_veh\n"
          ],
          "name": "stdout"
        },
        {
          "output_type": "stream",
          "text": [
            "/usr/local/lib/python3.6/dist-packages/category_encoders/utils.py:21: FutureWarning: is_categorical is deprecated and will be removed in a future version.  Use is_categorical_dtype instead\n",
            "  elif pd.api.types.is_categorical(cols):\n",
            "/usr/local/lib/python3.6/dist-packages/category_encoders/utils.py:21: FutureWarning: is_categorical is deprecated and will be removed in a future version.  Use is_categorical_dtype instead\n",
            "  elif pd.api.types.is_categorical(cols):\n",
            "/usr/local/lib/python3.6/dist-packages/category_encoders/utils.py:21: FutureWarning: is_categorical is deprecated and will be removed in a future version.  Use is_categorical_dtype instead\n",
            "  elif pd.api.types.is_categorical(cols):\n"
          ],
          "name": "stderr"
        },
        {
          "output_type": "stream",
          "text": [
            "ctd_hijos\n"
          ],
          "name": "stdout"
        },
        {
          "output_type": "stream",
          "text": [
            "/usr/local/lib/python3.6/dist-packages/category_encoders/utils.py:21: FutureWarning: is_categorical is deprecated and will be removed in a future version.  Use is_categorical_dtype instead\n",
            "  elif pd.api.types.is_categorical(cols):\n",
            "/usr/local/lib/python3.6/dist-packages/category_encoders/utils.py:21: FutureWarning: is_categorical is deprecated and will be removed in a future version.  Use is_categorical_dtype instead\n",
            "  elif pd.api.types.is_categorical(cols):\n",
            "/usr/local/lib/python3.6/dist-packages/category_encoders/utils.py:21: FutureWarning: is_categorical is deprecated and will be removed in a future version.  Use is_categorical_dtype instead\n",
            "  elif pd.api.types.is_categorical(cols):\n"
          ],
          "name": "stderr"
        },
        {
          "output_type": "stream",
          "text": [
            "rango_edad\n"
          ],
          "name": "stdout"
        },
        {
          "output_type": "stream",
          "text": [
            "/usr/local/lib/python3.6/dist-packages/category_encoders/utils.py:21: FutureWarning: is_categorical is deprecated and will be removed in a future version.  Use is_categorical_dtype instead\n",
            "  elif pd.api.types.is_categorical(cols):\n",
            "/usr/local/lib/python3.6/dist-packages/category_encoders/utils.py:21: FutureWarning: is_categorical is deprecated and will be removed in a future version.  Use is_categorical_dtype instead\n",
            "  elif pd.api.types.is_categorical(cols):\n",
            "/usr/local/lib/python3.6/dist-packages/category_encoders/utils.py:21: FutureWarning: is_categorical is deprecated and will be removed in a future version.  Use is_categorical_dtype instead\n",
            "  elif pd.api.types.is_categorical(cols):\n"
          ],
          "name": "stderr"
        },
        {
          "output_type": "stream",
          "text": [
            "rango_cod_ubi\n"
          ],
          "name": "stdout"
        },
        {
          "output_type": "stream",
          "text": [
            "/usr/local/lib/python3.6/dist-packages/category_encoders/utils.py:21: FutureWarning: is_categorical is deprecated and will be removed in a future version.  Use is_categorical_dtype instead\n",
            "  elif pd.api.types.is_categorical(cols):\n",
            "/usr/local/lib/python3.6/dist-packages/category_encoders/utils.py:21: FutureWarning: is_categorical is deprecated and will be removed in a future version.  Use is_categorical_dtype instead\n",
            "  elif pd.api.types.is_categorical(cols):\n",
            "/usr/local/lib/python3.6/dist-packages/category_encoders/utils.py:21: FutureWarning: is_categorical is deprecated and will be removed in a future version.  Use is_categorical_dtype instead\n",
            "  elif pd.api.types.is_categorical(cols):\n"
          ],
          "name": "stderr"
        }
      ]
    },
    {
      "cell_type": "code",
      "metadata": {
        "id": "UagNO-KQRXkt"
      },
      "source": [
        "df_se_train_4_linear = df_se_train_4_tree[[c for c in df_se_train_4_tree.columns if (\"_woe\" in c) or (c in [\"key_value\", \"target\"])]]\n",
        "df_se_test_4_linear = df_se_test_4_tree[[c for c in df_se_train_4_tree.columns if (\"_woe\" in c) or (c in [\"key_value\", \"target\"])]]"
      ],
      "execution_count": 29,
      "outputs": []
    },
    {
      "cell_type": "code",
      "metadata": {
        "colab": {
          "base_uri": "https://localhost:8080/",
          "height": 395
        },
        "id": "_NVcZegyedeI",
        "outputId": "9990bf22-d296-4a31-d669-6e16961ef5ee"
      },
      "source": [
        "df_se_train_4_linear.corr().style.background_gradient(cmap='coolwarm')"
      ],
      "execution_count": 30,
      "outputs": [
        {
          "output_type": "execute_result",
          "data": {
            "text/html": [
              "<style  type=\"text/css\" >\n",
              "#T_02391b80_6289_11eb_acdf_0242ac1c0002row0_col0,#T_02391b80_6289_11eb_acdf_0242ac1c0002row1_col1,#T_02391b80_6289_11eb_acdf_0242ac1c0002row2_col2,#T_02391b80_6289_11eb_acdf_0242ac1c0002row3_col3,#T_02391b80_6289_11eb_acdf_0242ac1c0002row4_col4,#T_02391b80_6289_11eb_acdf_0242ac1c0002row5_col5,#T_02391b80_6289_11eb_acdf_0242ac1c0002row6_col6,#T_02391b80_6289_11eb_acdf_0242ac1c0002row7_col7,#T_02391b80_6289_11eb_acdf_0242ac1c0002row8_col8,#T_02391b80_6289_11eb_acdf_0242ac1c0002row9_col9,#T_02391b80_6289_11eb_acdf_0242ac1c0002row10_col10,#T_02391b80_6289_11eb_acdf_0242ac1c0002row11_col11,#T_02391b80_6289_11eb_acdf_0242ac1c0002row12_col12,#T_02391b80_6289_11eb_acdf_0242ac1c0002row13_col13,#T_02391b80_6289_11eb_acdf_0242ac1c0002row14_col14,#T_02391b80_6289_11eb_acdf_0242ac1c0002row15_col15{\n",
              "            background-color:  #b40426;\n",
              "            color:  #f1f1f1;\n",
              "        }#T_02391b80_6289_11eb_acdf_0242ac1c0002row0_col1,#T_02391b80_6289_11eb_acdf_0242ac1c0002row0_col9,#T_02391b80_6289_11eb_acdf_0242ac1c0002row0_col10,#T_02391b80_6289_11eb_acdf_0242ac1c0002row0_col15,#T_02391b80_6289_11eb_acdf_0242ac1c0002row2_col3,#T_02391b80_6289_11eb_acdf_0242ac1c0002row2_col13,#T_02391b80_6289_11eb_acdf_0242ac1c0002row6_col7,#T_02391b80_6289_11eb_acdf_0242ac1c0002row6_col8,#T_02391b80_6289_11eb_acdf_0242ac1c0002row7_col0,#T_02391b80_6289_11eb_acdf_0242ac1c0002row7_col3,#T_02391b80_6289_11eb_acdf_0242ac1c0002row7_col4,#T_02391b80_6289_11eb_acdf_0242ac1c0002row7_col11,#T_02391b80_6289_11eb_acdf_0242ac1c0002row7_col12,#T_02391b80_6289_11eb_acdf_0242ac1c0002row7_col14,#T_02391b80_6289_11eb_acdf_0242ac1c0002row8_col0,#T_02391b80_6289_11eb_acdf_0242ac1c0002row8_col5,#T_02391b80_6289_11eb_acdf_0242ac1c0002row8_col6,#T_02391b80_6289_11eb_acdf_0242ac1c0002row8_col11,#T_02391b80_6289_11eb_acdf_0242ac1c0002row13_col2,#T_02391b80_6289_11eb_acdf_0242ac1c0002row13_col9,#T_02391b80_6289_11eb_acdf_0242ac1c0002row13_col15,#T_02391b80_6289_11eb_acdf_0242ac1c0002row14_col15{\n",
              "            background-color:  #3b4cc0;\n",
              "            color:  #f1f1f1;\n",
              "        }#T_02391b80_6289_11eb_acdf_0242ac1c0002row0_col2,#T_02391b80_6289_11eb_acdf_0242ac1c0002row0_col7,#T_02391b80_6289_11eb_acdf_0242ac1c0002row2_col1,#T_02391b80_6289_11eb_acdf_0242ac1c0002row6_col14,#T_02391b80_6289_11eb_acdf_0242ac1c0002row8_col14,#T_02391b80_6289_11eb_acdf_0242ac1c0002row15_col3{\n",
              "            background-color:  #455cce;\n",
              "            color:  #f1f1f1;\n",
              "        }#T_02391b80_6289_11eb_acdf_0242ac1c0002row0_col3,#T_02391b80_6289_11eb_acdf_0242ac1c0002row13_col8,#T_02391b80_6289_11eb_acdf_0242ac1c0002row14_col9{\n",
              "            background-color:  #465ecf;\n",
              "            color:  #f1f1f1;\n",
              "        }#T_02391b80_6289_11eb_acdf_0242ac1c0002row0_col4,#T_02391b80_6289_11eb_acdf_0242ac1c0002row3_col15,#T_02391b80_6289_11eb_acdf_0242ac1c0002row5_col7,#T_02391b80_6289_11eb_acdf_0242ac1c0002row10_col12,#T_02391b80_6289_11eb_acdf_0242ac1c0002row13_col0,#T_02391b80_6289_11eb_acdf_0242ac1c0002row13_col1{\n",
              "            background-color:  #4257c9;\n",
              "            color:  #f1f1f1;\n",
              "        }#T_02391b80_6289_11eb_acdf_0242ac1c0002row0_col5,#T_02391b80_6289_11eb_acdf_0242ac1c0002row0_col8,#T_02391b80_6289_11eb_acdf_0242ac1c0002row1_col13,#T_02391b80_6289_11eb_acdf_0242ac1c0002row11_col0,#T_02391b80_6289_11eb_acdf_0242ac1c0002row12_col8{\n",
              "            background-color:  #4b64d5;\n",
              "            color:  #f1f1f1;\n",
              "        }#T_02391b80_6289_11eb_acdf_0242ac1c0002row0_col6,#T_02391b80_6289_11eb_acdf_0242ac1c0002row4_col9{\n",
              "            background-color:  #5875e1;\n",
              "            color:  #000000;\n",
              "        }#T_02391b80_6289_11eb_acdf_0242ac1c0002row0_col11,#T_02391b80_6289_11eb_acdf_0242ac1c0002row1_col5,#T_02391b80_6289_11eb_acdf_0242ac1c0002row1_col12,#T_02391b80_6289_11eb_acdf_0242ac1c0002row2_col10,#T_02391b80_6289_11eb_acdf_0242ac1c0002row4_col7,#T_02391b80_6289_11eb_acdf_0242ac1c0002row10_col6,#T_02391b80_6289_11eb_acdf_0242ac1c0002row14_col1{\n",
              "            background-color:  #536edd;\n",
              "            color:  #000000;\n",
              "        }#T_02391b80_6289_11eb_acdf_0242ac1c0002row0_col12,#T_02391b80_6289_11eb_acdf_0242ac1c0002row3_col0,#T_02391b80_6289_11eb_acdf_0242ac1c0002row3_col7,#T_02391b80_6289_11eb_acdf_0242ac1c0002row5_col0,#T_02391b80_6289_11eb_acdf_0242ac1c0002row9_col13,#T_02391b80_6289_11eb_acdf_0242ac1c0002row11_col8,#T_02391b80_6289_11eb_acdf_0242ac1c0002row12_col7,#T_02391b80_6289_11eb_acdf_0242ac1c0002row15_col13{\n",
              "            background-color:  #445acc;\n",
              "            color:  #f1f1f1;\n",
              "        }#T_02391b80_6289_11eb_acdf_0242ac1c0002row0_col13{\n",
              "            background-color:  #4961d2;\n",
              "            color:  #f1f1f1;\n",
              "        }#T_02391b80_6289_11eb_acdf_0242ac1c0002row0_col14,#T_02391b80_6289_11eb_acdf_0242ac1c0002row3_col1,#T_02391b80_6289_11eb_acdf_0242ac1c0002row3_col9,#T_02391b80_6289_11eb_acdf_0242ac1c0002row4_col15,#T_02391b80_6289_11eb_acdf_0242ac1c0002row5_col1,#T_02391b80_6289_11eb_acdf_0242ac1c0002row8_col4,#T_02391b80_6289_11eb_acdf_0242ac1c0002row10_col5,#T_02391b80_6289_11eb_acdf_0242ac1c0002row10_col13,#T_02391b80_6289_11eb_acdf_0242ac1c0002row14_col10,#T_02391b80_6289_11eb_acdf_0242ac1c0002row15_col11{\n",
              "            background-color:  #4a63d3;\n",
              "            color:  #f1f1f1;\n",
              "        }#T_02391b80_6289_11eb_acdf_0242ac1c0002row1_col0,#T_02391b80_6289_11eb_acdf_0242ac1c0002row8_col12,#T_02391b80_6289_11eb_acdf_0242ac1c0002row9_col0,#T_02391b80_6289_11eb_acdf_0242ac1c0002row15_col0{\n",
              "            background-color:  #3c4ec2;\n",
              "            color:  #f1f1f1;\n",
              "        }#T_02391b80_6289_11eb_acdf_0242ac1c0002row1_col2,#T_02391b80_6289_11eb_acdf_0242ac1c0002row1_col15,#T_02391b80_6289_11eb_acdf_0242ac1c0002row2_col14,#T_02391b80_6289_11eb_acdf_0242ac1c0002row9_col14,#T_02391b80_6289_11eb_acdf_0242ac1c0002row10_col1,#T_02391b80_6289_11eb_acdf_0242ac1c0002row12_col1,#T_02391b80_6289_11eb_acdf_0242ac1c0002row14_col2,#T_02391b80_6289_11eb_acdf_0242ac1c0002row15_col1,#T_02391b80_6289_11eb_acdf_0242ac1c0002row15_col6{\n",
              "            background-color:  #4f69d9;\n",
              "            color:  #000000;\n",
              "        }#T_02391b80_6289_11eb_acdf_0242ac1c0002row1_col3,#T_02391b80_6289_11eb_acdf_0242ac1c0002row1_col10,#T_02391b80_6289_11eb_acdf_0242ac1c0002row2_col5,#T_02391b80_6289_11eb_acdf_0242ac1c0002row3_col8,#T_02391b80_6289_11eb_acdf_0242ac1c0002row4_col0,#T_02391b80_6289_11eb_acdf_0242ac1c0002row5_col2,#T_02391b80_6289_11eb_acdf_0242ac1c0002row6_col1,#T_02391b80_6289_11eb_acdf_0242ac1c0002row9_col3,#T_02391b80_6289_11eb_acdf_0242ac1c0002row9_col4,#T_02391b80_6289_11eb_acdf_0242ac1c0002row12_col9{\n",
              "            background-color:  #4e68d8;\n",
              "            color:  #000000;\n",
              "        }#T_02391b80_6289_11eb_acdf_0242ac1c0002row1_col4{\n",
              "            background-color:  #6282ea;\n",
              "            color:  #000000;\n",
              "        }#T_02391b80_6289_11eb_acdf_0242ac1c0002row1_col6{\n",
              "            background-color:  #6180e9;\n",
              "            color:  #000000;\n",
              "        }#T_02391b80_6289_11eb_acdf_0242ac1c0002row1_col7,#T_02391b80_6289_11eb_acdf_0242ac1c0002row1_col9,#T_02391b80_6289_11eb_acdf_0242ac1c0002row2_col12,#T_02391b80_6289_11eb_acdf_0242ac1c0002row9_col1,#T_02391b80_6289_11eb_acdf_0242ac1c0002row9_col2{\n",
              "            background-color:  #6384eb;\n",
              "            color:  #000000;\n",
              "        }#T_02391b80_6289_11eb_acdf_0242ac1c0002row1_col8{\n",
              "            background-color:  #6e90f2;\n",
              "            color:  #000000;\n",
              "        }#T_02391b80_6289_11eb_acdf_0242ac1c0002row1_col11,#T_02391b80_6289_11eb_acdf_0242ac1c0002row10_col2,#T_02391b80_6289_11eb_acdf_0242ac1c0002row15_col2{\n",
              "            background-color:  #5e7de7;\n",
              "            color:  #000000;\n",
              "        }#T_02391b80_6289_11eb_acdf_0242ac1c0002row1_col14,#T_02391b80_6289_11eb_acdf_0242ac1c0002row10_col11{\n",
              "            background-color:  #5b7ae5;\n",
              "            color:  #000000;\n",
              "        }#T_02391b80_6289_11eb_acdf_0242ac1c0002row2_col0,#T_02391b80_6289_11eb_acdf_0242ac1c0002row5_col15,#T_02391b80_6289_11eb_acdf_0242ac1c0002row6_col9,#T_02391b80_6289_11eb_acdf_0242ac1c0002row7_col13,#T_02391b80_6289_11eb_acdf_0242ac1c0002row8_col3,#T_02391b80_6289_11eb_acdf_0242ac1c0002row11_col7,#T_02391b80_6289_11eb_acdf_0242ac1c0002row15_col4{\n",
              "            background-color:  #3e51c5;\n",
              "            color:  #f1f1f1;\n",
              "        }#T_02391b80_6289_11eb_acdf_0242ac1c0002row2_col4,#T_02391b80_6289_11eb_acdf_0242ac1c0002row2_col15,#T_02391b80_6289_11eb_acdf_0242ac1c0002row7_col1,#T_02391b80_6289_11eb_acdf_0242ac1c0002row10_col3{\n",
              "            background-color:  #5572df;\n",
              "            color:  #000000;\n",
              "        }#T_02391b80_6289_11eb_acdf_0242ac1c0002row2_col6,#T_02391b80_6289_11eb_acdf_0242ac1c0002row12_col13{\n",
              "            background-color:  #5d7ce6;\n",
              "            color:  #000000;\n",
              "        }#T_02391b80_6289_11eb_acdf_0242ac1c0002row2_col7,#T_02391b80_6289_11eb_acdf_0242ac1c0002row4_col1{\n",
              "            background-color:  #6c8ff1;\n",
              "            color:  #000000;\n",
              "        }#T_02391b80_6289_11eb_acdf_0242ac1c0002row2_col8,#T_02391b80_6289_11eb_acdf_0242ac1c0002row12_col5{\n",
              "            background-color:  #7597f6;\n",
              "            color:  #000000;\n",
              "        }#T_02391b80_6289_11eb_acdf_0242ac1c0002row2_col9,#T_02391b80_6289_11eb_acdf_0242ac1c0002row12_col4{\n",
              "            background-color:  #5977e3;\n",
              "            color:  #000000;\n",
              "        }#T_02391b80_6289_11eb_acdf_0242ac1c0002row2_col11,#T_02391b80_6289_11eb_acdf_0242ac1c0002row11_col2,#T_02391b80_6289_11eb_acdf_0242ac1c0002row13_col4,#T_02391b80_6289_11eb_acdf_0242ac1c0002row13_col12{\n",
              "            background-color:  #5673e0;\n",
              "            color:  #000000;\n",
              "        }#T_02391b80_6289_11eb_acdf_0242ac1c0002row3_col2,#T_02391b80_6289_11eb_acdf_0242ac1c0002row5_col10,#T_02391b80_6289_11eb_acdf_0242ac1c0002row11_col15{\n",
              "            background-color:  #4055c8;\n",
              "            color:  #f1f1f1;\n",
              "        }#T_02391b80_6289_11eb_acdf_0242ac1c0002row3_col4,#T_02391b80_6289_11eb_acdf_0242ac1c0002row5_col13,#T_02391b80_6289_11eb_acdf_0242ac1c0002row13_col5{\n",
              "            background-color:  #6687ed;\n",
              "            color:  #000000;\n",
              "        }#T_02391b80_6289_11eb_acdf_0242ac1c0002row3_col5,#T_02391b80_6289_11eb_acdf_0242ac1c0002row14_col13{\n",
              "            background-color:  #7295f4;\n",
              "            color:  #000000;\n",
              "        }#T_02391b80_6289_11eb_acdf_0242ac1c0002row3_col6,#T_02391b80_6289_11eb_acdf_0242ac1c0002row4_col5,#T_02391b80_6289_11eb_acdf_0242ac1c0002row13_col6{\n",
              "            background-color:  #799cf8;\n",
              "            color:  #000000;\n",
              "        }#T_02391b80_6289_11eb_acdf_0242ac1c0002row3_col10,#T_02391b80_6289_11eb_acdf_0242ac1c0002row9_col12,#T_02391b80_6289_11eb_acdf_0242ac1c0002row14_col6,#T_02391b80_6289_11eb_acdf_0242ac1c0002row14_col8{\n",
              "            background-color:  #506bda;\n",
              "            color:  #000000;\n",
              "        }#T_02391b80_6289_11eb_acdf_0242ac1c0002row3_col11{\n",
              "            background-color:  #8caffe;\n",
              "            color:  #000000;\n",
              "        }#T_02391b80_6289_11eb_acdf_0242ac1c0002row3_col12,#T_02391b80_6289_11eb_acdf_0242ac1c0002row12_col3,#T_02391b80_6289_11eb_acdf_0242ac1c0002row13_col3,#T_02391b80_6289_11eb_acdf_0242ac1c0002row14_col11{\n",
              "            background-color:  #88abfd;\n",
              "            color:  #000000;\n",
              "        }#T_02391b80_6289_11eb_acdf_0242ac1c0002row3_col13{\n",
              "            background-color:  #8db0fe;\n",
              "            color:  #000000;\n",
              "        }#T_02391b80_6289_11eb_acdf_0242ac1c0002row3_col14{\n",
              "            background-color:  #c7d7f0;\n",
              "            color:  #000000;\n",
              "        }#T_02391b80_6289_11eb_acdf_0242ac1c0002row4_col2,#T_02391b80_6289_11eb_acdf_0242ac1c0002row5_col14,#T_02391b80_6289_11eb_acdf_0242ac1c0002row7_col2,#T_02391b80_6289_11eb_acdf_0242ac1c0002row12_col2,#T_02391b80_6289_11eb_acdf_0242ac1c0002row14_col5{\n",
              "            background-color:  #688aef;\n",
              "            color:  #000000;\n",
              "        }#T_02391b80_6289_11eb_acdf_0242ac1c0002row4_col3{\n",
              "            background-color:  #7396f5;\n",
              "            color:  #000000;\n",
              "        }#T_02391b80_6289_11eb_acdf_0242ac1c0002row4_col6{\n",
              "            background-color:  #aac7fd;\n",
              "            color:  #000000;\n",
              "        }#T_02391b80_6289_11eb_acdf_0242ac1c0002row4_col8,#T_02391b80_6289_11eb_acdf_0242ac1c0002row4_col12,#T_02391b80_6289_11eb_acdf_0242ac1c0002row10_col4{\n",
              "            background-color:  #6788ee;\n",
              "            color:  #000000;\n",
              "        }#T_02391b80_6289_11eb_acdf_0242ac1c0002row4_col10,#T_02391b80_6289_11eb_acdf_0242ac1c0002row13_col14,#T_02391b80_6289_11eb_acdf_0242ac1c0002row14_col12{\n",
              "            background-color:  #7093f3;\n",
              "            color:  #000000;\n",
              "        }#T_02391b80_6289_11eb_acdf_0242ac1c0002row4_col11{\n",
              "            background-color:  #c1d4f4;\n",
              "            color:  #000000;\n",
              "        }#T_02391b80_6289_11eb_acdf_0242ac1c0002row4_col13{\n",
              "            background-color:  #6a8bef;\n",
              "            color:  #000000;\n",
              "        }#T_02391b80_6289_11eb_acdf_0242ac1c0002row4_col14{\n",
              "            background-color:  #7ea1fa;\n",
              "            color:  #000000;\n",
              "        }#T_02391b80_6289_11eb_acdf_0242ac1c0002row5_col3,#T_02391b80_6289_11eb_acdf_0242ac1c0002row6_col3,#T_02391b80_6289_11eb_acdf_0242ac1c0002row8_col2,#T_02391b80_6289_11eb_acdf_0242ac1c0002row14_col4{\n",
              "            background-color:  #6b8df0;\n",
              "            color:  #000000;\n",
              "        }#T_02391b80_6289_11eb_acdf_0242ac1c0002row5_col4{\n",
              "            background-color:  #6485ec;\n",
              "            color:  #000000;\n",
              "        }#T_02391b80_6289_11eb_acdf_0242ac1c0002row5_col6{\n",
              "            background-color:  #b2ccfb;\n",
              "            color:  #000000;\n",
              "        }#T_02391b80_6289_11eb_acdf_0242ac1c0002row5_col8,#T_02391b80_6289_11eb_acdf_0242ac1c0002row5_col9,#T_02391b80_6289_11eb_acdf_0242ac1c0002row12_col0,#T_02391b80_6289_11eb_acdf_0242ac1c0002row13_col7,#T_02391b80_6289_11eb_acdf_0242ac1c0002row14_col0,#T_02391b80_6289_11eb_acdf_0242ac1c0002row15_col12,#T_02391b80_6289_11eb_acdf_0242ac1c0002row15_col14{\n",
              "            background-color:  #4358cb;\n",
              "            color:  #f1f1f1;\n",
              "        }#T_02391b80_6289_11eb_acdf_0242ac1c0002row5_col11{\n",
              "            background-color:  #cfdaea;\n",
              "            color:  #000000;\n",
              "        }#T_02391b80_6289_11eb_acdf_0242ac1c0002row5_col12,#T_02391b80_6289_11eb_acdf_0242ac1c0002row6_col13{\n",
              "            background-color:  #6f92f3;\n",
              "            color:  #000000;\n",
              "        }#T_02391b80_6289_11eb_acdf_0242ac1c0002row6_col0,#T_02391b80_6289_11eb_acdf_0242ac1c0002row11_col9,#T_02391b80_6289_11eb_acdf_0242ac1c0002row15_col5{\n",
              "            background-color:  #485fd1;\n",
              "            color:  #f1f1f1;\n",
              "        }#T_02391b80_6289_11eb_acdf_0242ac1c0002row6_col2,#T_02391b80_6289_11eb_acdf_0242ac1c0002row10_col14,#T_02391b80_6289_11eb_acdf_0242ac1c0002row11_col1{\n",
              "            background-color:  #5470de;\n",
              "            color:  #000000;\n",
              "        }#T_02391b80_6289_11eb_acdf_0242ac1c0002row6_col4{\n",
              "            background-color:  #93b5fe;\n",
              "            color:  #000000;\n",
              "        }#T_02391b80_6289_11eb_acdf_0242ac1c0002row6_col5{\n",
              "            background-color:  #abc8fd;\n",
              "            color:  #000000;\n",
              "        }#T_02391b80_6289_11eb_acdf_0242ac1c0002row6_col10,#T_02391b80_6289_11eb_acdf_0242ac1c0002row7_col6,#T_02391b80_6289_11eb_acdf_0242ac1c0002row12_col15,#T_02391b80_6289_11eb_acdf_0242ac1c0002row13_col10,#T_02391b80_6289_11eb_acdf_0242ac1c0002row14_col7{\n",
              "            background-color:  #3f53c6;\n",
              "            color:  #f1f1f1;\n",
              "        }#T_02391b80_6289_11eb_acdf_0242ac1c0002row6_col11{\n",
              "            background-color:  #ebd3c6;\n",
              "            color:  #000000;\n",
              "        }#T_02391b80_6289_11eb_acdf_0242ac1c0002row6_col12,#T_02391b80_6289_11eb_acdf_0242ac1c0002row11_col13,#T_02391b80_6289_11eb_acdf_0242ac1c0002row13_col11{\n",
              "            background-color:  #779af7;\n",
              "            color:  #000000;\n",
              "        }#T_02391b80_6289_11eb_acdf_0242ac1c0002row6_col15,#T_02391b80_6289_11eb_acdf_0242ac1c0002row7_col5,#T_02391b80_6289_11eb_acdf_0242ac1c0002row8_col13,#T_02391b80_6289_11eb_acdf_0242ac1c0002row10_col0,#T_02391b80_6289_11eb_acdf_0242ac1c0002row12_col10{\n",
              "            background-color:  #3d50c3;\n",
              "            color:  #f1f1f1;\n",
              "        }#T_02391b80_6289_11eb_acdf_0242ac1c0002row7_col8{\n",
              "            background-color:  #f39475;\n",
              "            color:  #000000;\n",
              "        }#T_02391b80_6289_11eb_acdf_0242ac1c0002row7_col9{\n",
              "            background-color:  #e9d5cb;\n",
              "            color:  #000000;\n",
              "        }#T_02391b80_6289_11eb_acdf_0242ac1c0002row7_col10{\n",
              "            background-color:  #f1cdba;\n",
              "            color:  #000000;\n",
              "        }#T_02391b80_6289_11eb_acdf_0242ac1c0002row7_col15{\n",
              "            background-color:  #f7b599;\n",
              "            color:  #000000;\n",
              "        }#T_02391b80_6289_11eb_acdf_0242ac1c0002row8_col1{\n",
              "            background-color:  #5a78e4;\n",
              "            color:  #000000;\n",
              "        }#T_02391b80_6289_11eb_acdf_0242ac1c0002row8_col7{\n",
              "            background-color:  #f39577;\n",
              "            color:  #000000;\n",
              "        }#T_02391b80_6289_11eb_acdf_0242ac1c0002row8_col9{\n",
              "            background-color:  #f6a385;\n",
              "            color:  #000000;\n",
              "        }#T_02391b80_6289_11eb_acdf_0242ac1c0002row8_col10{\n",
              "            background-color:  #efcebd;\n",
              "            color:  #000000;\n",
              "        }#T_02391b80_6289_11eb_acdf_0242ac1c0002row8_col15{\n",
              "            background-color:  #dedcdb;\n",
              "            color:  #000000;\n",
              "        }#T_02391b80_6289_11eb_acdf_0242ac1c0002row9_col5{\n",
              "            background-color:  #4c66d6;\n",
              "            color:  #000000;\n",
              "        }#T_02391b80_6289_11eb_acdf_0242ac1c0002row9_col6,#T_02391b80_6289_11eb_acdf_0242ac1c0002row9_col11,#T_02391b80_6289_11eb_acdf_0242ac1c0002row11_col10{\n",
              "            background-color:  #516ddb;\n",
              "            color:  #000000;\n",
              "        }#T_02391b80_6289_11eb_acdf_0242ac1c0002row9_col7{\n",
              "            background-color:  #edd2c3;\n",
              "            color:  #000000;\n",
              "        }#T_02391b80_6289_11eb_acdf_0242ac1c0002row9_col8{\n",
              "            background-color:  #f59d7e;\n",
              "            color:  #000000;\n",
              "        }#T_02391b80_6289_11eb_acdf_0242ac1c0002row9_col10,#T_02391b80_6289_11eb_acdf_0242ac1c0002row10_col9{\n",
              "            background-color:  #d2dbe8;\n",
              "            color:  #000000;\n",
              "        }#T_02391b80_6289_11eb_acdf_0242ac1c0002row9_col15,#T_02391b80_6289_11eb_acdf_0242ac1c0002row15_col9{\n",
              "            background-color:  #c0d4f5;\n",
              "            color:  #000000;\n",
              "        }#T_02391b80_6289_11eb_acdf_0242ac1c0002row10_col7,#T_02391b80_6289_11eb_acdf_0242ac1c0002row10_col8{\n",
              "            background-color:  #f3c8b2;\n",
              "            color:  #000000;\n",
              "        }#T_02391b80_6289_11eb_acdf_0242ac1c0002row10_col15{\n",
              "            background-color:  #b1cbfc;\n",
              "            color:  #000000;\n",
              "        }#T_02391b80_6289_11eb_acdf_0242ac1c0002row11_col3,#T_02391b80_6289_11eb_acdf_0242ac1c0002row11_col14,#T_02391b80_6289_11eb_acdf_0242ac1c0002row12_col6{\n",
              "            background-color:  #86a9fc;\n",
              "            color:  #000000;\n",
              "        }#T_02391b80_6289_11eb_acdf_0242ac1c0002row11_col4{\n",
              "            background-color:  #b5cdfa;\n",
              "            color:  #000000;\n",
              "        }#T_02391b80_6289_11eb_acdf_0242ac1c0002row11_col5{\n",
              "            background-color:  #cedaeb;\n",
              "            color:  #000000;\n",
              "        }#T_02391b80_6289_11eb_acdf_0242ac1c0002row11_col6{\n",
              "            background-color:  #eed0c0;\n",
              "            color:  #000000;\n",
              "        }#T_02391b80_6289_11eb_acdf_0242ac1c0002row11_col12{\n",
              "            background-color:  #85a8fc;\n",
              "            color:  #000000;\n",
              "        }#T_02391b80_6289_11eb_acdf_0242ac1c0002row12_col11{\n",
              "            background-color:  #8badfd;\n",
              "            color:  #000000;\n",
              "        }#T_02391b80_6289_11eb_acdf_0242ac1c0002row12_col14{\n",
              "            background-color:  #7699f6;\n",
              "            color:  #000000;\n",
              "        }#T_02391b80_6289_11eb_acdf_0242ac1c0002row14_col3{\n",
              "            background-color:  #c4d5f3;\n",
              "            color:  #000000;\n",
              "        }#T_02391b80_6289_11eb_acdf_0242ac1c0002row15_col7{\n",
              "            background-color:  #f7b194;\n",
              "            color:  #000000;\n",
              "        }#T_02391b80_6289_11eb_acdf_0242ac1c0002row15_col8{\n",
              "            background-color:  #e6d7cf;\n",
              "            color:  #000000;\n",
              "        }#T_02391b80_6289_11eb_acdf_0242ac1c0002row15_col10{\n",
              "            background-color:  #afcafc;\n",
              "            color:  #000000;\n",
              "        }</style><table id=\"T_02391b80_6289_11eb_acdf_0242ac1c0002\" ><thead>    <tr>        <th class=\"blank level0\" ></th>        <th class=\"col_heading level0 col0\" >key_value</th>        <th class=\"col_heading level0 col1\" >target</th>        <th class=\"col_heading level0 col2\" >sexo_filled_woe</th>        <th class=\"col_heading level0 col3\" >est_cvl_filled_woe</th>        <th class=\"col_heading level0 col4\" >sit_lab_filled_woe</th>        <th class=\"col_heading level0 col5\" >cod_ocu_filled_woe</th>        <th class=\"col_heading level0 col6\" >flg_sin_email_filled_woe</th>        <th class=\"col_heading level0 col7\" >lgr_vot_filled_woe</th>        <th class=\"col_heading level0 col8\" >prv_filled_woe</th>        <th class=\"col_heading level0 col9\" >dto_filled_woe</th>        <th class=\"col_heading level0 col10\" >rgn_filled_woe</th>        <th class=\"col_heading level0 col11\" >tip_lvledu_filled_woe</th>        <th class=\"col_heading level0 col12\" >ctd_veh_filled_woe</th>        <th class=\"col_heading level0 col13\" >ctd_hijos_filled_woe</th>        <th class=\"col_heading level0 col14\" >rango_edad_filled_woe</th>        <th class=\"col_heading level0 col15\" >rango_cod_ubi_filled_woe</th>    </tr></thead><tbody>\n",
              "                <tr>\n",
              "                        <th id=\"T_02391b80_6289_11eb_acdf_0242ac1c0002level0_row0\" class=\"row_heading level0 row0\" >key_value</th>\n",
              "                        <td id=\"T_02391b80_6289_11eb_acdf_0242ac1c0002row0_col0\" class=\"data row0 col0\" >1.000000</td>\n",
              "                        <td id=\"T_02391b80_6289_11eb_acdf_0242ac1c0002row0_col1\" class=\"data row0 col1\" >-0.005087</td>\n",
              "                        <td id=\"T_02391b80_6289_11eb_acdf_0242ac1c0002row0_col2\" class=\"data row0 col2\" >0.000027</td>\n",
              "                        <td id=\"T_02391b80_6289_11eb_acdf_0242ac1c0002row0_col3\" class=\"data row0 col3\" >0.022841</td>\n",
              "                        <td id=\"T_02391b80_6289_11eb_acdf_0242ac1c0002row0_col4\" class=\"data row0 col4\" >0.053456</td>\n",
              "                        <td id=\"T_02391b80_6289_11eb_acdf_0242ac1c0002row0_col5\" class=\"data row0 col5\" >0.022979</td>\n",
              "                        <td id=\"T_02391b80_6289_11eb_acdf_0242ac1c0002row0_col6\" class=\"data row0 col6\" >0.033248</td>\n",
              "                        <td id=\"T_02391b80_6289_11eb_acdf_0242ac1c0002row0_col7\" class=\"data row0 col7\" >-0.012618</td>\n",
              "                        <td id=\"T_02391b80_6289_11eb_acdf_0242ac1c0002row0_col8\" class=\"data row0 col8\" >-0.011905</td>\n",
              "                        <td id=\"T_02391b80_6289_11eb_acdf_0242ac1c0002row0_col9\" class=\"data row0 col9\" >-0.005129</td>\n",
              "                        <td id=\"T_02391b80_6289_11eb_acdf_0242ac1c0002row0_col10\" class=\"data row0 col10\" >-0.002319</td>\n",
              "                        <td id=\"T_02391b80_6289_11eb_acdf_0242ac1c0002row0_col11\" class=\"data row0 col11\" >0.044591</td>\n",
              "                        <td id=\"T_02391b80_6289_11eb_acdf_0242ac1c0002row0_col12\" class=\"data row0 col12\" >0.016776</td>\n",
              "                        <td id=\"T_02391b80_6289_11eb_acdf_0242ac1c0002row0_col13\" class=\"data row0 col13\" >0.012705</td>\n",
              "                        <td id=\"T_02391b80_6289_11eb_acdf_0242ac1c0002row0_col14\" class=\"data row0 col14\" >0.017869</td>\n",
              "                        <td id=\"T_02391b80_6289_11eb_acdf_0242ac1c0002row0_col15\" class=\"data row0 col15\" >-0.004752</td>\n",
              "            </tr>\n",
              "            <tr>\n",
              "                        <th id=\"T_02391b80_6289_11eb_acdf_0242ac1c0002level0_row1\" class=\"row_heading level0 row1\" >target</th>\n",
              "                        <td id=\"T_02391b80_6289_11eb_acdf_0242ac1c0002row1_col0\" class=\"data row1 col0\" >-0.005087</td>\n",
              "                        <td id=\"T_02391b80_6289_11eb_acdf_0242ac1c0002row1_col1\" class=\"data row1 col1\" >1.000000</td>\n",
              "                        <td id=\"T_02391b80_6289_11eb_acdf_0242ac1c0002row1_col2\" class=\"data row1 col2\" >0.033134</td>\n",
              "                        <td id=\"T_02391b80_6289_11eb_acdf_0242ac1c0002row1_col3\" class=\"data row1 col3\" >0.046108</td>\n",
              "                        <td id=\"T_02391b80_6289_11eb_acdf_0242ac1c0002row1_col4\" class=\"data row1 col4\" >0.154406</td>\n",
              "                        <td id=\"T_02391b80_6289_11eb_acdf_0242ac1c0002row1_col5\" class=\"data row1 col5\" >0.046381</td>\n",
              "                        <td id=\"T_02391b80_6289_11eb_acdf_0242ac1c0002row1_col6\" class=\"data row1 col6\" >0.060621</td>\n",
              "                        <td id=\"T_02391b80_6289_11eb_acdf_0242ac1c0002row1_col7\" class=\"data row1 col7\" >0.084987</td>\n",
              "                        <td id=\"T_02391b80_6289_11eb_acdf_0242ac1c0002row1_col8\" class=\"data row1 col8\" >0.100905</td>\n",
              "                        <td id=\"T_02391b80_6289_11eb_acdf_0242ac1c0002row1_col9\" class=\"data row1 col9\" >0.126142</td>\n",
              "                        <td id=\"T_02391b80_6289_11eb_acdf_0242ac1c0002row1_col10\" class=\"data row1 col10\" >0.063178</td>\n",
              "                        <td id=\"T_02391b80_6289_11eb_acdf_0242ac1c0002row1_col11\" class=\"data row1 col11\" >0.078569</td>\n",
              "                        <td id=\"T_02391b80_6289_11eb_acdf_0242ac1c0002row1_col12\" class=\"data row1 col12\" >0.062121</td>\n",
              "                        <td id=\"T_02391b80_6289_11eb_acdf_0242ac1c0002row1_col13\" class=\"data row1 col13\" >0.019815</td>\n",
              "                        <td id=\"T_02391b80_6289_11eb_acdf_0242ac1c0002row1_col14\" class=\"data row1 col14\" >0.074683</td>\n",
              "                        <td id=\"T_02391b80_6289_11eb_acdf_0242ac1c0002row1_col15\" class=\"data row1 col15\" >0.061892</td>\n",
              "            </tr>\n",
              "            <tr>\n",
              "                        <th id=\"T_02391b80_6289_11eb_acdf_0242ac1c0002level0_row2\" class=\"row_heading level0 row2\" >sexo_filled_woe</th>\n",
              "                        <td id=\"T_02391b80_6289_11eb_acdf_0242ac1c0002row2_col0\" class=\"data row2 col0\" >0.000027</td>\n",
              "                        <td id=\"T_02391b80_6289_11eb_acdf_0242ac1c0002row2_col1\" class=\"data row2 col1\" >0.033134</td>\n",
              "                        <td id=\"T_02391b80_6289_11eb_acdf_0242ac1c0002row2_col2\" class=\"data row2 col2\" >1.000000</td>\n",
              "                        <td id=\"T_02391b80_6289_11eb_acdf_0242ac1c0002row2_col3\" class=\"data row2 col3\" >-0.017518</td>\n",
              "                        <td id=\"T_02391b80_6289_11eb_acdf_0242ac1c0002row2_col4\" class=\"data row2 col4\" >0.114219</td>\n",
              "                        <td id=\"T_02391b80_6289_11eb_acdf_0242ac1c0002row2_col5\" class=\"data row2 col5\" >0.029911</td>\n",
              "                        <td id=\"T_02391b80_6289_11eb_acdf_0242ac1c0002row2_col6\" class=\"data row2 col6\" >0.048143</td>\n",
              "                        <td id=\"T_02391b80_6289_11eb_acdf_0242ac1c0002row2_col7\" class=\"data row2 col7\" >0.112912</td>\n",
              "                        <td id=\"T_02391b80_6289_11eb_acdf_0242ac1c0002row2_col8\" class=\"data row2 col8\" >0.122441</td>\n",
              "                        <td id=\"T_02391b80_6289_11eb_acdf_0242ac1c0002row2_col9\" class=\"data row2 col9\" >0.095590</td>\n",
              "                        <td id=\"T_02391b80_6289_11eb_acdf_0242ac1c0002row2_col10\" class=\"data row2 col10\" >0.079569</td>\n",
              "                        <td id=\"T_02391b80_6289_11eb_acdf_0242ac1c0002row2_col11\" class=\"data row2 col11\" >0.057971</td>\n",
              "                        <td id=\"T_02391b80_6289_11eb_acdf_0242ac1c0002row2_col12\" class=\"data row2 col12\" >0.113639</td>\n",
              "                        <td id=\"T_02391b80_6289_11eb_acdf_0242ac1c0002row2_col13\" class=\"data row2 col13\" >-0.038687</td>\n",
              "                        <td id=\"T_02391b80_6289_11eb_acdf_0242ac1c0002row2_col14\" class=\"data row2 col14\" >0.033987</td>\n",
              "                        <td id=\"T_02391b80_6289_11eb_acdf_0242ac1c0002row2_col15\" class=\"data row2 col15\" >0.082155</td>\n",
              "            </tr>\n",
              "            <tr>\n",
              "                        <th id=\"T_02391b80_6289_11eb_acdf_0242ac1c0002level0_row3\" class=\"row_heading level0 row3\" >est_cvl_filled_woe</th>\n",
              "                        <td id=\"T_02391b80_6289_11eb_acdf_0242ac1c0002row3_col0\" class=\"data row3 col0\" >0.022841</td>\n",
              "                        <td id=\"T_02391b80_6289_11eb_acdf_0242ac1c0002row3_col1\" class=\"data row3 col1\" >0.046108</td>\n",
              "                        <td id=\"T_02391b80_6289_11eb_acdf_0242ac1c0002row3_col2\" class=\"data row3 col2\" >-0.017518</td>\n",
              "                        <td id=\"T_02391b80_6289_11eb_acdf_0242ac1c0002row3_col3\" class=\"data row3 col3\" >1.000000</td>\n",
              "                        <td id=\"T_02391b80_6289_11eb_acdf_0242ac1c0002row3_col4\" class=\"data row3 col4\" >0.164509</td>\n",
              "                        <td id=\"T_02391b80_6289_11eb_acdf_0242ac1c0002row3_col5\" class=\"data row3 col5\" >0.140835</td>\n",
              "                        <td id=\"T_02391b80_6289_11eb_acdf_0242ac1c0002row3_col6\" class=\"data row3 col6\" >0.137730</td>\n",
              "                        <td id=\"T_02391b80_6289_11eb_acdf_0242ac1c0002row3_col7\" class=\"data row3 col7\" >-0.016227</td>\n",
              "                        <td id=\"T_02391b80_6289_11eb_acdf_0242ac1c0002row3_col8\" class=\"data row3 col8\" >-0.003874</td>\n",
              "                        <td id=\"T_02391b80_6289_11eb_acdf_0242ac1c0002row3_col9\" class=\"data row3 col9\" >0.047672</td>\n",
              "                        <td id=\"T_02391b80_6289_11eb_acdf_0242ac1c0002row3_col10\" class=\"data row3 col10\" >0.071851</td>\n",
              "                        <td id=\"T_02391b80_6289_11eb_acdf_0242ac1c0002row3_col11\" class=\"data row3 col11\" >0.219381</td>\n",
              "                        <td id=\"T_02391b80_6289_11eb_acdf_0242ac1c0002row3_col12\" class=\"data row3 col12\" >0.224545</td>\n",
              "                        <td id=\"T_02391b80_6289_11eb_acdf_0242ac1c0002row3_col13\" class=\"data row3 col13\" >0.221457</td>\n",
              "                        <td id=\"T_02391b80_6289_11eb_acdf_0242ac1c0002row3_col14\" class=\"data row3 col14\" >0.402475</td>\n",
              "                        <td id=\"T_02391b80_6289_11eb_acdf_0242ac1c0002row3_col15\" class=\"data row3 col15\" >0.019607</td>\n",
              "            </tr>\n",
              "            <tr>\n",
              "                        <th id=\"T_02391b80_6289_11eb_acdf_0242ac1c0002level0_row4\" class=\"row_heading level0 row4\" >sit_lab_filled_woe</th>\n",
              "                        <td id=\"T_02391b80_6289_11eb_acdf_0242ac1c0002row4_col0\" class=\"data row4 col0\" >0.053456</td>\n",
              "                        <td id=\"T_02391b80_6289_11eb_acdf_0242ac1c0002row4_col1\" class=\"data row4 col1\" >0.154406</td>\n",
              "                        <td id=\"T_02391b80_6289_11eb_acdf_0242ac1c0002row4_col2\" class=\"data row4 col2\" >0.114219</td>\n",
              "                        <td id=\"T_02391b80_6289_11eb_acdf_0242ac1c0002row4_col3\" class=\"data row4 col3\" >0.164509</td>\n",
              "                        <td id=\"T_02391b80_6289_11eb_acdf_0242ac1c0002row4_col4\" class=\"data row4 col4\" >1.000000</td>\n",
              "                        <td id=\"T_02391b80_6289_11eb_acdf_0242ac1c0002row4_col5\" class=\"data row4 col5\" >0.162810</td>\n",
              "                        <td id=\"T_02391b80_6289_11eb_acdf_0242ac1c0002row4_col6\" class=\"data row4 col6\" >0.288616</td>\n",
              "                        <td id=\"T_02391b80_6289_11eb_acdf_0242ac1c0002row4_col7\" class=\"data row4 col7\" >0.030348</td>\n",
              "                        <td id=\"T_02391b80_6289_11eb_acdf_0242ac1c0002row4_col8\" class=\"data row4 col8\" >0.080782</td>\n",
              "                        <td id=\"T_02391b80_6289_11eb_acdf_0242ac1c0002row4_col9\" class=\"data row4 col9\" >0.092243</td>\n",
              "                        <td id=\"T_02391b80_6289_11eb_acdf_0242ac1c0002row4_col10\" class=\"data row4 col10\" >0.168854</td>\n",
              "                        <td id=\"T_02391b80_6289_11eb_acdf_0242ac1c0002row4_col11\" class=\"data row4 col11\" >0.382711</td>\n",
              "                        <td id=\"T_02391b80_6289_11eb_acdf_0242ac1c0002row4_col12\" class=\"data row4 col12\" >0.127856</td>\n",
              "                        <td id=\"T_02391b80_6289_11eb_acdf_0242ac1c0002row4_col13\" class=\"data row4 col13\" >0.119388</td>\n",
              "                        <td id=\"T_02391b80_6289_11eb_acdf_0242ac1c0002row4_col14\" class=\"data row4 col14\" >0.181649</td>\n",
              "                        <td id=\"T_02391b80_6289_11eb_acdf_0242ac1c0002row4_col15\" class=\"data row4 col15\" >0.044639</td>\n",
              "            </tr>\n",
              "            <tr>\n",
              "                        <th id=\"T_02391b80_6289_11eb_acdf_0242ac1c0002level0_row5\" class=\"row_heading level0 row5\" >cod_ocu_filled_woe</th>\n",
              "                        <td id=\"T_02391b80_6289_11eb_acdf_0242ac1c0002row5_col0\" class=\"data row5 col0\" >0.022979</td>\n",
              "                        <td id=\"T_02391b80_6289_11eb_acdf_0242ac1c0002row5_col1\" class=\"data row5 col1\" >0.046381</td>\n",
              "                        <td id=\"T_02391b80_6289_11eb_acdf_0242ac1c0002row5_col2\" class=\"data row5 col2\" >0.029911</td>\n",
              "                        <td id=\"T_02391b80_6289_11eb_acdf_0242ac1c0002row5_col3\" class=\"data row5 col3\" >0.140835</td>\n",
              "                        <td id=\"T_02391b80_6289_11eb_acdf_0242ac1c0002row5_col4\" class=\"data row5 col4\" >0.162810</td>\n",
              "                        <td id=\"T_02391b80_6289_11eb_acdf_0242ac1c0002row5_col5\" class=\"data row5 col5\" >1.000000</td>\n",
              "                        <td id=\"T_02391b80_6289_11eb_acdf_0242ac1c0002row5_col6\" class=\"data row5 col6\" >0.312201</td>\n",
              "                        <td id=\"T_02391b80_6289_11eb_acdf_0242ac1c0002row5_col7\" class=\"data row5 col7\" >-0.027432</td>\n",
              "                        <td id=\"T_02391b80_6289_11eb_acdf_0242ac1c0002row5_col8\" class=\"data row5 col8\" >-0.037603</td>\n",
              "                        <td id=\"T_02391b80_6289_11eb_acdf_0242ac1c0002row5_col9\" class=\"data row5 col9\" >0.025540</td>\n",
              "                        <td id=\"T_02391b80_6289_11eb_acdf_0242ac1c0002row5_col10\" class=\"data row5 col10\" >0.018587</td>\n",
              "                        <td id=\"T_02391b80_6289_11eb_acdf_0242ac1c0002row5_col11\" class=\"data row5 col11\" >0.427727</td>\n",
              "                        <td id=\"T_02391b80_6289_11eb_acdf_0242ac1c0002row5_col12\" class=\"data row5 col12\" >0.152578</td>\n",
              "                        <td id=\"T_02391b80_6289_11eb_acdf_0242ac1c0002row5_col13\" class=\"data row5 col13\" >0.104637</td>\n",
              "                        <td id=\"T_02391b80_6289_11eb_acdf_0242ac1c0002row5_col14\" class=\"data row5 col14\" >0.114539</td>\n",
              "                        <td id=\"T_02391b80_6289_11eb_acdf_0242ac1c0002row5_col15\" class=\"data row5 col15\" >0.009016</td>\n",
              "            </tr>\n",
              "            <tr>\n",
              "                        <th id=\"T_02391b80_6289_11eb_acdf_0242ac1c0002level0_row6\" class=\"row_heading level0 row6\" >flg_sin_email_filled_woe</th>\n",
              "                        <td id=\"T_02391b80_6289_11eb_acdf_0242ac1c0002row6_col0\" class=\"data row6 col0\" >0.033248</td>\n",
              "                        <td id=\"T_02391b80_6289_11eb_acdf_0242ac1c0002row6_col1\" class=\"data row6 col1\" >0.060621</td>\n",
              "                        <td id=\"T_02391b80_6289_11eb_acdf_0242ac1c0002row6_col2\" class=\"data row6 col2\" >0.048143</td>\n",
              "                        <td id=\"T_02391b80_6289_11eb_acdf_0242ac1c0002row6_col3\" class=\"data row6 col3\" >0.137730</td>\n",
              "                        <td id=\"T_02391b80_6289_11eb_acdf_0242ac1c0002row6_col4\" class=\"data row6 col4\" >0.288616</td>\n",
              "                        <td id=\"T_02391b80_6289_11eb_acdf_0242ac1c0002row6_col5\" class=\"data row6 col5\" >0.312201</td>\n",
              "                        <td id=\"T_02391b80_6289_11eb_acdf_0242ac1c0002row6_col6\" class=\"data row6 col6\" >1.000000</td>\n",
              "                        <td id=\"T_02391b80_6289_11eb_acdf_0242ac1c0002row6_col7\" class=\"data row6 col7\" >-0.052605</td>\n",
              "                        <td id=\"T_02391b80_6289_11eb_acdf_0242ac1c0002row6_col8\" class=\"data row6 col8\" >-0.070978</td>\n",
              "                        <td id=\"T_02391b80_6289_11eb_acdf_0242ac1c0002row6_col9\" class=\"data row6 col9\" >0.009837</td>\n",
              "                        <td id=\"T_02391b80_6289_11eb_acdf_0242ac1c0002row6_col10\" class=\"data row6 col10\" >0.013620</td>\n",
              "                        <td id=\"T_02391b80_6289_11eb_acdf_0242ac1c0002row6_col11\" class=\"data row6 col11\" >0.544640</td>\n",
              "                        <td id=\"T_02391b80_6289_11eb_acdf_0242ac1c0002row6_col12\" class=\"data row6 col12\" >0.176251</td>\n",
              "                        <td id=\"T_02391b80_6289_11eb_acdf_0242ac1c0002row6_col13\" class=\"data row6 col13\" >0.135015</td>\n",
              "                        <td id=\"T_02391b80_6289_11eb_acdf_0242ac1c0002row6_col14\" class=\"data row6 col14\" >0.004890</td>\n",
              "                        <td id=\"T_02391b80_6289_11eb_acdf_0242ac1c0002row6_col15\" class=\"data row6 col15\" >0.003064</td>\n",
              "            </tr>\n",
              "            <tr>\n",
              "                        <th id=\"T_02391b80_6289_11eb_acdf_0242ac1c0002level0_row7\" class=\"row_heading level0 row7\" >lgr_vot_filled_woe</th>\n",
              "                        <td id=\"T_02391b80_6289_11eb_acdf_0242ac1c0002row7_col0\" class=\"data row7 col0\" >-0.012618</td>\n",
              "                        <td id=\"T_02391b80_6289_11eb_acdf_0242ac1c0002row7_col1\" class=\"data row7 col1\" >0.084987</td>\n",
              "                        <td id=\"T_02391b80_6289_11eb_acdf_0242ac1c0002row7_col2\" class=\"data row7 col2\" >0.112912</td>\n",
              "                        <td id=\"T_02391b80_6289_11eb_acdf_0242ac1c0002row7_col3\" class=\"data row7 col3\" >-0.016227</td>\n",
              "                        <td id=\"T_02391b80_6289_11eb_acdf_0242ac1c0002row7_col4\" class=\"data row7 col4\" >0.030348</td>\n",
              "                        <td id=\"T_02391b80_6289_11eb_acdf_0242ac1c0002row7_col5\" class=\"data row7 col5\" >-0.027432</td>\n",
              "                        <td id=\"T_02391b80_6289_11eb_acdf_0242ac1c0002row7_col6\" class=\"data row7 col6\" >-0.052605</td>\n",
              "                        <td id=\"T_02391b80_6289_11eb_acdf_0242ac1c0002row7_col7\" class=\"data row7 col7\" >1.000000</td>\n",
              "                        <td id=\"T_02391b80_6289_11eb_acdf_0242ac1c0002row7_col8\" class=\"data row7 col8\" >0.748504</td>\n",
              "                        <td id=\"T_02391b80_6289_11eb_acdf_0242ac1c0002row7_col9\" class=\"data row7 col9\" >0.546973</td>\n",
              "                        <td id=\"T_02391b80_6289_11eb_acdf_0242ac1c0002row7_col10\" class=\"data row7 col10\" >0.590157</td>\n",
              "                        <td id=\"T_02391b80_6289_11eb_acdf_0242ac1c0002row7_col11\" class=\"data row7 col11\" >-0.039152</td>\n",
              "                        <td id=\"T_02391b80_6289_11eb_acdf_0242ac1c0002row7_col12\" class=\"data row7 col12\" >-0.017885</td>\n",
              "                        <td id=\"T_02391b80_6289_11eb_acdf_0242ac1c0002row7_col13\" class=\"data row7 col13\" >-0.023477</td>\n",
              "                        <td id=\"T_02391b80_6289_11eb_acdf_0242ac1c0002row7_col14\" class=\"data row7 col14\" >-0.035111</td>\n",
              "                        <td id=\"T_02391b80_6289_11eb_acdf_0242ac1c0002row7_col15\" class=\"data row7 col15\" >0.669790</td>\n",
              "            </tr>\n",
              "            <tr>\n",
              "                        <th id=\"T_02391b80_6289_11eb_acdf_0242ac1c0002level0_row8\" class=\"row_heading level0 row8\" >prv_filled_woe</th>\n",
              "                        <td id=\"T_02391b80_6289_11eb_acdf_0242ac1c0002row8_col0\" class=\"data row8 col0\" >-0.011905</td>\n",
              "                        <td id=\"T_02391b80_6289_11eb_acdf_0242ac1c0002row8_col1\" class=\"data row8 col1\" >0.100905</td>\n",
              "                        <td id=\"T_02391b80_6289_11eb_acdf_0242ac1c0002row8_col2\" class=\"data row8 col2\" >0.122441</td>\n",
              "                        <td id=\"T_02391b80_6289_11eb_acdf_0242ac1c0002row8_col3\" class=\"data row8 col3\" >-0.003874</td>\n",
              "                        <td id=\"T_02391b80_6289_11eb_acdf_0242ac1c0002row8_col4\" class=\"data row8 col4\" >0.080782</td>\n",
              "                        <td id=\"T_02391b80_6289_11eb_acdf_0242ac1c0002row8_col5\" class=\"data row8 col5\" >-0.037603</td>\n",
              "                        <td id=\"T_02391b80_6289_11eb_acdf_0242ac1c0002row8_col6\" class=\"data row8 col6\" >-0.070978</td>\n",
              "                        <td id=\"T_02391b80_6289_11eb_acdf_0242ac1c0002row8_col7\" class=\"data row8 col7\" >0.748504</td>\n",
              "                        <td id=\"T_02391b80_6289_11eb_acdf_0242ac1c0002row8_col8\" class=\"data row8 col8\" >1.000000</td>\n",
              "                        <td id=\"T_02391b80_6289_11eb_acdf_0242ac1c0002row8_col9\" class=\"data row8 col9\" >0.722567</td>\n",
              "                        <td id=\"T_02391b80_6289_11eb_acdf_0242ac1c0002row8_col10\" class=\"data row8 col10\" >0.584446</td>\n",
              "                        <td id=\"T_02391b80_6289_11eb_acdf_0242ac1c0002row8_col11\" class=\"data row8 col11\" >-0.037195</td>\n",
              "                        <td id=\"T_02391b80_6289_11eb_acdf_0242ac1c0002row8_col12\" class=\"data row8 col12\" >-0.012374</td>\n",
              "                        <td id=\"T_02391b80_6289_11eb_acdf_0242ac1c0002row8_col13\" class=\"data row8 col13\" >-0.027317</td>\n",
              "                        <td id=\"T_02391b80_6289_11eb_acdf_0242ac1c0002row8_col14\" class=\"data row8 col14\" >0.004430</td>\n",
              "                        <td id=\"T_02391b80_6289_11eb_acdf_0242ac1c0002row8_col15\" class=\"data row8 col15\" >0.503863</td>\n",
              "            </tr>\n",
              "            <tr>\n",
              "                        <th id=\"T_02391b80_6289_11eb_acdf_0242ac1c0002level0_row9\" class=\"row_heading level0 row9\" >dto_filled_woe</th>\n",
              "                        <td id=\"T_02391b80_6289_11eb_acdf_0242ac1c0002row9_col0\" class=\"data row9 col0\" >-0.005129</td>\n",
              "                        <td id=\"T_02391b80_6289_11eb_acdf_0242ac1c0002row9_col1\" class=\"data row9 col1\" >0.126142</td>\n",
              "                        <td id=\"T_02391b80_6289_11eb_acdf_0242ac1c0002row9_col2\" class=\"data row9 col2\" >0.095590</td>\n",
              "                        <td id=\"T_02391b80_6289_11eb_acdf_0242ac1c0002row9_col3\" class=\"data row9 col3\" >0.047672</td>\n",
              "                        <td id=\"T_02391b80_6289_11eb_acdf_0242ac1c0002row9_col4\" class=\"data row9 col4\" >0.092243</td>\n",
              "                        <td id=\"T_02391b80_6289_11eb_acdf_0242ac1c0002row9_col5\" class=\"data row9 col5\" >0.025540</td>\n",
              "                        <td id=\"T_02391b80_6289_11eb_acdf_0242ac1c0002row9_col6\" class=\"data row9 col6\" >0.009837</td>\n",
              "                        <td id=\"T_02391b80_6289_11eb_acdf_0242ac1c0002row9_col7\" class=\"data row9 col7\" >0.546973</td>\n",
              "                        <td id=\"T_02391b80_6289_11eb_acdf_0242ac1c0002row9_col8\" class=\"data row9 col8\" >0.722567</td>\n",
              "                        <td id=\"T_02391b80_6289_11eb_acdf_0242ac1c0002row9_col9\" class=\"data row9 col9\" >1.000000</td>\n",
              "                        <td id=\"T_02391b80_6289_11eb_acdf_0242ac1c0002row9_col10\" class=\"data row9 col10\" >0.455809</td>\n",
              "                        <td id=\"T_02391b80_6289_11eb_acdf_0242ac1c0002row9_col11\" class=\"data row9 col11\" >0.041521</td>\n",
              "                        <td id=\"T_02391b80_6289_11eb_acdf_0242ac1c0002row9_col12\" class=\"data row9 col12\" >0.057427</td>\n",
              "                        <td id=\"T_02391b80_6289_11eb_acdf_0242ac1c0002row9_col13\" class=\"data row9 col13\" >-0.005437</td>\n",
              "                        <td id=\"T_02391b80_6289_11eb_acdf_0242ac1c0002row9_col14\" class=\"data row9 col14\" >0.036423</td>\n",
              "                        <td id=\"T_02391b80_6289_11eb_acdf_0242ac1c0002row9_col15\" class=\"data row9 col15\" >0.397875</td>\n",
              "            </tr>\n",
              "            <tr>\n",
              "                        <th id=\"T_02391b80_6289_11eb_acdf_0242ac1c0002level0_row10\" class=\"row_heading level0 row10\" >rgn_filled_woe</th>\n",
              "                        <td id=\"T_02391b80_6289_11eb_acdf_0242ac1c0002row10_col0\" class=\"data row10 col0\" >-0.002319</td>\n",
              "                        <td id=\"T_02391b80_6289_11eb_acdf_0242ac1c0002row10_col1\" class=\"data row10 col1\" >0.063178</td>\n",
              "                        <td id=\"T_02391b80_6289_11eb_acdf_0242ac1c0002row10_col2\" class=\"data row10 col2\" >0.079569</td>\n",
              "                        <td id=\"T_02391b80_6289_11eb_acdf_0242ac1c0002row10_col3\" class=\"data row10 col3\" >0.071851</td>\n",
              "                        <td id=\"T_02391b80_6289_11eb_acdf_0242ac1c0002row10_col4\" class=\"data row10 col4\" >0.168854</td>\n",
              "                        <td id=\"T_02391b80_6289_11eb_acdf_0242ac1c0002row10_col5\" class=\"data row10 col5\" >0.018587</td>\n",
              "                        <td id=\"T_02391b80_6289_11eb_acdf_0242ac1c0002row10_col6\" class=\"data row10 col6\" >0.013620</td>\n",
              "                        <td id=\"T_02391b80_6289_11eb_acdf_0242ac1c0002row10_col7\" class=\"data row10 col7\" >0.590157</td>\n",
              "                        <td id=\"T_02391b80_6289_11eb_acdf_0242ac1c0002row10_col8\" class=\"data row10 col8\" >0.584446</td>\n",
              "                        <td id=\"T_02391b80_6289_11eb_acdf_0242ac1c0002row10_col9\" class=\"data row10 col9\" >0.455809</td>\n",
              "                        <td id=\"T_02391b80_6289_11eb_acdf_0242ac1c0002row10_col10\" class=\"data row10 col10\" >1.000000</td>\n",
              "                        <td id=\"T_02391b80_6289_11eb_acdf_0242ac1c0002row10_col11\" class=\"data row10 col11\" >0.073142</td>\n",
              "                        <td id=\"T_02391b80_6289_11eb_acdf_0242ac1c0002row10_col12\" class=\"data row10 col12\" >0.007145</td>\n",
              "                        <td id=\"T_02391b80_6289_11eb_acdf_0242ac1c0002row10_col13\" class=\"data row10 col13\" >0.015074</td>\n",
              "                        <td id=\"T_02391b80_6289_11eb_acdf_0242ac1c0002row10_col14\" class=\"data row10 col14\" >0.051182</td>\n",
              "                        <td id=\"T_02391b80_6289_11eb_acdf_0242ac1c0002row10_col15\" class=\"data row10 col15\" >0.349215</td>\n",
              "            </tr>\n",
              "            <tr>\n",
              "                        <th id=\"T_02391b80_6289_11eb_acdf_0242ac1c0002level0_row11\" class=\"row_heading level0 row11\" >tip_lvledu_filled_woe</th>\n",
              "                        <td id=\"T_02391b80_6289_11eb_acdf_0242ac1c0002row11_col0\" class=\"data row11 col0\" >0.044591</td>\n",
              "                        <td id=\"T_02391b80_6289_11eb_acdf_0242ac1c0002row11_col1\" class=\"data row11 col1\" >0.078569</td>\n",
              "                        <td id=\"T_02391b80_6289_11eb_acdf_0242ac1c0002row11_col2\" class=\"data row11 col2\" >0.057971</td>\n",
              "                        <td id=\"T_02391b80_6289_11eb_acdf_0242ac1c0002row11_col3\" class=\"data row11 col3\" >0.219381</td>\n",
              "                        <td id=\"T_02391b80_6289_11eb_acdf_0242ac1c0002row11_col4\" class=\"data row11 col4\" >0.382711</td>\n",
              "                        <td id=\"T_02391b80_6289_11eb_acdf_0242ac1c0002row11_col5\" class=\"data row11 col5\" >0.427727</td>\n",
              "                        <td id=\"T_02391b80_6289_11eb_acdf_0242ac1c0002row11_col6\" class=\"data row11 col6\" >0.544640</td>\n",
              "                        <td id=\"T_02391b80_6289_11eb_acdf_0242ac1c0002row11_col7\" class=\"data row11 col7\" >-0.039152</td>\n",
              "                        <td id=\"T_02391b80_6289_11eb_acdf_0242ac1c0002row11_col8\" class=\"data row11 col8\" >-0.037195</td>\n",
              "                        <td id=\"T_02391b80_6289_11eb_acdf_0242ac1c0002row11_col9\" class=\"data row11 col9\" >0.041521</td>\n",
              "                        <td id=\"T_02391b80_6289_11eb_acdf_0242ac1c0002row11_col10\" class=\"data row11 col10\" >0.073142</td>\n",
              "                        <td id=\"T_02391b80_6289_11eb_acdf_0242ac1c0002row11_col11\" class=\"data row11 col11\" >1.000000</td>\n",
              "                        <td id=\"T_02391b80_6289_11eb_acdf_0242ac1c0002row11_col12\" class=\"data row11 col12\" >0.213883</td>\n",
              "                        <td id=\"T_02391b80_6289_11eb_acdf_0242ac1c0002row11_col13\" class=\"data row11 col13\" >0.157135</td>\n",
              "                        <td id=\"T_02391b80_6289_11eb_acdf_0242ac1c0002row11_col14\" class=\"data row11 col14\" >0.207167</td>\n",
              "                        <td id=\"T_02391b80_6289_11eb_acdf_0242ac1c0002row11_col15\" class=\"data row11 col15\" >0.013905</td>\n",
              "            </tr>\n",
              "            <tr>\n",
              "                        <th id=\"T_02391b80_6289_11eb_acdf_0242ac1c0002level0_row12\" class=\"row_heading level0 row12\" >ctd_veh_filled_woe</th>\n",
              "                        <td id=\"T_02391b80_6289_11eb_acdf_0242ac1c0002row12_col0\" class=\"data row12 col0\" >0.016776</td>\n",
              "                        <td id=\"T_02391b80_6289_11eb_acdf_0242ac1c0002row12_col1\" class=\"data row12 col1\" >0.062121</td>\n",
              "                        <td id=\"T_02391b80_6289_11eb_acdf_0242ac1c0002row12_col2\" class=\"data row12 col2\" >0.113639</td>\n",
              "                        <td id=\"T_02391b80_6289_11eb_acdf_0242ac1c0002row12_col3\" class=\"data row12 col3\" >0.224545</td>\n",
              "                        <td id=\"T_02391b80_6289_11eb_acdf_0242ac1c0002row12_col4\" class=\"data row12 col4\" >0.127856</td>\n",
              "                        <td id=\"T_02391b80_6289_11eb_acdf_0242ac1c0002row12_col5\" class=\"data row12 col5\" >0.152578</td>\n",
              "                        <td id=\"T_02391b80_6289_11eb_acdf_0242ac1c0002row12_col6\" class=\"data row12 col6\" >0.176251</td>\n",
              "                        <td id=\"T_02391b80_6289_11eb_acdf_0242ac1c0002row12_col7\" class=\"data row12 col7\" >-0.017885</td>\n",
              "                        <td id=\"T_02391b80_6289_11eb_acdf_0242ac1c0002row12_col8\" class=\"data row12 col8\" >-0.012374</td>\n",
              "                        <td id=\"T_02391b80_6289_11eb_acdf_0242ac1c0002row12_col9\" class=\"data row12 col9\" >0.057427</td>\n",
              "                        <td id=\"T_02391b80_6289_11eb_acdf_0242ac1c0002row12_col10\" class=\"data row12 col10\" >0.007145</td>\n",
              "                        <td id=\"T_02391b80_6289_11eb_acdf_0242ac1c0002row12_col11\" class=\"data row12 col11\" >0.213883</td>\n",
              "                        <td id=\"T_02391b80_6289_11eb_acdf_0242ac1c0002row12_col12\" class=\"data row12 col12\" >1.000000</td>\n",
              "                        <td id=\"T_02391b80_6289_11eb_acdf_0242ac1c0002row12_col13\" class=\"data row12 col13\" >0.076818</td>\n",
              "                        <td id=\"T_02391b80_6289_11eb_acdf_0242ac1c0002row12_col14\" class=\"data row12 col14\" >0.155098</td>\n",
              "                        <td id=\"T_02391b80_6289_11eb_acdf_0242ac1c0002row12_col15\" class=\"data row12 col15\" >0.011238</td>\n",
              "            </tr>\n",
              "            <tr>\n",
              "                        <th id=\"T_02391b80_6289_11eb_acdf_0242ac1c0002level0_row13\" class=\"row_heading level0 row13\" >ctd_hijos_filled_woe</th>\n",
              "                        <td id=\"T_02391b80_6289_11eb_acdf_0242ac1c0002row13_col0\" class=\"data row13 col0\" >0.012705</td>\n",
              "                        <td id=\"T_02391b80_6289_11eb_acdf_0242ac1c0002row13_col1\" class=\"data row13 col1\" >0.019815</td>\n",
              "                        <td id=\"T_02391b80_6289_11eb_acdf_0242ac1c0002row13_col2\" class=\"data row13 col2\" >-0.038687</td>\n",
              "                        <td id=\"T_02391b80_6289_11eb_acdf_0242ac1c0002row13_col3\" class=\"data row13 col3\" >0.221457</td>\n",
              "                        <td id=\"T_02391b80_6289_11eb_acdf_0242ac1c0002row13_col4\" class=\"data row13 col4\" >0.119388</td>\n",
              "                        <td id=\"T_02391b80_6289_11eb_acdf_0242ac1c0002row13_col5\" class=\"data row13 col5\" >0.104637</td>\n",
              "                        <td id=\"T_02391b80_6289_11eb_acdf_0242ac1c0002row13_col6\" class=\"data row13 col6\" >0.135015</td>\n",
              "                        <td id=\"T_02391b80_6289_11eb_acdf_0242ac1c0002row13_col7\" class=\"data row13 col7\" >-0.023477</td>\n",
              "                        <td id=\"T_02391b80_6289_11eb_acdf_0242ac1c0002row13_col8\" class=\"data row13 col8\" >-0.027317</td>\n",
              "                        <td id=\"T_02391b80_6289_11eb_acdf_0242ac1c0002row13_col9\" class=\"data row13 col9\" >-0.005437</td>\n",
              "                        <td id=\"T_02391b80_6289_11eb_acdf_0242ac1c0002row13_col10\" class=\"data row13 col10\" >0.015074</td>\n",
              "                        <td id=\"T_02391b80_6289_11eb_acdf_0242ac1c0002row13_col11\" class=\"data row13 col11\" >0.157135</td>\n",
              "                        <td id=\"T_02391b80_6289_11eb_acdf_0242ac1c0002row13_col12\" class=\"data row13 col12\" >0.076818</td>\n",
              "                        <td id=\"T_02391b80_6289_11eb_acdf_0242ac1c0002row13_col13\" class=\"data row13 col13\" >1.000000</td>\n",
              "                        <td id=\"T_02391b80_6289_11eb_acdf_0242ac1c0002row13_col14\" class=\"data row13 col14\" >0.142706</td>\n",
              "                        <td id=\"T_02391b80_6289_11eb_acdf_0242ac1c0002row13_col15\" class=\"data row13 col15\" >-0.003503</td>\n",
              "            </tr>\n",
              "            <tr>\n",
              "                        <th id=\"T_02391b80_6289_11eb_acdf_0242ac1c0002level0_row14\" class=\"row_heading level0 row14\" >rango_edad_filled_woe</th>\n",
              "                        <td id=\"T_02391b80_6289_11eb_acdf_0242ac1c0002row14_col0\" class=\"data row14 col0\" >0.017869</td>\n",
              "                        <td id=\"T_02391b80_6289_11eb_acdf_0242ac1c0002row14_col1\" class=\"data row14 col1\" >0.074683</td>\n",
              "                        <td id=\"T_02391b80_6289_11eb_acdf_0242ac1c0002row14_col2\" class=\"data row14 col2\" >0.033987</td>\n",
              "                        <td id=\"T_02391b80_6289_11eb_acdf_0242ac1c0002row14_col3\" class=\"data row14 col3\" >0.402475</td>\n",
              "                        <td id=\"T_02391b80_6289_11eb_acdf_0242ac1c0002row14_col4\" class=\"data row14 col4\" >0.181649</td>\n",
              "                        <td id=\"T_02391b80_6289_11eb_acdf_0242ac1c0002row14_col5\" class=\"data row14 col5\" >0.114539</td>\n",
              "                        <td id=\"T_02391b80_6289_11eb_acdf_0242ac1c0002row14_col6\" class=\"data row14 col6\" >0.004890</td>\n",
              "                        <td id=\"T_02391b80_6289_11eb_acdf_0242ac1c0002row14_col7\" class=\"data row14 col7\" >-0.035111</td>\n",
              "                        <td id=\"T_02391b80_6289_11eb_acdf_0242ac1c0002row14_col8\" class=\"data row14 col8\" >0.004430</td>\n",
              "                        <td id=\"T_02391b80_6289_11eb_acdf_0242ac1c0002row14_col9\" class=\"data row14 col9\" >0.036423</td>\n",
              "                        <td id=\"T_02391b80_6289_11eb_acdf_0242ac1c0002row14_col10\" class=\"data row14 col10\" >0.051182</td>\n",
              "                        <td id=\"T_02391b80_6289_11eb_acdf_0242ac1c0002row14_col11\" class=\"data row14 col11\" >0.207167</td>\n",
              "                        <td id=\"T_02391b80_6289_11eb_acdf_0242ac1c0002row14_col12\" class=\"data row14 col12\" >0.155098</td>\n",
              "                        <td id=\"T_02391b80_6289_11eb_acdf_0242ac1c0002row14_col13\" class=\"data row14 col13\" >0.142706</td>\n",
              "                        <td id=\"T_02391b80_6289_11eb_acdf_0242ac1c0002row14_col14\" class=\"data row14 col14\" >1.000000</td>\n",
              "                        <td id=\"T_02391b80_6289_11eb_acdf_0242ac1c0002row14_col15\" class=\"data row14 col15\" >-0.006527</td>\n",
              "            </tr>\n",
              "            <tr>\n",
              "                        <th id=\"T_02391b80_6289_11eb_acdf_0242ac1c0002level0_row15\" class=\"row_heading level0 row15\" >rango_cod_ubi_filled_woe</th>\n",
              "                        <td id=\"T_02391b80_6289_11eb_acdf_0242ac1c0002row15_col0\" class=\"data row15 col0\" >-0.004752</td>\n",
              "                        <td id=\"T_02391b80_6289_11eb_acdf_0242ac1c0002row15_col1\" class=\"data row15 col1\" >0.061892</td>\n",
              "                        <td id=\"T_02391b80_6289_11eb_acdf_0242ac1c0002row15_col2\" class=\"data row15 col2\" >0.082155</td>\n",
              "                        <td id=\"T_02391b80_6289_11eb_acdf_0242ac1c0002row15_col3\" class=\"data row15 col3\" >0.019607</td>\n",
              "                        <td id=\"T_02391b80_6289_11eb_acdf_0242ac1c0002row15_col4\" class=\"data row15 col4\" >0.044639</td>\n",
              "                        <td id=\"T_02391b80_6289_11eb_acdf_0242ac1c0002row15_col5\" class=\"data row15 col5\" >0.009016</td>\n",
              "                        <td id=\"T_02391b80_6289_11eb_acdf_0242ac1c0002row15_col6\" class=\"data row15 col6\" >0.003064</td>\n",
              "                        <td id=\"T_02391b80_6289_11eb_acdf_0242ac1c0002row15_col7\" class=\"data row15 col7\" >0.669790</td>\n",
              "                        <td id=\"T_02391b80_6289_11eb_acdf_0242ac1c0002row15_col8\" class=\"data row15 col8\" >0.503863</td>\n",
              "                        <td id=\"T_02391b80_6289_11eb_acdf_0242ac1c0002row15_col9\" class=\"data row15 col9\" >0.397875</td>\n",
              "                        <td id=\"T_02391b80_6289_11eb_acdf_0242ac1c0002row15_col10\" class=\"data row15 col10\" >0.349215</td>\n",
              "                        <td id=\"T_02391b80_6289_11eb_acdf_0242ac1c0002row15_col11\" class=\"data row15 col11\" >0.013905</td>\n",
              "                        <td id=\"T_02391b80_6289_11eb_acdf_0242ac1c0002row15_col12\" class=\"data row15 col12\" >0.011238</td>\n",
              "                        <td id=\"T_02391b80_6289_11eb_acdf_0242ac1c0002row15_col13\" class=\"data row15 col13\" >-0.003503</td>\n",
              "                        <td id=\"T_02391b80_6289_11eb_acdf_0242ac1c0002row15_col14\" class=\"data row15 col14\" >-0.006527</td>\n",
              "                        <td id=\"T_02391b80_6289_11eb_acdf_0242ac1c0002row15_col15\" class=\"data row15 col15\" >1.000000</td>\n",
              "            </tr>\n",
              "    </tbody></table>"
            ],
            "text/plain": [
              "<pandas.io.formats.style.Styler at 0x7f20d7deeef0>"
            ]
          },
          "metadata": {
            "tags": []
          },
          "execution_count": 30
        }
      ]
    },
    {
      "cell_type": "code",
      "metadata": {
        "id": "AQtMmt3RkQxP"
      },
      "source": [
        "df_se_train_4_linear.to_csv('[01] Intermediate/ds_se_linear_train', index=False)\n",
        "df_se_test_4_linear.to_csv('[01] Intermediate/ds_se_linear_test', index=False)"
      ],
      "execution_count": 31,
      "outputs": []
    },
    {
      "cell_type": "code",
      "metadata": {
        "id": "e77souWGi8i2"
      },
      "source": [
        "import math"
      ],
      "execution_count": 58,
      "outputs": []
    },
    {
      "cell_type": "code",
      "metadata": {
        "id": "GU-JwDDkebDU"
      },
      "source": [
        "def get_iv(df, cat_col):\n",
        "  df_woe_tmp = pd.pivot_table(df, values=\"key_value\", index=\"target\", columns=cat_col, dropna=False, aggfunc=\"count\")#.reset_index(drop=False)\n",
        "  val_cols = df_woe_tmp.columns\n",
        "  df_woe_tmp[\"total\"] = df_woe_tmp[df_woe_tmp.columns].sum(axis=1)\n",
        "  for c in val_cols:\n",
        "    df_woe_tmp[c] = (df_woe_tmp[c]/df_woe_tmp[\"total\"])\n",
        "  del df_woe_tmp[\"total\"]\n",
        "  df_woe_tmp = df_woe_tmp.T\n",
        "  df_woe_tmp[\"woe\"] = df_woe_tmp.apply(lambda row: math.log(row[0] / row[1]), axis=1)\n",
        "  df_woe_tmp[\"diff\"] = df_woe_tmp.apply(lambda row: row[0] - row[1], axis=1)\n",
        "  df_woe_tmp[\"woe_diff\"] = df_woe_tmp.apply(lambda row: row[\"woe\"] * row[\"diff\"], axis=1)\n",
        "  iv = df_woe_tmp[\"woe_diff\"].sum()\n",
        "  return iv"
      ],
      "execution_count": 72,
      "outputs": []
    },
    {
      "cell_type": "code",
      "metadata": {
        "id": "FiHV5tXgr8nc"
      },
      "source": [
        "l = []\n",
        "for cat_col in cat_feat:\n",
        "  l.append({\"cat_col\": cat_col, \"iv\": get_iv(df_se_train_4_tree, cat_col)})"
      ],
      "execution_count": 73,
      "outputs": []
    },
    {
      "cell_type": "code",
      "metadata": {
        "id": "TqFxbQjms4qg"
      },
      "source": [
        "df_predictor = pd.DataFrame(l)\n",
        "df_predictor[\"predictor_type\"] = df_predictor[\"iv\"].apply(lambda i: \"01. useless\" if i < 0.02 else \"02. weak\" if i < 0.1 else \"03. medium\" if i < 0.3 else \"04. strong\" if i < 0.5 else \"05. too good\")"
      ],
      "execution_count": 77,
      "outputs": []
    },
    {
      "cell_type": "code",
      "metadata": {
        "id": "eikj_f1cr8lI",
        "outputId": "c1c27cb1-8477-40db-8596-904f0996d809",
        "colab": {
          "base_uri": "https://localhost:8080/",
          "height": 468
        }
      },
      "source": [
        "df_predictor.sort_values(by=[\"predictor_type\", \"iv\"], ascending=[False, False])"
      ],
      "execution_count": 80,
      "outputs": [
        {
          "output_type": "execute_result",
          "data": {
            "text/html": [
              "<div>\n",
              "<style scoped>\n",
              "    .dataframe tbody tr th:only-of-type {\n",
              "        vertical-align: middle;\n",
              "    }\n",
              "\n",
              "    .dataframe tbody tr th {\n",
              "        vertical-align: top;\n",
              "    }\n",
              "\n",
              "    .dataframe thead th {\n",
              "        text-align: right;\n",
              "    }\n",
              "</style>\n",
              "<table border=\"1\" class=\"dataframe\">\n",
              "  <thead>\n",
              "    <tr style=\"text-align: right;\">\n",
              "      <th></th>\n",
              "      <th>cat_col</th>\n",
              "      <th>iv</th>\n",
              "      <th>predictor_type</th>\n",
              "    </tr>\n",
              "  </thead>\n",
              "  <tbody>\n",
              "    <tr>\n",
              "      <th>2</th>\n",
              "      <td>sit_lab</td>\n",
              "      <td>0.157643</td>\n",
              "      <td>03. medium</td>\n",
              "    </tr>\n",
              "    <tr>\n",
              "      <th>7</th>\n",
              "      <td>dto</td>\n",
              "      <td>0.128482</td>\n",
              "      <td>03. medium</td>\n",
              "    </tr>\n",
              "    <tr>\n",
              "      <th>6</th>\n",
              "      <td>prv</td>\n",
              "      <td>0.083383</td>\n",
              "      <td>02. weak</td>\n",
              "    </tr>\n",
              "    <tr>\n",
              "      <th>5</th>\n",
              "      <td>lgr_vot</td>\n",
              "      <td>0.056879</td>\n",
              "      <td>02. weak</td>\n",
              "    </tr>\n",
              "    <tr>\n",
              "      <th>9</th>\n",
              "      <td>tip_lvledu</td>\n",
              "      <td>0.048754</td>\n",
              "      <td>02. weak</td>\n",
              "    </tr>\n",
              "    <tr>\n",
              "      <th>12</th>\n",
              "      <td>rango_edad</td>\n",
              "      <td>0.043497</td>\n",
              "      <td>02. weak</td>\n",
              "    </tr>\n",
              "    <tr>\n",
              "      <th>10</th>\n",
              "      <td>ctd_veh</td>\n",
              "      <td>0.034225</td>\n",
              "      <td>02. weak</td>\n",
              "    </tr>\n",
              "    <tr>\n",
              "      <th>13</th>\n",
              "      <td>rango_cod_ubi</td>\n",
              "      <td>0.030978</td>\n",
              "      <td>02. weak</td>\n",
              "    </tr>\n",
              "    <tr>\n",
              "      <th>8</th>\n",
              "      <td>rgn</td>\n",
              "      <td>0.030560</td>\n",
              "      <td>02. weak</td>\n",
              "    </tr>\n",
              "    <tr>\n",
              "      <th>4</th>\n",
              "      <td>flg_sin_email</td>\n",
              "      <td>0.028647</td>\n",
              "      <td>02. weak</td>\n",
              "    </tr>\n",
              "    <tr>\n",
              "      <th>3</th>\n",
              "      <td>cod_ocu</td>\n",
              "      <td>0.018000</td>\n",
              "      <td>01. useless</td>\n",
              "    </tr>\n",
              "    <tr>\n",
              "      <th>1</th>\n",
              "      <td>est_cvl</td>\n",
              "      <td>0.017366</td>\n",
              "      <td>01. useless</td>\n",
              "    </tr>\n",
              "    <tr>\n",
              "      <th>0</th>\n",
              "      <td>sexo</td>\n",
              "      <td>0.008301</td>\n",
              "      <td>01. useless</td>\n",
              "    </tr>\n",
              "    <tr>\n",
              "      <th>11</th>\n",
              "      <td>ctd_hijos</td>\n",
              "      <td>0.003144</td>\n",
              "      <td>01. useless</td>\n",
              "    </tr>\n",
              "  </tbody>\n",
              "</table>\n",
              "</div>"
            ],
            "text/plain": [
              "          cat_col        iv predictor_type\n",
              "2         sit_lab  0.157643     03. medium\n",
              "7             dto  0.128482     03. medium\n",
              "6             prv  0.083383       02. weak\n",
              "5         lgr_vot  0.056879       02. weak\n",
              "9      tip_lvledu  0.048754       02. weak\n",
              "12     rango_edad  0.043497       02. weak\n",
              "10        ctd_veh  0.034225       02. weak\n",
              "13  rango_cod_ubi  0.030978       02. weak\n",
              "8             rgn  0.030560       02. weak\n",
              "4   flg_sin_email  0.028647       02. weak\n",
              "3         cod_ocu  0.018000    01. useless\n",
              "1         est_cvl  0.017366    01. useless\n",
              "0            sexo  0.008301    01. useless\n",
              "11      ctd_hijos  0.003144    01. useless"
            ]
          },
          "metadata": {
            "tags": []
          },
          "execution_count": 80
        }
      ]
    },
    {
      "cell_type": "markdown",
      "metadata": {
        "id": "yRYiUETrazu4"
      },
      "source": [
        "## Dataset RCC"
      ]
    },
    {
      "cell_type": "code",
      "metadata": {
        "id": "uGmhJ6uvZ_qH"
      },
      "source": [
        "df_rcc_train = optimizar_df(pd.read_csv(\"[00] Data/rcc_train.csv\"))\n",
        "df_rcc_test = optimizar_df(pd.read_csv(\"[00] Data/rcc_test.csv\"))"
      ],
      "execution_count": null,
      "outputs": []
    },
    {
      "cell_type": "code",
      "metadata": {
        "id": "G-2FjWUiFMkc"
      },
      "source": [
        "cat_feat = [\"tipo_credito\", \"cod_instit_financiera\", \"PRODUCTO\", \"RIESGO_DIRECTO\", \"COD_CLASIFICACION_DEUDOR\"]\n"
      ],
      "execution_count": null,
      "outputs": []
    },
    {
      "cell_type": "code",
      "metadata": {
        "id": "WcfqE4LKFZ-f",
        "colab": {
          "base_uri": "https://localhost:8080/"
        },
        "outputId": "41f074cd-0db1-4338-ee89-723d63d20ac6"
      },
      "source": [
        "for col_cat in cat_feat:\n",
        "  print(\"{0}\".format(col_cat))\n",
        "  print(\"\\t\", [c for c in df_rcc_train[col_cat].unique() if c not in df_rcc_test[col_cat].unique()])\n",
        "  print(\"\\t\", [c for c in df_rcc_test[col_cat].unique() if c not in df_rcc_train[col_cat].unique()])\n",
        "  print(\"\\n\")"
      ],
      "execution_count": null,
      "outputs": [
        {
          "output_type": "stream",
          "text": [
            "tipo_credito\n",
            "\t []\n",
            "\t [7]\n",
            "\n",
            "\n",
            "cod_instit_financiera\n",
            "\t [58, 66, 102, 83, 103, 5, 81, 98, 67, 74, 31, 72, 87]\n",
            "\t [nan]\n",
            "\n",
            "\n",
            "PRODUCTO\n",
            "\t [255]\n",
            "\t [nan]\n",
            "\n",
            "\n",
            "RIESGO_DIRECTO\n",
            "\t []\n",
            "\t []\n",
            "\n",
            "\n",
            "COD_CLASIFICACION_DEUDOR\n",
            "\t []\n",
            "\t []\n",
            "\n",
            "\n"
          ],
          "name": "stdout"
        }
      ]
    },
    {
      "cell_type": "code",
      "metadata": {
        "id": "G4FY1hJPFMcf"
      },
      "source": [
        ""
      ],
      "execution_count": null,
      "outputs": []
    },
    {
      "cell_type": "code",
      "metadata": {
        "id": "xMoE9sNgwLAc"
      },
      "source": [
        "#sorted(df_rcc_train[\"codmes\"].unique())"
      ],
      "execution_count": null,
      "outputs": []
    },
    {
      "cell_type": "code",
      "metadata": {
        "id": "4oQHh3IMwM4I"
      },
      "source": [
        "#sorted(df_rcc_test[\"codmes\"].unique())"
      ],
      "execution_count": null,
      "outputs": []
    },
    {
      "cell_type": "code",
      "metadata": {
        "id": "qiyeC_8GohDM",
        "colab": {
          "base_uri": "https://localhost:8080/",
          "height": 218
        },
        "outputId": "58fddffc-8820-4a29-fde0-a530113cc495"
      },
      "source": [
        "df_rcc_train.head()"
      ],
      "execution_count": null,
      "outputs": [
        {
          "output_type": "execute_result",
          "data": {
            "text/html": [
              "<div>\n",
              "<style scoped>\n",
              "    .dataframe tbody tr th:only-of-type {\n",
              "        vertical-align: middle;\n",
              "    }\n",
              "\n",
              "    .dataframe tbody tr th {\n",
              "        vertical-align: top;\n",
              "    }\n",
              "\n",
              "    .dataframe thead th {\n",
              "        text-align: right;\n",
              "    }\n",
              "</style>\n",
              "<table border=\"1\" class=\"dataframe\">\n",
              "  <thead>\n",
              "    <tr style=\"text-align: right;\">\n",
              "      <th></th>\n",
              "      <th>codmes</th>\n",
              "      <th>key_value</th>\n",
              "      <th>condicion</th>\n",
              "      <th>tipo_credito</th>\n",
              "      <th>cod_instit_financiera</th>\n",
              "      <th>saldo</th>\n",
              "      <th>PRODUCTO</th>\n",
              "      <th>RIESGO_DIRECTO</th>\n",
              "      <th>COD_CLASIFICACION_DEUDOR</th>\n",
              "    </tr>\n",
              "  </thead>\n",
              "  <tbody>\n",
              "    <tr>\n",
              "      <th>0</th>\n",
              "      <td>201711</td>\n",
              "      <td>4</td>\n",
              "      <td>0</td>\n",
              "      <td>12</td>\n",
              "      <td>33</td>\n",
              "      <td>-0.072601</td>\n",
              "      <td>6</td>\n",
              "      <td>-1</td>\n",
              "      <td>0</td>\n",
              "    </tr>\n",
              "    <tr>\n",
              "      <th>1</th>\n",
              "      <td>201711</td>\n",
              "      <td>4</td>\n",
              "      <td>0</td>\n",
              "      <td>12</td>\n",
              "      <td>33</td>\n",
              "      <td>-0.070608</td>\n",
              "      <td>7</td>\n",
              "      <td>-1</td>\n",
              "      <td>0</td>\n",
              "    </tr>\n",
              "    <tr>\n",
              "      <th>2</th>\n",
              "      <td>201711</td>\n",
              "      <td>4</td>\n",
              "      <td>0</td>\n",
              "      <td>12</td>\n",
              "      <td>61</td>\n",
              "      <td>-0.052054</td>\n",
              "      <td>5</td>\n",
              "      <td>-1</td>\n",
              "      <td>0</td>\n",
              "    </tr>\n",
              "    <tr>\n",
              "      <th>3</th>\n",
              "      <td>201711</td>\n",
              "      <td>4</td>\n",
              "      <td>0</td>\n",
              "      <td>11</td>\n",
              "      <td>32</td>\n",
              "      <td>-0.072456</td>\n",
              "      <td>8</td>\n",
              "      <td>1</td>\n",
              "      <td>0</td>\n",
              "    </tr>\n",
              "    <tr>\n",
              "      <th>4</th>\n",
              "      <td>201711</td>\n",
              "      <td>4</td>\n",
              "      <td>0</td>\n",
              "      <td>12</td>\n",
              "      <td>61</td>\n",
              "      <td>-0.057877</td>\n",
              "      <td>0</td>\n",
              "      <td>1</td>\n",
              "      <td>0</td>\n",
              "    </tr>\n",
              "  </tbody>\n",
              "</table>\n",
              "</div>"
            ],
            "text/plain": [
              "   codmes  key_value  ...  RIESGO_DIRECTO  COD_CLASIFICACION_DEUDOR\n",
              "0  201711          4  ...              -1                         0\n",
              "1  201711          4  ...              -1                         0\n",
              "2  201711          4  ...              -1                         0\n",
              "3  201711          4  ...               1                         0\n",
              "4  201711          4  ...               1                         0\n",
              "\n",
              "[5 rows x 9 columns]"
            ]
          },
          "metadata": {
            "tags": []
          },
          "execution_count": 12
        }
      ]
    },
    {
      "cell_type": "code",
      "metadata": {
        "id": "6DzxbpL8kA7p",
        "colab": {
          "base_uri": "https://localhost:8080/",
          "height": 288
        },
        "outputId": "e95d3893-6ddd-4610-9d18-e6a1dfa8f599"
      },
      "source": [
        "df_rcc_train.loc[df_rcc_train[\"cod_instit_financiera\"].isin([34,1,10,28,11,37])].groupby([\"codmes\", \"cod_instit_financiera\"], as_index=False).agg({\"key_value\": [\"count\", \"nunique\"]}).sort_values(by=[\"codmes\",(\"key_value\", \"nunique\")], ascending=[False, False]).head(7)"
      ],
      "execution_count": null,
      "outputs": [
        {
          "output_type": "execute_result",
          "data": {
            "text/html": [
              "<div>\n",
              "<style scoped>\n",
              "    .dataframe tbody tr th:only-of-type {\n",
              "        vertical-align: middle;\n",
              "    }\n",
              "\n",
              "    .dataframe tbody tr th {\n",
              "        vertical-align: top;\n",
              "    }\n",
              "\n",
              "    .dataframe thead tr th {\n",
              "        text-align: left;\n",
              "    }\n",
              "</style>\n",
              "<table border=\"1\" class=\"dataframe\">\n",
              "  <thead>\n",
              "    <tr>\n",
              "      <th></th>\n",
              "      <th>codmes</th>\n",
              "      <th>cod_instit_financiera</th>\n",
              "      <th colspan=\"2\" halign=\"left\">key_value</th>\n",
              "    </tr>\n",
              "    <tr>\n",
              "      <th></th>\n",
              "      <th></th>\n",
              "      <th></th>\n",
              "      <th>count</th>\n",
              "      <th>nunique</th>\n",
              "    </tr>\n",
              "  </thead>\n",
              "  <tbody>\n",
              "    <tr>\n",
              "      <th>69</th>\n",
              "      <td>201802</td>\n",
              "      <td>28</td>\n",
              "      <td>312928</td>\n",
              "      <td>85924</td>\n",
              "    </tr>\n",
              "    <tr>\n",
              "      <th>67</th>\n",
              "      <td>201802</td>\n",
              "      <td>10</td>\n",
              "      <td>297164</td>\n",
              "      <td>79889</td>\n",
              "    </tr>\n",
              "    <tr>\n",
              "      <th>70</th>\n",
              "      <td>201802</td>\n",
              "      <td>34</td>\n",
              "      <td>296841</td>\n",
              "      <td>71661</td>\n",
              "    </tr>\n",
              "    <tr>\n",
              "      <th>66</th>\n",
              "      <td>201802</td>\n",
              "      <td>1</td>\n",
              "      <td>273561</td>\n",
              "      <td>61666</td>\n",
              "    </tr>\n",
              "    <tr>\n",
              "      <th>71</th>\n",
              "      <td>201802</td>\n",
              "      <td>37</td>\n",
              "      <td>215163</td>\n",
              "      <td>56809</td>\n",
              "    </tr>\n",
              "    <tr>\n",
              "      <th>68</th>\n",
              "      <td>201802</td>\n",
              "      <td>11</td>\n",
              "      <td>213677</td>\n",
              "      <td>52330</td>\n",
              "    </tr>\n",
              "    <tr>\n",
              "      <th>64</th>\n",
              "      <td>201801</td>\n",
              "      <td>34</td>\n",
              "      <td>270989</td>\n",
              "      <td>70592</td>\n",
              "    </tr>\n",
              "  </tbody>\n",
              "</table>\n",
              "</div>"
            ],
            "text/plain": [
              "    codmes cod_instit_financiera key_value        \n",
              "                                     count nunique\n",
              "69  201802                    28    312928   85924\n",
              "67  201802                    10    297164   79889\n",
              "70  201802                    34    296841   71661\n",
              "66  201802                     1    273561   61666\n",
              "71  201802                    37    215163   56809\n",
              "68  201802                    11    213677   52330\n",
              "64  201801                    34    270989   70592"
            ]
          },
          "metadata": {
            "tags": []
          },
          "execution_count": 13
        }
      ]
    },
    {
      "cell_type": "code",
      "metadata": {
        "id": "b0KdUieFrkds",
        "colab": {
          "base_uri": "https://localhost:8080/"
        },
        "outputId": "c0166a95-d142-49f1-f06b-e17b4fcc9744"
      },
      "source": [
        "df_y_train[\"key_value\"].nunique(), df_y_train.shape[0]"
      ],
      "execution_count": null,
      "outputs": [
        {
          "output_type": "execute_result",
          "data": {
            "text/plain": [
              "(358487, 358487)"
            ]
          },
          "metadata": {
            "tags": []
          },
          "execution_count": 21
        }
      ]
    },
    {
      "cell_type": "code",
      "metadata": {
        "id": "RhkBmgqKo-4D"
      },
      "source": [
        "df_rcc_train_um = (df_rcc_train.loc[df_rcc_train[\"codmes\"] == 201802, :].merge(df_y_train, how=\"left\", on=\"key_value\")\n",
        "                                                                        .merge(df_productos, how=\"left\", on=\"PRODUCTO\")\n",
        "                  )"
      ],
      "execution_count": null,
      "outputs": []
    },
    {
      "cell_type": "code",
      "metadata": {
        "id": "Y0F42PHx0pB1",
        "colab": {
          "base_uri": "https://localhost:8080/",
          "height": 864
        },
        "outputId": "bcd233f5-53ad-422f-84b9-a7c3424e6caa"
      },
      "source": [
        "df_rcc_train_um.loc[(df_rcc_train_um[\"target\"] == 1) & (df_rcc_train_um[\"DES_PRODUCTO\"].isin([\"PRESTAMO PERSONAL\", \"PRESTAMOS MICRO EMPRESA\"]))].sort_values(by=[\"key_value\"]).head(15)"
      ],
      "execution_count": null,
      "outputs": [
        {
          "output_type": "execute_result",
          "data": {
            "text/html": [
              "<div>\n",
              "<style scoped>\n",
              "    .dataframe tbody tr th:only-of-type {\n",
              "        vertical-align: middle;\n",
              "    }\n",
              "\n",
              "    .dataframe tbody tr th {\n",
              "        vertical-align: top;\n",
              "    }\n",
              "\n",
              "    .dataframe thead th {\n",
              "        text-align: right;\n",
              "    }\n",
              "</style>\n",
              "<table border=\"1\" class=\"dataframe\">\n",
              "  <thead>\n",
              "    <tr style=\"text-align: right;\">\n",
              "      <th></th>\n",
              "      <th>codmes</th>\n",
              "      <th>key_value</th>\n",
              "      <th>condicion</th>\n",
              "      <th>tipo_credito</th>\n",
              "      <th>cod_instit_financiera</th>\n",
              "      <th>saldo</th>\n",
              "      <th>PRODUCTO</th>\n",
              "      <th>RIESGO_DIRECTO</th>\n",
              "      <th>COD_CLASIFICACION_DEUDOR</th>\n",
              "      <th>target</th>\n",
              "      <th>DES_PRODUCTO</th>\n",
              "    </tr>\n",
              "  </thead>\n",
              "  <tbody>\n",
              "    <tr>\n",
              "      <th>68877</th>\n",
              "      <td>201802</td>\n",
              "      <td>4</td>\n",
              "      <td>80</td>\n",
              "      <td>12</td>\n",
              "      <td>61</td>\n",
              "      <td>-0.069141</td>\n",
              "      <td>0</td>\n",
              "      <td>2</td>\n",
              "      <td>3</td>\n",
              "      <td>1</td>\n",
              "      <td>PRESTAMO PERSONAL</td>\n",
              "    </tr>\n",
              "    <tr>\n",
              "      <th>68887</th>\n",
              "      <td>201802</td>\n",
              "      <td>4</td>\n",
              "      <td>0</td>\n",
              "      <td>12</td>\n",
              "      <td>61</td>\n",
              "      <td>-0.061639</td>\n",
              "      <td>0</td>\n",
              "      <td>1</td>\n",
              "      <td>3</td>\n",
              "      <td>1</td>\n",
              "      <td>PRESTAMO PERSONAL</td>\n",
              "    </tr>\n",
              "    <tr>\n",
              "      <th>68886</th>\n",
              "      <td>201802</td>\n",
              "      <td>4</td>\n",
              "      <td>1</td>\n",
              "      <td>12</td>\n",
              "      <td>33</td>\n",
              "      <td>-0.046355</td>\n",
              "      <td>0</td>\n",
              "      <td>1</td>\n",
              "      <td>0</td>\n",
              "      <td>1</td>\n",
              "      <td>PRESTAMO PERSONAL</td>\n",
              "    </tr>\n",
              "    <tr>\n",
              "      <th>1429752</th>\n",
              "      <td>201802</td>\n",
              "      <td>9</td>\n",
              "      <td>0</td>\n",
              "      <td>10</td>\n",
              "      <td>18</td>\n",
              "      <td>-0.050498</td>\n",
              "      <td>4</td>\n",
              "      <td>1</td>\n",
              "      <td>0</td>\n",
              "      <td>1</td>\n",
              "      <td>PRESTAMOS MICRO EMPRESA</td>\n",
              "    </tr>\n",
              "    <tr>\n",
              "      <th>269453</th>\n",
              "      <td>201802</td>\n",
              "      <td>14</td>\n",
              "      <td>0</td>\n",
              "      <td>12</td>\n",
              "      <td>61</td>\n",
              "      <td>-0.053633</td>\n",
              "      <td>0</td>\n",
              "      <td>1</td>\n",
              "      <td>0</td>\n",
              "      <td>1</td>\n",
              "      <td>PRESTAMO PERSONAL</td>\n",
              "    </tr>\n",
              "    <tr>\n",
              "      <th>1439959</th>\n",
              "      <td>201802</td>\n",
              "      <td>22</td>\n",
              "      <td>0</td>\n",
              "      <td>10</td>\n",
              "      <td>55</td>\n",
              "      <td>-0.047766</td>\n",
              "      <td>4</td>\n",
              "      <td>1</td>\n",
              "      <td>0</td>\n",
              "      <td>1</td>\n",
              "      <td>PRESTAMOS MICRO EMPRESA</td>\n",
              "    </tr>\n",
              "    <tr>\n",
              "      <th>1439968</th>\n",
              "      <td>201802</td>\n",
              "      <td>23</td>\n",
              "      <td>0</td>\n",
              "      <td>12</td>\n",
              "      <td>10</td>\n",
              "      <td>-0.031888</td>\n",
              "      <td>0</td>\n",
              "      <td>1</td>\n",
              "      <td>0</td>\n",
              "      <td>1</td>\n",
              "      <td>PRESTAMO PERSONAL</td>\n",
              "    </tr>\n",
              "    <tr>\n",
              "      <th>101174</th>\n",
              "      <td>201802</td>\n",
              "      <td>30</td>\n",
              "      <td>0</td>\n",
              "      <td>12</td>\n",
              "      <td>28</td>\n",
              "      <td>-0.038819</td>\n",
              "      <td>0</td>\n",
              "      <td>1</td>\n",
              "      <td>0</td>\n",
              "      <td>1</td>\n",
              "      <td>PRESTAMO PERSONAL</td>\n",
              "    </tr>\n",
              "    <tr>\n",
              "      <th>101171</th>\n",
              "      <td>201802</td>\n",
              "      <td>30</td>\n",
              "      <td>0</td>\n",
              "      <td>11</td>\n",
              "      <td>46</td>\n",
              "      <td>-0.068201</td>\n",
              "      <td>0</td>\n",
              "      <td>1</td>\n",
              "      <td>0</td>\n",
              "      <td>1</td>\n",
              "      <td>PRESTAMO PERSONAL</td>\n",
              "    </tr>\n",
              "    <tr>\n",
              "      <th>101167</th>\n",
              "      <td>201802</td>\n",
              "      <td>30</td>\n",
              "      <td>0</td>\n",
              "      <td>10</td>\n",
              "      <td>55</td>\n",
              "      <td>-0.044899</td>\n",
              "      <td>4</td>\n",
              "      <td>1</td>\n",
              "      <td>0</td>\n",
              "      <td>1</td>\n",
              "      <td>PRESTAMOS MICRO EMPRESA</td>\n",
              "    </tr>\n",
              "    <tr>\n",
              "      <th>107765</th>\n",
              "      <td>201802</td>\n",
              "      <td>33</td>\n",
              "      <td>0</td>\n",
              "      <td>10</td>\n",
              "      <td>57</td>\n",
              "      <td>-0.064897</td>\n",
              "      <td>4</td>\n",
              "      <td>1</td>\n",
              "      <td>0</td>\n",
              "      <td>1</td>\n",
              "      <td>PRESTAMOS MICRO EMPRESA</td>\n",
              "    </tr>\n",
              "    <tr>\n",
              "      <th>107764</th>\n",
              "      <td>201802</td>\n",
              "      <td>33</td>\n",
              "      <td>0</td>\n",
              "      <td>10</td>\n",
              "      <td>28</td>\n",
              "      <td>-0.055861</td>\n",
              "      <td>4</td>\n",
              "      <td>1</td>\n",
              "      <td>0</td>\n",
              "      <td>1</td>\n",
              "      <td>PRESTAMOS MICRO EMPRESA</td>\n",
              "    </tr>\n",
              "    <tr>\n",
              "      <th>107756</th>\n",
              "      <td>201802</td>\n",
              "      <td>33</td>\n",
              "      <td>12</td>\n",
              "      <td>12</td>\n",
              "      <td>33</td>\n",
              "      <td>-0.063990</td>\n",
              "      <td>0</td>\n",
              "      <td>1</td>\n",
              "      <td>1</td>\n",
              "      <td>1</td>\n",
              "      <td>PRESTAMO PERSONAL</td>\n",
              "    </tr>\n",
              "    <tr>\n",
              "      <th>218320</th>\n",
              "      <td>201802</td>\n",
              "      <td>36</td>\n",
              "      <td>0</td>\n",
              "      <td>12</td>\n",
              "      <td>11</td>\n",
              "      <td>-0.031697</td>\n",
              "      <td>0</td>\n",
              "      <td>1</td>\n",
              "      <td>0</td>\n",
              "      <td>1</td>\n",
              "      <td>PRESTAMO PERSONAL</td>\n",
              "    </tr>\n",
              "    <tr>\n",
              "      <th>218318</th>\n",
              "      <td>201802</td>\n",
              "      <td>36</td>\n",
              "      <td>0</td>\n",
              "      <td>12</td>\n",
              "      <td>17</td>\n",
              "      <td>0.009822</td>\n",
              "      <td>0</td>\n",
              "      <td>1</td>\n",
              "      <td>0</td>\n",
              "      <td>1</td>\n",
              "      <td>PRESTAMO PERSONAL</td>\n",
              "    </tr>\n",
              "  </tbody>\n",
              "</table>\n",
              "</div>"
            ],
            "text/plain": [
              "         codmes  key_value  ...  target             DES_PRODUCTO\n",
              "68877    201802          4  ...       1        PRESTAMO PERSONAL\n",
              "68887    201802          4  ...       1        PRESTAMO PERSONAL\n",
              "68886    201802          4  ...       1        PRESTAMO PERSONAL\n",
              "1429752  201802          9  ...       1  PRESTAMOS MICRO EMPRESA\n",
              "269453   201802         14  ...       1        PRESTAMO PERSONAL\n",
              "1439959  201802         22  ...       1  PRESTAMOS MICRO EMPRESA\n",
              "1439968  201802         23  ...       1        PRESTAMO PERSONAL\n",
              "101174   201802         30  ...       1        PRESTAMO PERSONAL\n",
              "101171   201802         30  ...       1        PRESTAMO PERSONAL\n",
              "101167   201802         30  ...       1  PRESTAMOS MICRO EMPRESA\n",
              "107765   201802         33  ...       1  PRESTAMOS MICRO EMPRESA\n",
              "107764   201802         33  ...       1  PRESTAMOS MICRO EMPRESA\n",
              "107756   201802         33  ...       1        PRESTAMO PERSONAL\n",
              "218320   201802         36  ...       1        PRESTAMO PERSONAL\n",
              "218318   201802         36  ...       1        PRESTAMO PERSONAL\n",
              "\n",
              "[15 rows x 11 columns]"
            ]
          },
          "metadata": {
            "tags": []
          },
          "execution_count": 43
        }
      ]
    },
    {
      "cell_type": "code",
      "metadata": {
        "id": "VqfYPCr25bIq",
        "colab": {
          "base_uri": "https://localhost:8080/",
          "height": 78
        },
        "outputId": "f2453881-9ebb-421f-9e9a-55bc398b89dc"
      },
      "source": [
        "df_se_train.loc[df_se_train[\"key_value\"] == 4]"
      ],
      "execution_count": null,
      "outputs": [
        {
          "output_type": "execute_result",
          "data": {
            "text/html": [
              "<div>\n",
              "<style scoped>\n",
              "    .dataframe tbody tr th:only-of-type {\n",
              "        vertical-align: middle;\n",
              "    }\n",
              "\n",
              "    .dataframe tbody tr th {\n",
              "        vertical-align: top;\n",
              "    }\n",
              "\n",
              "    .dataframe thead th {\n",
              "        text-align: right;\n",
              "    }\n",
              "</style>\n",
              "<table border=\"1\" class=\"dataframe\">\n",
              "  <thead>\n",
              "    <tr style=\"text-align: right;\">\n",
              "      <th></th>\n",
              "      <th>key_value</th>\n",
              "      <th>edad</th>\n",
              "      <th>sexo</th>\n",
              "      <th>est_cvl</th>\n",
              "      <th>sit_lab</th>\n",
              "      <th>cod_ocu</th>\n",
              "      <th>ctd_hijos</th>\n",
              "      <th>flg_sin_email</th>\n",
              "      <th>ctd_veh</th>\n",
              "      <th>cod_ubi</th>\n",
              "      <th>lgr_vot</th>\n",
              "      <th>prv</th>\n",
              "      <th>dto</th>\n",
              "      <th>rgn</th>\n",
              "      <th>tip_lvledu</th>\n",
              "    </tr>\n",
              "  </thead>\n",
              "  <tbody>\n",
              "    <tr>\n",
              "      <th>4</th>\n",
              "      <td>4</td>\n",
              "      <td>-1.438084</td>\n",
              "      <td>0</td>\n",
              "      <td>4</td>\n",
              "      <td>1</td>\n",
              "      <td>22</td>\n",
              "      <td>0.0</td>\n",
              "      <td>1</td>\n",
              "      <td>0.0</td>\n",
              "      <td>0.043424</td>\n",
              "      <td>18</td>\n",
              "      <td>111</td>\n",
              "      <td>391</td>\n",
              "      <td>3</td>\n",
              "      <td>0</td>\n",
              "    </tr>\n",
              "  </tbody>\n",
              "</table>\n",
              "</div>"
            ],
            "text/plain": [
              "   key_value      edad  sexo  est_cvl  ...  prv  dto  rgn  tip_lvledu\n",
              "4          4 -1.438084     0        4  ...  111  391    3           0\n",
              "\n",
              "[1 rows x 15 columns]"
            ]
          },
          "metadata": {
            "tags": []
          },
          "execution_count": 61
        }
      ]
    },
    {
      "cell_type": "code",
      "metadata": {
        "id": "56GsiALZ5bFt",
        "colab": {
          "base_uri": "https://localhost:8080/",
          "height": 78
        },
        "outputId": "7d1a5f8d-b583-4826-f543-6c32d0d3860f"
      },
      "source": [
        "df_se_test.loc[df_se_test[\"key_value\"] == 4]"
      ],
      "execution_count": null,
      "outputs": [
        {
          "output_type": "execute_result",
          "data": {
            "text/html": [
              "<div>\n",
              "<style scoped>\n",
              "    .dataframe tbody tr th:only-of-type {\n",
              "        vertical-align: middle;\n",
              "    }\n",
              "\n",
              "    .dataframe tbody tr th {\n",
              "        vertical-align: top;\n",
              "    }\n",
              "\n",
              "    .dataframe thead th {\n",
              "        text-align: right;\n",
              "    }\n",
              "</style>\n",
              "<table border=\"1\" class=\"dataframe\">\n",
              "  <thead>\n",
              "    <tr style=\"text-align: right;\">\n",
              "      <th></th>\n",
              "      <th>key_value</th>\n",
              "      <th>edad</th>\n",
              "      <th>sexo</th>\n",
              "      <th>est_cvl</th>\n",
              "      <th>sit_lab</th>\n",
              "      <th>cod_ocu</th>\n",
              "      <th>ctd_hijos</th>\n",
              "      <th>flg_sin_email</th>\n",
              "      <th>ctd_veh</th>\n",
              "      <th>cod_ubi</th>\n",
              "      <th>lgr_vot</th>\n",
              "      <th>prv</th>\n",
              "      <th>dto</th>\n",
              "      <th>rgn</th>\n",
              "      <th>tip_lvledu</th>\n",
              "    </tr>\n",
              "  </thead>\n",
              "  <tbody>\n",
              "    <tr>\n",
              "      <th>4</th>\n",
              "      <td>4</td>\n",
              "      <td>-1.135129</td>\n",
              "      <td>0</td>\n",
              "      <td>4</td>\n",
              "      <td>1</td>\n",
              "      <td>21</td>\n",
              "      <td>0.0</td>\n",
              "      <td>1</td>\n",
              "      <td>0.0</td>\n",
              "      <td>0.952782</td>\n",
              "      <td>28</td>\n",
              "      <td>175</td>\n",
              "      <td>1487</td>\n",
              "      <td>6</td>\n",
              "      <td>0</td>\n",
              "    </tr>\n",
              "  </tbody>\n",
              "</table>\n",
              "</div>"
            ],
            "text/plain": [
              "   key_value      edad  sexo  est_cvl  ...  prv   dto  rgn  tip_lvledu\n",
              "4          4 -1.135129     0        4  ...  175  1487    6           0\n",
              "\n",
              "[1 rows x 15 columns]"
            ]
          },
          "metadata": {
            "tags": []
          },
          "execution_count": 62
        }
      ]
    },
    {
      "cell_type": "code",
      "metadata": {
        "id": "EDLSpQ-A7SQD",
        "colab": {
          "base_uri": "https://localhost:8080/",
          "height": 48
        },
        "outputId": "ca60b342-3e0a-46b0-f9a4-cbce8283f893"
      },
      "source": [
        "df_se_test.loc[df_se_test[\"edad\"] == -1.135129]"
      ],
      "execution_count": null,
      "outputs": [
        {
          "output_type": "execute_result",
          "data": {
            "text/html": [
              "<div>\n",
              "<style scoped>\n",
              "    .dataframe tbody tr th:only-of-type {\n",
              "        vertical-align: middle;\n",
              "    }\n",
              "\n",
              "    .dataframe tbody tr th {\n",
              "        vertical-align: top;\n",
              "    }\n",
              "\n",
              "    .dataframe thead th {\n",
              "        text-align: right;\n",
              "    }\n",
              "</style>\n",
              "<table border=\"1\" class=\"dataframe\">\n",
              "  <thead>\n",
              "    <tr style=\"text-align: right;\">\n",
              "      <th></th>\n",
              "      <th>key_value</th>\n",
              "      <th>edad</th>\n",
              "      <th>sexo</th>\n",
              "      <th>est_cvl</th>\n",
              "      <th>sit_lab</th>\n",
              "      <th>cod_ocu</th>\n",
              "      <th>ctd_hijos</th>\n",
              "      <th>flg_sin_email</th>\n",
              "      <th>ctd_veh</th>\n",
              "      <th>cod_ubi</th>\n",
              "      <th>lgr_vot</th>\n",
              "      <th>prv</th>\n",
              "      <th>dto</th>\n",
              "      <th>rgn</th>\n",
              "      <th>tip_lvledu</th>\n",
              "    </tr>\n",
              "  </thead>\n",
              "  <tbody>\n",
              "  </tbody>\n",
              "</table>\n",
              "</div>"
            ],
            "text/plain": [
              "Empty DataFrame\n",
              "Columns: [key_value, edad, sexo, est_cvl, sit_lab, cod_ocu, ctd_hijos, flg_sin_email, ctd_veh, cod_ubi, lgr_vot, prv, dto, rgn, tip_lvledu]\n",
              "Index: []"
            ]
          },
          "metadata": {
            "tags": []
          },
          "execution_count": 68
        }
      ]
    },
    {
      "cell_type": "code",
      "metadata": {
        "id": "b9JzkFSl5mwN",
        "colab": {
          "base_uri": "https://localhost:8080/",
          "height": 318
        },
        "outputId": "5ddd158b-529c-4efb-e4a9-0efb24100d00"
      },
      "source": [
        "df_rcc_test.loc[(df_rcc_test[\"codmes\"] == 201803) & (df_rcc_test[\"key_value\"] == 30), :]"
      ],
      "execution_count": null,
      "outputs": [
        {
          "output_type": "execute_result",
          "data": {
            "text/html": [
              "<div>\n",
              "<style scoped>\n",
              "    .dataframe tbody tr th:only-of-type {\n",
              "        vertical-align: middle;\n",
              "    }\n",
              "\n",
              "    .dataframe tbody tr th {\n",
              "        vertical-align: top;\n",
              "    }\n",
              "\n",
              "    .dataframe thead th {\n",
              "        text-align: right;\n",
              "    }\n",
              "</style>\n",
              "<table border=\"1\" class=\"dataframe\">\n",
              "  <thead>\n",
              "    <tr style=\"text-align: right;\">\n",
              "      <th></th>\n",
              "      <th>codmes</th>\n",
              "      <th>key_value</th>\n",
              "      <th>condicion</th>\n",
              "      <th>tipo_credito</th>\n",
              "      <th>cod_instit_financiera</th>\n",
              "      <th>saldo</th>\n",
              "      <th>PRODUCTO</th>\n",
              "      <th>RIESGO_DIRECTO</th>\n",
              "      <th>COD_CLASIFICACION_DEUDOR</th>\n",
              "    </tr>\n",
              "  </thead>\n",
              "  <tbody>\n",
              "    <tr>\n",
              "      <th>24681444</th>\n",
              "      <td>201803</td>\n",
              "      <td>30</td>\n",
              "      <td>0</td>\n",
              "      <td>11</td>\n",
              "      <td>1.0</td>\n",
              "      <td>-0.059198</td>\n",
              "      <td>8.0</td>\n",
              "      <td>1</td>\n",
              "      <td>0</td>\n",
              "    </tr>\n",
              "    <tr>\n",
              "      <th>24681445</th>\n",
              "      <td>201803</td>\n",
              "      <td>30</td>\n",
              "      <td>0</td>\n",
              "      <td>12</td>\n",
              "      <td>1.0</td>\n",
              "      <td>-0.072881</td>\n",
              "      <td>NaN</td>\n",
              "      <td>-1</td>\n",
              "      <td>0</td>\n",
              "    </tr>\n",
              "    <tr>\n",
              "      <th>24681446</th>\n",
              "      <td>201803</td>\n",
              "      <td>30</td>\n",
              "      <td>0</td>\n",
              "      <td>12</td>\n",
              "      <td>1.0</td>\n",
              "      <td>-0.072310</td>\n",
              "      <td>1.0</td>\n",
              "      <td>-1</td>\n",
              "      <td>0</td>\n",
              "    </tr>\n",
              "    <tr>\n",
              "      <th>24681447</th>\n",
              "      <td>201803</td>\n",
              "      <td>30</td>\n",
              "      <td>0</td>\n",
              "      <td>11</td>\n",
              "      <td>1.0</td>\n",
              "      <td>-0.071985</td>\n",
              "      <td>1.0</td>\n",
              "      <td>-1</td>\n",
              "      <td>0</td>\n",
              "    </tr>\n",
              "    <tr>\n",
              "      <th>24681448</th>\n",
              "      <td>201803</td>\n",
              "      <td>30</td>\n",
              "      <td>0</td>\n",
              "      <td>11</td>\n",
              "      <td>1.0</td>\n",
              "      <td>0.020045</td>\n",
              "      <td>2.0</td>\n",
              "      <td>-1</td>\n",
              "      <td>0</td>\n",
              "    </tr>\n",
              "    <tr>\n",
              "      <th>24681449</th>\n",
              "      <td>201803</td>\n",
              "      <td>30</td>\n",
              "      <td>0</td>\n",
              "      <td>11</td>\n",
              "      <td>11.0</td>\n",
              "      <td>-0.041540</td>\n",
              "      <td>3.0</td>\n",
              "      <td>-1</td>\n",
              "      <td>0</td>\n",
              "    </tr>\n",
              "    <tr>\n",
              "      <th>24681450</th>\n",
              "      <td>201803</td>\n",
              "      <td>30</td>\n",
              "      <td>0</td>\n",
              "      <td>11</td>\n",
              "      <td>11.0</td>\n",
              "      <td>-0.041540</td>\n",
              "      <td>2.0</td>\n",
              "      <td>-1</td>\n",
              "      <td>0</td>\n",
              "    </tr>\n",
              "    <tr>\n",
              "      <th>24681451</th>\n",
              "      <td>201803</td>\n",
              "      <td>30</td>\n",
              "      <td>0</td>\n",
              "      <td>12</td>\n",
              "      <td>1.0</td>\n",
              "      <td>-0.044776</td>\n",
              "      <td>0.0</td>\n",
              "      <td>1</td>\n",
              "      <td>0</td>\n",
              "    </tr>\n",
              "    <tr>\n",
              "      <th>24681452</th>\n",
              "      <td>201803</td>\n",
              "      <td>30</td>\n",
              "      <td>0</td>\n",
              "      <td>11</td>\n",
              "      <td>1.0</td>\n",
              "      <td>0.006340</td>\n",
              "      <td>3.0</td>\n",
              "      <td>-1</td>\n",
              "      <td>0</td>\n",
              "    </tr>\n",
              "  </tbody>\n",
              "</table>\n",
              "</div>"
            ],
            "text/plain": [
              "          codmes  key_value  ...  RIESGO_DIRECTO  COD_CLASIFICACION_DEUDOR\n",
              "24681444  201803         30  ...               1                         0\n",
              "24681445  201803         30  ...              -1                         0\n",
              "24681446  201803         30  ...              -1                         0\n",
              "24681447  201803         30  ...              -1                         0\n",
              "24681448  201803         30  ...              -1                         0\n",
              "24681449  201803         30  ...              -1                         0\n",
              "24681450  201803         30  ...              -1                         0\n",
              "24681451  201803         30  ...               1                         0\n",
              "24681452  201803         30  ...              -1                         0\n",
              "\n",
              "[9 rows x 9 columns]"
            ]
          },
          "metadata": {
            "tags": []
          },
          "execution_count": 55
        }
      ]
    },
    {
      "cell_type": "code",
      "metadata": {
        "id": "fuSUTjxS5mt2"
      },
      "source": [
        ""
      ],
      "execution_count": null,
      "outputs": []
    },
    {
      "cell_type": "code",
      "metadata": {
        "id": "CR06ee-F5bCL"
      },
      "source": [
        ""
      ],
      "execution_count": null,
      "outputs": []
    },
    {
      "cell_type": "code",
      "metadata": {
        "id": "ASDZarwz4iXp",
        "colab": {
          "base_uri": "https://localhost:8080/"
        },
        "outputId": "290990d7-b162-4390-b65d-8d59a0eaf866"
      },
      "source": [
        "df_rcc_train_um.loc[(df_rcc_train_um[\"target\"] == 1) & (df_rcc_train_um[\"DES_PRODUCTO\"].isin([\"PRESTAMO PERSONAL\", \"PRESTAMOS MICRO EMPRESA\"])), \"key_value\"].nunique()"
      ],
      "execution_count": null,
      "outputs": [
        {
          "output_type": "execute_result",
          "data": {
            "text/plain": [
              "48172"
            ]
          },
          "metadata": {
            "tags": []
          },
          "execution_count": 44
        }
      ]
    },
    {
      "cell_type": "code",
      "metadata": {
        "id": "9Sj24Yko4uN_",
        "colab": {
          "base_uri": "https://localhost:8080/",
          "height": 407
        },
        "outputId": "4e24bbcf-3247-4c71-87f9-2b8b07827d8f"
      },
      "source": [
        "df_rcc_train_um.loc[(df_rcc_train_um[\"target\"] == 1) & (df_rcc_train_um[\"DES_PRODUCTO\"].isin([\"PRESTAMO PERSONAL\", \"PRESTAMOS MICRO EMPRESA\"])), :].groupby(\"cod_instit_financiera\", as_index=False).agg({\"key_value\": \"nunique\"}).sort_values(by=\"key_value\", ascending=False)"
      ],
      "execution_count": null,
      "outputs": [
        {
          "output_type": "execute_result",
          "data": {
            "text/html": [
              "<div>\n",
              "<style scoped>\n",
              "    .dataframe tbody tr th:only-of-type {\n",
              "        vertical-align: middle;\n",
              "    }\n",
              "\n",
              "    .dataframe tbody tr th {\n",
              "        vertical-align: top;\n",
              "    }\n",
              "\n",
              "    .dataframe thead th {\n",
              "        text-align: right;\n",
              "    }\n",
              "</style>\n",
              "<table border=\"1\" class=\"dataframe\">\n",
              "  <thead>\n",
              "    <tr style=\"text-align: right;\">\n",
              "      <th></th>\n",
              "      <th>cod_instit_financiera</th>\n",
              "      <th>key_value</th>\n",
              "    </tr>\n",
              "  </thead>\n",
              "  <tbody>\n",
              "    <tr>\n",
              "      <th>42</th>\n",
              "      <td>55</td>\n",
              "      <td>16112</td>\n",
              "    </tr>\n",
              "    <tr>\n",
              "      <th>22</th>\n",
              "      <td>28</td>\n",
              "      <td>10215</td>\n",
              "    </tr>\n",
              "    <tr>\n",
              "      <th>47</th>\n",
              "      <td>61</td>\n",
              "      <td>7135</td>\n",
              "    </tr>\n",
              "    <tr>\n",
              "      <th>7</th>\n",
              "      <td>10</td>\n",
              "      <td>6442</td>\n",
              "    </tr>\n",
              "    <tr>\n",
              "      <th>25</th>\n",
              "      <td>33</td>\n",
              "      <td>4855</td>\n",
              "    </tr>\n",
              "    <tr>\n",
              "      <th>...</th>\n",
              "      <td>...</td>\n",
              "      <td>...</td>\n",
              "    </tr>\n",
              "    <tr>\n",
              "      <th>51</th>\n",
              "      <td>68</td>\n",
              "      <td>2</td>\n",
              "    </tr>\n",
              "    <tr>\n",
              "      <th>39</th>\n",
              "      <td>49</td>\n",
              "      <td>1</td>\n",
              "    </tr>\n",
              "    <tr>\n",
              "      <th>52</th>\n",
              "      <td>70</td>\n",
              "      <td>1</td>\n",
              "    </tr>\n",
              "    <tr>\n",
              "      <th>54</th>\n",
              "      <td>79</td>\n",
              "      <td>1</td>\n",
              "    </tr>\n",
              "    <tr>\n",
              "      <th>58</th>\n",
              "      <td>89</td>\n",
              "      <td>1</td>\n",
              "    </tr>\n",
              "  </tbody>\n",
              "</table>\n",
              "<p>64 rows × 2 columns</p>\n",
              "</div>"
            ],
            "text/plain": [
              "    cod_instit_financiera  key_value\n",
              "42                     55      16112\n",
              "22                     28      10215\n",
              "47                     61       7135\n",
              "7                      10       6442\n",
              "25                     33       4855\n",
              "..                    ...        ...\n",
              "51                     68          2\n",
              "39                     49          1\n",
              "52                     70          1\n",
              "54                     79          1\n",
              "58                     89          1\n",
              "\n",
              "[64 rows x 2 columns]"
            ]
          },
          "metadata": {
            "tags": []
          },
          "execution_count": 46
        }
      ]
    },
    {
      "cell_type": "code",
      "metadata": {
        "id": "YNW7w_hb4GMU"
      },
      "source": [
        "48172"
      ],
      "execution_count": null,
      "outputs": []
    },
    {
      "cell_type": "code",
      "metadata": {
        "id": "Irx_yXMF4GH0"
      },
      "source": [
        "34, 1, 10, 28, 11, 37"
      ],
      "execution_count": null,
      "outputs": []
    },
    {
      "cell_type": "code",
      "metadata": {
        "id": "VWdUfGglqh1e",
        "colab": {
          "base_uri": "https://localhost:8080/",
          "height": 1000
        },
        "outputId": "b7a2ed8b-1089-42a0-e36e-b7641f220791"
      },
      "source": [
        "df_rcc_train_um.loc[(df_rcc_train_um[\"target\"] == 1)].groupby(\"DES_PRODUCTO\").agg({\"key_value\": \"nunique\"}).sort_values(by=\"key_value\", ascending=False)"
      ],
      "execution_count": null,
      "outputs": [
        {
          "output_type": "execute_result",
          "data": {
            "text/html": [
              "<div>\n",
              "<style scoped>\n",
              "    .dataframe tbody tr th:only-of-type {\n",
              "        vertical-align: middle;\n",
              "    }\n",
              "\n",
              "    .dataframe tbody tr th {\n",
              "        vertical-align: top;\n",
              "    }\n",
              "\n",
              "    .dataframe thead th {\n",
              "        text-align: right;\n",
              "    }\n",
              "</style>\n",
              "<table border=\"1\" class=\"dataframe\">\n",
              "  <thead>\n",
              "    <tr style=\"text-align: right;\">\n",
              "      <th></th>\n",
              "      <th>key_value</th>\n",
              "    </tr>\n",
              "    <tr>\n",
              "      <th>DES_PRODUCTO</th>\n",
              "      <th></th>\n",
              "    </tr>\n",
              "  </thead>\n",
              "  <tbody>\n",
              "    <tr>\n",
              "      <th>RENDIMIENTOS DEVENGADOS</th>\n",
              "      <td>52411</td>\n",
              "    </tr>\n",
              "    <tr>\n",
              "      <th>PRESTAMO PERSONAL</th>\n",
              "      <td>29983</td>\n",
              "    </tr>\n",
              "    <tr>\n",
              "      <th>PRESTAMOS MICRO EMPRESA</th>\n",
              "      <td>29090</td>\n",
              "    </tr>\n",
              "    <tr>\n",
              "      <th>PROVISIONES</th>\n",
              "      <td>27043</td>\n",
              "    </tr>\n",
              "    <tr>\n",
              "      <th>LINEA TOTAL TC</th>\n",
              "      <td>26379</td>\n",
              "    </tr>\n",
              "    <tr>\n",
              "      <th>LINEA TC NO UTILIZADA</th>\n",
              "      <td>23762</td>\n",
              "    </tr>\n",
              "    <tr>\n",
              "      <th>TARJETAS COMPRAS</th>\n",
              "      <td>22390</td>\n",
              "    </tr>\n",
              "    <tr>\n",
              "      <th>GARANTIA NO PREFERIDA - AVALES FIANZAS</th>\n",
              "      <td>22261</td>\n",
              "    </tr>\n",
              "    <tr>\n",
              "      <th>OTRAS GARANTIAS NO PREFERIDAS</th>\n",
              "      <td>21509</td>\n",
              "    </tr>\n",
              "    <tr>\n",
              "      <th>TARJETAS EFECTIVO</th>\n",
              "      <td>11173</td>\n",
              "    </tr>\n",
              "    <tr>\n",
              "      <th>LINEA PRESTAMOS NO UTILIZADA</th>\n",
              "      <td>10524</td>\n",
              "    </tr>\n",
              "    <tr>\n",
              "      <th>CREDITOS CASTIGOS</th>\n",
              "      <td>9969</td>\n",
              "    </tr>\n",
              "    <tr>\n",
              "      <th>TARJETAS OTROS CONCEPTOS</th>\n",
              "      <td>5567</td>\n",
              "    </tr>\n",
              "    <tr>\n",
              "      <th>RESTO RD</th>\n",
              "      <td>3888</td>\n",
              "    </tr>\n",
              "    <tr>\n",
              "      <th>CREDITOS NO DESEMBOLSADOS</th>\n",
              "      <td>2682</td>\n",
              "    </tr>\n",
              "    <tr>\n",
              "      <th>OTRAS GARANTIAS PREFERIDAS</th>\n",
              "      <td>2051</td>\n",
              "    </tr>\n",
              "    <tr>\n",
              "      <th>GARANTIA HIPOTECARIA</th>\n",
              "      <td>549</td>\n",
              "    </tr>\n",
              "    <tr>\n",
              "      <th>PRESTAMO CONVENIO</th>\n",
              "      <td>529</td>\n",
              "    </tr>\n",
              "    <tr>\n",
              "      <th>VEHICULAR</th>\n",
              "      <td>521</td>\n",
              "    </tr>\n",
              "    <tr>\n",
              "      <th>HIPOTECARIO REGULAR</th>\n",
              "      <td>303</td>\n",
              "    </tr>\n",
              "    <tr>\n",
              "      <th>REFINANCIADOS</th>\n",
              "      <td>275</td>\n",
              "    </tr>\n",
              "    <tr>\n",
              "      <th>TARJETAS SIN DEFINIR</th>\n",
              "      <td>253</td>\n",
              "    </tr>\n",
              "    <tr>\n",
              "      <th>SOBREGIRO</th>\n",
              "      <td>210</td>\n",
              "    </tr>\n",
              "    <tr>\n",
              "      <th>HIPOTECARIO MIVIVIENDA</th>\n",
              "      <td>202</td>\n",
              "    </tr>\n",
              "    <tr>\n",
              "      <th>CREDITO CASTIGADOS SIENDO AMORTIZADOS</th>\n",
              "      <td>96</td>\n",
              "    </tr>\n",
              "    <tr>\n",
              "      <th>TARJETA_EMP EFECTIVO</th>\n",
              "      <td>32</td>\n",
              "    </tr>\n",
              "    <tr>\n",
              "      <th>TARJETA_EMP COMPRA</th>\n",
              "      <td>28</td>\n",
              "    </tr>\n",
              "    <tr>\n",
              "      <th>OTROS CREDITOS</th>\n",
              "      <td>6</td>\n",
              "    </tr>\n",
              "    <tr>\n",
              "      <th>LINEA CTA CTE NO UTILIZADA</th>\n",
              "      <td>5</td>\n",
              "    </tr>\n",
              "    <tr>\n",
              "      <th>CARTAS FIANZAS OTORGADAS</th>\n",
              "      <td>4</td>\n",
              "    </tr>\n",
              "    <tr>\n",
              "      <th>LEASING</th>\n",
              "      <td>1</td>\n",
              "    </tr>\n",
              "    <tr>\n",
              "      <th>TARJETA_EMP OTROS CONCEPTOS</th>\n",
              "      <td>1</td>\n",
              "    </tr>\n",
              "    <tr>\n",
              "      <th>AVANCE</th>\n",
              "      <td>1</td>\n",
              "    </tr>\n",
              "  </tbody>\n",
              "</table>\n",
              "</div>"
            ],
            "text/plain": [
              "                                        key_value\n",
              "DES_PRODUCTO                                     \n",
              "RENDIMIENTOS DEVENGADOS                     52411\n",
              "PRESTAMO PERSONAL                           29983\n",
              "PRESTAMOS MICRO EMPRESA                     29090\n",
              "PROVISIONES                                 27043\n",
              "LINEA TOTAL TC                              26379\n",
              "LINEA TC NO UTILIZADA                       23762\n",
              "TARJETAS COMPRAS                            22390\n",
              "GARANTIA NO PREFERIDA - AVALES FIANZAS      22261\n",
              "OTRAS GARANTIAS NO PREFERIDAS               21509\n",
              "TARJETAS EFECTIVO                           11173\n",
              "LINEA PRESTAMOS NO UTILIZADA                10524\n",
              "CREDITOS CASTIGOS                            9969\n",
              "TARJETAS OTROS CONCEPTOS                     5567\n",
              "RESTO RD                                     3888\n",
              "CREDITOS NO DESEMBOLSADOS                    2682\n",
              "OTRAS GARANTIAS PREFERIDAS                   2051\n",
              "GARANTIA HIPOTECARIA                          549\n",
              "PRESTAMO CONVENIO                             529\n",
              "VEHICULAR                                     521\n",
              "HIPOTECARIO REGULAR                           303\n",
              "REFINANCIADOS                                 275\n",
              "TARJETAS SIN DEFINIR                          253\n",
              "SOBREGIRO                                     210\n",
              "HIPOTECARIO MIVIVIENDA                        202\n",
              "CREDITO CASTIGADOS SIENDO AMORTIZADOS          96\n",
              "TARJETA_EMP EFECTIVO                           32\n",
              "TARJETA_EMP COMPRA                             28\n",
              "OTROS CREDITOS                                  6\n",
              "LINEA CTA CTE NO UTILIZADA                      5\n",
              "CARTAS FIANZAS OTORGADAS                        4\n",
              "LEASING                                         1\n",
              "TARJETA_EMP OTROS CONCEPTOS                     1\n",
              "AVANCE                                          1"
            ]
          },
          "metadata": {
            "tags": []
          },
          "execution_count": 38
        }
      ]
    },
    {
      "cell_type": "code",
      "metadata": {
        "id": "GjuQqMfq3jQH"
      },
      "source": [
        "#df_rcc_train_um.groupby(\"DES_PRODUCTO\").agg({\"key_value\": \"nunique\", \"target\": \"mean\"}).sort_values(by=\"key_value\", ascending=False)"
      ],
      "execution_count": null,
      "outputs": []
    },
    {
      "cell_type": "code",
      "metadata": {
        "id": "XvzBKg6pqhvj"
      },
      "source": [
        ""
      ],
      "execution_count": null,
      "outputs": []
    },
    {
      "cell_type": "code",
      "metadata": {
        "id": "V3FTnhzuvXur"
      },
      "source": [
        "df_rcc_train.loc[df_rcc_train[\"codmes\"] == \"201802\"]"
      ],
      "execution_count": null,
      "outputs": []
    },
    {
      "cell_type": "code",
      "metadata": {
        "id": "SqBLRBhLt5GH",
        "colab": {
          "base_uri": "https://localhost:8080/",
          "height": 288
        },
        "outputId": "fd64f208-7f30-41e4-fccc-773421ee83b0"
      },
      "source": [
        "df_rcc_test.loc[df_rcc_test[\"cod_instit_financiera\"].isin([34,1,10,28,11,37])].groupby([\"codmes\", \"cod_instit_financiera\"], as_index=False).agg({\"key_value\": [\"count\", \"nunique\"]}).sort_values(by=[\"codmes\",(\"key_value\", \"nunique\")], ascending=[False, False]).head(7)"
      ],
      "execution_count": null,
      "outputs": [
        {
          "output_type": "execute_result",
          "data": {
            "text/html": [
              "<div>\n",
              "<style scoped>\n",
              "    .dataframe tbody tr th:only-of-type {\n",
              "        vertical-align: middle;\n",
              "    }\n",
              "\n",
              "    .dataframe tbody tr th {\n",
              "        vertical-align: top;\n",
              "    }\n",
              "\n",
              "    .dataframe thead tr th {\n",
              "        text-align: left;\n",
              "    }\n",
              "</style>\n",
              "<table border=\"1\" class=\"dataframe\">\n",
              "  <thead>\n",
              "    <tr>\n",
              "      <th></th>\n",
              "      <th>codmes</th>\n",
              "      <th>cod_instit_financiera</th>\n",
              "      <th colspan=\"2\" halign=\"left\">key_value</th>\n",
              "    </tr>\n",
              "    <tr>\n",
              "      <th></th>\n",
              "      <th></th>\n",
              "      <th></th>\n",
              "      <th>count</th>\n",
              "      <th>nunique</th>\n",
              "    </tr>\n",
              "  </thead>\n",
              "  <tbody>\n",
              "    <tr>\n",
              "      <th>69</th>\n",
              "      <td>201902</td>\n",
              "      <td>28.0</td>\n",
              "      <td>317915</td>\n",
              "      <td>86295</td>\n",
              "    </tr>\n",
              "    <tr>\n",
              "      <th>67</th>\n",
              "      <td>201902</td>\n",
              "      <td>10.0</td>\n",
              "      <td>304653</td>\n",
              "      <td>81187</td>\n",
              "    </tr>\n",
              "    <tr>\n",
              "      <th>70</th>\n",
              "      <td>201902</td>\n",
              "      <td>34.0</td>\n",
              "      <td>349482</td>\n",
              "      <td>76169</td>\n",
              "    </tr>\n",
              "    <tr>\n",
              "      <th>66</th>\n",
              "      <td>201902</td>\n",
              "      <td>1.0</td>\n",
              "      <td>320257</td>\n",
              "      <td>69214</td>\n",
              "    </tr>\n",
              "    <tr>\n",
              "      <th>71</th>\n",
              "      <td>201902</td>\n",
              "      <td>37.0</td>\n",
              "      <td>255602</td>\n",
              "      <td>67246</td>\n",
              "    </tr>\n",
              "    <tr>\n",
              "      <th>68</th>\n",
              "      <td>201902</td>\n",
              "      <td>11.0</td>\n",
              "      <td>238714</td>\n",
              "      <td>57714</td>\n",
              "    </tr>\n",
              "    <tr>\n",
              "      <th>64</th>\n",
              "      <td>201901</td>\n",
              "      <td>34.0</td>\n",
              "      <td>327874</td>\n",
              "      <td>74382</td>\n",
              "    </tr>\n",
              "  </tbody>\n",
              "</table>\n",
              "</div>"
            ],
            "text/plain": [
              "    codmes cod_instit_financiera key_value        \n",
              "                                     count nunique\n",
              "69  201902                  28.0    317915   86295\n",
              "67  201902                  10.0    304653   81187\n",
              "70  201902                  34.0    349482   76169\n",
              "66  201902                   1.0    320257   69214\n",
              "71  201902                  37.0    255602   67246\n",
              "68  201902                  11.0    238714   57714\n",
              "64  201901                  34.0    327874   74382"
            ]
          },
          "metadata": {
            "tags": []
          },
          "execution_count": 16
        }
      ]
    },
    {
      "cell_type": "code",
      "metadata": {
        "id": "uFZVyDdjr4ZX",
        "colab": {
          "base_uri": "https://localhost:8080/"
        },
        "outputId": "1bc2f362-63ea-4670-bdb9-508cc382cc22"
      },
      "source": [
        "df_rcc_test.loc[df_rcc_test[\"codmes\"] == 201902, \"key_value\"].nunique()"
      ],
      "execution_count": null,
      "outputs": [
        {
          "output_type": "execute_result",
          "data": {
            "text/plain": [
              "396666"
            ]
          },
          "metadata": {
            "tags": []
          },
          "execution_count": 17
        }
      ]
    },
    {
      "cell_type": "code",
      "metadata": {
        "id": "ZWJLrpn-sU3X",
        "colab": {
          "base_uri": "https://localhost:8080/"
        },
        "outputId": "f9a57b52-7c2f-46e9-dde9-11c17698093b"
      },
      "source": [
        "df_y_test[\"key_value\"].nunique()"
      ],
      "execution_count": null,
      "outputs": [
        {
          "output_type": "execute_result",
          "data": {
            "text/plain": [
              "396666"
            ]
          },
          "metadata": {
            "tags": []
          },
          "execution_count": 18
        }
      ]
    },
    {
      "cell_type": "code",
      "metadata": {
        "id": "UwCbY5Z2vTND"
      },
      "source": [
        ""
      ],
      "execution_count": null,
      "outputs": []
    },
    {
      "cell_type": "code",
      "metadata": {
        "id": "l0auYP4zvTJ8"
      },
      "source": [
        ""
      ],
      "execution_count": null,
      "outputs": []
    },
    {
      "cell_type": "code",
      "metadata": {
        "id": "g6tz5ITKvTGT"
      },
      "source": [
        ""
      ],
      "execution_count": null,
      "outputs": []
    },
    {
      "cell_type": "code",
      "metadata": {
        "id": "6UegwcKjsUr0"
      },
      "source": [
        ""
      ],
      "execution_count": null,
      "outputs": []
    },
    {
      "cell_type": "code",
      "metadata": {
        "id": "EN4Prn8Ekyp9",
        "colab": {
          "base_uri": "https://localhost:8080/",
          "height": 438
        },
        "outputId": "c2a41b94-2f18-4f12-e8f5-8db0dd76f650"
      },
      "source": [
        "df_rcc_test.groupby(\"codmes\").agg({\"key_value\": \"count\"})"
      ],
      "execution_count": null,
      "outputs": [
        {
          "output_type": "execute_result",
          "data": {
            "text/html": [
              "<div>\n",
              "<style scoped>\n",
              "    .dataframe tbody tr th:only-of-type {\n",
              "        vertical-align: middle;\n",
              "    }\n",
              "\n",
              "    .dataframe tbody tr th {\n",
              "        vertical-align: top;\n",
              "    }\n",
              "\n",
              "    .dataframe thead th {\n",
              "        text-align: right;\n",
              "    }\n",
              "</style>\n",
              "<table border=\"1\" class=\"dataframe\">\n",
              "  <thead>\n",
              "    <tr style=\"text-align: right;\">\n",
              "      <th></th>\n",
              "      <th>key_value</th>\n",
              "    </tr>\n",
              "    <tr>\n",
              "      <th>codmes</th>\n",
              "      <th></th>\n",
              "    </tr>\n",
              "  </thead>\n",
              "  <tbody>\n",
              "    <tr>\n",
              "      <th>201803</th>\n",
              "      <td>2572175</td>\n",
              "    </tr>\n",
              "    <tr>\n",
              "      <th>201804</th>\n",
              "      <td>2610643</td>\n",
              "    </tr>\n",
              "    <tr>\n",
              "      <th>201805</th>\n",
              "      <td>2671249</td>\n",
              "    </tr>\n",
              "    <tr>\n",
              "      <th>201806</th>\n",
              "      <td>2725859</td>\n",
              "    </tr>\n",
              "    <tr>\n",
              "      <th>201807</th>\n",
              "      <td>2760481</td>\n",
              "    </tr>\n",
              "    <tr>\n",
              "      <th>201808</th>\n",
              "      <td>2803200</td>\n",
              "    </tr>\n",
              "    <tr>\n",
              "      <th>201809</th>\n",
              "      <td>2850795</td>\n",
              "    </tr>\n",
              "    <tr>\n",
              "      <th>201810</th>\n",
              "      <td>2873164</td>\n",
              "    </tr>\n",
              "    <tr>\n",
              "      <th>201811</th>\n",
              "      <td>2927965</td>\n",
              "    </tr>\n",
              "    <tr>\n",
              "      <th>201812</th>\n",
              "      <td>2913266</td>\n",
              "    </tr>\n",
              "    <tr>\n",
              "      <th>201901</th>\n",
              "      <td>2974453</td>\n",
              "    </tr>\n",
              "    <tr>\n",
              "      <th>201902</th>\n",
              "      <td>3668504</td>\n",
              "    </tr>\n",
              "  </tbody>\n",
              "</table>\n",
              "</div>"
            ],
            "text/plain": [
              "        key_value\n",
              "codmes           \n",
              "201803    2572175\n",
              "201804    2610643\n",
              "201805    2671249\n",
              "201806    2725859\n",
              "201807    2760481\n",
              "201808    2803200\n",
              "201809    2850795\n",
              "201810    2873164\n",
              "201811    2927965\n",
              "201812    2913266\n",
              "201901    2974453\n",
              "201902    3668504"
            ]
          },
          "metadata": {
            "tags": []
          },
          "execution_count": 15
        }
      ]
    },
    {
      "cell_type": "code",
      "metadata": {
        "id": "0GP_gAQdwdHp",
        "colab": {
          "base_uri": "https://localhost:8080/",
          "height": 427
        },
        "outputId": "9884a37b-b3f5-40ad-80c4-fec2663a468f"
      },
      "source": [
        "df_rcc_test.loc[df_rcc_test[\"codmes\"] == 201803]"
      ],
      "execution_count": null,
      "outputs": [
        {
          "output_type": "execute_result",
          "data": {
            "text/html": [
              "<div>\n",
              "<style scoped>\n",
              "    .dataframe tbody tr th:only-of-type {\n",
              "        vertical-align: middle;\n",
              "    }\n",
              "\n",
              "    .dataframe tbody tr th {\n",
              "        vertical-align: top;\n",
              "    }\n",
              "\n",
              "    .dataframe thead th {\n",
              "        text-align: right;\n",
              "    }\n",
              "</style>\n",
              "<table border=\"1\" class=\"dataframe\">\n",
              "  <thead>\n",
              "    <tr style=\"text-align: right;\">\n",
              "      <th></th>\n",
              "      <th>codmes</th>\n",
              "      <th>key_value</th>\n",
              "      <th>condicion</th>\n",
              "      <th>tipo_credito</th>\n",
              "      <th>cod_instit_financiera</th>\n",
              "      <th>saldo</th>\n",
              "      <th>PRODUCTO</th>\n",
              "      <th>RIESGO_DIRECTO</th>\n",
              "      <th>COD_CLASIFICACION_DEUDOR</th>\n",
              "    </tr>\n",
              "  </thead>\n",
              "  <tbody>\n",
              "    <tr>\n",
              "      <th>148465</th>\n",
              "      <td>201803</td>\n",
              "      <td>43580</td>\n",
              "      <td>0</td>\n",
              "      <td>11</td>\n",
              "      <td>34.0</td>\n",
              "      <td>-0.059892</td>\n",
              "      <td>8.0</td>\n",
              "      <td>1</td>\n",
              "      <td>0</td>\n",
              "    </tr>\n",
              "    <tr>\n",
              "      <th>148466</th>\n",
              "      <td>201803</td>\n",
              "      <td>43580</td>\n",
              "      <td>0</td>\n",
              "      <td>11</td>\n",
              "      <td>37.0</td>\n",
              "      <td>-0.070250</td>\n",
              "      <td>11.0</td>\n",
              "      <td>1</td>\n",
              "      <td>0</td>\n",
              "    </tr>\n",
              "    <tr>\n",
              "      <th>148467</th>\n",
              "      <td>201803</td>\n",
              "      <td>43580</td>\n",
              "      <td>0</td>\n",
              "      <td>11</td>\n",
              "      <td>3.0</td>\n",
              "      <td>-0.003951</td>\n",
              "      <td>11.0</td>\n",
              "      <td>1</td>\n",
              "      <td>0</td>\n",
              "    </tr>\n",
              "    <tr>\n",
              "      <th>148468</th>\n",
              "      <td>201803</td>\n",
              "      <td>43580</td>\n",
              "      <td>0</td>\n",
              "      <td>11</td>\n",
              "      <td>3.0</td>\n",
              "      <td>-0.067596</td>\n",
              "      <td>8.0</td>\n",
              "      <td>1</td>\n",
              "      <td>0</td>\n",
              "    </tr>\n",
              "    <tr>\n",
              "      <th>148469</th>\n",
              "      <td>201803</td>\n",
              "      <td>43580</td>\n",
              "      <td>0</td>\n",
              "      <td>11</td>\n",
              "      <td>37.0</td>\n",
              "      <td>-0.051281</td>\n",
              "      <td>8.0</td>\n",
              "      <td>1</td>\n",
              "      <td>0</td>\n",
              "    </tr>\n",
              "    <tr>\n",
              "      <th>...</th>\n",
              "      <td>...</td>\n",
              "      <td>...</td>\n",
              "      <td>...</td>\n",
              "      <td>...</td>\n",
              "      <td>...</td>\n",
              "      <td>...</td>\n",
              "      <td>...</td>\n",
              "      <td>...</td>\n",
              "      <td>...</td>\n",
              "    </tr>\n",
              "    <tr>\n",
              "      <th>34334468</th>\n",
              "      <td>201803</td>\n",
              "      <td>384528</td>\n",
              "      <td>0</td>\n",
              "      <td>10</td>\n",
              "      <td>57.0</td>\n",
              "      <td>0.570179</td>\n",
              "      <td>4.0</td>\n",
              "      <td>1</td>\n",
              "      <td>0</td>\n",
              "    </tr>\n",
              "    <tr>\n",
              "      <th>34334469</th>\n",
              "      <td>201803</td>\n",
              "      <td>384528</td>\n",
              "      <td>0</td>\n",
              "      <td>10</td>\n",
              "      <td>17.0</td>\n",
              "      <td>0.083288</td>\n",
              "      <td>4.0</td>\n",
              "      <td>1</td>\n",
              "      <td>0</td>\n",
              "    </tr>\n",
              "    <tr>\n",
              "      <th>34334605</th>\n",
              "      <td>201803</td>\n",
              "      <td>381511</td>\n",
              "      <td>0</td>\n",
              "      <td>12</td>\n",
              "      <td>8.0</td>\n",
              "      <td>-0.072545</td>\n",
              "      <td>6.0</td>\n",
              "      <td>-1</td>\n",
              "      <td>0</td>\n",
              "    </tr>\n",
              "    <tr>\n",
              "      <th>34334606</th>\n",
              "      <td>201803</td>\n",
              "      <td>381511</td>\n",
              "      <td>0</td>\n",
              "      <td>12</td>\n",
              "      <td>8.0</td>\n",
              "      <td>-0.072679</td>\n",
              "      <td>1.0</td>\n",
              "      <td>-1</td>\n",
              "      <td>0</td>\n",
              "    </tr>\n",
              "    <tr>\n",
              "      <th>34334607</th>\n",
              "      <td>201803</td>\n",
              "      <td>381511</td>\n",
              "      <td>0</td>\n",
              "      <td>12</td>\n",
              "      <td>8.0</td>\n",
              "      <td>-0.038080</td>\n",
              "      <td>0.0</td>\n",
              "      <td>1</td>\n",
              "      <td>0</td>\n",
              "    </tr>\n",
              "  </tbody>\n",
              "</table>\n",
              "<p>2572175 rows × 9 columns</p>\n",
              "</div>"
            ],
            "text/plain": [
              "          codmes  key_value  ...  RIESGO_DIRECTO  COD_CLASIFICACION_DEUDOR\n",
              "148465    201803      43580  ...               1                         0\n",
              "148466    201803      43580  ...               1                         0\n",
              "148467    201803      43580  ...               1                         0\n",
              "148468    201803      43580  ...               1                         0\n",
              "148469    201803      43580  ...               1                         0\n",
              "...          ...        ...  ...             ...                       ...\n",
              "34334468  201803     384528  ...               1                         0\n",
              "34334469  201803     384528  ...               1                         0\n",
              "34334605  201803     381511  ...              -1                         0\n",
              "34334606  201803     381511  ...              -1                         0\n",
              "34334607  201803     381511  ...               1                         0\n",
              "\n",
              "[2572175 rows x 9 columns]"
            ]
          },
          "metadata": {
            "tags": []
          },
          "execution_count": 22
        }
      ]
    },
    {
      "cell_type": "code",
      "metadata": {
        "id": "9L2HsTMwwdE7",
        "colab": {
          "base_uri": "https://localhost:8080/",
          "height": 218
        },
        "outputId": "279b6728-4c13-4f10-f397-084f64ca2d4f"
      },
      "source": [
        "df_se_test.head()"
      ],
      "execution_count": null,
      "outputs": [
        {
          "output_type": "execute_result",
          "data": {
            "text/html": [
              "<div>\n",
              "<style scoped>\n",
              "    .dataframe tbody tr th:only-of-type {\n",
              "        vertical-align: middle;\n",
              "    }\n",
              "\n",
              "    .dataframe tbody tr th {\n",
              "        vertical-align: top;\n",
              "    }\n",
              "\n",
              "    .dataframe thead th {\n",
              "        text-align: right;\n",
              "    }\n",
              "</style>\n",
              "<table border=\"1\" class=\"dataframe\">\n",
              "  <thead>\n",
              "    <tr style=\"text-align: right;\">\n",
              "      <th></th>\n",
              "      <th>key_value</th>\n",
              "      <th>edad</th>\n",
              "      <th>sexo</th>\n",
              "      <th>est_cvl</th>\n",
              "      <th>sit_lab</th>\n",
              "      <th>cod_ocu</th>\n",
              "      <th>ctd_hijos</th>\n",
              "      <th>flg_sin_email</th>\n",
              "      <th>ctd_veh</th>\n",
              "      <th>cod_ubi</th>\n",
              "      <th>lgr_vot</th>\n",
              "      <th>prv</th>\n",
              "      <th>dto</th>\n",
              "      <th>rgn</th>\n",
              "      <th>tip_lvledu</th>\n",
              "    </tr>\n",
              "  </thead>\n",
              "  <tbody>\n",
              "    <tr>\n",
              "      <th>0</th>\n",
              "      <td>0</td>\n",
              "      <td>-0.983651</td>\n",
              "      <td>1</td>\n",
              "      <td>4</td>\n",
              "      <td>2</td>\n",
              "      <td>22</td>\n",
              "      <td>0.0</td>\n",
              "      <td>1</td>\n",
              "      <td>0.0</td>\n",
              "      <td>-0.070167</td>\n",
              "      <td>17</td>\n",
              "      <td>47</td>\n",
              "      <td>687</td>\n",
              "      <td>4</td>\n",
              "      <td>0</td>\n",
              "    </tr>\n",
              "    <tr>\n",
              "      <th>1</th>\n",
              "      <td>1</td>\n",
              "      <td>0.000953</td>\n",
              "      <td>1</td>\n",
              "      <td>4</td>\n",
              "      <td>1</td>\n",
              "      <td>22</td>\n",
              "      <td>0.0</td>\n",
              "      <td>1</td>\n",
              "      <td>1.0</td>\n",
              "      <td>-0.738566</td>\n",
              "      <td>10</td>\n",
              "      <td>186</td>\n",
              "      <td>849</td>\n",
              "      <td>6</td>\n",
              "      <td>0</td>\n",
              "    </tr>\n",
              "    <tr>\n",
              "      <th>2</th>\n",
              "      <td>2</td>\n",
              "      <td>0.531124</td>\n",
              "      <td>0</td>\n",
              "      <td>4</td>\n",
              "      <td>1</td>\n",
              "      <td>22</td>\n",
              "      <td>0.0</td>\n",
              "      <td>1</td>\n",
              "      <td>0.0</td>\n",
              "      <td>-0.297248</td>\n",
              "      <td>15</td>\n",
              "      <td>84</td>\n",
              "      <td>1405</td>\n",
              "      <td>1</td>\n",
              "      <td>7</td>\n",
              "    </tr>\n",
              "    <tr>\n",
              "      <th>3</th>\n",
              "      <td>3</td>\n",
              "      <td>-1.135129</td>\n",
              "      <td>0</td>\n",
              "      <td>4</td>\n",
              "      <td>1</td>\n",
              "      <td>22</td>\n",
              "      <td>0.0</td>\n",
              "      <td>1</td>\n",
              "      <td>0.0</td>\n",
              "      <td>-1.203435</td>\n",
              "      <td>4</td>\n",
              "      <td>9</td>\n",
              "      <td>977</td>\n",
              "      <td>6</td>\n",
              "      <td>7</td>\n",
              "    </tr>\n",
              "    <tr>\n",
              "      <th>4</th>\n",
              "      <td>4</td>\n",
              "      <td>-1.438084</td>\n",
              "      <td>0</td>\n",
              "      <td>4</td>\n",
              "      <td>1</td>\n",
              "      <td>22</td>\n",
              "      <td>0.0</td>\n",
              "      <td>1</td>\n",
              "      <td>0.0</td>\n",
              "      <td>0.043424</td>\n",
              "      <td>18</td>\n",
              "      <td>111</td>\n",
              "      <td>391</td>\n",
              "      <td>3</td>\n",
              "      <td>0</td>\n",
              "    </tr>\n",
              "  </tbody>\n",
              "</table>\n",
              "</div>"
            ],
            "text/plain": [
              "   key_value      edad  sexo  est_cvl  ...  prv   dto  rgn  tip_lvledu\n",
              "0          0 -0.983651     1        4  ...   47   687    4           0\n",
              "1          1  0.000953     1        4  ...  186   849    6           0\n",
              "2          2  0.531124     0        4  ...   84  1405    1           7\n",
              "3          3 -1.135129     0        4  ...    9   977    6           7\n",
              "4          4 -1.438084     0        4  ...  111   391    3           0\n",
              "\n",
              "[5 rows x 15 columns]"
            ]
          },
          "metadata": {
            "tags": []
          },
          "execution_count": 25
        }
      ]
    },
    {
      "cell_type": "code",
      "metadata": {
        "id": "oUJ1XC-RwdCg",
        "colab": {
          "base_uri": "https://localhost:8080/",
          "height": 218
        },
        "outputId": "80e6dbb0-cf3d-4f0f-9981-7ecc67cfa6ff"
      },
      "source": [
        "df_se_train.head()"
      ],
      "execution_count": null,
      "outputs": [
        {
          "output_type": "execute_result",
          "data": {
            "text/html": [
              "<div>\n",
              "<style scoped>\n",
              "    .dataframe tbody tr th:only-of-type {\n",
              "        vertical-align: middle;\n",
              "    }\n",
              "\n",
              "    .dataframe tbody tr th {\n",
              "        vertical-align: top;\n",
              "    }\n",
              "\n",
              "    .dataframe thead th {\n",
              "        text-align: right;\n",
              "    }\n",
              "</style>\n",
              "<table border=\"1\" class=\"dataframe\">\n",
              "  <thead>\n",
              "    <tr style=\"text-align: right;\">\n",
              "      <th></th>\n",
              "      <th>key_value</th>\n",
              "      <th>edad</th>\n",
              "      <th>sexo</th>\n",
              "      <th>est_cvl</th>\n",
              "      <th>sit_lab</th>\n",
              "      <th>cod_ocu</th>\n",
              "      <th>ctd_hijos</th>\n",
              "      <th>flg_sin_email</th>\n",
              "      <th>ctd_veh</th>\n",
              "      <th>cod_ubi</th>\n",
              "      <th>lgr_vot</th>\n",
              "      <th>prv</th>\n",
              "      <th>dto</th>\n",
              "      <th>rgn</th>\n",
              "      <th>tip_lvledu</th>\n",
              "    </tr>\n",
              "  </thead>\n",
              "  <tbody>\n",
              "    <tr>\n",
              "      <th>0</th>\n",
              "      <td>0</td>\n",
              "      <td>-0.983651</td>\n",
              "      <td>1</td>\n",
              "      <td>4</td>\n",
              "      <td>2</td>\n",
              "      <td>22</td>\n",
              "      <td>0.0</td>\n",
              "      <td>1</td>\n",
              "      <td>0.0</td>\n",
              "      <td>-0.070167</td>\n",
              "      <td>17</td>\n",
              "      <td>47</td>\n",
              "      <td>687</td>\n",
              "      <td>4</td>\n",
              "      <td>0</td>\n",
              "    </tr>\n",
              "    <tr>\n",
              "      <th>1</th>\n",
              "      <td>1</td>\n",
              "      <td>0.000953</td>\n",
              "      <td>1</td>\n",
              "      <td>4</td>\n",
              "      <td>1</td>\n",
              "      <td>22</td>\n",
              "      <td>0.0</td>\n",
              "      <td>1</td>\n",
              "      <td>1.0</td>\n",
              "      <td>-0.738566</td>\n",
              "      <td>10</td>\n",
              "      <td>186</td>\n",
              "      <td>849</td>\n",
              "      <td>6</td>\n",
              "      <td>0</td>\n",
              "    </tr>\n",
              "    <tr>\n",
              "      <th>2</th>\n",
              "      <td>2</td>\n",
              "      <td>0.531124</td>\n",
              "      <td>0</td>\n",
              "      <td>4</td>\n",
              "      <td>1</td>\n",
              "      <td>22</td>\n",
              "      <td>0.0</td>\n",
              "      <td>1</td>\n",
              "      <td>0.0</td>\n",
              "      <td>-0.297248</td>\n",
              "      <td>15</td>\n",
              "      <td>84</td>\n",
              "      <td>1405</td>\n",
              "      <td>1</td>\n",
              "      <td>7</td>\n",
              "    </tr>\n",
              "    <tr>\n",
              "      <th>3</th>\n",
              "      <td>3</td>\n",
              "      <td>-1.135129</td>\n",
              "      <td>0</td>\n",
              "      <td>4</td>\n",
              "      <td>1</td>\n",
              "      <td>22</td>\n",
              "      <td>0.0</td>\n",
              "      <td>1</td>\n",
              "      <td>0.0</td>\n",
              "      <td>-1.203435</td>\n",
              "      <td>4</td>\n",
              "      <td>9</td>\n",
              "      <td>977</td>\n",
              "      <td>6</td>\n",
              "      <td>7</td>\n",
              "    </tr>\n",
              "    <tr>\n",
              "      <th>4</th>\n",
              "      <td>4</td>\n",
              "      <td>-1.438084</td>\n",
              "      <td>0</td>\n",
              "      <td>4</td>\n",
              "      <td>1</td>\n",
              "      <td>22</td>\n",
              "      <td>0.0</td>\n",
              "      <td>1</td>\n",
              "      <td>0.0</td>\n",
              "      <td>0.043424</td>\n",
              "      <td>18</td>\n",
              "      <td>111</td>\n",
              "      <td>391</td>\n",
              "      <td>3</td>\n",
              "      <td>0</td>\n",
              "    </tr>\n",
              "  </tbody>\n",
              "</table>\n",
              "</div>"
            ],
            "text/plain": [
              "   key_value      edad  sexo  est_cvl  ...  prv   dto  rgn  tip_lvledu\n",
              "0          0 -0.983651     1        4  ...   47   687    4           0\n",
              "1          1  0.000953     1        4  ...  186   849    6           0\n",
              "2          2  0.531124     0        4  ...   84  1405    1           7\n",
              "3          3 -1.135129     0        4  ...    9   977    6           7\n",
              "4          4 -1.438084     0        4  ...  111   391    3           0\n",
              "\n",
              "[5 rows x 15 columns]"
            ]
          },
          "metadata": {
            "tags": []
          },
          "execution_count": 27
        }
      ]
    },
    {
      "cell_type": "code",
      "metadata": {
        "id": "SEWA2Bl8wc_r"
      },
      "source": [
        ""
      ],
      "execution_count": null,
      "outputs": []
    },
    {
      "cell_type": "code",
      "metadata": {
        "id": "bHgJRPX4mtJT"
      },
      "source": [
        "df_rcc_train[\"saldo\"] = df_rcc_train[\"saldo\"] + 1\n",
        "df_rcc_test[\"saldo\"] = df_rcc_test[\"saldo\"] + 1"
      ],
      "execution_count": null,
      "outputs": []
    },
    {
      "cell_type": "code",
      "metadata": {
        "id": "wouWRkIv20ax",
        "colab": {
          "base_uri": "https://localhost:8080/"
        },
        "outputId": "702adeeb-1c08-4529-d0f6-0d48122c8a4c"
      },
      "source": [
        "df_tmp.merge(df_rcc_train, how=\"left\", on=[\"key_value\"])[\"key_value\"].nunique()"
      ],
      "execution_count": null,
      "outputs": [
        {
          "output_type": "execute_result",
          "data": {
            "text/plain": [
              "59"
            ]
          },
          "metadata": {
            "tags": []
          },
          "execution_count": 30
        }
      ]
    },
    {
      "cell_type": "code",
      "metadata": {
        "id": "XI03lJmr3X9t",
        "colab": {
          "base_uri": "https://localhost:8080/"
        },
        "outputId": "34280178-9b6a-4d41-bdc4-306fffc3a1ae"
      },
      "source": [
        "df_tmp[\"key_value\"].unique()"
      ],
      "execution_count": null,
      "outputs": [
        {
          "output_type": "execute_result",
          "data": {
            "text/plain": [
              "array([ 19746,  21193,  23473,  38585,  60175,  62839,  73272,  82011,\n",
              "        91073,  94429,  96812, 108000, 109865, 110969, 119255, 135104,\n",
              "       137357, 139577, 144120, 144344, 154737, 156844, 158561, 160882,\n",
              "       175112, 177021, 184458, 185292, 189396, 202517, 202910, 207791,\n",
              "       216908, 223633, 228313, 233956, 234932, 235455, 236694, 245129,\n",
              "       247126, 250645, 250745, 258691, 262342, 263528, 266535, 280805,\n",
              "       284420, 288153, 300692, 308139, 319317, 325483, 327808, 330046,\n",
              "       341515, 343377, 356895], dtype=uint32)"
            ]
          },
          "metadata": {
            "tags": []
          },
          "execution_count": 32
        }
      ]
    },
    {
      "cell_type": "markdown",
      "metadata": {
        "id": "0OMa_7yU7uRr"
      },
      "source": [
        "### Experimentando"
      ]
    },
    {
      "cell_type": "code",
      "metadata": {
        "id": "EM47o2bFtahR"
      },
      "source": [
        "df_rcc_train = df_rcc_train.merge(df_y_train, how=\"left\", on=\"key_value\")"
      ],
      "execution_count": null,
      "outputs": []
    },
    {
      "cell_type": "code",
      "metadata": {
        "colab": {
          "base_uri": "https://localhost:8080/",
          "height": 218
        },
        "id": "prMaGF5hAttL",
        "outputId": "41e22908-9980-4228-de0d-2f485f3b12cf"
      },
      "source": [
        "df_rcc_train.head()"
      ],
      "execution_count": null,
      "outputs": [
        {
          "output_type": "execute_result",
          "data": {
            "text/html": [
              "<div>\n",
              "<style scoped>\n",
              "    .dataframe tbody tr th:only-of-type {\n",
              "        vertical-align: middle;\n",
              "    }\n",
              "\n",
              "    .dataframe tbody tr th {\n",
              "        vertical-align: top;\n",
              "    }\n",
              "\n",
              "    .dataframe thead th {\n",
              "        text-align: right;\n",
              "    }\n",
              "</style>\n",
              "<table border=\"1\" class=\"dataframe\">\n",
              "  <thead>\n",
              "    <tr style=\"text-align: right;\">\n",
              "      <th></th>\n",
              "      <th>codmes</th>\n",
              "      <th>key_value</th>\n",
              "      <th>condicion</th>\n",
              "      <th>tipo_credito</th>\n",
              "      <th>cod_instit_financiera</th>\n",
              "      <th>saldo</th>\n",
              "      <th>PRODUCTO</th>\n",
              "      <th>RIESGO_DIRECTO</th>\n",
              "      <th>COD_CLASIFICACION_DEUDOR</th>\n",
              "      <th>target</th>\n",
              "    </tr>\n",
              "  </thead>\n",
              "  <tbody>\n",
              "    <tr>\n",
              "      <th>0</th>\n",
              "      <td>201711</td>\n",
              "      <td>4</td>\n",
              "      <td>0</td>\n",
              "      <td>12</td>\n",
              "      <td>33</td>\n",
              "      <td>0.927399</td>\n",
              "      <td>6</td>\n",
              "      <td>-1</td>\n",
              "      <td>0</td>\n",
              "      <td>1</td>\n",
              "    </tr>\n",
              "    <tr>\n",
              "      <th>1</th>\n",
              "      <td>201711</td>\n",
              "      <td>4</td>\n",
              "      <td>0</td>\n",
              "      <td>12</td>\n",
              "      <td>33</td>\n",
              "      <td>0.929392</td>\n",
              "      <td>7</td>\n",
              "      <td>-1</td>\n",
              "      <td>0</td>\n",
              "      <td>1</td>\n",
              "    </tr>\n",
              "    <tr>\n",
              "      <th>2</th>\n",
              "      <td>201711</td>\n",
              "      <td>4</td>\n",
              "      <td>0</td>\n",
              "      <td>12</td>\n",
              "      <td>61</td>\n",
              "      <td>0.947946</td>\n",
              "      <td>5</td>\n",
              "      <td>-1</td>\n",
              "      <td>0</td>\n",
              "      <td>1</td>\n",
              "    </tr>\n",
              "    <tr>\n",
              "      <th>3</th>\n",
              "      <td>201711</td>\n",
              "      <td>4</td>\n",
              "      <td>0</td>\n",
              "      <td>11</td>\n",
              "      <td>32</td>\n",
              "      <td>0.927544</td>\n",
              "      <td>8</td>\n",
              "      <td>1</td>\n",
              "      <td>0</td>\n",
              "      <td>1</td>\n",
              "    </tr>\n",
              "    <tr>\n",
              "      <th>4</th>\n",
              "      <td>201711</td>\n",
              "      <td>4</td>\n",
              "      <td>0</td>\n",
              "      <td>12</td>\n",
              "      <td>61</td>\n",
              "      <td>0.942123</td>\n",
              "      <td>0</td>\n",
              "      <td>1</td>\n",
              "      <td>0</td>\n",
              "      <td>1</td>\n",
              "    </tr>\n",
              "  </tbody>\n",
              "</table>\n",
              "</div>"
            ],
            "text/plain": [
              "   codmes  key_value  ...  COD_CLASIFICACION_DEUDOR  target\n",
              "0  201711          4  ...                         0       1\n",
              "1  201711          4  ...                         0       1\n",
              "2  201711          4  ...                         0       1\n",
              "3  201711          4  ...                         0       1\n",
              "4  201711          4  ...                         0       1\n",
              "\n",
              "[5 rows x 10 columns]"
            ]
          },
          "metadata": {
            "tags": []
          },
          "execution_count": 10
        }
      ]
    },
    {
      "cell_type": "code",
      "metadata": {
        "id": "MfKNVMD_tNpl"
      },
      "source": [
        "df_agg_tmp = df_rcc_train.groupby(\"key_value\", as_index=False).agg({\"codmes\": \"nunique\", \"target\": \"mean\"})"
      ],
      "execution_count": null,
      "outputs": []
    },
    {
      "cell_type": "code",
      "metadata": {
        "colab": {
          "base_uri": "https://localhost:8080/",
          "height": 198
        },
        "id": "r4IwWNrutNoY",
        "outputId": "a14cc1f5-9c8c-49d6-a707-7da96c157cdd"
      },
      "source": [
        "df_agg_tmp.sort_values(by=[\"target\", \"codmes\"], ascending=[False, False]).head(5)"
      ],
      "execution_count": null,
      "outputs": [
        {
          "output_type": "execute_result",
          "data": {
            "text/html": [
              "<div>\n",
              "<style scoped>\n",
              "    .dataframe tbody tr th:only-of-type {\n",
              "        vertical-align: middle;\n",
              "    }\n",
              "\n",
              "    .dataframe tbody tr th {\n",
              "        vertical-align: top;\n",
              "    }\n",
              "\n",
              "    .dataframe thead th {\n",
              "        text-align: right;\n",
              "    }\n",
              "</style>\n",
              "<table border=\"1\" class=\"dataframe\">\n",
              "  <thead>\n",
              "    <tr style=\"text-align: right;\">\n",
              "      <th></th>\n",
              "      <th>key_value</th>\n",
              "      <th>codmes</th>\n",
              "      <th>target</th>\n",
              "    </tr>\n",
              "  </thead>\n",
              "  <tbody>\n",
              "    <tr>\n",
              "      <th>14</th>\n",
              "      <td>14</td>\n",
              "      <td>12</td>\n",
              "      <td>1</td>\n",
              "    </tr>\n",
              "    <tr>\n",
              "      <th>22</th>\n",
              "      <td>22</td>\n",
              "      <td>12</td>\n",
              "      <td>1</td>\n",
              "    </tr>\n",
              "    <tr>\n",
              "      <th>30</th>\n",
              "      <td>30</td>\n",
              "      <td>12</td>\n",
              "      <td>1</td>\n",
              "    </tr>\n",
              "    <tr>\n",
              "      <th>32</th>\n",
              "      <td>32</td>\n",
              "      <td>12</td>\n",
              "      <td>1</td>\n",
              "    </tr>\n",
              "    <tr>\n",
              "      <th>34</th>\n",
              "      <td>34</td>\n",
              "      <td>12</td>\n",
              "      <td>1</td>\n",
              "    </tr>\n",
              "  </tbody>\n",
              "</table>\n",
              "</div>"
            ],
            "text/plain": [
              "    key_value  codmes  target\n",
              "14         14      12       1\n",
              "22         22      12       1\n",
              "30         30      12       1\n",
              "32         32      12       1\n",
              "34         34      12       1"
            ]
          },
          "metadata": {
            "tags": []
          },
          "execution_count": 12
        }
      ]
    },
    {
      "cell_type": "markdown",
      "metadata": {
        "id": "wSFZ4epQgTtV"
      },
      "source": [
        "#### Comportamiento a nivel de productos"
      ]
    },
    {
      "cell_type": "code",
      "metadata": {
        "colab": {
          "base_uri": "https://localhost:8080/",
          "height": 218
        },
        "id": "lGVfgwmEtNhu",
        "outputId": "96c8c465-3393-4e66-9be4-5e7c33e3a7e9"
      },
      "source": [
        "df_rcc_train.loc[df_rcc_train[\"key_value\"] == 34].sort_values(by=[\"codmes\", \"cod_instit_financiera\", \"PRODUCTO\"], ascending=False).head(5)"
      ],
      "execution_count": null,
      "outputs": [
        {
          "output_type": "execute_result",
          "data": {
            "text/html": [
              "<div>\n",
              "<style scoped>\n",
              "    .dataframe tbody tr th:only-of-type {\n",
              "        vertical-align: middle;\n",
              "    }\n",
              "\n",
              "    .dataframe tbody tr th {\n",
              "        vertical-align: top;\n",
              "    }\n",
              "\n",
              "    .dataframe thead th {\n",
              "        text-align: right;\n",
              "    }\n",
              "</style>\n",
              "<table border=\"1\" class=\"dataframe\">\n",
              "  <thead>\n",
              "    <tr style=\"text-align: right;\">\n",
              "      <th></th>\n",
              "      <th>codmes</th>\n",
              "      <th>key_value</th>\n",
              "      <th>condicion</th>\n",
              "      <th>tipo_credito</th>\n",
              "      <th>cod_instit_financiera</th>\n",
              "      <th>saldo</th>\n",
              "      <th>PRODUCTO</th>\n",
              "      <th>RIESGO_DIRECTO</th>\n",
              "      <th>COD_CLASIFICACION_DEUDOR</th>\n",
              "      <th>target</th>\n",
              "    </tr>\n",
              "  </thead>\n",
              "  <tbody>\n",
              "    <tr>\n",
              "      <th>592182</th>\n",
              "      <td>201802</td>\n",
              "      <td>34</td>\n",
              "      <td>0</td>\n",
              "      <td>11</td>\n",
              "      <td>37</td>\n",
              "      <td>0.944329</td>\n",
              "      <td>8</td>\n",
              "      <td>1</td>\n",
              "      <td>0</td>\n",
              "      <td>1</td>\n",
              "    </tr>\n",
              "    <tr>\n",
              "      <th>592176</th>\n",
              "      <td>201802</td>\n",
              "      <td>34</td>\n",
              "      <td>0</td>\n",
              "      <td>11</td>\n",
              "      <td>37</td>\n",
              "      <td>0.944329</td>\n",
              "      <td>2</td>\n",
              "      <td>-1</td>\n",
              "      <td>0</td>\n",
              "      <td>1</td>\n",
              "    </tr>\n",
              "    <tr>\n",
              "      <th>592171</th>\n",
              "      <td>201802</td>\n",
              "      <td>34</td>\n",
              "      <td>0</td>\n",
              "      <td>11</td>\n",
              "      <td>32</td>\n",
              "      <td>1.040189</td>\n",
              "      <td>13</td>\n",
              "      <td>1</td>\n",
              "      <td>0</td>\n",
              "      <td>1</td>\n",
              "    </tr>\n",
              "    <tr>\n",
              "      <th>592174</th>\n",
              "      <td>201802</td>\n",
              "      <td>34</td>\n",
              "      <td>0</td>\n",
              "      <td>11</td>\n",
              "      <td>32</td>\n",
              "      <td>0.938305</td>\n",
              "      <td>3</td>\n",
              "      <td>-1</td>\n",
              "      <td>0</td>\n",
              "      <td>1</td>\n",
              "    </tr>\n",
              "    <tr>\n",
              "      <th>592175</th>\n",
              "      <td>201802</td>\n",
              "      <td>34</td>\n",
              "      <td>0</td>\n",
              "      <td>11</td>\n",
              "      <td>32</td>\n",
              "      <td>1.051386</td>\n",
              "      <td>2</td>\n",
              "      <td>-1</td>\n",
              "      <td>0</td>\n",
              "      <td>1</td>\n",
              "    </tr>\n",
              "  </tbody>\n",
              "</table>\n",
              "</div>"
            ],
            "text/plain": [
              "        codmes  key_value  ...  COD_CLASIFICACION_DEUDOR  target\n",
              "592182  201802         34  ...                         0       1\n",
              "592176  201802         34  ...                         0       1\n",
              "592171  201802         34  ...                         0       1\n",
              "592174  201802         34  ...                         0       1\n",
              "592175  201802         34  ...                         0       1\n",
              "\n",
              "[5 rows x 10 columns]"
            ]
          },
          "metadata": {
            "tags": []
          },
          "execution_count": 41
        }
      ]
    },
    {
      "cell_type": "code",
      "metadata": {
        "colab": {
          "base_uri": "https://localhost:8080/"
        },
        "id": "DcVzKBQe80K3",
        "outputId": "4c451c38-690d-4732-a8f6-a835aa9c8784"
      },
      "source": [
        "df_rcc_train.loc[df_rcc_train[\"condicion\"] >= 960, \"target\"].mean()"
      ],
      "execution_count": null,
      "outputs": [
        {
          "output_type": "execute_result",
          "data": {
            "text/plain": [
              "0.6064852523756633"
            ]
          },
          "metadata": {
            "tags": []
          },
          "execution_count": 42
        }
      ]
    },
    {
      "cell_type": "code",
      "metadata": {
        "id": "Qb_1dFpmuUuv"
      },
      "source": [
        "def diff_months(codmes_ini, codmes_fin):\n",
        "  try:\n",
        "    r = relativedelta.relativedelta(datetime.strptime(str(int(codmes_fin)), '%Y%m'), datetime.strptime(str(int(codmes_ini)), '%Y%m'))\n",
        "    return r.years*12 + r.months\n",
        "  except:\n",
        "    return None\n",
        "\n",
        "def div_func(numer, denom):\n",
        "    if denom != 0:\n",
        "        return numer/denom\n",
        "    else:\n",
        "        return None"
      ],
      "execution_count": null,
      "outputs": []
    },
    {
      "cell_type": "markdown",
      "metadata": {
        "id": "Bud5UxR-g4rS"
      },
      "source": [
        "###### A nivel de un usuario"
      ]
    },
    {
      "cell_type": "code",
      "metadata": {
        "id": "ZGM8zjtDvF2T"
      },
      "source": [
        "## Filtrar solo las deudas de la RCC de un usuario\n",
        "df_rcc_train_filtered = df_rcc_train.loc[df_rcc_train[\"key_value\"] == 34].copy()\n",
        "\n",
        "## Crear el código único del producto\n",
        "df_rcc_train_filtered[\"cod_producto_unico\"] = df_rcc_train_filtered.apply(lambda row: \"{0}_{1}_{2}\".format(str(int(row[\"cod_instit_financiera\"])).zfill(2), str(int(row[\"PRODUCTO\"])).zfill(2), str(int(row[\"tipo_credito\"])).zfill(2)), axis=1)\n",
        "## Crear el código único del producto\n",
        "df_rcc_train_filtered_agg = df_rcc_train_filtered.groupby([\"key_value\", \"cod_producto_unico\", \"codmes\"], as_index=False).agg({\"saldo\": \"sum\", \"condicion\": \"sum\"}).sort_values(by=[\"cod_producto_unico\", \"codmes\"], ascending=[True, True]).tail(30)\n",
        "## Crear los campos previos de codmes, saldo y condicion\n",
        "for col in [\"codmes\", \"saldo\", \"condicion\"]:\n",
        "  df_rcc_train_filtered_agg[\"prev_{0}\".format(col)] = df_rcc_train_filtered_agg.groupby([\"key_value\", \"cod_producto_unico\"])[col].shift(1)\n",
        "\n",
        "## Medir la diferencia entre el codmes, saldo y condicion actual contra el previo \n",
        "df_rcc_train_filtered_agg[\"diff_prev_codmes\"] = df_rcc_train_filtered_agg.apply(lambda row: diff_months(row[\"prev_codmes\"], row[\"codmes\"]), axis=1)\n",
        "df_rcc_train_filtered_agg[\"diff_prev_saldo\"] = df_rcc_train_filtered_agg.apply(lambda row: (row[\"saldo\"] - row[\"prev_saldo\"]), axis=1)\n",
        "df_rcc_train_filtered_agg[\"diff_prev_condicion\"] = df_rcc_train_filtered_agg.apply(lambda row: (row[\"condicion\"] - row[\"prev_condicion\"]), axis=1)\n",
        "\n",
        "## Calcular el valor absoluto de las diferencias\n",
        "df_rcc_train_filtered_agg[\"abs_diff_prev_saldo\"] = abs(df_rcc_train_filtered_agg[\"diff_prev_saldo\"])\n",
        "df_rcc_train_filtered_agg[\"abs_diff_prev_condicion\"] = abs(df_rcc_train_filtered_agg[\"diff_prev_condicion\"])\n",
        "\n",
        "## Flags que indican si hubo un incremento, decremento o ningun cambio en las variables saldo y condicion\n",
        "for col_ in [\"saldo\", \"condicion\"]:\n",
        "  df_rcc_train_filtered_agg.loc[pd.notnull(df_rcc_train_filtered_agg[\"diff_prev_{0}\".format(col_)]), \"incr_flag_{0}\".format(col_)] = df_rcc_train_filtered_agg.loc[pd.notnull(df_rcc_train_filtered_agg[\"diff_prev_{0}\".format(col_)]), \"diff_prev_{0}\".format(col_)].apply(lambda c: 1 if c > 0 else 0)\n",
        "  df_rcc_train_filtered_agg.loc[pd.notnull(df_rcc_train_filtered_agg[\"diff_prev_{0}\".format(col_)]), \"decr_flag_{0}\".format(col_)] = df_rcc_train_filtered_agg.loc[pd.notnull(df_rcc_train_filtered_agg[\"diff_prev_{0}\".format(col_)]), \"diff_prev_{0}\".format(col_)].apply(lambda c: 1 if c < 0 else 0)\n",
        "  df_rcc_train_filtered_agg.loc[pd.notnull(df_rcc_train_filtered_agg[\"diff_prev_{0}\".format(col_)]), \"same_flag_{0}\".format(col_)] = df_rcc_train_filtered_agg.loc[pd.notnull(df_rcc_train_filtered_agg[\"diff_prev_{0}\".format(col_)]), \"diff_prev_{0}\".format(col_)].apply(lambda c: 1 if c == 0 else 0)\n",
        "\n",
        "df_rcc_train_filtered_agg_2 = df_rcc_train_filtered_agg.groupby([\"key_value\", \"cod_producto_unico\"], as_index=False).agg({\n",
        "                                                                                              \"codmes\": [\"first\", \"last\"],\n",
        "                                                                                              \"saldo\": [\"mean\", \"sum\", \"count\", \"last\", \"first\", \"max\", \"min\"],\n",
        "                                                                                              \"condicion\": [\"mean\", \"sum\", \"last\", \"first\", \"max\", \"min\"],\n",
        "                                                                                              \"diff_prev_codmes\": [\"mean\", \"sum\"],\n",
        "                                                                                              \"diff_prev_saldo\": [\"mean\", \"sum\", \"std\"],\n",
        "                                                                                              \"diff_prev_condicion\": [\"mean\", \"sum\", \"std\"],\n",
        "                                                                                              \"abs_diff_prev_saldo\": [\"mean\", \"sum\", \"std\"],\n",
        "                                                                                              \"abs_diff_prev_condicion\": [\"mean\", \"sum\", \"std\"],\n",
        "                                                                                              \"incr_flag_saldo\": [\"mean\", \"sum\"],\n",
        "                                                                                              \"decr_flag_saldo\": [\"mean\", \"sum\"],\n",
        "                                                                                              \"same_flag_saldo\": [\"mean\", \"sum\"],\n",
        "                                                                                              \"incr_flag_condicion\": [\"mean\", \"sum\"],\n",
        "                                                                                              \"decr_flag_condicion\": [\"mean\", \"sum\"],\n",
        "                                                                                              \"same_flag_condicion\": [\"mean\", \"sum\"]\n",
        "                                                                                            }\n",
        "                                                                                           )\n",
        "df_rcc_train_filtered_agg_2.columns = [\"_\".join(c) if c[-1] != \"\" else c[0] for c in df_rcc_train_filtered_agg_2.columns]\n",
        "\n",
        "df_rcc_train_filtered_agg_2[\"recency\"] = df_rcc_train_filtered_agg_2.apply(lambda row: diff_months(row[\"codmes_last\"], 201803), axis=1)\n",
        "df_rcc_train_filtered_agg_2[\"long_recency\"] = df_rcc_train_filtered_agg_2.apply(lambda row: diff_months(row[\"codmes_first\"], 201803), axis=1)\n",
        "df_rcc_train_filtered_agg_2[\"diff_months\"] = df_rcc_train_filtered_agg_2.apply(lambda row: diff_months(row[\"codmes_first\"], row[\"codmes_last\"]), axis=1)\n",
        "\n",
        "df_rcc_train_filtered_agg_2[\"ratio_saldo_last_over_first\"] = df_rcc_train_filtered_agg_2.apply(lambda row: div_func(row[\"saldo_last\"], row[\"saldo_first\"]), axis=1)\n",
        "df_rcc_train_filtered_agg_2[\"ratio_diff_saldo_last_first_over_count\"] = df_rcc_train_filtered_agg_2.apply(lambda row: div_func((row[\"saldo_last\"] - row[\"saldo_first\"]), row[\"saldo_count\"]), axis=1)\n",
        "df_rcc_train_filtered_agg_2[\"ratio_diff_saldo_max_min_over_count\"] = df_rcc_train_filtered_agg_2.apply(lambda row: div_func((row[\"saldo_max\"] - row[\"saldo_min\"]), row[\"saldo_count\"]), axis=1)\n",
        "df_rcc_train_filtered_agg_2[\"ratio_diff_saldo_last_first_over_diff_months\"] = df_rcc_train_filtered_agg_2.apply(lambda row: div_func((row[\"saldo_last\"] - row[\"saldo_first\"]), row[\"diff_months\"]), axis=1)\n",
        "df_rcc_train_filtered_agg_2[\"ratio_diff_saldo_max_min_over_diff_months\"] = df_rcc_train_filtered_agg_2.apply(lambda row: div_func((row[\"saldo_max\"] - row[\"saldo_min\"]), row[\"diff_months\"]), axis=1)\n",
        "df_rcc_train_filtered_agg_2[\"ratio_diff_saldo_last_first_over_diff_prev_saldo_sum\"] = df_rcc_train_filtered_agg_2.apply(lambda row: div_func((row[\"saldo_last\"] - row[\"saldo_first\"]), row[\"abs_diff_prev_saldo_sum\"]), axis=1)\n",
        "df_rcc_train_filtered_agg_2[\"ratio_diff_saldo_last_first_over_diff_prev_saldo_mean\"] = df_rcc_train_filtered_agg_2.apply(lambda row: div_func((row[\"saldo_last\"] - row[\"saldo_first\"]), row[\"abs_diff_prev_saldo_mean\"]), axis=1)\n",
        "\n",
        "df_rcc_train_filtered_agg_2.drop(columns=[\"codmes_first\", \"codmes_last\"], inplace=True)\n",
        "\n",
        "agg_dict = {c: [\"mean\"] if c not in [\"cod_producto_unico\"] else [\"nunique\"] for c in df_rcc_train_filtered_agg_2.columns if c not in [\"key_value\"]}\n",
        "\n",
        "df_rcc_train_filtered_agg_3 = df_rcc_train_filtered_agg_2.groupby([\"key_value\"], as_index=False).agg(agg_dict)\n",
        "df_rcc_train_filtered_agg_3.columns = [\"_\".join(c) if c[-1] != \"\" else c[0] for c in df_rcc_train_filtered_agg_3.columns]"
      ],
      "execution_count": null,
      "outputs": []
    },
    {
      "cell_type": "code",
      "metadata": {
        "colab": {
          "base_uri": "https://localhost:8080/",
          "height": 98
        },
        "id": "zkcGgRUs_KPI",
        "outputId": "b69eb883-b160-477c-81d3-976a3ad4aa0f"
      },
      "source": [
        "df_rcc_train_filtered_agg_3.head()"
      ],
      "execution_count": null,
      "outputs": [
        {
          "output_type": "execute_result",
          "data": {
            "text/html": [
              "<div>\n",
              "<style scoped>\n",
              "    .dataframe tbody tr th:only-of-type {\n",
              "        vertical-align: middle;\n",
              "    }\n",
              "\n",
              "    .dataframe tbody tr th {\n",
              "        vertical-align: top;\n",
              "    }\n",
              "\n",
              "    .dataframe thead th {\n",
              "        text-align: right;\n",
              "    }\n",
              "</style>\n",
              "<table border=\"1\" class=\"dataframe\">\n",
              "  <thead>\n",
              "    <tr style=\"text-align: right;\">\n",
              "      <th></th>\n",
              "      <th>key_value</th>\n",
              "      <th>cod_producto_unico_nunique</th>\n",
              "      <th>saldo_mean_mean</th>\n",
              "      <th>saldo_sum_mean</th>\n",
              "      <th>saldo_count_mean</th>\n",
              "      <th>saldo_last_mean</th>\n",
              "      <th>saldo_first_mean</th>\n",
              "      <th>saldo_max_mean</th>\n",
              "      <th>saldo_min_mean</th>\n",
              "      <th>condicion_mean_mean</th>\n",
              "      <th>condicion_sum_mean</th>\n",
              "      <th>condicion_last_mean</th>\n",
              "      <th>condicion_first_mean</th>\n",
              "      <th>condicion_max_mean</th>\n",
              "      <th>condicion_min_mean</th>\n",
              "      <th>diff_prev_codmes_mean_mean</th>\n",
              "      <th>diff_prev_codmes_sum_mean</th>\n",
              "      <th>diff_prev_saldo_mean_mean</th>\n",
              "      <th>diff_prev_saldo_sum_mean</th>\n",
              "      <th>diff_prev_saldo_std_mean</th>\n",
              "      <th>diff_prev_condicion_mean_mean</th>\n",
              "      <th>diff_prev_condicion_sum_mean</th>\n",
              "      <th>diff_prev_condicion_std_mean</th>\n",
              "      <th>abs_diff_prev_saldo_mean_mean</th>\n",
              "      <th>abs_diff_prev_saldo_sum_mean</th>\n",
              "      <th>abs_diff_prev_saldo_std_mean</th>\n",
              "      <th>abs_diff_prev_condicion_mean_mean</th>\n",
              "      <th>abs_diff_prev_condicion_sum_mean</th>\n",
              "      <th>abs_diff_prev_condicion_std_mean</th>\n",
              "      <th>incr_flag_saldo_mean_mean</th>\n",
              "      <th>incr_flag_saldo_sum_mean</th>\n",
              "      <th>decr_flag_saldo_mean_mean</th>\n",
              "      <th>decr_flag_saldo_sum_mean</th>\n",
              "      <th>same_flag_saldo_mean_mean</th>\n",
              "      <th>same_flag_saldo_sum_mean</th>\n",
              "      <th>incr_flag_condicion_mean_mean</th>\n",
              "      <th>incr_flag_condicion_sum_mean</th>\n",
              "      <th>decr_flag_condicion_mean_mean</th>\n",
              "      <th>decr_flag_condicion_sum_mean</th>\n",
              "      <th>same_flag_condicion_mean_mean</th>\n",
              "      <th>same_flag_condicion_sum_mean</th>\n",
              "      <th>recency_mean</th>\n",
              "      <th>long_recency_mean</th>\n",
              "      <th>diff_months_mean</th>\n",
              "      <th>ratio_saldo_last_over_first_mean</th>\n",
              "      <th>ratio_diff_saldo_last_first_over_count_mean</th>\n",
              "      <th>ratio_diff_saldo_max_min_over_count_mean</th>\n",
              "      <th>ratio_diff_saldo_last_first_over_diff_months_mean</th>\n",
              "      <th>ratio_diff_saldo_max_min_over_diff_months_mean</th>\n",
              "      <th>ratio_diff_saldo_last_first_over_diff_prev_saldo_sum_mean</th>\n",
              "      <th>ratio_diff_saldo_last_first_over_diff_prev_saldo_mean_mean</th>\n",
              "    </tr>\n",
              "  </thead>\n",
              "  <tbody>\n",
              "    <tr>\n",
              "      <th>0</th>\n",
              "      <td>34</td>\n",
              "      <td>4</td>\n",
              "      <td>0.935515</td>\n",
              "      <td>7.022359</td>\n",
              "      <td>7.5</td>\n",
              "      <td>0.938982</td>\n",
              "      <td>0.934439</td>\n",
              "      <td>0.940253</td>\n",
              "      <td>0.933781</td>\n",
              "      <td>0</td>\n",
              "      <td>0</td>\n",
              "      <td>0</td>\n",
              "      <td>0</td>\n",
              "      <td>0</td>\n",
              "      <td>0</td>\n",
              "      <td>1.074074</td>\n",
              "      <td>7.0</td>\n",
              "      <td>0.000715</td>\n",
              "      <td>0.004543</td>\n",
              "      <td>0.003024</td>\n",
              "      <td>0.0</td>\n",
              "      <td>0.0</td>\n",
              "      <td>0.0</td>\n",
              "      <td>0.001875</td>\n",
              "      <td>0.012924</td>\n",
              "      <td>0.002443</td>\n",
              "      <td>0.0</td>\n",
              "      <td>0.0</td>\n",
              "      <td>0.0</td>\n",
              "      <td>0.413757</td>\n",
              "      <td>2.75</td>\n",
              "      <td>0.314815</td>\n",
              "      <td>2.25</td>\n",
              "      <td>0.271429</td>\n",
              "      <td>1.5</td>\n",
              "      <td>0.0</td>\n",
              "      <td>0.0</td>\n",
              "      <td>0.0</td>\n",
              "      <td>0.0</td>\n",
              "      <td>1.0</td>\n",
              "      <td>6.5</td>\n",
              "      <td>1.5</td>\n",
              "      <td>8.5</td>\n",
              "      <td>7</td>\n",
              "      <td>1.004878</td>\n",
              "      <td>0.000479</td>\n",
              "      <td>0.000659</td>\n",
              "      <td>0.000614</td>\n",
              "      <td>0.000865</td>\n",
              "      <td>0.514072</td>\n",
              "      <td>3.950491</td>\n",
              "    </tr>\n",
              "  </tbody>\n",
              "</table>\n",
              "</div>"
            ],
            "text/plain": [
              "   key_value  ...  ratio_diff_saldo_last_first_over_diff_prev_saldo_mean_mean\n",
              "0         34  ...                                           3.950491         \n",
              "\n",
              "[1 rows x 51 columns]"
            ]
          },
          "metadata": {
            "tags": []
          },
          "execution_count": 61
        }
      ]
    },
    {
      "cell_type": "code",
      "metadata": {
        "colab": {
          "base_uri": "https://localhost:8080/"
        },
        "id": "IEyPTy88s4-E",
        "outputId": "a821e6d7-50e8-473b-fe16-11dbc8268064"
      },
      "source": [
        "df_rcc_train_filtered_agg_3.shape"
      ],
      "execution_count": null,
      "outputs": [
        {
          "output_type": "execute_result",
          "data": {
            "text/plain": [
              "(1, 51)"
            ]
          },
          "metadata": {
            "tags": []
          },
          "execution_count": 62
        }
      ]
    },
    {
      "cell_type": "markdown",
      "metadata": {
        "id": "1zLiWldtg8m_"
      },
      "source": [
        "###### A nivel de todos los usuarios"
      ]
    },
    {
      "cell_type": "code",
      "metadata": {
        "id": "1DAZw46ng9ru"
      },
      "source": [
        "## Crear el código único del producto\n",
        "df_rcc_train[\"cod_producto_unico\"] = df_rcc_train.apply(lambda row: \"{0}_{1}_{2}\".format(str(int(row[\"cod_instit_financiera\"])).zfill(2), str(int(row[\"PRODUCTO\"])).zfill(2), str(int(row[\"tipo_credito\"])).zfill(2)), axis=1)\n",
        "## Crear el código único del producto\n",
        "df_rcc_train_agg = df_rcc_train.groupby([\"key_value\", \"cod_producto_unico\", \"codmes\"], as_index=False).agg({\"saldo\": \"sum\", \"condicion\": \"sum\"}).sort_values(by=[\"cod_producto_unico\", \"codmes\"], ascending=[True, True]).tail(30)\n",
        "## Crear los campos previos de codmes, saldo y condicion\n",
        "for col in [\"codmes\", \"saldo\", \"condicion\"]:\n",
        "  df_rcc_train_agg[\"prev_{0}\".format(col)] = df_rcc_train_agg.groupby([\"key_value\", \"cod_producto_unico\"])[col].shift(1)\n",
        "\n",
        "## Medir la diferencia entre el codmes, saldo y condicion actual contra el previo \n",
        "df_rcc_train_agg[\"diff_prev_codmes\"] = df_rcc_train_agg.apply(lambda row: diff_months(row[\"prev_codmes\"], row[\"codmes\"]), axis=1)\n",
        "df_rcc_train_agg[\"diff_prev_saldo\"] = df_rcc_train_agg.apply(lambda row: (row[\"saldo\"] - row[\"prev_saldo\"]), axis=1)\n",
        "df_rcc_train_agg[\"diff_prev_condicion\"] = df_rcc_train_agg.apply(lambda row: (row[\"condicion\"] - row[\"prev_condicion\"]), axis=1)\n",
        "\n",
        "## Calcular el valor absoluto de las diferencias\n",
        "df_rcc_train_agg[\"abs_diff_prev_saldo\"] = abs(df_rcc_train_agg[\"diff_prev_saldo\"])\n",
        "df_rcc_train_agg[\"abs_diff_prev_condicion\"] = abs(df_rcc_train_agg[\"diff_prev_condicion\"])\n",
        "\n",
        "## Flags que indican si hubo un incremento, decremento o ningun cambio en las variables saldo y condicion\n",
        "for col_ in [\"saldo\", \"condicion\"]:\n",
        "  df_rcc_train_agg.loc[pd.notnull(df_rcc_train_agg[\"diff_prev_{0}\".format(col_)]), \"incr_flag_{0}\".format(col_)] = df_rcc_train_agg.loc[pd.notnull(df_rcc_train_agg[\"diff_prev_{0}\".format(col_)]), \"diff_prev_{0}\".format(col_)].apply(lambda c: 1 if c > 0 else 0)\n",
        "  df_rcc_train_agg.loc[pd.notnull(df_rcc_train_agg[\"diff_prev_{0}\".format(col_)]), \"decr_flag_{0}\".format(col_)] = df_rcc_train_agg.loc[pd.notnull(df_rcc_train_agg[\"diff_prev_{0}\".format(col_)]), \"diff_prev_{0}\".format(col_)].apply(lambda c: 1 if c < 0 else 0)\n",
        "  df_rcc_train_agg.loc[pd.notnull(df_rcc_train_agg[\"diff_prev_{0}\".format(col_)]), \"same_flag_{0}\".format(col_)] = df_rcc_train_agg.loc[pd.notnull(df_rcc_train_agg[\"diff_prev_{0}\".format(col_)]), \"diff_prev_{0}\".format(col_)].apply(lambda c: 1 if c == 0 else 0)\n",
        "\n",
        "df_rcc_train_agg_2 = df_rcc_train_agg.groupby([\"key_value\", \"cod_producto_unico\"], as_index=False).agg({\n",
        "                                                                                              \"codmes\": [\"first\", \"last\"],\n",
        "                                                                                              \"saldo\": [\"mean\", \"sum\", \"count\", \"last\", \"first\", \"max\", \"min\"],\n",
        "                                                                                              \"condicion\": [\"mean\", \"sum\", \"last\", \"first\", \"max\", \"min\"],\n",
        "                                                                                              \"diff_prev_codmes\": [\"mean\", \"sum\"],\n",
        "                                                                                              \"diff_prev_saldo\": [\"mean\", \"sum\", \"std\"],\n",
        "                                                                                              \"diff_prev_condicion\": [\"mean\", \"sum\", \"std\"],\n",
        "                                                                                              \"abs_diff_prev_saldo\": [\"mean\", \"sum\", \"std\"],\n",
        "                                                                                              \"abs_diff_prev_condicion\": [\"mean\", \"sum\", \"std\"],\n",
        "                                                                                              \"incr_flag_saldo\": [\"mean\", \"sum\"],\n",
        "                                                                                              \"decr_flag_saldo\": [\"mean\", \"sum\"],\n",
        "                                                                                              \"same_flag_saldo\": [\"mean\", \"sum\"],\n",
        "                                                                                              \"incr_flag_condicion\": [\"mean\", \"sum\"],\n",
        "                                                                                              \"decr_flag_condicion\": [\"mean\", \"sum\"],\n",
        "                                                                                              \"same_flag_condicion\": [\"mean\", \"sum\"]\n",
        "                                                                                            }\n",
        "                                                                                           )\n",
        "df_rcc_train_agg_2.columns = [\"_\".join(c) if c[-1] != \"\" else c[0] for c in df_rcc_train_agg_2.columns]\n",
        "\n",
        "df_rcc_train_agg_2[\"recency\"] = df_rcc_train_agg_2.apply(lambda row: diff_months(row[\"codmes_last\"], 201803), axis=1)\n",
        "df_rcc_train_agg_2[\"long_recency\"] = df_rcc_train_agg_2.apply(lambda row: diff_months(row[\"codmes_first\"], 201803), axis=1)\n",
        "df_rcc_train_agg_2[\"diff_months\"] = df_rcc_train_agg_2.apply(lambda row: diff_months(row[\"codmes_first\"], row[\"codmes_last\"]), axis=1)\n",
        "\n",
        "df_rcc_train_agg_2[\"ratio_saldo_last_over_first\"] = df_rcc_train_agg_2.apply(lambda row: div_func(row[\"saldo_last\"], row[\"saldo_first\"]), axis=1)\n",
        "df_rcc_train_agg_2[\"ratio_diff_saldo_last_first_over_count\"] = df_rcc_train_agg_2.apply(lambda row: div_func((row[\"saldo_last\"] - row[\"saldo_first\"]), row[\"saldo_count\"]), axis=1)\n",
        "df_rcc_train_agg_2[\"ratio_diff_saldo_max_min_over_count\"] = df_rcc_train_agg_2.apply(lambda row: div_func((row[\"saldo_max\"] - row[\"saldo_min\"]), row[\"saldo_count\"]), axis=1)\n",
        "df_rcc_train_agg_2[\"ratio_diff_saldo_last_first_over_diff_months\"] = df_rcc_train_agg_2.apply(lambda row: div_func((row[\"saldo_last\"] - row[\"saldo_first\"]), row[\"diff_months\"]), axis=1)\n",
        "df_rcc_train_agg_2[\"ratio_diff_saldo_max_min_over_diff_months\"] = df_rcc_train_agg_2.apply(lambda row: div_func((row[\"saldo_max\"] - row[\"saldo_min\"]), row[\"diff_months\"]), axis=1)\n",
        "df_rcc_train_agg_2[\"ratio_diff_saldo_last_first_over_diff_prev_saldo_sum\"] = df_rcc_train_agg_2.apply(lambda row: div_func((row[\"saldo_last\"] - row[\"saldo_first\"]), row[\"abs_diff_prev_saldo_sum\"]), axis=1)\n",
        "df_rcc_train_agg_2[\"ratio_diff_saldo_last_first_over_diff_prev_saldo_mean\"] = df_rcc_train_agg_2.apply(lambda row: div_func((row[\"saldo_last\"] - row[\"saldo_first\"]), row[\"abs_diff_prev_saldo_mean\"]), axis=1)\n",
        "\n",
        "df_rcc_train_agg_2.drop(columns=[\"codmes_first\", \"codmes_last\"], inplace=True)\n",
        "\n",
        "agg_dict = {c: [\"mean\"] if c not in [\"cod_producto_unico\"] else [\"nunique\"] for c in df_rcc_train_agg_2.columns if c not in [\"key_value\"]}\n",
        "\n",
        "df_rcc_train_agg_3 = df_rcc_train_agg_2.groupby([\"key_value\"], as_index=False).agg(agg_dict)\n",
        "df_rcc_train_agg_3.columns = [\"_\".join(c) if c[-1] != \"\" else c[0] for c in df_rcc_train_agg_3.columns]"
      ],
      "execution_count": null,
      "outputs": []
    },
    {
      "cell_type": "code",
      "metadata": {
        "id": "Mh3h2fKJhmcs"
      },
      "source": [
        "df_rcc_train_agg_3.head()"
      ],
      "execution_count": null,
      "outputs": []
    },
    {
      "cell_type": "code",
      "metadata": {
        "id": "bhtnzadTkHTt"
      },
      "source": [
        ""
      ],
      "execution_count": null,
      "outputs": []
    },
    {
      "cell_type": "code",
      "metadata": {
        "id": "Q5mEDn-fkHQq"
      },
      "source": [
        ""
      ],
      "execution_count": null,
      "outputs": []
    },
    {
      "cell_type": "code",
      "metadata": {
        "id": "mKWyn8mdkHMt"
      },
      "source": [
        ""
      ],
      "execution_count": null,
      "outputs": []
    },
    {
      "cell_type": "markdown",
      "metadata": {
        "id": "cN0busVMgZKQ"
      },
      "source": [
        "#### Comportamiento a nivel de categorías"
      ]
    },
    {
      "cell_type": "code",
      "metadata": {
        "id": "L0Z2Y56-7hNr"
      },
      "source": [
        "df_rcc_train_filtered[\"condicion_cat\"] = df_rcc_train_filtered[\"condicion\"].apply(lambda c: 0 if c == 0 else \"00_03\" if c < 90 else  \"03_06\" if c < 180 else \"06_12\" if c < 365 else \"12-32\" if c < 960 else \">32\")"
      ],
      "execution_count": null,
      "outputs": []
    },
    {
      "cell_type": "code",
      "metadata": {
        "id": "nLBMz1aGwNaG"
      },
      "source": [
        "cat_col = \"condicion_cat\"\n",
        "agg_func = \"mean\"\n",
        "numeric_value = \"saldo\""
      ],
      "execution_count": null,
      "outputs": []
    },
    {
      "cell_type": "code",
      "metadata": {
        "id": "3Mn-kb_swwPw"
      },
      "source": [
        "month_dict = {\"U12M\": [201802, 201801, 201712, 201711, 201710, 201709, 201708, 201707, 201706, 201705, 201704, 201703],\n",
        "              \"U06M\": [201802, 201801, 201712, 201711, 201710, 201709],\n",
        "              \"U03M\": [201802, 201801, 201712],\n",
        "              \"U01M\": [201802]\n",
        "              }"
      ],
      "execution_count": null,
      "outputs": []
    },
    {
      "cell_type": "code",
      "metadata": {
        "id": "sZOK5IJj7Jby"
      },
      "source": [
        "from datetime import datetime\n",
        "from dateutil import relativedelta\n",
        "\n",
        "def diff_months(codmes_ini, codmes_fin):\n",
        "  r = relativedelta.relativedelta(datetime.strptime(str(int(codmes_fin)), '%Y%m'), datetime.strptime(str(int(codmes_ini)), '%Y%m'))\n",
        "  return r.years*12 + r.months"
      ],
      "execution_count": null,
      "outputs": []
    },
    {
      "cell_type": "code",
      "metadata": {
        "colab": {
          "base_uri": "https://localhost:8080/"
        },
        "id": "g85i5FDgvf4g",
        "outputId": "f3465827-8ca2-4ee9-f37a-599245cfe8b0"
      },
      "source": [
        "df_rcc_crosstab = (pd.crosstab(index=[df_rcc_train_filtered.key_value, df_rcc_train_filtered.codmes], \n",
        "                                columns=df_rcc_train_filtered[cat_col], \n",
        "                                values=df_rcc_train_filtered[numeric_value],\n",
        "                                aggfunc=agg_func)\n",
        "                      .reset_index(drop=False)\n",
        "                      .reset_index(drop=True))\n",
        "\n",
        "df_rcc_crosstab.columns = [\"{0}_{1}_FOR_{2}_{3}\".format(numeric_value.upper(), agg_func.upper(), cat_col, c) if c not in [\"key_value\", \"codmes\"] else c for c in df_rcc_crosstab.columns]\n",
        "feat_cols = [c for c in df_rcc_crosstab.columns if \"{0}_\".format(cat_col) in c]\n",
        "df_rcc_crosstab[\"MEAN_OF_{0}_{1}_FOR_ALL_{2}\".format(numeric_value.upper(), agg_func.upper(), cat_col)] = df_rcc_crosstab[feat_cols].mean(axis=1)\n",
        "df_rcc_crosstab[\"SUM_OF_{0}_{1}_FOR_ALL_{2}\".format(numeric_value.upper(), agg_func.upper(), cat_col)] = df_rcc_crosstab[feat_cols].sum(axis=1)\n",
        "df_rcc_crosstab[\"COUNT_OF_{0}_{1}_FOR_ALL_{2}\".format(numeric_value.upper(), agg_func.upper(), cat_col)] = df_rcc_crosstab[feat_cols].count(axis=1)\n",
        "\n",
        "agg_col_dict = {\"codmes\": [\"last\", \"first\"]}\n",
        "agg_col_dict.update({c: [\"mean\", \"sum\", \"count\"] for c in df_rcc_crosstab.columns if c not in [\"key_value\", \"codmes\"]})\n",
        "\n",
        "for month_level in [\"U03M\", \"U06M\", \"U12M\"]:\n",
        "  print(\"Features at month level: {0}\".format(month_level))\n",
        "  df_rcc_agg = (df_rcc_crosstab.loc[df_rcc_crosstab[\"codmes\"].isin(month_dict[month_level])]\n",
        "                              .groupby([\"key_value\"], as_index=False)\n",
        "                              .agg(agg_col_dict)\n",
        "                  )\n",
        "  df_rcc_agg.columns = [month_level + \"_\" + \"_\".join(c).upper() if c[-1] != \"\" else c[0] for c in df_rcc_agg.columns]\n",
        "  df_rcc_agg[\"{0}_RECENCY\".format(month_level)] = df_rcc_agg.apply(lambda row: diff_months(row[\"{0}_CODMES_LAST\".format(month_level)], 201803), axis=1)\n",
        "  df_rcc_agg[\"{0}_LONG_RECENCY\".format(month_level)] = df_rcc_agg.apply(lambda row: diff_months(row[\"{0}_CODMES_FIRST\".format(month_level)], 201803), axis=1)\n",
        "  df_rcc_agg[\"{0}_DIFF_MONTHS_FIRST_LAST\".format(month_level)] = df_rcc_agg.apply(lambda row: diff_months(row[\"{0}_CODMES_FIRST\".format(month_level)], row[\"{0}_CODMES_LAST\".format(month_level)]), axis=1)\n",
        "  del df_rcc_agg[\"{0}_CODMES_FIRST\".format(month_level)]\n",
        "  del df_rcc_agg[\"{0}_CODMES_LAST\".format(month_level)]"
      ],
      "execution_count": null,
      "outputs": [
        {
          "output_type": "stream",
          "text": [
            "Features at month level: U03M\n",
            "Features at month level: U06M\n",
            "Features at month level: U12M\n"
          ],
          "name": "stdout"
        }
      ]
    },
    {
      "cell_type": "code",
      "metadata": {
        "colab": {
          "base_uri": "https://localhost:8080/",
          "height": 441
        },
        "id": "Abc451HS8Fi0",
        "outputId": "a346a99e-c84f-4f16-9fe5-ae9d2afd4ad7"
      },
      "source": [
        "df_rcc_crosstab"
      ],
      "execution_count": null,
      "outputs": [
        {
          "output_type": "execute_result",
          "data": {
            "text/html": [
              "<div>\n",
              "<style scoped>\n",
              "    .dataframe tbody tr th:only-of-type {\n",
              "        vertical-align: middle;\n",
              "    }\n",
              "\n",
              "    .dataframe tbody tr th {\n",
              "        vertical-align: top;\n",
              "    }\n",
              "\n",
              "    .dataframe thead th {\n",
              "        text-align: right;\n",
              "    }\n",
              "</style>\n",
              "<table border=\"1\" class=\"dataframe\">\n",
              "  <thead>\n",
              "    <tr style=\"text-align: right;\">\n",
              "      <th></th>\n",
              "      <th>key_value</th>\n",
              "      <th>codmes</th>\n",
              "      <th>SALDO_MEAN_FOR_condicion_cat_0</th>\n",
              "      <th>SALDO_MEAN_FOR_condicion_cat_00_03</th>\n",
              "      <th>MEAN_OF_SALDO_MEAN_FOR_ALL_condicion_cat</th>\n",
              "      <th>SUM_OF_SALDO_MEAN_FOR_ALL_condicion_cat</th>\n",
              "      <th>COUNT_OF_SALDO_MEAN_FOR_ALL_condicion_cat</th>\n",
              "    </tr>\n",
              "  </thead>\n",
              "  <tbody>\n",
              "    <tr>\n",
              "      <th>0</th>\n",
              "      <td>14</td>\n",
              "      <td>201703</td>\n",
              "      <td>-0.065054</td>\n",
              "      <td>NaN</td>\n",
              "      <td>-0.065054</td>\n",
              "      <td>-0.065054</td>\n",
              "      <td>1</td>\n",
              "    </tr>\n",
              "    <tr>\n",
              "      <th>1</th>\n",
              "      <td>14</td>\n",
              "      <td>201704</td>\n",
              "      <td>-0.070171</td>\n",
              "      <td>NaN</td>\n",
              "      <td>-0.070171</td>\n",
              "      <td>-0.070171</td>\n",
              "      <td>1</td>\n",
              "    </tr>\n",
              "    <tr>\n",
              "      <th>2</th>\n",
              "      <td>14</td>\n",
              "      <td>201705</td>\n",
              "      <td>-0.070031</td>\n",
              "      <td>NaN</td>\n",
              "      <td>-0.070031</td>\n",
              "      <td>-0.070031</td>\n",
              "      <td>1</td>\n",
              "    </tr>\n",
              "    <tr>\n",
              "      <th>3</th>\n",
              "      <td>14</td>\n",
              "      <td>201706</td>\n",
              "      <td>-0.069897</td>\n",
              "      <td>NaN</td>\n",
              "      <td>-0.069897</td>\n",
              "      <td>-0.069897</td>\n",
              "      <td>1</td>\n",
              "    </tr>\n",
              "    <tr>\n",
              "      <th>4</th>\n",
              "      <td>14</td>\n",
              "      <td>201707</td>\n",
              "      <td>-0.070591</td>\n",
              "      <td>NaN</td>\n",
              "      <td>-0.070591</td>\n",
              "      <td>-0.070591</td>\n",
              "      <td>1</td>\n",
              "    </tr>\n",
              "    <tr>\n",
              "      <th>5</th>\n",
              "      <td>14</td>\n",
              "      <td>201708</td>\n",
              "      <td>-0.071319</td>\n",
              "      <td>NaN</td>\n",
              "      <td>-0.071319</td>\n",
              "      <td>-0.071319</td>\n",
              "      <td>1</td>\n",
              "    </tr>\n",
              "    <tr>\n",
              "      <th>6</th>\n",
              "      <td>14</td>\n",
              "      <td>201709</td>\n",
              "      <td>-0.068906</td>\n",
              "      <td>NaN</td>\n",
              "      <td>-0.068906</td>\n",
              "      <td>-0.068906</td>\n",
              "      <td>1</td>\n",
              "    </tr>\n",
              "    <tr>\n",
              "      <th>7</th>\n",
              "      <td>14</td>\n",
              "      <td>201710</td>\n",
              "      <td>-0.069399</td>\n",
              "      <td>NaN</td>\n",
              "      <td>-0.069399</td>\n",
              "      <td>-0.069399</td>\n",
              "      <td>1</td>\n",
              "    </tr>\n",
              "    <tr>\n",
              "      <th>8</th>\n",
              "      <td>14</td>\n",
              "      <td>201711</td>\n",
              "      <td>-0.069914</td>\n",
              "      <td>NaN</td>\n",
              "      <td>-0.069914</td>\n",
              "      <td>-0.069914</td>\n",
              "      <td>1</td>\n",
              "    </tr>\n",
              "    <tr>\n",
              "      <th>9</th>\n",
              "      <td>14</td>\n",
              "      <td>201712</td>\n",
              "      <td>-0.070457</td>\n",
              "      <td>NaN</td>\n",
              "      <td>-0.070457</td>\n",
              "      <td>-0.070457</td>\n",
              "      <td>1</td>\n",
              "    </tr>\n",
              "    <tr>\n",
              "      <th>10</th>\n",
              "      <td>14</td>\n",
              "      <td>201801</td>\n",
              "      <td>-0.071017</td>\n",
              "      <td>NaN</td>\n",
              "      <td>-0.071017</td>\n",
              "      <td>-0.071017</td>\n",
              "      <td>1</td>\n",
              "    </tr>\n",
              "    <tr>\n",
              "      <th>11</th>\n",
              "      <td>14</td>\n",
              "      <td>201802</td>\n",
              "      <td>-0.062501</td>\n",
              "      <td>-0.07095</td>\n",
              "      <td>-0.066725</td>\n",
              "      <td>-0.133451</td>\n",
              "      <td>2</td>\n",
              "    </tr>\n",
              "  </tbody>\n",
              "</table>\n",
              "</div>"
            ],
            "text/plain": [
              "    key_value  ...  COUNT_OF_SALDO_MEAN_FOR_ALL_condicion_cat\n",
              "0          14  ...                                          1\n",
              "1          14  ...                                          1\n",
              "2          14  ...                                          1\n",
              "3          14  ...                                          1\n",
              "4          14  ...                                          1\n",
              "5          14  ...                                          1\n",
              "6          14  ...                                          1\n",
              "7          14  ...                                          1\n",
              "8          14  ...                                          1\n",
              "9          14  ...                                          1\n",
              "10         14  ...                                          1\n",
              "11         14  ...                                          2\n",
              "\n",
              "[12 rows x 7 columns]"
            ]
          },
          "metadata": {
            "tags": []
          },
          "execution_count": 61
        }
      ]
    },
    {
      "cell_type": "code",
      "metadata": {
        "id": "xHyjc_x58HSV"
      },
      "source": [
        ""
      ],
      "execution_count": null,
      "outputs": []
    },
    {
      "cell_type": "code",
      "metadata": {
        "colab": {
          "base_uri": "https://localhost:8080/",
          "height": 100
        },
        "id": "CnBo7ZUivxZJ",
        "outputId": "6a1d5918-2777-4b76-df42-b80bd0f7301a"
      },
      "source": [
        "df_rcc_agg"
      ],
      "execution_count": null,
      "outputs": [
        {
          "output_type": "execute_result",
          "data": {
            "text/html": [
              "<div>\n",
              "<style scoped>\n",
              "    .dataframe tbody tr th:only-of-type {\n",
              "        vertical-align: middle;\n",
              "    }\n",
              "\n",
              "    .dataframe tbody tr th {\n",
              "        vertical-align: top;\n",
              "    }\n",
              "\n",
              "    .dataframe thead th {\n",
              "        text-align: right;\n",
              "    }\n",
              "</style>\n",
              "<table border=\"1\" class=\"dataframe\">\n",
              "  <thead>\n",
              "    <tr style=\"text-align: right;\">\n",
              "      <th></th>\n",
              "      <th>key_value</th>\n",
              "      <th>U12M_SALDO_MEAN_FOR_PRODUCTO_0_MEAN</th>\n",
              "      <th>U12M_SALDO_MEAN_FOR_PRODUCTO_0_SUM</th>\n",
              "      <th>U12M_SALDO_MEAN_FOR_PRODUCTO_0_COUNT</th>\n",
              "      <th>U12M_SALDO_MEAN_FOR_PRODUCTO_1_MEAN</th>\n",
              "      <th>U12M_SALDO_MEAN_FOR_PRODUCTO_1_SUM</th>\n",
              "      <th>U12M_SALDO_MEAN_FOR_PRODUCTO_1_COUNT</th>\n",
              "      <th>U12M_SALDO_MEAN_FOR_PRODUCTO_5_MEAN</th>\n",
              "      <th>U12M_SALDO_MEAN_FOR_PRODUCTO_5_SUM</th>\n",
              "      <th>U12M_SALDO_MEAN_FOR_PRODUCTO_5_COUNT</th>\n",
              "      <th>U12M_SALDO_MEAN_FOR_PRODUCTO_6_MEAN</th>\n",
              "      <th>U12M_SALDO_MEAN_FOR_PRODUCTO_6_SUM</th>\n",
              "      <th>U12M_SALDO_MEAN_FOR_PRODUCTO_6_COUNT</th>\n",
              "      <th>U12M_SALDO_MEAN_FOR_PRODUCTO_7_MEAN</th>\n",
              "      <th>U12M_SALDO_MEAN_FOR_PRODUCTO_7_SUM</th>\n",
              "      <th>U12M_SALDO_MEAN_FOR_PRODUCTO_7_COUNT</th>\n",
              "      <th>U12M_SALDO_MEAN_FOR_PRODUCTO_14_MEAN</th>\n",
              "      <th>U12M_SALDO_MEAN_FOR_PRODUCTO_14_SUM</th>\n",
              "      <th>U12M_SALDO_MEAN_FOR_PRODUCTO_14_COUNT</th>\n",
              "      <th>U12M_MEAN_OF_SALDO_MEAN_FOR_ALL_PRODUCTO_MEAN</th>\n",
              "      <th>U12M_MEAN_OF_SALDO_MEAN_FOR_ALL_PRODUCTO_SUM</th>\n",
              "      <th>U12M_MEAN_OF_SALDO_MEAN_FOR_ALL_PRODUCTO_COUNT</th>\n",
              "      <th>U12M_SUM_OF_SALDO_MEAN_FOR_ALL_PRODUCTO_MEAN</th>\n",
              "      <th>U12M_SUM_OF_SALDO_MEAN_FOR_ALL_PRODUCTO_SUM</th>\n",
              "      <th>U12M_SUM_OF_SALDO_MEAN_FOR_ALL_PRODUCTO_COUNT</th>\n",
              "      <th>U12M_COUNT_OF_SALDO_MEAN_FOR_ALL_PRODUCTO_MEAN</th>\n",
              "      <th>U12M_COUNT_OF_SALDO_MEAN_FOR_ALL_PRODUCTO_SUM</th>\n",
              "      <th>U12M_COUNT_OF_SALDO_MEAN_FOR_ALL_PRODUCTO_COUNT</th>\n",
              "      <th>U12M_RECENCY</th>\n",
              "      <th>U12M_LONG_RECENCY</th>\n",
              "      <th>U12M_DIFF_MONTHS_FIRST_LAST</th>\n",
              "    </tr>\n",
              "  </thead>\n",
              "  <tbody>\n",
              "    <tr>\n",
              "      <th>0</th>\n",
              "      <td>14</td>\n",
              "      <td>-0.053633</td>\n",
              "      <td>-0.053633</td>\n",
              "      <td>1</td>\n",
              "      <td>-0.07268</td>\n",
              "      <td>-0.726801</td>\n",
              "      <td>10</td>\n",
              "      <td>-0.053633</td>\n",
              "      <td>-0.053633</td>\n",
              "      <td>1</td>\n",
              "      <td>-0.072713</td>\n",
              "      <td>-0.072713</td>\n",
              "      <td>1</td>\n",
              "      <td>-0.060878</td>\n",
              "      <td>-0.060878</td>\n",
              "      <td>1</td>\n",
              "      <td>-0.06774</td>\n",
              "      <td>-0.812876</td>\n",
              "      <td>12</td>\n",
              "      <td>-0.069205</td>\n",
              "      <td>-0.830464</td>\n",
              "      <td>12</td>\n",
              "      <td>-0.148378</td>\n",
              "      <td>-1.780532</td>\n",
              "      <td>12</td>\n",
              "      <td>2.166667</td>\n",
              "      <td>26</td>\n",
              "      <td>12</td>\n",
              "      <td>1</td>\n",
              "      <td>12</td>\n",
              "      <td>11</td>\n",
              "    </tr>\n",
              "  </tbody>\n",
              "</table>\n",
              "</div>"
            ],
            "text/plain": [
              "   key_value  ...  U12M_DIFF_MONTHS_FIRST_LAST\n",
              "0         14  ...                           11\n",
              "\n",
              "[1 rows x 31 columns]"
            ]
          },
          "metadata": {
            "tags": []
          },
          "execution_count": 54
        }
      ]
    },
    {
      "cell_type": "code",
      "metadata": {
        "colab": {
          "base_uri": "https://localhost:8080/"
        },
        "id": "Z__RHiumHdcK",
        "outputId": "e16584fc-7aa1-4eb3-9e70-0281712744b0"
      },
      "source": [
        "df_rcc_train.info(null_counts=True)"
      ],
      "execution_count": null,
      "outputs": [
        {
          "output_type": "stream",
          "text": [
            "<class 'pandas.core.frame.DataFrame'>\n",
            "Int64Index: 30391626 entries, 0 to 30391625\n",
            "Data columns (total 10 columns):\n",
            " #   Column                    Non-Null Count     Dtype  \n",
            "---  ------                    --------------     -----  \n",
            " 0   codmes                    30391626 non-null  uint32 \n",
            " 1   key_value                 30391626 non-null  uint32 \n",
            " 2   condicion                 30391626 non-null  uint16 \n",
            " 3   tipo_credito              30391626 non-null  uint8  \n",
            " 4   cod_instit_financiera     30391626 non-null  uint8  \n",
            " 5   saldo                     30391626 non-null  float32\n",
            " 6   PRODUCTO                  30391626 non-null  uint8  \n",
            " 7   RIESGO_DIRECTO            30391626 non-null  int64  \n",
            " 8   COD_CLASIFICACION_DEUDOR  30391626 non-null  uint8  \n",
            " 9   target                    30391626 non-null  uint8  \n",
            "dtypes: float32(1), int64(1), uint16(1), uint32(2), uint8(5)\n",
            "memory usage: 1014.4 MB\n"
          ],
          "name": "stdout"
        }
      ]
    },
    {
      "cell_type": "markdown",
      "metadata": {
        "id": "rkJ1_Kp37oWX"
      },
      "source": [
        "### Feature **Producto**"
      ]
    },
    {
      "cell_type": "code",
      "metadata": {
        "id": "xX0L3hGl3nIQ"
      },
      "source": [
        "def plot_cat_features_per_month(df_all, cat_col):\n",
        "  df_agg = df_all.groupby([\"codmes\", cat_col]).agg({\"condicion\": \"count\"}).sort_values(by=[\"codmes\", \"condicion\"], ascending=[True, False])\n",
        "  cat_list = df_agg.reset_index(drop=False).groupby(cat_col, as_index=False).agg({\"condicion\": \"sum\"}).sort_values(by=[\"condicion\"], ascending=[False])[cat_col].tolist()\n",
        "  table = df_agg.unstack().fillna(0)\n",
        "  table.columns = [t[-1] for t in df_agg.unstack().columns.values]\n",
        "  table = table[cat_list]\n",
        "  g = table.div(table.sum(axis=1).astype(float), axis=0).plot(kind='bar', stacked=True, figsize=(15,7))\n",
        "  plt.title('Codmes vs {0}'.format(cat_col))\n",
        "  plt.xlabel('Codmes') \n",
        "  plt.ylabel('Proporción de {0}'.format(cat_col))\n",
        "  plt.legend(loc='center left', bbox_to_anchor=(1, 0.5))"
      ],
      "execution_count": null,
      "outputs": []
    },
    {
      "cell_type": "code",
      "metadata": {
        "colab": {
          "base_uri": "https://localhost:8080/",
          "height": 664
        },
        "id": "8z0aQ46KRHBC",
        "outputId": "9035c815-eafa-4d08-f56f-12c8f207e7a4"
      },
      "source": [
        "#plot_cat_features_per_month(df_rcc_train, \"cod_instit_financiera\")\n",
        "#plot_cat_features_per_month(df_rcc_train, \"PRODUCTO\")\n",
        "#plot_cat_features_per_month(df_rcc_train, \"RIESGO_DIRECTO\")\n",
        "#plot_cat_features_per_month(df_rcc_train, \"COD_CLASIFICACION_DEUDOR\")\n",
        "#plot_cat_features_per_month(df_rcc_train, \"condicion_cat\")\n",
        "plot_cat_features_per_month(df_rcc_train, \"PRODUCTO\")"
      ],
      "execution_count": null,
      "outputs": [
        {
          "output_type": "display_data",
          "data": {
            "image/png": "[encoded data removed]",
            "text/plain": [
              "<Figure size 1080x504 with 1 Axes>"
            ]
          },
          "metadata": {
            "tags": [],
            "needs_background": "light"
          }
        }
      ]
    },
    {
      "cell_type": "code",
      "metadata": {
        "id": "wW89vFvHGu69"
      },
      "source": [
        "df_rcc_test[\"PRODUCTO\"] = df_rcc_test[\"PRODUCTO\"].fillna(255)\n",
        "df_rcc_test[\"PRODUCTO\"] = df_rcc_test[\"PRODUCTO\"].astype(int)"
      ],
      "execution_count": null,
      "outputs": []
    },
    {
      "cell_type": "code",
      "metadata": {
        "colab": {
          "base_uri": "https://localhost:8080/",
          "height": 664
        },
        "id": "RQLnDGIMHBlA",
        "outputId": "37614959-4d56-498a-e474-767ebc216c8d"
      },
      "source": [
        "plot_cat_features_per_month(df_rcc_test, \"PRODUCTO\")"
      ],
      "execution_count": null,
      "outputs": [
        {
          "output_type": "display_data",
          "data": {
            "image/png": "[encoded data removed]",
            "text/plain": [
              "<Figure size 1080x504 with 1 Axes>"
            ]
          },
          "metadata": {
            "tags": [],
            "needs_background": "light"
          }
        }
      ]
    },
    {
      "cell_type": "code",
      "metadata": {
        "colab": {
          "base_uri": "https://localhost:8080/"
        },
        "id": "O130b-es7N7j",
        "outputId": "e8089cb7-730a-4f01-a417-abbdaa2edbf6"
      },
      "source": [
        "top_freq_products = [1, 2, 3, 8, 255, 4, 0, 6]\n",
        "top_propensity_products = [12, 17, 18, 25, 20]\n",
        "low_propensity_products = [32, 33, 35, 36, 37, 38, 40, 41]\n",
        "list_product = top_freq_products + top_propensity_products + low_propensity_products\n",
        "print(list_product)"
      ],
      "execution_count": null,
      "outputs": [
        {
          "output_type": "stream",
          "text": [
            "[1, 2, 3, 8, 255, 4, 0, 6, 12, 17, 18, 25, 20, 32, 33, 35, 36, 37, 38, 40, 41]\n"
          ],
          "name": "stdout"
        }
      ]
    },
    {
      "cell_type": "code",
      "metadata": {
        "id": "kAnt1iIr8UXz"
      },
      "source": [
        "df_rcc_train[\"new_PRODUCTO\"] = df_rcc_train[\"PRODUCTO\"]\n",
        "df_rcc_train.loc[df_rcc_train[\"PRODUCTO\"].isin(top_propensity_products), \"new_PRODUCTO\"] = \"TOP_PROPENSITY\"\n",
        "df_rcc_train.loc[df_rcc_train[\"PRODUCTO\"].isin(low_propensity_products), \"new_PRODUCTO\"] = \"LOW_PROPENSITY\"\n",
        "df_rcc_train.loc[~df_rcc_train[\"PRODUCTO\"].isin(list_product), \"new_PRODUCTO\"] = \"OTROS\""
      ],
      "execution_count": null,
      "outputs": []
    },
    {
      "cell_type": "code",
      "metadata": {
        "id": "2DdXJtdP-11p"
      },
      "source": [
        "df_rcc_test[\"new_PRODUCTO\"] = df_rcc_test[\"PRODUCTO\"]\n",
        "df_rcc_test.loc[df_rcc_test[\"PRODUCTO\"].isin(top_propensity_products), \"new_PRODUCTO\"] = \"TOP_PROPENSITY\"\n",
        "df_rcc_test.loc[df_rcc_test[\"PRODUCTO\"].isin(low_propensity_products), \"new_PRODUCTO\"] = \"LOW_PROPENSITY\"\n",
        "df_rcc_test.loc[~df_rcc_test[\"PRODUCTO\"].isin(list_product), \"new_PRODUCTO\"] = \"OTROS\""
      ],
      "execution_count": null,
      "outputs": []
    },
    {
      "cell_type": "code",
      "metadata": {
        "colab": {
          "base_uri": "https://localhost:8080/",
          "height": 421
        },
        "id": "PqXEopPo5NNc",
        "outputId": "ac37deef-d226-4a05-b18b-00c8a6e5d8f7"
      },
      "source": [
        "#df_rcc_train_1.groupby(\"codmes\", as_index=False).agg({\"target\": \"mean\"}).sort_values(by=\"target\", ascending=False)\n",
        "df_rcc_train_1.groupby(\"new_PRODUCTO\", as_index=False).agg({\"target\": [\"mean\", \"count\"]}).sort_values(by=(\"target\", \"mean\"), ascending=False)"
      ],
      "execution_count": null,
      "outputs": [
        {
          "output_type": "execute_result",
          "data": {
            "text/html": [
              "<div>\n",
              "<style scoped>\n",
              "    .dataframe tbody tr th:only-of-type {\n",
              "        vertical-align: middle;\n",
              "    }\n",
              "\n",
              "    .dataframe tbody tr th {\n",
              "        vertical-align: top;\n",
              "    }\n",
              "\n",
              "    .dataframe thead tr th {\n",
              "        text-align: left;\n",
              "    }\n",
              "</style>\n",
              "<table border=\"1\" class=\"dataframe\">\n",
              "  <thead>\n",
              "    <tr>\n",
              "      <th></th>\n",
              "      <th>new_PRODUCTO</th>\n",
              "      <th colspan=\"2\" halign=\"left\">target</th>\n",
              "    </tr>\n",
              "    <tr>\n",
              "      <th></th>\n",
              "      <th></th>\n",
              "      <th>mean</th>\n",
              "      <th>count</th>\n",
              "    </tr>\n",
              "  </thead>\n",
              "  <tbody>\n",
              "    <tr>\n",
              "      <th>10</th>\n",
              "      <td>TOP_PROPENSITY</td>\n",
              "      <td>0.802512</td>\n",
              "      <td>232693</td>\n",
              "    </tr>\n",
              "    <tr>\n",
              "      <th>5</th>\n",
              "      <td>6</td>\n",
              "      <td>0.224332</td>\n",
              "      <td>1464031</td>\n",
              "    </tr>\n",
              "    <tr>\n",
              "      <th>4</th>\n",
              "      <td>4</td>\n",
              "      <td>0.195240</td>\n",
              "      <td>1750596</td>\n",
              "    </tr>\n",
              "    <tr>\n",
              "      <th>0</th>\n",
              "      <td>0</td>\n",
              "      <td>0.191279</td>\n",
              "      <td>1681760</td>\n",
              "    </tr>\n",
              "    <tr>\n",
              "      <th>9</th>\n",
              "      <td>OTROS</td>\n",
              "      <td>0.172569</td>\n",
              "      <td>4801030</td>\n",
              "    </tr>\n",
              "    <tr>\n",
              "      <th>1</th>\n",
              "      <td>1</td>\n",
              "      <td>0.153146</td>\n",
              "      <td>6286680</td>\n",
              "    </tr>\n",
              "    <tr>\n",
              "      <th>6</th>\n",
              "      <td>8</td>\n",
              "      <td>0.132459</td>\n",
              "      <td>3069968</td>\n",
              "    </tr>\n",
              "    <tr>\n",
              "      <th>7</th>\n",
              "      <td>255</td>\n",
              "      <td>0.129681</td>\n",
              "      <td>1813077</td>\n",
              "    </tr>\n",
              "    <tr>\n",
              "      <th>2</th>\n",
              "      <td>2</td>\n",
              "      <td>0.118798</td>\n",
              "      <td>4755886</td>\n",
              "    </tr>\n",
              "    <tr>\n",
              "      <th>3</th>\n",
              "      <td>3</td>\n",
              "      <td>0.112642</td>\n",
              "      <td>4535051</td>\n",
              "    </tr>\n",
              "    <tr>\n",
              "      <th>8</th>\n",
              "      <td>LOW_PROPENSITY</td>\n",
              "      <td>0.000000</td>\n",
              "      <td>854</td>\n",
              "    </tr>\n",
              "  </tbody>\n",
              "</table>\n",
              "</div>"
            ],
            "text/plain": [
              "      new_PRODUCTO    target         \n",
              "                        mean    count\n",
              "10  TOP_PROPENSITY  0.802512   232693\n",
              "5                6  0.224332  1464031\n",
              "4                4  0.195240  1750596\n",
              "0                0  0.191279  1681760\n",
              "9            OTROS  0.172569  4801030\n",
              "1                1  0.153146  6286680\n",
              "6                8  0.132459  3069968\n",
              "7              255  0.129681  1813077\n",
              "2                2  0.118798  4755886\n",
              "3                3  0.112642  4535051\n",
              "8   LOW_PROPENSITY  0.000000      854"
            ]
          },
          "metadata": {
            "tags": []
          },
          "execution_count": 44
        }
      ]
    },
    {
      "cell_type": "code",
      "metadata": {
        "colab": {
          "base_uri": "https://localhost:8080/",
          "height": 487
        },
        "id": "E_GUlxIX5YVy",
        "outputId": "73e7ecf9-e038-445e-d587-c780ccd8f51c"
      },
      "source": [
        "plot_cat_features_per_month(df_rcc_train_1, \"new_PRODUCTO\")"
      ],
      "execution_count": null,
      "outputs": [
        {
          "output_type": "display_data",
          "data": {
            "image/png": "[encoded data removed]",
            "text/plain": [
              "<Figure size 1080x504 with 1 Axes>"
            ]
          },
          "metadata": {
            "tags": [],
            "needs_background": "light"
          }
        }
      ]
    },
    {
      "cell_type": "code",
      "metadata": {
        "colab": {
          "base_uri": "https://localhost:8080/",
          "height": 486
        },
        "id": "Vv2W_oGN-8v8",
        "outputId": "e8f3a5d0-7475-4076-bf58-ba678c6af9b2"
      },
      "source": [
        "plot_cat_features_per_month(df_rcc_test, \"new_PRODUCTO\")"
      ],
      "execution_count": null,
      "outputs": [
        {
          "output_type": "display_data",
          "data": {
            "image/png": "[encoded data removed]",
            "text/plain": [
              "<Figure size 1080x504 with 1 Axes>"
            ]
          },
          "metadata": {
            "tags": [],
            "needs_background": "light"
          }
        }
      ]
    },
    {
      "cell_type": "code",
      "metadata": {
        "colab": {
          "base_uri": "https://localhost:8080/",
          "height": 419
        },
        "id": "YH84nTpt_tiW",
        "outputId": "413ee194-3efd-4f91-e4e1-88c1433b29ca"
      },
      "source": [
        "df_rcc_train.loc[df_rcc_train[\"PRODUCTO\"] == 255]"
      ],
      "execution_count": null,
      "outputs": [
        {
          "output_type": "execute_result",
          "data": {
            "text/html": [
              "<div>\n",
              "<style scoped>\n",
              "    .dataframe tbody tr th:only-of-type {\n",
              "        vertical-align: middle;\n",
              "    }\n",
              "\n",
              "    .dataframe tbody tr th {\n",
              "        vertical-align: top;\n",
              "    }\n",
              "\n",
              "    .dataframe thead th {\n",
              "        text-align: right;\n",
              "    }\n",
              "</style>\n",
              "<table border=\"1\" class=\"dataframe\">\n",
              "  <thead>\n",
              "    <tr style=\"text-align: right;\">\n",
              "      <th></th>\n",
              "      <th>codmes</th>\n",
              "      <th>key_value</th>\n",
              "      <th>condicion</th>\n",
              "      <th>tipo_credito</th>\n",
              "      <th>cod_instit_financiera</th>\n",
              "      <th>saldo</th>\n",
              "      <th>PRODUCTO</th>\n",
              "      <th>RIESGO_DIRECTO</th>\n",
              "      <th>COD_CLASIFICACION_DEUDOR</th>\n",
              "      <th>new_PRODUCTO</th>\n",
              "    </tr>\n",
              "  </thead>\n",
              "  <tbody>\n",
              "    <tr>\n",
              "      <th>12</th>\n",
              "      <td>201711</td>\n",
              "      <td>5</td>\n",
              "      <td>0</td>\n",
              "      <td>9</td>\n",
              "      <td>38</td>\n",
              "      <td>-0.072859</td>\n",
              "      <td>255</td>\n",
              "      <td>-1</td>\n",
              "      <td>0</td>\n",
              "      <td>255</td>\n",
              "    </tr>\n",
              "    <tr>\n",
              "      <th>15</th>\n",
              "      <td>201711</td>\n",
              "      <td>5</td>\n",
              "      <td>0</td>\n",
              "      <td>12</td>\n",
              "      <td>15</td>\n",
              "      <td>-0.072825</td>\n",
              "      <td>255</td>\n",
              "      <td>-1</td>\n",
              "      <td>0</td>\n",
              "      <td>255</td>\n",
              "    </tr>\n",
              "    <tr>\n",
              "      <th>32</th>\n",
              "      <td>201711</td>\n",
              "      <td>12</td>\n",
              "      <td>0</td>\n",
              "      <td>11</td>\n",
              "      <td>11</td>\n",
              "      <td>-0.072814</td>\n",
              "      <td>255</td>\n",
              "      <td>-1</td>\n",
              "      <td>0</td>\n",
              "      <td>255</td>\n",
              "    </tr>\n",
              "    <tr>\n",
              "      <th>74</th>\n",
              "      <td>201711</td>\n",
              "      <td>42</td>\n",
              "      <td>0</td>\n",
              "      <td>11</td>\n",
              "      <td>10</td>\n",
              "      <td>-0.072825</td>\n",
              "      <td>255</td>\n",
              "      <td>-1</td>\n",
              "      <td>0</td>\n",
              "      <td>255</td>\n",
              "    </tr>\n",
              "    <tr>\n",
              "      <th>79</th>\n",
              "      <td>201711</td>\n",
              "      <td>43</td>\n",
              "      <td>0</td>\n",
              "      <td>10</td>\n",
              "      <td>28</td>\n",
              "      <td>-0.072859</td>\n",
              "      <td>255</td>\n",
              "      <td>-1</td>\n",
              "      <td>0</td>\n",
              "      <td>255</td>\n",
              "    </tr>\n",
              "    <tr>\n",
              "      <th>...</th>\n",
              "      <td>...</td>\n",
              "      <td>...</td>\n",
              "      <td>...</td>\n",
              "      <td>...</td>\n",
              "      <td>...</td>\n",
              "      <td>...</td>\n",
              "      <td>...</td>\n",
              "      <td>...</td>\n",
              "      <td>...</td>\n",
              "      <td>...</td>\n",
              "    </tr>\n",
              "    <tr>\n",
              "      <th>30391584</th>\n",
              "      <td>201801</td>\n",
              "      <td>258755</td>\n",
              "      <td>0</td>\n",
              "      <td>13</td>\n",
              "      <td>1</td>\n",
              "      <td>0.322775</td>\n",
              "      <td>255</td>\n",
              "      <td>-1</td>\n",
              "      <td>0</td>\n",
              "      <td>255</td>\n",
              "    </tr>\n",
              "    <tr>\n",
              "      <th>30391587</th>\n",
              "      <td>201801</td>\n",
              "      <td>312963</td>\n",
              "      <td>0</td>\n",
              "      <td>11</td>\n",
              "      <td>0</td>\n",
              "      <td>-0.072232</td>\n",
              "      <td>255</td>\n",
              "      <td>-1</td>\n",
              "      <td>0</td>\n",
              "      <td>255</td>\n",
              "    </tr>\n",
              "    <tr>\n",
              "      <th>30391603</th>\n",
              "      <td>201801</td>\n",
              "      <td>258758</td>\n",
              "      <td>0</td>\n",
              "      <td>12</td>\n",
              "      <td>15</td>\n",
              "      <td>-0.072579</td>\n",
              "      <td>255</td>\n",
              "      <td>-1</td>\n",
              "      <td>0</td>\n",
              "      <td>255</td>\n",
              "    </tr>\n",
              "    <tr>\n",
              "      <th>30391611</th>\n",
              "      <td>201801</td>\n",
              "      <td>324411</td>\n",
              "      <td>0</td>\n",
              "      <td>12</td>\n",
              "      <td>1</td>\n",
              "      <td>-0.072814</td>\n",
              "      <td>255</td>\n",
              "      <td>-1</td>\n",
              "      <td>0</td>\n",
              "      <td>255</td>\n",
              "    </tr>\n",
              "    <tr>\n",
              "      <th>30391616</th>\n",
              "      <td>201801</td>\n",
              "      <td>324411</td>\n",
              "      <td>0</td>\n",
              "      <td>11</td>\n",
              "      <td>0</td>\n",
              "      <td>-0.072500</td>\n",
              "      <td>255</td>\n",
              "      <td>-1</td>\n",
              "      <td>0</td>\n",
              "      <td>255</td>\n",
              "    </tr>\n",
              "  </tbody>\n",
              "</table>\n",
              "<p>1813077 rows × 10 columns</p>\n",
              "</div>"
            ],
            "text/plain": [
              "          codmes  key_value  ...  COD_CLASIFICACION_DEUDOR  new_PRODUCTO\n",
              "12        201711          5  ...                         0           255\n",
              "15        201711          5  ...                         0           255\n",
              "32        201711         12  ...                         0           255\n",
              "74        201711         42  ...                         0           255\n",
              "79        201711         43  ...                         0           255\n",
              "...          ...        ...  ...                       ...           ...\n",
              "30391584  201801     258755  ...                         0           255\n",
              "30391587  201801     312963  ...                         0           255\n",
              "30391603  201801     258758  ...                         0           255\n",
              "30391611  201801     324411  ...                         0           255\n",
              "30391616  201801     324411  ...                         0           255\n",
              "\n",
              "[1813077 rows x 10 columns]"
            ]
          },
          "metadata": {
            "tags": []
          },
          "execution_count": 50
        }
      ]
    },
    {
      "cell_type": "code",
      "metadata": {
        "colab": {
          "base_uri": "https://localhost:8080/"
        },
        "id": "bWJQpk1H__BO",
        "outputId": "927a2a28-a7a8-4c7a-9036-1d4027bd5293"
      },
      "source": [
        "[c for c in df_rcc_train[\"PRODUCTO\"].unique().tolist() if c not in df_rcc_test[\"PRODUCTO\"].unique().tolist()]"
      ],
      "execution_count": null,
      "outputs": [
        {
          "output_type": "execute_result",
          "data": {
            "text/plain": [
              "[255]"
            ]
          },
          "metadata": {
            "tags": []
          },
          "execution_count": 51
        }
      ]
    },
    {
      "cell_type": "markdown",
      "metadata": {
        "id": "sMWJCBm4SxIl"
      },
      "source": [
        "### Feature **Institucion Financiera**"
      ]
    },
    {
      "cell_type": "code",
      "metadata": {
        "id": "9lUc7oFtqBnl"
      },
      "source": [
        ""
      ],
      "execution_count": null,
      "outputs": []
    },
    {
      "cell_type": "code",
      "metadata": {
        "colab": {
          "base_uri": "https://localhost:8080/",
          "height": 1000
        },
        "id": "PL-2uzPoSx88",
        "outputId": "41ea46a3-fd1d-417c-d34b-a7fbe8b47571"
      },
      "source": [
        "plot_cat_features_per_month(df_rcc_train, \"cod_instit_financiera\")"
      ],
      "execution_count": null,
      "outputs": [
        {
          "output_type": "display_data",
          "data": {
            "image/png": "[encoded data removed]",
            "text/plain": [
              "<Figure size 1080x504 with 1 Axes>"
            ]
          },
          "metadata": {
            "tags": [],
            "needs_background": "light"
          }
        }
      ]
    },
    {
      "cell_type": "code",
      "metadata": {
        "colab": {
          "base_uri": "https://localhost:8080/",
          "height": 1000
        },
        "id": "rfKbm_rlTO43",
        "outputId": "0d775230-29e9-44b4-e956-5be1d91a8837"
      },
      "source": [
        "plot_cat_features_per_month(df_rcc_test, \"cod_instit_financiera\")"
      ],
      "execution_count": null,
      "outputs": [
        {
          "output_type": "display_data",
          "data": {
            "image/png": "[encoded data removed]",
            "text/plain": [
              "<Figure size 1080x504 with 1 Axes>"
            ]
          },
          "metadata": {
            "tags": [],
            "needs_background": "light"
          }
        }
      ]
    },
    {
      "cell_type": "code",
      "metadata": {
        "colab": {
          "base_uri": "https://localhost:8080/"
        },
        "id": "obb-y3dXTO2N",
        "outputId": "ce32246c-da99-4d4c-9d74-931310975056"
      },
      "source": [
        "df_rcc_test[[\"cod_instit_financiera\"]].info(null_counts=True)"
      ],
      "execution_count": null,
      "outputs": [
        {
          "output_type": "stream",
          "text": [
            "<class 'pandas.core.frame.DataFrame'>\n",
            "RangeIndex: 34351754 entries, 0 to 34351753\n",
            "Data columns (total 1 columns):\n",
            " #   Column                 Non-Null Count     Dtype  \n",
            "---  ------                 --------------     -----  \n",
            " 0   cod_instit_financiera  34351420 non-null  float32\n",
            "dtypes: float32(1)\n",
            "memory usage: 131.0 MB\n"
          ],
          "name": "stdout"
        }
      ]
    },
    {
      "cell_type": "code",
      "metadata": {
        "colab": {
          "base_uri": "https://localhost:8080/"
        },
        "id": "IUly-50nT8il",
        "outputId": "00859f5a-e919-48e7-e47e-1e6bd39edfd9"
      },
      "source": [
        "34351420-34351754"
      ],
      "execution_count": null,
      "outputs": [
        {
          "output_type": "execute_result",
          "data": {
            "text/plain": [
              "-334"
            ]
          },
          "metadata": {
            "tags": []
          },
          "execution_count": 25
        }
      ]
    },
    {
      "cell_type": "code",
      "metadata": {
        "colab": {
          "base_uri": "https://localhost:8080/"
        },
        "id": "O-DaMURFUKYS",
        "outputId": "bb68c8ab-7ba4-4f83-9e34-fa534171a26e"
      },
      "source": [
        "cod_instit_financiera_to_avoid = [58, 66, 102, 83, 103, 5, 81, 98, 67, 74, 31, 72, 87]\n",
        "df_rcc_train.loc[df_rcc_train[\"cod_instit_financiera\"].isin(cod_instit_financiera_to_avoid), \"codmes\"].unique()"
      ],
      "execution_count": null,
      "outputs": [
        {
          "output_type": "execute_result",
          "data": {
            "text/plain": [
              "array([201705, 201707, 201708, 201709, 201802, 201711, 201710, 201704,\n",
              "       201703, 201706, 201712, 201801], dtype=uint32)"
            ]
          },
          "metadata": {
            "tags": []
          },
          "execution_count": 31
        }
      ]
    },
    {
      "cell_type": "code",
      "metadata": {
        "colab": {
          "base_uri": "https://localhost:8080/"
        },
        "id": "1s-i4jSYWBJt",
        "outputId": "cf522213-34bb-4994-8b66-dd21336aa9a0"
      },
      "source": [
        "df_tmp_agg = df_rcc_train_1.groupby(\"cod_instit_financiera\", as_index=False).agg({\"target\": [\"mean\", \"count\"]}).sort_values(by=(\"target\", \"mean\"), ascending=False)\n",
        "print(df_tmp_agg.loc[df_tmp_agg[(\"target\", \"mean\")] < 0.05, \"cod_instit_financiera\"].tolist())"
      ],
      "execution_count": null,
      "outputs": [
        {
          "output_type": "stream",
          "text": [
            "[12, 67, 66, 87, 86, 98, 47, 14, 72, 78, 31, 81, 84]\n"
          ],
          "name": "stdout"
        }
      ]
    },
    {
      "cell_type": "code",
      "metadata": {
        "colab": {
          "base_uri": "https://localhost:8080/"
        },
        "id": "K_7P8sBQYdjs",
        "outputId": "8d12a0e1-f0ad-4ee2-e60b-9892d1651007"
      },
      "source": [
        "df_rcc_train_1[\"cod_instit_financiera\"].nunique(), df_rcc_test[\"cod_instit_financiera\"].nunique()"
      ],
      "execution_count": null,
      "outputs": [
        {
          "output_type": "execute_result",
          "data": {
            "text/plain": [
              "(109, 96)"
            ]
          },
          "metadata": {
            "tags": []
          },
          "execution_count": 34
        }
      ]
    },
    {
      "cell_type": "code",
      "metadata": {
        "colab": {
          "base_uri": "https://localhost:8080/"
        },
        "id": "R-eAv6wdYFPq",
        "outputId": "2d0de6d3-4292-42b2-f322-2f611b94aea5"
      },
      "source": [
        "top_freq_instits = [34, 1, 10, 28, 11, 37, 0, 2]\n",
        "top_propensity_instits = [9, 26, 89, 105, 99, 39, 97, 90, 108, 106, 107, 95, 49, 94, 100, 77, 91, 96, 6, 69, 104, 85, 70, 88, 93, 101, 75, 80, 73, 76, 52, 46, 68, 71, 92, 63, 60, 55, 65] # [74, 5]\n",
        "low_propensity_instits = [12, 86, 47, 14, 78, 84] #[67, 66, 87, 98, 72, 31, 81]\n",
        "list_instit = top_freq_instits + top_propensity_instits + low_propensity_instits\n",
        "print(list_instit)"
      ],
      "execution_count": null,
      "outputs": [
        {
          "output_type": "stream",
          "text": [
            "[34, 1, 10, 28, 11, 37, 0, 2, 9, 26, 89, 105, 99, 39, 97, 90, 108, 106, 107, 95, 49, 94, 100, 77, 91, 96, 6, 69, 104, 85, 70, 88, 93, 101, 75, 80, 73, 76, 52, 46, 68, 71, 92, 63, 60, 55, 65, 12, 86, 47, 14, 78, 84]\n"
          ],
          "name": "stdout"
        }
      ]
    },
    {
      "cell_type": "code",
      "metadata": {
        "id": "JZYQQXmIYI4h"
      },
      "source": [
        "df_rcc_train[\"new_cod_instit_financiera\"] = df_rcc_train[\"cod_instit_financiera\"]\n",
        "df_rcc_train.loc[df_rcc_train[\"cod_instit_financiera\"].isin(top_propensity_instits), \"new_cod_instit_financiera\"] = \"TOP_PROPENSITY\"\n",
        "df_rcc_train.loc[df_rcc_train[\"cod_instit_financiera\"].isin(low_propensity_instits), \"new_cod_instit_financiera\"] = \"LOW_PROPENSITY\"\n",
        "df_rcc_train.loc[~df_rcc_train[\"cod_instit_financiera\"].isin(list_instit), \"new_cod_instit_financiera\"] = \"OTROS\""
      ],
      "execution_count": null,
      "outputs": []
    },
    {
      "cell_type": "code",
      "metadata": {
        "id": "rPRKk9niYIxa"
      },
      "source": [
        "df_rcc_test[\"new_cod_instit_financiera\"] = df_rcc_test[\"cod_instit_financiera\"]\n",
        "df_rcc_test.loc[df_rcc_test[\"cod_instit_financiera\"].isin(top_propensity_instits), \"new_cod_instit_financiera\"] = \"TOP_PROPENSITY\"\n",
        "df_rcc_test.loc[df_rcc_test[\"cod_instit_financiera\"].isin(low_propensity_instits), \"new_cod_instit_financiera\"] = \"LOW_PROPENSITY\"\n",
        "df_rcc_test.loc[~df_rcc_test[\"cod_instit_financiera\"].isin(list_instit), \"new_cod_instit_financiera\"] = \"OTROS\""
      ],
      "execution_count": null,
      "outputs": []
    },
    {
      "cell_type": "code",
      "metadata": {
        "id": "Em0_3TBHfWfR"
      },
      "source": [
        "df_rcc_train_1 = df_rcc_train.merge(df_y_train, how=\"left\", on=\"key_value\")"
      ],
      "execution_count": null,
      "outputs": []
    },
    {
      "cell_type": "code",
      "metadata": {
        "colab": {
          "base_uri": "https://localhost:8080/",
          "height": 421
        },
        "id": "rv4EQIUqYIqE",
        "outputId": "c237765f-27cf-40d1-fdee-38550609aed6"
      },
      "source": [
        "df_rcc_train_1.groupby(\"new_cod_instit_financiera\", as_index=False).agg({\"target\": [\"mean\", \"count\"]}).sort_values(by=(\"target\", \"mean\"), ascending=False)"
      ],
      "execution_count": null,
      "outputs": [
        {
          "output_type": "execute_result",
          "data": {
            "text/html": [
              "<div>\n",
              "<style scoped>\n",
              "    .dataframe tbody tr th:only-of-type {\n",
              "        vertical-align: middle;\n",
              "    }\n",
              "\n",
              "    .dataframe tbody tr th {\n",
              "        vertical-align: top;\n",
              "    }\n",
              "\n",
              "    .dataframe thead tr th {\n",
              "        text-align: left;\n",
              "    }\n",
              "</style>\n",
              "<table border=\"1\" class=\"dataframe\">\n",
              "  <thead>\n",
              "    <tr>\n",
              "      <th></th>\n",
              "      <th>new_cod_instit_financiera</th>\n",
              "      <th colspan=\"2\" halign=\"left\">target</th>\n",
              "    </tr>\n",
              "    <tr>\n",
              "      <th></th>\n",
              "      <th></th>\n",
              "      <th>mean</th>\n",
              "      <th>count</th>\n",
              "    </tr>\n",
              "  </thead>\n",
              "  <tbody>\n",
              "    <tr>\n",
              "      <th>10</th>\n",
              "      <td>TOP_PROPENSITY</td>\n",
              "      <td>0.376281</td>\n",
              "      <td>1547513</td>\n",
              "    </tr>\n",
              "    <tr>\n",
              "      <th>9</th>\n",
              "      <td>OTROS</td>\n",
              "      <td>0.161742</td>\n",
              "      <td>9632572</td>\n",
              "    </tr>\n",
              "    <tr>\n",
              "      <th>7</th>\n",
              "      <td>37</td>\n",
              "      <td>0.149385</td>\n",
              "      <td>2025437</td>\n",
              "    </tr>\n",
              "    <tr>\n",
              "      <th>5</th>\n",
              "      <td>28</td>\n",
              "      <td>0.149028</td>\n",
              "      <td>2510486</td>\n",
              "    </tr>\n",
              "    <tr>\n",
              "      <th>3</th>\n",
              "      <td>10</td>\n",
              "      <td>0.145239</td>\n",
              "      <td>2554443</td>\n",
              "    </tr>\n",
              "    <tr>\n",
              "      <th>1</th>\n",
              "      <td>1</td>\n",
              "      <td>0.132197</td>\n",
              "      <td>2918938</td>\n",
              "    </tr>\n",
              "    <tr>\n",
              "      <th>6</th>\n",
              "      <td>34</td>\n",
              "      <td>0.131867</td>\n",
              "      <td>3269181</td>\n",
              "    </tr>\n",
              "    <tr>\n",
              "      <th>4</th>\n",
              "      <td>11</td>\n",
              "      <td>0.125560</td>\n",
              "      <td>2272979</td>\n",
              "    </tr>\n",
              "    <tr>\n",
              "      <th>0</th>\n",
              "      <td>0</td>\n",
              "      <td>0.111038</td>\n",
              "      <td>1943112</td>\n",
              "    </tr>\n",
              "    <tr>\n",
              "      <th>2</th>\n",
              "      <td>2</td>\n",
              "      <td>0.105804</td>\n",
              "      <td>1714186</td>\n",
              "    </tr>\n",
              "    <tr>\n",
              "      <th>8</th>\n",
              "      <td>LOW_PROPENSITY</td>\n",
              "      <td>0.013674</td>\n",
              "      <td>2779</td>\n",
              "    </tr>\n",
              "  </tbody>\n",
              "</table>\n",
              "</div>"
            ],
            "text/plain": [
              "   new_cod_instit_financiera    target         \n",
              "                                  mean    count\n",
              "10            TOP_PROPENSITY  0.376281  1547513\n",
              "9                      OTROS  0.161742  9632572\n",
              "7                         37  0.149385  2025437\n",
              "5                         28  0.149028  2510486\n",
              "3                         10  0.145239  2554443\n",
              "1                          1  0.132197  2918938\n",
              "6                         34  0.131867  3269181\n",
              "4                         11  0.125560  2272979\n",
              "0                          0  0.111038  1943112\n",
              "2                          2  0.105804  1714186\n",
              "8             LOW_PROPENSITY  0.013674     2779"
            ]
          },
          "metadata": {
            "tags": []
          },
          "execution_count": 70
        }
      ]
    },
    {
      "cell_type": "code",
      "metadata": {
        "id": "aSflDQiCfWdW"
      },
      "source": [
        ""
      ],
      "execution_count": null,
      "outputs": []
    },
    {
      "cell_type": "markdown",
      "metadata": {
        "id": "eFA5G3uKoLK3"
      },
      "source": [
        "### Feature **Condición**"
      ]
    },
    {
      "cell_type": "code",
      "metadata": {
        "id": "CGykEMRxFqgx"
      },
      "source": [
        "df_rcc_train[\"condicion_cat\"] = df_rcc_train[\"condicion\"].apply(lambda c: 0 if c == 0 else \"00_03\" if c < 90 else  \"03_06\" if c < 180 else \"06_12\" if c < 365 else \"12-32\" if c < 960 else \">32\")"
      ],
      "execution_count": null,
      "outputs": []
    },
    {
      "cell_type": "code",
      "metadata": {
        "colab": {
          "base_uri": "https://localhost:8080/",
          "height": 450
        },
        "id": "2wEuh8V_obQG",
        "outputId": "4432ff9e-a909-4258-8547-1969be6a504a"
      },
      "source": [
        "df_rcc_train.groupby([\"codmes\", \"condicion_cat\"], as_index=False).agg({\"key_value\": [\"count\", \"nunique\"], \"condicion\": [\"min\", \"max\"]}).sort_values(by=\"codmes\", ascending=False)"
      ],
      "execution_count": null,
      "outputs": [
        {
          "output_type": "execute_result",
          "data": {
            "text/html": [
              "<div>\n",
              "<style scoped>\n",
              "    .dataframe tbody tr th:only-of-type {\n",
              "        vertical-align: middle;\n",
              "    }\n",
              "\n",
              "    .dataframe tbody tr th {\n",
              "        vertical-align: top;\n",
              "    }\n",
              "\n",
              "    .dataframe thead tr th {\n",
              "        text-align: left;\n",
              "    }\n",
              "</style>\n",
              "<table border=\"1\" class=\"dataframe\">\n",
              "  <thead>\n",
              "    <tr>\n",
              "      <th></th>\n",
              "      <th>codmes</th>\n",
              "      <th>condicion_cat</th>\n",
              "      <th colspan=\"2\" halign=\"left\">key_value</th>\n",
              "      <th colspan=\"2\" halign=\"left\">condicion</th>\n",
              "    </tr>\n",
              "    <tr>\n",
              "      <th></th>\n",
              "      <th></th>\n",
              "      <th></th>\n",
              "      <th>count</th>\n",
              "      <th>nunique</th>\n",
              "      <th>min</th>\n",
              "      <th>max</th>\n",
              "    </tr>\n",
              "  </thead>\n",
              "  <tbody>\n",
              "    <tr>\n",
              "      <th>71</th>\n",
              "      <td>201802</td>\n",
              "      <td>&gt;32</td>\n",
              "      <td>13813</td>\n",
              "      <td>10386</td>\n",
              "      <td>960</td>\n",
              "      <td>9999</td>\n",
              "    </tr>\n",
              "    <tr>\n",
              "      <th>70</th>\n",
              "      <td>201802</td>\n",
              "      <td>12-32</td>\n",
              "      <td>6057</td>\n",
              "      <td>4492</td>\n",
              "      <td>365</td>\n",
              "      <td>959</td>\n",
              "    </tr>\n",
              "    <tr>\n",
              "      <th>69</th>\n",
              "      <td>201802</td>\n",
              "      <td>06_12</td>\n",
              "      <td>3755</td>\n",
              "      <td>2686</td>\n",
              "      <td>180</td>\n",
              "      <td>364</td>\n",
              "    </tr>\n",
              "    <tr>\n",
              "      <th>68</th>\n",
              "      <td>201802</td>\n",
              "      <td>03_06</td>\n",
              "      <td>4460</td>\n",
              "      <td>2340</td>\n",
              "      <td>90</td>\n",
              "      <td>179</td>\n",
              "    </tr>\n",
              "    <tr>\n",
              "      <th>67</th>\n",
              "      <td>201802</td>\n",
              "      <td>00_03</td>\n",
              "      <td>67490</td>\n",
              "      <td>24181</td>\n",
              "      <td>1</td>\n",
              "      <td>89</td>\n",
              "    </tr>\n",
              "    <tr>\n",
              "      <th>...</th>\n",
              "      <td>...</td>\n",
              "      <td>...</td>\n",
              "      <td>...</td>\n",
              "      <td>...</td>\n",
              "      <td>...</td>\n",
              "      <td>...</td>\n",
              "    </tr>\n",
              "    <tr>\n",
              "      <th>2</th>\n",
              "      <td>201703</td>\n",
              "      <td>03_06</td>\n",
              "      <td>2785</td>\n",
              "      <td>1843</td>\n",
              "      <td>90</td>\n",
              "      <td>179</td>\n",
              "    </tr>\n",
              "    <tr>\n",
              "      <th>1</th>\n",
              "      <td>201703</td>\n",
              "      <td>00_03</td>\n",
              "      <td>60389</td>\n",
              "      <td>22564</td>\n",
              "      <td>1</td>\n",
              "      <td>89</td>\n",
              "    </tr>\n",
              "    <tr>\n",
              "      <th>4</th>\n",
              "      <td>201703</td>\n",
              "      <td>12-32</td>\n",
              "      <td>7234</td>\n",
              "      <td>5233</td>\n",
              "      <td>365</td>\n",
              "      <td>959</td>\n",
              "    </tr>\n",
              "    <tr>\n",
              "      <th>5</th>\n",
              "      <td>201703</td>\n",
              "      <td>&gt;32</td>\n",
              "      <td>13674</td>\n",
              "      <td>10582</td>\n",
              "      <td>960</td>\n",
              "      <td>9999</td>\n",
              "    </tr>\n",
              "    <tr>\n",
              "      <th>0</th>\n",
              "      <td>201703</td>\n",
              "      <td>0</td>\n",
              "      <td>2211888</td>\n",
              "      <td>266216</td>\n",
              "      <td>0</td>\n",
              "      <td>0</td>\n",
              "    </tr>\n",
              "  </tbody>\n",
              "</table>\n",
              "<p>72 rows × 6 columns</p>\n",
              "</div>"
            ],
            "text/plain": [
              "    codmes condicion_cat key_value         condicion      \n",
              "                             count nunique       min   max\n",
              "71  201802           >32     13813   10386       960  9999\n",
              "70  201802         12-32      6057    4492       365   959\n",
              "69  201802         06_12      3755    2686       180   364\n",
              "68  201802         03_06      4460    2340        90   179\n",
              "67  201802         00_03     67490   24181         1    89\n",
              "..     ...           ...       ...     ...       ...   ...\n",
              "2   201703         03_06      2785    1843        90   179\n",
              "1   201703         00_03     60389   22564         1    89\n",
              "4   201703         12-32      7234    5233       365   959\n",
              "5   201703           >32     13674   10582       960  9999\n",
              "0   201703             0   2211888  266216         0     0\n",
              "\n",
              "[72 rows x 6 columns]"
            ]
          },
          "metadata": {
            "tags": []
          },
          "execution_count": 65
        }
      ]
    },
    {
      "cell_type": "code",
      "metadata": {
        "id": "6dkUvnGAogOa"
      },
      "source": [
        "df_rcc_train.loc[df_rcc_train[\"condicion\"] == 9999]"
      ],
      "execution_count": null,
      "outputs": []
    },
    {
      "cell_type": "code",
      "metadata": {
        "id": "_Blci9j5okIL"
      },
      "source": [
        "df_se_train.loc[df_se_train[\"key_value\"] == 319538]"
      ],
      "execution_count": null,
      "outputs": []
    },
    {
      "cell_type": "markdown",
      "metadata": {
        "id": "u7JYeWG2oWW3"
      },
      "source": [
        "### Feature **Producto**"
      ]
    },
    {
      "cell_type": "code",
      "metadata": {
        "id": "3CmLEgN2KLqB"
      },
      "source": [
        "df_rcc_train_agg = df_rcc_train.groupby([\"codmes\", \"key_value\"], as_index=False).agg({\"PRODUCTO\": \"count\"})"
      ],
      "execution_count": null,
      "outputs": []
    },
    {
      "cell_type": "code",
      "metadata": {
        "colab": {
          "base_uri": "https://localhost:8080/",
          "height": 452
        },
        "id": "gSN5JGc5KTON",
        "outputId": "740cdfa2-0775-40f6-a3cb-cb51154921ed"
      },
      "source": [
        "df_rcc_train_agg.groupby(\"codmes\", as_index=False).agg({\"PRODUCTO\": [\"min\", \"mean\", \"max\"]})"
      ],
      "execution_count": null,
      "outputs": [
        {
          "output_type": "execute_result",
          "data": {
            "text/html": [
              "<div>\n",
              "<style scoped>\n",
              "    .dataframe tbody tr th:only-of-type {\n",
              "        vertical-align: middle;\n",
              "    }\n",
              "\n",
              "    .dataframe tbody tr th {\n",
              "        vertical-align: top;\n",
              "    }\n",
              "\n",
              "    .dataframe thead tr th {\n",
              "        text-align: left;\n",
              "    }\n",
              "</style>\n",
              "<table border=\"1\" class=\"dataframe\">\n",
              "  <thead>\n",
              "    <tr>\n",
              "      <th></th>\n",
              "      <th>codmes</th>\n",
              "      <th colspan=\"3\" halign=\"left\">PRODUCTO</th>\n",
              "    </tr>\n",
              "    <tr>\n",
              "      <th></th>\n",
              "      <th></th>\n",
              "      <th>min</th>\n",
              "      <th>mean</th>\n",
              "      <th>max</th>\n",
              "    </tr>\n",
              "  </thead>\n",
              "  <tbody>\n",
              "    <tr>\n",
              "      <th>0</th>\n",
              "      <td>201703</td>\n",
              "      <td>1</td>\n",
              "      <td>8.478538</td>\n",
              "      <td>72</td>\n",
              "    </tr>\n",
              "    <tr>\n",
              "      <th>1</th>\n",
              "      <td>201704</td>\n",
              "      <td>1</td>\n",
              "      <td>8.544050</td>\n",
              "      <td>64</td>\n",
              "    </tr>\n",
              "    <tr>\n",
              "      <th>2</th>\n",
              "      <td>201705</td>\n",
              "      <td>1</td>\n",
              "      <td>8.534149</td>\n",
              "      <td>68</td>\n",
              "    </tr>\n",
              "    <tr>\n",
              "      <th>3</th>\n",
              "      <td>201706</td>\n",
              "      <td>1</td>\n",
              "      <td>8.601406</td>\n",
              "      <td>69</td>\n",
              "    </tr>\n",
              "    <tr>\n",
              "      <th>4</th>\n",
              "      <td>201707</td>\n",
              "      <td>1</td>\n",
              "      <td>8.596254</td>\n",
              "      <td>66</td>\n",
              "    </tr>\n",
              "    <tr>\n",
              "      <th>5</th>\n",
              "      <td>201708</td>\n",
              "      <td>1</td>\n",
              "      <td>8.617329</td>\n",
              "      <td>64</td>\n",
              "    </tr>\n",
              "    <tr>\n",
              "      <th>6</th>\n",
              "      <td>201709</td>\n",
              "      <td>1</td>\n",
              "      <td>8.718542</td>\n",
              "      <td>66</td>\n",
              "    </tr>\n",
              "    <tr>\n",
              "      <th>7</th>\n",
              "      <td>201710</td>\n",
              "      <td>1</td>\n",
              "      <td>8.682221</td>\n",
              "      <td>62</td>\n",
              "    </tr>\n",
              "    <tr>\n",
              "      <th>8</th>\n",
              "      <td>201711</td>\n",
              "      <td>1</td>\n",
              "      <td>8.718877</td>\n",
              "      <td>62</td>\n",
              "    </tr>\n",
              "    <tr>\n",
              "      <th>9</th>\n",
              "      <td>201712</td>\n",
              "      <td>1</td>\n",
              "      <td>8.644327</td>\n",
              "      <td>66</td>\n",
              "    </tr>\n",
              "    <tr>\n",
              "      <th>10</th>\n",
              "      <td>201801</td>\n",
              "      <td>1</td>\n",
              "      <td>8.827767</td>\n",
              "      <td>67</td>\n",
              "    </tr>\n",
              "    <tr>\n",
              "      <th>11</th>\n",
              "      <td>201802</td>\n",
              "      <td>1</td>\n",
              "      <td>9.069171</td>\n",
              "      <td>65</td>\n",
              "    </tr>\n",
              "  </tbody>\n",
              "</table>\n",
              "</div>"
            ],
            "text/plain": [
              "    codmes PRODUCTO              \n",
              "                min      mean max\n",
              "0   201703        1  8.478538  72\n",
              "1   201704        1  8.544050  64\n",
              "2   201705        1  8.534149  68\n",
              "3   201706        1  8.601406  69\n",
              "4   201707        1  8.596254  66\n",
              "5   201708        1  8.617329  64\n",
              "6   201709        1  8.718542  66\n",
              "7   201710        1  8.682221  62\n",
              "8   201711        1  8.718877  62\n",
              "9   201712        1  8.644327  66\n",
              "10  201801        1  8.827767  67\n",
              "11  201802        1  9.069171  65"
            ]
          },
          "metadata": {
            "tags": []
          },
          "execution_count": 61
        }
      ]
    },
    {
      "cell_type": "code",
      "metadata": {
        "colab": {
          "base_uri": "https://localhost:8080/",
          "height": 452
        },
        "id": "hyVmG_foA5Y3",
        "outputId": "af3de1e1-0f0a-4031-93d5-6da0254193af"
      },
      "source": [
        "df_rcc_train.groupby(\"codmes\", as_index=False).agg({\"key_value\": [\"count\", \"nunique\"]}).sort_values(by=\"codmes\", ascending=False)"
      ],
      "execution_count": null,
      "outputs": [
        {
          "output_type": "execute_result",
          "data": {
            "text/html": [
              "<div>\n",
              "<style scoped>\n",
              "    .dataframe tbody tr th:only-of-type {\n",
              "        vertical-align: middle;\n",
              "    }\n",
              "\n",
              "    .dataframe tbody tr th {\n",
              "        vertical-align: top;\n",
              "    }\n",
              "\n",
              "    .dataframe thead tr th {\n",
              "        text-align: left;\n",
              "    }\n",
              "</style>\n",
              "<table border=\"1\" class=\"dataframe\">\n",
              "  <thead>\n",
              "    <tr>\n",
              "      <th></th>\n",
              "      <th>codmes</th>\n",
              "      <th colspan=\"2\" halign=\"left\">key_value</th>\n",
              "    </tr>\n",
              "    <tr>\n",
              "      <th></th>\n",
              "      <th></th>\n",
              "      <th>count</th>\n",
              "      <th>nunique</th>\n",
              "    </tr>\n",
              "  </thead>\n",
              "  <tbody>\n",
              "    <tr>\n",
              "      <th>11</th>\n",
              "      <td>201802</td>\n",
              "      <td>3251180</td>\n",
              "      <td>358487</td>\n",
              "    </tr>\n",
              "    <tr>\n",
              "      <th>10</th>\n",
              "      <td>201801</td>\n",
              "      <td>2599133</td>\n",
              "      <td>294427</td>\n",
              "    </tr>\n",
              "    <tr>\n",
              "      <th>9</th>\n",
              "      <td>201712</td>\n",
              "      <td>2549039</td>\n",
              "      <td>294880</td>\n",
              "    </tr>\n",
              "    <tr>\n",
              "      <th>8</th>\n",
              "      <td>201711</td>\n",
              "      <td>2582235</td>\n",
              "      <td>296166</td>\n",
              "    </tr>\n",
              "    <tr>\n",
              "      <th>7</th>\n",
              "      <td>201710</td>\n",
              "      <td>2551045</td>\n",
              "      <td>293824</td>\n",
              "    </tr>\n",
              "    <tr>\n",
              "      <th>6</th>\n",
              "      <td>201709</td>\n",
              "      <td>2524942</td>\n",
              "      <td>289606</td>\n",
              "    </tr>\n",
              "    <tr>\n",
              "      <th>5</th>\n",
              "      <td>201708</td>\n",
              "      <td>2475888</td>\n",
              "      <td>287315</td>\n",
              "    </tr>\n",
              "    <tr>\n",
              "      <th>4</th>\n",
              "      <td>201707</td>\n",
              "      <td>2444190</td>\n",
              "      <td>284332</td>\n",
              "    </tr>\n",
              "    <tr>\n",
              "      <th>3</th>\n",
              "      <td>201706</td>\n",
              "      <td>2407525</td>\n",
              "      <td>279899</td>\n",
              "    </tr>\n",
              "    <tr>\n",
              "      <th>2</th>\n",
              "      <td>201705</td>\n",
              "      <td>2365299</td>\n",
              "      <td>277157</td>\n",
              "    </tr>\n",
              "    <tr>\n",
              "      <th>1</th>\n",
              "      <td>201704</td>\n",
              "      <td>2341813</td>\n",
              "      <td>274087</td>\n",
              "    </tr>\n",
              "    <tr>\n",
              "      <th>0</th>\n",
              "      <td>201703</td>\n",
              "      <td>2299337</td>\n",
              "      <td>271195</td>\n",
              "    </tr>\n",
              "  </tbody>\n",
              "</table>\n",
              "</div>"
            ],
            "text/plain": [
              "    codmes key_value        \n",
              "               count nunique\n",
              "11  201802   3251180  358487\n",
              "10  201801   2599133  294427\n",
              "9   201712   2549039  294880\n",
              "8   201711   2582235  296166\n",
              "7   201710   2551045  293824\n",
              "6   201709   2524942  289606\n",
              "5   201708   2475888  287315\n",
              "4   201707   2444190  284332\n",
              "3   201706   2407525  279899\n",
              "2   201705   2365299  277157\n",
              "1   201704   2341813  274087\n",
              "0   201703   2299337  271195"
            ]
          },
          "metadata": {
            "tags": []
          },
          "execution_count": 19
        }
      ]
    },
    {
      "cell_type": "code",
      "metadata": {
        "colab": {
          "base_uri": "https://localhost:8080/",
          "height": 452
        },
        "id": "uDMHRVJC4uZF",
        "outputId": "792d348c-9baf-4996-8ed4-2fbc7b9a91f2"
      },
      "source": [
        "df_rcc_test.groupby(\"codmes\", as_index=False).agg({\"key_value\": [\"count\", \"nunique\"]}).sort_values(by=\"codmes\", ascending=False)"
      ],
      "execution_count": null,
      "outputs": [
        {
          "output_type": "execute_result",
          "data": {
            "text/html": [
              "<div>\n",
              "<style scoped>\n",
              "    .dataframe tbody tr th:only-of-type {\n",
              "        vertical-align: middle;\n",
              "    }\n",
              "\n",
              "    .dataframe tbody tr th {\n",
              "        vertical-align: top;\n",
              "    }\n",
              "\n",
              "    .dataframe thead tr th {\n",
              "        text-align: left;\n",
              "    }\n",
              "</style>\n",
              "<table border=\"1\" class=\"dataframe\">\n",
              "  <thead>\n",
              "    <tr>\n",
              "      <th></th>\n",
              "      <th>codmes</th>\n",
              "      <th colspan=\"2\" halign=\"left\">key_value</th>\n",
              "    </tr>\n",
              "    <tr>\n",
              "      <th></th>\n",
              "      <th></th>\n",
              "      <th>count</th>\n",
              "      <th>nunique</th>\n",
              "    </tr>\n",
              "  </thead>\n",
              "  <tbody>\n",
              "    <tr>\n",
              "      <th>11</th>\n",
              "      <td>201902</td>\n",
              "      <td>3668504</td>\n",
              "      <td>396666</td>\n",
              "    </tr>\n",
              "    <tr>\n",
              "      <th>10</th>\n",
              "      <td>201901</td>\n",
              "      <td>2974453</td>\n",
              "      <td>326447</td>\n",
              "    </tr>\n",
              "    <tr>\n",
              "      <th>9</th>\n",
              "      <td>201812</td>\n",
              "      <td>2913266</td>\n",
              "      <td>327683</td>\n",
              "    </tr>\n",
              "    <tr>\n",
              "      <th>8</th>\n",
              "      <td>201811</td>\n",
              "      <td>2927965</td>\n",
              "      <td>329841</td>\n",
              "    </tr>\n",
              "    <tr>\n",
              "      <th>7</th>\n",
              "      <td>201810</td>\n",
              "      <td>2873164</td>\n",
              "      <td>327975</td>\n",
              "    </tr>\n",
              "    <tr>\n",
              "      <th>6</th>\n",
              "      <td>201809</td>\n",
              "      <td>2850795</td>\n",
              "      <td>323546</td>\n",
              "    </tr>\n",
              "    <tr>\n",
              "      <th>5</th>\n",
              "      <td>201808</td>\n",
              "      <td>2803200</td>\n",
              "      <td>321742</td>\n",
              "    </tr>\n",
              "    <tr>\n",
              "      <th>4</th>\n",
              "      <td>201807</td>\n",
              "      <td>2760481</td>\n",
              "      <td>319240</td>\n",
              "    </tr>\n",
              "    <tr>\n",
              "      <th>3</th>\n",
              "      <td>201806</td>\n",
              "      <td>2725859</td>\n",
              "      <td>314598</td>\n",
              "    </tr>\n",
              "    <tr>\n",
              "      <th>2</th>\n",
              "      <td>201805</td>\n",
              "      <td>2671249</td>\n",
              "      <td>311221</td>\n",
              "    </tr>\n",
              "    <tr>\n",
              "      <th>1</th>\n",
              "      <td>201804</td>\n",
              "      <td>2610643</td>\n",
              "      <td>307786</td>\n",
              "    </tr>\n",
              "    <tr>\n",
              "      <th>0</th>\n",
              "      <td>201803</td>\n",
              "      <td>2572175</td>\n",
              "      <td>304407</td>\n",
              "    </tr>\n",
              "  </tbody>\n",
              "</table>\n",
              "</div>"
            ],
            "text/plain": [
              "    codmes key_value        \n",
              "               count nunique\n",
              "11  201902   3668504  396666\n",
              "10  201901   2974453  326447\n",
              "9   201812   2913266  327683\n",
              "8   201811   2927965  329841\n",
              "7   201810   2873164  327975\n",
              "6   201809   2850795  323546\n",
              "5   201808   2803200  321742\n",
              "4   201807   2760481  319240\n",
              "3   201806   2725859  314598\n",
              "2   201805   2671249  311221\n",
              "1   201804   2610643  307786\n",
              "0   201803   2572175  304407"
            ]
          },
          "metadata": {
            "tags": []
          },
          "execution_count": 22
        }
      ]
    },
    {
      "cell_type": "code",
      "metadata": {
        "id": "ddI01mvu4uWK"
      },
      "source": [
        "df_rcc_all = pd.concat([df_rcc_train, df_rcc_test]).reset_index(drop=True)"
      ],
      "execution_count": null,
      "outputs": []
    },
    {
      "cell_type": "code",
      "metadata": {
        "id": "6QIf4Lbr4uSk"
      },
      "source": [
        "df_rcc_all."
      ],
      "execution_count": null,
      "outputs": []
    },
    {
      "cell_type": "code",
      "metadata": {
        "id": "wodFghaa4uJb"
      },
      "source": [
        ""
      ],
      "execution_count": null,
      "outputs": []
    },
    {
      "cell_type": "markdown",
      "metadata": {
        "id": "qKGWlYWvFBk9"
      },
      "source": [
        "Lista de Cambios:\n",
        "\n",
        "*   Quitar a los registros con código de producto 255\n",
        "*   Sumar 1 a los valores de la variable saldo\n",
        "*   Quitar a los registros con códigos de instituciones financieras iguales a: \n",
        "\n"
      ]
    },
    {
      "cell_type": "code",
      "metadata": {
        "id": "g3p-miPbFFKl"
      },
      "source": [
        ""
      ],
      "execution_count": null,
      "outputs": []
    },
    {
      "cell_type": "code",
      "metadata": {
        "id": "L2f6UnHvagjL"
      },
      "source": [
        ""
      ],
      "execution_count": null,
      "outputs": []
    },
    {
      "cell_type": "markdown",
      "metadata": {
        "id": "QLK0wNXlFVx2"
      },
      "source": [
        "## Dataset Producto"
      ]
    },
    {
      "cell_type": "code",
      "metadata": {
        "id": "kCRGBPNbFZ88"
      },
      "source": [
        "df_productos = optimizar_df(pd.read_csv(\"[00] Data/productos.csv\")).rename(columns={\"Productos\": \"PRODUCTO\", \"Unnamed: 0\": \"DES_PRODUCTO\"})"
      ],
      "execution_count": null,
      "outputs": []
    },
    {
      "cell_type": "code",
      "metadata": {
        "colab": {
          "base_uri": "https://localhost:8080/",
          "height": 1000
        },
        "id": "67gzLsxKFmnG",
        "outputId": "8d3b2066-6b03-4064-d59b-0c27ed4ba4dc"
      },
      "source": [
        "df_productos"
      ],
      "execution_count": null,
      "outputs": [
        {
          "output_type": "execute_result",
          "data": {
            "text/html": [
              "<div>\n",
              "<style scoped>\n",
              "    .dataframe tbody tr th:only-of-type {\n",
              "        vertical-align: middle;\n",
              "    }\n",
              "\n",
              "    .dataframe tbody tr th {\n",
              "        vertical-align: top;\n",
              "    }\n",
              "\n",
              "    .dataframe thead th {\n",
              "        text-align: right;\n",
              "    }\n",
              "</style>\n",
              "<table border=\"1\" class=\"dataframe\">\n",
              "  <thead>\n",
              "    <tr style=\"text-align: right;\">\n",
              "      <th></th>\n",
              "      <th>DES_PRODUCTO</th>\n",
              "      <th>PRODUCTO</th>\n",
              "    </tr>\n",
              "  </thead>\n",
              "  <tbody>\n",
              "    <tr>\n",
              "      <th>0</th>\n",
              "      <td>PRESTAMO PERSONAL</td>\n",
              "      <td>0</td>\n",
              "    </tr>\n",
              "    <tr>\n",
              "      <th>1</th>\n",
              "      <td>RENDIMIENTOS DEVENGADOS</td>\n",
              "      <td>1</td>\n",
              "    </tr>\n",
              "    <tr>\n",
              "      <th>2</th>\n",
              "      <td>LINEA TOTAL TC</td>\n",
              "      <td>2</td>\n",
              "    </tr>\n",
              "    <tr>\n",
              "      <th>3</th>\n",
              "      <td>LINEA TC NO UTILIZADA</td>\n",
              "      <td>3</td>\n",
              "    </tr>\n",
              "    <tr>\n",
              "      <th>4</th>\n",
              "      <td>PRESTAMOS MICRO EMPRESA</td>\n",
              "      <td>4</td>\n",
              "    </tr>\n",
              "    <tr>\n",
              "      <th>5</th>\n",
              "      <td>OTRAS GARANTIAS NO PREFERIDAS</td>\n",
              "      <td>5</td>\n",
              "    </tr>\n",
              "    <tr>\n",
              "      <th>6</th>\n",
              "      <td>PROVISIONES</td>\n",
              "      <td>6</td>\n",
              "    </tr>\n",
              "    <tr>\n",
              "      <th>7</th>\n",
              "      <td>LINEA PRESTAMOS NO UTILIZADA</td>\n",
              "      <td>7</td>\n",
              "    </tr>\n",
              "    <tr>\n",
              "      <th>8</th>\n",
              "      <td>TARJETAS COMPRAS</td>\n",
              "      <td>8</td>\n",
              "    </tr>\n",
              "    <tr>\n",
              "      <th>9</th>\n",
              "      <td>RESTO RD</td>\n",
              "      <td>9</td>\n",
              "    </tr>\n",
              "    <tr>\n",
              "      <th>10</th>\n",
              "      <td>OTRAS GARANTIAS PREFERIDAS</td>\n",
              "      <td>10</td>\n",
              "    </tr>\n",
              "    <tr>\n",
              "      <th>11</th>\n",
              "      <td>TARJETAS EFECTIVO</td>\n",
              "      <td>11</td>\n",
              "    </tr>\n",
              "    <tr>\n",
              "      <th>12</th>\n",
              "      <td>CREDITOS CASTIGOS</td>\n",
              "      <td>12</td>\n",
              "    </tr>\n",
              "    <tr>\n",
              "      <th>13</th>\n",
              "      <td>TARJETAS OTROS CONCEPTOS</td>\n",
              "      <td>13</td>\n",
              "    </tr>\n",
              "    <tr>\n",
              "      <th>14</th>\n",
              "      <td>VEHICULAR</td>\n",
              "      <td>14</td>\n",
              "    </tr>\n",
              "    <tr>\n",
              "      <th>15</th>\n",
              "      <td>GARANTIA NO PREFERIDA - AVALES FIANZAS</td>\n",
              "      <td>15</td>\n",
              "    </tr>\n",
              "    <tr>\n",
              "      <th>16</th>\n",
              "      <td>GARANTIA HIPOTECARIA</td>\n",
              "      <td>16</td>\n",
              "    </tr>\n",
              "    <tr>\n",
              "      <th>17</th>\n",
              "      <td>REFINANCIADOS</td>\n",
              "      <td>17</td>\n",
              "    </tr>\n",
              "    <tr>\n",
              "      <th>18</th>\n",
              "      <td>TARJETAS SIN DEFINIR</td>\n",
              "      <td>18</td>\n",
              "    </tr>\n",
              "    <tr>\n",
              "      <th>19</th>\n",
              "      <td>HIPOTECARIO MIVIVIENDA</td>\n",
              "      <td>19</td>\n",
              "    </tr>\n",
              "    <tr>\n",
              "      <th>20</th>\n",
              "      <td>LINEA CTA CTE NO UTILIZADA</td>\n",
              "      <td>20</td>\n",
              "    </tr>\n",
              "    <tr>\n",
              "      <th>21</th>\n",
              "      <td>PRESTAMO CONVENIO</td>\n",
              "      <td>21</td>\n",
              "    </tr>\n",
              "    <tr>\n",
              "      <th>22</th>\n",
              "      <td>HIPOTECARIO REGULAR</td>\n",
              "      <td>22</td>\n",
              "    </tr>\n",
              "    <tr>\n",
              "      <th>23</th>\n",
              "      <td>SOBREGIRO</td>\n",
              "      <td>23</td>\n",
              "    </tr>\n",
              "    <tr>\n",
              "      <th>24</th>\n",
              "      <td>CARTAS FIANZAS OTORGADAS</td>\n",
              "      <td>24</td>\n",
              "    </tr>\n",
              "    <tr>\n",
              "      <th>25</th>\n",
              "      <td>CREDITO CASTIGADOS SIENDO AMORTIZADOS</td>\n",
              "      <td>25</td>\n",
              "    </tr>\n",
              "    <tr>\n",
              "      <th>26</th>\n",
              "      <td>OTROS PRESTAMOS COMERCIALES</td>\n",
              "      <td>26</td>\n",
              "    </tr>\n",
              "    <tr>\n",
              "      <th>27</th>\n",
              "      <td>TARJETA_EMP OTROS CONCEPTOS</td>\n",
              "      <td>27</td>\n",
              "    </tr>\n",
              "    <tr>\n",
              "      <th>28</th>\n",
              "      <td>TARJETA_EMP EFECTIVO</td>\n",
              "      <td>28</td>\n",
              "    </tr>\n",
              "    <tr>\n",
              "      <th>29</th>\n",
              "      <td>CREDITOS NO DESEMBOLSADOS</td>\n",
              "      <td>29</td>\n",
              "    </tr>\n",
              "    <tr>\n",
              "      <th>30</th>\n",
              "      <td>OTROS CREDITOS</td>\n",
              "      <td>30</td>\n",
              "    </tr>\n",
              "    <tr>\n",
              "      <th>31</th>\n",
              "      <td>TARJETA_EMP COMPRA</td>\n",
              "      <td>31</td>\n",
              "    </tr>\n",
              "    <tr>\n",
              "      <th>32</th>\n",
              "      <td>RESTO RI</td>\n",
              "      <td>32</td>\n",
              "    </tr>\n",
              "    <tr>\n",
              "      <th>33</th>\n",
              "      <td>LINEA DESCUENTOS NO UTILIZADA</td>\n",
              "      <td>33</td>\n",
              "    </tr>\n",
              "    <tr>\n",
              "      <th>34</th>\n",
              "      <td>LEASING</td>\n",
              "      <td>34</td>\n",
              "    </tr>\n",
              "    <tr>\n",
              "      <th>35</th>\n",
              "      <td>TARJETA_EMP SIN DEFINIR</td>\n",
              "      <td>35</td>\n",
              "    </tr>\n",
              "    <tr>\n",
              "      <th>36</th>\n",
              "      <td>DESCUENTOS</td>\n",
              "      <td>36</td>\n",
              "    </tr>\n",
              "    <tr>\n",
              "      <th>37</th>\n",
              "      <td>LINEA AVALES FIANZAS NO UTILIZADA</td>\n",
              "      <td>37</td>\n",
              "    </tr>\n",
              "    <tr>\n",
              "      <th>38</th>\n",
              "      <td>CREDITO INMOBILIARIOS</td>\n",
              "      <td>38</td>\n",
              "    </tr>\n",
              "    <tr>\n",
              "      <th>39</th>\n",
              "      <td>AVANCE</td>\n",
              "      <td>39</td>\n",
              "    </tr>\n",
              "    <tr>\n",
              "      <th>40</th>\n",
              "      <td>FACTORING</td>\n",
              "      <td>40</td>\n",
              "    </tr>\n",
              "    <tr>\n",
              "      <th>41</th>\n",
              "      <td>DERIVADOS ME -- FORWARDS</td>\n",
              "      <td>41</td>\n",
              "    </tr>\n",
              "  </tbody>\n",
              "</table>\n",
              "</div>"
            ],
            "text/plain": [
              "                              DES_PRODUCTO  PRODUCTO\n",
              "0                        PRESTAMO PERSONAL         0\n",
              "1                  RENDIMIENTOS DEVENGADOS         1\n",
              "2                           LINEA TOTAL TC         2\n",
              "3                    LINEA TC NO UTILIZADA         3\n",
              "4                  PRESTAMOS MICRO EMPRESA         4\n",
              "5            OTRAS GARANTIAS NO PREFERIDAS         5\n",
              "6                              PROVISIONES         6\n",
              "7             LINEA PRESTAMOS NO UTILIZADA         7\n",
              "8                         TARJETAS COMPRAS         8\n",
              "9                                 RESTO RD         9\n",
              "10              OTRAS GARANTIAS PREFERIDAS        10\n",
              "11                       TARJETAS EFECTIVO        11\n",
              "12                       CREDITOS CASTIGOS        12\n",
              "13                TARJETAS OTROS CONCEPTOS        13\n",
              "14                               VEHICULAR        14\n",
              "15  GARANTIA NO PREFERIDA - AVALES FIANZAS        15\n",
              "16                    GARANTIA HIPOTECARIA        16\n",
              "17                           REFINANCIADOS        17\n",
              "18                    TARJETAS SIN DEFINIR        18\n",
              "19                  HIPOTECARIO MIVIVIENDA        19\n",
              "20              LINEA CTA CTE NO UTILIZADA        20\n",
              "21                       PRESTAMO CONVENIO        21\n",
              "22                     HIPOTECARIO REGULAR        22\n",
              "23                               SOBREGIRO        23\n",
              "24                CARTAS FIANZAS OTORGADAS        24\n",
              "25   CREDITO CASTIGADOS SIENDO AMORTIZADOS        25\n",
              "26             OTROS PRESTAMOS COMERCIALES        26\n",
              "27             TARJETA_EMP OTROS CONCEPTOS        27\n",
              "28                    TARJETA_EMP EFECTIVO        28\n",
              "29               CREDITOS NO DESEMBOLSADOS        29\n",
              "30                          OTROS CREDITOS        30\n",
              "31                      TARJETA_EMP COMPRA        31\n",
              "32                                RESTO RI        32\n",
              "33           LINEA DESCUENTOS NO UTILIZADA        33\n",
              "34                                 LEASING        34\n",
              "35                 TARJETA_EMP SIN DEFINIR        35\n",
              "36                              DESCUENTOS        36\n",
              "37       LINEA AVALES FIANZAS NO UTILIZADA        37\n",
              "38                   CREDITO INMOBILIARIOS        38\n",
              "39                                  AVANCE        39\n",
              "40                               FACTORING        40\n",
              "41                DERIVADOS ME -- FORWARDS        41"
            ]
          },
          "metadata": {
            "tags": []
          },
          "execution_count": 33
        }
      ]
    },
    {
      "cell_type": "markdown",
      "metadata": {
        "id": "0SvqSTz_F6mI"
      },
      "source": [
        "## Dataset Sunat"
      ]
    },
    {
      "cell_type": "code",
      "metadata": {
        "id": "t6jJ6JQEFpNP"
      },
      "source": [
        "df_sunat_train = optimizar_df(pd.read_csv(\"[00] Data/sunat_train.csv\")).drop_duplicates()\n",
        "df_sunat_test = optimizar_df(pd.read_csv(\"[00] Data/sunat_test.csv\")).drop_duplicates()"
      ],
      "execution_count": null,
      "outputs": []
    },
    {
      "cell_type": "code",
      "metadata": {
        "colab": {
          "base_uri": "https://localhost:8080/",
          "height": 224
        },
        "id": "z9CNtjwOGGjL",
        "outputId": "bec7054b-fc45-441b-bf09-549aa4da6502"
      },
      "source": [
        "df_sunat_train.head()"
      ],
      "execution_count": null,
      "outputs": [
        {
          "output_type": "execute_result",
          "data": {
            "text/html": [
              "<div>\n",
              "<style scoped>\n",
              "    .dataframe tbody tr th:only-of-type {\n",
              "        vertical-align: middle;\n",
              "    }\n",
              "\n",
              "    .dataframe tbody tr th {\n",
              "        vertical-align: top;\n",
              "    }\n",
              "\n",
              "    .dataframe thead th {\n",
              "        text-align: right;\n",
              "    }\n",
              "</style>\n",
              "<table border=\"1\" class=\"dataframe\">\n",
              "  <thead>\n",
              "    <tr style=\"text-align: right;\">\n",
              "      <th></th>\n",
              "      <th>key_value</th>\n",
              "      <th>tipcontribuyente</th>\n",
              "      <th>tippersona</th>\n",
              "      <th>ciiu</th>\n",
              "      <th>ubigeo</th>\n",
              "      <th>condiciondomicilio</th>\n",
              "      <th>estadocontribuyente</th>\n",
              "      <th>fecalta</th>\n",
              "      <th>fecbaja</th>\n",
              "      <th>codvia</th>\n",
              "      <th>codzona</th>\n",
              "      <th>contabilidad</th>\n",
              "      <th>facturacion</th>\n",
              "      <th>domiciliado</th>\n",
              "      <th>comercioexterior</th>\n",
              "      <th>cargorele</th>\n",
              "      <th>codentidadtributo</th>\n",
              "      <th>estadotributo</th>\n",
              "    </tr>\n",
              "  </thead>\n",
              "  <tbody>\n",
              "    <tr>\n",
              "      <th>0</th>\n",
              "      <td>190597</td>\n",
              "      <td>9</td>\n",
              "      <td>0</td>\n",
              "      <td>178</td>\n",
              "      <td>442</td>\n",
              "      <td>0</td>\n",
              "      <td>0</td>\n",
              "      <td>-0.785832</td>\n",
              "      <td>NaN</td>\n",
              "      <td>0</td>\n",
              "      <td>0</td>\n",
              "      <td>6</td>\n",
              "      <td>11</td>\n",
              "      <td>0</td>\n",
              "      <td>1</td>\n",
              "      <td>635</td>\n",
              "      <td>8</td>\n",
              "      <td>2</td>\n",
              "    </tr>\n",
              "    <tr>\n",
              "      <th>1</th>\n",
              "      <td>162813</td>\n",
              "      <td>0</td>\n",
              "      <td>0</td>\n",
              "      <td>253</td>\n",
              "      <td>449</td>\n",
              "      <td>0</td>\n",
              "      <td>0</td>\n",
              "      <td>0.971584</td>\n",
              "      <td>NaN</td>\n",
              "      <td>20</td>\n",
              "      <td>0</td>\n",
              "      <td>6</td>\n",
              "      <td>11</td>\n",
              "      <td>0</td>\n",
              "      <td>1</td>\n",
              "      <td>635</td>\n",
              "      <td>8</td>\n",
              "      <td>2</td>\n",
              "    </tr>\n",
              "    <tr>\n",
              "      <th>2</th>\n",
              "      <td>190620</td>\n",
              "      <td>9</td>\n",
              "      <td>0</td>\n",
              "      <td>173</td>\n",
              "      <td>473</td>\n",
              "      <td>0</td>\n",
              "      <td>2</td>\n",
              "      <td>0.025283</td>\n",
              "      <td>-1.561407</td>\n",
              "      <td>11</td>\n",
              "      <td>0</td>\n",
              "      <td>6</td>\n",
              "      <td>11</td>\n",
              "      <td>0</td>\n",
              "      <td>1</td>\n",
              "      <td>635</td>\n",
              "      <td>8</td>\n",
              "      <td>2</td>\n",
              "    </tr>\n",
              "    <tr>\n",
              "      <th>3</th>\n",
              "      <td>43886</td>\n",
              "      <td>0</td>\n",
              "      <td>0</td>\n",
              "      <td>285</td>\n",
              "      <td>154</td>\n",
              "      <td>0</td>\n",
              "      <td>0</td>\n",
              "      <td>0.566027</td>\n",
              "      <td>NaN</td>\n",
              "      <td>11</td>\n",
              "      <td>3</td>\n",
              "      <td>6</td>\n",
              "      <td>11</td>\n",
              "      <td>0</td>\n",
              "      <td>1</td>\n",
              "      <td>635</td>\n",
              "      <td>8</td>\n",
              "      <td>2</td>\n",
              "    </tr>\n",
              "    <tr>\n",
              "      <th>4</th>\n",
              "      <td>255211</td>\n",
              "      <td>0</td>\n",
              "      <td>0</td>\n",
              "      <td>285</td>\n",
              "      <td>456</td>\n",
              "      <td>0</td>\n",
              "      <td>0</td>\n",
              "      <td>0.836399</td>\n",
              "      <td>NaN</td>\n",
              "      <td>11</td>\n",
              "      <td>3</td>\n",
              "      <td>6</td>\n",
              "      <td>11</td>\n",
              "      <td>0</td>\n",
              "      <td>1</td>\n",
              "      <td>635</td>\n",
              "      <td>8</td>\n",
              "      <td>2</td>\n",
              "    </tr>\n",
              "  </tbody>\n",
              "</table>\n",
              "</div>"
            ],
            "text/plain": [
              "   key_value  tipcontribuyente  ...  codentidadtributo  estadotributo\n",
              "0     190597                 9  ...                  8              2\n",
              "1     162813                 0  ...                  8              2\n",
              "2     190620                 9  ...                  8              2\n",
              "3      43886                 0  ...                  8              2\n",
              "4     255211                 0  ...                  8              2\n",
              "\n",
              "[5 rows x 18 columns]"
            ]
          },
          "metadata": {
            "tags": []
          },
          "execution_count": 21
        }
      ]
    },
    {
      "cell_type": "code",
      "metadata": {
        "id": "5igXIae7Z044",
        "colab": {
          "base_uri": "https://localhost:8080/"
        },
        "outputId": "0825181b-9552-4ffe-df2a-3851ab607c8d"
      },
      "source": [
        "df_sunat_train.shape[0], df_sunat_train[\"key_value\"].nunique()"
      ],
      "execution_count": null,
      "outputs": [
        {
          "output_type": "execute_result",
          "data": {
            "text/plain": [
              "(292479, 233866)"
            ]
          },
          "metadata": {
            "tags": []
          },
          "execution_count": 22
        }
      ]
    },
    {
      "cell_type": "code",
      "metadata": {
        "id": "eWTUIXDmZ5X3",
        "colab": {
          "base_uri": "https://localhost:8080/",
          "height": 419
        },
        "outputId": "fe6b9e71-1247-4a60-d5d9-b208720cb498"
      },
      "source": [
        "df_sunat_train.groupby(\"key_value\", as_index=False).agg({\"tipcontribuyente\": \"count\"}).sort_values(by=\"tipcontribuyente\", ascending=False)"
      ],
      "execution_count": null,
      "outputs": [
        {
          "output_type": "execute_result",
          "data": {
            "text/html": [
              "<div>\n",
              "<style scoped>\n",
              "    .dataframe tbody tr th:only-of-type {\n",
              "        vertical-align: middle;\n",
              "    }\n",
              "\n",
              "    .dataframe tbody tr th {\n",
              "        vertical-align: top;\n",
              "    }\n",
              "\n",
              "    .dataframe thead th {\n",
              "        text-align: right;\n",
              "    }\n",
              "</style>\n",
              "<table border=\"1\" class=\"dataframe\">\n",
              "  <thead>\n",
              "    <tr style=\"text-align: right;\">\n",
              "      <th></th>\n",
              "      <th>key_value</th>\n",
              "      <th>tipcontribuyente</th>\n",
              "    </tr>\n",
              "  </thead>\n",
              "  <tbody>\n",
              "    <tr>\n",
              "      <th>172663</th>\n",
              "      <td>262090</td>\n",
              "      <td>96</td>\n",
              "    </tr>\n",
              "    <tr>\n",
              "      <th>80409</th>\n",
              "      <td>121911</td>\n",
              "      <td>63</td>\n",
              "    </tr>\n",
              "    <tr>\n",
              "      <th>57921</th>\n",
              "      <td>87603</td>\n",
              "      <td>51</td>\n",
              "    </tr>\n",
              "    <tr>\n",
              "      <th>149929</th>\n",
              "      <td>227523</td>\n",
              "      <td>47</td>\n",
              "    </tr>\n",
              "    <tr>\n",
              "      <th>157189</th>\n",
              "      <td>238557</td>\n",
              "      <td>45</td>\n",
              "    </tr>\n",
              "    <tr>\n",
              "      <th>...</th>\n",
              "      <td>...</td>\n",
              "      <td>...</td>\n",
              "    </tr>\n",
              "    <tr>\n",
              "      <th>83372</th>\n",
              "      <td>126457</td>\n",
              "      <td>1</td>\n",
              "    </tr>\n",
              "    <tr>\n",
              "      <th>83373</th>\n",
              "      <td>126458</td>\n",
              "      <td>1</td>\n",
              "    </tr>\n",
              "    <tr>\n",
              "      <th>83376</th>\n",
              "      <td>126461</td>\n",
              "      <td>1</td>\n",
              "    </tr>\n",
              "    <tr>\n",
              "      <th>83377</th>\n",
              "      <td>126463</td>\n",
              "      <td>1</td>\n",
              "    </tr>\n",
              "    <tr>\n",
              "      <th>233865</th>\n",
              "      <td>358486</td>\n",
              "      <td>1</td>\n",
              "    </tr>\n",
              "  </tbody>\n",
              "</table>\n",
              "<p>233866 rows × 2 columns</p>\n",
              "</div>"
            ],
            "text/plain": [
              "        key_value  tipcontribuyente\n",
              "172663     262090                96\n",
              "80409      121911                63\n",
              "57921       87603                51\n",
              "149929     227523                47\n",
              "157189     238557                45\n",
              "...           ...               ...\n",
              "83372      126457                 1\n",
              "83373      126458                 1\n",
              "83376      126461                 1\n",
              "83377      126463                 1\n",
              "233865     358486                 1\n",
              "\n",
              "[233866 rows x 2 columns]"
            ]
          },
          "metadata": {
            "tags": []
          },
          "execution_count": 23
        }
      ]
    },
    {
      "cell_type": "code",
      "metadata": {
        "id": "IImClWjSaHOF",
        "colab": {
          "base_uri": "https://localhost:8080/",
          "height": 439
        },
        "outputId": "e5e877b9-b0fc-4548-c4a3-2a6c53de7a5f"
      },
      "source": [
        "df_sunat_train.loc[df_sunat_train[\"key_value\"] == 121911]"
      ],
      "execution_count": null,
      "outputs": [
        {
          "output_type": "execute_result",
          "data": {
            "text/html": [
              "<div>\n",
              "<style scoped>\n",
              "    .dataframe tbody tr th:only-of-type {\n",
              "        vertical-align: middle;\n",
              "    }\n",
              "\n",
              "    .dataframe tbody tr th {\n",
              "        vertical-align: top;\n",
              "    }\n",
              "\n",
              "    .dataframe thead th {\n",
              "        text-align: right;\n",
              "    }\n",
              "</style>\n",
              "<table border=\"1\" class=\"dataframe\">\n",
              "  <thead>\n",
              "    <tr style=\"text-align: right;\">\n",
              "      <th></th>\n",
              "      <th>key_value</th>\n",
              "      <th>tipcontribuyente</th>\n",
              "      <th>tippersona</th>\n",
              "      <th>ciiu</th>\n",
              "      <th>ubigeo</th>\n",
              "      <th>condiciondomicilio</th>\n",
              "      <th>estadocontribuyente</th>\n",
              "      <th>fecalta</th>\n",
              "      <th>fecbaja</th>\n",
              "      <th>codvia</th>\n",
              "      <th>codzona</th>\n",
              "      <th>contabilidad</th>\n",
              "      <th>facturacion</th>\n",
              "      <th>domiciliado</th>\n",
              "      <th>comercioexterior</th>\n",
              "      <th>cargorele</th>\n",
              "      <th>codentidadtributo</th>\n",
              "      <th>estadotributo</th>\n",
              "    </tr>\n",
              "  </thead>\n",
              "  <tbody>\n",
              "    <tr>\n",
              "      <th>111888</th>\n",
              "      <td>121911</td>\n",
              "      <td>0</td>\n",
              "      <td>0</td>\n",
              "      <td>236</td>\n",
              "      <td>455</td>\n",
              "      <td>0</td>\n",
              "      <td>0</td>\n",
              "      <td>0.971584</td>\n",
              "      <td>NaN</td>\n",
              "      <td>20</td>\n",
              "      <td>0</td>\n",
              "      <td>6</td>\n",
              "      <td>11</td>\n",
              "      <td>0</td>\n",
              "      <td>1</td>\n",
              "      <td>635</td>\n",
              "      <td>8</td>\n",
              "      <td>2</td>\n",
              "    </tr>\n",
              "    <tr>\n",
              "      <th>437282</th>\n",
              "      <td>121911</td>\n",
              "      <td>31</td>\n",
              "      <td>1</td>\n",
              "      <td>150</td>\n",
              "      <td>455</td>\n",
              "      <td>0</td>\n",
              "      <td>9</td>\n",
              "      <td>2.053072</td>\n",
              "      <td>NaN</td>\n",
              "      <td>0</td>\n",
              "      <td>0</td>\n",
              "      <td>10</td>\n",
              "      <td>11</td>\n",
              "      <td>1</td>\n",
              "      <td>2</td>\n",
              "      <td>47</td>\n",
              "      <td>6</td>\n",
              "      <td>0</td>\n",
              "    </tr>\n",
              "    <tr>\n",
              "      <th>446840</th>\n",
              "      <td>121911</td>\n",
              "      <td>31</td>\n",
              "      <td>1</td>\n",
              "      <td>150</td>\n",
              "      <td>455</td>\n",
              "      <td>0</td>\n",
              "      <td>0</td>\n",
              "      <td>1.512328</td>\n",
              "      <td>NaN</td>\n",
              "      <td>0</td>\n",
              "      <td>0</td>\n",
              "      <td>10</td>\n",
              "      <td>11</td>\n",
              "      <td>1</td>\n",
              "      <td>1</td>\n",
              "      <td>425</td>\n",
              "      <td>6</td>\n",
              "      <td>1</td>\n",
              "    </tr>\n",
              "    <tr>\n",
              "      <th>446842</th>\n",
              "      <td>121911</td>\n",
              "      <td>31</td>\n",
              "      <td>1</td>\n",
              "      <td>150</td>\n",
              "      <td>455</td>\n",
              "      <td>0</td>\n",
              "      <td>0</td>\n",
              "      <td>1.512328</td>\n",
              "      <td>NaN</td>\n",
              "      <td>0</td>\n",
              "      <td>0</td>\n",
              "      <td>10</td>\n",
              "      <td>11</td>\n",
              "      <td>1</td>\n",
              "      <td>1</td>\n",
              "      <td>425</td>\n",
              "      <td>6</td>\n",
              "      <td>0</td>\n",
              "    </tr>\n",
              "    <tr>\n",
              "      <th>446847</th>\n",
              "      <td>121911</td>\n",
              "      <td>31</td>\n",
              "      <td>1</td>\n",
              "      <td>150</td>\n",
              "      <td>455</td>\n",
              "      <td>0</td>\n",
              "      <td>0</td>\n",
              "      <td>1.512328</td>\n",
              "      <td>NaN</td>\n",
              "      <td>0</td>\n",
              "      <td>0</td>\n",
              "      <td>10</td>\n",
              "      <td>11</td>\n",
              "      <td>1</td>\n",
              "      <td>1</td>\n",
              "      <td>425</td>\n",
              "      <td>0</td>\n",
              "      <td>1</td>\n",
              "    </tr>\n",
              "    <tr>\n",
              "      <th>...</th>\n",
              "      <td>...</td>\n",
              "      <td>...</td>\n",
              "      <td>...</td>\n",
              "      <td>...</td>\n",
              "      <td>...</td>\n",
              "      <td>...</td>\n",
              "      <td>...</td>\n",
              "      <td>...</td>\n",
              "      <td>...</td>\n",
              "      <td>...</td>\n",
              "      <td>...</td>\n",
              "      <td>...</td>\n",
              "      <td>...</td>\n",
              "      <td>...</td>\n",
              "      <td>...</td>\n",
              "      <td>...</td>\n",
              "      <td>...</td>\n",
              "      <td>...</td>\n",
              "    </tr>\n",
              "    <tr>\n",
              "      <th>1370582</th>\n",
              "      <td>121911</td>\n",
              "      <td>18</td>\n",
              "      <td>1</td>\n",
              "      <td>244</td>\n",
              "      <td>455</td>\n",
              "      <td>0</td>\n",
              "      <td>0</td>\n",
              "      <td>1.106770</td>\n",
              "      <td>NaN</td>\n",
              "      <td>0</td>\n",
              "      <td>0</td>\n",
              "      <td>10</td>\n",
              "      <td>11</td>\n",
              "      <td>1</td>\n",
              "      <td>1</td>\n",
              "      <td>425</td>\n",
              "      <td>0</td>\n",
              "      <td>0</td>\n",
              "    </tr>\n",
              "    <tr>\n",
              "      <th>1370583</th>\n",
              "      <td>121911</td>\n",
              "      <td>18</td>\n",
              "      <td>1</td>\n",
              "      <td>244</td>\n",
              "      <td>455</td>\n",
              "      <td>0</td>\n",
              "      <td>0</td>\n",
              "      <td>1.106770</td>\n",
              "      <td>NaN</td>\n",
              "      <td>0</td>\n",
              "      <td>0</td>\n",
              "      <td>10</td>\n",
              "      <td>11</td>\n",
              "      <td>1</td>\n",
              "      <td>1</td>\n",
              "      <td>425</td>\n",
              "      <td>4</td>\n",
              "      <td>0</td>\n",
              "    </tr>\n",
              "    <tr>\n",
              "      <th>1370586</th>\n",
              "      <td>121911</td>\n",
              "      <td>18</td>\n",
              "      <td>1</td>\n",
              "      <td>244</td>\n",
              "      <td>455</td>\n",
              "      <td>0</td>\n",
              "      <td>0</td>\n",
              "      <td>1.106770</td>\n",
              "      <td>NaN</td>\n",
              "      <td>0</td>\n",
              "      <td>0</td>\n",
              "      <td>10</td>\n",
              "      <td>11</td>\n",
              "      <td>1</td>\n",
              "      <td>1</td>\n",
              "      <td>425</td>\n",
              "      <td>6</td>\n",
              "      <td>1</td>\n",
              "    </tr>\n",
              "    <tr>\n",
              "      <th>1370587</th>\n",
              "      <td>121911</td>\n",
              "      <td>18</td>\n",
              "      <td>1</td>\n",
              "      <td>244</td>\n",
              "      <td>455</td>\n",
              "      <td>0</td>\n",
              "      <td>0</td>\n",
              "      <td>1.106770</td>\n",
              "      <td>NaN</td>\n",
              "      <td>0</td>\n",
              "      <td>0</td>\n",
              "      <td>10</td>\n",
              "      <td>11</td>\n",
              "      <td>1</td>\n",
              "      <td>1</td>\n",
              "      <td>425</td>\n",
              "      <td>6</td>\n",
              "      <td>0</td>\n",
              "    </tr>\n",
              "    <tr>\n",
              "      <th>1370596</th>\n",
              "      <td>121911</td>\n",
              "      <td>18</td>\n",
              "      <td>1</td>\n",
              "      <td>244</td>\n",
              "      <td>455</td>\n",
              "      <td>0</td>\n",
              "      <td>0</td>\n",
              "      <td>1.106770</td>\n",
              "      <td>NaN</td>\n",
              "      <td>0</td>\n",
              "      <td>0</td>\n",
              "      <td>10</td>\n",
              "      <td>11</td>\n",
              "      <td>1</td>\n",
              "      <td>1</td>\n",
              "      <td>425</td>\n",
              "      <td>0</td>\n",
              "      <td>1</td>\n",
              "    </tr>\n",
              "  </tbody>\n",
              "</table>\n",
              "<p>63 rows × 18 columns</p>\n",
              "</div>"
            ],
            "text/plain": [
              "         key_value  tipcontribuyente  ...  codentidadtributo  estadotributo\n",
              "111888      121911                 0  ...                  8              2\n",
              "437282      121911                31  ...                  6              0\n",
              "446840      121911                31  ...                  6              1\n",
              "446842      121911                31  ...                  6              0\n",
              "446847      121911                31  ...                  0              1\n",
              "...            ...               ...  ...                ...            ...\n",
              "1370582     121911                18  ...                  0              0\n",
              "1370583     121911                18  ...                  4              0\n",
              "1370586     121911                18  ...                  6              1\n",
              "1370587     121911                18  ...                  6              0\n",
              "1370596     121911                18  ...                  0              1\n",
              "\n",
              "[63 rows x 18 columns]"
            ]
          },
          "metadata": {
            "tags": []
          },
          "execution_count": 25
        }
      ]
    },
    {
      "cell_type": "code",
      "metadata": {
        "colab": {
          "base_uri": "https://localhost:8080/",
          "height": 224
        },
        "id": "IksNaE03GI2x",
        "outputId": "3ca6e616-511d-4ad0-be70-05e6d0554624"
      },
      "source": [
        "df_sunat_test.head()"
      ],
      "execution_count": null,
      "outputs": [
        {
          "output_type": "execute_result",
          "data": {
            "text/html": [
              "<div>\n",
              "<style scoped>\n",
              "    .dataframe tbody tr th:only-of-type {\n",
              "        vertical-align: middle;\n",
              "    }\n",
              "\n",
              "    .dataframe tbody tr th {\n",
              "        vertical-align: top;\n",
              "    }\n",
              "\n",
              "    .dataframe thead th {\n",
              "        text-align: right;\n",
              "    }\n",
              "</style>\n",
              "<table border=\"1\" class=\"dataframe\">\n",
              "  <thead>\n",
              "    <tr style=\"text-align: right;\">\n",
              "      <th></th>\n",
              "      <th>key_value</th>\n",
              "      <th>tipcontribuyente</th>\n",
              "      <th>tippersona</th>\n",
              "      <th>ciiu</th>\n",
              "      <th>ubigeo</th>\n",
              "      <th>condiciondomicilio</th>\n",
              "      <th>estadocontribuyente</th>\n",
              "      <th>fecalta</th>\n",
              "      <th>fecbaja</th>\n",
              "      <th>codvia</th>\n",
              "      <th>codzona</th>\n",
              "      <th>contabilidad</th>\n",
              "      <th>facturacion</th>\n",
              "      <th>domiciliado</th>\n",
              "      <th>comercioexterior</th>\n",
              "      <th>cargorele</th>\n",
              "      <th>codentidadtributo</th>\n",
              "      <th>estadotributo</th>\n",
              "    </tr>\n",
              "  </thead>\n",
              "  <tbody>\n",
              "    <tr>\n",
              "      <th>0</th>\n",
              "      <td>371518</td>\n",
              "      <td>9</td>\n",
              "      <td>0</td>\n",
              "      <td>49</td>\n",
              "      <td>1434</td>\n",
              "      <td>0</td>\n",
              "      <td>0</td>\n",
              "      <td>1.782700</td>\n",
              "      <td>NaN</td>\n",
              "      <td>11</td>\n",
              "      <td>3</td>\n",
              "      <td>6</td>\n",
              "      <td>11</td>\n",
              "      <td>0</td>\n",
              "      <td>1</td>\n",
              "      <td>635</td>\n",
              "      <td>8</td>\n",
              "      <td>2</td>\n",
              "    </tr>\n",
              "    <tr>\n",
              "      <th>1</th>\n",
              "      <td>69182</td>\n",
              "      <td>9</td>\n",
              "      <td>0</td>\n",
              "      <td>173</td>\n",
              "      <td>175</td>\n",
              "      <td>0</td>\n",
              "      <td>0</td>\n",
              "      <td>-0.785832</td>\n",
              "      <td>-1.810068</td>\n",
              "      <td>0</td>\n",
              "      <td>3</td>\n",
              "      <td>0</td>\n",
              "      <td>0</td>\n",
              "      <td>0</td>\n",
              "      <td>1</td>\n",
              "      <td>635</td>\n",
              "      <td>8</td>\n",
              "      <td>2</td>\n",
              "    </tr>\n",
              "    <tr>\n",
              "      <th>2</th>\n",
              "      <td>362150</td>\n",
              "      <td>0</td>\n",
              "      <td>0</td>\n",
              "      <td>285</td>\n",
              "      <td>998</td>\n",
              "      <td>0</td>\n",
              "      <td>0</td>\n",
              "      <td>1.782700</td>\n",
              "      <td>NaN</td>\n",
              "      <td>0</td>\n",
              "      <td>3</td>\n",
              "      <td>6</td>\n",
              "      <td>11</td>\n",
              "      <td>0</td>\n",
              "      <td>1</td>\n",
              "      <td>635</td>\n",
              "      <td>8</td>\n",
              "      <td>2</td>\n",
              "    </tr>\n",
              "    <tr>\n",
              "      <th>3</th>\n",
              "      <td>261628</td>\n",
              "      <td>0</td>\n",
              "      <td>0</td>\n",
              "      <td>285</td>\n",
              "      <td>1321</td>\n",
              "      <td>0</td>\n",
              "      <td>0</td>\n",
              "      <td>2.053072</td>\n",
              "      <td>NaN</td>\n",
              "      <td>20</td>\n",
              "      <td>3</td>\n",
              "      <td>8</td>\n",
              "      <td>14</td>\n",
              "      <td>0</td>\n",
              "      <td>1</td>\n",
              "      <td>635</td>\n",
              "      <td>8</td>\n",
              "      <td>2</td>\n",
              "    </tr>\n",
              "    <tr>\n",
              "      <th>4</th>\n",
              "      <td>362252</td>\n",
              "      <td>9</td>\n",
              "      <td>0</td>\n",
              "      <td>178</td>\n",
              "      <td>482</td>\n",
              "      <td>0</td>\n",
              "      <td>2</td>\n",
              "      <td>1.106770</td>\n",
              "      <td>NaN</td>\n",
              "      <td>0</td>\n",
              "      <td>3</td>\n",
              "      <td>6</td>\n",
              "      <td>11</td>\n",
              "      <td>0</td>\n",
              "      <td>1</td>\n",
              "      <td>635</td>\n",
              "      <td>8</td>\n",
              "      <td>2</td>\n",
              "    </tr>\n",
              "  </tbody>\n",
              "</table>\n",
              "</div>"
            ],
            "text/plain": [
              "   key_value  tipcontribuyente  ...  codentidadtributo  estadotributo\n",
              "0     371518                 9  ...                  8              2\n",
              "1      69182                 9  ...                  8              2\n",
              "2     362150                 0  ...                  8              2\n",
              "3     261628                 0  ...                  8              2\n",
              "4     362252                 9  ...                  8              2\n",
              "\n",
              "[5 rows x 18 columns]"
            ]
          },
          "metadata": {
            "tags": []
          },
          "execution_count": 8
        }
      ]
    },
    {
      "cell_type": "code",
      "metadata": {
        "id": "AlO-R9n4RD9W",
        "colab": {
          "base_uri": "https://localhost:8080/",
          "height": 297
        },
        "outputId": "5114db92-bc1e-4485-ce26-565046bc6feb"
      },
      "source": [
        "round(df_sunat_train[[\"fecalta\"]].describe(), 3)"
      ],
      "execution_count": null,
      "outputs": [
        {
          "output_type": "execute_result",
          "data": {
            "text/html": [
              "<div>\n",
              "<style scoped>\n",
              "    .dataframe tbody tr th:only-of-type {\n",
              "        vertical-align: middle;\n",
              "    }\n",
              "\n",
              "    .dataframe tbody tr th {\n",
              "        vertical-align: top;\n",
              "    }\n",
              "\n",
              "    .dataframe thead th {\n",
              "        text-align: right;\n",
              "    }\n",
              "</style>\n",
              "<table border=\"1\" class=\"dataframe\">\n",
              "  <thead>\n",
              "    <tr style=\"text-align: right;\">\n",
              "      <th></th>\n",
              "      <th>fecalta</th>\n",
              "    </tr>\n",
              "  </thead>\n",
              "  <tbody>\n",
              "    <tr>\n",
              "      <th>count</th>\n",
              "      <td>1441139.000</td>\n",
              "    </tr>\n",
              "    <tr>\n",
              "      <th>mean</th>\n",
              "      <td>0.000</td>\n",
              "    </tr>\n",
              "    <tr>\n",
              "      <th>std</th>\n",
              "      <td>0.998</td>\n",
              "    </tr>\n",
              "    <tr>\n",
              "      <th>min</th>\n",
              "      <td>-1.327</td>\n",
              "    </tr>\n",
              "    <tr>\n",
              "      <th>25%</th>\n",
              "      <td>-0.921</td>\n",
              "    </tr>\n",
              "    <tr>\n",
              "      <th>50%</th>\n",
              "      <td>-0.110</td>\n",
              "    </tr>\n",
              "    <tr>\n",
              "      <th>75%</th>\n",
              "      <td>0.836</td>\n",
              "    </tr>\n",
              "    <tr>\n",
              "      <th>max</th>\n",
              "      <td>2.188</td>\n",
              "    </tr>\n",
              "  </tbody>\n",
              "</table>\n",
              "</div>"
            ],
            "text/plain": [
              "           fecalta\n",
              "count  1441139.000\n",
              "mean         0.000\n",
              "std          0.998\n",
              "min         -1.327\n",
              "25%         -0.921\n",
              "50%         -0.110\n",
              "75%          0.836\n",
              "max          2.188"
            ]
          },
          "metadata": {
            "tags": []
          },
          "execution_count": 9
        }
      ]
    },
    {
      "cell_type": "code",
      "metadata": {
        "id": "P1NGOenuWO2m",
        "colab": {
          "base_uri": "https://localhost:8080/",
          "height": 297
        },
        "outputId": "bc5da62b-27ed-4e67-a70a-86949d49db89"
      },
      "source": [
        "round(df_sunat_test[[\"fecalta\"]].describe(), 3)"
      ],
      "execution_count": null,
      "outputs": [
        {
          "output_type": "execute_result",
          "data": {
            "text/html": [
              "<div>\n",
              "<style scoped>\n",
              "    .dataframe tbody tr th:only-of-type {\n",
              "        vertical-align: middle;\n",
              "    }\n",
              "\n",
              "    .dataframe tbody tr th {\n",
              "        vertical-align: top;\n",
              "    }\n",
              "\n",
              "    .dataframe thead th {\n",
              "        text-align: right;\n",
              "    }\n",
              "</style>\n",
              "<table border=\"1\" class=\"dataframe\">\n",
              "  <thead>\n",
              "    <tr style=\"text-align: right;\">\n",
              "      <th></th>\n",
              "      <th>fecalta</th>\n",
              "    </tr>\n",
              "  </thead>\n",
              "  <tbody>\n",
              "    <tr>\n",
              "      <th>count</th>\n",
              "      <td>1660667.000</td>\n",
              "    </tr>\n",
              "    <tr>\n",
              "      <th>mean</th>\n",
              "      <td>-0.105</td>\n",
              "    </tr>\n",
              "    <tr>\n",
              "      <th>std</th>\n",
              "      <td>1.029</td>\n",
              "    </tr>\n",
              "    <tr>\n",
              "      <th>min</th>\n",
              "      <td>-1.327</td>\n",
              "    </tr>\n",
              "    <tr>\n",
              "      <th>25%</th>\n",
              "      <td>-1.191</td>\n",
              "    </tr>\n",
              "    <tr>\n",
              "      <th>50%</th>\n",
              "      <td>-0.380</td>\n",
              "    </tr>\n",
              "    <tr>\n",
              "      <th>75%</th>\n",
              "      <td>0.701</td>\n",
              "    </tr>\n",
              "    <tr>\n",
              "      <th>max</th>\n",
              "      <td>2.323</td>\n",
              "    </tr>\n",
              "  </tbody>\n",
              "</table>\n",
              "</div>"
            ],
            "text/plain": [
              "           fecalta\n",
              "count  1660667.000\n",
              "mean        -0.105\n",
              "std          1.029\n",
              "min         -1.327\n",
              "25%         -1.191\n",
              "50%         -0.380\n",
              "75%          0.701\n",
              "max          2.323"
            ]
          },
          "metadata": {
            "tags": []
          },
          "execution_count": 10
        }
      ]
    },
    {
      "cell_type": "code",
      "metadata": {
        "id": "ySJKMv7vWRjp"
      },
      "source": [
        "pfe_sunat_train = ProfileReport(df_sunat_train, explorative=True)\n",
        "pfe_sunat_test = ProfileReport(df_sunat_test, explorative=True)"
      ],
      "execution_count": null,
      "outputs": []
    },
    {
      "cell_type": "code",
      "metadata": {
        "id": "iqJ-p6VfWqLj",
        "colab": {
          "base_uri": "https://localhost:8080/",
          "height": 213,
          "referenced_widgets": [
            "61889b8e7c1d473a8631ee9d8560ab4e",
            "36967d1cd1dc4aaabd5fd83db45f4a7b",
            "ad8291fa46054c06b0725ef281d69d2a",
            "23aac4492df84dd89fc978eb36270858",
            "f236bf7881fd4bfc8ab227cab43d25e1",
            "df38015f7ea54a6495f06a85efd1e2d9",
            "657306ac77374b59a90d19e1b89014e6",
            "6c05f216f8f24eb7b7111bb6fad80a0d",
            "3c74f01c66074e12be6e07c696109ff7",
            "ad7dd1a7f5e74982abf62c4bff0fb9bb",
            "1bbfb3106e9f4daa8ee14b34dd525e76",
            "fa06d2a03af54ed0b6665cb5e5461185",
            "9cbe832bef4a4d658b46d3e44a56b2f2",
            "883d6ee6821f4de896c3ac389364ee2d",
            "fe03355cae4642bd8f74eff0de32d4ba",
            "f95c69f01f7b44bd9b50121376103b96",
            "0c27506abf5442bdb5b6178e99b8f8d0",
            "da2c09f2b9c144479eb20f32b378822e",
            "21a844b7a9b34a3887fa110b698b2209",
            "660ce277a4324494a8733fd3343e3ac2",
            "edf5f7a172bf432ca65ae70bacba2835",
            "4b073ef5c5da4ae1845ee47cfdbf160b",
            "cf941fc5d83c4dd78fa1cb491f0ef0b9",
            "4b3c0ad6f79341ca8c18499d7587ee09",
            "2f6878043e2c4f16899cc7f28150c4c6",
            "0da22092360e4d179c0ad27c7f6496e4",
            "7fce66f10be5491280cd4ea691d90691",
            "a208587b68604e0c969f27594a622bdf",
            "e3915f0ecc234e788505369988b513ce",
            "cab8af9097da4e69820c79b7393098d0",
            "1c73faca0fe042258c059faa36b6b3cb",
            "54a0df927a7148b49d0197969bc9ef25",
            "21b0e317efe647a7bba2365fcfcedc0d",
            "150d79bd370e464ba43e80c1d681e195",
            "5a996592fb8648d6b69b4c79f23ce398",
            "fb78db8c622a49c8b868670ef361bb8b",
            "d82f43367253403793ac05cb3ba92cbc",
            "84e40089205e4c669af317f628e2c0d3",
            "7c8d1bf596b44aa2a17ad39df95efd2e",
            "a21585ec9aa3406e8882e3d42cc0cb57",
            "d6abb09f77084e60995520f7844999ba",
            "9fa2791b5b7145d3b88d4d78e3d2cd2d",
            "380c0eca2e7e45d2889446f6633736a4",
            "cb88777c361a4464a290fc45c3eb693f"
          ]
        },
        "outputId": "6d3a6c9c-0164-40e9-9398-39cb687bd18e"
      },
      "source": [
        "pfe_sunat_train.to_file(\"pfe_sunat_train.html\")"
      ],
      "execution_count": null,
      "outputs": [
        {
          "output_type": "display_data",
          "data": {
            "application/vnd.jupyter.widget-view+json": {
              "model_id": "61889b8e7c1d473a8631ee9d8560ab4e",
              "version_minor": 0,
              "version_major": 2
            },
            "text/plain": [
              "HBox(children=(HTML(value='Summarize dataset'), FloatProgress(value=0.0, max=32.0), HTML(value='')))"
            ]
          },
          "metadata": {
            "tags": []
          }
        },
        {
          "output_type": "stream",
          "text": [
            "\n"
          ],
          "name": "stdout"
        },
        {
          "output_type": "display_data",
          "data": {
            "application/vnd.jupyter.widget-view+json": {
              "model_id": "fa06d2a03af54ed0b6665cb5e5461185",
              "version_minor": 0,
              "version_major": 2
            },
            "text/plain": [
              "HBox(children=(HTML(value='Generate report structure'), FloatProgress(value=0.0, max=1.0), HTML(value='')))"
            ]
          },
          "metadata": {
            "tags": []
          }
        },
        {
          "output_type": "stream",
          "text": [
            "\n"
          ],
          "name": "stdout"
        },
        {
          "output_type": "display_data",
          "data": {
            "application/vnd.jupyter.widget-view+json": {
              "model_id": "cf941fc5d83c4dd78fa1cb491f0ef0b9",
              "version_minor": 0,
              "version_major": 2
            },
            "text/plain": [
              "HBox(children=(HTML(value='Render HTML'), FloatProgress(value=0.0, max=1.0), HTML(value='')))"
            ]
          },
          "metadata": {
            "tags": []
          }
        },
        {
          "output_type": "stream",
          "text": [
            "\n"
          ],
          "name": "stdout"
        },
        {
          "output_type": "display_data",
          "data": {
            "application/vnd.jupyter.widget-view+json": {
              "model_id": "150d79bd370e464ba43e80c1d681e195",
              "version_minor": 0,
              "version_major": 2
            },
            "text/plain": [
              "HBox(children=(HTML(value='Export report to file'), FloatProgress(value=0.0, max=1.0), HTML(value='')))"
            ]
          },
          "metadata": {
            "tags": []
          }
        },
        {
          "output_type": "stream",
          "text": [
            "\n"
          ],
          "name": "stdout"
        }
      ]
    },
    {
      "cell_type": "code",
      "metadata": {
        "id": "swgEal4-Wscg",
        "colab": {
          "base_uri": "https://localhost:8080/",
          "height": 213,
          "referenced_widgets": [
            "59e00c7ca34148d194f9009e44c69e64",
            "d1a4fa03ce6a4683bb809fe23bfe399a",
            "38fda047aa2c419fabb530cfc8c5a65b",
            "ff2d9a17eb6446f1b41c5b62dd8a9a3f",
            "148732b4931c42b4a5291781923001a1",
            "cee47081b26c4845a6842a82486b3ce3",
            "e8293ffa009845eab58f99a80a20b9d4",
            "3525c5c4c5d94a0b8de787b9c485faec",
            "6d4b775c997149f290412829ab42b81e",
            "b3c348cac9a542b484e015a3d91ea811",
            "f7dc7a6b636f4f60b08f303821a0095c",
            "27e41513beaa40fd8d3eb28ff8f606d2",
            "1548f931a28b4da2b7b40933ca4b5a21",
            "04f591d2c59b4926b6eb5746d51290e4",
            "994274f4a3d54c2088bc1dff3ae08464",
            "d2c03ff370f045b1a57ce7b3b30a1e39",
            "355269ddd0764c2f8acd06e3040ecd4e",
            "a4c5e8d0643e4d79818d1a0d113bf817",
            "c67e698a4aff4eb4a51f922278dc00fa",
            "faa05f2fe5754ecb9ec76df2886f7727",
            "c9ff9963459a40a190efae06e81a25d7",
            "7766012331af4184a876a16714c3f31c",
            "b592e62a96184599a7179c3f841f180b",
            "3c40dd051bdd443a8b2e867424ee38cf",
            "61d692f14dd74de9a28eec5663ed6aba",
            "f169ef2b767a4952b57ea2d7d218c77a",
            "9537207c5bca41a0bbfed12dd8d9ce7a",
            "5519ff0aa99f4a018279b77c12ab43ec",
            "b99a7633dc8b4c56939e511edf9f1503",
            "9cac5b9370d34795b9378355613abd39",
            "7637986859b94713ba52f4b9f0335140",
            "6405c12489d64e5ba7aa2441261025cf",
            "3a5f0ccc25ac496099dfa65ee8b3fb34",
            "fbd191ef0b37432ca3b62dc546aff1cf",
            "7e7a6cb3d10c4dd4b4c4183cc5561379",
            "a877029cee474e63ad6979046d66b025",
            "7a2f92adb4c54d71990448de3d45bec0",
            "b85aad4630314ecea20f1d5cef495b87",
            "8fd2456b5fa345c293fbf33aa3bcfcd6",
            "367824a3065040b9a5908e8df4b147fb",
            "f55f60227b6043e8bbdae1dddfae3b4b",
            "6cbeeb3bcf61433196d009274e57d61e",
            "d03dbed046a349bd9063d414a562f38f",
            "ef5194e155864a30afbce99be5c31890"
          ]
        },
        "outputId": "da8fd292-c565-4b51-806f-0d721416589e"
      },
      "source": [
        "pfe_sunat_test.to_file(\"pfe_sunat_test.html\")"
      ],
      "execution_count": null,
      "outputs": [
        {
          "output_type": "display_data",
          "data": {
            "application/vnd.jupyter.widget-view+json": {
              "model_id": "59e00c7ca34148d194f9009e44c69e64",
              "version_minor": 0,
              "version_major": 2
            },
            "text/plain": [
              "HBox(children=(HTML(value='Summarize dataset'), FloatProgress(value=0.0, max=32.0), HTML(value='')))"
            ]
          },
          "metadata": {
            "tags": []
          }
        },
        {
          "output_type": "stream",
          "text": [
            "\n"
          ],
          "name": "stdout"
        },
        {
          "output_type": "display_data",
          "data": {
            "application/vnd.jupyter.widget-view+json": {
              "model_id": "27e41513beaa40fd8d3eb28ff8f606d2",
              "version_minor": 0,
              "version_major": 2
            },
            "text/plain": [
              "HBox(children=(HTML(value='Generate report structure'), FloatProgress(value=0.0, max=1.0), HTML(value='')))"
            ]
          },
          "metadata": {
            "tags": []
          }
        },
        {
          "output_type": "stream",
          "text": [
            "\n"
          ],
          "name": "stdout"
        },
        {
          "output_type": "display_data",
          "data": {
            "application/vnd.jupyter.widget-view+json": {
              "model_id": "b592e62a96184599a7179c3f841f180b",
              "version_minor": 0,
              "version_major": 2
            },
            "text/plain": [
              "HBox(children=(HTML(value='Render HTML'), FloatProgress(value=0.0, max=1.0), HTML(value='')))"
            ]
          },
          "metadata": {
            "tags": []
          }
        },
        {
          "output_type": "stream",
          "text": [
            "\n"
          ],
          "name": "stdout"
        },
        {
          "output_type": "display_data",
          "data": {
            "application/vnd.jupyter.widget-view+json": {
              "model_id": "fbd191ef0b37432ca3b62dc546aff1cf",
              "version_minor": 0,
              "version_major": 2
            },
            "text/plain": [
              "HBox(children=(HTML(value='Export report to file'), FloatProgress(value=0.0, max=1.0), HTML(value='')))"
            ]
          },
          "metadata": {
            "tags": []
          }
        },
        {
          "output_type": "stream",
          "text": [
            "\n"
          ],
          "name": "stdout"
        }
      ]
    },
    {
      "cell_type": "code",
      "metadata": {
        "id": "0aNB3AdeYAgh",
        "colab": {
          "base_uri": "https://localhost:8080/",
          "height": 17
        },
        "outputId": "96203505-9d6d-4682-dae3-94ff9b7fcc54"
      },
      "source": [
        "#files.download('pfe_sunat_train.html')\n",
        "files.download('pfe_sunat_test.html')"
      ],
      "execution_count": null,
      "outputs": [
        {
          "output_type": "display_data",
          "data": {
            "application/javascript": [
              "\n",
              "    async function download(id, filename, size) {\n",
              "      if (!google.colab.kernel.accessAllowed) {\n",
              "        return;\n",
              "      }\n",
              "      const div = document.createElement('div');\n",
              "      const label = document.createElement('label');\n",
              "      label.textContent = `Downloading \"${filename}\": `;\n",
              "      div.appendChild(label);\n",
              "      const progress = document.createElement('progress');\n",
              "      progress.max = size;\n",
              "      div.appendChild(progress);\n",
              "      document.body.appendChild(div);\n",
              "\n",
              "      const buffers = [];\n",
              "      let downloaded = 0;\n",
              "\n",
              "      const channel = await google.colab.kernel.comms.open(id);\n",
              "      // Send a message to notify the kernel that we're ready.\n",
              "      channel.send({})\n",
              "\n",
              "      for await (const message of channel.messages) {\n",
              "        // Send a message to notify the kernel that we're ready.\n",
              "        channel.send({})\n",
              "        if (message.buffers) {\n",
              "          for (const buffer of message.buffers) {\n",
              "            buffers.push(buffer);\n",
              "            downloaded += buffer.byteLength;\n",
              "            progress.value = downloaded;\n",
              "          }\n",
              "        }\n",
              "      }\n",
              "      const blob = new Blob(buffers, {type: 'application/binary'});\n",
              "      const a = document.createElement('a');\n",
              "      a.href = window.URL.createObjectURL(blob);\n",
              "      a.download = filename;\n",
              "      div.appendChild(a);\n",
              "      a.click();\n",
              "      div.remove();\n",
              "    }\n",
              "  "
            ],
            "text/plain": [
              "<IPython.core.display.Javascript object>"
            ]
          },
          "metadata": {
            "tags": []
          }
        },
        {
          "output_type": "display_data",
          "data": {
            "application/javascript": [
              "download(\"download_50efca08-dfc3-4c10-9a26-ad16a0f0126d\", \"pfe_sunat_train.html\", 12977244)"
            ],
            "text/plain": [
              "<IPython.core.display.Javascript object>"
            ]
          },
          "metadata": {
            "tags": []
          }
        },
        {
          "output_type": "display_data",
          "data": {
            "application/javascript": [
              "\n",
              "    async function download(id, filename, size) {\n",
              "      if (!google.colab.kernel.accessAllowed) {\n",
              "        return;\n",
              "      }\n",
              "      const div = document.createElement('div');\n",
              "      const label = document.createElement('label');\n",
              "      label.textContent = `Downloading \"${filename}\": `;\n",
              "      div.appendChild(label);\n",
              "      const progress = document.createElement('progress');\n",
              "      progress.max = size;\n",
              "      div.appendChild(progress);\n",
              "      document.body.appendChild(div);\n",
              "\n",
              "      const buffers = [];\n",
              "      let downloaded = 0;\n",
              "\n",
              "      const channel = await google.colab.kernel.comms.open(id);\n",
              "      // Send a message to notify the kernel that we're ready.\n",
              "      channel.send({})\n",
              "\n",
              "      for await (const message of channel.messages) {\n",
              "        // Send a message to notify the kernel that we're ready.\n",
              "        channel.send({})\n",
              "        if (message.buffers) {\n",
              "          for (const buffer of message.buffers) {\n",
              "            buffers.push(buffer);\n",
              "            downloaded += buffer.byteLength;\n",
              "            progress.value = downloaded;\n",
              "          }\n",
              "        }\n",
              "      }\n",
              "      const blob = new Blob(buffers, {type: 'application/binary'});\n",
              "      const a = document.createElement('a');\n",
              "      a.href = window.URL.createObjectURL(blob);\n",
              "      a.download = filename;\n",
              "      div.appendChild(a);\n",
              "      a.click();\n",
              "      div.remove();\n",
              "    }\n",
              "  "
            ],
            "text/plain": [
              "<IPython.core.display.Javascript object>"
            ]
          },
          "metadata": {
            "tags": []
          }
        },
        {
          "output_type": "display_data",
          "data": {
            "application/javascript": [
              "download(\"download_59132250-5adb-45da-9312-565c34289dec\", \"pfe_sunat_test.html\", 13023589)"
            ],
            "text/plain": [
              "<IPython.core.display.Javascript object>"
            ]
          },
          "metadata": {
            "tags": []
          }
        }
      ]
    },
    {
      "cell_type": "code",
      "metadata": {
        "id": "a92qKbzZYGxu"
      },
      "source": [
        ""
      ],
      "execution_count": null,
      "outputs": []
    },
    {
      "cell_type": "markdown",
      "metadata": {
        "id": "Sy9CDoJ_GIes"
      },
      "source": [
        "## Dataset Censo"
      ]
    },
    {
      "cell_type": "code",
      "metadata": {
        "id": "dfksiiEfGeI7"
      },
      "source": [
        "df_censo_train = optimizar_df(pd.read_csv(\"[00] Data/censo_train.csv\")).drop_duplicates()\n",
        "df_censo_test = optimizar_df(pd.read_csv(\"[00] Data/censo_test.csv\")).drop_duplicates()"
      ],
      "execution_count": 81,
      "outputs": []
    },
    {
      "cell_type": "code",
      "metadata": {
        "id": "9_hVhyJCHh1S"
      },
      "source": [
        "df_censo_train_2 = df_y_train.merge(df_censo_train, how=\"left\", on=[\"key_value\"])\n",
        "df_censo_test_2 = df_y_test.merge(df_censo_test, how=\"left\", on=[\"key_value\"])"
      ],
      "execution_count": 93,
      "outputs": []
    },
    {
      "cell_type": "markdown",
      "metadata": {
        "id": "QC7LxAC-KAvz"
      },
      "source": [
        "### Numeric"
      ]
    },
    {
      "cell_type": "code",
      "metadata": {
        "id": "URPLLPJXKHQH"
      },
      "source": [
        "num_cols = [\"lon_x\", \"lat_y\", \n",
        "            \"pob\", \"pob_a\", \"pob_b\", \"pob_c\", \"pob_d\", \"pob_e\", \n",
        "            \"hog\", \"a\", \"b\", \"c\", \"d\", \"e\",\n",
        "            \"ing_a_18\",\n",
        "            \"gas_ali_a_18\", \"gas_ves_a_18\", \"gas_alq_a_18\", \"gas_mue_a_18\", \"gas_sal_a_18\", \"gas_trans_a_18\", \"gas_esp_a_18\", \"gas_otrs_a_18\",\n",
        "            \"ing_b_18\", \"gas_ali_b_18\", \"gas_ves_b_18\", \"gas_alq_b_18\", \"gas_mue_b_18\", \"gas_sal_b_18\", \"gas_trans_b_18\", \"gas_esp_b_18\", \"gas_otrs_b_18\", \"ing_c_18\", \"gas_ali_c_18\", \"gas_ves_c_18\", \"gas_alq_c_18\", \"gas_mue_c_18\", \"gas_sal_c_18\", \"gas_trans_c_18\", \"gas_esp_c_18\", \"gas_otrs_c_18\", \"ing_d_18\", \"gas_ali_d_18\", \"gas_ves_d_18\", \"gas_alq_d_18\", \"gas_mue_d_18\", \"gas_sal_d_18\", \"gas_trans_d_18\", \"gas_esp_d_18\", \"gas_otrs_d_18\", \"ing_e_18\", \"gas_ali_e_18\", \"gas_ves_e_18\", \"gas_alq_e_18\", \"gas_mue_e_18\", \"gas_sal_e_18\", \"gas_trans_e_18\", \"gas_esp_e_18\", \"gas_otrs_e_18\", \"ing_18\", \"g1_18\", \"g2_18\", \"g3_18\", \"g4_18\", \"g5_18\", \"g6_18\", \"g7_18\", \"g8_18\"\n",
        "            \n",
        "            ]"
      ],
      "execution_count": null,
      "outputs": []
    },
    {
      "cell_type": "code",
      "metadata": {
        "id": "IUh9cCXBKB8L"
      },
      "source": [
        ""
      ],
      "execution_count": null,
      "outputs": []
    },
    {
      "cell_type": "markdown",
      "metadata": {
        "id": "EbxdXn8PKBpE"
      },
      "source": [
        "### Categorical"
      ]
    },
    {
      "cell_type": "code",
      "metadata": {
        "id": "W-leaZCQKZBG"
      },
      "source": [
        "cat_cols = [\n",
        "            \"pred\", \n",
        "\n",
        "            ]"
      ],
      "execution_count": null,
      "outputs": []
    },
    {
      "cell_type": "code",
      "metadata": {
        "id": "DHkScx8pKY2a"
      },
      "source": [
        ""
      ],
      "execution_count": null,
      "outputs": []
    },
    {
      "cell_type": "markdown",
      "metadata": {
        "id": "8T91NeDFKZZ6"
      },
      "source": [
        "### Dummy"
      ]
    },
    {
      "cell_type": "code",
      "metadata": {
        "id": "mPcnzs_2Ka3X"
      },
      "source": [
        "dum_cols = [\n",
        "            \"zon_sis\", \"zon_der\", \"zon_inu\", \"zon_com\"\n",
        "            ]"
      ],
      "execution_count": 100,
      "outputs": []
    },
    {
      "cell_type": "code",
      "metadata": {
        "id": "0GxlgEdeKay1"
      },
      "source": [
        ""
      ],
      "execution_count": null,
      "outputs": []
    },
    {
      "cell_type": "code",
      "metadata": {
        "id": "2nH6ej29GjxK",
        "outputId": "23ff1879-d4ed-4ad2-9c09-70bbeb03001f",
        "colab": {
          "base_uri": "https://localhost:8080/",
          "height": 348
        }
      },
      "source": [
        "df_censo_train_2.head(1).T.head(10)"
      ],
      "execution_count": 99,
      "outputs": [
        {
          "output_type": "execute_result",
          "data": {
            "text/html": [
              "<div>\n",
              "<style scoped>\n",
              "    .dataframe tbody tr th:only-of-type {\n",
              "        vertical-align: middle;\n",
              "    }\n",
              "\n",
              "    .dataframe tbody tr th {\n",
              "        vertical-align: top;\n",
              "    }\n",
              "\n",
              "    .dataframe thead th {\n",
              "        text-align: right;\n",
              "    }\n",
              "</style>\n",
              "<table border=\"1\" class=\"dataframe\">\n",
              "  <thead>\n",
              "    <tr style=\"text-align: right;\">\n",
              "      <th></th>\n",
              "      <th>0</th>\n",
              "    </tr>\n",
              "  </thead>\n",
              "  <tbody>\n",
              "    <tr>\n",
              "      <th>key_value</th>\n",
              "      <td>0.000000</td>\n",
              "    </tr>\n",
              "    <tr>\n",
              "      <th>target</th>\n",
              "      <td>0.000000</td>\n",
              "    </tr>\n",
              "    <tr>\n",
              "      <th>lon_x</th>\n",
              "      <td>-1.307895</td>\n",
              "    </tr>\n",
              "    <tr>\n",
              "      <th>lat_y</th>\n",
              "      <td>1.507949</td>\n",
              "    </tr>\n",
              "    <tr>\n",
              "      <th>zon_sis</th>\n",
              "      <td>-0.931515</td>\n",
              "    </tr>\n",
              "    <tr>\n",
              "      <th>zon_der</th>\n",
              "      <td>-0.242328</td>\n",
              "    </tr>\n",
              "    <tr>\n",
              "      <th>zon_inu</th>\n",
              "      <td>-0.327010</td>\n",
              "    </tr>\n",
              "    <tr>\n",
              "      <th>zon_com</th>\n",
              "      <td>-0.280674</td>\n",
              "    </tr>\n",
              "    <tr>\n",
              "      <th>score</th>\n",
              "      <td>-0.714361</td>\n",
              "    </tr>\n",
              "    <tr>\n",
              "      <th>pob</th>\n",
              "      <td>-0.042958</td>\n",
              "    </tr>\n",
              "  </tbody>\n",
              "</table>\n",
              "</div>"
            ],
            "text/plain": [
              "                  0\n",
              "key_value  0.000000\n",
              "target     0.000000\n",
              "lon_x     -1.307895\n",
              "lat_y      1.507949\n",
              "zon_sis   -0.931515\n",
              "zon_der   -0.242328\n",
              "zon_inu   -0.327010\n",
              "zon_com   -0.280674\n",
              "score     -0.714361\n",
              "pob       -0.042958"
            ]
          },
          "metadata": {
            "tags": []
          },
          "execution_count": 99
        }
      ]
    },
    {
      "cell_type": "code",
      "metadata": {
        "id": "TCfygWvRJSE3",
        "outputId": "8a80ad97-17c9-47b8-87e3-2855638936ef",
        "colab": {
          "base_uri": "https://localhost:8080/"
        }
      },
      "source": [
        "df_censo_train_2[\"lon_x\"].nunique()"
      ],
      "execution_count": 96,
      "outputs": [
        {
          "output_type": "execute_result",
          "data": {
            "text/plain": [
              "80530"
            ]
          },
          "metadata": {
            "tags": []
          },
          "execution_count": 96
        }
      ]
    },
    {
      "cell_type": "code",
      "metadata": {
        "id": "Uprc1mshHj5n",
        "outputId": "315047b0-4812-459e-a9d3-959a8f240370",
        "colab": {
          "base_uri": "https://localhost:8080/"
        }
      },
      "source": [
        "df_y_train.shape"
      ],
      "execution_count": 86,
      "outputs": [
        {
          "output_type": "execute_result",
          "data": {
            "text/plain": [
              "(358487, 2)"
            ]
          },
          "metadata": {
            "tags": []
          },
          "execution_count": 86
        }
      ]
    },
    {
      "cell_type": "code",
      "metadata": {
        "id": "DZp_vmGnHjJ-",
        "outputId": "00a1ae85-9d2d-48be-ef48-487e7ae02468",
        "colab": {
          "base_uri": "https://localhost:8080/"
        }
      },
      "source": [
        "df_se_train_2.shape"
      ],
      "execution_count": 85,
      "outputs": [
        {
          "output_type": "execute_result",
          "data": {
            "text/plain": [
              "(358487, 16)"
            ]
          },
          "metadata": {
            "tags": []
          },
          "execution_count": 85
        }
      ]
    },
    {
      "cell_type": "code",
      "metadata": {
        "id": "-emNA47sG2pV",
        "outputId": "5090b474-1fff-4669-c15a-c3410636d85c",
        "colab": {
          "base_uri": "https://localhost:8080/"
        }
      },
      "source": [
        "df_censo_train.shape"
      ],
      "execution_count": 84,
      "outputs": [
        {
          "output_type": "execute_result",
          "data": {
            "text/plain": [
              "(153139, 256)"
            ]
          },
          "metadata": {
            "tags": []
          },
          "execution_count": 84
        }
      ]
    },
    {
      "cell_type": "code",
      "metadata": {
        "id": "mi68rAXKIXoT",
        "outputId": "bce3ec28-5035-4954-8c18-a4562beae8aa",
        "colab": {
          "base_uri": "https://localhost:8080/"
        }
      },
      "source": [
        "153139/358487"
      ],
      "execution_count": 87,
      "outputs": [
        {
          "output_type": "execute_result",
          "data": {
            "text/plain": [
              "0.42718145985767964"
            ]
          },
          "metadata": {
            "tags": []
          },
          "execution_count": 87
        }
      ]
    },
    {
      "cell_type": "code",
      "metadata": {
        "id": "HQmJ3SexIjAd",
        "outputId": "0923c54a-54af-4c24-ce64-d491869f2047",
        "colab": {
          "base_uri": "https://localhost:8080/"
        }
      },
      "source": [
        "df_y_test.shape"
      ],
      "execution_count": 90,
      "outputs": [
        {
          "output_type": "execute_result",
          "data": {
            "text/plain": [
              "(396666, 2)"
            ]
          },
          "metadata": {
            "tags": []
          },
          "execution_count": 90
        }
      ]
    },
    {
      "cell_type": "code",
      "metadata": {
        "id": "Tyw-5wLsIbTc",
        "outputId": "cb8cc9ab-9c54-4351-b7d4-7bfb7d64901a",
        "colab": {
          "base_uri": "https://localhost:8080/"
        }
      },
      "source": [
        "df_censo_test.shape"
      ],
      "execution_count": 88,
      "outputs": [
        {
          "output_type": "execute_result",
          "data": {
            "text/plain": [
              "(200499, 256)"
            ]
          },
          "metadata": {
            "tags": []
          },
          "execution_count": 88
        }
      ]
    },
    {
      "cell_type": "code",
      "metadata": {
        "id": "6sYYpYVoIbRX",
        "outputId": "58e6bd26-c5f9-4d1a-e490-0374a1355263",
        "colab": {
          "base_uri": "https://localhost:8080/"
        }
      },
      "source": [
        "200499 / 396666"
      ],
      "execution_count": 91,
      "outputs": [
        {
          "output_type": "execute_result",
          "data": {
            "text/plain": [
              "0.5054605133790141"
            ]
          },
          "metadata": {
            "tags": []
          },
          "execution_count": 91
        }
      ]
    },
    {
      "cell_type": "code",
      "metadata": {
        "id": "a4LeNlYLIbPH"
      },
      "source": [
        ""
      ],
      "execution_count": null,
      "outputs": []
    },
    {
      "cell_type": "code",
      "metadata": {
        "id": "QGtAard8IXl8"
      },
      "source": [
        ""
      ],
      "execution_count": null,
      "outputs": []
    },
    {
      "cell_type": "code",
      "metadata": {
        "id": "DdabcifbGI1H"
      },
      "source": [
        "-rw------- 1 root root 979M Jan 22 03:05 censo_test.csv\n",
        "-rw------- 1 root root 748M Jan 22 03:05 censo_train.csv"
      ],
      "execution_count": null,
      "outputs": []
    }
  ]
}