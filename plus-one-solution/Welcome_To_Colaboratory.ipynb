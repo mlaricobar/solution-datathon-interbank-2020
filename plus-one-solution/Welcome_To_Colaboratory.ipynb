{
  "nbformat": 4,
  "nbformat_minor": 0,
  "metadata": {
    "colab": {
      "name": "Welcome To Colaboratory",
      "provenance": [],
      "collapsed_sections": [],
      "include_colab_link": true
    },
    "kernelspec": {
      "display_name": "Python 3",
      "name": "python3"
    }
  },
  "cells": [
    {
      "cell_type": "markdown",
      "metadata": {
        "id": "view-in-github",
        "colab_type": "text"
      },
      "source": [
        "<a href=\"https://colab.research.google.com/github/mlaricobar/solution-datathon-interbank-2020/blob/desarrollo/Welcome_To_Colaboratory.ipynb\" target=\"_parent\"><img src=\"https://colab.research.google.com/assets/colab-badge.svg\" alt=\"Open In Colab\"/></a>"
      ]
    },
    {
      "cell_type": "code",
      "metadata": {
        "id": "No6HN9cz4Jqg"
      },
      "source": [
        "from google.colab import drive\n",
        "import pandas as pd"
      ],
      "execution_count": 1,
      "outputs": []
    },
    {
      "cell_type": "code",
      "metadata": {
        "colab": {
          "base_uri": "https://localhost:8080/"
        },
        "id": "why4C2TM4OmY",
        "outputId": "bb41512a-16f4-403c-fd1b-90ce6e3a8212"
      },
      "source": [
        "drive.mount('/gdrive')"
      ],
      "execution_count": 2,
      "outputs": [
        {
          "output_type": "stream",
          "text": [
            "Mounted at /gdrive\n"
          ],
          "name": "stdout"
        }
      ]
    },
    {
      "cell_type": "code",
      "metadata": {
        "colab": {
          "base_uri": "https://localhost:8080/"
        },
        "id": "JEiwBbGo4QN3",
        "outputId": "d086d01d-ca9d-4ec6-d40a-b69ef222b2e7"
      },
      "source": [
        "%cd /gdrive/'My Drive'/Competencias/'[02] Interbank-2020'"
      ],
      "execution_count": 4,
      "outputs": [
        {
          "output_type": "stream",
          "text": [
            "/gdrive/My Drive/Competencias/[02] Interbank-2020\n"
          ],
          "name": "stdout"
        }
      ]
    },
    {
      "cell_type": "code",
      "metadata": {
        "colab": {
          "base_uri": "https://localhost:8080/"
        },
        "id": "8dw97HDI4lVM",
        "outputId": "28a8f751-4ab9-4927-db28-eade35511f5e"
      },
      "source": [
        "!ls -lh '[01] Intermediate'"
      ],
      "execution_count": 6,
      "outputs": [
        {
          "output_type": "stream",
          "text": [
            "total 2.0G\n",
            "-rw------- 1 root root 521M Dec 31 22:53 ds_rcc.csv\n",
            "-rw------- 1 root root 185M Dec 18 16:51 ds_rcc_instit.csv\n",
            "-rw------- 1 root root 204M Dec 18 16:51 ds_rcc_instit_test.csv\n",
            "-rw------- 1 root root 576M Dec 31 22:55 ds_rcc_test.csv\n",
            "-rw------- 1 root root  22M Dec 31 22:28 ds_se.csv\n",
            "-rw------- 1 root root  24M Dec 31 22:28 ds_se_test.csv\n",
            "-rw------- 1 root root  18M Dec 31 19:34 ds_sunat.csv\n",
            "-rw------- 1 root root  20M Dec 31 19:34 ds_sunat_test.csv\n",
            "-rw------- 1 root root 192M Dec 31 13:48 rcc_product_level.csv\n",
            "-rw------- 1 root root 212M Dec 31 17:27 rcc_product_level_test.csv\n"
          ],
          "name": "stdout"
        }
      ]
    },
    {
      "cell_type": "code",
      "metadata": {
        "id": "g3Q9NK7F4oP1"
      },
      "source": [
        "def optimizar_df(df):\n",
        "  for col_ in df.select_dtypes(include=[int]).columns:\n",
        "    df[col_] = pd.to_numeric(df[col_], downcast=\"unsigned\")\n",
        "\n",
        "  for col_ in df.select_dtypes(include=[float]).columns:\n",
        "    df[col_] = pd.to_numeric(df[col_], downcast=\"float\")\n",
        "  \n",
        "  return df"
      ],
      "execution_count": 7,
      "outputs": []
    },
    {
      "cell_type": "code",
      "metadata": {
        "id": "40LNBTMK6bHh"
      },
      "source": [
        "df_base_train = optimizar_df(pd.read_csv(\"[00] Data/y_train.csv\"))\n",
        "df_base_test = optimizar_df(pd.read_csv(\"[00] Data/sample_submission.csv\"))"
      ],
      "execution_count": 81,
      "outputs": []
    },
    {
      "cell_type": "code",
      "metadata": {
        "id": "BQKAEjVT4xSv"
      },
      "source": [
        "df_se = optimizar_df(pd.read_csv('[01] Intermediate/ds_se.csv'))\n",
        "df_se_test = optimizar_df(pd.read_csv('[01] Intermediate/ds_se_test.csv'))"
      ],
      "execution_count": 82,
      "outputs": []
    },
    {
      "cell_type": "code",
      "metadata": {
        "id": "IjmjyIfB6bFG"
      },
      "source": [
        "df_base_train = df_base_train.merge(df_se, how=\"left\", on=\"key_value\")\n",
        "df_base_test = df_base_test.merge(df_se_test, how=\"left\", on=\"key_value\")"
      ],
      "execution_count": 83,
      "outputs": []
    },
    {
      "cell_type": "code",
      "metadata": {
        "colab": {
          "base_uri": "https://localhost:8080/",
          "height": 288
        },
        "id": "25sv5du2-YDS",
        "outputId": "7dd82ae4-e236-4bf2-f1c6-80478507b635"
      },
      "source": [
        "round(df_base_train[[\"edad\"]].describe(), 3)"
      ],
      "execution_count": 66,
      "outputs": [
        {
          "output_type": "execute_result",
          "data": {
            "text/html": [
              "<div>\n",
              "<style scoped>\n",
              "    .dataframe tbody tr th:only-of-type {\n",
              "        vertical-align: middle;\n",
              "    }\n",
              "\n",
              "    .dataframe tbody tr th {\n",
              "        vertical-align: top;\n",
              "    }\n",
              "\n",
              "    .dataframe thead th {\n",
              "        text-align: right;\n",
              "    }\n",
              "</style>\n",
              "<table border=\"1\" class=\"dataframe\">\n",
              "  <thead>\n",
              "    <tr style=\"text-align: right;\">\n",
              "      <th></th>\n",
              "      <th>edad</th>\n",
              "    </tr>\n",
              "  </thead>\n",
              "  <tbody>\n",
              "    <tr>\n",
              "      <th>count</th>\n",
              "      <td>354663.000</td>\n",
              "    </tr>\n",
              "    <tr>\n",
              "      <th>mean</th>\n",
              "      <td>0.000</td>\n",
              "    </tr>\n",
              "    <tr>\n",
              "      <th>std</th>\n",
              "      <td>1.000</td>\n",
              "    </tr>\n",
              "    <tr>\n",
              "      <th>min</th>\n",
              "      <td>-2.423</td>\n",
              "    </tr>\n",
              "    <tr>\n",
              "      <th>25%</th>\n",
              "      <td>-0.832</td>\n",
              "    </tr>\n",
              "    <tr>\n",
              "      <th>50%</th>\n",
              "      <td>-0.151</td>\n",
              "    </tr>\n",
              "    <tr>\n",
              "      <th>75%</th>\n",
              "      <td>0.683</td>\n",
              "    </tr>\n",
              "    <tr>\n",
              "      <th>max</th>\n",
              "      <td>5.303</td>\n",
              "    </tr>\n",
              "  </tbody>\n",
              "</table>\n",
              "</div>"
            ],
            "text/plain": [
              "             edad\n",
              "count  354663.000\n",
              "mean        0.000\n",
              "std         1.000\n",
              "min        -2.423\n",
              "25%        -0.832\n",
              "50%        -0.151\n",
              "75%         0.683\n",
              "max         5.303"
            ]
          },
          "metadata": {
            "tags": []
          },
          "execution_count": 66
        }
      ]
    },
    {
      "cell_type": "code",
      "metadata": {
        "colab": {
          "base_uri": "https://localhost:8080/",
          "height": 288
        },
        "id": "6NmaXc3sEb2T",
        "outputId": "09693d9b-a9c0-44ba-9082-ff79fcdeb166"
      },
      "source": [
        "round(df_base_train[[\"edad\"]].describe(), 3)"
      ],
      "execution_count": 79,
      "outputs": [
        {
          "output_type": "execute_result",
          "data": {
            "text/html": [
              "<div>\n",
              "<style scoped>\n",
              "    .dataframe tbody tr th:only-of-type {\n",
              "        vertical-align: middle;\n",
              "    }\n",
              "\n",
              "    .dataframe tbody tr th {\n",
              "        vertical-align: top;\n",
              "    }\n",
              "\n",
              "    .dataframe thead th {\n",
              "        text-align: right;\n",
              "    }\n",
              "</style>\n",
              "<table border=\"1\" class=\"dataframe\">\n",
              "  <thead>\n",
              "    <tr style=\"text-align: right;\">\n",
              "      <th></th>\n",
              "      <th>edad</th>\n",
              "    </tr>\n",
              "  </thead>\n",
              "  <tbody>\n",
              "    <tr>\n",
              "      <th>count</th>\n",
              "      <td>358487.000</td>\n",
              "    </tr>\n",
              "    <tr>\n",
              "      <th>mean</th>\n",
              "      <td>0.000</td>\n",
              "    </tr>\n",
              "    <tr>\n",
              "      <th>std</th>\n",
              "      <td>1.000</td>\n",
              "    </tr>\n",
              "    <tr>\n",
              "      <th>min</th>\n",
              "      <td>-2.434</td>\n",
              "    </tr>\n",
              "    <tr>\n",
              "      <th>25%</th>\n",
              "      <td>-0.835</td>\n",
              "    </tr>\n",
              "    <tr>\n",
              "      <th>50%</th>\n",
              "      <td>-0.150</td>\n",
              "    </tr>\n",
              "    <tr>\n",
              "      <th>75%</th>\n",
              "      <td>0.688</td>\n",
              "    </tr>\n",
              "    <tr>\n",
              "      <th>max</th>\n",
              "      <td>5.332</td>\n",
              "    </tr>\n",
              "  </tbody>\n",
              "</table>\n",
              "</div>"
            ],
            "text/plain": [
              "             edad\n",
              "count  358487.000\n",
              "mean        0.000\n",
              "std         1.000\n",
              "min        -2.434\n",
              "25%        -0.835\n",
              "50%        -0.150\n",
              "75%         0.688\n",
              "max         5.332"
            ]
          },
          "metadata": {
            "tags": []
          },
          "execution_count": 79
        }
      ]
    },
    {
      "cell_type": "code",
      "metadata": {
        "colab": {
          "base_uri": "https://localhost:8080/",
          "height": 288
        },
        "id": "kqk3jKq6DtJO",
        "outputId": "f30e0daa-346b-4224-a6d1-6a1ca32f2a5e"
      },
      "source": [
        "round(df_base_test[[\"edad\"]].describe(), 3)"
      ],
      "execution_count": 67,
      "outputs": [
        {
          "output_type": "execute_result",
          "data": {
            "text/html": [
              "<div>\n",
              "<style scoped>\n",
              "    .dataframe tbody tr th:only-of-type {\n",
              "        vertical-align: middle;\n",
              "    }\n",
              "\n",
              "    .dataframe tbody tr th {\n",
              "        vertical-align: top;\n",
              "    }\n",
              "\n",
              "    .dataframe thead th {\n",
              "        text-align: right;\n",
              "    }\n",
              "</style>\n",
              "<table border=\"1\" class=\"dataframe\">\n",
              "  <thead>\n",
              "    <tr style=\"text-align: right;\">\n",
              "      <th></th>\n",
              "      <th>edad</th>\n",
              "    </tr>\n",
              "  </thead>\n",
              "  <tbody>\n",
              "    <tr>\n",
              "      <th>count</th>\n",
              "      <td>386975.000</td>\n",
              "    </tr>\n",
              "    <tr>\n",
              "      <th>mean</th>\n",
              "      <td>-0.055</td>\n",
              "    </tr>\n",
              "    <tr>\n",
              "      <th>std</th>\n",
              "      <td>1.003</td>\n",
              "    </tr>\n",
              "    <tr>\n",
              "      <th>min</th>\n",
              "      <td>-2.120</td>\n",
              "    </tr>\n",
              "    <tr>\n",
              "      <th>25%</th>\n",
              "      <td>-0.908</td>\n",
              "    </tr>\n",
              "    <tr>\n",
              "      <th>50%</th>\n",
              "      <td>-0.226</td>\n",
              "    </tr>\n",
              "    <tr>\n",
              "      <th>75%</th>\n",
              "      <td>0.607</td>\n",
              "    </tr>\n",
              "    <tr>\n",
              "      <th>max</th>\n",
              "      <td>4.242</td>\n",
              "    </tr>\n",
              "  </tbody>\n",
              "</table>\n",
              "</div>"
            ],
            "text/plain": [
              "             edad\n",
              "count  386975.000\n",
              "mean       -0.055\n",
              "std         1.003\n",
              "min        -2.120\n",
              "25%        -0.908\n",
              "50%        -0.226\n",
              "75%         0.607\n",
              "max         4.242"
            ]
          },
          "metadata": {
            "tags": []
          },
          "execution_count": 67
        }
      ]
    },
    {
      "cell_type": "code",
      "metadata": {
        "colab": {
          "base_uri": "https://localhost:8080/",
          "height": 288
        },
        "id": "oLfUTIRTEbvl",
        "outputId": "76f67edc-b94e-4fee-9058-c03e009f226b"
      },
      "source": [
        "round(df_base_test[[\"edad\"]].describe(), 3)"
      ],
      "execution_count": 80,
      "outputs": [
        {
          "output_type": "execute_result",
          "data": {
            "text/html": [
              "<div>\n",
              "<style scoped>\n",
              "    .dataframe tbody tr th:only-of-type {\n",
              "        vertical-align: middle;\n",
              "    }\n",
              "\n",
              "    .dataframe tbody tr th {\n",
              "        vertical-align: top;\n",
              "    }\n",
              "\n",
              "    .dataframe thead th {\n",
              "        text-align: right;\n",
              "    }\n",
              "</style>\n",
              "<table border=\"1\" class=\"dataframe\">\n",
              "  <thead>\n",
              "    <tr style=\"text-align: right;\">\n",
              "      <th></th>\n",
              "      <th>edad</th>\n",
              "    </tr>\n",
              "  </thead>\n",
              "  <tbody>\n",
              "    <tr>\n",
              "      <th>count</th>\n",
              "      <td>396666.000</td>\n",
              "    </tr>\n",
              "    <tr>\n",
              "      <th>mean</th>\n",
              "      <td>0.000</td>\n",
              "    </tr>\n",
              "    <tr>\n",
              "      <th>std</th>\n",
              "      <td>1.000</td>\n",
              "    </tr>\n",
              "    <tr>\n",
              "      <th>min</th>\n",
              "      <td>-2.078</td>\n",
              "    </tr>\n",
              "    <tr>\n",
              "      <th>25%</th>\n",
              "      <td>-0.779</td>\n",
              "    </tr>\n",
              "    <tr>\n",
              "      <th>50%</th>\n",
              "      <td>-0.168</td>\n",
              "    </tr>\n",
              "    <tr>\n",
              "      <th>75%</th>\n",
              "      <td>0.672</td>\n",
              "    </tr>\n",
              "    <tr>\n",
              "      <th>max</th>\n",
              "      <td>4.339</td>\n",
              "    </tr>\n",
              "  </tbody>\n",
              "</table>\n",
              "</div>"
            ],
            "text/plain": [
              "             edad\n",
              "count  396666.000\n",
              "mean        0.000\n",
              "std         1.000\n",
              "min        -2.078\n",
              "25%        -0.779\n",
              "50%        -0.168\n",
              "75%         0.672\n",
              "max         4.339"
            ]
          },
          "metadata": {
            "tags": []
          },
          "execution_count": 80
        }
      ]
    },
    {
      "cell_type": "code",
      "metadata": {
        "id": "TogMXerf6bCi"
      },
      "source": [
        "from scipy import stats"
      ],
      "execution_count": 16,
      "outputs": []
    },
    {
      "cell_type": "code",
      "metadata": {
        "colab": {
          "base_uri": "https://localhost:8080/"
        },
        "id": "Ahl6CA-b-WRV",
        "outputId": "bf2c8c5a-1f70-4173-d08b-494629b65891"
      },
      "source": [
        "u_statistic, p_value = stats.mannwhitneyu(df_base_train.loc[pd.notnull(df_base_train[\"edad\"]), \"edad\"], df_base_train.loc[pd.notnull(df_base_train[\"edad\"]), \"edad\"])\n",
        "print(u_statistic, round(p_value, 3))"
      ],
      "execution_count": 90,
      "outputs": [
        {
          "output_type": "stream",
          "text": [
            "62892921784.5 0.5\n"
          ],
          "name": "stdout"
        }
      ]
    },
    {
      "cell_type": "code",
      "metadata": {
        "colab": {
          "base_uri": "https://localhost:8080/"
        },
        "id": "EdpkJe6mGSzL",
        "outputId": "16129236-c6ef-46e2-b040-67ad0a061d4c"
      },
      "source": [
        "u_statistic, p_value = stats.mannwhitneyu(df_base_test.loc[pd.notnull(df_base_test[\"edad\"]), \"edad\"], df_base_test.loc[pd.notnull(df_base_test[\"edad\"]), \"edad\"])\n",
        "print(u_statistic, round(p_value, 3))"
      ],
      "execution_count": 91,
      "outputs": [
        {
          "output_type": "stream",
          "text": [
            "74874825312.5 0.5\n"
          ],
          "name": "stdout"
        }
      ]
    },
    {
      "cell_type": "code",
      "metadata": {
        "colab": {
          "base_uri": "https://localhost:8080/",
          "height": 282
        },
        "id": "MDEjucyf-cZl",
        "outputId": "5fb80232-cc0e-4ccc-d7a0-6fa3d1ea8665"
      },
      "source": [
        "df_base_train[\"edad\"].hist()"
      ],
      "execution_count": 86,
      "outputs": [
        {
          "output_type": "execute_result",
          "data": {
            "text/plain": [
              "<matplotlib.axes._subplots.AxesSubplot at 0x7f72b37e1cc0>"
            ]
          },
          "metadata": {
            "tags": []
          },
          "execution_count": 86
        },
        {
          "output_type": "display_data",
          "data": {
            "image/png": "[encoded data removed]",
            "text/plain": [
              "<Figure size 432x288 with 1 Axes>"
            ]
          },
          "metadata": {
            "tags": [],
            "needs_background": "light"
          }
        }
      ]
    },
    {
      "cell_type": "code",
      "metadata": {
        "id": "xuoJdhvO-jcO"
      },
      "source": [
        "import matplotlib.pyplot as plt\n",
        "\n",
        "def generate_distribution_histogram(dataframe, \n",
        "                                    column_name, \n",
        "                                    title, x_axis_label, y_axis_label,\n",
        "                                    label_name,\n",
        "                                    number_bins = 15):\n",
        "    \"\"\"\n",
        "    This function generates a histogram.\n",
        "    Args:\n",
        "        dataframe:\n",
        "        column_name: String. Name of the column whose distribution we\n",
        "        want to visualize.\n",
        "        title: String. Title of the histogram.\n",
        "        x_axis_label: String. X-axis label.\n",
        "        y_axis_label: String. Y-axis label.\n",
        "    Outputs:\n",
        "        Histogram containing distribution for specific column column_name.\n",
        "    \"\"\"\n",
        "    plt.hist(dataframe[column_name], bins = number_bins, label = label_name)\n",
        "    plt.title(title)\n",
        "    plt.xlabel(x_axis_label)\n",
        "    plt.ylabel(y_axis_label)\n",
        "    plt.legend(loc='upper right')"
      ],
      "execution_count": 71,
      "outputs": []
    },
    {
      "cell_type": "code",
      "metadata": {
        "colab": {
          "base_uri": "https://localhost:8080/",
          "height": 295
        },
        "id": "blee-Sgd_SfR",
        "outputId": "a24e8897-3151-47f7-9c6b-45c308c92c0f"
      },
      "source": [
        "#### MAIN FUNCTION ####\n",
        "generate_distribution_histogram(df_base_train, 'edad',\n",
        "                                title = 'Age Distribution: US Population',\n",
        "                                x_axis_label = 'Age (years)',\n",
        "                                y_axis_label = 'Frequency',\n",
        "                                label_name = 'Age')"
      ],
      "execution_count": 72,
      "outputs": [
        {
          "output_type": "display_data",
          "data": {
            "image/png": "[encoded data removed]",
            "text/plain": [
              "<Figure size 432x288 with 1 Axes>"
            ]
          },
          "metadata": {
            "tags": [],
            "needs_background": "light"
          }
        }
      ]
    },
    {
      "cell_type": "code",
      "metadata": {
        "colab": {
          "base_uri": "https://localhost:8080/",
          "height": 295
        },
        "id": "3_0vBJoX_YJ0",
        "outputId": "bb5d5bc8-0f51-4a5f-9912-67a809653e32"
      },
      "source": [
        "generate_distribution_histogram(df_base_train, 'edad',\n",
        "                                title = 'Age Distribution: US Population',\n",
        "                                x_axis_label = 'Age (years)',\n",
        "                                y_axis_label = 'Frequency',\n",
        "                                label_name = '<=$50K')\n",
        "\n",
        "generate_distribution_histogram(df_base_test, 'edad',\n",
        "                                title = 'Age Distribution: US Population',\n",
        "                                x_axis_label = 'Age (years)',\n",
        "                                y_axis_label = 'Frequency',\n",
        "                                label_name = '>$50K')"
      ],
      "execution_count": 73,
      "outputs": [
        {
          "output_type": "display_data",
          "data": {
            "image/png": "[encoded data removed]",
            "text/plain": [
              "<Figure size 432x288 with 1 Axes>"
            ]
          },
          "metadata": {
            "tags": [],
            "needs_background": "light"
          }
        }
      ]
    },
    {
      "cell_type": "code",
      "metadata": {
        "id": "_euy0mVZASs4"
      },
      "source": [
        "df_base_train[\"edad\"] = df_base_train[\"edad\"].fillna(df_base_train[\"edad\"].median())\n",
        "df_base_test[\"edad\"] = df_base_test[\"edad\"].fillna(df_base_test[\"edad\"].median())"
      ],
      "execution_count": 74,
      "outputs": []
    },
    {
      "cell_type": "code",
      "metadata": {
        "colab": {
          "base_uri": "https://localhost:8080/",
          "height": 295
        },
        "id": "DriT2Yq8A3rW",
        "outputId": "b570d2f5-5bd2-46c0-aed4-145c0d636334"
      },
      "source": [
        "generate_distribution_histogram(df_base_train, 'edad',\n",
        "                                title = 'Age Distribution: US Population',\n",
        "                                x_axis_label = 'Age (years)',\n",
        "                                y_axis_label = 'Frequency',\n",
        "                                label_name = '<=$50K')\n",
        "\n",
        "generate_distribution_histogram(df_base_test, 'edad',\n",
        "                                title = 'Age Distribution: US Population',\n",
        "                                x_axis_label = 'Age (years)',\n",
        "                                y_axis_label = 'Frequency',\n",
        "                                label_name = '>$50K')"
      ],
      "execution_count": 75,
      "outputs": [
        {
          "output_type": "display_data",
          "data": {
            "image/png": "[encoded data removed]",
            "text/plain": [
              "<Figure size 432x288 with 1 Axes>"
            ]
          },
          "metadata": {
            "tags": [],
            "needs_background": "light"
          }
        }
      ]
    },
    {
      "cell_type": "code",
      "metadata": {
        "colab": {
          "base_uri": "https://localhost:8080/"
        },
        "id": "nym_UIBA_j9y",
        "outputId": "a396bb26-c5bf-4634-9c34-b286bb91aec8"
      },
      "source": [
        "print(round(df_base_train[\"edad\"].isnull().sum() / df_base_train.shape[0], 3))\n",
        "print(round(df_base_test[\"edad\"].isnull().sum() / df_base_test.shape[0], 3))"
      ],
      "execution_count": 31,
      "outputs": [
        {
          "output_type": "stream",
          "text": [
            "0.011\n",
            "0.024\n"
          ],
          "name": "stdout"
        }
      ]
    },
    {
      "cell_type": "code",
      "metadata": {
        "id": "5X4furEWA-VV"
      },
      "source": [
        "from sklearn.preprocessing import StandardScaler"
      ],
      "execution_count": 76,
      "outputs": []
    },
    {
      "cell_type": "code",
      "metadata": {
        "id": "DrdIQKgYBvXV"
      },
      "source": [
        "scaler = StandardScaler()\n",
        "df_base_train[\"edad\"] = scaler.fit_transform(df_base_train[[\"edad\"]])"
      ],
      "execution_count": 77,
      "outputs": []
    },
    {
      "cell_type": "code",
      "metadata": {
        "id": "-JXsCsKuByUP"
      },
      "source": [
        "scaler = StandardScaler()\n",
        "df_base_test[\"edad\"] = scaler.fit_transform(df_base_test[[\"edad\"]])"
      ],
      "execution_count": 78,
      "outputs": []
    },
    {
      "cell_type": "code",
      "metadata": {
        "id": "_U1Y6HU3C8vx"
      },
      "source": [
        ""
      ],
      "execution_count": null,
      "outputs": []
    }
  ]
}