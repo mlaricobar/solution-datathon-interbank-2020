{
  "nbformat": 4,
  "nbformat_minor": 0,
  "metadata": {
    "colab": {
      "name": "Welcome To Colaboratory",
      "provenance": [],
      "collapsed_sections": [],
      "include_colab_link": true
    },
    "kernelspec": {
      "display_name": "Python 3",
      "name": "python3"
    }
  },
  "cells": [
    {
      "cell_type": "markdown",
      "metadata": {
        "id": "view-in-github",
        "colab_type": "text"
      },
      "source": [
        "<a href=\"https://colab.research.google.com/github/mlaricobar/solution-datathon-interbank-2020/blob/desarrollo/%5B03%5D%20Feature%20Engineering.ipynb\" target=\"_parent\"><img src=\"https://colab.research.google.com/assets/colab-badge.svg\" alt=\"Open In Colab\"/></a>"
      ]
    },
    {
      "cell_type": "markdown",
      "metadata": {
        "id": "YxxJTgsCqdQn"
      },
      "source": [
        "# Feature Engineering"
      ]
    },
    {
      "cell_type": "code",
      "metadata": {
        "id": "VLUmnZDrqe0e"
      },
      "source": [
        "from google.colab import drive, files\n",
        "\n",
        "import pandas as pd\n",
        "\n",
        "import seaborn as sns\n",
        "from datetime import datetime\n",
        "from dateutil import relativedelta\n",
        "import matplotlib.pyplot as plt"
      ],
      "execution_count": 1,
      "outputs": []
    },
    {
      "cell_type": "code",
      "metadata": {
        "id": "If5QUE85qfhC",
        "colab": {
          "base_uri": "https://localhost:8080/"
        },
        "outputId": "9a6dac55-2481-4c5c-d68b-49fd25ef0681"
      },
      "source": [
        "drive.mount('/gdrive')"
      ],
      "execution_count": 2,
      "outputs": [
        {
          "output_type": "stream",
          "text": [
            "Drive already mounted at /gdrive; to attempt to forcibly remount, call drive.mount(\"/gdrive\", force_remount=True).\n"
          ],
          "name": "stdout"
        }
      ]
    },
    {
      "cell_type": "code",
      "metadata": {
        "id": "oTaBGhKUqgoW",
        "colab": {
          "base_uri": "https://localhost:8080/"
        },
        "outputId": "4ba0e542-cd73-462a-a71e-46d49c054bbe"
      },
      "source": [
        "%cd /gdrive/'My Drive'/Competencias/'[02] Interbank-2020'\n",
        "!ls -lh '[00] Data'"
      ],
      "execution_count": 3,
      "outputs": [
        {
          "output_type": "stream",
          "text": [
            "/gdrive/My Drive/Competencias/[02] Interbank-2020\n",
            "total 5.1G\n",
            "-rw------- 1 root root 979M Dec 12 01:33 censo_test.csv\n",
            "-rw------- 1 root root 748M Dec 12 01:34 censo_train.csv\n",
            "-rw------- 1 root root  998 Dec 12 01:34 productos.csv\n",
            "-rw------- 1 root root 1.7G Dec 12 01:34 rcc_test.csv\n",
            "-rw------- 1 root root 1.4G Dec 12 01:35 rcc_train.csv\n",
            "-rw------- 1 root root 3.3M Dec 12 01:35 sample_submission.csv\n",
            "-rw------- 1 root root  30M Dec 12 01:35 se_test.csv\n",
            "-rw------- 1 root root  28M Dec 12 01:35 se_train.csv\n",
            "-rw------- 1 root root 122M Dec 12 01:35 sunat_test.csv\n",
            "-rw------- 1 root root 106M Dec 12 01:35 sunat_train.csv\n",
            "-rw------- 1 root root 3.0M Dec 12 01:35 y_train.csv\n"
          ],
          "name": "stdout"
        }
      ]
    },
    {
      "cell_type": "code",
      "metadata": {
        "id": "XOPmAEl6q9MD"
      },
      "source": [
        "def optimizar_df(df):\n",
        "  for col_ in df.select_dtypes(include=[int]).columns:\n",
        "    df[col_] = pd.to_numeric(df[col_], downcast=\"unsigned\")\n",
        "\n",
        "  for col_ in df.select_dtypes(include=[float]).columns:\n",
        "    df[col_] = pd.to_numeric(df[col_], downcast=\"float\")\n",
        "  \n",
        "  return df"
      ],
      "execution_count": 4,
      "outputs": []
    },
    {
      "cell_type": "markdown",
      "metadata": {
        "id": "NgUPLWDk4QZS"
      },
      "source": [
        "## Dataset Base"
      ]
    },
    {
      "cell_type": "code",
      "metadata": {
        "id": "sndstOVCyo8U"
      },
      "source": [
        "df_base_train = optimizar_df(pd.read_csv(\"[00] Data/y_train.csv\"))\n",
        "df_base_test = optimizar_df(pd.read_csv(\"[00] Data/sample_submission.csv\"))"
      ],
      "execution_count": 5,
      "outputs": []
    },
    {
      "cell_type": "markdown",
      "metadata": {
        "id": "xiSwJhvzxwDP"
      },
      "source": [
        "## Dataset Socio-Demográfico"
      ]
    },
    {
      "cell_type": "code",
      "metadata": {
        "id": "LvFWUizWurhZ"
      },
      "source": [
        "df_se_train = optimizar_df(pd.read_csv(\"[00] Data/se_train.csv\"))\n",
        "df_se_test = optimizar_df(pd.read_csv(\"[00] Data/se_test.csv\"))"
      ],
      "execution_count": 6,
      "outputs": []
    },
    {
      "cell_type": "code",
      "metadata": {
        "id": "5sI6XxSgz7jd"
      },
      "source": [
        "df_se_train.to_csv(\"[01] Intermediate/ds_se.csv\", index=False)\n",
        "df_se_test.to_csv(\"[01] Intermediate/ds_se_test.csv\", index=False)"
      ],
      "execution_count": null,
      "outputs": []
    },
    {
      "cell_type": "markdown",
      "metadata": {
        "id": "Q0ApGQ8SqwWW"
      },
      "source": [
        "## Dataset RCC"
      ]
    },
    {
      "cell_type": "code",
      "metadata": {
        "id": "hcaI9FoaqtHB"
      },
      "source": [
        "df_rcc_train = optimizar_df(pd.read_csv(\"[00] Data/rcc_train.csv\"))\n",
        "df_rcc_test = optimizar_df(pd.read_csv(\"[00] Data/rcc_test.csv\"))"
      ],
      "execution_count": 6,
      "outputs": []
    },
    {
      "cell_type": "code",
      "metadata": {
        "id": "P0fXCtZOnTe4"
      },
      "source": [
        "df_rcc_train[\"saldo\"] = df_rcc_train[\"saldo\"] + 1\n",
        "df_rcc_test[\"saldo\"] = df_rcc_test[\"saldo\"] + 1"
      ],
      "execution_count": 7,
      "outputs": []
    },
    {
      "cell_type": "code",
      "metadata": {
        "id": "nfk7rw10b58E"
      },
      "source": [
        "def diff_months(codmes_ini, codmes_fin):\n",
        "  r = relativedelta.relativedelta(datetime.strptime(str(int(codmes_fin)), '%Y%m'), datetime.strptime(str(int(codmes_ini)), '%Y%m'))\n",
        "  return r.years*12 + r.months"
      ],
      "execution_count": 8,
      "outputs": []
    },
    {
      "cell_type": "code",
      "metadata": {
        "colab": {
          "base_uri": "https://localhost:8080/",
          "height": 158
        },
        "id": "4hvovERQuDFA",
        "outputId": "ab4d6ce6-2d10-4172-c8eb-b79dc72334ec"
      },
      "source": [
        "df_rcc_train.head(3)"
      ],
      "execution_count": 9,
      "outputs": [
        {
          "output_type": "execute_result",
          "data": {
            "text/html": [
              "<div>\n",
              "<style scoped>\n",
              "    .dataframe tbody tr th:only-of-type {\n",
              "        vertical-align: middle;\n",
              "    }\n",
              "\n",
              "    .dataframe tbody tr th {\n",
              "        vertical-align: top;\n",
              "    }\n",
              "\n",
              "    .dataframe thead th {\n",
              "        text-align: right;\n",
              "    }\n",
              "</style>\n",
              "<table border=\"1\" class=\"dataframe\">\n",
              "  <thead>\n",
              "    <tr style=\"text-align: right;\">\n",
              "      <th></th>\n",
              "      <th>codmes</th>\n",
              "      <th>key_value</th>\n",
              "      <th>condicion</th>\n",
              "      <th>tipo_credito</th>\n",
              "      <th>cod_instit_financiera</th>\n",
              "      <th>saldo</th>\n",
              "      <th>PRODUCTO</th>\n",
              "      <th>RIESGO_DIRECTO</th>\n",
              "      <th>COD_CLASIFICACION_DEUDOR</th>\n",
              "    </tr>\n",
              "  </thead>\n",
              "  <tbody>\n",
              "    <tr>\n",
              "      <th>0</th>\n",
              "      <td>201711</td>\n",
              "      <td>4</td>\n",
              "      <td>0</td>\n",
              "      <td>12</td>\n",
              "      <td>33</td>\n",
              "      <td>0.927399</td>\n",
              "      <td>6</td>\n",
              "      <td>-1</td>\n",
              "      <td>0</td>\n",
              "    </tr>\n",
              "    <tr>\n",
              "      <th>1</th>\n",
              "      <td>201711</td>\n",
              "      <td>4</td>\n",
              "      <td>0</td>\n",
              "      <td>12</td>\n",
              "      <td>33</td>\n",
              "      <td>0.929392</td>\n",
              "      <td>7</td>\n",
              "      <td>-1</td>\n",
              "      <td>0</td>\n",
              "    </tr>\n",
              "    <tr>\n",
              "      <th>2</th>\n",
              "      <td>201711</td>\n",
              "      <td>4</td>\n",
              "      <td>0</td>\n",
              "      <td>12</td>\n",
              "      <td>61</td>\n",
              "      <td>0.947946</td>\n",
              "      <td>5</td>\n",
              "      <td>-1</td>\n",
              "      <td>0</td>\n",
              "    </tr>\n",
              "  </tbody>\n",
              "</table>\n",
              "</div>"
            ],
            "text/plain": [
              "   codmes  key_value  ...  RIESGO_DIRECTO  COD_CLASIFICACION_DEUDOR\n",
              "0  201711          4  ...              -1                         0\n",
              "1  201711          4  ...              -1                         0\n",
              "2  201711          4  ...              -1                         0\n",
              "\n",
              "[3 rows x 9 columns]"
            ]
          },
          "metadata": {
            "tags": []
          },
          "execution_count": 9
        }
      ]
    },
    {
      "cell_type": "code",
      "metadata": {
        "id": "WMWF5_6SLcVc"
      },
      "source": [
        "#df_rcc_train[\"RIESGO_DIRECTO_COD_CLAS_DEUDOR\"] = df_rcc_train.apply(lambda row: \"{0}_{1}\".format(row[\"RIESGO_DIRECTO\"], row[\"COD_CLASIFICACION_DEUDOR\"]), axis=1)\n",
        "#df_rcc_test[\"RIESGO_DIRECTO_COD_CLAS_DEUDOR\"] = df_rcc_test.apply(lambda row: \"{0}_{1}\".format(row[\"RIESGO_DIRECTO\"], row[\"COD_CLASIFICACION_DEUDOR\"]), axis=1)"
      ],
      "execution_count": 9,
      "outputs": []
    },
    {
      "cell_type": "code",
      "metadata": {
        "id": "aeGhCdIyXjuG"
      },
      "source": [
        "from itertools import product"
      ],
      "execution_count": 13,
      "outputs": []
    },
    {
      "cell_type": "code",
      "metadata": {
        "id": "X1u9LP8BYYH2",
        "outputId": "4dab600e-386a-46d9-bf63-ac65e0577d8a",
        "colab": {
          "base_uri": "https://localhost:8080/",
          "height": 68
        }
      },
      "source": [
        "df_rcc_train.loc[~pd.notnull(df_rcc_test[\"RIESGO_DIRECTO\"])]"
      ],
      "execution_count": 20,
      "outputs": [
        {
          "output_type": "execute_result",
          "data": {
            "text/html": [
              "<div>\n",
              "<style scoped>\n",
              "    .dataframe tbody tr th:only-of-type {\n",
              "        vertical-align: middle;\n",
              "    }\n",
              "\n",
              "    .dataframe tbody tr th {\n",
              "        vertical-align: top;\n",
              "    }\n",
              "\n",
              "    .dataframe thead th {\n",
              "        text-align: right;\n",
              "    }\n",
              "</style>\n",
              "<table border=\"1\" class=\"dataframe\">\n",
              "  <thead>\n",
              "    <tr style=\"text-align: right;\">\n",
              "      <th></th>\n",
              "      <th>codmes</th>\n",
              "      <th>key_value</th>\n",
              "      <th>condicion</th>\n",
              "      <th>tipo_credito</th>\n",
              "      <th>cod_instit_financiera</th>\n",
              "      <th>saldo</th>\n",
              "      <th>PRODUCTO</th>\n",
              "      <th>RIESGO_DIRECTO</th>\n",
              "      <th>COD_CLASIFICACION_DEUDOR</th>\n",
              "    </tr>\n",
              "  </thead>\n",
              "  <tbody>\n",
              "  </tbody>\n",
              "</table>\n",
              "</div>"
            ],
            "text/plain": [
              "Empty DataFrame\n",
              "Columns: [codmes, key_value, condicion, tipo_credito, cod_instit_financiera, saldo, PRODUCTO, RIESGO_DIRECTO, COD_CLASIFICACION_DEUDOR]\n",
              "Index: []"
            ]
          },
          "metadata": {
            "tags": []
          },
          "execution_count": 20
        }
      ]
    },
    {
      "cell_type": "code",
      "metadata": {
        "id": "HJVyC7zAWMqK",
        "outputId": "a4d8acea-8608-4d84-b0c7-43d26f279692",
        "colab": {
          "base_uri": "https://localhost:8080/"
        }
      },
      "source": [
        "[(i, j) for i, j in zip(df_rcc_train[\"RIESGO_DIRECTO\"].unique(), df_rcc_train[\"COD_CLASIFICACION_DEUDOR\"].unique())]"
      ],
      "execution_count": 12,
      "outputs": [
        {
          "output_type": "execute_result",
          "data": {
            "text/plain": [
              "[(-1, 0), (1, 1), (2, 5), (3, 3), (5, 4)]"
            ]
          },
          "metadata": {
            "tags": []
          },
          "execution_count": 12
        }
      ]
    },
    {
      "cell_type": "code",
      "metadata": {
        "id": "J4xzAmI7-1Y7",
        "outputId": "99ee174a-2799-40ea-c843-2824b661331c",
        "colab": {
          "base_uri": "https://localhost:8080/"
        }
      },
      "source": [
        "sorted(df_rcc_train[\"tipo_credito\"].unique())"
      ],
      "execution_count": 89,
      "outputs": [
        {
          "output_type": "execute_result",
          "data": {
            "text/plain": [
              "[6, 8, 9, 10, 11, 12, 13, 99]"
            ]
          },
          "metadata": {
            "tags": []
          },
          "execution_count": 89
        }
      ]
    },
    {
      "cell_type": "code",
      "metadata": {
        "id": "TSBLe4Up-8Fk",
        "outputId": "defaf463-b7ab-46d6-ab5e-ef032fb094a5",
        "colab": {
          "base_uri": "https://localhost:8080/"
        }
      },
      "source": [
        "sorted(df_rcc_train[\"RIESGO_DIRECTO\"].unique())"
      ],
      "execution_count": 90,
      "outputs": [
        {
          "output_type": "execute_result",
          "data": {
            "text/plain": [
              "[-1, 1, 2, 3, 5]"
            ]
          },
          "metadata": {
            "tags": []
          },
          "execution_count": 90
        }
      ]
    },
    {
      "cell_type": "code",
      "metadata": {
        "id": "XB2D2sKANpm0"
      },
      "source": [
        "sorted(df_rcc_test[\"RIESGO_DIRECTO\"].unique())"
      ],
      "execution_count": null,
      "outputs": []
    },
    {
      "cell_type": "code",
      "metadata": {
        "id": "ywkS_CDP--0y",
        "outputId": "09f45ab1-9378-42a0-a196-6b33113d3509",
        "colab": {
          "base_uri": "https://localhost:8080/"
        }
      },
      "source": [
        "sorted(df_rcc_train[\"COD_CLASIFICACION_DEUDOR\"].unique())"
      ],
      "execution_count": 91,
      "outputs": [
        {
          "output_type": "execute_result",
          "data": {
            "text/plain": [
              "[0, 1, 2, 3, 4, 5]"
            ]
          },
          "metadata": {
            "tags": []
          },
          "execution_count": 91
        }
      ]
    },
    {
      "cell_type": "code",
      "metadata": {
        "id": "tZawYEmlNqRW"
      },
      "source": [
        "sorted(df_rcc_test[\"COD_CLASIFICACION_DEUDOR\"].unique())"
      ],
      "execution_count": null,
      "outputs": []
    },
    {
      "cell_type": "code",
      "metadata": {
        "id": "HORZ0agc1QD7"
      },
      "source": [
        "map_dict_train = {201802: \"U01M\", 201801: \"U02M\", 201712: \"U03M\",\n",
        "                  201711: \"U04M\", 201710: \"U05M\", 201709: \"U06M\",\n",
        "                  201708: \"U07M\", 201707: \"U08M\", 201706: \"U09M\",\n",
        "                  201705: \"U10M\", 201704: \"U11M\", 201703: \"U12M\"\n",
        "                  }\n",
        "\n",
        "map_dict_test = {201902: \"U01M\", 201901: \"U02M\", 201812: \"U03M\",\n",
        "                  201811: \"U04M\", 201810: \"U05M\", 201809: \"U06M\",\n",
        "                  201808: \"U07M\", 201807: \"U08M\", 201806: \"U09M\",\n",
        "                  201805: \"U10M\", 201804: \"U11M\", 201803: \"U12M\"\n",
        "                  }"
      ],
      "execution_count": 23,
      "outputs": []
    },
    {
      "cell_type": "code",
      "metadata": {
        "id": "XdqgJr44Xm6c"
      },
      "source": [
        "combination_list = [{\"RIESGO_DIRECTO\": d[0], \"COD_CLASIFICACION_DEUDOR\": d[1]} for d in product([-1, 1, 2, 3], [0, 1, 2, 3, 4, 5])]\n"
      ],
      "execution_count": 90,
      "outputs": []
    },
    {
      "cell_type": "code",
      "metadata": {
        "id": "OBkMBIYk6yoy"
      },
      "source": [
        "filter_col = \"RIESGO_DIRECTO\"\n",
        "filter_value = -1\n",
        "\n",
        "def get_features(d):\n",
        "  df_rcc_train_agg_month = df_rcc_train.loc[(df_rcc_train[\"RIESGO_DIRECTO\"] == d[\"RIESGO_DIRECTO\"]) &\n",
        "                                            (df_rcc_train[\"COD_CLASIFICACION_DEUDOR\"] == d[\"COD_CLASIFICACION_DEUDOR\"])]\\\n",
        "                                      .groupby([\"key_value\", \"codmes\"], as_index=False)\\\n",
        "                                      .agg({\"PRODUCTO\": \"count\"})\n",
        "  \n",
        "  df_rcc_test_agg_month = df_rcc_test.loc[(df_rcc_test[\"RIESGO_DIRECTO\"] == d[\"RIESGO_DIRECTO\"]) &\n",
        "                                            (df_rcc_test[\"COD_CLASIFICACION_DEUDOR\"] == d[\"COD_CLASIFICACION_DEUDOR\"])]\\\n",
        "                                      .groupby([\"key_value\", \"codmes\"], as_index=False)\\\n",
        "                                      .agg({\"PRODUCTO\": \"count\"})\n",
        "  \n",
        "  filter_col = \"RIESGO_DIRECTO_COD_CLASIFICACION_DEUDOR\"\n",
        "  filter_value = \"{0}_{1}\".format(str(d[\"RIESGO_DIRECTO\"]), str(d[\"COD_CLASIFICACION_DEUDOR\"]))\n",
        "\n",
        "  if df_rcc_train_agg_month.shape[0] > 0:\n",
        "\n",
        "    df_rcc_train_agg_month[\"codmes\"] = df_rcc_train_agg_month[\"codmes\"].map(map_dict_train)\n",
        "    df_rcc_train_agg_month = pd.crosstab(index=[df_rcc_train_agg_month.key_value],\n",
        "                                        columns=df_rcc_train_agg_month.codmes,\n",
        "                                        values=df_rcc_train_agg_month[\"PRODUCTO\"],\n",
        "                                        aggfunc=\"sum\")\\\n",
        "                                .reset_index(drop=False)\n",
        "    \n",
        "    df_rcc_test_agg_month[\"codmes\"] = df_rcc_test_agg_month[\"codmes\"].map(map_dict_test)\n",
        "    df_rcc_test_agg_month = pd.crosstab(index=[df_rcc_test_agg_month.key_value],\n",
        "                                        columns=df_rcc_test_agg_month.codmes,\n",
        "                                        values=df_rcc_test_agg_month[\"PRODUCTO\"],\n",
        "                                        aggfunc=\"sum\")\\\n",
        "                                .reset_index(drop=False)\n",
        "    \n",
        "    df_rcc_train_agg_month[\"NULL_COUNT_FOR_{0}_EQ_{1}\".format(filter_col, filter_value)] = df_rcc_train_agg_month[[c for c in df_rcc_train_agg_month.columns if c not in [\"key_value\"]]].isnull().sum(axis=1)\n",
        "    df_rcc_train_agg_month = df_rcc_train_agg_month.fillna(0)\n",
        "\n",
        "    df_rcc_test_agg_month[\"NULL_COUNT_FOR_{0}_EQ_{1}\".format(filter_col, filter_value)] = df_rcc_test_agg_month[[c for c in df_rcc_test_agg_month.columns if c not in [\"key_value\"]]].isnull().sum(axis=1)\n",
        "    df_rcc_test_agg_month = df_rcc_test_agg_month.fillna(0)\n",
        "\n",
        "    month_col_list = [c for c in df_rcc_train_agg_month.columns if c not in [\"key_value\", \"codmes\", \"NULL_COUNT_FOR_{0}_EQ_{1}\".format(filter_col, filter_value)]]\n",
        "\n",
        "    df_rcc_train_agg_month[\"REAL_PRODUCT_COUNT_MEAN_FOR_{0}_EQ_{1}\".format(filter_col, filter_value)] = df_rcc_train_agg_month[month_col_list].mean(axis=1)\n",
        "    df_rcc_train_agg_month[\"REAL_PRODUCT_COUNT_STD_FOR_{0}_EQ_{1}\".format(filter_col, filter_value)] = df_rcc_train_agg_month[month_col_list].std(axis=1)\n",
        "\n",
        "    df_rcc_test_agg_month[\"REAL_PRODUCT_COUNT_MEAN_FOR_{0}_EQ_{1}\".format(filter_col, filter_value)] = df_rcc_test_agg_month[month_col_list].mean(axis=1)\n",
        "    df_rcc_test_agg_month[\"REAL_PRODUCT_COUNT_STD_FOR_{0}_EQ_{1}\".format(filter_col, filter_value)] = df_rcc_test_agg_month[month_col_list].std(axis=1)\n",
        "\n",
        "    out_cols = [c for c in df_rcc_train_agg_month.columns if c not in month_col_list]\n",
        "\n",
        "    return True, df_rcc_train_agg_month[out_cols], df_rcc_test_agg_month[out_cols]\n",
        "  \n",
        "  else:\n",
        "\n",
        "    return False, None, None\n"
      ],
      "execution_count": 91,
      "outputs": []
    },
    {
      "cell_type": "code",
      "metadata": {
        "id": "FLBEAVdKvDUD"
      },
      "source": [
        "#{'RIESGO_DIRECTO': 5, 'COD_CLASIFICACION_DEUDOR': 0}\n",
        "#df_rcc_test.loc[(df_rcc_test['RIESGO_DIRECTO'] == 5) & (df_rcc_test['COD_CLASIFICACION_DEUDOR'] == 0)]\n",
        "#df_rcc_train.loc[(df_rcc_train['RIESGO_DIRECTO'] == 5) & (df_rcc_train['COD_CLASIFICACION_DEUDOR'] == 5)]"
      ],
      "execution_count": 92,
      "outputs": []
    },
    {
      "cell_type": "code",
      "metadata": {
        "id": "-vUNJIA7pYwT"
      },
      "source": [
        "df_base_train_all = df_base_train.copy()\n",
        "df_base_test_all = df_base_test.copy()"
      ],
      "execution_count": 93,
      "outputs": []
    },
    {
      "cell_type": "code",
      "metadata": {
        "id": "QLN8VU9Q6nox",
        "outputId": "6402db2f-b3b3-45ce-c67c-f2ff91e8744d",
        "colab": {
          "base_uri": "https://localhost:8080/"
        }
      },
      "source": [
        "for i, d in enumerate(combination_list):\n",
        "  print(i, combination_list[i])\n",
        "\n",
        "  has_data, df_rcc_train_agg_month, df_rcc_test_agg_month = get_features(d)\n",
        "  \n",
        "  if has_data:\n",
        "    df_base_train_all = df_base_train_all.merge(df_rcc_train_agg_month, how=\"left\", on=\"key_value\")\n",
        "    df_base_test_all = df_base_test_all.merge(df_rcc_test_agg_month, how=\"left\", on=\"key_value\")"
      ],
      "execution_count": 94,
      "outputs": [
        {
          "output_type": "stream",
          "text": [
            "0 {'RIESGO_DIRECTO': -1, 'COD_CLASIFICACION_DEUDOR': 0}\n",
            "1 {'RIESGO_DIRECTO': -1, 'COD_CLASIFICACION_DEUDOR': 1}\n",
            "2 {'RIESGO_DIRECTO': -1, 'COD_CLASIFICACION_DEUDOR': 2}\n",
            "3 {'RIESGO_DIRECTO': -1, 'COD_CLASIFICACION_DEUDOR': 3}\n",
            "4 {'RIESGO_DIRECTO': -1, 'COD_CLASIFICACION_DEUDOR': 4}\n",
            "5 {'RIESGO_DIRECTO': -1, 'COD_CLASIFICACION_DEUDOR': 5}\n",
            "6 {'RIESGO_DIRECTO': 1, 'COD_CLASIFICACION_DEUDOR': 0}\n",
            "7 {'RIESGO_DIRECTO': 1, 'COD_CLASIFICACION_DEUDOR': 1}\n",
            "8 {'RIESGO_DIRECTO': 1, 'COD_CLASIFICACION_DEUDOR': 2}\n",
            "9 {'RIESGO_DIRECTO': 1, 'COD_CLASIFICACION_DEUDOR': 3}\n",
            "10 {'RIESGO_DIRECTO': 1, 'COD_CLASIFICACION_DEUDOR': 4}\n",
            "11 {'RIESGO_DIRECTO': 1, 'COD_CLASIFICACION_DEUDOR': 5}\n",
            "12 {'RIESGO_DIRECTO': 2, 'COD_CLASIFICACION_DEUDOR': 0}\n",
            "13 {'RIESGO_DIRECTO': 2, 'COD_CLASIFICACION_DEUDOR': 1}\n",
            "14 {'RIESGO_DIRECTO': 2, 'COD_CLASIFICACION_DEUDOR': 2}\n",
            "15 {'RIESGO_DIRECTO': 2, 'COD_CLASIFICACION_DEUDOR': 3}\n",
            "16 {'RIESGO_DIRECTO': 2, 'COD_CLASIFICACION_DEUDOR': 4}\n",
            "17 {'RIESGO_DIRECTO': 2, 'COD_CLASIFICACION_DEUDOR': 5}\n",
            "18 {'RIESGO_DIRECTO': 3, 'COD_CLASIFICACION_DEUDOR': 0}\n",
            "19 {'RIESGO_DIRECTO': 3, 'COD_CLASIFICACION_DEUDOR': 1}\n",
            "20 {'RIESGO_DIRECTO': 3, 'COD_CLASIFICACION_DEUDOR': 2}\n",
            "21 {'RIESGO_DIRECTO': 3, 'COD_CLASIFICACION_DEUDOR': 3}\n",
            "22 {'RIESGO_DIRECTO': 3, 'COD_CLASIFICACION_DEUDOR': 4}\n",
            "23 {'RIESGO_DIRECTO': 3, 'COD_CLASIFICACION_DEUDOR': 5}\n"
          ],
          "name": "stdout"
        }
      ]
    },
    {
      "cell_type": "code",
      "metadata": {
        "id": "Tg90sBRdxw76"
      },
      "source": [
        "df_base_train_all.to_csv(\"[01] Intermediate/ds_rcc_feat_combination_train.csv\", index=False)\n",
        "df_base_test_all.to_csv(\"[01] Intermediate/ds_rcc_feat_combination_test.csv\", index=False)"
      ],
      "execution_count": 101,
      "outputs": []
    },
    {
      "cell_type": "code",
      "metadata": {
        "id": "hMDA6KkgrzkY"
      },
      "source": [
        "#df_rcc_test.loc[(df_rcc_test[\"RIESGO_DIRECTO\"] == 1) & (df_rcc_test[\"COD_CLASIFICACION_DEUDOR\"] == 5)]"
      ],
      "execution_count": 100,
      "outputs": []
    },
    {
      "cell_type": "code",
      "metadata": {
        "id": "aBKG-MGrlqVf"
      },
      "source": [
        "#df_base_train_all.info(null_counts=True)"
      ],
      "execution_count": 99,
      "outputs": []
    },
    {
      "cell_type": "code",
      "metadata": {
        "id": "1Dr7zkuqxosS"
      },
      "source": [
        "#df_base_test_all.info(null_counts=True)"
      ],
      "execution_count": 98,
      "outputs": []
    },
    {
      "cell_type": "code",
      "metadata": {
        "id": "0DEqxqMu7uuF",
        "outputId": "1f14e434-295a-4c28-e1f1-05c82a0f343c",
        "colab": {
          "base_uri": "https://localhost:8080/"
        }
      },
      "source": [
        "df_base_train_all.shape[0]"
      ],
      "execution_count": 68,
      "outputs": [
        {
          "output_type": "execute_result",
          "data": {
            "text/plain": [
              "358487"
            ]
          },
          "metadata": {
            "tags": []
          },
          "execution_count": 68
        }
      ]
    },
    {
      "cell_type": "code",
      "metadata": {
        "id": "ZOZ5Jq8o7ZyC",
        "outputId": "79b80a18-fc85-4894-9f94-c34ff10c3e5d",
        "colab": {
          "base_uri": "https://localhost:8080/",
          "height": 468
        }
      },
      "source": [
        "df_base_train_all.groupby(\"NULL_COUNT_FOR_RIESGO_DIRECTO_COD_CLASIFICACION_DEUDOR_EQ_-1_1\").agg({\"target\": [\"mean\", \"count\"]})"
      ],
      "execution_count": 71,
      "outputs": [
        {
          "output_type": "execute_result",
          "data": {
            "text/html": [
              "<div>\n",
              "<style scoped>\n",
              "    .dataframe tbody tr th:only-of-type {\n",
              "        vertical-align: middle;\n",
              "    }\n",
              "\n",
              "    .dataframe tbody tr th {\n",
              "        vertical-align: top;\n",
              "    }\n",
              "\n",
              "    .dataframe thead tr th {\n",
              "        text-align: left;\n",
              "    }\n",
              "\n",
              "    .dataframe thead tr:last-of-type th {\n",
              "        text-align: right;\n",
              "    }\n",
              "</style>\n",
              "<table border=\"1\" class=\"dataframe\">\n",
              "  <thead>\n",
              "    <tr>\n",
              "      <th></th>\n",
              "      <th colspan=\"2\" halign=\"left\">target</th>\n",
              "    </tr>\n",
              "    <tr>\n",
              "      <th></th>\n",
              "      <th>mean</th>\n",
              "      <th>count</th>\n",
              "    </tr>\n",
              "    <tr>\n",
              "      <th>NULL_COUNT_FOR_RIESGO_DIRECTO_COD_CLASIFICACION_DEUDOR_EQ_-1_1</th>\n",
              "      <th></th>\n",
              "      <th></th>\n",
              "    </tr>\n",
              "  </thead>\n",
              "  <tbody>\n",
              "    <tr>\n",
              "      <th>0.0</th>\n",
              "      <td>0.583333</td>\n",
              "      <td>36</td>\n",
              "    </tr>\n",
              "    <tr>\n",
              "      <th>1.0</th>\n",
              "      <td>0.400000</td>\n",
              "      <td>45</td>\n",
              "    </tr>\n",
              "    <tr>\n",
              "      <th>2.0</th>\n",
              "      <td>0.311111</td>\n",
              "      <td>90</td>\n",
              "    </tr>\n",
              "    <tr>\n",
              "      <th>3.0</th>\n",
              "      <td>0.419355</td>\n",
              "      <td>186</td>\n",
              "    </tr>\n",
              "    <tr>\n",
              "      <th>4.0</th>\n",
              "      <td>0.370629</td>\n",
              "      <td>286</td>\n",
              "    </tr>\n",
              "    <tr>\n",
              "      <th>5.0</th>\n",
              "      <td>0.370766</td>\n",
              "      <td>561</td>\n",
              "    </tr>\n",
              "    <tr>\n",
              "      <th>6.0</th>\n",
              "      <td>0.389744</td>\n",
              "      <td>975</td>\n",
              "    </tr>\n",
              "    <tr>\n",
              "      <th>7.0</th>\n",
              "      <td>0.398685</td>\n",
              "      <td>1673</td>\n",
              "    </tr>\n",
              "    <tr>\n",
              "      <th>8.0</th>\n",
              "      <td>0.360496</td>\n",
              "      <td>2982</td>\n",
              "    </tr>\n",
              "    <tr>\n",
              "      <th>9.0</th>\n",
              "      <td>0.338791</td>\n",
              "      <td>5558</td>\n",
              "    </tr>\n",
              "    <tr>\n",
              "      <th>10.0</th>\n",
              "      <td>0.311822</td>\n",
              "      <td>11622</td>\n",
              "    </tr>\n",
              "    <tr>\n",
              "      <th>11.0</th>\n",
              "      <td>0.252155</td>\n",
              "      <td>31092</td>\n",
              "    </tr>\n",
              "  </tbody>\n",
              "</table>\n",
              "</div>"
            ],
            "text/plain": [
              "                                                      target       \n",
              "                                                        mean  count\n",
              "NULL_COUNT_FOR_RIESGO_DIRECTO_COD_CLASIFICACION...                 \n",
              "0.0                                                 0.583333     36\n",
              "1.0                                                 0.400000     45\n",
              "2.0                                                 0.311111     90\n",
              "3.0                                                 0.419355    186\n",
              "4.0                                                 0.370629    286\n",
              "5.0                                                 0.370766    561\n",
              "6.0                                                 0.389744    975\n",
              "7.0                                                 0.398685   1673\n",
              "8.0                                                 0.360496   2982\n",
              "9.0                                                 0.338791   5558\n",
              "10.0                                                0.311822  11622\n",
              "11.0                                                0.252155  31092"
            ]
          },
          "metadata": {
            "tags": []
          },
          "execution_count": 71
        }
      ]
    },
    {
      "cell_type": "code",
      "metadata": {
        "id": "07uvl6OW29eM",
        "outputId": "e75af5ad-b88c-417a-e0d0-19ea3b0cceba",
        "colab": {
          "base_uri": "https://localhost:8080/",
          "height": 351
        }
      },
      "source": [
        "plt.figure(figsize=(20, 6))\n",
        "sns.histplot(df_rcc_train_agg_month, x=\"NULL_COUNT_FOR_RIESGO_DIRECTO_COD_CLASIFICACION_DEUDOR_EQ_-1_4\", hue=\"target\", element=\"step\")"
      ],
      "execution_count": 42,
      "outputs": [
        {
          "output_type": "execute_result",
          "data": {
            "text/plain": [
              "<matplotlib.axes._subplots.AxesSubplot at 0x7f12aae812b0>"
            ]
          },
          "metadata": {
            "tags": []
          },
          "execution_count": 42
        },
        {
          "output_type": "display_data",
          "data": {
            "image/png": "[encoded data removed]",
            "text/plain": [
              "<Figure size 1440x432 with 1 Axes>"
            ]
          },
          "metadata": {
            "tags": [],
            "needs_background": "light"
          }
        }
      ]
    },
    {
      "cell_type": "code",
      "metadata": {
        "id": "v7Ho50Nj-rJZ",
        "outputId": "6fa03ec5-0e89-4546-99b3-8918ab6d0a8c",
        "colab": {
          "base_uri": "https://localhost:8080/",
          "height": 351
        }
      },
      "source": [
        "plt.figure(figsize=(20, 6))\n",
        "sns.histplot(df_rcc_train_agg_month, x=\"REAL_PRODUCT_COUNT_STD_FOR_RIESGO_DIRECTO_COD_CLASIFICACION_DEUDOR_EQ_-1_4\", hue=\"target\", element=\"step\")"
      ],
      "execution_count": 45,
      "outputs": [
        {
          "output_type": "execute_result",
          "data": {
            "text/plain": [
              "<matplotlib.axes._subplots.AxesSubplot at 0x7f12ab14aba8>"
            ]
          },
          "metadata": {
            "tags": []
          },
          "execution_count": 45
        },
        {
          "output_type": "display_data",
          "data": {
            "image/png": "[encoded data removed]",
            "text/plain": [
              "<Figure size 1440x432 with 1 Axes>"
            ]
          },
          "metadata": {
            "tags": [],
            "needs_background": "light"
          }
        }
      ]
    },
    {
      "cell_type": "code",
      "metadata": {
        "id": "5kxC-EANzznK",
        "outputId": "67f26052-7109-404e-eae1-3ab9aaffd5a1",
        "colab": {
          "base_uri": "https://localhost:8080/",
          "height": 282
        }
      },
      "source": [
        "df_rcc_train_agg_month.loc[df_rcc_train_agg_month['target'] == 1, \"REAL_PRODUCT_COUNT_MEAN\"].hist()"
      ],
      "execution_count": 47,
      "outputs": [
        {
          "output_type": "execute_result",
          "data": {
            "text/plain": [
              "<matplotlib.axes._subplots.AxesSubplot at 0x7fc58c3f6c18>"
            ]
          },
          "metadata": {
            "tags": []
          },
          "execution_count": 47
        },
        {
          "output_type": "display_data",
          "data": {
            "image/png": "[encoded data removed]",
            "text/plain": [
              "<Figure size 432x288 with 1 Axes>"
            ]
          },
          "metadata": {
            "tags": [],
            "needs_background": "light"
          }
        }
      ]
    },
    {
      "cell_type": "code",
      "metadata": {
        "id": "oZev-W6ezzh5",
        "outputId": "67a7d307-6bf4-477b-d3fa-7365562ac36f",
        "colab": {
          "base_uri": "https://localhost:8080/",
          "height": 282
        }
      },
      "source": [
        "df_rcc_train_agg_month.loc[df_rcc_train_agg_month['target'] == 0, \"REAL_PRODUCT_COUNT_MEAN\"].hist()"
      ],
      "execution_count": 48,
      "outputs": [
        {
          "output_type": "execute_result",
          "data": {
            "text/plain": [
              "<matplotlib.axes._subplots.AxesSubplot at 0x7fc58c1f7cc0>"
            ]
          },
          "metadata": {
            "tags": []
          },
          "execution_count": 48
        },
        {
          "output_type": "display_data",
          "data": {
            "image/png": "[encoded data removed]",
            "text/plain": [
              "<Figure size 432x288 with 1 Axes>"
            ]
          },
          "metadata": {
            "tags": [],
            "needs_background": "light"
          }
        }
      ]
    },
    {
      "cell_type": "code",
      "metadata": {
        "id": "F1S16wMzzzfw"
      },
      "source": [
        ""
      ],
      "execution_count": 28,
      "outputs": []
    },
    {
      "cell_type": "code",
      "metadata": {
        "id": "vASS1Oi7Hd69",
        "outputId": "513bac18-b3a6-454a-db07-90d8fbcfbc3c",
        "colab": {
          "base_uri": "https://localhost:8080/",
          "height": 408
        }
      },
      "source": [
        "df_rcc_train.groupby(\"codmes\", as_index=False).agg({\"key_value\": \"nunique\"})"
      ],
      "execution_count": 14,
      "outputs": [
        {
          "output_type": "execute_result",
          "data": {
            "text/html": [
              "<div>\n",
              "<style scoped>\n",
              "    .dataframe tbody tr th:only-of-type {\n",
              "        vertical-align: middle;\n",
              "    }\n",
              "\n",
              "    .dataframe tbody tr th {\n",
              "        vertical-align: top;\n",
              "    }\n",
              "\n",
              "    .dataframe thead th {\n",
              "        text-align: right;\n",
              "    }\n",
              "</style>\n",
              "<table border=\"1\" class=\"dataframe\">\n",
              "  <thead>\n",
              "    <tr style=\"text-align: right;\">\n",
              "      <th></th>\n",
              "      <th>codmes</th>\n",
              "      <th>key_value</th>\n",
              "    </tr>\n",
              "  </thead>\n",
              "  <tbody>\n",
              "    <tr>\n",
              "      <th>0</th>\n",
              "      <td>201703</td>\n",
              "      <td>271195</td>\n",
              "    </tr>\n",
              "    <tr>\n",
              "      <th>1</th>\n",
              "      <td>201704</td>\n",
              "      <td>274087</td>\n",
              "    </tr>\n",
              "    <tr>\n",
              "      <th>2</th>\n",
              "      <td>201705</td>\n",
              "      <td>277157</td>\n",
              "    </tr>\n",
              "    <tr>\n",
              "      <th>3</th>\n",
              "      <td>201706</td>\n",
              "      <td>279899</td>\n",
              "    </tr>\n",
              "    <tr>\n",
              "      <th>4</th>\n",
              "      <td>201707</td>\n",
              "      <td>284332</td>\n",
              "    </tr>\n",
              "    <tr>\n",
              "      <th>5</th>\n",
              "      <td>201708</td>\n",
              "      <td>287315</td>\n",
              "    </tr>\n",
              "    <tr>\n",
              "      <th>6</th>\n",
              "      <td>201709</td>\n",
              "      <td>289606</td>\n",
              "    </tr>\n",
              "    <tr>\n",
              "      <th>7</th>\n",
              "      <td>201710</td>\n",
              "      <td>293824</td>\n",
              "    </tr>\n",
              "    <tr>\n",
              "      <th>8</th>\n",
              "      <td>201711</td>\n",
              "      <td>296166</td>\n",
              "    </tr>\n",
              "    <tr>\n",
              "      <th>9</th>\n",
              "      <td>201712</td>\n",
              "      <td>294880</td>\n",
              "    </tr>\n",
              "    <tr>\n",
              "      <th>10</th>\n",
              "      <td>201801</td>\n",
              "      <td>294427</td>\n",
              "    </tr>\n",
              "    <tr>\n",
              "      <th>11</th>\n",
              "      <td>201802</td>\n",
              "      <td>358487</td>\n",
              "    </tr>\n",
              "  </tbody>\n",
              "</table>\n",
              "</div>"
            ],
            "text/plain": [
              "    codmes  key_value\n",
              "0   201703     271195\n",
              "1   201704     274087\n",
              "2   201705     277157\n",
              "3   201706     279899\n",
              "4   201707     284332\n",
              "5   201708     287315\n",
              "6   201709     289606\n",
              "7   201710     293824\n",
              "8   201711     296166\n",
              "9   201712     294880\n",
              "10  201801     294427\n",
              "11  201802     358487"
            ]
          },
          "metadata": {
            "tags": []
          },
          "execution_count": 14
        }
      ]
    },
    {
      "cell_type": "code",
      "metadata": {
        "id": "NLTgH-a7IH6t"
      },
      "source": [
        "df_nuevos = df_rcc_train.loc[(df_rcc_train[\"codmes\"] == 201802) & \n",
        "                 ~(df_rcc_train[\"key_value\"].isin(df_rcc_train.loc[df_rcc_train[\"codmes\"] != 201802, \"key_value\"].unique())), [\"key_value\"]].drop_duplicates()"
      ],
      "execution_count": 21,
      "outputs": []
    },
    {
      "cell_type": "code",
      "metadata": {
        "id": "ILJ_U5CvJW1t",
        "outputId": "8878973c-2b4b-4ff7-c284-b608fd4ffb36",
        "colab": {
          "base_uri": "https://localhost:8080/"
        }
      },
      "source": [
        "df_base_train[\"target\"].mean()"
      ],
      "execution_count": 24,
      "outputs": [
        {
          "output_type": "execute_result",
          "data": {
            "text/plain": [
              "0.15819262623191357"
            ]
          },
          "metadata": {
            "tags": []
          },
          "execution_count": 24
        }
      ]
    },
    {
      "cell_type": "code",
      "metadata": {
        "id": "X3Ui8AZ8JGdp",
        "outputId": "c7573af7-cbf8-47da-ae93-8eafa6d1757c",
        "colab": {
          "base_uri": "https://localhost:8080/",
          "height": 288
        }
      },
      "source": [
        "df_nuevos.merge(df_base_train, how=\"left\", on=\"key_value\").describe()"
      ],
      "execution_count": 23,
      "outputs": [
        {
          "output_type": "execute_result",
          "data": {
            "text/html": [
              "<div>\n",
              "<style scoped>\n",
              "    .dataframe tbody tr th:only-of-type {\n",
              "        vertical-align: middle;\n",
              "    }\n",
              "\n",
              "    .dataframe tbody tr th {\n",
              "        vertical-align: top;\n",
              "    }\n",
              "\n",
              "    .dataframe thead th {\n",
              "        text-align: right;\n",
              "    }\n",
              "</style>\n",
              "<table border=\"1\" class=\"dataframe\">\n",
              "  <thead>\n",
              "    <tr style=\"text-align: right;\">\n",
              "      <th></th>\n",
              "      <th>key_value</th>\n",
              "      <th>target</th>\n",
              "    </tr>\n",
              "  </thead>\n",
              "  <tbody>\n",
              "    <tr>\n",
              "      <th>count</th>\n",
              "      <td>40165.000000</td>\n",
              "      <td>40165.000000</td>\n",
              "    </tr>\n",
              "    <tr>\n",
              "      <th>mean</th>\n",
              "      <td>205629.781003</td>\n",
              "      <td>0.121997</td>\n",
              "    </tr>\n",
              "    <tr>\n",
              "      <th>std</th>\n",
              "      <td>108777.701115</td>\n",
              "      <td>0.327286</td>\n",
              "    </tr>\n",
              "    <tr>\n",
              "      <th>min</th>\n",
              "      <td>10.000000</td>\n",
              "      <td>0.000000</td>\n",
              "    </tr>\n",
              "    <tr>\n",
              "      <th>25%</th>\n",
              "      <td>110460.000000</td>\n",
              "      <td>0.000000</td>\n",
              "    </tr>\n",
              "    <tr>\n",
              "      <th>50%</th>\n",
              "      <td>214878.000000</td>\n",
              "      <td>0.000000</td>\n",
              "    </tr>\n",
              "    <tr>\n",
              "      <th>75%</th>\n",
              "      <td>307385.000000</td>\n",
              "      <td>0.000000</td>\n",
              "    </tr>\n",
              "    <tr>\n",
              "      <th>max</th>\n",
              "      <td>358486.000000</td>\n",
              "      <td>1.000000</td>\n",
              "    </tr>\n",
              "  </tbody>\n",
              "</table>\n",
              "</div>"
            ],
            "text/plain": [
              "           key_value        target\n",
              "count   40165.000000  40165.000000\n",
              "mean   205629.781003      0.121997\n",
              "std    108777.701115      0.327286\n",
              "min        10.000000      0.000000\n",
              "25%    110460.000000      0.000000\n",
              "50%    214878.000000      0.000000\n",
              "75%    307385.000000      0.000000\n",
              "max    358486.000000      1.000000"
            ]
          },
          "metadata": {
            "tags": []
          },
          "execution_count": 23
        }
      ]
    },
    {
      "cell_type": "code",
      "metadata": {
        "id": "eburpI3sHzrV",
        "outputId": "d72c2ffc-6c0c-4b70-ce67-8404da77b636",
        "colab": {
          "base_uri": "https://localhost:8080/",
          "height": 408
        }
      },
      "source": [
        "df_rcc_test.groupby(\"codmes\", as_index=False).agg({\"key_value\": \"nunique\"})"
      ],
      "execution_count": 15,
      "outputs": [
        {
          "output_type": "execute_result",
          "data": {
            "text/html": [
              "<div>\n",
              "<style scoped>\n",
              "    .dataframe tbody tr th:only-of-type {\n",
              "        vertical-align: middle;\n",
              "    }\n",
              "\n",
              "    .dataframe tbody tr th {\n",
              "        vertical-align: top;\n",
              "    }\n",
              "\n",
              "    .dataframe thead th {\n",
              "        text-align: right;\n",
              "    }\n",
              "</style>\n",
              "<table border=\"1\" class=\"dataframe\">\n",
              "  <thead>\n",
              "    <tr style=\"text-align: right;\">\n",
              "      <th></th>\n",
              "      <th>codmes</th>\n",
              "      <th>key_value</th>\n",
              "    </tr>\n",
              "  </thead>\n",
              "  <tbody>\n",
              "    <tr>\n",
              "      <th>0</th>\n",
              "      <td>201803</td>\n",
              "      <td>304407</td>\n",
              "    </tr>\n",
              "    <tr>\n",
              "      <th>1</th>\n",
              "      <td>201804</td>\n",
              "      <td>307786</td>\n",
              "    </tr>\n",
              "    <tr>\n",
              "      <th>2</th>\n",
              "      <td>201805</td>\n",
              "      <td>311221</td>\n",
              "    </tr>\n",
              "    <tr>\n",
              "      <th>3</th>\n",
              "      <td>201806</td>\n",
              "      <td>314598</td>\n",
              "    </tr>\n",
              "    <tr>\n",
              "      <th>4</th>\n",
              "      <td>201807</td>\n",
              "      <td>319240</td>\n",
              "    </tr>\n",
              "    <tr>\n",
              "      <th>5</th>\n",
              "      <td>201808</td>\n",
              "      <td>321742</td>\n",
              "    </tr>\n",
              "    <tr>\n",
              "      <th>6</th>\n",
              "      <td>201809</td>\n",
              "      <td>323546</td>\n",
              "    </tr>\n",
              "    <tr>\n",
              "      <th>7</th>\n",
              "      <td>201810</td>\n",
              "      <td>327975</td>\n",
              "    </tr>\n",
              "    <tr>\n",
              "      <th>8</th>\n",
              "      <td>201811</td>\n",
              "      <td>329841</td>\n",
              "    </tr>\n",
              "    <tr>\n",
              "      <th>9</th>\n",
              "      <td>201812</td>\n",
              "      <td>327683</td>\n",
              "    </tr>\n",
              "    <tr>\n",
              "      <th>10</th>\n",
              "      <td>201901</td>\n",
              "      <td>326447</td>\n",
              "    </tr>\n",
              "    <tr>\n",
              "      <th>11</th>\n",
              "      <td>201902</td>\n",
              "      <td>396666</td>\n",
              "    </tr>\n",
              "  </tbody>\n",
              "</table>\n",
              "</div>"
            ],
            "text/plain": [
              "    codmes  key_value\n",
              "0   201803     304407\n",
              "1   201804     307786\n",
              "2   201805     311221\n",
              "3   201806     314598\n",
              "4   201807     319240\n",
              "5   201808     321742\n",
              "6   201809     323546\n",
              "7   201810     327975\n",
              "8   201811     329841\n",
              "9   201812     327683\n",
              "10  201901     326447\n",
              "11  201902     396666"
            ]
          },
          "metadata": {
            "tags": []
          },
          "execution_count": 15
        }
      ]
    },
    {
      "cell_type": "code",
      "metadata": {
        "id": "ryN9EXDpItLz",
        "outputId": "89f44ec3-3172-4f99-f1d7-bc7fb47dff62",
        "colab": {
          "base_uri": "https://localhost:8080/"
        }
      },
      "source": [
        "df_rcc_test.loc[(df_rcc_test[\"codmes\"] == 201902) & \n",
        "                 ~(df_rcc_test[\"key_value\"].isin(df_rcc_test.loc[df_rcc_test[\"codmes\"] != 201902, \"key_value\"].unique())), \"key_value\"].nunique()"
      ],
      "execution_count": 18,
      "outputs": [
        {
          "output_type": "execute_result",
          "data": {
            "text/plain": [
              "42267"
            ]
          },
          "metadata": {
            "tags": []
          },
          "execution_count": 18
        }
      ]
    },
    {
      "cell_type": "code",
      "metadata": {
        "colab": {
          "base_uri": "https://localhost:8080/"
        },
        "id": "D-dmDYjXBv63",
        "outputId": "4f64a419-b1cc-4b8f-89e5-c5f02c9854f0"
      },
      "source": [
        "df_rcc_train[\"COD_CLASIFICACION_DEUDOR\"].unique(), df_rcc_test[\"COD_CLASIFICACION_DEUDOR\"].unique()"
      ],
      "execution_count": 29,
      "outputs": [
        {
          "output_type": "execute_result",
          "data": {
            "text/plain": [
              "(array([1, 2, 6, 4, 5, 3], dtype=uint8),\n",
              " array([1, 2, 6, 4, 3, 5], dtype=uint8))"
            ]
          },
          "metadata": {
            "tags": []
          },
          "execution_count": 29
        }
      ]
    },
    {
      "cell_type": "code",
      "metadata": {
        "id": "ql3ChNoI3jD4",
        "outputId": "22e229d5-2c37-49bf-c1bb-c5e6b82026ff",
        "colab": {
          "base_uri": "https://localhost:8080/"
        }
      },
      "source": [
        "df_rcc_train[\"RIESGO_DIRECTO\"].unique(), df_rcc_test[\"RIESGO_DIRECTO\"].unique()"
      ],
      "execution_count": 30,
      "outputs": [
        {
          "output_type": "execute_result",
          "data": {
            "text/plain": [
              "(array([1, 3, 4, 5, 7]), array([1, 3, 4, 5, 7]))"
            ]
          },
          "metadata": {
            "tags": []
          },
          "execution_count": 30
        }
      ]
    },
    {
      "cell_type": "code",
      "metadata": {
        "id": "42EeQqfoKDZN"
      },
      "source": [
        "df_rcc_train[\"COD_CLASIFICACION_DEUDOR\"] = df_rcc_train[\"COD_CLASIFICACION_DEUDOR\"] + 1\n",
        "df_rcc_train[\"RIESGO_DIRECTO\"] = df_rcc_train[\"RIESGO_DIRECTO\"] + 2\n",
        "\n",
        "df_rcc_test[\"COD_CLASIFICACION_DEUDOR\"] = df_rcc_test[\"COD_CLASIFICACION_DEUDOR\"] + 1\n",
        "df_rcc_test[\"RIESGO_DIRECTO\"] = df_rcc_test[\"RIESGO_DIRECTO\"] + 2"
      ],
      "execution_count": 28,
      "outputs": []
    },
    {
      "cell_type": "markdown",
      "metadata": {
        "id": "oPkWJK9EowlQ"
      },
      "source": [
        "### Historical Features"
      ]
    },
    {
      "cell_type": "code",
      "metadata": {
        "id": "atHA6ffEucQI"
      },
      "source": [
        "from scipy.stats import hmean, gmean, kurtosis, skew, entropy"
      ],
      "execution_count": 31,
      "outputs": []
    },
    {
      "cell_type": "markdown",
      "metadata": {
        "id": "lOzVFF3xot99"
      },
      "source": [
        "#### Count, sum, min, max, mean"
      ]
    },
    {
      "cell_type": "code",
      "metadata": {
        "id": "8nP6evBUtxY5"
      },
      "source": [
        "df_rcc_train_agg = (df_rcc_train.groupby([\"key_value\", \"codmes\"], as_index=False)\n",
        "                                .agg({\n",
        "                                        \"saldo\": [\"count\", \"sum\", \"min\", \"max\", \"mean\"],\n",
        "                                        \"condicion\": [\"sum\", \"min\", \"max\", \"mean\"],\n",
        "                                        \"COD_CLASIFICACION_DEUDOR\": [\"sum\", \"min\", \"max\", \"mean\"],\n",
        "                                        \"RIESGO_DIRECTO\": [\"sum\", \"min\", \"max\", \"mean\"],\n",
        "                                }))"
      ],
      "execution_count": 32,
      "outputs": []
    },
    {
      "cell_type": "code",
      "metadata": {
        "id": "Olxl94exz25o"
      },
      "source": [
        "df_rcc_test_agg = (df_rcc_test.groupby([\"key_value\", \"codmes\"], as_index=False)\n",
        "                                .agg({\n",
        "                                        \"saldo\": [\"count\", \"sum\", \"min\", \"max\", \"mean\"],\n",
        "                                        \"condicion\": [\"sum\", \"min\", \"max\", \"mean\"],\n",
        "                                        \"COD_CLASIFICACION_DEUDOR\": [\"sum\", \"min\", \"max\", \"mean\"],\n",
        "                                        \"RIESGO_DIRECTO\": [\"sum\", \"min\", \"max\", \"mean\"],\n",
        "                                }))"
      ],
      "execution_count": 33,
      "outputs": []
    },
    {
      "cell_type": "code",
      "metadata": {
        "id": "a1Unkb7CyiFq"
      },
      "source": [
        "df_rcc_train_agg.columns = [\"_\".join(c) if c[-1] != \"\" else c[0] for c in df_rcc_train_agg.columns]\n",
        "df_rcc_test_agg.columns = [\"_\".join(c) if c[-1] != \"\" else c[0] for c in df_rcc_test_agg.columns]"
      ],
      "execution_count": 34,
      "outputs": []
    },
    {
      "cell_type": "code",
      "metadata": {
        "colab": {
          "base_uri": "https://localhost:8080/",
          "height": 218
        },
        "id": "Cs7qQuA0enXP",
        "outputId": "ae3de698-bf07-4200-8ad5-69bf83d778af"
      },
      "source": [
        "df_rcc_train_agg.head()"
      ],
      "execution_count": 35,
      "outputs": [
        {
          "output_type": "execute_result",
          "data": {
            "text/html": [
              "<div>\n",
              "<style scoped>\n",
              "    .dataframe tbody tr th:only-of-type {\n",
              "        vertical-align: middle;\n",
              "    }\n",
              "\n",
              "    .dataframe tbody tr th {\n",
              "        vertical-align: top;\n",
              "    }\n",
              "\n",
              "    .dataframe thead th {\n",
              "        text-align: right;\n",
              "    }\n",
              "</style>\n",
              "<table border=\"1\" class=\"dataframe\">\n",
              "  <thead>\n",
              "    <tr style=\"text-align: right;\">\n",
              "      <th></th>\n",
              "      <th>key_value</th>\n",
              "      <th>codmes</th>\n",
              "      <th>saldo_count</th>\n",
              "      <th>saldo_sum</th>\n",
              "      <th>saldo_min</th>\n",
              "      <th>saldo_max</th>\n",
              "      <th>saldo_mean</th>\n",
              "      <th>condicion_sum</th>\n",
              "      <th>condicion_min</th>\n",
              "      <th>condicion_max</th>\n",
              "      <th>condicion_mean</th>\n",
              "      <th>COD_CLASIFICACION_DEUDOR_sum</th>\n",
              "      <th>COD_CLASIFICACION_DEUDOR_min</th>\n",
              "      <th>COD_CLASIFICACION_DEUDOR_max</th>\n",
              "      <th>COD_CLASIFICACION_DEUDOR_mean</th>\n",
              "      <th>RIESGO_DIRECTO_sum</th>\n",
              "      <th>RIESGO_DIRECTO_min</th>\n",
              "      <th>RIESGO_DIRECTO_max</th>\n",
              "      <th>RIESGO_DIRECTO_mean</th>\n",
              "    </tr>\n",
              "  </thead>\n",
              "  <tbody>\n",
              "    <tr>\n",
              "      <th>0</th>\n",
              "      <td>0</td>\n",
              "      <td>201703</td>\n",
              "      <td>4</td>\n",
              "      <td>3.777921</td>\n",
              "      <td>0.927186</td>\n",
              "      <td>0.961819</td>\n",
              "      <td>0.944480</td>\n",
              "      <td>0</td>\n",
              "      <td>0</td>\n",
              "      <td>0</td>\n",
              "      <td>0.0</td>\n",
              "      <td>4.0</td>\n",
              "      <td>1</td>\n",
              "      <td>1</td>\n",
              "      <td>1.0</td>\n",
              "      <td>6</td>\n",
              "      <td>1</td>\n",
              "      <td>3</td>\n",
              "      <td>1.5</td>\n",
              "    </tr>\n",
              "    <tr>\n",
              "      <th>1</th>\n",
              "      <td>0</td>\n",
              "      <td>201704</td>\n",
              "      <td>5</td>\n",
              "      <td>4.705365</td>\n",
              "      <td>0.927186</td>\n",
              "      <td>0.961819</td>\n",
              "      <td>0.941073</td>\n",
              "      <td>0</td>\n",
              "      <td>0</td>\n",
              "      <td>0</td>\n",
              "      <td>0.0</td>\n",
              "      <td>5.0</td>\n",
              "      <td>1</td>\n",
              "      <td>1</td>\n",
              "      <td>1.0</td>\n",
              "      <td>7</td>\n",
              "      <td>1</td>\n",
              "      <td>3</td>\n",
              "      <td>1.4</td>\n",
              "    </tr>\n",
              "    <tr>\n",
              "      <th>2</th>\n",
              "      <td>0</td>\n",
              "      <td>201705</td>\n",
              "      <td>5</td>\n",
              "      <td>4.705208</td>\n",
              "      <td>0.927186</td>\n",
              "      <td>0.961819</td>\n",
              "      <td>0.941042</td>\n",
              "      <td>0</td>\n",
              "      <td>0</td>\n",
              "      <td>0</td>\n",
              "      <td>0.0</td>\n",
              "      <td>5.0</td>\n",
              "      <td>1</td>\n",
              "      <td>1</td>\n",
              "      <td>1.0</td>\n",
              "      <td>7</td>\n",
              "      <td>1</td>\n",
              "      <td>3</td>\n",
              "      <td>1.4</td>\n",
              "    </tr>\n",
              "    <tr>\n",
              "      <th>3</th>\n",
              "      <td>0</td>\n",
              "      <td>201706</td>\n",
              "      <td>5</td>\n",
              "      <td>4.705231</td>\n",
              "      <td>0.927186</td>\n",
              "      <td>0.961819</td>\n",
              "      <td>0.941046</td>\n",
              "      <td>0</td>\n",
              "      <td>0</td>\n",
              "      <td>0</td>\n",
              "      <td>0.0</td>\n",
              "      <td>5.0</td>\n",
              "      <td>1</td>\n",
              "      <td>1</td>\n",
              "      <td>1.0</td>\n",
              "      <td>7</td>\n",
              "      <td>1</td>\n",
              "      <td>3</td>\n",
              "      <td>1.4</td>\n",
              "    </tr>\n",
              "    <tr>\n",
              "      <th>4</th>\n",
              "      <td>0</td>\n",
              "      <td>201707</td>\n",
              "      <td>5</td>\n",
              "      <td>4.705533</td>\n",
              "      <td>0.927186</td>\n",
              "      <td>0.961819</td>\n",
              "      <td>0.941107</td>\n",
              "      <td>0</td>\n",
              "      <td>0</td>\n",
              "      <td>0</td>\n",
              "      <td>0.0</td>\n",
              "      <td>5.0</td>\n",
              "      <td>1</td>\n",
              "      <td>1</td>\n",
              "      <td>1.0</td>\n",
              "      <td>7</td>\n",
              "      <td>1</td>\n",
              "      <td>3</td>\n",
              "      <td>1.4</td>\n",
              "    </tr>\n",
              "  </tbody>\n",
              "</table>\n",
              "</div>"
            ],
            "text/plain": [
              "   key_value  codmes  ...  RIESGO_DIRECTO_max  RIESGO_DIRECTO_mean\n",
              "0          0  201703  ...                   3                  1.5\n",
              "1          0  201704  ...                   3                  1.4\n",
              "2          0  201705  ...                   3                  1.4\n",
              "3          0  201706  ...                   3                  1.4\n",
              "4          0  201707  ...                   3                  1.4\n",
              "\n",
              "[5 rows x 19 columns]"
            ]
          },
          "metadata": {
            "tags": []
          },
          "execution_count": 35
        }
      ]
    },
    {
      "cell_type": "code",
      "metadata": {
        "id": "aZz1rr1PzHec"
      },
      "source": [
        "col_num = [c for c in df_rcc_train_agg.columns if c not in [\"key_value\", \"codmes\"]]\n",
        "#['saldo_count', 'saldo_sum', 'saldo_min', 'saldo_max', 'saldo_mean', 'condicion_sum', 'condicion_min', 'condicion_max', 'condicion_mean']"
      ],
      "execution_count": 36,
      "outputs": []
    },
    {
      "cell_type": "code",
      "metadata": {
        "id": "x7cr7cpoenS3"
      },
      "source": [
        "import time"
      ],
      "execution_count": 37,
      "outputs": []
    },
    {
      "cell_type": "code",
      "metadata": {
        "colab": {
          "base_uri": "https://localhost:8080/"
        },
        "id": "XF1Yn4vNenVE",
        "outputId": "9a51baf4-8b61-4f05-8fe3-542328d670b2"
      },
      "source": [
        "for col_ in col_num:\n",
        "    print(\"Numeric Feature: {0}\".format(col_))\n",
        "    ti = time.time()\n",
        "    df_rcc_train_agg[\"last{0}\".format(col_)] = df_rcc_train_agg.groupby(\"key_value\")[col_].shift(1)\n",
        "    df_rcc_test_agg[\"last{0}\".format(col_)] = df_rcc_test_agg.groupby(\"key_value\")[col_].shift(1)\n",
        "  \n",
        "    if col_ == \"codmes\":\n",
        "        df_rcc_train_agg[\"difflast{0}\".format(col_)] = df_rcc_train_agg.apply(lambda row: diff_months(row[\"last{0}\".format(col_)], row[col_]), axis=1)\n",
        "        df_rcc_test_agg[\"difflast{0}\".format(col_)] = df_rcc_test_agg.apply(lambda row: diff_months(row[\"last{0}\".format(col_)], row[col_]), axis=1)\n",
        "    else:\n",
        "        df_rcc_train_agg[\"difflast{0}\".format(col_)] = df_rcc_train_agg.apply(lambda row: row[col_] - row[\"last{0}\".format(col_)], axis=1)\n",
        "        df_rcc_test_agg[\"difflast{0}\".format(col_)] = df_rcc_test_agg.apply(lambda row: row[col_] - row[\"last{0}\".format(col_)], axis=1)\n",
        "  \n",
        "    df_rcc_train_agg[\"absdifflast{0}\".format(col_)] = abs(df_rcc_train_agg[\"difflast{0}\".format(col_)])\n",
        "    df_rcc_test_agg[\"absdifflast{0}\".format(col_)] = abs(df_rcc_test_agg[\"difflast{0}\".format(col_)])\n",
        "\n",
        "    df_rcc_train_agg.loc[pd.notnull(df_rcc_train_agg[\"difflast{0}\".format(col_)]), \"incrflag{0}\".format(col_)] = df_rcc_train_agg.loc[pd.notnull(df_rcc_train_agg[\"difflast{0}\".format(col_)]), \"difflast{0}\".format(col_)].apply(lambda c: 1 if c > 0 else 0)\n",
        "    df_rcc_train_agg.loc[pd.notnull(df_rcc_train_agg[\"difflast{0}\".format(col_)]), \"decrflag{0}\".format(col_)] = df_rcc_train_agg.loc[pd.notnull(df_rcc_train_agg[\"difflast{0}\".format(col_)]), \"difflast{0}\".format(col_)].apply(lambda c: 1 if c < 0 else 0)\n",
        "    df_rcc_train_agg.loc[pd.notnull(df_rcc_train_agg[\"difflast{0}\".format(col_)]), \"sameflag{0}\".format(col_)] = df_rcc_train_agg.loc[pd.notnull(df_rcc_train_agg[\"difflast{0}\".format(col_)]), \"difflast{0}\".format(col_)].apply(lambda c: 1 if c == 0 else 0)\n",
        "\n",
        "    df_rcc_test_agg.loc[pd.notnull(df_rcc_test_agg[\"difflast{0}\".format(col_)]), \"incrflag{0}\".format(col_)] = df_rcc_test_agg.loc[pd.notnull(df_rcc_test_agg[\"difflast{0}\".format(col_)]), \"difflast{0}\".format(col_)].apply(lambda c: 1 if c > 0 else 0)\n",
        "    df_rcc_test_agg.loc[pd.notnull(df_rcc_test_agg[\"difflast{0}\".format(col_)]), \"decrflag{0}\".format(col_)] = df_rcc_test_agg.loc[pd.notnull(df_rcc_test_agg[\"difflast{0}\".format(col_)]), \"difflast{0}\".format(col_)].apply(lambda c: 1 if c < 0 else 0)\n",
        "    df_rcc_test_agg.loc[pd.notnull(df_rcc_test_agg[\"difflast{0}\".format(col_)]), \"sameflag{0}\".format(col_)] = df_rcc_test_agg.loc[pd.notnull(df_rcc_test_agg[\"difflast{0}\".format(col_)]), \"difflast{0}\".format(col_)].apply(lambda c: 1 if c == 0 else 0)\n",
        "\n",
        "    tf = time.time()\n",
        "    print(\"\\tCalculo de variables en {0:.2f} segundos.\".format(tf-ti))"
      ],
      "execution_count": null,
      "outputs": [
        {
          "output_type": "stream",
          "text": [
            "Numeric Feature: saldo_count\n",
            "\tCalculo de variables en 103.53 segundos.\n",
            "Numeric Feature: saldo_sum\n",
            "\tCalculo de variables en 102.50 segundos.\n",
            "Numeric Feature: saldo_min\n",
            "\tCalculo de variables en 102.55 segundos.\n",
            "Numeric Feature: saldo_max\n",
            "\tCalculo de variables en 103.96 segundos.\n",
            "Numeric Feature: saldo_mean\n",
            "\tCalculo de variables en 106.37 segundos.\n",
            "Numeric Feature: condicion_sum\n",
            "\tCalculo de variables en 109.15 segundos.\n",
            "Numeric Feature: condicion_min\n",
            "\tCalculo de variables en 107.45 segundos.\n",
            "Numeric Feature: condicion_max\n",
            "\tCalculo de variables en 112.78 segundos.\n",
            "Numeric Feature: condicion_mean\n",
            "\tCalculo de variables en 115.14 segundos.\n",
            "Numeric Feature: COD_CLASIFICACION_DEUDOR_sum\n",
            "\tCalculo de variables en 129.62 segundos.\n",
            "Numeric Feature: COD_CLASIFICACION_DEUDOR_max\n"
          ],
          "name": "stdout"
        }
      ]
    },
    {
      "cell_type": "code",
      "metadata": {
        "id": "9p535BI4SrHl"
      },
      "source": [
        "df_rcc_train_agg.head(5)"
      ],
      "execution_count": null,
      "outputs": []
    },
    {
      "cell_type": "code",
      "metadata": {
        "id": "P5mzYfDdv0Ja"
      },
      "source": [
        "c_month = {\"codmes\": [\"count\", \"first\", \"last\"]}\n",
        "c_dict = {c: [\"sum\", \"mean\", \"std\", \"min\", \"max\", \"first\", \"last\"] for c in col_num}\n",
        "c_grow_dict = {c: [\"sum\", \"mean\", \"std\", \"min\", \"max\", \"first\", \"last\"] for c in df_rcc_train_agg.columns if (('incrflag' in c) or ('decrflag' in c))}\n",
        "c_abs_diff_dict = {c: [\"sum\", \"mean\", \"std\", \"min\", \"max\", \"first\", \"last\"] for c in df_rcc_train_agg.columns if 'absdiff' in c}\n",
        "\n",
        "all_dict = {}\n",
        "\n",
        "all_dict.update(c_month)\n",
        "all_dict.update(c_dict)\n",
        "all_dict.update(c_grow_dict)\n",
        "all_dict.update(c_abs_diff_dict)"
      ],
      "execution_count": null,
      "outputs": []
    },
    {
      "cell_type": "code",
      "metadata": {
        "id": "ksrn9itRL3Ja"
      },
      "source": [
        "\tcodmes\tkey_value\n",
        "0\t201703\t271195\n",
        "1\t201704\t274087\n",
        "2\t201705\t277157\n",
        "3\t201706\t279899\n",
        "4\t201707\t284332\n",
        "5\t201708\t287315\n",
        "6\t201709\t289606\n",
        "7\t201710\t293824\n",
        "8\t201711\t296166\n",
        "9\t201712\t294880\n",
        "10\t201801\t294427\n",
        "11\t201802\t358487"
      ],
      "execution_count": null,
      "outputs": []
    },
    {
      "cell_type": "code",
      "metadata": {
        "id": "kFDQMYlaylkA"
      },
      "source": [
        "n_months = 12\n",
        "n_months_dict = {1: {\"train\": [201802], \"test\": [201802]},\n",
        "                 2: {\"train\": [201802, 201801], \"test\": [201902, 201901]},\n",
        "                 4: {\"train\": [201802, 201801, 201712, 201711], \"test\": [201902, 201901, 201812, 201811]},\n",
        "                 6: {\"train\": [201802, 201801, 201712, 201711, 201710, 201709], \"test\": [201902, 201901, 201812, 201811, 201810, 201809]},\n",
        "                 12: {\"train\": [201802, 201801, 201712, 201711, 201710, 201709, 201708, 201707, 201706, 201705, 201704, 201703], \n",
        "                      \"test\": [201902, 201901, 201812, 201811, 201810, 201809, 201808, 201807, 201806, 201805, 201804, 201803]\n",
        "                      }\n",
        "                 }\n",
        "\n",
        "def get_hist_features(n_months):\n",
        "  prefix_ = \"U{0}M_\".format(n_months)\n",
        "\n",
        "  df_rcc_train_agg_all = df_rcc_train_agg.loc[df_rcc_train_agg[\"codmes\"].isin(n_months_dict[n_months][\"train\"])].groupby(\"key_value\", as_index=False).agg(c_dict)\n",
        "  df_rcc_train_agg_all.columns = [prefix_ + \"_\".join(c) if c[-1] != '' else c[0] for c in df_rcc_train_agg_all.columns]\n",
        "\n",
        "  df_rcc_test_agg_all = df_rcc_test_agg.loc[df_rcc_test_agg[\"codmes\"].isin(n_months_dict[n_months][\"test\"])].groupby(\"key_value\", as_index=False).agg(c_dict)\n",
        "  df_rcc_test_agg_all.columns = [prefix_ + \"_\".join(c) if c[-1] != '' else c[0] for c in df_rcc_test_agg_all.columns]\n",
        "\n",
        "  \n",
        "  df_rcc_train_agg_all[prefix_ + \"diff_codmes_first\"] = df_rcc_train_agg_all[prefix_ + \"codmes_first\"].apply(lambda m: diff_months(c, 201802))\n",
        "  df_rcc_train_agg_all[prefix_ + \"diff_codmes_last\"] = df_rcc_train_agg_all[prefix_ + \"codmes_last\"].apply(lambda m: diff_months(c, 201802))\n",
        "  \n",
        "  df_rcc_test_agg_all[prefix_ + \"diff_codmes_first\"] = df_rcc_test_agg_all[prefix_ + \"codmes_first\"].apply(lambda m: diff_months(c, 201902))\n",
        "  df_rcc_test_agg_all[prefix_ + \"diff_codmes_last\"] = df_rcc_test_agg_all[prefix_ + \"codmes_last\"].apply(lambda m: diff_months(c, 201902))\n",
        "\n",
        "  del df_rcc_train_agg_all[prefix_ + \"codmes_first\"]\n",
        "  del df_rcc_train_agg_all[prefix_ + \"codmes_last\"]\n",
        "  del df_rcc_test_agg_all[prefix_ + \"codmes_last\"]\n",
        "  del df_rcc_test_agg_all[prefix_ + \"codmes_last\"]\n",
        "\n",
        "  return df_rcc_train_agg_all, df_rcc_test_agg_all"
      ],
      "execution_count": null,
      "outputs": []
    },
    {
      "cell_type": "code",
      "metadata": {
        "id": "1jY-jrLmNK_n"
      },
      "source": [
        "df_rcc_u1m = get_hist_features()"
      ],
      "execution_count": null,
      "outputs": []
    },
    {
      "cell_type": "code",
      "metadata": {
        "colab": {
          "base_uri": "https://localhost:8080/",
          "height": 247
        },
        "id": "_QYkgCcZylhQ",
        "outputId": "970b9fab-68d6-43f5-86f2-403db969a421"
      },
      "source": [
        "df_rcc_train_agg_all.head()"
      ],
      "execution_count": null,
      "outputs": [
        {
          "output_type": "execute_result",
          "data": {
            "text/html": [
              "<div>\n",
              "<style scoped>\n",
              "    .dataframe tbody tr th:only-of-type {\n",
              "        vertical-align: middle;\n",
              "    }\n",
              "\n",
              "    .dataframe tbody tr th {\n",
              "        vertical-align: top;\n",
              "    }\n",
              "\n",
              "    .dataframe thead th {\n",
              "        text-align: right;\n",
              "    }\n",
              "</style>\n",
              "<table border=\"1\" class=\"dataframe\">\n",
              "  <thead>\n",
              "    <tr style=\"text-align: right;\">\n",
              "      <th></th>\n",
              "      <th>key_value</th>\n",
              "      <th>U12M_saldo_count_sum</th>\n",
              "      <th>U12M_saldo_count_mean</th>\n",
              "      <th>U12M_saldo_count_std</th>\n",
              "      <th>U12M_saldo_count_min</th>\n",
              "      <th>U12M_saldo_count_max</th>\n",
              "      <th>U12M_saldo_count_first</th>\n",
              "      <th>U12M_saldo_count_last</th>\n",
              "      <th>U12M_saldo_sum_sum</th>\n",
              "      <th>U12M_saldo_sum_mean</th>\n",
              "      <th>U12M_saldo_sum_std</th>\n",
              "      <th>U12M_saldo_sum_min</th>\n",
              "      <th>U12M_saldo_sum_max</th>\n",
              "      <th>U12M_saldo_sum_first</th>\n",
              "      <th>U12M_saldo_sum_last</th>\n",
              "      <th>U12M_saldo_min_sum</th>\n",
              "      <th>U12M_saldo_min_mean</th>\n",
              "      <th>U12M_saldo_min_std</th>\n",
              "      <th>U12M_saldo_min_min</th>\n",
              "      <th>U12M_saldo_min_max</th>\n",
              "      <th>U12M_saldo_min_first</th>\n",
              "      <th>U12M_saldo_min_last</th>\n",
              "      <th>U12M_saldo_max_sum</th>\n",
              "      <th>U12M_saldo_max_mean</th>\n",
              "      <th>U12M_saldo_max_std</th>\n",
              "      <th>U12M_saldo_max_min</th>\n",
              "      <th>U12M_saldo_max_max</th>\n",
              "      <th>U12M_saldo_max_first</th>\n",
              "      <th>U12M_saldo_max_last</th>\n",
              "      <th>U12M_saldo_mean_sum</th>\n",
              "      <th>U12M_saldo_mean_mean</th>\n",
              "      <th>U12M_saldo_mean_std</th>\n",
              "      <th>U12M_saldo_mean_min</th>\n",
              "      <th>U12M_saldo_mean_max</th>\n",
              "      <th>U12M_saldo_mean_first</th>\n",
              "      <th>U12M_saldo_mean_last</th>\n",
              "      <th>U12M_condicion_sum_sum</th>\n",
              "      <th>U12M_condicion_sum_mean</th>\n",
              "      <th>U12M_condicion_sum_std</th>\n",
              "      <th>U12M_condicion_sum_min</th>\n",
              "      <th>...</th>\n",
              "      <th>U12M_absdifflastsaldo_max_std</th>\n",
              "      <th>U12M_absdifflastsaldo_max_min</th>\n",
              "      <th>U12M_absdifflastsaldo_max_max</th>\n",
              "      <th>U12M_absdifflastsaldo_max_first</th>\n",
              "      <th>U12M_absdifflastsaldo_max_last</th>\n",
              "      <th>U12M_absdifflastsaldo_mean_sum</th>\n",
              "      <th>U12M_absdifflastsaldo_mean_mean</th>\n",
              "      <th>U12M_absdifflastsaldo_mean_std</th>\n",
              "      <th>U12M_absdifflastsaldo_mean_min</th>\n",
              "      <th>U12M_absdifflastsaldo_mean_max</th>\n",
              "      <th>U12M_absdifflastsaldo_mean_first</th>\n",
              "      <th>U12M_absdifflastsaldo_mean_last</th>\n",
              "      <th>U12M_absdifflastcondicion_sum_sum</th>\n",
              "      <th>U12M_absdifflastcondicion_sum_mean</th>\n",
              "      <th>U12M_absdifflastcondicion_sum_std</th>\n",
              "      <th>U12M_absdifflastcondicion_sum_min</th>\n",
              "      <th>U12M_absdifflastcondicion_sum_max</th>\n",
              "      <th>U12M_absdifflastcondicion_sum_first</th>\n",
              "      <th>U12M_absdifflastcondicion_sum_last</th>\n",
              "      <th>U12M_absdifflastcondicion_min_sum</th>\n",
              "      <th>U12M_absdifflastcondicion_min_mean</th>\n",
              "      <th>U12M_absdifflastcondicion_min_std</th>\n",
              "      <th>U12M_absdifflastcondicion_min_min</th>\n",
              "      <th>U12M_absdifflastcondicion_min_max</th>\n",
              "      <th>U12M_absdifflastcondicion_min_first</th>\n",
              "      <th>U12M_absdifflastcondicion_min_last</th>\n",
              "      <th>U12M_absdifflastcondicion_max_sum</th>\n",
              "      <th>U12M_absdifflastcondicion_max_mean</th>\n",
              "      <th>U12M_absdifflastcondicion_max_std</th>\n",
              "      <th>U12M_absdifflastcondicion_max_min</th>\n",
              "      <th>U12M_absdifflastcondicion_max_max</th>\n",
              "      <th>U12M_absdifflastcondicion_max_first</th>\n",
              "      <th>U12M_absdifflastcondicion_max_last</th>\n",
              "      <th>U12M_absdifflastcondicion_mean_sum</th>\n",
              "      <th>U12M_absdifflastcondicion_mean_mean</th>\n",
              "      <th>U12M_absdifflastcondicion_mean_std</th>\n",
              "      <th>U12M_absdifflastcondicion_mean_min</th>\n",
              "      <th>U12M_absdifflastcondicion_mean_max</th>\n",
              "      <th>U12M_absdifflastcondicion_mean_first</th>\n",
              "      <th>U12M_absdifflastcondicion_mean_last</th>\n",
              "    </tr>\n",
              "  </thead>\n",
              "  <tbody>\n",
              "    <tr>\n",
              "      <th>0</th>\n",
              "      <td>0</td>\n",
              "      <td>53</td>\n",
              "      <td>4.416667</td>\n",
              "      <td>1.164500</td>\n",
              "      <td>3</td>\n",
              "      <td>7</td>\n",
              "      <td>4</td>\n",
              "      <td>7</td>\n",
              "      <td>50.948174</td>\n",
              "      <td>4.245681</td>\n",
              "      <td>1.082779</td>\n",
              "      <td>2.984509</td>\n",
              "      <td>6.829334</td>\n",
              "      <td>3.777921</td>\n",
              "      <td>6.829334</td>\n",
              "      <td>11.232015</td>\n",
              "      <td>0.936001</td>\n",
              "      <td>0.015573</td>\n",
              "      <td>0.927141</td>\n",
              "      <td>0.961819</td>\n",
              "      <td>0.927186</td>\n",
              "      <td>0.927141</td>\n",
              "      <td>12.172789</td>\n",
              "      <td>1.014399</td>\n",
              "      <td>0.055023</td>\n",
              "      <td>0.961819</td>\n",
              "      <td>1.072672</td>\n",
              "      <td>0.961819</td>\n",
              "      <td>1.062438</td>\n",
              "      <td>11.576217</td>\n",
              "      <td>0.964685</td>\n",
              "      <td>0.024947</td>\n",
              "      <td>0.941042</td>\n",
              "      <td>0.998158</td>\n",
              "      <td>0.944480</td>\n",
              "      <td>0.975619</td>\n",
              "      <td>0.0</td>\n",
              "      <td>0.000</td>\n",
              "      <td>0.000000</td>\n",
              "      <td>0</td>\n",
              "      <td>...</td>\n",
              "      <td>0.033085</td>\n",
              "      <td>0.000000</td>\n",
              "      <td>0.110853</td>\n",
              "      <td>0.000000</td>\n",
              "      <td>0.001568</td>\n",
              "      <td>0.113586</td>\n",
              "      <td>0.010326</td>\n",
              "      <td>0.012779</td>\n",
              "      <td>0.000005</td>\n",
              "      <td>0.039933</td>\n",
              "      <td>0.003407</td>\n",
              "      <td>0.019217</td>\n",
              "      <td>0.0</td>\n",
              "      <td>0.000000</td>\n",
              "      <td>0.000000</td>\n",
              "      <td>0.0</td>\n",
              "      <td>0.0</td>\n",
              "      <td>0.0</td>\n",
              "      <td>0.0</td>\n",
              "      <td>0.0</td>\n",
              "      <td>0.0</td>\n",
              "      <td>0.0</td>\n",
              "      <td>0.0</td>\n",
              "      <td>0.0</td>\n",
              "      <td>0.0</td>\n",
              "      <td>0.0</td>\n",
              "      <td>0.0</td>\n",
              "      <td>0.000000</td>\n",
              "      <td>0.000000</td>\n",
              "      <td>0.0</td>\n",
              "      <td>0.0</td>\n",
              "      <td>0.0</td>\n",
              "      <td>0.0</td>\n",
              "      <td>0.000000</td>\n",
              "      <td>0.00000</td>\n",
              "      <td>0.000000</td>\n",
              "      <td>0.0</td>\n",
              "      <td>0.000000</td>\n",
              "      <td>0.0</td>\n",
              "      <td>0.000000</td>\n",
              "    </tr>\n",
              "    <tr>\n",
              "      <th>1</th>\n",
              "      <td>1</td>\n",
              "      <td>8</td>\n",
              "      <td>2.666667</td>\n",
              "      <td>1.154701</td>\n",
              "      <td>2</td>\n",
              "      <td>4</td>\n",
              "      <td>2</td>\n",
              "      <td>4</td>\n",
              "      <td>7.459759</td>\n",
              "      <td>2.486586</td>\n",
              "      <td>1.076292</td>\n",
              "      <td>1.864763</td>\n",
              "      <td>3.729381</td>\n",
              "      <td>1.865614</td>\n",
              "      <td>3.729381</td>\n",
              "      <td>2.781715</td>\n",
              "      <td>0.927238</td>\n",
              "      <td>0.000104</td>\n",
              "      <td>0.927119</td>\n",
              "      <td>0.927309</td>\n",
              "      <td>0.927309</td>\n",
              "      <td>0.927119</td>\n",
              "      <td>2.814154</td>\n",
              "      <td>0.938051</td>\n",
              "      <td>0.000499</td>\n",
              "      <td>0.937476</td>\n",
              "      <td>0.938372</td>\n",
              "      <td>0.938305</td>\n",
              "      <td>0.938372</td>\n",
              "      <td>2.797534</td>\n",
              "      <td>0.932511</td>\n",
              "      <td>0.000257</td>\n",
              "      <td>0.932345</td>\n",
              "      <td>0.932807</td>\n",
              "      <td>0.932807</td>\n",
              "      <td>0.932345</td>\n",
              "      <td>0.0</td>\n",
              "      <td>0.000</td>\n",
              "      <td>0.000000</td>\n",
              "      <td>0</td>\n",
              "      <td>...</td>\n",
              "      <td>0.000048</td>\n",
              "      <td>0.000829</td>\n",
              "      <td>0.000896</td>\n",
              "      <td>0.000829</td>\n",
              "      <td>0.000896</td>\n",
              "      <td>0.000462</td>\n",
              "      <td>0.000231</td>\n",
              "      <td>0.000275</td>\n",
              "      <td>0.000036</td>\n",
              "      <td>0.000426</td>\n",
              "      <td>0.000426</td>\n",
              "      <td>0.000036</td>\n",
              "      <td>0.0</td>\n",
              "      <td>0.000000</td>\n",
              "      <td>0.000000</td>\n",
              "      <td>0.0</td>\n",
              "      <td>0.0</td>\n",
              "      <td>0.0</td>\n",
              "      <td>0.0</td>\n",
              "      <td>0.0</td>\n",
              "      <td>0.0</td>\n",
              "      <td>0.0</td>\n",
              "      <td>0.0</td>\n",
              "      <td>0.0</td>\n",
              "      <td>0.0</td>\n",
              "      <td>0.0</td>\n",
              "      <td>0.0</td>\n",
              "      <td>0.000000</td>\n",
              "      <td>0.000000</td>\n",
              "      <td>0.0</td>\n",
              "      <td>0.0</td>\n",
              "      <td>0.0</td>\n",
              "      <td>0.0</td>\n",
              "      <td>0.000000</td>\n",
              "      <td>0.00000</td>\n",
              "      <td>0.000000</td>\n",
              "      <td>0.0</td>\n",
              "      <td>0.000000</td>\n",
              "      <td>0.0</td>\n",
              "      <td>0.000000</td>\n",
              "    </tr>\n",
              "    <tr>\n",
              "      <th>2</th>\n",
              "      <td>2</td>\n",
              "      <td>6</td>\n",
              "      <td>3.000000</td>\n",
              "      <td>0.000000</td>\n",
              "      <td>3</td>\n",
              "      <td>3</td>\n",
              "      <td>3</td>\n",
              "      <td>3</td>\n",
              "      <td>5.636907</td>\n",
              "      <td>2.818454</td>\n",
              "      <td>0.044070</td>\n",
              "      <td>2.787292</td>\n",
              "      <td>2.849616</td>\n",
              "      <td>2.787292</td>\n",
              "      <td>2.849616</td>\n",
              "      <td>1.854238</td>\n",
              "      <td>0.927119</td>\n",
              "      <td>0.000000</td>\n",
              "      <td>0.927119</td>\n",
              "      <td>0.927119</td>\n",
              "      <td>0.927119</td>\n",
              "      <td>0.927119</td>\n",
              "      <td>1.928230</td>\n",
              "      <td>0.964115</td>\n",
              "      <td>0.044038</td>\n",
              "      <td>0.932975</td>\n",
              "      <td>0.995254</td>\n",
              "      <td>0.932975</td>\n",
              "      <td>0.995254</td>\n",
              "      <td>1.878969</td>\n",
              "      <td>0.939484</td>\n",
              "      <td>0.014690</td>\n",
              "      <td>0.929097</td>\n",
              "      <td>0.949872</td>\n",
              "      <td>0.929097</td>\n",
              "      <td>0.949872</td>\n",
              "      <td>0.0</td>\n",
              "      <td>0.000</td>\n",
              "      <td>0.000000</td>\n",
              "      <td>0</td>\n",
              "      <td>...</td>\n",
              "      <td>NaN</td>\n",
              "      <td>0.062279</td>\n",
              "      <td>0.062279</td>\n",
              "      <td>0.062279</td>\n",
              "      <td>0.062279</td>\n",
              "      <td>0.020775</td>\n",
              "      <td>0.020775</td>\n",
              "      <td>NaN</td>\n",
              "      <td>0.020775</td>\n",
              "      <td>0.020775</td>\n",
              "      <td>0.020775</td>\n",
              "      <td>0.020775</td>\n",
              "      <td>0.0</td>\n",
              "      <td>0.000000</td>\n",
              "      <td>NaN</td>\n",
              "      <td>0.0</td>\n",
              "      <td>0.0</td>\n",
              "      <td>0.0</td>\n",
              "      <td>0.0</td>\n",
              "      <td>0.0</td>\n",
              "      <td>0.0</td>\n",
              "      <td>NaN</td>\n",
              "      <td>0.0</td>\n",
              "      <td>0.0</td>\n",
              "      <td>0.0</td>\n",
              "      <td>0.0</td>\n",
              "      <td>0.0</td>\n",
              "      <td>0.000000</td>\n",
              "      <td>NaN</td>\n",
              "      <td>0.0</td>\n",
              "      <td>0.0</td>\n",
              "      <td>0.0</td>\n",
              "      <td>0.0</td>\n",
              "      <td>0.000000</td>\n",
              "      <td>0.00000</td>\n",
              "      <td>NaN</td>\n",
              "      <td>0.0</td>\n",
              "      <td>0.000000</td>\n",
              "      <td>0.0</td>\n",
              "      <td>0.000000</td>\n",
              "    </tr>\n",
              "    <tr>\n",
              "      <th>3</th>\n",
              "      <td>3</td>\n",
              "      <td>7</td>\n",
              "      <td>3.500000</td>\n",
              "      <td>0.707107</td>\n",
              "      <td>3</td>\n",
              "      <td>4</td>\n",
              "      <td>4</td>\n",
              "      <td>3</td>\n",
              "      <td>7.193806</td>\n",
              "      <td>3.596903</td>\n",
              "      <td>0.678201</td>\n",
              "      <td>3.117342</td>\n",
              "      <td>4.076464</td>\n",
              "      <td>4.076464</td>\n",
              "      <td>3.117342</td>\n",
              "      <td>1.856030</td>\n",
              "      <td>0.928015</td>\n",
              "      <td>0.001140</td>\n",
              "      <td>0.927209</td>\n",
              "      <td>0.928821</td>\n",
              "      <td>0.928821</td>\n",
              "      <td>0.927209</td>\n",
              "      <td>2.209337</td>\n",
              "      <td>1.104669</td>\n",
              "      <td>0.013579</td>\n",
              "      <td>1.095067</td>\n",
              "      <td>1.114270</td>\n",
              "      <td>1.114270</td>\n",
              "      <td>1.095067</td>\n",
              "      <td>2.058230</td>\n",
              "      <td>1.029115</td>\n",
              "      <td>0.014141</td>\n",
              "      <td>1.019116</td>\n",
              "      <td>1.039114</td>\n",
              "      <td>1.019116</td>\n",
              "      <td>1.039114</td>\n",
              "      <td>0.0</td>\n",
              "      <td>0.000</td>\n",
              "      <td>0.000000</td>\n",
              "      <td>0</td>\n",
              "      <td>...</td>\n",
              "      <td>NaN</td>\n",
              "      <td>0.019203</td>\n",
              "      <td>0.019203</td>\n",
              "      <td>0.019203</td>\n",
              "      <td>0.019203</td>\n",
              "      <td>0.019998</td>\n",
              "      <td>0.019998</td>\n",
              "      <td>NaN</td>\n",
              "      <td>0.019998</td>\n",
              "      <td>0.019998</td>\n",
              "      <td>0.019998</td>\n",
              "      <td>0.019998</td>\n",
              "      <td>0.0</td>\n",
              "      <td>0.000000</td>\n",
              "      <td>NaN</td>\n",
              "      <td>0.0</td>\n",
              "      <td>0.0</td>\n",
              "      <td>0.0</td>\n",
              "      <td>0.0</td>\n",
              "      <td>0.0</td>\n",
              "      <td>0.0</td>\n",
              "      <td>NaN</td>\n",
              "      <td>0.0</td>\n",
              "      <td>0.0</td>\n",
              "      <td>0.0</td>\n",
              "      <td>0.0</td>\n",
              "      <td>0.0</td>\n",
              "      <td>0.000000</td>\n",
              "      <td>NaN</td>\n",
              "      <td>0.0</td>\n",
              "      <td>0.0</td>\n",
              "      <td>0.0</td>\n",
              "      <td>0.0</td>\n",
              "      <td>0.000000</td>\n",
              "      <td>0.00000</td>\n",
              "      <td>NaN</td>\n",
              "      <td>0.0</td>\n",
              "      <td>0.000000</td>\n",
              "      <td>0.0</td>\n",
              "      <td>0.000000</td>\n",
              "    </tr>\n",
              "    <tr>\n",
              "      <th>4</th>\n",
              "      <td>4</td>\n",
              "      <td>58</td>\n",
              "      <td>7.250000</td>\n",
              "      <td>3.918819</td>\n",
              "      <td>3</td>\n",
              "      <td>12</td>\n",
              "      <td>3</td>\n",
              "      <td>12</td>\n",
              "      <td>54.380440</td>\n",
              "      <td>6.797555</td>\n",
              "      <td>3.661081</td>\n",
              "      <td>2.823033</td>\n",
              "      <td>11.229775</td>\n",
              "      <td>2.826796</td>\n",
              "      <td>11.229775</td>\n",
              "      <td>7.430041</td>\n",
              "      <td>0.928755</td>\n",
              "      <td>0.001938</td>\n",
              "      <td>0.927220</td>\n",
              "      <td>0.931094</td>\n",
              "      <td>0.931094</td>\n",
              "      <td>0.927365</td>\n",
              "      <td>7.622668</td>\n",
              "      <td>0.952834</td>\n",
              "      <td>0.004231</td>\n",
              "      <td>0.947946</td>\n",
              "      <td>0.957766</td>\n",
              "      <td>0.947946</td>\n",
              "      <td>0.953645</td>\n",
              "      <td>7.510547</td>\n",
              "      <td>0.938818</td>\n",
              "      <td>0.002615</td>\n",
              "      <td>0.935815</td>\n",
              "      <td>0.942265</td>\n",
              "      <td>0.942265</td>\n",
              "      <td>0.935815</td>\n",
              "      <td>157.0</td>\n",
              "      <td>19.625</td>\n",
              "      <td>31.622494</td>\n",
              "      <td>0</td>\n",
              "      <td>...</td>\n",
              "      <td>0.003486</td>\n",
              "      <td>0.000000</td>\n",
              "      <td>0.009820</td>\n",
              "      <td>0.000000</td>\n",
              "      <td>0.001120</td>\n",
              "      <td>0.006451</td>\n",
              "      <td>0.000922</td>\n",
              "      <td>0.000724</td>\n",
              "      <td>0.000325</td>\n",
              "      <td>0.002358</td>\n",
              "      <td>0.000627</td>\n",
              "      <td>0.000325</td>\n",
              "      <td>82.0</td>\n",
              "      <td>11.714286</td>\n",
              "      <td>15.019036</td>\n",
              "      <td>0.0</td>\n",
              "      <td>33.0</td>\n",
              "      <td>0.0</td>\n",
              "      <td>28.0</td>\n",
              "      <td>0.0</td>\n",
              "      <td>0.0</td>\n",
              "      <td>0.0</td>\n",
              "      <td>0.0</td>\n",
              "      <td>0.0</td>\n",
              "      <td>0.0</td>\n",
              "      <td>0.0</td>\n",
              "      <td>80.0</td>\n",
              "      <td>11.428571</td>\n",
              "      <td>14.558584</td>\n",
              "      <td>0.0</td>\n",
              "      <td>31.0</td>\n",
              "      <td>0.0</td>\n",
              "      <td>28.0</td>\n",
              "      <td>6.833333</td>\n",
              "      <td>0.97619</td>\n",
              "      <td>1.247201</td>\n",
              "      <td>0.0</td>\n",
              "      <td>2.809091</td>\n",
              "      <td>0.0</td>\n",
              "      <td>1.924242</td>\n",
              "    </tr>\n",
              "  </tbody>\n",
              "</table>\n",
              "<p>5 rows × 256 columns</p>\n",
              "</div>"
            ],
            "text/plain": [
              "   key_value  ...  U12M_absdifflastcondicion_mean_last\n",
              "0          0  ...                             0.000000\n",
              "1          1  ...                             0.000000\n",
              "2          2  ...                             0.000000\n",
              "3          3  ...                             0.000000\n",
              "4          4  ...                             1.924242\n",
              "\n",
              "[5 rows x 256 columns]"
            ]
          },
          "metadata": {
            "tags": []
          },
          "execution_count": 33
        }
      ]
    },
    {
      "cell_type": "code",
      "metadata": {
        "colab": {
          "base_uri": "https://localhost:8080/"
        },
        "id": "hJiqJ40K5VMu",
        "outputId": "95f84337-c5d2-415b-ea74-24c6dca5d237"
      },
      "source": [
        "df_rcc_train_agg_all[\"U12M_codmes_last\"]"
      ],
      "execution_count": null,
      "outputs": [
        {
          "output_type": "execute_result",
          "data": {
            "text/plain": [
              "0         201802\n",
              "1         201802\n",
              "2         201802\n",
              "3         201802\n",
              "4         201802\n",
              "           ...  \n",
              "358482    201802\n",
              "358483    201802\n",
              "358484    201802\n",
              "358485    201802\n",
              "358486    201802\n",
              "Name: U12M_codmes_last, Length: 358487, dtype: uint64"
            ]
          },
          "metadata": {
            "tags": []
          },
          "execution_count": 38
        }
      ]
    },
    {
      "cell_type": "code",
      "metadata": {
        "colab": {
          "base_uri": "https://localhost:8080/",
          "height": 247
        },
        "id": "Xub5lh_hv0F-",
        "outputId": "e50cfbf1-aec9-436e-eab1-689fbcdb4f02"
      },
      "source": [
        "df_rcc_test_agg_all.head()"
      ],
      "execution_count": null,
      "outputs": [
        {
          "output_type": "execute_result",
          "data": {
            "text/html": [
              "<div>\n",
              "<style scoped>\n",
              "    .dataframe tbody tr th:only-of-type {\n",
              "        vertical-align: middle;\n",
              "    }\n",
              "\n",
              "    .dataframe tbody tr th {\n",
              "        vertical-align: top;\n",
              "    }\n",
              "\n",
              "    .dataframe thead th {\n",
              "        text-align: right;\n",
              "    }\n",
              "</style>\n",
              "<table border=\"1\" class=\"dataframe\">\n",
              "  <thead>\n",
              "    <tr style=\"text-align: right;\">\n",
              "      <th></th>\n",
              "      <th>key_value</th>\n",
              "      <th>U12M_saldo_count_sum</th>\n",
              "      <th>U12M_saldo_count_mean</th>\n",
              "      <th>U12M_saldo_count_std</th>\n",
              "      <th>U12M_saldo_count_min</th>\n",
              "      <th>U12M_saldo_count_max</th>\n",
              "      <th>U12M_saldo_count_first</th>\n",
              "      <th>U12M_saldo_count_last</th>\n",
              "      <th>U12M_saldo_sum_sum</th>\n",
              "      <th>U12M_saldo_sum_mean</th>\n",
              "      <th>U12M_saldo_sum_std</th>\n",
              "      <th>U12M_saldo_sum_min</th>\n",
              "      <th>U12M_saldo_sum_max</th>\n",
              "      <th>U12M_saldo_sum_first</th>\n",
              "      <th>U12M_saldo_sum_last</th>\n",
              "      <th>U12M_saldo_min_sum</th>\n",
              "      <th>U12M_saldo_min_mean</th>\n",
              "      <th>U12M_saldo_min_std</th>\n",
              "      <th>U12M_saldo_min_min</th>\n",
              "      <th>U12M_saldo_min_max</th>\n",
              "      <th>U12M_saldo_min_first</th>\n",
              "      <th>U12M_saldo_min_last</th>\n",
              "      <th>U12M_saldo_max_sum</th>\n",
              "      <th>U12M_saldo_max_mean</th>\n",
              "      <th>U12M_saldo_max_std</th>\n",
              "      <th>U12M_saldo_max_min</th>\n",
              "      <th>U12M_saldo_max_max</th>\n",
              "      <th>U12M_saldo_max_first</th>\n",
              "      <th>U12M_saldo_max_last</th>\n",
              "      <th>U12M_saldo_mean_sum</th>\n",
              "      <th>U12M_saldo_mean_mean</th>\n",
              "      <th>U12M_saldo_mean_std</th>\n",
              "      <th>U12M_saldo_mean_min</th>\n",
              "      <th>U12M_saldo_mean_max</th>\n",
              "      <th>U12M_saldo_mean_first</th>\n",
              "      <th>U12M_saldo_mean_last</th>\n",
              "      <th>U12M_condicion_sum_sum</th>\n",
              "      <th>U12M_condicion_sum_mean</th>\n",
              "      <th>U12M_condicion_sum_std</th>\n",
              "      <th>U12M_condicion_sum_min</th>\n",
              "      <th>...</th>\n",
              "      <th>U12M_absdifflastsaldo_max_std</th>\n",
              "      <th>U12M_absdifflastsaldo_max_min</th>\n",
              "      <th>U12M_absdifflastsaldo_max_max</th>\n",
              "      <th>U12M_absdifflastsaldo_max_first</th>\n",
              "      <th>U12M_absdifflastsaldo_max_last</th>\n",
              "      <th>U12M_absdifflastsaldo_mean_sum</th>\n",
              "      <th>U12M_absdifflastsaldo_mean_mean</th>\n",
              "      <th>U12M_absdifflastsaldo_mean_std</th>\n",
              "      <th>U12M_absdifflastsaldo_mean_min</th>\n",
              "      <th>U12M_absdifflastsaldo_mean_max</th>\n",
              "      <th>U12M_absdifflastsaldo_mean_first</th>\n",
              "      <th>U12M_absdifflastsaldo_mean_last</th>\n",
              "      <th>U12M_absdifflastcondicion_sum_sum</th>\n",
              "      <th>U12M_absdifflastcondicion_sum_mean</th>\n",
              "      <th>U12M_absdifflastcondicion_sum_std</th>\n",
              "      <th>U12M_absdifflastcondicion_sum_min</th>\n",
              "      <th>U12M_absdifflastcondicion_sum_max</th>\n",
              "      <th>U12M_absdifflastcondicion_sum_first</th>\n",
              "      <th>U12M_absdifflastcondicion_sum_last</th>\n",
              "      <th>U12M_absdifflastcondicion_min_sum</th>\n",
              "      <th>U12M_absdifflastcondicion_min_mean</th>\n",
              "      <th>U12M_absdifflastcondicion_min_std</th>\n",
              "      <th>U12M_absdifflastcondicion_min_min</th>\n",
              "      <th>U12M_absdifflastcondicion_min_max</th>\n",
              "      <th>U12M_absdifflastcondicion_min_first</th>\n",
              "      <th>U12M_absdifflastcondicion_min_last</th>\n",
              "      <th>U12M_absdifflastcondicion_max_sum</th>\n",
              "      <th>U12M_absdifflastcondicion_max_mean</th>\n",
              "      <th>U12M_absdifflastcondicion_max_std</th>\n",
              "      <th>U12M_absdifflastcondicion_max_min</th>\n",
              "      <th>U12M_absdifflastcondicion_max_max</th>\n",
              "      <th>U12M_absdifflastcondicion_max_first</th>\n",
              "      <th>U12M_absdifflastcondicion_max_last</th>\n",
              "      <th>U12M_absdifflastcondicion_mean_sum</th>\n",
              "      <th>U12M_absdifflastcondicion_mean_mean</th>\n",
              "      <th>U12M_absdifflastcondicion_mean_std</th>\n",
              "      <th>U12M_absdifflastcondicion_mean_min</th>\n",
              "      <th>U12M_absdifflastcondicion_mean_max</th>\n",
              "      <th>U12M_absdifflastcondicion_mean_first</th>\n",
              "      <th>U12M_absdifflastcondicion_mean_last</th>\n",
              "    </tr>\n",
              "  </thead>\n",
              "  <tbody>\n",
              "    <tr>\n",
              "      <th>0</th>\n",
              "      <td>0</td>\n",
              "      <td>208</td>\n",
              "      <td>17.333333</td>\n",
              "      <td>3.420083</td>\n",
              "      <td>11</td>\n",
              "      <td>22</td>\n",
              "      <td>11</td>\n",
              "      <td>15</td>\n",
              "      <td>201.109909</td>\n",
              "      <td>16.759159</td>\n",
              "      <td>3.238173</td>\n",
              "      <td>10.688168</td>\n",
              "      <td>21.142704</td>\n",
              "      <td>10.688168</td>\n",
              "      <td>14.645761</td>\n",
              "      <td>11.127208</td>\n",
              "      <td>0.927267</td>\n",
              "      <td>0.000259</td>\n",
              "      <td>0.927119</td>\n",
              "      <td>0.927959</td>\n",
              "      <td>0.927959</td>\n",
              "      <td>0.927119</td>\n",
              "      <td>12.737703</td>\n",
              "      <td>1.061475</td>\n",
              "      <td>0.000000</td>\n",
              "      <td>1.061475</td>\n",
              "      <td>1.061475</td>\n",
              "      <td>1.061475</td>\n",
              "      <td>1.061475</td>\n",
              "      <td>11.611557</td>\n",
              "      <td>0.967630</td>\n",
              "      <td>0.005013</td>\n",
              "      <td>0.961032</td>\n",
              "      <td>0.976384</td>\n",
              "      <td>0.971652</td>\n",
              "      <td>0.976384</td>\n",
              "      <td>0.0</td>\n",
              "      <td>0.000000</td>\n",
              "      <td>0.000000</td>\n",
              "      <td>0.0</td>\n",
              "      <td>...</td>\n",
              "      <td>0.000000</td>\n",
              "      <td>0.000000</td>\n",
              "      <td>0.000000</td>\n",
              "      <td>0.000000</td>\n",
              "      <td>0.000000</td>\n",
              "      <td>0.050091</td>\n",
              "      <td>0.004554</td>\n",
              "      <td>0.003691</td>\n",
              "      <td>0.000022</td>\n",
              "      <td>0.012165</td>\n",
              "      <td>0.001888</td>\n",
              "      <td>0.012165</td>\n",
              "      <td>0.0</td>\n",
              "      <td>0.000000</td>\n",
              "      <td>0.000000</td>\n",
              "      <td>0.0</td>\n",
              "      <td>0.0</td>\n",
              "      <td>0.0</td>\n",
              "      <td>0.0</td>\n",
              "      <td>0.0</td>\n",
              "      <td>0.0</td>\n",
              "      <td>0.0</td>\n",
              "      <td>0.0</td>\n",
              "      <td>0.0</td>\n",
              "      <td>0.0</td>\n",
              "      <td>0.0</td>\n",
              "      <td>0.0</td>\n",
              "      <td>0.000000</td>\n",
              "      <td>0.000000</td>\n",
              "      <td>0.0</td>\n",
              "      <td>0.0</td>\n",
              "      <td>0.0</td>\n",
              "      <td>0.0</td>\n",
              "      <td>0.000000</td>\n",
              "      <td>0.000000</td>\n",
              "      <td>0.000000</td>\n",
              "      <td>0.0</td>\n",
              "      <td>0.000000</td>\n",
              "      <td>0.0</td>\n",
              "      <td>0.000000</td>\n",
              "    </tr>\n",
              "    <tr>\n",
              "      <th>1</th>\n",
              "      <td>1</td>\n",
              "      <td>59</td>\n",
              "      <td>4.916667</td>\n",
              "      <td>1.240112</td>\n",
              "      <td>4</td>\n",
              "      <td>7</td>\n",
              "      <td>4</td>\n",
              "      <td>6</td>\n",
              "      <td>55.991013</td>\n",
              "      <td>4.665917</td>\n",
              "      <td>1.208720</td>\n",
              "      <td>3.772200</td>\n",
              "      <td>6.703029</td>\n",
              "      <td>3.775212</td>\n",
              "      <td>5.835804</td>\n",
              "      <td>11.130399</td>\n",
              "      <td>0.927533</td>\n",
              "      <td>0.000287</td>\n",
              "      <td>0.927186</td>\n",
              "      <td>0.927836</td>\n",
              "      <td>0.927836</td>\n",
              "      <td>0.927488</td>\n",
              "      <td>11.900627</td>\n",
              "      <td>0.991719</td>\n",
              "      <td>0.055229</td>\n",
              "      <td>0.962805</td>\n",
              "      <td>1.130898</td>\n",
              "      <td>0.962805</td>\n",
              "      <td>1.130898</td>\n",
              "      <td>11.372097</td>\n",
              "      <td>0.947675</td>\n",
              "      <td>0.009133</td>\n",
              "      <td>0.940894</td>\n",
              "      <td>0.972634</td>\n",
              "      <td>0.943803</td>\n",
              "      <td>0.972634</td>\n",
              "      <td>72.0</td>\n",
              "      <td>6.000000</td>\n",
              "      <td>20.784610</td>\n",
              "      <td>0.0</td>\n",
              "      <td>...</td>\n",
              "      <td>0.054286</td>\n",
              "      <td>0.000000</td>\n",
              "      <td>0.160099</td>\n",
              "      <td>0.000000</td>\n",
              "      <td>0.160099</td>\n",
              "      <td>0.063059</td>\n",
              "      <td>0.005733</td>\n",
              "      <td>0.008886</td>\n",
              "      <td>0.000000</td>\n",
              "      <td>0.028768</td>\n",
              "      <td>0.000000</td>\n",
              "      <td>0.028768</td>\n",
              "      <td>144.0</td>\n",
              "      <td>13.090909</td>\n",
              "      <td>29.125434</td>\n",
              "      <td>0.0</td>\n",
              "      <td>72.0</td>\n",
              "      <td>0.0</td>\n",
              "      <td>0.0</td>\n",
              "      <td>0.0</td>\n",
              "      <td>0.0</td>\n",
              "      <td>0.0</td>\n",
              "      <td>0.0</td>\n",
              "      <td>0.0</td>\n",
              "      <td>0.0</td>\n",
              "      <td>0.0</td>\n",
              "      <td>48.0</td>\n",
              "      <td>4.363636</td>\n",
              "      <td>9.708478</td>\n",
              "      <td>0.0</td>\n",
              "      <td>24.0</td>\n",
              "      <td>0.0</td>\n",
              "      <td>0.0</td>\n",
              "      <td>28.800000</td>\n",
              "      <td>2.618182</td>\n",
              "      <td>5.825087</td>\n",
              "      <td>0.0</td>\n",
              "      <td>14.400000</td>\n",
              "      <td>0.0</td>\n",
              "      <td>0.000000</td>\n",
              "    </tr>\n",
              "    <tr>\n",
              "      <th>2</th>\n",
              "      <td>2</td>\n",
              "      <td>90</td>\n",
              "      <td>7.500000</td>\n",
              "      <td>1.445998</td>\n",
              "      <td>6</td>\n",
              "      <td>9</td>\n",
              "      <td>6</td>\n",
              "      <td>8</td>\n",
              "      <td>84.988724</td>\n",
              "      <td>7.082393</td>\n",
              "      <td>1.333476</td>\n",
              "      <td>5.714930</td>\n",
              "      <td>8.528098</td>\n",
              "      <td>5.715031</td>\n",
              "      <td>7.484953</td>\n",
              "      <td>11.127477</td>\n",
              "      <td>0.927290</td>\n",
              "      <td>0.000193</td>\n",
              "      <td>0.927108</td>\n",
              "      <td>0.927701</td>\n",
              "      <td>0.927220</td>\n",
              "      <td>0.927108</td>\n",
              "      <td>11.729946</td>\n",
              "      <td>0.977496</td>\n",
              "      <td>0.024818</td>\n",
              "      <td>0.942784</td>\n",
              "      <td>0.994291</td>\n",
              "      <td>0.994291</td>\n",
              "      <td>0.945023</td>\n",
              "      <td>11.342265</td>\n",
              "      <td>0.945189</td>\n",
              "      <td>0.008341</td>\n",
              "      <td>0.932663</td>\n",
              "      <td>0.952522</td>\n",
              "      <td>0.952505</td>\n",
              "      <td>0.935619</td>\n",
              "      <td>0.0</td>\n",
              "      <td>0.000000</td>\n",
              "      <td>0.000000</td>\n",
              "      <td>0.0</td>\n",
              "      <td>...</td>\n",
              "      <td>0.015477</td>\n",
              "      <td>0.000000</td>\n",
              "      <td>0.051508</td>\n",
              "      <td>0.000000</td>\n",
              "      <td>0.000000</td>\n",
              "      <td>0.022917</td>\n",
              "      <td>0.002083</td>\n",
              "      <td>0.004017</td>\n",
              "      <td>0.000007</td>\n",
              "      <td>0.013313</td>\n",
              "      <td>0.000007</td>\n",
              "      <td>0.001025</td>\n",
              "      <td>0.0</td>\n",
              "      <td>0.000000</td>\n",
              "      <td>0.000000</td>\n",
              "      <td>0.0</td>\n",
              "      <td>0.0</td>\n",
              "      <td>0.0</td>\n",
              "      <td>0.0</td>\n",
              "      <td>0.0</td>\n",
              "      <td>0.0</td>\n",
              "      <td>0.0</td>\n",
              "      <td>0.0</td>\n",
              "      <td>0.0</td>\n",
              "      <td>0.0</td>\n",
              "      <td>0.0</td>\n",
              "      <td>0.0</td>\n",
              "      <td>0.000000</td>\n",
              "      <td>0.000000</td>\n",
              "      <td>0.0</td>\n",
              "      <td>0.0</td>\n",
              "      <td>0.0</td>\n",
              "      <td>0.0</td>\n",
              "      <td>0.000000</td>\n",
              "      <td>0.000000</td>\n",
              "      <td>0.000000</td>\n",
              "      <td>0.0</td>\n",
              "      <td>0.000000</td>\n",
              "      <td>0.0</td>\n",
              "      <td>0.000000</td>\n",
              "    </tr>\n",
              "    <tr>\n",
              "      <th>3</th>\n",
              "      <td>3</td>\n",
              "      <td>180</td>\n",
              "      <td>15.000000</td>\n",
              "      <td>1.758098</td>\n",
              "      <td>12</td>\n",
              "      <td>17</td>\n",
              "      <td>17</td>\n",
              "      <td>13</td>\n",
              "      <td>170.475616</td>\n",
              "      <td>14.206302</td>\n",
              "      <td>1.637311</td>\n",
              "      <td>11.417912</td>\n",
              "      <td>16.079910</td>\n",
              "      <td>16.079910</td>\n",
              "      <td>12.360068</td>\n",
              "      <td>11.125998</td>\n",
              "      <td>0.927167</td>\n",
              "      <td>0.000102</td>\n",
              "      <td>0.927108</td>\n",
              "      <td>0.927488</td>\n",
              "      <td>0.927153</td>\n",
              "      <td>0.927488</td>\n",
              "      <td>12.052428</td>\n",
              "      <td>1.004369</td>\n",
              "      <td>0.007017</td>\n",
              "      <td>0.997651</td>\n",
              "      <td>1.011087</td>\n",
              "      <td>0.997651</td>\n",
              "      <td>1.011087</td>\n",
              "      <td>11.367590</td>\n",
              "      <td>0.947299</td>\n",
              "      <td>0.002160</td>\n",
              "      <td>0.944915</td>\n",
              "      <td>0.951493</td>\n",
              "      <td>0.945877</td>\n",
              "      <td>0.950774</td>\n",
              "      <td>243.0</td>\n",
              "      <td>20.250000</td>\n",
              "      <td>54.077596</td>\n",
              "      <td>0.0</td>\n",
              "      <td>...</td>\n",
              "      <td>0.004051</td>\n",
              "      <td>0.000000</td>\n",
              "      <td>0.013437</td>\n",
              "      <td>0.000000</td>\n",
              "      <td>0.000000</td>\n",
              "      <td>0.019063</td>\n",
              "      <td>0.001733</td>\n",
              "      <td>0.001345</td>\n",
              "      <td>0.000308</td>\n",
              "      <td>0.003646</td>\n",
              "      <td>0.000308</td>\n",
              "      <td>0.003646</td>\n",
              "      <td>366.0</td>\n",
              "      <td>33.272727</td>\n",
              "      <td>63.277312</td>\n",
              "      <td>0.0</td>\n",
              "      <td>183.0</td>\n",
              "      <td>0.0</td>\n",
              "      <td>183.0</td>\n",
              "      <td>0.0</td>\n",
              "      <td>0.0</td>\n",
              "      <td>0.0</td>\n",
              "      <td>0.0</td>\n",
              "      <td>0.0</td>\n",
              "      <td>0.0</td>\n",
              "      <td>0.0</td>\n",
              "      <td>122.0</td>\n",
              "      <td>11.090909</td>\n",
              "      <td>20.564312</td>\n",
              "      <td>0.0</td>\n",
              "      <td>61.0</td>\n",
              "      <td>0.0</td>\n",
              "      <td>61.0</td>\n",
              "      <td>26.142857</td>\n",
              "      <td>2.376623</td>\n",
              "      <td>4.549960</td>\n",
              "      <td>0.0</td>\n",
              "      <td>13.071429</td>\n",
              "      <td>0.0</td>\n",
              "      <td>13.071429</td>\n",
              "    </tr>\n",
              "    <tr>\n",
              "      <th>4</th>\n",
              "      <td>4</td>\n",
              "      <td>30</td>\n",
              "      <td>4.285714</td>\n",
              "      <td>1.380131</td>\n",
              "      <td>2</td>\n",
              "      <td>6</td>\n",
              "      <td>2</td>\n",
              "      <td>6</td>\n",
              "      <td>27.926773</td>\n",
              "      <td>3.989539</td>\n",
              "      <td>1.288093</td>\n",
              "      <td>1.854238</td>\n",
              "      <td>5.594201</td>\n",
              "      <td>1.854238</td>\n",
              "      <td>5.594201</td>\n",
              "      <td>6.490348</td>\n",
              "      <td>0.927193</td>\n",
              "      <td>0.000060</td>\n",
              "      <td>0.927119</td>\n",
              "      <td>0.927276</td>\n",
              "      <td>0.927119</td>\n",
              "      <td>0.927276</td>\n",
              "      <td>6.571170</td>\n",
              "      <td>0.938739</td>\n",
              "      <td>0.005974</td>\n",
              "      <td>0.927119</td>\n",
              "      <td>0.944508</td>\n",
              "      <td>0.927119</td>\n",
              "      <td>0.944508</td>\n",
              "      <td>6.513840</td>\n",
              "      <td>0.930548</td>\n",
              "      <td>0.001736</td>\n",
              "      <td>0.927119</td>\n",
              "      <td>0.932367</td>\n",
              "      <td>0.927119</td>\n",
              "      <td>0.932367</td>\n",
              "      <td>22.0</td>\n",
              "      <td>3.142857</td>\n",
              "      <td>5.398412</td>\n",
              "      <td>0.0</td>\n",
              "      <td>...</td>\n",
              "      <td>0.005723</td>\n",
              "      <td>0.001848</td>\n",
              "      <td>0.016841</td>\n",
              "      <td>0.016841</td>\n",
              "      <td>0.006203</td>\n",
              "      <td>0.009374</td>\n",
              "      <td>0.001562</td>\n",
              "      <td>0.001652</td>\n",
              "      <td>0.000395</td>\n",
              "      <td>0.004745</td>\n",
              "      <td>0.004745</td>\n",
              "      <td>0.001907</td>\n",
              "      <td>44.0</td>\n",
              "      <td>7.333333</td>\n",
              "      <td>5.750362</td>\n",
              "      <td>0.0</td>\n",
              "      <td>12.0</td>\n",
              "      <td>0.0</td>\n",
              "      <td>10.0</td>\n",
              "      <td>0.0</td>\n",
              "      <td>0.0</td>\n",
              "      <td>0.0</td>\n",
              "      <td>0.0</td>\n",
              "      <td>0.0</td>\n",
              "      <td>0.0</td>\n",
              "      <td>0.0</td>\n",
              "      <td>22.0</td>\n",
              "      <td>3.666667</td>\n",
              "      <td>2.875181</td>\n",
              "      <td>0.0</td>\n",
              "      <td>6.0</td>\n",
              "      <td>0.0</td>\n",
              "      <td>5.0</td>\n",
              "      <td>9.333333</td>\n",
              "      <td>1.555556</td>\n",
              "      <td>1.344399</td>\n",
              "      <td>0.0</td>\n",
              "      <td>3.000000</td>\n",
              "      <td>0.0</td>\n",
              "      <td>1.666667</td>\n",
              "    </tr>\n",
              "  </tbody>\n",
              "</table>\n",
              "<p>5 rows × 256 columns</p>\n",
              "</div>"
            ],
            "text/plain": [
              "   key_value  ...  U12M_absdifflastcondicion_mean_last\n",
              "0          0  ...                             0.000000\n",
              "1          1  ...                             0.000000\n",
              "2          2  ...                             0.000000\n",
              "3          3  ...                            13.071429\n",
              "4          4  ...                             1.666667\n",
              "\n",
              "[5 rows x 256 columns]"
            ]
          },
          "metadata": {
            "tags": []
          },
          "execution_count": 36
        }
      ]
    },
    {
      "cell_type": "code",
      "metadata": {
        "id": "Sxg8PhHJ29LD"
      },
      "source": [
        "df_rcc_train_agg_all.to_csv(\"[01] Intermediate/ds_rcc_feat_hist_train.csv\", index=False)\n",
        "df_rcc_test_agg_all.to_csv(\"[01] Intermediate/ds_rcc_feat_hist_test.csv\", index=False)"
      ],
      "execution_count": null,
      "outputs": []
    },
    {
      "cell_type": "code",
      "metadata": {
        "id": "Arn2xl_t29IU"
      },
      "source": [
        ""
      ],
      "execution_count": null,
      "outputs": []
    },
    {
      "cell_type": "code",
      "metadata": {
        "id": "-vZrteWj2ztQ"
      },
      "source": [
        ""
      ],
      "execution_count": null,
      "outputs": []
    },
    {
      "cell_type": "code",
      "metadata": {
        "id": "y8gu6WnV0yX_"
      },
      "source": [
        "def hist_feat_generator_per_cat(cat_col, numeric_value, agg_func, df_base, df_base_test):\n",
        "\n",
        "  df_rcc_crosstab = (pd.crosstab(index=[df_rcc_train.key_value, df_rcc_train.codmes], \n",
        "                                columns=df_rcc_train[cat_col], \n",
        "                                values=df_rcc_train[numeric_value],\n",
        "                                aggfunc=agg_func)\n",
        "                      .reset_index(drop=False)\n",
        "                      .reset_index(drop=True))\n",
        "  df_rcc_crosstab.columns = [\"{0}_{1}_FOR_{2}_{3}\".format(numeric_value.upper(), agg_func.upper(), cat_col, c) if c not in [\"key_value\", \"codmes\"] else c for c in df_rcc_crosstab.columns]\n",
        "\n",
        "  feat_cols = [c for c in df_rcc_crosstab.columns if \"{0}_\".format(cat_col) in c]\n",
        "  df_rcc_crosstab[\"MEAN_OF_{0}_{1}_FOR_ALL_{2}\".format(numeric_value.upper(), agg_func.upper(), cat_col)] = df_rcc_crosstab[feat_cols].mean(axis=1)\n",
        "  df_rcc_crosstab[\"SUM_OF_{0}_{1}_FOR_ALL_{2}\".format(numeric_value.upper(), agg_func.upper(), cat_col)] = df_rcc_crosstab[feat_cols].sum(axis=1)\n",
        "  df_rcc_crosstab[\"COUNT_OF_{0}_{1}_FOR_ALL_{2}\".format(numeric_value.upper(), agg_func.upper(), cat_col)] = df_rcc_crosstab[feat_cols].count(axis=1)\n",
        "\n",
        "  df_rcc_test_crosstab = (pd.crosstab(index=[df_rcc_test.key_value, df_rcc_test.codmes], \n",
        "                                columns=df_rcc_test[cat_col], \n",
        "                                values=df_rcc_test[numeric_value],\n",
        "                                aggfunc=agg_func)\n",
        "                      .reset_index(drop=False)\n",
        "                      .reset_index(drop=True))\n",
        "  df_rcc_test_crosstab.columns = [\"{0}_{1}_FOR_{2}_{3}\".format(numeric_value.upper(), agg_func.upper(), cat_col, c) if c not in [\"key_value\", \"codmes\"] else c for c in df_rcc_test_crosstab.columns]\n",
        "\n",
        "  feat_cols = [c for c in df_rcc_test_crosstab.columns if \"{0}_\".format(cat_col) in c]\n",
        "  df_rcc_test_crosstab[\"MEAN_OF_{0}_{1}_FOR_ALL_{2}\".format(numeric_value.upper(), agg_func.upper(), cat_col)] = df_rcc_test_crosstab[feat_cols].mean(axis=1)\n",
        "  df_rcc_test_crosstab[\"SUM_OF_{0}_{1}_FOR_ALL_{2}\".format(numeric_value.upper(), agg_func.upper(), cat_col)] = df_rcc_test_crosstab[feat_cols].sum(axis=1)\n",
        "  df_rcc_test_crosstab[\"COUNT_OF_{0}_{1}_FOR_ALL_{2}\".format(numeric_value.upper(), agg_func.upper(), cat_col)] = df_rcc_test_crosstab[feat_cols].count(axis=1)\n",
        "\n",
        "  agg_col_dict = {\"codmes\": [\"last\", \"first\"]}\n",
        "  agg_col_dict.update({c: [\"mean\", \"sum\", \"count\"] for c in df_rcc_crosstab.columns if c not in [\"key_value\", \"codmes\"]})\n",
        "\n",
        "  for month_level in [\"U03M\", \"U06M\", \"U12M\"]:\n",
        "    print(\"\\t\\t\\tFeatures at month level: {0}\".format(month_level))\n",
        "    df_rcc_agg = (df_rcc_crosstab.loc[df_rcc_crosstab[\"codmes\"].isin(month_dict[month_level])]\n",
        "                                .groupby([\"key_value\"], as_index=False)\n",
        "                                .agg(agg_col_dict)\n",
        "                    )\n",
        "    df_rcc_agg.columns = [month_level + \"_\" + \"_\".join(c).upper() if c[-1] != \"\" else c[0] for c in df_rcc_agg.columns]\n",
        "\n",
        "    df_rcc_agg[\"{0}_RECENCY_FOR_{1}\".format(month_level, cat_col)] = df_rcc_agg.apply(lambda row: diff_months(row[\"{0}_CODMES_LAST\".format(month_level)], 201803), axis=1)\n",
        "    df_rcc_agg[\"{0}_LONG_RECENCY_FOR_{1}\".format(month_level, cat_col)] = df_rcc_agg.apply(lambda row: diff_months(row[\"{0}_CODMES_FIRST\".format(month_level)], 201803), axis=1)\n",
        "    df_rcc_agg[\"{0}_DIFF_MONTHS_FIRST_LAST_FOR_{1}\".format(month_level, cat_col)] = df_rcc_agg.apply(lambda row: diff_months(row[\"{0}_CODMES_FIRST\".format(month_level)], row[\"{0}_CODMES_LAST\".format(month_level)]), axis=1)\n",
        "    del df_rcc_agg[\"{0}_CODMES_FIRST\".format(month_level, cat_col)]\n",
        "    del df_rcc_agg[\"{0}_CODMES_LAST\".format(month_level, cat_col)]\n",
        "\n",
        "    df_rcc_test_agg = (df_rcc_test_crosstab.loc[df_rcc_test_crosstab[\"codmes\"].isin(month_dict_test[month_level])]\n",
        "                                .groupby([\"key_value\"], as_index=False)\n",
        "                                .agg(agg_col_dict)\n",
        "                       )\n",
        "    df_rcc_test_agg.columns = [month_level + \"_\" + \"_\".join(c).upper() if c[-1] != \"\" else c[0] for c in df_rcc_test_agg.columns]\n",
        "    \n",
        "    df_rcc_test_agg[\"{0}_RECENCY_FOR_{1}\".format(month_level, cat_col)] = df_rcc_test_agg.apply(lambda row: diff_months(row[\"{0}_CODMES_LAST\".format(month_level)], 201903), axis=1)\n",
        "    df_rcc_test_agg[\"{0}_LONG_RECENCY_FOR_{1}\".format(month_level, cat_col)] = df_rcc_test_agg.apply(lambda row: diff_months(row[\"{0}_CODMES_FIRST\".format(month_level)], 201903), axis=1)\n",
        "    df_rcc_test_agg[\"{0}_DIFF_MONTHS_FIRST_LAST_FOR_{1}\".format(month_level, cat_col)] = df_rcc_test_agg.apply(lambda row: diff_months(row[\"{0}_CODMES_FIRST\".format(month_level)], row[\"{0}_CODMES_LAST\".format(month_level)]), axis=1)\n",
        "    del df_rcc_test_agg[\"{0}_CODMES_FIRST\".format(month_level, cat_col)]\n",
        "    del df_rcc_test_agg[\"{0}_CODMES_LAST\".format(month_level, cat_col)]\n",
        "\n",
        "    df_base = df_base.merge(df_rcc_agg, how=\"left\", on=\"key_value\")\n",
        "    df_base_test = df_base_test.merge(df_rcc_test_agg, how=\"left\", on=\"key_value\")\n",
        "\n",
        "  return df_base, df_base_test"
      ],
      "execution_count": null,
      "outputs": []
    },
    {
      "cell_type": "code",
      "metadata": {
        "id": "lFWxkdUSMGaU"
      },
      "source": [
        "month_dict = {\"U12M\": [201802, 201801, 201712, 201711, 201710, 201709, 201708, 201707, 201706, 201705, 201704, 201703],\n",
        "              \"U06M\": [201802, 201801, 201712, 201711, 201710, 201709],\n",
        "              \"U03M\": [201802, 201801, 201712],\n",
        "              \"U01M\": [201802]\n",
        "              }\n",
        "\n",
        "month_dict_test = {\"U12M\": [201902, 201901, 201812, 201811, 201810, 201809, 201808, 201807, 201806, 201805, 201804, 201803],\n",
        "              \"U06M\": [201902, 201901, 201812, 201811, 201810, 201809],\n",
        "              \"U03M\": [201902, 201901, 201812],\n",
        "              \"U01M\": [201902]\n",
        "              }"
      ],
      "execution_count": null,
      "outputs": []
    },
    {
      "cell_type": "markdown",
      "metadata": {
        "id": "MQo9IWMH2ZGJ"
      },
      "source": [
        "#### **Variable Producto**"
      ]
    },
    {
      "cell_type": "code",
      "metadata": {
        "id": "R7KT1r4qYEpO",
        "colab": {
          "base_uri": "https://localhost:8080/"
        },
        "outputId": "16538732-36f5-40f6-88d7-6c5f2caf04c3"
      },
      "source": [
        "top_freq_products = [1, 2, 3, 8, 255, 4, 0, 6]\n",
        "top_propensity_products = [12, 17, 18, 25, 20]\n",
        "low_propensity_products = [32, 33, 35, 36, 37, 38, 40, 41]\n",
        "list_product = top_freq_products + top_propensity_products + low_propensity_products\n",
        "print(list_product)"
      ],
      "execution_count": null,
      "outputs": [
        {
          "output_type": "stream",
          "text": [
            "[1, 2, 3, 8, 255, 4, 0, 6, 12, 17, 18, 25, 20, 32, 33, 35, 36, 37, 38, 40, 41]\n"
          ],
          "name": "stdout"
        }
      ]
    },
    {
      "cell_type": "code",
      "metadata": {
        "id": "iAJthkm6F7ay"
      },
      "source": [
        "df_rcc_test[\"PRODUCTO\"] = df_rcc_test[\"PRODUCTO\"].fillna(255)\n",
        "df_rcc_test[\"PRODUCTO\"] = df_rcc_test[\"PRODUCTO\"].astype(int)"
      ],
      "execution_count": null,
      "outputs": []
    },
    {
      "cell_type": "code",
      "metadata": {
        "id": "gZuKiLToYHcQ"
      },
      "source": [
        "cat_col = \"PRODUCTO\"\n",
        "df_rcc_train.loc[~df_rcc_train[cat_col].isin(list_product), cat_col] = \"OTROS\"\n",
        "df_rcc_train.loc[df_rcc_train[cat_col].isin(top_propensity_products), cat_col] = \"TOP_PROPENSITY\"\n",
        "df_rcc_train.loc[df_rcc_train[cat_col].isin(low_propensity_products), cat_col] = \"LOW_PROPENSITY\"\n",
        "\n",
        "df_rcc_test.loc[~df_rcc_test[cat_col].isin(list_product), cat_col] = \"OTROS\"\n",
        "df_rcc_test.loc[df_rcc_test[cat_col].isin(top_propensity_products), cat_col] = \"TOP_PROPENSITY\"\n",
        "df_rcc_test.loc[df_rcc_test[cat_col].isin(low_propensity_products), cat_col] = \"LOW_PROPENSITY\""
      ],
      "execution_count": null,
      "outputs": []
    },
    {
      "cell_type": "markdown",
      "metadata": {
        "id": "19N5Ao5MRR6W"
      },
      "source": [
        "#### **Variable Institucion Financiera**"
      ]
    },
    {
      "cell_type": "code",
      "metadata": {
        "colab": {
          "base_uri": "https://localhost:8080/"
        },
        "id": "CILvcGmOlXQa",
        "outputId": "52e7c239-e337-43ae-dd5c-1fa37ba126db"
      },
      "source": [
        "top_freq_instits = [34, 1, 10, 28, 11, 37, 0, 2]\n",
        "top_propensity_instits = [9, 26, 89, 105, 99, 39, 97, 90, 108, 106, 107, 95, 49, 94, 100, 77, 91, 96, 6, 69, 104, 85, 70, 88, 93, 101, 75, 80, 73, 76, 52, 46, 68, 71, 92, 63, 60, 55, 65] # [74, 5]\n",
        "low_propensity_instits = [12, 86, 47, 14, 78, 84] #[67, 66, 87, 98, 72, 31, 81]\n",
        "list_instit = top_freq_instits + top_propensity_instits + low_propensity_instits\n",
        "print(list_instit)"
      ],
      "execution_count": null,
      "outputs": [
        {
          "output_type": "stream",
          "text": [
            "[34, 1, 10, 28, 11, 37, 0, 2, 9, 26, 89, 105, 99, 39, 97, 90, 108, 106, 107, 95, 49, 94, 100, 77, 91, 96, 6, 69, 104, 85, 70, 88, 93, 101, 75, 80, 73, 76, 52, 46, 68, 71, 92, 63, 60, 55, 65, 12, 86, 47, 14, 78, 84]\n"
          ],
          "name": "stdout"
        }
      ]
    },
    {
      "cell_type": "code",
      "metadata": {
        "id": "MQVXzMADp6ML"
      },
      "source": [
        "df_rcc_test[\"cod_instit_financiera\"] = df_rcc_test[\"cod_instit_financiera\"].fillna(255)\n",
        "df_rcc_test[\"cod_instit_financiera\"] = df_rcc_test[\"cod_instit_financiera\"].astype(int)"
      ],
      "execution_count": null,
      "outputs": []
    },
    {
      "cell_type": "code",
      "metadata": {
        "id": "S7O87AB-lXKK"
      },
      "source": [
        "df_rcc_train[\"cod_instit_financiera\"] = df_rcc_train[\"cod_instit_financiera\"]\n",
        "df_rcc_train.loc[df_rcc_train[\"cod_instit_financiera\"].isin(top_propensity_instits), \"cod_instit_financiera\"] = \"TOP_PROPENSITY\"\n",
        "df_rcc_train.loc[df_rcc_train[\"cod_instit_financiera\"].isin(low_propensity_instits), \"cod_instit_financiera\"] = \"LOW_PROPENSITY\"\n",
        "df_rcc_train.loc[~df_rcc_train[\"cod_instit_financiera\"].isin(list_instit), \"cod_instit_financiera\"] = \"OTROS\""
      ],
      "execution_count": null,
      "outputs": []
    },
    {
      "cell_type": "code",
      "metadata": {
        "id": "A5zwznMQldN1"
      },
      "source": [
        "df_rcc_test[\"cod_instit_financiera\"] = df_rcc_test[\"cod_instit_financiera\"]\n",
        "df_rcc_test.loc[df_rcc_test[\"cod_instit_financiera\"].isin(top_propensity_instits), \"cod_instit_financiera\"] = \"TOP_PROPENSITY\"\n",
        "df_rcc_test.loc[df_rcc_test[\"cod_instit_financiera\"].isin(low_propensity_instits), \"cod_instit_financiera\"] = \"LOW_PROPENSITY\"\n",
        "df_rcc_test.loc[~df_rcc_test[\"cod_instit_financiera\"].isin(list_instit), \"cod_instit_financiera\"] = \"OTROS\""
      ],
      "execution_count": null,
      "outputs": []
    },
    {
      "cell_type": "markdown",
      "metadata": {
        "id": "JuTgpSnO-mxe"
      },
      "source": [
        "#### **Variable Condición como categórica**"
      ]
    },
    {
      "cell_type": "code",
      "metadata": {
        "id": "WR-Z2593-m-Q"
      },
      "source": [
        "df_rcc_train[\"condicion_cat\"] = df_rcc_train[\"condicion\"].apply(lambda c: 0 if c == 0 else \"00_03\" if c < 90 else  \"03_06\" if c < 180 else \"06_12\" if c < 365 else \"12-32\" if c < 960 else \">32\")\n",
        "df_rcc_test[\"condicion_cat\"] = df_rcc_test[\"condicion\"].apply(lambda c: 0 if c == 0 else \"00_03\" if c < 90 else  \"03_06\" if c < 180 else \"06_12\" if c < 365 else \"12-32\" if c < 960 else \">32\")"
      ],
      "execution_count": null,
      "outputs": []
    },
    {
      "cell_type": "code",
      "metadata": {
        "colab": {
          "base_uri": "https://localhost:8080/"
        },
        "id": "6cI0LQSWC0oA",
        "outputId": "c3fc327c-57c4-4d06-c07c-22fc2f146c3a"
      },
      "source": [
        "df_rcc_train[\"condicion_cat\"].value_counts(normalize=True, dropna=False)"
      ],
      "execution_count": null,
      "outputs": [
        {
          "output_type": "execute_result",
          "data": {
            "text/plain": [
              "0        0.966859\n",
              "00_03    0.022446\n",
              ">32      0.005332\n",
              "12-32    0.002580\n",
              "03_06    0.001442\n",
              "06_12    0.001340\n",
              "Name: condicion_cat, dtype: float64"
            ]
          },
          "metadata": {
            "tags": []
          },
          "execution_count": 28
        }
      ]
    },
    {
      "cell_type": "code",
      "metadata": {
        "colab": {
          "base_uri": "https://localhost:8080/"
        },
        "id": "4vwU_P1TC4ox",
        "outputId": "a3de5c4d-e49c-46c4-ad98-70204799b14d"
      },
      "source": [
        "df_rcc_test[\"condicion_cat\"].value_counts(normalize=True, dropna=False)"
      ],
      "execution_count": null,
      "outputs": [
        {
          "output_type": "execute_result",
          "data": {
            "text/plain": [
              "0        0.967486\n",
              "00_03    0.019706\n",
              ">32      0.006578\n",
              "12-32    0.002869\n",
              "06_12    0.001725\n",
              "03_06    0.001636\n",
              "Name: condicion_cat, dtype: float64"
            ]
          },
          "metadata": {
            "tags": []
          },
          "execution_count": 29
        }
      ]
    },
    {
      "cell_type": "markdown",
      "metadata": {
        "id": "HpHJOQc2-yXT"
      },
      "source": [
        "#### **Generando los features**"
      ]
    },
    {
      "cell_type": "code",
      "metadata": {
        "id": "ydDuDQ7lvcja"
      },
      "source": [
        "df_base = df_base_train[[\"key_value\"]].copy()\n",
        "df_base_test = df_base_test[[\"key_value\"]].copy()"
      ],
      "execution_count": null,
      "outputs": []
    },
    {
      "cell_type": "code",
      "metadata": {
        "colab": {
          "base_uri": "https://localhost:8080/"
        },
        "id": "X8Y3BV3-A20d",
        "outputId": "410db727-343b-4c4a-91e2-9249186bea27"
      },
      "source": [
        "for cat_col in [\"PRODUCTO\", \"cod_instit_financiera\", \"condicion_cat\"]:\n",
        "  print(\"Cat Feature: {0}\".format(cat_col))\n",
        "  for numeric_value in [\"saldo\"]:\n",
        "    print(\"\\tNumeric Feature: {0}\".format(numeric_value))\n",
        "    for agg_func in [\"mean\"]:\n",
        "      print(\"\\t\\tAgg func: {0}\".format(agg_func))\n",
        "      df_base, df_base_test = hist_feat_generator(cat_col, numeric_value, agg_func, df_base, df_base_test)"
      ],
      "execution_count": null,
      "outputs": [
        {
          "output_type": "stream",
          "text": [
            "Cat Feature: PRODUCTO\n",
            "\tNumeric Feature: saldo\n",
            "\t\tAgg func: mean\n",
            "\t\t\tFeatures at month level: U03M\n",
            "\t\t\tFeatures at month level: U06M\n",
            "\t\t\tFeatures at month level: U12M\n",
            "Cat Feature: cod_instit_financiera\n",
            "\tNumeric Feature: saldo\n",
            "\t\tAgg func: mean\n",
            "\t\t\tFeatures at month level: U03M\n",
            "\t\t\tFeatures at month level: U06M\n",
            "\t\t\tFeatures at month level: U12M\n",
            "Cat Feature: condicion_cat\n",
            "\tNumeric Feature: saldo\n",
            "\t\tAgg func: mean\n",
            "\t\t\tFeatures at month level: U03M\n",
            "\t\t\tFeatures at month level: U06M\n",
            "\t\t\tFeatures at month level: U12M\n"
          ],
          "name": "stdout"
        }
      ]
    },
    {
      "cell_type": "code",
      "metadata": {
        "colab": {
          "base_uri": "https://localhost:8080/"
        },
        "id": "5WBrS9CewrVJ",
        "outputId": "6e84c511-bd61-4d89-f682-f4321b623ac5"
      },
      "source": [
        "df_base.shape, df_base_test.shape"
      ],
      "execution_count": null,
      "outputs": [
        {
          "output_type": "execute_result",
          "data": {
            "text/plain": [
              "((358487, 343), (396609, 343))"
            ]
          },
          "metadata": {
            "tags": []
          },
          "execution_count": 33
        }
      ]
    },
    {
      "cell_type": "code",
      "metadata": {
        "id": "NKY12w8ACwFg",
        "colab": {
          "base_uri": "https://localhost:8080/"
        },
        "outputId": "804276ea-253f-4b16-fa22-0ae1d3a37a30"
      },
      "source": [
        "df_base.shape, df_base_test.shape"
      ],
      "execution_count": null,
      "outputs": [
        {
          "output_type": "execute_result",
          "data": {
            "text/plain": [
              "((358487, 343), (396609, 343))"
            ]
          },
          "metadata": {
            "tags": []
          },
          "execution_count": 34
        }
      ]
    },
    {
      "cell_type": "markdown",
      "metadata": {
        "id": "DBomSulksqI1"
      },
      "source": [
        "#### **Exportando el dataset de RCC**"
      ]
    },
    {
      "cell_type": "code",
      "metadata": {
        "id": "siMV3Grndn0f"
      },
      "source": [
        "df_base.to_csv(\"[01] Intermediate/ds_rcc.csv\", index=False)\n",
        "df_base_test.to_csv(\"[01] Intermediate/ds_rcc_test.csv\", index=False)"
      ],
      "execution_count": null,
      "outputs": []
    },
    {
      "cell_type": "markdown",
      "metadata": {
        "id": "2d-RwyYmJM6v"
      },
      "source": [
        "## SUNAT"
      ]
    },
    {
      "cell_type": "code",
      "metadata": {
        "id": "VAHOO-gLJP9i"
      },
      "source": [
        "df_sunat_train = optimizar_df(pd.read_csv(\"[00] Data/sunat_train.csv\")).drop_duplicates()\n",
        "df_sunat_test = optimizar_df(pd.read_csv(\"[00] Data/sunat_test.csv\")).drop_duplicates()"
      ],
      "execution_count": null,
      "outputs": []
    },
    {
      "cell_type": "code",
      "metadata": {
        "colab": {
          "base_uri": "https://localhost:8080/"
        },
        "id": "M6An2wQ8KrOP",
        "outputId": "f261ba7f-3345-4309-fa60-9cf183835aea"
      },
      "source": [
        "df_sunat_train.info()"
      ],
      "execution_count": null,
      "outputs": [
        {
          "output_type": "stream",
          "text": [
            "<class 'pandas.core.frame.DataFrame'>\n",
            "Int64Index: 292479 entries, 0 to 1462035\n",
            "Data columns (total 18 columns):\n",
            " #   Column               Non-Null Count   Dtype  \n",
            "---  ------               --------------   -----  \n",
            " 0   key_value            292479 non-null  uint32 \n",
            " 1   tipcontribuyente     292479 non-null  uint8  \n",
            " 2   tippersona           292479 non-null  uint8  \n",
            " 3   ciiu                 292479 non-null  uint16 \n",
            " 4   ubigeo               292479 non-null  uint16 \n",
            " 5   condiciondomicilio   292479 non-null  uint8  \n",
            " 6   estadocontribuyente  292479 non-null  uint8  \n",
            " 7   fecalta              272027 non-null  float32\n",
            " 8   fecbaja              46802 non-null   float32\n",
            " 9   codvia               292479 non-null  uint8  \n",
            " 10  codzona              292479 non-null  uint8  \n",
            " 11  contabilidad         292479 non-null  uint8  \n",
            " 12  facturacion          292479 non-null  uint8  \n",
            " 13  domiciliado          292479 non-null  uint8  \n",
            " 14  comercioexterior     292479 non-null  uint8  \n",
            " 15  cargorele            292479 non-null  uint16 \n",
            " 16  codentidadtributo    292479 non-null  uint8  \n",
            " 17  estadotributo        292479 non-null  uint8  \n",
            "dtypes: float32(2), uint16(3), uint32(1), uint8(12)\n",
            "memory usage: 10.6 MB\n"
          ],
          "name": "stdout"
        }
      ]
    },
    {
      "cell_type": "code",
      "metadata": {
        "colab": {
          "base_uri": "https://localhost:8080/",
          "height": 218
        },
        "id": "dDoxv8PjJalW",
        "outputId": "624e6b1e-ae4f-4705-fb42-cfb75dda8b1d"
      },
      "source": [
        "df_sunat_train.head()"
      ],
      "execution_count": null,
      "outputs": [
        {
          "output_type": "execute_result",
          "data": {
            "text/html": [
              "<div>\n",
              "<style scoped>\n",
              "    .dataframe tbody tr th:only-of-type {\n",
              "        vertical-align: middle;\n",
              "    }\n",
              "\n",
              "    .dataframe tbody tr th {\n",
              "        vertical-align: top;\n",
              "    }\n",
              "\n",
              "    .dataframe thead th {\n",
              "        text-align: right;\n",
              "    }\n",
              "</style>\n",
              "<table border=\"1\" class=\"dataframe\">\n",
              "  <thead>\n",
              "    <tr style=\"text-align: right;\">\n",
              "      <th></th>\n",
              "      <th>key_value</th>\n",
              "      <th>tipcontribuyente</th>\n",
              "      <th>tippersona</th>\n",
              "      <th>ciiu</th>\n",
              "      <th>ubigeo</th>\n",
              "      <th>condiciondomicilio</th>\n",
              "      <th>estadocontribuyente</th>\n",
              "      <th>fecalta</th>\n",
              "      <th>fecbaja</th>\n",
              "      <th>codvia</th>\n",
              "      <th>codzona</th>\n",
              "      <th>contabilidad</th>\n",
              "      <th>facturacion</th>\n",
              "      <th>domiciliado</th>\n",
              "      <th>comercioexterior</th>\n",
              "      <th>cargorele</th>\n",
              "      <th>codentidadtributo</th>\n",
              "      <th>estadotributo</th>\n",
              "    </tr>\n",
              "  </thead>\n",
              "  <tbody>\n",
              "    <tr>\n",
              "      <th>0</th>\n",
              "      <td>190597</td>\n",
              "      <td>9</td>\n",
              "      <td>0</td>\n",
              "      <td>178</td>\n",
              "      <td>442</td>\n",
              "      <td>0</td>\n",
              "      <td>0</td>\n",
              "      <td>-0.785832</td>\n",
              "      <td>NaN</td>\n",
              "      <td>0</td>\n",
              "      <td>0</td>\n",
              "      <td>6</td>\n",
              "      <td>11</td>\n",
              "      <td>0</td>\n",
              "      <td>1</td>\n",
              "      <td>635</td>\n",
              "      <td>8</td>\n",
              "      <td>2</td>\n",
              "    </tr>\n",
              "    <tr>\n",
              "      <th>1</th>\n",
              "      <td>162813</td>\n",
              "      <td>0</td>\n",
              "      <td>0</td>\n",
              "      <td>253</td>\n",
              "      <td>449</td>\n",
              "      <td>0</td>\n",
              "      <td>0</td>\n",
              "      <td>0.971584</td>\n",
              "      <td>NaN</td>\n",
              "      <td>20</td>\n",
              "      <td>0</td>\n",
              "      <td>6</td>\n",
              "      <td>11</td>\n",
              "      <td>0</td>\n",
              "      <td>1</td>\n",
              "      <td>635</td>\n",
              "      <td>8</td>\n",
              "      <td>2</td>\n",
              "    </tr>\n",
              "    <tr>\n",
              "      <th>2</th>\n",
              "      <td>190620</td>\n",
              "      <td>9</td>\n",
              "      <td>0</td>\n",
              "      <td>173</td>\n",
              "      <td>473</td>\n",
              "      <td>0</td>\n",
              "      <td>2</td>\n",
              "      <td>0.025283</td>\n",
              "      <td>-1.561407</td>\n",
              "      <td>11</td>\n",
              "      <td>0</td>\n",
              "      <td>6</td>\n",
              "      <td>11</td>\n",
              "      <td>0</td>\n",
              "      <td>1</td>\n",
              "      <td>635</td>\n",
              "      <td>8</td>\n",
              "      <td>2</td>\n",
              "    </tr>\n",
              "    <tr>\n",
              "      <th>3</th>\n",
              "      <td>43886</td>\n",
              "      <td>0</td>\n",
              "      <td>0</td>\n",
              "      <td>285</td>\n",
              "      <td>154</td>\n",
              "      <td>0</td>\n",
              "      <td>0</td>\n",
              "      <td>0.566027</td>\n",
              "      <td>NaN</td>\n",
              "      <td>11</td>\n",
              "      <td>3</td>\n",
              "      <td>6</td>\n",
              "      <td>11</td>\n",
              "      <td>0</td>\n",
              "      <td>1</td>\n",
              "      <td>635</td>\n",
              "      <td>8</td>\n",
              "      <td>2</td>\n",
              "    </tr>\n",
              "    <tr>\n",
              "      <th>4</th>\n",
              "      <td>255211</td>\n",
              "      <td>0</td>\n",
              "      <td>0</td>\n",
              "      <td>285</td>\n",
              "      <td>456</td>\n",
              "      <td>0</td>\n",
              "      <td>0</td>\n",
              "      <td>0.836399</td>\n",
              "      <td>NaN</td>\n",
              "      <td>11</td>\n",
              "      <td>3</td>\n",
              "      <td>6</td>\n",
              "      <td>11</td>\n",
              "      <td>0</td>\n",
              "      <td>1</td>\n",
              "      <td>635</td>\n",
              "      <td>8</td>\n",
              "      <td>2</td>\n",
              "    </tr>\n",
              "  </tbody>\n",
              "</table>\n",
              "</div>"
            ],
            "text/plain": [
              "   key_value  tipcontribuyente  ...  codentidadtributo  estadotributo\n",
              "0     190597                 9  ...                  8              2\n",
              "1     162813                 0  ...                  8              2\n",
              "2     190620                 9  ...                  8              2\n",
              "3      43886                 0  ...                  8              2\n",
              "4     255211                 0  ...                  8              2\n",
              "\n",
              "[5 rows x 18 columns]"
            ]
          },
          "metadata": {
            "tags": []
          },
          "execution_count": 7
        }
      ]
    },
    {
      "cell_type": "code",
      "metadata": {
        "id": "ZRrLBpegLR3W"
      },
      "source": [
        ""
      ],
      "execution_count": null,
      "outputs": []
    },
    {
      "cell_type": "code",
      "metadata": {
        "id": "4WuvSLn0MM6f"
      },
      "source": [
        "from scipy import stats"
      ],
      "execution_count": null,
      "outputs": []
    },
    {
      "cell_type": "code",
      "metadata": {
        "id": "1ZVES25zKke0"
      },
      "source": [
        "df_sunat_train_agg = df_sunat_train.groupby(\"key_value\", as_index=False).agg({c: stats.mode for c in df_sunat_train.columns if c not in [\"key_value\", \"fecalta\", \"fecbaja\"]})"
      ],
      "execution_count": null,
      "outputs": []
    },
    {
      "cell_type": "code",
      "metadata": {
        "id": "jjKMndoMM2H9"
      },
      "source": [
        "df_sunat_test_agg = df_sunat_test.groupby(\"key_value\", as_index=False).agg({c: stats.mode for c in df_sunat_test.columns if c not in [\"key_value\", \"fecalta\", \"fecbaja\"]})"
      ],
      "execution_count": null,
      "outputs": []
    },
    {
      "cell_type": "code",
      "metadata": {
        "id": "yECG686cMl2H"
      },
      "source": [
        "for col in [c for c in df_sunat_train.columns if c not in [\"key_value\", \"fecalta\", \"fecbaja\"]]:\n",
        "  df_sunat_train_agg[col] = df_sunat_train_agg[col].apply(lambda t: t[0][0])\n",
        "  df_sunat_test_agg[col] = df_sunat_test_agg[col].apply(lambda t: t[0][0])"
      ],
      "execution_count": null,
      "outputs": []
    },
    {
      "cell_type": "code",
      "metadata": {
        "id": "a4JXmwfpRXku"
      },
      "source": [
        "df_sunat_train_fecha = df_sunat_train.groupby(\"key_value\", as_index=False).agg({\"fecalta\": [\"min\", \"max\", \"mean\"], \"fecbaja\": [\"min\", \"max\", \"mean\"]})\n",
        "df_sunat_test_fecha = df_sunat_test.groupby(\"key_value\", as_index=False).agg({\"fecalta\": [\"min\", \"max\", \"mean\"], \"fecbaja\": [\"min\", \"max\", \"mean\"]})"
      ],
      "execution_count": null,
      "outputs": []
    },
    {
      "cell_type": "code",
      "metadata": {
        "id": "7qCiCDHoSFyp"
      },
      "source": [
        "df_sunat_train_fecha.columns = [\"SUNAT\" + \"_\".join(c).upper() if c[-1] != \"\" else c[0] for c in df_sunat_train_fecha.columns]\n",
        "df_sunat_test_fecha.columns = [\"SUNAT\" + \"_\".join(c).upper() if c[-1] != \"\" else c[0] for c in df_sunat_test_fecha.columns]"
      ],
      "execution_count": null,
      "outputs": []
    },
    {
      "cell_type": "code",
      "metadata": {
        "id": "Oxm8NmNBSfIS"
      },
      "source": [
        "df_sunat_train_agg = df_sunat_train_agg.merge(df_sunat_train_fecha, how=\"left\", on=\"key_value\")\n",
        "df_sunat_test_agg = df_sunat_test_agg.merge(df_sunat_test_fecha, how=\"left\", on=\"key_value\")"
      ],
      "execution_count": null,
      "outputs": []
    },
    {
      "cell_type": "code",
      "metadata": {
        "id": "vSL6es9kSz5q"
      },
      "source": [
        "df_sunat_train_agg.to_csv(\"[01] Intermediate/ds_sunat.csv\", index=False)\n",
        "df_sunat_test_agg.to_csv(\"[01] Intermediate/ds_sunat_test.csv\", index=False)"
      ],
      "execution_count": null,
      "outputs": []
    },
    {
      "cell_type": "code",
      "metadata": {
        "colab": {
          "base_uri": "https://localhost:8080/",
          "height": 218
        },
        "id": "Zyo5jeQjRE_h",
        "outputId": "72e4960a-4581-45b9-efa9-f88f04468a68"
      },
      "source": [
        "df_sunat_test_agg.head()"
      ],
      "execution_count": null,
      "outputs": [
        {
          "output_type": "execute_result",
          "data": {
            "text/html": [
              "<div>\n",
              "<style scoped>\n",
              "    .dataframe tbody tr th:only-of-type {\n",
              "        vertical-align: middle;\n",
              "    }\n",
              "\n",
              "    .dataframe tbody tr th {\n",
              "        vertical-align: top;\n",
              "    }\n",
              "\n",
              "    .dataframe thead th {\n",
              "        text-align: right;\n",
              "    }\n",
              "</style>\n",
              "<table border=\"1\" class=\"dataframe\">\n",
              "  <thead>\n",
              "    <tr style=\"text-align: right;\">\n",
              "      <th></th>\n",
              "      <th>key_value</th>\n",
              "      <th>tipcontribuyente</th>\n",
              "      <th>tippersona</th>\n",
              "      <th>ciiu</th>\n",
              "      <th>ubigeo</th>\n",
              "      <th>condiciondomicilio</th>\n",
              "      <th>estadocontribuyente</th>\n",
              "      <th>codvia</th>\n",
              "      <th>codzona</th>\n",
              "      <th>contabilidad</th>\n",
              "      <th>facturacion</th>\n",
              "      <th>domiciliado</th>\n",
              "      <th>comercioexterior</th>\n",
              "      <th>cargorele</th>\n",
              "      <th>codentidadtributo</th>\n",
              "      <th>estadotributo</th>\n",
              "      <th>SUNATFECALTA_MIN</th>\n",
              "      <th>SUNATFECALTA_MAX</th>\n",
              "      <th>SUNATFECALTA_MEAN</th>\n",
              "      <th>SUNATFECBAJA_MIN</th>\n",
              "      <th>SUNATFECBAJA_MAX</th>\n",
              "      <th>SUNATFECBAJA_MEAN</th>\n",
              "    </tr>\n",
              "  </thead>\n",
              "  <tbody>\n",
              "    <tr>\n",
              "      <th>0</th>\n",
              "      <td>0</td>\n",
              "      <td>0</td>\n",
              "      <td>0</td>\n",
              "      <td>255</td>\n",
              "      <td>473</td>\n",
              "      <td>0</td>\n",
              "      <td>0</td>\n",
              "      <td>3</td>\n",
              "      <td>3</td>\n",
              "      <td>6</td>\n",
              "      <td>11</td>\n",
              "      <td>0</td>\n",
              "      <td>2</td>\n",
              "      <td>635</td>\n",
              "      <td>8</td>\n",
              "      <td>2</td>\n",
              "      <td>0.566027</td>\n",
              "      <td>0.566027</td>\n",
              "      <td>0.566027</td>\n",
              "      <td>NaN</td>\n",
              "      <td>NaN</td>\n",
              "      <td>NaN</td>\n",
              "    </tr>\n",
              "    <tr>\n",
              "      <th>1</th>\n",
              "      <td>2</td>\n",
              "      <td>0</td>\n",
              "      <td>0</td>\n",
              "      <td>244</td>\n",
              "      <td>473</td>\n",
              "      <td>0</td>\n",
              "      <td>0</td>\n",
              "      <td>0</td>\n",
              "      <td>3</td>\n",
              "      <td>6</td>\n",
              "      <td>11</td>\n",
              "      <td>0</td>\n",
              "      <td>1</td>\n",
              "      <td>635</td>\n",
              "      <td>8</td>\n",
              "      <td>2</td>\n",
              "      <td>1.377142</td>\n",
              "      <td>1.377142</td>\n",
              "      <td>1.377142</td>\n",
              "      <td>NaN</td>\n",
              "      <td>NaN</td>\n",
              "      <td>NaN</td>\n",
              "    </tr>\n",
              "    <tr>\n",
              "      <th>2</th>\n",
              "      <td>4</td>\n",
              "      <td>0</td>\n",
              "      <td>0</td>\n",
              "      <td>285</td>\n",
              "      <td>1109</td>\n",
              "      <td>0</td>\n",
              "      <td>0</td>\n",
              "      <td>3</td>\n",
              "      <td>3</td>\n",
              "      <td>6</td>\n",
              "      <td>11</td>\n",
              "      <td>0</td>\n",
              "      <td>2</td>\n",
              "      <td>635</td>\n",
              "      <td>8</td>\n",
              "      <td>2</td>\n",
              "      <td>1.377142</td>\n",
              "      <td>1.377142</td>\n",
              "      <td>1.377142</td>\n",
              "      <td>NaN</td>\n",
              "      <td>NaN</td>\n",
              "      <td>NaN</td>\n",
              "    </tr>\n",
              "    <tr>\n",
              "      <th>3</th>\n",
              "      <td>5</td>\n",
              "      <td>9</td>\n",
              "      <td>0</td>\n",
              "      <td>177</td>\n",
              "      <td>674</td>\n",
              "      <td>0</td>\n",
              "      <td>3</td>\n",
              "      <td>3</td>\n",
              "      <td>3</td>\n",
              "      <td>2</td>\n",
              "      <td>11</td>\n",
              "      <td>0</td>\n",
              "      <td>2</td>\n",
              "      <td>635</td>\n",
              "      <td>8</td>\n",
              "      <td>2</td>\n",
              "      <td>1.106770</td>\n",
              "      <td>1.106770</td>\n",
              "      <td>1.106770</td>\n",
              "      <td>1.422525</td>\n",
              "      <td>1.422525</td>\n",
              "      <td>1.422525</td>\n",
              "    </tr>\n",
              "    <tr>\n",
              "      <th>4</th>\n",
              "      <td>7</td>\n",
              "      <td>0</td>\n",
              "      <td>0</td>\n",
              "      <td>285</td>\n",
              "      <td>500</td>\n",
              "      <td>0</td>\n",
              "      <td>0</td>\n",
              "      <td>3</td>\n",
              "      <td>10</td>\n",
              "      <td>6</td>\n",
              "      <td>11</td>\n",
              "      <td>0</td>\n",
              "      <td>2</td>\n",
              "      <td>635</td>\n",
              "      <td>8</td>\n",
              "      <td>2</td>\n",
              "      <td>1.782700</td>\n",
              "      <td>1.782700</td>\n",
              "      <td>1.782700</td>\n",
              "      <td>NaN</td>\n",
              "      <td>NaN</td>\n",
              "      <td>NaN</td>\n",
              "    </tr>\n",
              "  </tbody>\n",
              "</table>\n",
              "</div>"
            ],
            "text/plain": [
              "   key_value  tipcontribuyente  ...  SUNATFECBAJA_MAX  SUNATFECBAJA_MEAN\n",
              "0          0                 0  ...               NaN                NaN\n",
              "1          2                 0  ...               NaN                NaN\n",
              "2          4                 0  ...               NaN                NaN\n",
              "3          5                 9  ...          1.422525           1.422525\n",
              "4          7                 0  ...               NaN                NaN\n",
              "\n",
              "[5 rows x 22 columns]"
            ]
          },
          "metadata": {
            "tags": []
          },
          "execution_count": 42
        }
      ]
    },
    {
      "cell_type": "code",
      "metadata": {
        "colab": {
          "base_uri": "https://localhost:8080/",
          "height": 407
        },
        "id": "Ja_yyMqiJaiW",
        "outputId": "b6461bf2-232b-4c5b-b063-27584b4d078a"
      },
      "source": [
        "df_sunat_train.groupby(\"key_value\", as_index=False).agg({\"tipcontribuyente\": \"count\"}).sort_values(by=\"tipcontribuyente\", ascending=False)"
      ],
      "execution_count": null,
      "outputs": [
        {
          "output_type": "execute_result",
          "data": {
            "text/html": [
              "<div>\n",
              "<style scoped>\n",
              "    .dataframe tbody tr th:only-of-type {\n",
              "        vertical-align: middle;\n",
              "    }\n",
              "\n",
              "    .dataframe tbody tr th {\n",
              "        vertical-align: top;\n",
              "    }\n",
              "\n",
              "    .dataframe thead th {\n",
              "        text-align: right;\n",
              "    }\n",
              "</style>\n",
              "<table border=\"1\" class=\"dataframe\">\n",
              "  <thead>\n",
              "    <tr style=\"text-align: right;\">\n",
              "      <th></th>\n",
              "      <th>key_value</th>\n",
              "      <th>tipcontribuyente</th>\n",
              "    </tr>\n",
              "  </thead>\n",
              "  <tbody>\n",
              "    <tr>\n",
              "      <th>172663</th>\n",
              "      <td>262090</td>\n",
              "      <td>96</td>\n",
              "    </tr>\n",
              "    <tr>\n",
              "      <th>80409</th>\n",
              "      <td>121911</td>\n",
              "      <td>63</td>\n",
              "    </tr>\n",
              "    <tr>\n",
              "      <th>57921</th>\n",
              "      <td>87603</td>\n",
              "      <td>51</td>\n",
              "    </tr>\n",
              "    <tr>\n",
              "      <th>149929</th>\n",
              "      <td>227523</td>\n",
              "      <td>47</td>\n",
              "    </tr>\n",
              "    <tr>\n",
              "      <th>157189</th>\n",
              "      <td>238557</td>\n",
              "      <td>45</td>\n",
              "    </tr>\n",
              "    <tr>\n",
              "      <th>...</th>\n",
              "      <td>...</td>\n",
              "      <td>...</td>\n",
              "    </tr>\n",
              "    <tr>\n",
              "      <th>83372</th>\n",
              "      <td>126457</td>\n",
              "      <td>1</td>\n",
              "    </tr>\n",
              "    <tr>\n",
              "      <th>83373</th>\n",
              "      <td>126458</td>\n",
              "      <td>1</td>\n",
              "    </tr>\n",
              "    <tr>\n",
              "      <th>83376</th>\n",
              "      <td>126461</td>\n",
              "      <td>1</td>\n",
              "    </tr>\n",
              "    <tr>\n",
              "      <th>83377</th>\n",
              "      <td>126463</td>\n",
              "      <td>1</td>\n",
              "    </tr>\n",
              "    <tr>\n",
              "      <th>233865</th>\n",
              "      <td>358486</td>\n",
              "      <td>1</td>\n",
              "    </tr>\n",
              "  </tbody>\n",
              "</table>\n",
              "<p>233866 rows × 2 columns</p>\n",
              "</div>"
            ],
            "text/plain": [
              "        key_value  tipcontribuyente\n",
              "172663     262090                96\n",
              "80409      121911                63\n",
              "57921       87603                51\n",
              "149929     227523                47\n",
              "157189     238557                45\n",
              "...           ...               ...\n",
              "83372      126457                 1\n",
              "83373      126458                 1\n",
              "83376      126461                 1\n",
              "83377      126463                 1\n",
              "233865     358486                 1\n",
              "\n",
              "[233866 rows x 2 columns]"
            ]
          },
          "metadata": {
            "tags": []
          },
          "execution_count": 8
        }
      ]
    },
    {
      "cell_type": "code",
      "metadata": {
        "colab": {
          "base_uri": "https://localhost:8080/",
          "height": 407
        },
        "id": "vTBFrdusJaaZ",
        "outputId": "a9d71d43-c8a1-4e3e-8325-52fa6dd1a339"
      },
      "source": [
        "df_sunat_test.groupby(\"key_value\", as_index=False).agg({\"tipcontribuyente\": \"count\"}).sort_values(by=\"tipcontribuyente\", ascending=False)\n"
      ],
      "execution_count": null,
      "outputs": [
        {
          "output_type": "execute_result",
          "data": {
            "text/html": [
              "<div>\n",
              "<style scoped>\n",
              "    .dataframe tbody tr th:only-of-type {\n",
              "        vertical-align: middle;\n",
              "    }\n",
              "\n",
              "    .dataframe tbody tr th {\n",
              "        vertical-align: top;\n",
              "    }\n",
              "\n",
              "    .dataframe thead th {\n",
              "        text-align: right;\n",
              "    }\n",
              "</style>\n",
              "<table border=\"1\" class=\"dataframe\">\n",
              "  <thead>\n",
              "    <tr style=\"text-align: right;\">\n",
              "      <th></th>\n",
              "      <th>key_value</th>\n",
              "      <th>tipcontribuyente</th>\n",
              "    </tr>\n",
              "  </thead>\n",
              "  <tbody>\n",
              "    <tr>\n",
              "      <th>16321</th>\n",
              "      <td>24767</td>\n",
              "      <td>655</td>\n",
              "    </tr>\n",
              "    <tr>\n",
              "      <th>143253</th>\n",
              "      <td>220827</td>\n",
              "      <td>93</td>\n",
              "    </tr>\n",
              "    <tr>\n",
              "      <th>227474</th>\n",
              "      <td>352446</td>\n",
              "      <td>65</td>\n",
              "    </tr>\n",
              "    <tr>\n",
              "      <th>10113</th>\n",
              "      <td>15340</td>\n",
              "      <td>62</td>\n",
              "    </tr>\n",
              "    <tr>\n",
              "      <th>142130</th>\n",
              "      <td>219118</td>\n",
              "      <td>49</td>\n",
              "    </tr>\n",
              "    <tr>\n",
              "      <th>...</th>\n",
              "      <td>...</td>\n",
              "      <td>...</td>\n",
              "    </tr>\n",
              "    <tr>\n",
              "      <th>90676</th>\n",
              "      <td>139485</td>\n",
              "      <td>1</td>\n",
              "    </tr>\n",
              "    <tr>\n",
              "      <th>90677</th>\n",
              "      <td>139487</td>\n",
              "      <td>1</td>\n",
              "    </tr>\n",
              "    <tr>\n",
              "      <th>90678</th>\n",
              "      <td>139489</td>\n",
              "      <td>1</td>\n",
              "    </tr>\n",
              "    <tr>\n",
              "      <th>90679</th>\n",
              "      <td>139490</td>\n",
              "      <td>1</td>\n",
              "    </tr>\n",
              "    <tr>\n",
              "      <th>253802</th>\n",
              "      <td>396663</td>\n",
              "      <td>1</td>\n",
              "    </tr>\n",
              "  </tbody>\n",
              "</table>\n",
              "<p>253803 rows × 2 columns</p>\n",
              "</div>"
            ],
            "text/plain": [
              "        key_value  tipcontribuyente\n",
              "16321       24767               655\n",
              "143253     220827                93\n",
              "227474     352446                65\n",
              "10113       15340                62\n",
              "142130     219118                49\n",
              "...           ...               ...\n",
              "90676      139485                 1\n",
              "90677      139487                 1\n",
              "90678      139489                 1\n",
              "90679      139490                 1\n",
              "253802     396663                 1\n",
              "\n",
              "[253803 rows x 2 columns]"
            ]
          },
          "metadata": {
            "tags": []
          },
          "execution_count": 9
        }
      ]
    },
    {
      "cell_type": "markdown",
      "metadata": {
        "id": "uem83LD7aIpi"
      },
      "source": [
        "## Censo"
      ]
    },
    {
      "cell_type": "code",
      "metadata": {
        "id": "d_U45azGaJV0"
      },
      "source": [
        "df_censo_train = optimizar_df(pd.read_csv(\"[00] Data/censo_train.csv\")).drop_duplicates()\n",
        "df_censo_test = optimizar_df(pd.read_csv(\"[00] Data/censo_test.csv\")).drop_duplicates()"
      ],
      "execution_count": null,
      "outputs": []
    },
    {
      "cell_type": "code",
      "metadata": {
        "colab": {
          "base_uri": "https://localhost:8080/",
          "height": 247
        },
        "id": "FbMV15aNaREX",
        "outputId": "b0642a17-8311-4bc8-f198-c6528f255499"
      },
      "source": [
        "df_censo_train.head()"
      ],
      "execution_count": null,
      "outputs": [
        {
          "output_type": "execute_result",
          "data": {
            "text/html": [
              "<div>\n",
              "<style scoped>\n",
              "    .dataframe tbody tr th:only-of-type {\n",
              "        vertical-align: middle;\n",
              "    }\n",
              "\n",
              "    .dataframe tbody tr th {\n",
              "        vertical-align: top;\n",
              "    }\n",
              "\n",
              "    .dataframe thead th {\n",
              "        text-align: right;\n",
              "    }\n",
              "</style>\n",
              "<table border=\"1\" class=\"dataframe\">\n",
              "  <thead>\n",
              "    <tr style=\"text-align: right;\">\n",
              "      <th></th>\n",
              "      <th>key_value</th>\n",
              "      <th>lon_x</th>\n",
              "      <th>lat_y</th>\n",
              "      <th>zon_sis</th>\n",
              "      <th>zon_der</th>\n",
              "      <th>zon_inu</th>\n",
              "      <th>zon_com</th>\n",
              "      <th>score</th>\n",
              "      <th>pob</th>\n",
              "      <th>pob_a</th>\n",
              "      <th>pob_b</th>\n",
              "      <th>pob_c</th>\n",
              "      <th>pob_d</th>\n",
              "      <th>pob_e</th>\n",
              "      <th>hog</th>\n",
              "      <th>a</th>\n",
              "      <th>b</th>\n",
              "      <th>c</th>\n",
              "      <th>d</th>\n",
              "      <th>e</th>\n",
              "      <th>pred</th>\n",
              "      <th>ing_a_18</th>\n",
              "      <th>gas_ali_a_18</th>\n",
              "      <th>gas_ves_a_18</th>\n",
              "      <th>gas_alq_a_18</th>\n",
              "      <th>gas_mue_a_18</th>\n",
              "      <th>gas_sal_a_18</th>\n",
              "      <th>gas_trans_a_18</th>\n",
              "      <th>gas_esp_a_18</th>\n",
              "      <th>gas_otrs_a_18</th>\n",
              "      <th>ing_b_18</th>\n",
              "      <th>gas_ali_b_18</th>\n",
              "      <th>gas_ves_b_18</th>\n",
              "      <th>gas_alq_b_18</th>\n",
              "      <th>gas_mue_b_18</th>\n",
              "      <th>gas_sal_b_18</th>\n",
              "      <th>gas_trans_b_18</th>\n",
              "      <th>gas_esp_b_18</th>\n",
              "      <th>gas_otrs_b_18</th>\n",
              "      <th>ing_c_18</th>\n",
              "      <th>...</th>\n",
              "      <th>estud_9</th>\n",
              "      <th>estud_10</th>\n",
              "      <th>profe_1</th>\n",
              "      <th>profe_2</th>\n",
              "      <th>profe_3</th>\n",
              "      <th>profe_4</th>\n",
              "      <th>profe_5</th>\n",
              "      <th>profe_6</th>\n",
              "      <th>profe_7</th>\n",
              "      <th>profe_8</th>\n",
              "      <th>profe_9</th>\n",
              "      <th>profe_10</th>\n",
              "      <th>acteco1</th>\n",
              "      <th>acteco2</th>\n",
              "      <th>acteco3</th>\n",
              "      <th>acteco4</th>\n",
              "      <th>acteco5</th>\n",
              "      <th>acteco6</th>\n",
              "      <th>acteco7</th>\n",
              "      <th>acteco8</th>\n",
              "      <th>acteco9</th>\n",
              "      <th>acteco10</th>\n",
              "      <th>acteco11</th>\n",
              "      <th>acteco12</th>\n",
              "      <th>acteco13</th>\n",
              "      <th>acteco14</th>\n",
              "      <th>acteco15</th>\n",
              "      <th>acteco16</th>\n",
              "      <th>acteco17</th>\n",
              "      <th>acteco18</th>\n",
              "      <th>acteco19</th>\n",
              "      <th>acteco20</th>\n",
              "      <th>acteco21</th>\n",
              "      <th>ocup_1</th>\n",
              "      <th>ocup_2</th>\n",
              "      <th>ocup_3</th>\n",
              "      <th>ocup_4</th>\n",
              "      <th>ocup_5</th>\n",
              "      <th>ocup_6</th>\n",
              "      <th>flag_censo</th>\n",
              "    </tr>\n",
              "  </thead>\n",
              "  <tbody>\n",
              "    <tr>\n",
              "      <th>0</th>\n",
              "      <td>106695</td>\n",
              "      <td>1.827118</td>\n",
              "      <td>-0.711359</td>\n",
              "      <td>-0.931515</td>\n",
              "      <td>-0.242328</td>\n",
              "      <td>-0.32701</td>\n",
              "      <td>-0.280674</td>\n",
              "      <td>-0.714361</td>\n",
              "      <td>-0.544996</td>\n",
              "      <td>-0.312923</td>\n",
              "      <td>-0.425825</td>\n",
              "      <td>-0.565415</td>\n",
              "      <td>-0.089094</td>\n",
              "      <td>-0.165019</td>\n",
              "      <td>-0.537031</td>\n",
              "      <td>-0.302006</td>\n",
              "      <td>-0.418318</td>\n",
              "      <td>-0.547005</td>\n",
              "      <td>-0.110158</td>\n",
              "      <td>-0.187616</td>\n",
              "      <td>4</td>\n",
              "      <td>-0.298620</td>\n",
              "      <td>-0.298620</td>\n",
              "      <td>-0.298620</td>\n",
              "      <td>-0.298620</td>\n",
              "      <td>-0.298620</td>\n",
              "      <td>-0.298620</td>\n",
              "      <td>-0.298620</td>\n",
              "      <td>-0.298620</td>\n",
              "      <td>-0.298620</td>\n",
              "      <td>-0.452057</td>\n",
              "      <td>-0.452057</td>\n",
              "      <td>-0.452057</td>\n",
              "      <td>-0.452057</td>\n",
              "      <td>-0.452057</td>\n",
              "      <td>-0.452057</td>\n",
              "      <td>-0.452057</td>\n",
              "      <td>-0.452057</td>\n",
              "      <td>-0.452057</td>\n",
              "      <td>-0.535443</td>\n",
              "      <td>...</td>\n",
              "      <td>-0.199376</td>\n",
              "      <td>-0.308000</td>\n",
              "      <td>-0.340184</td>\n",
              "      <td>-0.217179</td>\n",
              "      <td>-0.355359</td>\n",
              "      <td>-0.206882</td>\n",
              "      <td>-0.225646</td>\n",
              "      <td>-0.151014</td>\n",
              "      <td>-0.339847</td>\n",
              "      <td>-0.419854</td>\n",
              "      <td>-0.733954</td>\n",
              "      <td>-0.205903</td>\n",
              "      <td>-0.237047</td>\n",
              "      <td>-0.368741</td>\n",
              "      <td>-0.555645</td>\n",
              "      <td>-0.273762</td>\n",
              "      <td>-0.338135</td>\n",
              "      <td>0.041469</td>\n",
              "      <td>-0.511477</td>\n",
              "      <td>-0.457707</td>\n",
              "      <td>0.639525</td>\n",
              "      <td>-0.202316</td>\n",
              "      <td>-0.173108</td>\n",
              "      <td>-0.331307</td>\n",
              "      <td>-0.224216</td>\n",
              "      <td>-0.155999</td>\n",
              "      <td>-0.232125</td>\n",
              "      <td>-0.378461</td>\n",
              "      <td>-0.270605</td>\n",
              "      <td>-0.543045</td>\n",
              "      <td>-0.583661</td>\n",
              "      <td>-0.644919</td>\n",
              "      <td>-0.11823</td>\n",
              "      <td>-0.639720</td>\n",
              "      <td>-0.329153</td>\n",
              "      <td>-0.248796</td>\n",
              "      <td>-0.623164</td>\n",
              "      <td>-0.605414</td>\n",
              "      <td>-0.644919</td>\n",
              "      <td>0</td>\n",
              "    </tr>\n",
              "    <tr>\n",
              "      <th>1</th>\n",
              "      <td>271120</td>\n",
              "      <td>-0.480514</td>\n",
              "      <td>0.198531</td>\n",
              "      <td>0.054361</td>\n",
              "      <td>-0.242328</td>\n",
              "      <td>-0.32701</td>\n",
              "      <td>-0.280674</td>\n",
              "      <td>-0.104283</td>\n",
              "      <td>-0.060420</td>\n",
              "      <td>-0.312923</td>\n",
              "      <td>-0.485131</td>\n",
              "      <td>0.448644</td>\n",
              "      <td>-0.059923</td>\n",
              "      <td>-0.308719</td>\n",
              "      <td>-0.078552</td>\n",
              "      <td>-0.302006</td>\n",
              "      <td>-0.457537</td>\n",
              "      <td>0.462810</td>\n",
              "      <td>-0.162021</td>\n",
              "      <td>-0.317260</td>\n",
              "      <td>3</td>\n",
              "      <td>-0.298620</td>\n",
              "      <td>-0.298620</td>\n",
              "      <td>-0.298620</td>\n",
              "      <td>-0.298620</td>\n",
              "      <td>-0.298620</td>\n",
              "      <td>-0.298620</td>\n",
              "      <td>-0.298620</td>\n",
              "      <td>-0.298620</td>\n",
              "      <td>-0.298620</td>\n",
              "      <td>-0.412100</td>\n",
              "      <td>-0.412100</td>\n",
              "      <td>-0.412100</td>\n",
              "      <td>-0.412100</td>\n",
              "      <td>-0.412100</td>\n",
              "      <td>-0.412100</td>\n",
              "      <td>-0.412100</td>\n",
              "      <td>-0.412100</td>\n",
              "      <td>-0.412100</td>\n",
              "      <td>0.334792</td>\n",
              "      <td>...</td>\n",
              "      <td>-0.008364</td>\n",
              "      <td>-0.308000</td>\n",
              "      <td>0.017784</td>\n",
              "      <td>-0.139198</td>\n",
              "      <td>-0.500427</td>\n",
              "      <td>0.000321</td>\n",
              "      <td>-0.076505</td>\n",
              "      <td>0.239948</td>\n",
              "      <td>0.184462</td>\n",
              "      <td>0.143793</td>\n",
              "      <td>-0.041876</td>\n",
              "      <td>-0.205903</td>\n",
              "      <td>0.215731</td>\n",
              "      <td>-0.368741</td>\n",
              "      <td>-0.130826</td>\n",
              "      <td>-0.273762</td>\n",
              "      <td>-0.338135</td>\n",
              "      <td>-0.127766</td>\n",
              "      <td>-0.076081</td>\n",
              "      <td>0.214074</td>\n",
              "      <td>0.059442</td>\n",
              "      <td>0.017362</td>\n",
              "      <td>-0.402767</td>\n",
              "      <td>-0.331307</td>\n",
              "      <td>-0.171162</td>\n",
              "      <td>-0.658023</td>\n",
              "      <td>-0.007670</td>\n",
              "      <td>0.049331</td>\n",
              "      <td>-0.270605</td>\n",
              "      <td>-0.162191</td>\n",
              "      <td>-0.215123</td>\n",
              "      <td>-0.199299</td>\n",
              "      <td>-0.11823</td>\n",
              "      <td>-0.234777</td>\n",
              "      <td>-0.113894</td>\n",
              "      <td>-0.135995</td>\n",
              "      <td>0.032167</td>\n",
              "      <td>0.062284</td>\n",
              "      <td>-0.199299</td>\n",
              "      <td>0</td>\n",
              "    </tr>\n",
              "    <tr>\n",
              "      <th>2</th>\n",
              "      <td>63080</td>\n",
              "      <td>-0.192205</td>\n",
              "      <td>-0.216570</td>\n",
              "      <td>1.040236</td>\n",
              "      <td>-0.242328</td>\n",
              "      <td>-0.32701</td>\n",
              "      <td>-0.280674</td>\n",
              "      <td>-0.124272</td>\n",
              "      <td>0.607510</td>\n",
              "      <td>-0.312923</td>\n",
              "      <td>1.092421</td>\n",
              "      <td>-0.230260</td>\n",
              "      <td>0.961048</td>\n",
              "      <td>0.733106</td>\n",
              "      <td>0.572192</td>\n",
              "      <td>-0.302006</td>\n",
              "      <td>0.993563</td>\n",
              "      <td>-0.220300</td>\n",
              "      <td>0.927114</td>\n",
              "      <td>0.849535</td>\n",
              "      <td>2</td>\n",
              "      <td>-0.298620</td>\n",
              "      <td>-0.298620</td>\n",
              "      <td>-0.298620</td>\n",
              "      <td>-0.298620</td>\n",
              "      <td>-0.298620</td>\n",
              "      <td>-0.298620</td>\n",
              "      <td>-0.298620</td>\n",
              "      <td>-0.298620</td>\n",
              "      <td>-0.298620</td>\n",
              "      <td>1.106274</td>\n",
              "      <td>1.106274</td>\n",
              "      <td>1.106274</td>\n",
              "      <td>1.106274</td>\n",
              "      <td>1.106274</td>\n",
              "      <td>1.106274</td>\n",
              "      <td>1.106274</td>\n",
              "      <td>1.106274</td>\n",
              "      <td>1.106274</td>\n",
              "      <td>0.004703</td>\n",
              "      <td>...</td>\n",
              "      <td>-0.180274</td>\n",
              "      <td>0.137688</td>\n",
              "      <td>-0.340184</td>\n",
              "      <td>-0.035223</td>\n",
              "      <td>0.176559</td>\n",
              "      <td>0.069388</td>\n",
              "      <td>0.445490</td>\n",
              "      <td>-0.151014</td>\n",
              "      <td>0.097077</td>\n",
              "      <td>0.566528</td>\n",
              "      <td>-0.041876</td>\n",
              "      <td>-0.011010</td>\n",
              "      <td>-0.237047</td>\n",
              "      <td>0.360282</td>\n",
              "      <td>0.378958</td>\n",
              "      <td>-0.273762</td>\n",
              "      <td>-0.338135</td>\n",
              "      <td>-0.466236</td>\n",
              "      <td>0.177900</td>\n",
              "      <td>0.438002</td>\n",
              "      <td>0.494504</td>\n",
              "      <td>0.237039</td>\n",
              "      <td>-0.173108</td>\n",
              "      <td>-0.331307</td>\n",
              "      <td>-0.224216</td>\n",
              "      <td>0.513367</td>\n",
              "      <td>-0.232125</td>\n",
              "      <td>0.370175</td>\n",
              "      <td>-0.270605</td>\n",
              "      <td>1.742079</td>\n",
              "      <td>0.521952</td>\n",
              "      <td>0.246320</td>\n",
              "      <td>-0.11823</td>\n",
              "      <td>0.035186</td>\n",
              "      <td>0.224369</td>\n",
              "      <td>0.117805</td>\n",
              "      <td>-0.131666</td>\n",
              "      <td>1.063831</td>\n",
              "      <td>0.246320</td>\n",
              "      <td>0</td>\n",
              "    </tr>\n",
              "    <tr>\n",
              "      <th>3</th>\n",
              "      <td>107681</td>\n",
              "      <td>-0.803171</td>\n",
              "      <td>0.748640</td>\n",
              "      <td>1.040236</td>\n",
              "      <td>-0.242328</td>\n",
              "      <td>-0.32701</td>\n",
              "      <td>-0.280674</td>\n",
              "      <td>-0.540244</td>\n",
              "      <td>-0.658501</td>\n",
              "      <td>-0.131975</td>\n",
              "      <td>-0.437686</td>\n",
              "      <td>-0.599790</td>\n",
              "      <td>-0.439141</td>\n",
              "      <td>-0.308719</td>\n",
              "      <td>-0.625768</td>\n",
              "      <td>-0.136362</td>\n",
              "      <td>-0.418318</td>\n",
              "      <td>-0.576705</td>\n",
              "      <td>-0.421339</td>\n",
              "      <td>-0.317260</td>\n",
              "      <td>4</td>\n",
              "      <td>-0.128909</td>\n",
              "      <td>-0.128909</td>\n",
              "      <td>-0.128909</td>\n",
              "      <td>-0.128909</td>\n",
              "      <td>-0.128909</td>\n",
              "      <td>-0.128909</td>\n",
              "      <td>-0.128909</td>\n",
              "      <td>-0.128909</td>\n",
              "      <td>-0.128909</td>\n",
              "      <td>-0.412100</td>\n",
              "      <td>-0.412100</td>\n",
              "      <td>-0.412100</td>\n",
              "      <td>-0.412100</td>\n",
              "      <td>-0.412100</td>\n",
              "      <td>-0.412100</td>\n",
              "      <td>-0.412100</td>\n",
              "      <td>-0.412100</td>\n",
              "      <td>-0.412100</td>\n",
              "      <td>-0.565451</td>\n",
              "      <td>...</td>\n",
              "      <td>-0.485894</td>\n",
              "      <td>-0.382281</td>\n",
              "      <td>0.017784</td>\n",
              "      <td>-0.451123</td>\n",
              "      <td>-0.500427</td>\n",
              "      <td>-0.621288</td>\n",
              "      <td>-0.598499</td>\n",
              "      <td>-0.151014</td>\n",
              "      <td>-0.514617</td>\n",
              "      <td>-0.842590</td>\n",
              "      <td>-0.657057</td>\n",
              "      <td>-0.205903</td>\n",
              "      <td>0.064805</td>\n",
              "      <td>-0.368741</td>\n",
              "      <td>-0.470681</td>\n",
              "      <td>-0.273762</td>\n",
              "      <td>-0.338135</td>\n",
              "      <td>-0.804707</td>\n",
              "      <td>-0.547760</td>\n",
              "      <td>-0.793597</td>\n",
              "      <td>-0.665663</td>\n",
              "      <td>-0.421994</td>\n",
              "      <td>-0.402767</td>\n",
              "      <td>-0.331307</td>\n",
              "      <td>-0.542542</td>\n",
              "      <td>-0.658023</td>\n",
              "      <td>-0.456580</td>\n",
              "      <td>-0.699305</td>\n",
              "      <td>-0.487390</td>\n",
              "      <td>-0.543045</td>\n",
              "      <td>-0.215123</td>\n",
              "      <td>-0.644919</td>\n",
              "      <td>-0.11823</td>\n",
              "      <td>-0.369758</td>\n",
              "      <td>-0.698168</td>\n",
              "      <td>-0.530797</td>\n",
              "      <td>-0.705080</td>\n",
              "      <td>-0.605414</td>\n",
              "      <td>-0.644919</td>\n",
              "      <td>0</td>\n",
              "    </tr>\n",
              "    <tr>\n",
              "      <th>4</th>\n",
              "      <td>107336</td>\n",
              "      <td>1.983624</td>\n",
              "      <td>-1.649749</td>\n",
              "      <td>-0.931515</td>\n",
              "      <td>-0.242328</td>\n",
              "      <td>-0.32701</td>\n",
              "      <td>-0.280674</td>\n",
              "      <td>-0.104283</td>\n",
              "      <td>-0.470782</td>\n",
              "      <td>0.669365</td>\n",
              "      <td>0.048627</td>\n",
              "      <td>-0.694321</td>\n",
              "      <td>-0.643335</td>\n",
              "      <td>-0.452419</td>\n",
              "      <td>-0.403924</td>\n",
              "      <td>0.609035</td>\n",
              "      <td>0.130747</td>\n",
              "      <td>-0.665807</td>\n",
              "      <td>-0.628794</td>\n",
              "      <td>-0.446903</td>\n",
              "      <td>2</td>\n",
              "      <td>0.804502</td>\n",
              "      <td>0.804502</td>\n",
              "      <td>0.804502</td>\n",
              "      <td>0.804502</td>\n",
              "      <td>0.804502</td>\n",
              "      <td>0.804502</td>\n",
              "      <td>0.804502</td>\n",
              "      <td>0.804502</td>\n",
              "      <td>0.804502</td>\n",
              "      <td>-0.012528</td>\n",
              "      <td>-0.012528</td>\n",
              "      <td>-0.012528</td>\n",
              "      <td>-0.012528</td>\n",
              "      <td>-0.012528</td>\n",
              "      <td>-0.012528</td>\n",
              "      <td>-0.012528</td>\n",
              "      <td>-0.012528</td>\n",
              "      <td>-0.012528</td>\n",
              "      <td>-0.655475</td>\n",
              "      <td>...</td>\n",
              "      <td>0.010738</td>\n",
              "      <td>0.509094</td>\n",
              "      <td>0.017784</td>\n",
              "      <td>0.042758</td>\n",
              "      <td>-0.258646</td>\n",
              "      <td>-0.345017</td>\n",
              "      <td>-0.710355</td>\n",
              "      <td>-0.151014</td>\n",
              "      <td>-0.776772</td>\n",
              "      <td>-0.842590</td>\n",
              "      <td>-0.733954</td>\n",
              "      <td>-0.205903</td>\n",
              "      <td>-0.086121</td>\n",
              "      <td>0.360282</td>\n",
              "      <td>-0.555645</td>\n",
              "      <td>-0.273762</td>\n",
              "      <td>-0.338135</td>\n",
              "      <td>-0.297001</td>\n",
              "      <td>-0.692892</td>\n",
              "      <td>-0.793597</td>\n",
              "      <td>-0.520642</td>\n",
              "      <td>-0.421994</td>\n",
              "      <td>0.056551</td>\n",
              "      <td>-0.331307</td>\n",
              "      <td>-0.011999</td>\n",
              "      <td>-0.658023</td>\n",
              "      <td>-0.232125</td>\n",
              "      <td>-0.271513</td>\n",
              "      <td>-0.053820</td>\n",
              "      <td>-0.162191</td>\n",
              "      <td>-0.583661</td>\n",
              "      <td>-0.199299</td>\n",
              "      <td>-0.11823</td>\n",
              "      <td>-0.099795</td>\n",
              "      <td>-0.667416</td>\n",
              "      <td>-0.276996</td>\n",
              "      <td>-0.786996</td>\n",
              "      <td>-0.605414</td>\n",
              "      <td>-0.199299</td>\n",
              "      <td>0</td>\n",
              "    </tr>\n",
              "  </tbody>\n",
              "</table>\n",
              "<p>5 rows × 256 columns</p>\n",
              "</div>"
            ],
            "text/plain": [
              "   key_value     lon_x     lat_y  ...    ocup_5    ocup_6  flag_censo\n",
              "0     106695  1.827118 -0.711359  ... -0.605414 -0.644919           0\n",
              "1     271120 -0.480514  0.198531  ...  0.062284 -0.199299           0\n",
              "2      63080 -0.192205 -0.216570  ...  1.063831  0.246320           0\n",
              "3     107681 -0.803171  0.748640  ... -0.605414 -0.644919           0\n",
              "4     107336  1.983624 -1.649749  ... -0.605414 -0.199299           0\n",
              "\n",
              "[5 rows x 256 columns]"
            ]
          },
          "metadata": {
            "tags": []
          },
          "execution_count": 46
        }
      ]
    },
    {
      "cell_type": "code",
      "metadata": {
        "colab": {
          "base_uri": "https://localhost:8080/"
        },
        "id": "eC49fykQaRBS",
        "outputId": "8ea914ee-48b1-4e9d-8121-0f5b3b84a324"
      },
      "source": [
        "df_censo_train.shape, df_censo_train[\"key_value\"].nunique()"
      ],
      "execution_count": null,
      "outputs": [
        {
          "output_type": "execute_result",
          "data": {
            "text/plain": [
              "((153139, 256), 153139)"
            ]
          },
          "metadata": {
            "tags": []
          },
          "execution_count": 52
        }
      ]
    },
    {
      "cell_type": "code",
      "metadata": {
        "colab": {
          "base_uri": "https://localhost:8080/"
        },
        "id": "okbjUie-bAMb",
        "outputId": "c500a818-6b1d-4891-93d1-db0a1e01134f"
      },
      "source": [
        "df_censo_test.shape, df_censo_test[\"key_value\"].nunique()"
      ],
      "execution_count": null,
      "outputs": [
        {
          "output_type": "execute_result",
          "data": {
            "text/plain": [
              "((200499, 256), 200499)"
            ]
          },
          "metadata": {
            "tags": []
          },
          "execution_count": 53
        }
      ]
    },
    {
      "cell_type": "markdown",
      "metadata": {
        "id": "9Ybce2rt0S1I"
      },
      "source": [
        "## Todos los Datasets"
      ]
    },
    {
      "cell_type": "code",
      "metadata": {
        "colab": {
          "base_uri": "https://localhost:8080/"
        },
        "id": "YjK7LUVRLiSS",
        "outputId": "c5dbb572-9bbb-42ac-b4dc-9e546b483d4c"
      },
      "source": [
        "!ls -lh '[01] Intermediate'"
      ],
      "execution_count": null,
      "outputs": [
        {
          "output_type": "stream",
          "text": [
            "total 2.0G\n",
            "-rw------- 1 root root 521M Dec 20 17:16 ds_rcc.csv\n",
            "-rw------- 1 root root 185M Dec 18 16:51 ds_rcc_instit.csv\n",
            "-rw------- 1 root root 204M Dec 18 16:51 ds_rcc_instit_test.csv\n",
            "-rw------- 1 root root 576M Dec 20 17:18 ds_rcc_test.csv\n",
            "-rw------- 1 root root  22M Dec 20 13:20 ds_se.csv\n",
            "-rw------- 1 root root  24M Dec 20 13:20 ds_se_test.csv\n",
            "-rw------- 1 root root  18M Dec 31 19:34 ds_sunat.csv\n",
            "-rw------- 1 root root  20M Dec 31 19:34 ds_sunat_test.csv\n",
            "-rw------- 1 root root 192M Dec 31 13:48 rcc_product_level.csv\n",
            "-rw------- 1 root root 212M Dec 31 17:27 rcc_product_level_test.csv\n"
          ],
          "name": "stdout"
        }
      ]
    },
    {
      "cell_type": "markdown",
      "metadata": {
        "id": "1APWyEke0YGB"
      },
      "source": [
        "---"
      ]
    }
  ]
}